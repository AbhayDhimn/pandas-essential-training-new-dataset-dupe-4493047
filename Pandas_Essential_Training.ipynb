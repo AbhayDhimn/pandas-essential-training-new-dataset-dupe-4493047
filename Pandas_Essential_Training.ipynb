{
  "cells": [
    {
      "cell_type": "markdown",
      "metadata": {
        "id": "Qam369vSO_rt"
      },
      "source": [
        "# Pandas Essential Training"
      ]
    },
    {
      "cell_type": "markdown",
      "metadata": {
        "id": "nIp_KPjfO4J9"
      },
      "source": [
        "## Using pandas"
      ]
    },
    {
      "cell_type": "code",
      "execution_count": null,
      "metadata": {
        "id": "cKNZud6X4_RL"
      },
      "outputs": [],
      "source": [
        "!pip install pandas==2.0.2"
      ]
    },
    {
      "cell_type": "code",
      "execution_count": null,
      "metadata": {
        "collapsed": true,
        "id": "fQ2h5qjgO4J9"
      },
      "outputs": [],
      "source": [
        "import pandas"
      ]
    },
    {
      "cell_type": "code",
      "execution_count": null,
      "metadata": {
        "collapsed": true,
        "id": "SaGxEO5YO4J-"
      },
      "outputs": [],
      "source": [
        "import pandas as pd"
      ]
    },
    {
      "cell_type": "code",
      "execution_count": null,
      "metadata": {
        "id": "C5JAgwmYO4J-"
      },
      "outputs": [],
      "source": [
        "pd.__version__"
      ]
    },
    {
      "cell_type": "code",
      "execution_count": null,
      "metadata": {
        "id": "n53FOqGY4T64"
      },
      "outputs": [],
      "source": [
        "dir(pd)"
      ]
    },
    {
      "cell_type": "code",
      "execution_count": null,
      "metadata": {
        "collapsed": true,
        "id": "9-fFPNt1O4J-"
      },
      "outputs": [],
      "source": [
        "help(pd.read_csv)"
      ]
    },
    {
      "cell_type": "code",
      "execution_count": null,
      "metadata": {
        "collapsed": true,
        "id": "_vn0ZFdNO4J-"
      },
      "outputs": [],
      "source": [
        "pd.read_csv?"
      ]
    },
    {
      "cell_type": "markdown",
      "metadata": {
        "id": "43a6ZoJNbemF"
      },
      "source": [
        "Pandas documentation: https://pandas.pydata.org/docs/reference/index.html"
      ]
    },
    {
      "cell_type": "markdown",
      "metadata": {
        "id": "1QP__-BYFIFN"
      },
      "source": [
        "## Reading tabular data into pandas"
      ]
    },
    {
      "cell_type": "code",
      "execution_count": null,
      "metadata": {
        "id": "JaItBRQ4FlFv"
      },
      "outputs": [],
      "source": [
        "!wget https://github.com/jonfernandes/pandas_essential/raw/main/olympics_1896_2004.csv"
      ]
    },
    {
      "cell_type": "code",
      "source": [
        "#from google.colab import files\n",
        "#files.upload()"
      ],
      "metadata": {
        "id": "Pelnz4PfgRQ0"
      },
      "execution_count": null,
      "outputs": []
    },
    {
      "cell_type": "code",
      "execution_count": null,
      "metadata": {
        "id": "uYdq9LXLFlFv"
      },
      "outputs": [],
      "source": [
        "!ls -la"
      ]
    },
    {
      "cell_type": "code",
      "source": [
        "pd.read_csv?"
      ],
      "metadata": {
        "id": "Mk90BrMQg38E"
      },
      "execution_count": null,
      "outputs": []
    },
    {
      "cell_type": "code",
      "execution_count": null,
      "metadata": {
        "id": "psxZiLijFuga"
      },
      "outputs": [],
      "source": [
        "pd.read_csv('olympics_1896_2004.csv')"
      ]
    },
    {
      "cell_type": "code",
      "source": [
        "pd.read_csv(filepath_or_buffer='olympics_1896_2004.csv')"
      ],
      "metadata": {
        "id": "VB9FV0fahAcN"
      },
      "execution_count": null,
      "outputs": []
    },
    {
      "cell_type": "code",
      "execution_count": null,
      "metadata": {
        "id": "zk_3a5XhFlFv"
      },
      "outputs": [],
      "source": [
        "oo = pd.read_csv('olympics_1896_2004.csv')\n",
        "oo"
      ]
    },
    {
      "cell_type": "code",
      "execution_count": null,
      "metadata": {
        "id": "MfCWgZclFlFw"
      },
      "outputs": [],
      "source": [
        "oo = pd.read_csv('olympics_1896_2004.csv', skiprows=5)\n",
        "oo"
      ]
    },
    {
      "cell_type": "code",
      "execution_count": null,
      "metadata": {
        "id": "n57rypsOiifF"
      },
      "outputs": [],
      "source": [
        "filename = \"olympics_1896_2004.csv\""
      ]
    },
    {
      "cell_type": "code",
      "source": [
        "#from google.colab import files\n",
        "#files.upload()"
      ],
      "metadata": {
        "id": "09cr8R36lFSn"
      },
      "execution_count": null,
      "outputs": []
    },
    {
      "cell_type": "code",
      "source": [],
      "metadata": {
        "id": "HMT-uLXYvbKU"
      },
      "execution_count": null,
      "outputs": []
    },
    {
      "cell_type": "markdown",
      "metadata": {
        "id": "LRcakh4dQzWs"
      },
      "source": [
        "## Get an overview of the data and displaying it"
      ]
    },
    {
      "cell_type": "code",
      "source": [
        "!pip install --quiet pandas==2.0.2\n",
        "\n",
        "import pandas as pd\n",
        "from pathlib import Path\n",
        "\n",
        "if not Path(\"olympics_1896_2004.csv\").exists():\n",
        "  !wget https://github.com/jonfernandes/pandas_essential/raw/main/olympics_1896_2004.csv\n",
        "\n",
        "filename = \"olympics_1896_2004.csv\"\n",
        "print(\"Installed all of the necessary files for this section ...\")"
      ],
      "metadata": {
        "id": "wL5WNwGHZlOK"
      },
      "execution_count": null,
      "outputs": []
    },
    {
      "cell_type": "code",
      "execution_count": null,
      "metadata": {
        "id": "JDZYsEWnzkGK"
      },
      "outputs": [],
      "source": [
        "oo = pd.read_csv(filename, skiprows=5)\n",
        "oo"
      ]
    },
    {
      "cell_type": "code",
      "execution_count": null,
      "metadata": {
        "id": "o3NIzDxyQzWs"
      },
      "outputs": [],
      "source": [
        "oo.shape"
      ]
    },
    {
      "cell_type": "code",
      "source": [
        "oo.shape?"
      ],
      "metadata": {
        "id": "B6asCtrReVJ5"
      },
      "execution_count": null,
      "outputs": []
    },
    {
      "cell_type": "code",
      "execution_count": null,
      "metadata": {
        "id": "0PCE_iXpQzWt"
      },
      "outputs": [],
      "source": [
        "oo.head()"
      ]
    },
    {
      "cell_type": "code",
      "execution_count": null,
      "metadata": {
        "id": "k7QFGUXEy8wk"
      },
      "outputs": [],
      "source": [
        "oo.head?"
      ]
    },
    {
      "cell_type": "code",
      "execution_count": null,
      "metadata": {
        "id": "VCOdQQZg9uVN"
      },
      "outputs": [],
      "source": [
        "oo.head(3)"
      ]
    },
    {
      "cell_type": "code",
      "execution_count": null,
      "metadata": {
        "id": "B_P8jwG0QzWt"
      },
      "outputs": [],
      "source": [
        "oo.tail()"
      ]
    },
    {
      "cell_type": "code",
      "execution_count": null,
      "metadata": {
        "id": "f5rgxIri9xlj"
      },
      "outputs": [],
      "source": [
        "oo.sample(5)"
      ]
    },
    {
      "cell_type": "code",
      "source": [
        "oo.sample?"
      ],
      "metadata": {
        "id": "Pj4QBYANegDD"
      },
      "execution_count": null,
      "outputs": []
    },
    {
      "cell_type": "code",
      "execution_count": null,
      "metadata": {
        "id": "oyvg0lNQQzWu"
      },
      "outputs": [],
      "source": [
        "oo.info()"
      ]
    },
    {
      "cell_type": "code",
      "execution_count": null,
      "metadata": {
        "id": "aNUD6Ndobv4U"
      },
      "outputs": [],
      "source": [
        "oo.describe()"
      ]
    },
    {
      "cell_type": "code",
      "execution_count": null,
      "metadata": {
        "id": "CMuwyzFyWvq4"
      },
      "outputs": [],
      "source": [
        "pd.get_option(\"display.max_rows\")"
      ]
    },
    {
      "cell_type": "code",
      "execution_count": null,
      "metadata": {
        "id": "3pZ5LHvnV7TA"
      },
      "outputs": [],
      "source": [
        "pd.set_option(\"display.max_rows\", None)\n",
        "oo"
      ]
    },
    {
      "cell_type": "code",
      "execution_count": null,
      "metadata": {
        "id": "44cpSDDbWEoT"
      },
      "outputs": [],
      "source": [
        "pd.set_option(\"display.max_rows\", 60)\n",
        "oo"
      ]
    },
    {
      "cell_type": "code",
      "source": [
        "pd.get_option(\"display.max_columns\")"
      ],
      "metadata": {
        "id": "6LC6MhhvkJ7w"
      },
      "execution_count": null,
      "outputs": []
    },
    {
      "cell_type": "code",
      "source": [
        "pd.get_option(\"display.width\")"
      ],
      "metadata": {
        "id": "OodXDgN0k3_6"
      },
      "execution_count": null,
      "outputs": []
    },
    {
      "cell_type": "code",
      "source": [
        "pd.set_option(\"display.width\", 100)"
      ],
      "metadata": {
        "id": "3I4G6skCk_-w"
      },
      "execution_count": null,
      "outputs": []
    },
    {
      "cell_type": "markdown",
      "metadata": {
        "id": "vto6K36OcbBY"
      },
      "source": [
        "## Select a Series (column)"
      ]
    },
    {
      "cell_type": "code",
      "source": [
        "!pip install --quiet pandas==2.0.2\n",
        "\n",
        "import pandas as pd\n",
        "from pathlib import Path\n",
        "\n",
        "if not Path(\"olympics_1896_2004.csv\").exists():\n",
        "  !wget https://github.com/jonfernandes/pandas_essential/raw/main/olympics_1896_2004.csv\n",
        "\n",
        "filename = \"olympics_1896_2004.csv\"\n",
        "print(\"Installed all of the necessary files for this section ...\")"
      ],
      "metadata": {
        "id": "tpDuBbu6aqdo"
      },
      "execution_count": null,
      "outputs": []
    },
    {
      "cell_type": "code",
      "execution_count": null,
      "metadata": {
        "id": "K9h2_rrOiztl"
      },
      "outputs": [],
      "source": [
        "oo = pd.read_csv(filename, skiprows=5)\n",
        "oo.sample(3)"
      ]
    },
    {
      "cell_type": "code",
      "execution_count": null,
      "metadata": {
        "id": "SYDcU5ydfcOA"
      },
      "outputs": [],
      "source": [
        "type(oo)"
      ]
    },
    {
      "cell_type": "code",
      "execution_count": null,
      "metadata": {
        "id": "QGyLHeXechHL"
      },
      "outputs": [],
      "source": [
        "oo[\"Discipline\"]"
      ]
    },
    {
      "cell_type": "code",
      "execution_count": null,
      "metadata": {
        "id": "03mViRO_jVle"
      },
      "outputs": [],
      "source": [
        "oo['Discipline']"
      ]
    },
    {
      "cell_type": "code",
      "execution_count": null,
      "metadata": {
        "id": "fHkIb8rBchHM"
      },
      "outputs": [],
      "source": [
        "#oo[\"discipline\"]"
      ]
    },
    {
      "cell_type": "code",
      "execution_count": null,
      "metadata": {
        "id": "YAftK9Qvj9nv"
      },
      "outputs": [],
      "source": [
        "type(oo[\"Discipline\"])"
      ]
    },
    {
      "cell_type": "code",
      "execution_count": null,
      "metadata": {
        "id": "yKj8_1ZPchHM"
      },
      "outputs": [],
      "source": [
        "oo.Discipline"
      ]
    },
    {
      "cell_type": "code",
      "execution_count": null,
      "metadata": {
        "id": "VbDpqF7ajkRz"
      },
      "outputs": [],
      "source": [
        "oo.columns"
      ]
    },
    {
      "cell_type": "code",
      "execution_count": null,
      "metadata": {
        "id": "c_g6y8_ochHM"
      },
      "outputs": [],
      "source": [
        "oo[\"Athlete Name\"]"
      ]
    },
    {
      "cell_type": "code",
      "execution_count": null,
      "metadata": {
        "id": "LUj-Fr0ichHM"
      },
      "outputs": [],
      "source": [
        "#oo.Athlete Name"
      ]
    },
    {
      "cell_type": "code",
      "source": [
        "oo.sample(3)"
      ],
      "metadata": {
        "id": "MRnsL11AoJJY"
      },
      "execution_count": null,
      "outputs": []
    },
    {
      "cell_type": "code",
      "source": [
        "oo.Year.unique()"
      ],
      "metadata": {
        "id": "yRHMYUlbnvR9"
      },
      "execution_count": null,
      "outputs": []
    },
    {
      "cell_type": "code",
      "source": [
        "oo.Year.unique?"
      ],
      "metadata": {
        "id": "GGX0bbMNoRNa"
      },
      "execution_count": null,
      "outputs": []
    },
    {
      "cell_type": "code",
      "source": [
        "oo.Sport.unique()"
      ],
      "metadata": {
        "id": "C6oOf_7Zn9eS"
      },
      "execution_count": null,
      "outputs": []
    },
    {
      "cell_type": "code",
      "source": [
        "oo.sample(3)"
      ],
      "metadata": {
        "id": "_7eyeVfEoXJg"
      },
      "execution_count": null,
      "outputs": []
    },
    {
      "cell_type": "code",
      "source": [
        "oo.Year.value_counts()"
      ],
      "metadata": {
        "id": "HlLqBDkaodQx"
      },
      "execution_count": null,
      "outputs": []
    },
    {
      "cell_type": "code",
      "source": [
        "oo.Year.value_counts?"
      ],
      "metadata": {
        "id": "4bDPb1J8o-8p"
      },
      "execution_count": null,
      "outputs": []
    },
    {
      "cell_type": "code",
      "source": [
        "oo.Year.value_counts(normalize=True)"
      ],
      "metadata": {
        "id": "VH4wKXONpYwh"
      },
      "execution_count": null,
      "outputs": []
    },
    {
      "cell_type": "markdown",
      "source": [
        "## Challenge 1"
      ],
      "metadata": {
        "id": "Y7NNcfO4xlea"
      }
    },
    {
      "cell_type": "markdown",
      "source": [
        "Answer the following questions. Indicate the Pandas command where relevant.\n",
        "\n",
        "1.   What is the time range covered in this dataset?\n",
        "2.   The Olympics take place every 4 years. Why are there missing years?\n",
        "3.   What are the types of medals awarded?\n",
        "4.   Across all of the Olympic Games, how many Gold, Silver and Bronze medals have there been?\n",
        "5.   Why are there not an equal number of Gold, Silver and Bronze medals?\n",
        "6.   There are more Gold medals than Silver, and more Silver than Bronze. Why might that be?\n",
        "7.   What are the different NOCs (National Olympic Committees)\n",
        "8.   What does the NOC 'ZZX' represent?\n",
        "\n",
        "\n"
      ],
      "metadata": {
        "id": "8zCUnsNAxo-g"
      }
    },
    {
      "cell_type": "code",
      "source": [
        "!pip install --quiet pandas==2.0.2\n",
        "\n",
        "import pandas as pd\n",
        "from pathlib import Path\n",
        "\n",
        "if not Path(\"olympics_1896_2004.csv\").exists():\n",
        "  !wget https://github.com/jonfernandes/pandas_essential/raw/main/olympics_1896_2004.csv\n",
        "\n",
        "filename = \"olympics_1896_2004.csv\"\n",
        "print(\"Installed all of the necessary files for this section ...\")\n",
        "\n",
        "oo = pd.read_csv(filename, skiprows=5)"
      ],
      "metadata": {
        "colab": {
          "base_uri": "https://localhost:8080/"
        },
        "id": "7ygxnQhMwBxB",
        "outputId": "0b3978c2-6e05-4f6a-e568-7fba046c69f8"
      },
      "execution_count": null,
      "outputs": [
        {
          "output_type": "stream",
          "name": "stdout",
          "text": [
            "\u001b[2K   \u001b[90m━━━━━━━━━━━━━━━━━━━━━━━━━━━━━━━━━━━━━━━━\u001b[0m \u001b[32m12.3/12.3 MB\u001b[0m \u001b[31m34.2 MB/s\u001b[0m eta \u001b[36m0:00:00\u001b[0m\n",
            "\u001b[?25h\u001b[31mERROR: pip's dependency resolver does not currently take into account all the packages that are installed. This behaviour is the source of the following dependency conflicts.\n",
            "google-colab 1.0.0 requires pandas==2.2.2, but you have pandas 2.0.2 which is incompatible.\n",
            "mizani 0.13.0 requires pandas>=2.2.0, but you have pandas 2.0.2 which is incompatible.\n",
            "plotnine 0.14.1 requires pandas>=2.2.0, but you have pandas 2.0.2 which is incompatible.\n",
            "xarray 2024.10.0 requires pandas>=2.1, but you have pandas 2.0.2 which is incompatible.\u001b[0m\u001b[31m\n",
            "\u001b[0m--2024-12-03 02:17:10--  https://github.com/jonfernandes/pandas_essential/raw/main/olympics_1896_2004.csv\n",
            "Resolving github.com (github.com)... 140.82.114.3\n",
            "Connecting to github.com (github.com)|140.82.114.3|:443... connected.\n",
            "HTTP request sent, awaiting response... 302 Found\n",
            "Location: https://raw.githubusercontent.com/jonfernandes/pandas_essential/main/olympics_1896_2004.csv [following]\n",
            "--2024-12-03 02:17:11--  https://raw.githubusercontent.com/jonfernandes/pandas_essential/main/olympics_1896_2004.csv\n",
            "Resolving raw.githubusercontent.com (raw.githubusercontent.com)... 185.199.108.133, 185.199.109.133, 185.199.110.133, ...\n",
            "Connecting to raw.githubusercontent.com (raw.githubusercontent.com)|185.199.108.133|:443... connected.\n",
            "HTTP request sent, awaiting response... 200 OK\n",
            "Length: 2398388 (2.3M) [text/plain]\n",
            "Saving to: ‘olympics_1896_2004.csv’\n",
            "\n",
            "olympics_1896_2004. 100%[===================>]   2.29M  --.-KB/s    in 0.05s   \n",
            "\n",
            "2024-12-03 02:17:11 (50.1 MB/s) - ‘olympics_1896_2004.csv’ saved [2398388/2398388]\n",
            "\n",
            "Installed all of the necessary files for this section ...\n"
          ]
        }
      ]
    },
    {
      "cell_type": "markdown",
      "source": [
        "1. What is the time range covered in this dataset?\n",
        "\n",
        "The time range covered is 1896-2004, I determined this by looking at the output of the \"describe\" function on the numerical column \"Year\""
      ],
      "metadata": {
        "id": "M6iAbsco8s2o"
      }
    },
    {
      "cell_type": "code",
      "source": [
        "oo.Year.describe()"
      ],
      "metadata": {
        "colab": {
          "base_uri": "https://localhost:8080/",
          "height": 335
        },
        "id": "2I30MBwiwFk7",
        "outputId": "ae1ce68c-0add-4cbe-d863-db0e2685dd0e"
      },
      "execution_count": null,
      "outputs": [
        {
          "output_type": "execute_result",
          "data": {
            "text/plain": [
              "count    27174.000000\n",
              "mean      1964.685803\n",
              "std         31.590396\n",
              "min       1896.000000\n",
              "25%       1936.000000\n",
              "50%       1972.000000\n",
              "75%       1992.000000\n",
              "max       2004.000000\n",
              "Name: Year, dtype: float64"
            ],
            "text/html": [
              "<div>\n",
              "<style scoped>\n",
              "    .dataframe tbody tr th:only-of-type {\n",
              "        vertical-align: middle;\n",
              "    }\n",
              "\n",
              "    .dataframe tbody tr th {\n",
              "        vertical-align: top;\n",
              "    }\n",
              "\n",
              "    .dataframe thead th {\n",
              "        text-align: right;\n",
              "    }\n",
              "</style>\n",
              "<table border=\"1\" class=\"dataframe\">\n",
              "  <thead>\n",
              "    <tr style=\"text-align: right;\">\n",
              "      <th></th>\n",
              "      <th>Year</th>\n",
              "    </tr>\n",
              "  </thead>\n",
              "  <tbody>\n",
              "    <tr>\n",
              "      <th>count</th>\n",
              "      <td>27174.000000</td>\n",
              "    </tr>\n",
              "    <tr>\n",
              "      <th>mean</th>\n",
              "      <td>1964.685803</td>\n",
              "    </tr>\n",
              "    <tr>\n",
              "      <th>std</th>\n",
              "      <td>31.590396</td>\n",
              "    </tr>\n",
              "    <tr>\n",
              "      <th>min</th>\n",
              "      <td>1896.000000</td>\n",
              "    </tr>\n",
              "    <tr>\n",
              "      <th>25%</th>\n",
              "      <td>1936.000000</td>\n",
              "    </tr>\n",
              "    <tr>\n",
              "      <th>50%</th>\n",
              "      <td>1972.000000</td>\n",
              "    </tr>\n",
              "    <tr>\n",
              "      <th>75%</th>\n",
              "      <td>1992.000000</td>\n",
              "    </tr>\n",
              "    <tr>\n",
              "      <th>max</th>\n",
              "      <td>2004.000000</td>\n",
              "    </tr>\n",
              "  </tbody>\n",
              "</table>\n",
              "</div><br><label><b>dtype:</b> float64</label>"
            ]
          },
          "metadata": {},
          "execution_count": 9
        }
      ]
    },
    {
      "cell_type": "markdown",
      "source": [
        "2. The Olympics take place every 4 years. Why are there missing years?\n",
        "\n",
        "1940 and 1944 are missing because the Olympics was cancalled due to World War II. 1916 was cancelled due to World War I. I used the \"unique\" function to confirm that only those 3 years are missing."
      ],
      "metadata": {
        "id": "o_j8jzlYxfVF"
      }
    },
    {
      "cell_type": "code",
      "source": [
        "oo.Year.unique()"
      ],
      "metadata": {
        "colab": {
          "base_uri": "https://localhost:8080/"
        },
        "id": "7pA6CXBgxpLQ",
        "outputId": "dd90758a-7d3c-4a3a-8702-93496cbe43c4"
      },
      "execution_count": null,
      "outputs": [
        {
          "output_type": "execute_result",
          "data": {
            "text/plain": [
              "array([1896, 1900, 1904, 1908, 1912, 1920, 1924, 1928, 1932, 1936, 1948,\n",
              "       1952, 1956, 1960, 1964, 1968, 1972, 1976, 1980, 1984, 1988, 1992,\n",
              "       1996, 2000, 2004])"
            ]
          },
          "metadata": {},
          "execution_count": 10
        }
      ]
    },
    {
      "cell_type": "markdown",
      "source": [
        "3. What are the types of medals awarded?\n",
        "\n",
        "The types of medals awarded are Gold, Silver, and Bronze only. I confirmed below with the \"unique\" function on the \"Medal\" column."
      ],
      "metadata": {
        "id": "3D30Qt8nySq6"
      }
    },
    {
      "cell_type": "code",
      "source": [
        "oo.Medal.unique()"
      ],
      "metadata": {
        "colab": {
          "base_uri": "https://localhost:8080/"
        },
        "id": "8sLHu1ngydSM",
        "outputId": "de4d60af-ac24-4cf6-ea5e-565f4ef1138e"
      },
      "execution_count": null,
      "outputs": [
        {
          "output_type": "execute_result",
          "data": {
            "text/plain": [
              "array(['Gold', 'Silver', 'Bronze'], dtype=object)"
            ]
          },
          "metadata": {},
          "execution_count": 12
        }
      ]
    },
    {
      "cell_type": "markdown",
      "source": [
        "4. Across all of the Olympic Games, how many Gold, Silver and Bronze medals have there been?\n",
        "\n",
        "There have been 9181 Gold medals, 9014 Silver medals, and 8979 Bronze medals. I used the \"value_counts\" function to determine this below."
      ],
      "metadata": {
        "id": "0dR18K4TyzPY"
      }
    },
    {
      "cell_type": "code",
      "source": [
        "oo.Medal.value_counts()"
      ],
      "metadata": {
        "colab": {
          "base_uri": "https://localhost:8080/",
          "height": 210
        },
        "id": "y2tIhWwvy3aO",
        "outputId": "508f97bd-54f7-4ee8-bdb6-80c4c61fd09b"
      },
      "execution_count": null,
      "outputs": [
        {
          "output_type": "execute_result",
          "data": {
            "text/plain": [
              "Medal\n",
              "Gold      9181\n",
              "Silver    9014\n",
              "Bronze    8979\n",
              "Name: count, dtype: int64"
            ],
            "text/html": [
              "<div>\n",
              "<style scoped>\n",
              "    .dataframe tbody tr th:only-of-type {\n",
              "        vertical-align: middle;\n",
              "    }\n",
              "\n",
              "    .dataframe tbody tr th {\n",
              "        vertical-align: top;\n",
              "    }\n",
              "\n",
              "    .dataframe thead th {\n",
              "        text-align: right;\n",
              "    }\n",
              "</style>\n",
              "<table border=\"1\" class=\"dataframe\">\n",
              "  <thead>\n",
              "    <tr style=\"text-align: right;\">\n",
              "      <th></th>\n",
              "      <th>count</th>\n",
              "    </tr>\n",
              "    <tr>\n",
              "      <th>Medal</th>\n",
              "      <th></th>\n",
              "    </tr>\n",
              "  </thead>\n",
              "  <tbody>\n",
              "    <tr>\n",
              "      <th>Gold</th>\n",
              "      <td>9181</td>\n",
              "    </tr>\n",
              "    <tr>\n",
              "      <th>Silver</th>\n",
              "      <td>9014</td>\n",
              "    </tr>\n",
              "    <tr>\n",
              "      <th>Bronze</th>\n",
              "      <td>8979</td>\n",
              "    </tr>\n",
              "  </tbody>\n",
              "</table>\n",
              "</div><br><label><b>dtype:</b> int64</label>"
            ]
          },
          "metadata": {},
          "execution_count": 15
        }
      ]
    },
    {
      "cell_type": "markdown",
      "source": [
        "5. Why are there not an equal number of Gold, Silver and Bronze medals?\n",
        "\n",
        "After some research, there appear to be 2 reasons. First, events that result in ties. Second, some events award multiple bronze or silver medals for runner-ups."
      ],
      "metadata": {
        "id": "HPFgJk01zGxZ"
      }
    },
    {
      "cell_type": "markdown",
      "source": [
        "6. There are more Gold medals than Silver, and more Silver than Bronze. Why might that be?\n",
        "\n",
        "My first theory is that perhaps gold medals were the only ones that used to exist for certain events in certain time periods. Meaning only first place mattered; they did not give a medal to the lower rankers. I attempted to verify this by using the head and tail functions, but due to the data's size I cannot check throughout the data to see if this ever happened. I would be looking for time periods with the absence of lower medals, if it was feasible to do so.\n",
        "\n",
        "I also considered that perhaps some lower medal rankers were disqualified, however, I dismissed this theory because the disparity between gold, silver, and bronze medals is too great to have been just a few isolated incidents. The number of Golds is 167 greater than Silvers, which is 35 more than Bronzes. Also, if cheating were a factor (which could have lead to disqualifications), it does not make sense for lower rankers to be consistently cheating more than higher rankers, or getting caught doing so more often."
      ],
      "metadata": {
        "id": "_2JigwXw4jHU"
      }
    },
    {
      "cell_type": "code",
      "source": [
        "oo.head(15)"
      ],
      "metadata": {
        "id": "ezVeEbqpTdqk",
        "outputId": "e450695e-00fb-44bb-a7a5-f3af386f8660",
        "colab": {
          "base_uri": "https://localhost:8080/",
          "height": 520
        }
      },
      "execution_count": null,
      "outputs": [
        {
          "output_type": "execute_result",
          "data": {
            "text/plain": [
              "    Year    City      Sport     Discipline        Athlete Name  NOC Gender  \\\n",
              "0   1896  Athens    Cycling  Cycling Track       FLAMENG, Léon  FRA    Men   \n",
              "1   1896  Athens    Cycling  Cycling Track  KOLETTIS, Georgios  GRE    Men   \n",
              "2   1896  Athens  Athletics      Athletics       LANE, Francis  USA    Men   \n",
              "3   1896  Athens  Athletics      Athletics    SZOKOLYI, Alajos  HUN    Men   \n",
              "4   1896  Athens  Athletics      Athletics       BURKE, Thomas  USA    Men   \n",
              "5   1896  Athens  Athletics      Athletics      HOFMANN, Fritz  GER    Men   \n",
              "6   1896  Athens   Aquatics       Swimming       HAJOS, Alfred  HUN    Men   \n",
              "7   1896  Athens   Aquatics       Swimming    HERSCHMANN, Otto  AUT    Men   \n",
              "8   1896  Athens   Aquatics       Swimming   DRIVAS, Dimitrios  GRE    Men   \n",
              "9   1896  Athens   Aquatics       Swimming  MALOKINIS, Ioannis  GRE    Men   \n",
              "10  1896  Athens   Aquatics       Swimming  CHASAPIS, Spiridon  GRE    Men   \n",
              "11  1896  Athens    Cycling  Cycling Track       SCHMAL, Adolf  AUT    Men   \n",
              "12  1896  Athens    Cycling  Cycling Track        MASSON, Paul  FRA    Men   \n",
              "13  1896  Athens    Cycling  Cycling Track       FLAMENG, Léon  FRA    Men   \n",
              "14  1896  Athens  Athletics      Athletics      CURTIS, Thomas  USA    Men   \n",
              "\n",
              "                         Event Event Gender   Medal  Position  \n",
              "0                        100km            M    Gold         1  \n",
              "1                        100km            M  Silver         2  \n",
              "2                         100m            M  Bronze         3  \n",
              "3                         100m            M  Bronze         3  \n",
              "4                         100m            M    Gold         1  \n",
              "5                         100m            M  Silver         2  \n",
              "6               100m freestyle            M    Gold         1  \n",
              "7               100m freestyle            M  Silver         2  \n",
              "8   100m freestyle for sailors            M  Bronze         3  \n",
              "9   100m freestyle for sailors            M    Gold         1  \n",
              "10  100m freestyle for sailors            M  Silver         2  \n",
              "11                        10km            M  Bronze         3  \n",
              "12                        10km            M    Gold         1  \n",
              "13                        10km            M  Silver         2  \n",
              "14                110m hurdles            M    Gold         1  "
            ],
            "text/html": [
              "\n",
              "  <div id=\"df-badc8c65-d5b9-4f75-8826-a1c347e94385\" class=\"colab-df-container\">\n",
              "    <div>\n",
              "<style scoped>\n",
              "    .dataframe tbody tr th:only-of-type {\n",
              "        vertical-align: middle;\n",
              "    }\n",
              "\n",
              "    .dataframe tbody tr th {\n",
              "        vertical-align: top;\n",
              "    }\n",
              "\n",
              "    .dataframe thead th {\n",
              "        text-align: right;\n",
              "    }\n",
              "</style>\n",
              "<table border=\"1\" class=\"dataframe\">\n",
              "  <thead>\n",
              "    <tr style=\"text-align: right;\">\n",
              "      <th></th>\n",
              "      <th>Year</th>\n",
              "      <th>City</th>\n",
              "      <th>Sport</th>\n",
              "      <th>Discipline</th>\n",
              "      <th>Athlete Name</th>\n",
              "      <th>NOC</th>\n",
              "      <th>Gender</th>\n",
              "      <th>Event</th>\n",
              "      <th>Event Gender</th>\n",
              "      <th>Medal</th>\n",
              "      <th>Position</th>\n",
              "    </tr>\n",
              "  </thead>\n",
              "  <tbody>\n",
              "    <tr>\n",
              "      <th>0</th>\n",
              "      <td>1896</td>\n",
              "      <td>Athens</td>\n",
              "      <td>Cycling</td>\n",
              "      <td>Cycling Track</td>\n",
              "      <td>FLAMENG, Léon</td>\n",
              "      <td>FRA</td>\n",
              "      <td>Men</td>\n",
              "      <td>100km</td>\n",
              "      <td>M</td>\n",
              "      <td>Gold</td>\n",
              "      <td>1</td>\n",
              "    </tr>\n",
              "    <tr>\n",
              "      <th>1</th>\n",
              "      <td>1896</td>\n",
              "      <td>Athens</td>\n",
              "      <td>Cycling</td>\n",
              "      <td>Cycling Track</td>\n",
              "      <td>KOLETTIS, Georgios</td>\n",
              "      <td>GRE</td>\n",
              "      <td>Men</td>\n",
              "      <td>100km</td>\n",
              "      <td>M</td>\n",
              "      <td>Silver</td>\n",
              "      <td>2</td>\n",
              "    </tr>\n",
              "    <tr>\n",
              "      <th>2</th>\n",
              "      <td>1896</td>\n",
              "      <td>Athens</td>\n",
              "      <td>Athletics</td>\n",
              "      <td>Athletics</td>\n",
              "      <td>LANE, Francis</td>\n",
              "      <td>USA</td>\n",
              "      <td>Men</td>\n",
              "      <td>100m</td>\n",
              "      <td>M</td>\n",
              "      <td>Bronze</td>\n",
              "      <td>3</td>\n",
              "    </tr>\n",
              "    <tr>\n",
              "      <th>3</th>\n",
              "      <td>1896</td>\n",
              "      <td>Athens</td>\n",
              "      <td>Athletics</td>\n",
              "      <td>Athletics</td>\n",
              "      <td>SZOKOLYI, Alajos</td>\n",
              "      <td>HUN</td>\n",
              "      <td>Men</td>\n",
              "      <td>100m</td>\n",
              "      <td>M</td>\n",
              "      <td>Bronze</td>\n",
              "      <td>3</td>\n",
              "    </tr>\n",
              "    <tr>\n",
              "      <th>4</th>\n",
              "      <td>1896</td>\n",
              "      <td>Athens</td>\n",
              "      <td>Athletics</td>\n",
              "      <td>Athletics</td>\n",
              "      <td>BURKE, Thomas</td>\n",
              "      <td>USA</td>\n",
              "      <td>Men</td>\n",
              "      <td>100m</td>\n",
              "      <td>M</td>\n",
              "      <td>Gold</td>\n",
              "      <td>1</td>\n",
              "    </tr>\n",
              "    <tr>\n",
              "      <th>5</th>\n",
              "      <td>1896</td>\n",
              "      <td>Athens</td>\n",
              "      <td>Athletics</td>\n",
              "      <td>Athletics</td>\n",
              "      <td>HOFMANN, Fritz</td>\n",
              "      <td>GER</td>\n",
              "      <td>Men</td>\n",
              "      <td>100m</td>\n",
              "      <td>M</td>\n",
              "      <td>Silver</td>\n",
              "      <td>2</td>\n",
              "    </tr>\n",
              "    <tr>\n",
              "      <th>6</th>\n",
              "      <td>1896</td>\n",
              "      <td>Athens</td>\n",
              "      <td>Aquatics</td>\n",
              "      <td>Swimming</td>\n",
              "      <td>HAJOS, Alfred</td>\n",
              "      <td>HUN</td>\n",
              "      <td>Men</td>\n",
              "      <td>100m freestyle</td>\n",
              "      <td>M</td>\n",
              "      <td>Gold</td>\n",
              "      <td>1</td>\n",
              "    </tr>\n",
              "    <tr>\n",
              "      <th>7</th>\n",
              "      <td>1896</td>\n",
              "      <td>Athens</td>\n",
              "      <td>Aquatics</td>\n",
              "      <td>Swimming</td>\n",
              "      <td>HERSCHMANN, Otto</td>\n",
              "      <td>AUT</td>\n",
              "      <td>Men</td>\n",
              "      <td>100m freestyle</td>\n",
              "      <td>M</td>\n",
              "      <td>Silver</td>\n",
              "      <td>2</td>\n",
              "    </tr>\n",
              "    <tr>\n",
              "      <th>8</th>\n",
              "      <td>1896</td>\n",
              "      <td>Athens</td>\n",
              "      <td>Aquatics</td>\n",
              "      <td>Swimming</td>\n",
              "      <td>DRIVAS, Dimitrios</td>\n",
              "      <td>GRE</td>\n",
              "      <td>Men</td>\n",
              "      <td>100m freestyle for sailors</td>\n",
              "      <td>M</td>\n",
              "      <td>Bronze</td>\n",
              "      <td>3</td>\n",
              "    </tr>\n",
              "    <tr>\n",
              "      <th>9</th>\n",
              "      <td>1896</td>\n",
              "      <td>Athens</td>\n",
              "      <td>Aquatics</td>\n",
              "      <td>Swimming</td>\n",
              "      <td>MALOKINIS, Ioannis</td>\n",
              "      <td>GRE</td>\n",
              "      <td>Men</td>\n",
              "      <td>100m freestyle for sailors</td>\n",
              "      <td>M</td>\n",
              "      <td>Gold</td>\n",
              "      <td>1</td>\n",
              "    </tr>\n",
              "    <tr>\n",
              "      <th>10</th>\n",
              "      <td>1896</td>\n",
              "      <td>Athens</td>\n",
              "      <td>Aquatics</td>\n",
              "      <td>Swimming</td>\n",
              "      <td>CHASAPIS, Spiridon</td>\n",
              "      <td>GRE</td>\n",
              "      <td>Men</td>\n",
              "      <td>100m freestyle for sailors</td>\n",
              "      <td>M</td>\n",
              "      <td>Silver</td>\n",
              "      <td>2</td>\n",
              "    </tr>\n",
              "    <tr>\n",
              "      <th>11</th>\n",
              "      <td>1896</td>\n",
              "      <td>Athens</td>\n",
              "      <td>Cycling</td>\n",
              "      <td>Cycling Track</td>\n",
              "      <td>SCHMAL, Adolf</td>\n",
              "      <td>AUT</td>\n",
              "      <td>Men</td>\n",
              "      <td>10km</td>\n",
              "      <td>M</td>\n",
              "      <td>Bronze</td>\n",
              "      <td>3</td>\n",
              "    </tr>\n",
              "    <tr>\n",
              "      <th>12</th>\n",
              "      <td>1896</td>\n",
              "      <td>Athens</td>\n",
              "      <td>Cycling</td>\n",
              "      <td>Cycling Track</td>\n",
              "      <td>MASSON, Paul</td>\n",
              "      <td>FRA</td>\n",
              "      <td>Men</td>\n",
              "      <td>10km</td>\n",
              "      <td>M</td>\n",
              "      <td>Gold</td>\n",
              "      <td>1</td>\n",
              "    </tr>\n",
              "    <tr>\n",
              "      <th>13</th>\n",
              "      <td>1896</td>\n",
              "      <td>Athens</td>\n",
              "      <td>Cycling</td>\n",
              "      <td>Cycling Track</td>\n",
              "      <td>FLAMENG, Léon</td>\n",
              "      <td>FRA</td>\n",
              "      <td>Men</td>\n",
              "      <td>10km</td>\n",
              "      <td>M</td>\n",
              "      <td>Silver</td>\n",
              "      <td>2</td>\n",
              "    </tr>\n",
              "    <tr>\n",
              "      <th>14</th>\n",
              "      <td>1896</td>\n",
              "      <td>Athens</td>\n",
              "      <td>Athletics</td>\n",
              "      <td>Athletics</td>\n",
              "      <td>CURTIS, Thomas</td>\n",
              "      <td>USA</td>\n",
              "      <td>Men</td>\n",
              "      <td>110m hurdles</td>\n",
              "      <td>M</td>\n",
              "      <td>Gold</td>\n",
              "      <td>1</td>\n",
              "    </tr>\n",
              "  </tbody>\n",
              "</table>\n",
              "</div>\n",
              "    <div class=\"colab-df-buttons\">\n",
              "\n",
              "  <div class=\"colab-df-container\">\n",
              "    <button class=\"colab-df-convert\" onclick=\"convertToInteractive('df-badc8c65-d5b9-4f75-8826-a1c347e94385')\"\n",
              "            title=\"Convert this dataframe to an interactive table.\"\n",
              "            style=\"display:none;\">\n",
              "\n",
              "  <svg xmlns=\"http://www.w3.org/2000/svg\" height=\"24px\" viewBox=\"0 -960 960 960\">\n",
              "    <path d=\"M120-120v-720h720v720H120Zm60-500h600v-160H180v160Zm220 220h160v-160H400v160Zm0 220h160v-160H400v160ZM180-400h160v-160H180v160Zm440 0h160v-160H620v160ZM180-180h160v-160H180v160Zm440 0h160v-160H620v160Z\"/>\n",
              "  </svg>\n",
              "    </button>\n",
              "\n",
              "  <style>\n",
              "    .colab-df-container {\n",
              "      display:flex;\n",
              "      gap: 12px;\n",
              "    }\n",
              "\n",
              "    .colab-df-convert {\n",
              "      background-color: #E8F0FE;\n",
              "      border: none;\n",
              "      border-radius: 50%;\n",
              "      cursor: pointer;\n",
              "      display: none;\n",
              "      fill: #1967D2;\n",
              "      height: 32px;\n",
              "      padding: 0 0 0 0;\n",
              "      width: 32px;\n",
              "    }\n",
              "\n",
              "    .colab-df-convert:hover {\n",
              "      background-color: #E2EBFA;\n",
              "      box-shadow: 0px 1px 2px rgba(60, 64, 67, 0.3), 0px 1px 3px 1px rgba(60, 64, 67, 0.15);\n",
              "      fill: #174EA6;\n",
              "    }\n",
              "\n",
              "    .colab-df-buttons div {\n",
              "      margin-bottom: 4px;\n",
              "    }\n",
              "\n",
              "    [theme=dark] .colab-df-convert {\n",
              "      background-color: #3B4455;\n",
              "      fill: #D2E3FC;\n",
              "    }\n",
              "\n",
              "    [theme=dark] .colab-df-convert:hover {\n",
              "      background-color: #434B5C;\n",
              "      box-shadow: 0px 1px 3px 1px rgba(0, 0, 0, 0.15);\n",
              "      filter: drop-shadow(0px 1px 2px rgba(0, 0, 0, 0.3));\n",
              "      fill: #FFFFFF;\n",
              "    }\n",
              "  </style>\n",
              "\n",
              "    <script>\n",
              "      const buttonEl =\n",
              "        document.querySelector('#df-badc8c65-d5b9-4f75-8826-a1c347e94385 button.colab-df-convert');\n",
              "      buttonEl.style.display =\n",
              "        google.colab.kernel.accessAllowed ? 'block' : 'none';\n",
              "\n",
              "      async function convertToInteractive(key) {\n",
              "        const element = document.querySelector('#df-badc8c65-d5b9-4f75-8826-a1c347e94385');\n",
              "        const dataTable =\n",
              "          await google.colab.kernel.invokeFunction('convertToInteractive',\n",
              "                                                    [key], {});\n",
              "        if (!dataTable) return;\n",
              "\n",
              "        const docLinkHtml = 'Like what you see? Visit the ' +\n",
              "          '<a target=\"_blank\" href=https://colab.research.google.com/notebooks/data_table.ipynb>data table notebook</a>'\n",
              "          + ' to learn more about interactive tables.';\n",
              "        element.innerHTML = '';\n",
              "        dataTable['output_type'] = 'display_data';\n",
              "        await google.colab.output.renderOutput(dataTable, element);\n",
              "        const docLink = document.createElement('div');\n",
              "        docLink.innerHTML = docLinkHtml;\n",
              "        element.appendChild(docLink);\n",
              "      }\n",
              "    </script>\n",
              "  </div>\n",
              "\n",
              "\n",
              "<div id=\"df-04724041-e2e6-451f-81f7-3ff939a00dd7\">\n",
              "  <button class=\"colab-df-quickchart\" onclick=\"quickchart('df-04724041-e2e6-451f-81f7-3ff939a00dd7')\"\n",
              "            title=\"Suggest charts\"\n",
              "            style=\"display:none;\">\n",
              "\n",
              "<svg xmlns=\"http://www.w3.org/2000/svg\" height=\"24px\"viewBox=\"0 0 24 24\"\n",
              "     width=\"24px\">\n",
              "    <g>\n",
              "        <path d=\"M19 3H5c-1.1 0-2 .9-2 2v14c0 1.1.9 2 2 2h14c1.1 0 2-.9 2-2V5c0-1.1-.9-2-2-2zM9 17H7v-7h2v7zm4 0h-2V7h2v10zm4 0h-2v-4h2v4z\"/>\n",
              "    </g>\n",
              "</svg>\n",
              "  </button>\n",
              "\n",
              "<style>\n",
              "  .colab-df-quickchart {\n",
              "      --bg-color: #E8F0FE;\n",
              "      --fill-color: #1967D2;\n",
              "      --hover-bg-color: #E2EBFA;\n",
              "      --hover-fill-color: #174EA6;\n",
              "      --disabled-fill-color: #AAA;\n",
              "      --disabled-bg-color: #DDD;\n",
              "  }\n",
              "\n",
              "  [theme=dark] .colab-df-quickchart {\n",
              "      --bg-color: #3B4455;\n",
              "      --fill-color: #D2E3FC;\n",
              "      --hover-bg-color: #434B5C;\n",
              "      --hover-fill-color: #FFFFFF;\n",
              "      --disabled-bg-color: #3B4455;\n",
              "      --disabled-fill-color: #666;\n",
              "  }\n",
              "\n",
              "  .colab-df-quickchart {\n",
              "    background-color: var(--bg-color);\n",
              "    border: none;\n",
              "    border-radius: 50%;\n",
              "    cursor: pointer;\n",
              "    display: none;\n",
              "    fill: var(--fill-color);\n",
              "    height: 32px;\n",
              "    padding: 0;\n",
              "    width: 32px;\n",
              "  }\n",
              "\n",
              "  .colab-df-quickchart:hover {\n",
              "    background-color: var(--hover-bg-color);\n",
              "    box-shadow: 0 1px 2px rgba(60, 64, 67, 0.3), 0 1px 3px 1px rgba(60, 64, 67, 0.15);\n",
              "    fill: var(--button-hover-fill-color);\n",
              "  }\n",
              "\n",
              "  .colab-df-quickchart-complete:disabled,\n",
              "  .colab-df-quickchart-complete:disabled:hover {\n",
              "    background-color: var(--disabled-bg-color);\n",
              "    fill: var(--disabled-fill-color);\n",
              "    box-shadow: none;\n",
              "  }\n",
              "\n",
              "  .colab-df-spinner {\n",
              "    border: 2px solid var(--fill-color);\n",
              "    border-color: transparent;\n",
              "    border-bottom-color: var(--fill-color);\n",
              "    animation:\n",
              "      spin 1s steps(1) infinite;\n",
              "  }\n",
              "\n",
              "  @keyframes spin {\n",
              "    0% {\n",
              "      border-color: transparent;\n",
              "      border-bottom-color: var(--fill-color);\n",
              "      border-left-color: var(--fill-color);\n",
              "    }\n",
              "    20% {\n",
              "      border-color: transparent;\n",
              "      border-left-color: var(--fill-color);\n",
              "      border-top-color: var(--fill-color);\n",
              "    }\n",
              "    30% {\n",
              "      border-color: transparent;\n",
              "      border-left-color: var(--fill-color);\n",
              "      border-top-color: var(--fill-color);\n",
              "      border-right-color: var(--fill-color);\n",
              "    }\n",
              "    40% {\n",
              "      border-color: transparent;\n",
              "      border-right-color: var(--fill-color);\n",
              "      border-top-color: var(--fill-color);\n",
              "    }\n",
              "    60% {\n",
              "      border-color: transparent;\n",
              "      border-right-color: var(--fill-color);\n",
              "    }\n",
              "    80% {\n",
              "      border-color: transparent;\n",
              "      border-right-color: var(--fill-color);\n",
              "      border-bottom-color: var(--fill-color);\n",
              "    }\n",
              "    90% {\n",
              "      border-color: transparent;\n",
              "      border-bottom-color: var(--fill-color);\n",
              "    }\n",
              "  }\n",
              "</style>\n",
              "\n",
              "  <script>\n",
              "    async function quickchart(key) {\n",
              "      const quickchartButtonEl =\n",
              "        document.querySelector('#' + key + ' button');\n",
              "      quickchartButtonEl.disabled = true;  // To prevent multiple clicks.\n",
              "      quickchartButtonEl.classList.add('colab-df-spinner');\n",
              "      try {\n",
              "        const charts = await google.colab.kernel.invokeFunction(\n",
              "            'suggestCharts', [key], {});\n",
              "      } catch (error) {\n",
              "        console.error('Error during call to suggestCharts:', error);\n",
              "      }\n",
              "      quickchartButtonEl.classList.remove('colab-df-spinner');\n",
              "      quickchartButtonEl.classList.add('colab-df-quickchart-complete');\n",
              "    }\n",
              "    (() => {\n",
              "      let quickchartButtonEl =\n",
              "        document.querySelector('#df-04724041-e2e6-451f-81f7-3ff939a00dd7 button');\n",
              "      quickchartButtonEl.style.display =\n",
              "        google.colab.kernel.accessAllowed ? 'block' : 'none';\n",
              "    })();\n",
              "  </script>\n",
              "</div>\n",
              "\n",
              "    </div>\n",
              "  </div>\n"
            ],
            "application/vnd.google.colaboratory.intrinsic+json": {
              "type": "dataframe",
              "variable_name": "oo",
              "summary": "{\n  \"name\": \"oo\",\n  \"rows\": 27174,\n  \"fields\": [\n    {\n      \"column\": \"Year\",\n      \"properties\": {\n        \"dtype\": \"number\",\n        \"std\": 31,\n        \"min\": 1896,\n        \"max\": 2004,\n        \"num_unique_values\": 25,\n        \"samples\": [\n          1932,\n          1972,\n          1896\n        ],\n        \"semantic_type\": \"\",\n        \"description\": \"\"\n      }\n    },\n    {\n      \"column\": \"City\",\n      \"properties\": {\n        \"dtype\": \"category\",\n        \"num_unique_values\": 21,\n        \"samples\": [\n          \"Athens\",\n          \"Seoul\",\n          \"Montreal\"\n        ],\n        \"semantic_type\": \"\",\n        \"description\": \"\"\n      }\n    },\n    {\n      \"column\": \"Sport\",\n      \"properties\": {\n        \"dtype\": \"category\",\n        \"num_unique_values\": 42,\n        \"samples\": [\n          \"Rackets\",\n          \"Croquet\",\n          \"Wrestling\"\n        ],\n        \"semantic_type\": \"\",\n        \"description\": \"\"\n      }\n    },\n    {\n      \"column\": \"Discipline\",\n      \"properties\": {\n        \"dtype\": \"category\",\n        \"num_unique_values\": 55,\n        \"samples\": [\n          \"Jeu de Paume\",\n          \"Fencing\",\n          \"Figure skating\"\n        ],\n        \"semantic_type\": \"\",\n        \"description\": \"\"\n      }\n    },\n    {\n      \"column\": \"Athlete Name\",\n      \"properties\": {\n        \"dtype\": \"string\",\n        \"num_unique_values\": 19991,\n        \"samples\": [\n          \"TOMAN, Ladislav\",\n          \"MATTO, Sergio A.\",\n          \"DE WOLF, Nicolaas\"\n        ],\n        \"semantic_type\": \"\",\n        \"description\": \"\"\n      }\n    },\n    {\n      \"column\": \"NOC\",\n      \"properties\": {\n        \"dtype\": \"category\",\n        \"num_unique_values\": 132,\n        \"samples\": [\n          \"VEN\",\n          \"ZIM\",\n          \"SWE\"\n        ],\n        \"semantic_type\": \"\",\n        \"description\": \"\"\n      }\n    },\n    {\n      \"column\": \"Gender\",\n      \"properties\": {\n        \"dtype\": \"category\",\n        \"num_unique_values\": 2,\n        \"samples\": [\n          \"Women\",\n          \"Men\"\n        ],\n        \"semantic_type\": \"\",\n        \"description\": \"\"\n      }\n    },\n    {\n      \"column\": \"Event\",\n      \"properties\": {\n        \"dtype\": \"category\",\n        \"num_unique_values\": 572,\n        \"samples\": [\n          \"- 58 kg\",\n          \"cricket\"\n        ],\n        \"semantic_type\": \"\",\n        \"description\": \"\"\n      }\n    },\n    {\n      \"column\": \"Event Gender\",\n      \"properties\": {\n        \"dtype\": \"category\",\n        \"num_unique_values\": 3,\n        \"samples\": [\n          \"M\",\n          \"X\"\n        ],\n        \"semantic_type\": \"\",\n        \"description\": \"\"\n      }\n    },\n    {\n      \"column\": \"Medal\",\n      \"properties\": {\n        \"dtype\": \"category\",\n        \"num_unique_values\": 3,\n        \"samples\": [\n          \"Gold\",\n          \"Silver\"\n        ],\n        \"semantic_type\": \"\",\n        \"description\": \"\"\n      }\n    },\n    {\n      \"column\": \"Position\",\n      \"properties\": {\n        \"dtype\": \"number\",\n        \"std\": 0,\n        \"min\": 1,\n        \"max\": 3,\n        \"num_unique_values\": 3,\n        \"samples\": [\n          1,\n          2\n        ],\n        \"semantic_type\": \"\",\n        \"description\": \"\"\n      }\n    }\n  ]\n}"
            }
          },
          "metadata": {},
          "execution_count": 13
        }
      ]
    },
    {
      "cell_type": "markdown",
      "source": [
        "7. What are the different NOCs (National Olympic Committees)\n",
        "\n",
        "There are 132 unique NOCs. I used \"describe\" to find this out, and used \"unique\" to get the list of them."
      ],
      "metadata": {
        "id": "oRCVF3099zQG"
      }
    },
    {
      "cell_type": "code",
      "source": [
        "#oo.NOC.describe()\n",
        "oo.NOC.unique()"
      ],
      "metadata": {
        "id": "bgFAsamb-Yo3",
        "outputId": "e359cca0-9ad8-4308-ee82-6c16a8f01631",
        "colab": {
          "base_uri": "https://localhost:8080/"
        }
      },
      "execution_count": null,
      "outputs": [
        {
          "output_type": "execute_result",
          "data": {
            "text/plain": [
              "array(['FRA', 'GRE', 'USA', 'HUN', 'GER', 'AUT', 'GBR', 'AUS', 'DEN',\n",
              "       'ZZX', 'SUI', 'IND', 'NED', 'CAN', 'NOR', 'BEL', 'ESP', 'BOH',\n",
              "       'ITA', 'SWE', 'CUB', 'RU1', 'FIN', 'RSA', 'ANZ', 'LUX', 'EST',\n",
              "       'BRA', 'JPN', 'TCH', 'NZL', 'ARG', 'HAI', 'POL', 'URU', 'YUG',\n",
              "       'ROU', 'POR', 'EGY', 'PHI', 'IRL', 'CHI', 'MEX', 'LAT', 'TUR',\n",
              "       'KOR', 'PAN', 'JAM', 'SRI', 'PER', 'PUR', 'IRI', 'TRI', 'URS',\n",
              "       'LIB', 'BUL', 'VEN', 'EUA', 'PAK', 'ISL', 'BAH', 'BWI', 'GHA',\n",
              "       'IRQ', 'SIN', 'TPE', 'ETH', 'MAR', 'TUN', 'NGR', 'KEN', 'FRG',\n",
              "       'MGL', 'GDR', 'UGA', 'CMR', 'PRK', 'COL', 'NIG', 'BER', 'THA',\n",
              "       'TAN', 'GUY', 'ZIM', 'ZAM', 'CHN', 'CIV', 'DOM', 'ALG', 'SYR',\n",
              "       'SUR', 'CRC', 'SEN', 'AHO', 'DJI', 'ISV', 'INA', 'EUN', 'NAM',\n",
              "       'IOP', 'QAT', 'ISR', 'LTU', 'CRO', 'SLO', 'MAS', 'RUS', 'UKR',\n",
              "       'TGA', 'ARM', 'BLR', 'MDA', 'ECU', 'KAZ', 'AZE', 'BDI', 'SVK',\n",
              "       'CZE', 'UZB', 'GEO', 'MOZ', 'HKG', 'KGZ', 'BAR', 'KSA', 'VIE',\n",
              "       'MKD', 'KUW', 'ERI', 'SCG', 'UAE', 'PAR'], dtype=object)"
            ]
          },
          "metadata": {},
          "execution_count": 44
        }
      ]
    },
    {
      "cell_type": "markdown",
      "source": [
        "8. What does the NOC 'ZZX' represent?\n",
        "\n",
        "\"ZZX\" represents teams containing members from multiple different countries. According to Wikipedia, mixed teams used to be a thing in the earlier Olympics, around the turn of the 20th century."
      ],
      "metadata": {
        "id": "YQeryerr94R-"
      }
    },
    {
      "cell_type": "markdown",
      "source": [
        "##Solution"
      ],
      "metadata": {
        "id": "cXD8zRjrB0vc"
      }
    },
    {
      "cell_type": "code",
      "source": [
        "!pip install --quiet pandas==2.0.2\n",
        "\n",
        "import pandas as pd\n",
        "from pathlib import Path\n",
        "\n",
        "if not Path(\"olympics_1896_2004.csv\").exists():\n",
        "  !wget https://github.com/jonfernandes/pandas_essential/raw/main/olympics_1896_2004.csv\n",
        "\n",
        "filename = \"olympics_1896_2004.csv\"\n",
        "print(\"Installed all of the necessary files for this section ...\")"
      ],
      "metadata": {
        "id": "gTUIMlWPCDnR"
      },
      "execution_count": null,
      "outputs": []
    },
    {
      "cell_type": "markdown",
      "source": [
        "1. What is the time range covered in this dataset?"
      ],
      "metadata": {
        "id": "-j8eT2c2CN7g"
      }
    },
    {
      "cell_type": "code",
      "source": [
        "oo.Year.unique()"
      ],
      "metadata": {
        "id": "ZSs_CV6SB5wf"
      },
      "execution_count": null,
      "outputs": []
    },
    {
      "cell_type": "markdown",
      "source": [
        "2. The Olympics take place every 4 years. Why are there missing years?\n",
        "- World War 1: 1914-1918\n",
        "- World War 2: 1939-1945"
      ],
      "metadata": {
        "id": "PdU9kXBqHUVx"
      }
    },
    {
      "cell_type": "markdown",
      "source": [
        "3. What are the types of medals awarded?"
      ],
      "metadata": {
        "id": "FO4CF7mACXgJ"
      }
    },
    {
      "cell_type": "code",
      "source": [
        "oo.Medal.unique()"
      ],
      "metadata": {
        "id": "z_gSubsK7GjH"
      },
      "execution_count": null,
      "outputs": []
    },
    {
      "cell_type": "markdown",
      "source": [
        "4. Across all of the Olympics, how many Gold, Silver and Bronze medals have there been?"
      ],
      "metadata": {
        "id": "maVn15rhChhr"
      }
    },
    {
      "cell_type": "code",
      "source": [
        "oo.Medal.value_counts()"
      ],
      "metadata": {
        "id": "4NrbRaLP7_kp"
      },
      "execution_count": null,
      "outputs": []
    },
    {
      "cell_type": "markdown",
      "source": [
        "5. Why are there not an equal number of Gold, Silver and Bronze medals?\n",
        "- Tied results\n",
        "- Team events\n",
        "- Disqualifications"
      ],
      "metadata": {
        "id": "L0BaqP40Cvja"
      }
    },
    {
      "cell_type": "code",
      "source": [
        "oo.head(10)"
      ],
      "metadata": {
        "id": "pmyToiQBIsmO"
      },
      "execution_count": null,
      "outputs": []
    },
    {
      "cell_type": "markdown",
      "source": [
        "6. There are more Gold medals than Silver, and more Silver than Bronze. Why might that be?\n",
        "\n",
        "Men's 100km cycling\n",
        "- https://en.wikipedia.org/wiki/Cycling_at_the_1896_Summer_Olympics_%E2%80%93_Men%27s_100_kilometres\n",
        "- https://en.wikipedia.org/wiki/Aristidis_Konstantinidis\n",
        "\n",
        "Men's 100m freestyle (1896)\n",
        "- https://en.wikipedia.org/wiki/Swimming_at_the_1896_Summer_Olympics_%E2%80%93_Men%27s_100_metre_freestyle\n"
      ],
      "metadata": {
        "id": "QTvM7ugqKpZz"
      }
    },
    {
      "cell_type": "markdown",
      "source": [
        "7. What are the different NOCs (National Olympic Committees)\n"
      ],
      "metadata": {
        "id": "oARaNXGtOiK_"
      }
    },
    {
      "cell_type": "code",
      "source": [
        "oo.NOC.unique()"
      ],
      "metadata": {
        "id": "uWY4zpb4O2v0"
      },
      "execution_count": null,
      "outputs": []
    },
    {
      "cell_type": "markdown",
      "source": [
        "8. What does the NOC 'ZZX' represent?\n",
        "- https://en.wikipedia.org/wiki/Mixed_teams_at_the_Olympics"
      ],
      "metadata": {
        "id": "02ouyDJvO5On"
      }
    },
    {
      "cell_type": "markdown",
      "metadata": {
        "id": "dVneSuG42rEV"
      },
      "source": [
        "## Python Lists and Dictionaries"
      ]
    },
    {
      "cell_type": "code",
      "execution_count": null,
      "metadata": {
        "id": "yaMoREyw2ugU"
      },
      "outputs": [],
      "source": [
        "medals = [\"Gold\", \"Silver\", \"Bronze\"]\n",
        "medals"
      ]
    },
    {
      "cell_type": "code",
      "execution_count": null,
      "metadata": {
        "id": "6KcUdX414wX0"
      },
      "outputs": [],
      "source": [
        "type(medals)"
      ]
    },
    {
      "cell_type": "code",
      "execution_count": null,
      "metadata": {
        "id": "q1xsb6BG5CWv"
      },
      "outputs": [],
      "source": [
        "position = {\"First\": \"Gold\",\n",
        "            \"Second\": \"Silver\",\n",
        "            \"Third\": \"Bronze\"\n",
        "}\n",
        "position"
      ]
    },
    {
      "cell_type": "code",
      "execution_count": null,
      "metadata": {
        "id": "T-4bqeTz-tyH"
      },
      "outputs": [],
      "source": [
        "type(position)"
      ]
    },
    {
      "cell_type": "code",
      "execution_count": null,
      "metadata": {
        "id": "s5wBJSTq-gqd"
      },
      "outputs": [],
      "source": [
        "position[\"First\"]"
      ]
    },
    {
      "cell_type": "markdown",
      "metadata": {
        "id": "Ckw-4M9hpoa3"
      },
      "source": [
        "## Rename a series (or column)"
      ]
    },
    {
      "cell_type": "code",
      "source": [
        "!pip install --quiet pandas==2.0.2\n",
        "\n",
        "import pandas as pd\n",
        "from pathlib import Path\n",
        "\n",
        "if not Path(\"olympics_1896_2004.csv\").exists():\n",
        "  !wget https://github.com/jonfernandes/pandas_essential/raw/main/olympics_1896_2004.csv\n",
        "\n",
        "filename = \"olympics_1896_2004.csv\"\n",
        "print(\"Installed all of the necessary files for this section ...\")"
      ],
      "metadata": {
        "id": "ZkvEYRvXbZBQ"
      },
      "execution_count": null,
      "outputs": []
    },
    {
      "cell_type": "code",
      "execution_count": null,
      "metadata": {
        "id": "GuCHMPABqCOg"
      },
      "outputs": [],
      "source": [
        "oo = pd.read_csv(filename, skiprows=5)\n",
        "oo.sample(3)"
      ]
    },
    {
      "cell_type": "code",
      "execution_count": null,
      "metadata": {
        "id": "aBkPYBGSqZdy"
      },
      "outputs": [],
      "source": [
        "mapper = {\"Athlete Name\": \"Athlete_Name\",\n",
        "          \"Event Gender\": \"Event_Gender\"}"
      ]
    },
    {
      "cell_type": "code",
      "source": [
        "oo.rename?"
      ],
      "metadata": {
        "id": "BGhEHsDscPRn"
      },
      "execution_count": null,
      "outputs": []
    },
    {
      "cell_type": "code",
      "execution_count": null,
      "metadata": {
        "id": "IXlHzMRFqGVP"
      },
      "outputs": [],
      "source": [
        "oo.rename(columns=mapper)"
      ]
    },
    {
      "cell_type": "code",
      "execution_count": null,
      "metadata": {
        "id": "Xr3XjUKFqxBu"
      },
      "outputs": [],
      "source": [
        "oo.sample(3)"
      ]
    },
    {
      "cell_type": "code",
      "execution_count": null,
      "metadata": {
        "id": "nDNiC7Uvq4o4"
      },
      "outputs": [],
      "source": [
        "oo = oo.rename(columns=mapper)\n",
        "oo.sample(3)"
      ]
    },
    {
      "cell_type": "code",
      "source": [
        "oo = pd.read_csv(filename, skiprows=5).rename(columns=mapper)\n",
        "oo.sample(3)"
      ],
      "metadata": {
        "id": "7IGqoCWcbvHc"
      },
      "execution_count": null,
      "outputs": []
    },
    {
      "cell_type": "code",
      "execution_count": null,
      "metadata": {
        "id": "jXX7uTomrDKG"
      },
      "outputs": [],
      "source": [
        "oo = pd.read_csv(filename, skiprows=5)\n",
        "oo = oo.rename(columns={\"Athlete Name\": \"Athlete_Name\", \"Event Gender\": \"Event_Gender\"})\n",
        "oo.sample(3)"
      ]
    },
    {
      "cell_type": "code",
      "execution_count": null,
      "metadata": {
        "id": "kMbTKuQ5rj1I"
      },
      "outputs": [],
      "source": [
        "oo = pd.read_csv(filename, skiprows=5)\n",
        "oo.columns"
      ]
    },
    {
      "cell_type": "code",
      "execution_count": null,
      "metadata": {
        "id": "i2BiQO6Crp6a"
      },
      "outputs": [],
      "source": [
        "column_names = ['Year', 'City', 'Sport', 'Discipline', 'Athlete_Name', 'NOC', 'Gender',\n",
        "       'Event', 'Event_Gender', 'Medal', 'Position']\n",
        "oo.columns = column_names\n",
        "oo.sample(3)"
      ]
    },
    {
      "cell_type": "code",
      "execution_count": null,
      "metadata": {
        "id": "hFOa9jTjr-4m"
      },
      "outputs": [],
      "source": [
        "oo = pd.read_csv(filename, skiprows=5)\n",
        "oo.sample(3)"
      ]
    },
    {
      "cell_type": "code",
      "execution_count": null,
      "metadata": {
        "id": "X3Wc_Xy1swWe"
      },
      "outputs": [],
      "source": [
        "oo = pd.read_csv(filename, skiprows=5, names=column_names)\n",
        "oo.head()"
      ]
    },
    {
      "cell_type": "code",
      "execution_count": null,
      "metadata": {
        "id": "Slv2MGpztEvf"
      },
      "outputs": [],
      "source": [
        "oo = pd.read_csv(filename, skiprows=5, names=column_names, header=0)\n",
        "oo.head()"
      ]
    },
    {
      "cell_type": "markdown",
      "metadata": {
        "id": "W9Nhfv3LkjL0"
      },
      "source": [
        "## Remove a Series (column) or row"
      ]
    },
    {
      "cell_type": "code",
      "source": [
        "!pip install --quiet pandas==2.0.2\n",
        "\n",
        "import pandas as pd\n",
        "from pathlib import Path\n",
        "\n",
        "if not Path(\"olympics_1896_2004.csv\").exists():\n",
        "  !wget https://github.com/jonfernandes/pandas_essential/raw/main/olympics_1896_2004.csv\n",
        "\n",
        "filename = \"olympics_1896_2004.csv\"\n",
        "print(\"Installed all of the necessary files for this section ...\")"
      ],
      "metadata": {
        "id": "wyyfLAZYcyey"
      },
      "execution_count": null,
      "outputs": []
    },
    {
      "cell_type": "code",
      "execution_count": null,
      "metadata": {
        "id": "Jvu3BkX8pEx6"
      },
      "outputs": [],
      "source": [
        "oo = pd.read_csv(filename, skiprows=5)\n",
        "oo.sample(3)"
      ]
    },
    {
      "cell_type": "code",
      "execution_count": null,
      "metadata": {
        "id": "20cP8jKNpI-b"
      },
      "outputs": [],
      "source": [
        "oo.drop('Position', axis=1)"
      ]
    },
    {
      "cell_type": "code",
      "source": [
        "#oo.drop('Position', axis=0)"
      ],
      "metadata": {
        "id": "G3EbLvxuY50E"
      },
      "execution_count": null,
      "outputs": []
    },
    {
      "cell_type": "code",
      "execution_count": null,
      "metadata": {
        "id": "1dHlMJCCpf3C"
      },
      "outputs": [],
      "source": [
        "oo.sample(3)"
      ]
    },
    {
      "cell_type": "code",
      "source": [
        "oo = oo.drop('Position', axis=1)\n",
        "oo.sample(3)"
      ],
      "metadata": {
        "id": "3X4HbXnaZeBw"
      },
      "execution_count": null,
      "outputs": []
    },
    {
      "cell_type": "code",
      "source": [
        "oo = pd.read_csv(filename, skiprows=5).drop('Position', axis=1)\n",
        "oo.sample(3)"
      ],
      "metadata": {
        "id": "Fq1lyaCpajT4"
      },
      "execution_count": null,
      "outputs": []
    },
    {
      "cell_type": "code",
      "source": [
        "oo = (pd.read_csv(filename, skiprows=5)\n",
        "      .drop('Position', axis=1)\n",
        ")\n",
        "oo.sample(3)"
      ],
      "metadata": {
        "id": "ZhTF2wwh2xfr"
      },
      "execution_count": null,
      "outputs": []
    },
    {
      "cell_type": "code",
      "source": [
        "oo = (pd.read_csv(filename, skiprows=5)\n",
        "      .drop('Position', axis=1)\n",
        ")\n",
        "oo.sample(3)"
      ],
      "metadata": {
        "id": "mpxeqJaSa0SH"
      },
      "execution_count": null,
      "outputs": []
    },
    {
      "cell_type": "code",
      "source": [
        "oo = pd.read_csv(filename, skiprows=5)\n",
        "oo.drop('Position', axis=1, inplace=True)\n",
        "oo.sample(3)"
      ],
      "metadata": {
        "id": "FwsO7VDt3Idt"
      },
      "execution_count": null,
      "outputs": []
    },
    {
      "cell_type": "code",
      "execution_count": null,
      "metadata": {
        "id": "r_0NfmZAputk"
      },
      "outputs": [],
      "source": [
        "#oo = (pd.read_csv(filename, skiprows=5)\n",
        "#      .drop('Position', axis=1, inplace=True)\n",
        "#)\n",
        "#oo.sample(3)"
      ]
    },
    {
      "cell_type": "code",
      "source": [
        "oo.drop?"
      ],
      "metadata": {
        "id": "tRDLq3HuZ1pK"
      },
      "execution_count": null,
      "outputs": []
    },
    {
      "cell_type": "code",
      "execution_count": null,
      "metadata": {
        "id": "K8jXziF_p5dJ"
      },
      "outputs": [],
      "source": [
        "oo = (pd.read_csv(filename, skiprows=5)\n",
        "      .drop('Position', axis=1)\n",
        ")\n",
        "oo.sample(3)"
      ]
    },
    {
      "cell_type": "code",
      "execution_count": null,
      "metadata": {
        "id": "bwjWbu26qOle"
      },
      "outputs": [],
      "source": [
        "oo.head(3)"
      ]
    },
    {
      "cell_type": "code",
      "execution_count": null,
      "metadata": {
        "id": "SCzu6DsFqUNn"
      },
      "outputs": [],
      "source": [
        "oo = (pd.read_csv(filename, skiprows=5)\n",
        "      .drop(2, axis=0)\n",
        ")\n",
        "oo.head(3)"
      ]
    },
    {
      "cell_type": "code",
      "execution_count": null,
      "metadata": {
        "id": "OyPaiwdAr7wT"
      },
      "outputs": [],
      "source": [
        "oo = (pd.read_csv(filename, skiprows=5)\n",
        "      .drop([0, 1, 3], axis=0)\n",
        ")\n",
        "oo.head(3)"
      ]
    },
    {
      "cell_type": "code",
      "execution_count": null,
      "metadata": {
        "id": "O7kPV4fXsPpT"
      },
      "outputs": [],
      "source": [
        "oo = oo.drop(['City', 'Sport'], axis=1)\n",
        "oo.head(3)"
      ]
    },
    {
      "cell_type": "code",
      "execution_count": null,
      "metadata": {
        "id": "zP14TUgHrAWV"
      },
      "outputs": [],
      "source": [
        "oo = (pd.read_csv(filename, skiprows=5)\n",
        "      .drop('Position', axis=1)\n",
        ")\n",
        "oo.sample(3)"
      ]
    },
    {
      "cell_type": "code",
      "source": [
        "pd.merge?"
      ],
      "metadata": {
        "id": "Kn5U4c_6etcq"
      },
      "execution_count": null,
      "outputs": []
    },
    {
      "cell_type": "code",
      "source": [
        "pd.concat?"
      ],
      "metadata": {
        "id": "xeu9LEEPe1E9"
      },
      "execution_count": null,
      "outputs": []
    },
    {
      "cell_type": "code",
      "source": [
        "oo.groupby?"
      ],
      "metadata": {
        "id": "oNN6PLPRe9Q6"
      },
      "execution_count": null,
      "outputs": []
    },
    {
      "cell_type": "markdown",
      "metadata": {
        "id": "KoS5odaaWiBi"
      },
      "source": [
        "## Filtering rows for a single condition"
      ]
    },
    {
      "cell_type": "code",
      "source": [
        "!pip install --quiet pandas==2.0.2\n",
        "\n",
        "import pandas as pd\n",
        "from pathlib import Path\n",
        "\n",
        "if not Path(\"olympics_1896_2004.csv\").exists():\n",
        "  !wget https://github.com/jonfernandes/pandas_essential/raw/main/olympics_1896_2004.csv\n",
        "\n",
        "filename = \"olympics_1896_2004.csv\"\n",
        "print(\"Installed all of the necessary files for this section ...\")"
      ],
      "metadata": {
        "id": "lXgyKJGPe8Tu"
      },
      "execution_count": null,
      "outputs": []
    },
    {
      "cell_type": "code",
      "source": [
        "oo = (pd.read_csv(filename, skiprows=5)\n",
        "      .drop('Position', axis=1)\n",
        ")\n",
        "oo.sample(3)"
      ],
      "metadata": {
        "id": "t29BT5gbrBIc"
      },
      "execution_count": null,
      "outputs": []
    },
    {
      "cell_type": "code",
      "execution_count": null,
      "metadata": {
        "id": "sc8z0Lt6YUPO"
      },
      "outputs": [],
      "source": [
        "type(True)"
      ]
    },
    {
      "cell_type": "code",
      "execution_count": null,
      "metadata": {
        "id": "Bmwe33a1Y-2P"
      },
      "outputs": [],
      "source": [
        "type(False)"
      ]
    },
    {
      "cell_type": "code",
      "execution_count": null,
      "metadata": {
        "id": "4dO8-KghZiSV"
      },
      "outputs": [],
      "source": [
        "oo.Year.dtype"
      ]
    },
    {
      "cell_type": "code",
      "execution_count": null,
      "metadata": {
        "id": "6GUl6DVbZFTN"
      },
      "outputs": [],
      "source": [
        "first_olympics = (oo.Year == 1896)\n",
        "first_olympics"
      ]
    },
    {
      "cell_type": "code",
      "execution_count": null,
      "metadata": {
        "id": "f6y4vN4pap6g"
      },
      "outputs": [],
      "source": [
        "oo[first_olympics]"
      ]
    },
    {
      "cell_type": "code",
      "execution_count": null,
      "metadata": {
        "id": "-CeFZjg1av38"
      },
      "outputs": [],
      "source": [
        "oo[oo.Year == 1896]"
      ]
    },
    {
      "cell_type": "code",
      "execution_count": null,
      "metadata": {
        "id": "-bcylkijfi3p"
      },
      "outputs": [],
      "source": [
        "oo[oo.Year < 1896]"
      ]
    },
    {
      "cell_type": "code",
      "execution_count": null,
      "metadata": {
        "id": "1mVCF2aBfojw"
      },
      "outputs": [],
      "source": [
        "oo[(oo.Year <= 1896)]"
      ]
    },
    {
      "cell_type": "markdown",
      "metadata": {
        "id": "IEMaZhWNgH8S"
      },
      "source": [
        "## Filter rows for multiple conditions"
      ]
    },
    {
      "cell_type": "code",
      "source": [
        "!pip install --quiet pandas==2.0.2\n",
        "\n",
        "import pandas as pd\n",
        "from pathlib import Path\n",
        "\n",
        "if not Path(\"olympics_1896_2004.csv\").exists():\n",
        "  !wget https://github.com/jonfernandes/pandas_essential/raw/main/olympics_1896_2004.csv\n",
        "\n",
        "filename = \"olympics_1896_2004.csv\"\n",
        "print(\"Installed all of the necessary files for this section ...\")"
      ],
      "metadata": {
        "id": "2laJYlXsfDLv"
      },
      "execution_count": null,
      "outputs": []
    },
    {
      "cell_type": "code",
      "source": [
        "oo = (pd.read_csv(filename, skiprows=5)\n",
        "      .drop('Position', axis=1)\n",
        ")\n",
        "oo.tail(3)"
      ],
      "metadata": {
        "id": "IlOsfcIgjvUW"
      },
      "execution_count": null,
      "outputs": []
    },
    {
      "cell_type": "code",
      "execution_count": null,
      "metadata": {
        "id": "BW-mRtxwg1qc"
      },
      "outputs": [],
      "source": [
        "oo.dtypes"
      ]
    },
    {
      "cell_type": "code",
      "execution_count": null,
      "metadata": {
        "id": "u7nXHc19gPwj"
      },
      "outputs": [],
      "source": [
        "oo[oo.City == 'Athens']"
      ]
    },
    {
      "cell_type": "code",
      "source": [
        "#oo[oo.City == Athens]"
      ],
      "metadata": {
        "id": "Aw8sVdFAkIBP"
      },
      "execution_count": null,
      "outputs": []
    },
    {
      "cell_type": "code",
      "execution_count": null,
      "metadata": {
        "id": "WHGrdM0AhRuo"
      },
      "outputs": [],
      "source": [
        "oo[(oo.Year == 1896) | (oo.Year == 2004)]"
      ]
    },
    {
      "cell_type": "code",
      "execution_count": null,
      "metadata": {
        "id": "m-4U5Jo3ke6f"
      },
      "outputs": [],
      "source": [
        "oo[(oo.City == 'Athens') & (oo.Year == 2004)]"
      ]
    },
    {
      "cell_type": "code",
      "execution_count": null,
      "metadata": {
        "id": "KmCyCTnyksgk"
      },
      "outputs": [],
      "source": [
        "oo[(oo.City == 'Athens') & ~(oo.Year == 1896)]"
      ]
    },
    {
      "cell_type": "code",
      "execution_count": null,
      "metadata": {
        "id": "yQR50DX2iXd6"
      },
      "outputs": [],
      "source": [
        "first_men_100m = oo[(oo.Year == 1896) & (oo.Gender == 'Men') & (oo.Event == '100m')]\n",
        "first_men_100m"
      ]
    },
    {
      "cell_type": "code",
      "execution_count": null,
      "metadata": {
        "id": "Yl6_EgtTFebl"
      },
      "outputs": [],
      "source": [
        "oo[(oo.Year == 1896) & (oo.Gender == 'Men') & (oo.Event == '100m')][[\"Year\", \"Athlete Name\", \"NOC\", \"Event\", \"Medal\"]]"
      ]
    },
    {
      "cell_type": "code",
      "execution_count": null,
      "metadata": {
        "id": "_f5j-cJ-Ge3d"
      },
      "outputs": [],
      "source": [
        "first_men_100m[[\"Year\", \"Athlete Name\", \"NOC\", \"Event\", \"Medal\"]]"
      ]
    },
    {
      "cell_type": "markdown",
      "metadata": {
        "id": "PLavnC_tldUv"
      },
      "source": [
        "## Using String methods"
      ]
    },
    {
      "cell_type": "code",
      "source": [
        "!pip install --quiet pandas==2.0.2\n",
        "\n",
        "import pandas as pd\n",
        "from pathlib import Path\n",
        "\n",
        "if not Path(\"olympics_1896_2004.csv\").exists():\n",
        "  !wget https://github.com/jonfernandes/pandas_essential/raw/main/olympics_1896_2004.csv\n",
        "\n",
        "filename = \"olympics_1896_2004.csv\"\n",
        "print(\"Installed all of the necessary files for this section ...\")"
      ],
      "metadata": {
        "id": "5WIpCHr9fIM3",
        "outputId": "2452e117-3b24-44c1-bcd9-9613fb0785e9",
        "colab": {
          "base_uri": "https://localhost:8080/"
        }
      },
      "execution_count": null,
      "outputs": [
        {
          "output_type": "stream",
          "name": "stdout",
          "text": [
            "Installed all of the necessary files for this section ...\n"
          ]
        }
      ]
    },
    {
      "cell_type": "code",
      "source": [
        "oo = (pd.read_csv(filename, skiprows=5)\n",
        "      .drop('Position', axis=1)\n",
        ")\n",
        "oo.head(3)"
      ],
      "metadata": {
        "id": "AGr-1o_FeH1w",
        "outputId": "362f0f2a-c678-4839-a015-a24d38182e04",
        "colab": {
          "base_uri": "https://localhost:8080/",
          "height": 143
        }
      },
      "execution_count": null,
      "outputs": [
        {
          "output_type": "execute_result",
          "data": {
            "text/plain": [
              "   Year    City      Sport     Discipline        Athlete Name  NOC Gender  \\\n",
              "0  1896  Athens    Cycling  Cycling Track       FLAMENG, Léon  FRA    Men   \n",
              "1  1896  Athens    Cycling  Cycling Track  KOLETTIS, Georgios  GRE    Men   \n",
              "2  1896  Athens  Athletics      Athletics       LANE, Francis  USA    Men   \n",
              "\n",
              "   Event Event Gender   Medal  \n",
              "0  100km            M    Gold  \n",
              "1  100km            M  Silver  \n",
              "2   100m            M  Bronze  "
            ],
            "text/html": [
              "\n",
              "  <div id=\"df-4795b9df-0a7c-4321-8251-1a67c8e48854\" class=\"colab-df-container\">\n",
              "    <div>\n",
              "<style scoped>\n",
              "    .dataframe tbody tr th:only-of-type {\n",
              "        vertical-align: middle;\n",
              "    }\n",
              "\n",
              "    .dataframe tbody tr th {\n",
              "        vertical-align: top;\n",
              "    }\n",
              "\n",
              "    .dataframe thead th {\n",
              "        text-align: right;\n",
              "    }\n",
              "</style>\n",
              "<table border=\"1\" class=\"dataframe\">\n",
              "  <thead>\n",
              "    <tr style=\"text-align: right;\">\n",
              "      <th></th>\n",
              "      <th>Year</th>\n",
              "      <th>City</th>\n",
              "      <th>Sport</th>\n",
              "      <th>Discipline</th>\n",
              "      <th>Athlete Name</th>\n",
              "      <th>NOC</th>\n",
              "      <th>Gender</th>\n",
              "      <th>Event</th>\n",
              "      <th>Event Gender</th>\n",
              "      <th>Medal</th>\n",
              "    </tr>\n",
              "  </thead>\n",
              "  <tbody>\n",
              "    <tr>\n",
              "      <th>0</th>\n",
              "      <td>1896</td>\n",
              "      <td>Athens</td>\n",
              "      <td>Cycling</td>\n",
              "      <td>Cycling Track</td>\n",
              "      <td>FLAMENG, Léon</td>\n",
              "      <td>FRA</td>\n",
              "      <td>Men</td>\n",
              "      <td>100km</td>\n",
              "      <td>M</td>\n",
              "      <td>Gold</td>\n",
              "    </tr>\n",
              "    <tr>\n",
              "      <th>1</th>\n",
              "      <td>1896</td>\n",
              "      <td>Athens</td>\n",
              "      <td>Cycling</td>\n",
              "      <td>Cycling Track</td>\n",
              "      <td>KOLETTIS, Georgios</td>\n",
              "      <td>GRE</td>\n",
              "      <td>Men</td>\n",
              "      <td>100km</td>\n",
              "      <td>M</td>\n",
              "      <td>Silver</td>\n",
              "    </tr>\n",
              "    <tr>\n",
              "      <th>2</th>\n",
              "      <td>1896</td>\n",
              "      <td>Athens</td>\n",
              "      <td>Athletics</td>\n",
              "      <td>Athletics</td>\n",
              "      <td>LANE, Francis</td>\n",
              "      <td>USA</td>\n",
              "      <td>Men</td>\n",
              "      <td>100m</td>\n",
              "      <td>M</td>\n",
              "      <td>Bronze</td>\n",
              "    </tr>\n",
              "  </tbody>\n",
              "</table>\n",
              "</div>\n",
              "    <div class=\"colab-df-buttons\">\n",
              "\n",
              "  <div class=\"colab-df-container\">\n",
              "    <button class=\"colab-df-convert\" onclick=\"convertToInteractive('df-4795b9df-0a7c-4321-8251-1a67c8e48854')\"\n",
              "            title=\"Convert this dataframe to an interactive table.\"\n",
              "            style=\"display:none;\">\n",
              "\n",
              "  <svg xmlns=\"http://www.w3.org/2000/svg\" height=\"24px\" viewBox=\"0 -960 960 960\">\n",
              "    <path d=\"M120-120v-720h720v720H120Zm60-500h600v-160H180v160Zm220 220h160v-160H400v160Zm0 220h160v-160H400v160ZM180-400h160v-160H180v160Zm440 0h160v-160H620v160ZM180-180h160v-160H180v160Zm440 0h160v-160H620v160Z\"/>\n",
              "  </svg>\n",
              "    </button>\n",
              "\n",
              "  <style>\n",
              "    .colab-df-container {\n",
              "      display:flex;\n",
              "      gap: 12px;\n",
              "    }\n",
              "\n",
              "    .colab-df-convert {\n",
              "      background-color: #E8F0FE;\n",
              "      border: none;\n",
              "      border-radius: 50%;\n",
              "      cursor: pointer;\n",
              "      display: none;\n",
              "      fill: #1967D2;\n",
              "      height: 32px;\n",
              "      padding: 0 0 0 0;\n",
              "      width: 32px;\n",
              "    }\n",
              "\n",
              "    .colab-df-convert:hover {\n",
              "      background-color: #E2EBFA;\n",
              "      box-shadow: 0px 1px 2px rgba(60, 64, 67, 0.3), 0px 1px 3px 1px rgba(60, 64, 67, 0.15);\n",
              "      fill: #174EA6;\n",
              "    }\n",
              "\n",
              "    .colab-df-buttons div {\n",
              "      margin-bottom: 4px;\n",
              "    }\n",
              "\n",
              "    [theme=dark] .colab-df-convert {\n",
              "      background-color: #3B4455;\n",
              "      fill: #D2E3FC;\n",
              "    }\n",
              "\n",
              "    [theme=dark] .colab-df-convert:hover {\n",
              "      background-color: #434B5C;\n",
              "      box-shadow: 0px 1px 3px 1px rgba(0, 0, 0, 0.15);\n",
              "      filter: drop-shadow(0px 1px 2px rgba(0, 0, 0, 0.3));\n",
              "      fill: #FFFFFF;\n",
              "    }\n",
              "  </style>\n",
              "\n",
              "    <script>\n",
              "      const buttonEl =\n",
              "        document.querySelector('#df-4795b9df-0a7c-4321-8251-1a67c8e48854 button.colab-df-convert');\n",
              "      buttonEl.style.display =\n",
              "        google.colab.kernel.accessAllowed ? 'block' : 'none';\n",
              "\n",
              "      async function convertToInteractive(key) {\n",
              "        const element = document.querySelector('#df-4795b9df-0a7c-4321-8251-1a67c8e48854');\n",
              "        const dataTable =\n",
              "          await google.colab.kernel.invokeFunction('convertToInteractive',\n",
              "                                                    [key], {});\n",
              "        if (!dataTable) return;\n",
              "\n",
              "        const docLinkHtml = 'Like what you see? Visit the ' +\n",
              "          '<a target=\"_blank\" href=https://colab.research.google.com/notebooks/data_table.ipynb>data table notebook</a>'\n",
              "          + ' to learn more about interactive tables.';\n",
              "        element.innerHTML = '';\n",
              "        dataTable['output_type'] = 'display_data';\n",
              "        await google.colab.output.renderOutput(dataTable, element);\n",
              "        const docLink = document.createElement('div');\n",
              "        docLink.innerHTML = docLinkHtml;\n",
              "        element.appendChild(docLink);\n",
              "      }\n",
              "    </script>\n",
              "  </div>\n",
              "\n",
              "\n",
              "<div id=\"df-483918cd-c1b3-41cc-a316-1b2864dbf1c6\">\n",
              "  <button class=\"colab-df-quickchart\" onclick=\"quickchart('df-483918cd-c1b3-41cc-a316-1b2864dbf1c6')\"\n",
              "            title=\"Suggest charts\"\n",
              "            style=\"display:none;\">\n",
              "\n",
              "<svg xmlns=\"http://www.w3.org/2000/svg\" height=\"24px\"viewBox=\"0 0 24 24\"\n",
              "     width=\"24px\">\n",
              "    <g>\n",
              "        <path d=\"M19 3H5c-1.1 0-2 .9-2 2v14c0 1.1.9 2 2 2h14c1.1 0 2-.9 2-2V5c0-1.1-.9-2-2-2zM9 17H7v-7h2v7zm4 0h-2V7h2v10zm4 0h-2v-4h2v4z\"/>\n",
              "    </g>\n",
              "</svg>\n",
              "  </button>\n",
              "\n",
              "<style>\n",
              "  .colab-df-quickchart {\n",
              "      --bg-color: #E8F0FE;\n",
              "      --fill-color: #1967D2;\n",
              "      --hover-bg-color: #E2EBFA;\n",
              "      --hover-fill-color: #174EA6;\n",
              "      --disabled-fill-color: #AAA;\n",
              "      --disabled-bg-color: #DDD;\n",
              "  }\n",
              "\n",
              "  [theme=dark] .colab-df-quickchart {\n",
              "      --bg-color: #3B4455;\n",
              "      --fill-color: #D2E3FC;\n",
              "      --hover-bg-color: #434B5C;\n",
              "      --hover-fill-color: #FFFFFF;\n",
              "      --disabled-bg-color: #3B4455;\n",
              "      --disabled-fill-color: #666;\n",
              "  }\n",
              "\n",
              "  .colab-df-quickchart {\n",
              "    background-color: var(--bg-color);\n",
              "    border: none;\n",
              "    border-radius: 50%;\n",
              "    cursor: pointer;\n",
              "    display: none;\n",
              "    fill: var(--fill-color);\n",
              "    height: 32px;\n",
              "    padding: 0;\n",
              "    width: 32px;\n",
              "  }\n",
              "\n",
              "  .colab-df-quickchart:hover {\n",
              "    background-color: var(--hover-bg-color);\n",
              "    box-shadow: 0 1px 2px rgba(60, 64, 67, 0.3), 0 1px 3px 1px rgba(60, 64, 67, 0.15);\n",
              "    fill: var(--button-hover-fill-color);\n",
              "  }\n",
              "\n",
              "  .colab-df-quickchart-complete:disabled,\n",
              "  .colab-df-quickchart-complete:disabled:hover {\n",
              "    background-color: var(--disabled-bg-color);\n",
              "    fill: var(--disabled-fill-color);\n",
              "    box-shadow: none;\n",
              "  }\n",
              "\n",
              "  .colab-df-spinner {\n",
              "    border: 2px solid var(--fill-color);\n",
              "    border-color: transparent;\n",
              "    border-bottom-color: var(--fill-color);\n",
              "    animation:\n",
              "      spin 1s steps(1) infinite;\n",
              "  }\n",
              "\n",
              "  @keyframes spin {\n",
              "    0% {\n",
              "      border-color: transparent;\n",
              "      border-bottom-color: var(--fill-color);\n",
              "      border-left-color: var(--fill-color);\n",
              "    }\n",
              "    20% {\n",
              "      border-color: transparent;\n",
              "      border-left-color: var(--fill-color);\n",
              "      border-top-color: var(--fill-color);\n",
              "    }\n",
              "    30% {\n",
              "      border-color: transparent;\n",
              "      border-left-color: var(--fill-color);\n",
              "      border-top-color: var(--fill-color);\n",
              "      border-right-color: var(--fill-color);\n",
              "    }\n",
              "    40% {\n",
              "      border-color: transparent;\n",
              "      border-right-color: var(--fill-color);\n",
              "      border-top-color: var(--fill-color);\n",
              "    }\n",
              "    60% {\n",
              "      border-color: transparent;\n",
              "      border-right-color: var(--fill-color);\n",
              "    }\n",
              "    80% {\n",
              "      border-color: transparent;\n",
              "      border-right-color: var(--fill-color);\n",
              "      border-bottom-color: var(--fill-color);\n",
              "    }\n",
              "    90% {\n",
              "      border-color: transparent;\n",
              "      border-bottom-color: var(--fill-color);\n",
              "    }\n",
              "  }\n",
              "</style>\n",
              "\n",
              "  <script>\n",
              "    async function quickchart(key) {\n",
              "      const quickchartButtonEl =\n",
              "        document.querySelector('#' + key + ' button');\n",
              "      quickchartButtonEl.disabled = true;  // To prevent multiple clicks.\n",
              "      quickchartButtonEl.classList.add('colab-df-spinner');\n",
              "      try {\n",
              "        const charts = await google.colab.kernel.invokeFunction(\n",
              "            'suggestCharts', [key], {});\n",
              "      } catch (error) {\n",
              "        console.error('Error during call to suggestCharts:', error);\n",
              "      }\n",
              "      quickchartButtonEl.classList.remove('colab-df-spinner');\n",
              "      quickchartButtonEl.classList.add('colab-df-quickchart-complete');\n",
              "    }\n",
              "    (() => {\n",
              "      let quickchartButtonEl =\n",
              "        document.querySelector('#df-483918cd-c1b3-41cc-a316-1b2864dbf1c6 button');\n",
              "      quickchartButtonEl.style.display =\n",
              "        google.colab.kernel.accessAllowed ? 'block' : 'none';\n",
              "    })();\n",
              "  </script>\n",
              "</div>\n",
              "\n",
              "    </div>\n",
              "  </div>\n"
            ],
            "application/vnd.google.colaboratory.intrinsic+json": {
              "type": "dataframe",
              "variable_name": "oo",
              "summary": "{\n  \"name\": \"oo\",\n  \"rows\": 27174,\n  \"fields\": [\n    {\n      \"column\": \"Year\",\n      \"properties\": {\n        \"dtype\": \"number\",\n        \"std\": 31,\n        \"min\": 1896,\n        \"max\": 2004,\n        \"num_unique_values\": 25,\n        \"samples\": [\n          1932,\n          1972,\n          1896\n        ],\n        \"semantic_type\": \"\",\n        \"description\": \"\"\n      }\n    },\n    {\n      \"column\": \"City\",\n      \"properties\": {\n        \"dtype\": \"category\",\n        \"num_unique_values\": 21,\n        \"samples\": [\n          \"Athens\",\n          \"Seoul\",\n          \"Montreal\"\n        ],\n        \"semantic_type\": \"\",\n        \"description\": \"\"\n      }\n    },\n    {\n      \"column\": \"Sport\",\n      \"properties\": {\n        \"dtype\": \"category\",\n        \"num_unique_values\": 42,\n        \"samples\": [\n          \"Rackets\",\n          \"Croquet\",\n          \"Wrestling\"\n        ],\n        \"semantic_type\": \"\",\n        \"description\": \"\"\n      }\n    },\n    {\n      \"column\": \"Discipline\",\n      \"properties\": {\n        \"dtype\": \"category\",\n        \"num_unique_values\": 55,\n        \"samples\": [\n          \"Jeu de Paume\",\n          \"Fencing\",\n          \"Figure skating\"\n        ],\n        \"semantic_type\": \"\",\n        \"description\": \"\"\n      }\n    },\n    {\n      \"column\": \"Athlete Name\",\n      \"properties\": {\n        \"dtype\": \"string\",\n        \"num_unique_values\": 19991,\n        \"samples\": [\n          \"TOMAN, Ladislav\",\n          \"MATTO, Sergio A.\",\n          \"DE WOLF, Nicolaas\"\n        ],\n        \"semantic_type\": \"\",\n        \"description\": \"\"\n      }\n    },\n    {\n      \"column\": \"NOC\",\n      \"properties\": {\n        \"dtype\": \"category\",\n        \"num_unique_values\": 132,\n        \"samples\": [\n          \"VEN\",\n          \"ZIM\",\n          \"SWE\"\n        ],\n        \"semantic_type\": \"\",\n        \"description\": \"\"\n      }\n    },\n    {\n      \"column\": \"Gender\",\n      \"properties\": {\n        \"dtype\": \"category\",\n        \"num_unique_values\": 2,\n        \"samples\": [\n          \"Women\",\n          \"Men\"\n        ],\n        \"semantic_type\": \"\",\n        \"description\": \"\"\n      }\n    },\n    {\n      \"column\": \"Event\",\n      \"properties\": {\n        \"dtype\": \"category\",\n        \"num_unique_values\": 572,\n        \"samples\": [\n          \"- 58 kg\",\n          \"cricket\"\n        ],\n        \"semantic_type\": \"\",\n        \"description\": \"\"\n      }\n    },\n    {\n      \"column\": \"Event Gender\",\n      \"properties\": {\n        \"dtype\": \"category\",\n        \"num_unique_values\": 3,\n        \"samples\": [\n          \"M\",\n          \"X\"\n        ],\n        \"semantic_type\": \"\",\n        \"description\": \"\"\n      }\n    },\n    {\n      \"column\": \"Medal\",\n      \"properties\": {\n        \"dtype\": \"category\",\n        \"num_unique_values\": 3,\n        \"samples\": [\n          \"Gold\",\n          \"Silver\"\n        ],\n        \"semantic_type\": \"\",\n        \"description\": \"\"\n      }\n    }\n  ]\n}"
            }
          },
          "metadata": {},
          "execution_count": 125
        }
      ]
    },
    {
      "cell_type": "code",
      "execution_count": null,
      "metadata": {
        "id": "tMUM65Bmlknv"
      },
      "outputs": [],
      "source": [
        "oo[\"Athlete Name\"].str.lower()"
      ]
    },
    {
      "cell_type": "code",
      "execution_count": null,
      "metadata": {
        "id": "GFFRSXU8oTh-"
      },
      "outputs": [],
      "source": [
        "oo.Event.unique()"
      ]
    },
    {
      "cell_type": "code",
      "execution_count": null,
      "metadata": {
        "id": "0KvKRpO9pVd6"
      },
      "outputs": [],
      "source": [
        "oo.Event.str.capitalize()"
      ]
    },
    {
      "cell_type": "code",
      "execution_count": null,
      "metadata": {
        "id": "Mrk9loD6pprs"
      },
      "outputs": [],
      "source": [
        "oo.Event = oo.Event.str.capitalize()\n",
        "oo.Event.unique()"
      ]
    },
    {
      "cell_type": "code",
      "source": [
        "dir(oo.Event.str)"
      ],
      "metadata": {
        "id": "SoySwvn3e7fQ"
      },
      "execution_count": null,
      "outputs": []
    },
    {
      "cell_type": "code",
      "execution_count": null,
      "metadata": {
        "id": "ljwZKwEKp4C9"
      },
      "outputs": [],
      "source": [
        "oo[\"Athlete Name\"].str.contains(\"Latynina\")"
      ]
    },
    {
      "cell_type": "code",
      "execution_count": null,
      "metadata": {
        "id": "9jxM-wfXqBlg"
      },
      "outputs": [],
      "source": [
        "# Larisa Latynina - most decorated Female athlete\n",
        "oo[oo[\"Athlete Name\"].str.contains(\"Latynina\")]"
      ]
    },
    {
      "cell_type": "code",
      "execution_count": null,
      "metadata": {
        "id": "RE5DJK7pt-eW"
      },
      "outputs": [],
      "source": [
        "oo[oo[\"Athlete Name\"].str.contains(\"LATYNINA\")]"
      ]
    },
    {
      "cell_type": "code",
      "source": [
        "dir(oo.Event.str)"
      ],
      "metadata": {
        "id": "F71XMdtviKk3"
      },
      "execution_count": null,
      "outputs": []
    },
    {
      "cell_type": "code",
      "source": [
        "#Simple Exercise: make all the city names in capital letters\n",
        "#oo.head(5)\n",
        "oo.City = oo.City.str.upper()\n",
        "oo.City.unique() #success"
      ],
      "metadata": {
        "id": "ychGLCrP_D6x",
        "outputId": "2d6f85dc-c348-4ed9-bc7b-fccda8b1ed2b",
        "colab": {
          "base_uri": "https://localhost:8080/"
        }
      },
      "execution_count": null,
      "outputs": [
        {
          "output_type": "execute_result",
          "data": {
            "text/plain": [
              "array(['ATHENS', 'PARIS', 'ST LOUIS', 'LONDON', 'STOCKHOLM', 'ANTWERP',\n",
              "       'AMSTERDAM', 'LOS ANGELES', 'BERLIN', 'HELSINKI',\n",
              "       'MELBOURNE / STOCKHOLM', 'ROME', 'TOKYO', 'MEXICO', 'MUNICH',\n",
              "       'MONTREAL', 'MOSCOW', 'SEOUL', 'BARCELONA', 'ATLANTA', 'SYDNEY'],\n",
              "      dtype=object)"
            ]
          },
          "metadata": {},
          "execution_count": 152
        }
      ]
    },
    {
      "cell_type": "code",
      "source": [
        "oo.City = oo.City.str.upper()\n",
        "oo.sample(3)"
      ],
      "metadata": {
        "id": "WQjAIm1Silxv",
        "outputId": "23ba902f-a2a8-457f-e2ec-83eb82280c6b",
        "colab": {
          "base_uri": "https://localhost:8080/",
          "height": 143
        }
      },
      "execution_count": null,
      "outputs": [
        {
          "output_type": "execute_result",
          "data": {
            "text/plain": [
              "       Year       City       Sport Discipline                 Athlete Name  \\\n",
              "20844  1992  BARCELONA      Hockey     Hockey  COGHEN ALBERDINGO, Mercedes   \n",
              "12521  1968     MEXICO  Equestrian    Jumping          ROZIER, Jean Marcel   \n",
              "25482  2004     ATHENS    Aquatics   Swimming                 MILLS, Alice   \n",
              "\n",
              "       NOC Gender                Event Event Gender   Medal  \n",
              "20844  ESP  Women               hockey            W    Gold  \n",
              "12521  FRA    Men                 team            X  Silver  \n",
              "25482  AUS  Women  4x100m medley relay            W    Gold  "
            ],
            "text/html": [
              "\n",
              "  <div id=\"df-f3a66b08-8469-462c-93b6-f34ae80ec889\" class=\"colab-df-container\">\n",
              "    <div>\n",
              "<style scoped>\n",
              "    .dataframe tbody tr th:only-of-type {\n",
              "        vertical-align: middle;\n",
              "    }\n",
              "\n",
              "    .dataframe tbody tr th {\n",
              "        vertical-align: top;\n",
              "    }\n",
              "\n",
              "    .dataframe thead th {\n",
              "        text-align: right;\n",
              "    }\n",
              "</style>\n",
              "<table border=\"1\" class=\"dataframe\">\n",
              "  <thead>\n",
              "    <tr style=\"text-align: right;\">\n",
              "      <th></th>\n",
              "      <th>Year</th>\n",
              "      <th>City</th>\n",
              "      <th>Sport</th>\n",
              "      <th>Discipline</th>\n",
              "      <th>Athlete Name</th>\n",
              "      <th>NOC</th>\n",
              "      <th>Gender</th>\n",
              "      <th>Event</th>\n",
              "      <th>Event Gender</th>\n",
              "      <th>Medal</th>\n",
              "    </tr>\n",
              "  </thead>\n",
              "  <tbody>\n",
              "    <tr>\n",
              "      <th>20844</th>\n",
              "      <td>1992</td>\n",
              "      <td>BARCELONA</td>\n",
              "      <td>Hockey</td>\n",
              "      <td>Hockey</td>\n",
              "      <td>COGHEN ALBERDINGO, Mercedes</td>\n",
              "      <td>ESP</td>\n",
              "      <td>Women</td>\n",
              "      <td>hockey</td>\n",
              "      <td>W</td>\n",
              "      <td>Gold</td>\n",
              "    </tr>\n",
              "    <tr>\n",
              "      <th>12521</th>\n",
              "      <td>1968</td>\n",
              "      <td>MEXICO</td>\n",
              "      <td>Equestrian</td>\n",
              "      <td>Jumping</td>\n",
              "      <td>ROZIER, Jean Marcel</td>\n",
              "      <td>FRA</td>\n",
              "      <td>Men</td>\n",
              "      <td>team</td>\n",
              "      <td>X</td>\n",
              "      <td>Silver</td>\n",
              "    </tr>\n",
              "    <tr>\n",
              "      <th>25482</th>\n",
              "      <td>2004</td>\n",
              "      <td>ATHENS</td>\n",
              "      <td>Aquatics</td>\n",
              "      <td>Swimming</td>\n",
              "      <td>MILLS, Alice</td>\n",
              "      <td>AUS</td>\n",
              "      <td>Women</td>\n",
              "      <td>4x100m medley relay</td>\n",
              "      <td>W</td>\n",
              "      <td>Gold</td>\n",
              "    </tr>\n",
              "  </tbody>\n",
              "</table>\n",
              "</div>\n",
              "    <div class=\"colab-df-buttons\">\n",
              "\n",
              "  <div class=\"colab-df-container\">\n",
              "    <button class=\"colab-df-convert\" onclick=\"convertToInteractive('df-f3a66b08-8469-462c-93b6-f34ae80ec889')\"\n",
              "            title=\"Convert this dataframe to an interactive table.\"\n",
              "            style=\"display:none;\">\n",
              "\n",
              "  <svg xmlns=\"http://www.w3.org/2000/svg\" height=\"24px\" viewBox=\"0 -960 960 960\">\n",
              "    <path d=\"M120-120v-720h720v720H120Zm60-500h600v-160H180v160Zm220 220h160v-160H400v160Zm0 220h160v-160H400v160ZM180-400h160v-160H180v160Zm440 0h160v-160H620v160ZM180-180h160v-160H180v160Zm440 0h160v-160H620v160Z\"/>\n",
              "  </svg>\n",
              "    </button>\n",
              "\n",
              "  <style>\n",
              "    .colab-df-container {\n",
              "      display:flex;\n",
              "      gap: 12px;\n",
              "    }\n",
              "\n",
              "    .colab-df-convert {\n",
              "      background-color: #E8F0FE;\n",
              "      border: none;\n",
              "      border-radius: 50%;\n",
              "      cursor: pointer;\n",
              "      display: none;\n",
              "      fill: #1967D2;\n",
              "      height: 32px;\n",
              "      padding: 0 0 0 0;\n",
              "      width: 32px;\n",
              "    }\n",
              "\n",
              "    .colab-df-convert:hover {\n",
              "      background-color: #E2EBFA;\n",
              "      box-shadow: 0px 1px 2px rgba(60, 64, 67, 0.3), 0px 1px 3px 1px rgba(60, 64, 67, 0.15);\n",
              "      fill: #174EA6;\n",
              "    }\n",
              "\n",
              "    .colab-df-buttons div {\n",
              "      margin-bottom: 4px;\n",
              "    }\n",
              "\n",
              "    [theme=dark] .colab-df-convert {\n",
              "      background-color: #3B4455;\n",
              "      fill: #D2E3FC;\n",
              "    }\n",
              "\n",
              "    [theme=dark] .colab-df-convert:hover {\n",
              "      background-color: #434B5C;\n",
              "      box-shadow: 0px 1px 3px 1px rgba(0, 0, 0, 0.15);\n",
              "      filter: drop-shadow(0px 1px 2px rgba(0, 0, 0, 0.3));\n",
              "      fill: #FFFFFF;\n",
              "    }\n",
              "  </style>\n",
              "\n",
              "    <script>\n",
              "      const buttonEl =\n",
              "        document.querySelector('#df-f3a66b08-8469-462c-93b6-f34ae80ec889 button.colab-df-convert');\n",
              "      buttonEl.style.display =\n",
              "        google.colab.kernel.accessAllowed ? 'block' : 'none';\n",
              "\n",
              "      async function convertToInteractive(key) {\n",
              "        const element = document.querySelector('#df-f3a66b08-8469-462c-93b6-f34ae80ec889');\n",
              "        const dataTable =\n",
              "          await google.colab.kernel.invokeFunction('convertToInteractive',\n",
              "                                                    [key], {});\n",
              "        if (!dataTable) return;\n",
              "\n",
              "        const docLinkHtml = 'Like what you see? Visit the ' +\n",
              "          '<a target=\"_blank\" href=https://colab.research.google.com/notebooks/data_table.ipynb>data table notebook</a>'\n",
              "          + ' to learn more about interactive tables.';\n",
              "        element.innerHTML = '';\n",
              "        dataTable['output_type'] = 'display_data';\n",
              "        await google.colab.output.renderOutput(dataTable, element);\n",
              "        const docLink = document.createElement('div');\n",
              "        docLink.innerHTML = docLinkHtml;\n",
              "        element.appendChild(docLink);\n",
              "      }\n",
              "    </script>\n",
              "  </div>\n",
              "\n",
              "\n",
              "<div id=\"df-127e50a7-0a14-454a-8679-fff80b15de44\">\n",
              "  <button class=\"colab-df-quickchart\" onclick=\"quickchart('df-127e50a7-0a14-454a-8679-fff80b15de44')\"\n",
              "            title=\"Suggest charts\"\n",
              "            style=\"display:none;\">\n",
              "\n",
              "<svg xmlns=\"http://www.w3.org/2000/svg\" height=\"24px\"viewBox=\"0 0 24 24\"\n",
              "     width=\"24px\">\n",
              "    <g>\n",
              "        <path d=\"M19 3H5c-1.1 0-2 .9-2 2v14c0 1.1.9 2 2 2h14c1.1 0 2-.9 2-2V5c0-1.1-.9-2-2-2zM9 17H7v-7h2v7zm4 0h-2V7h2v10zm4 0h-2v-4h2v4z\"/>\n",
              "    </g>\n",
              "</svg>\n",
              "  </button>\n",
              "\n",
              "<style>\n",
              "  .colab-df-quickchart {\n",
              "      --bg-color: #E8F0FE;\n",
              "      --fill-color: #1967D2;\n",
              "      --hover-bg-color: #E2EBFA;\n",
              "      --hover-fill-color: #174EA6;\n",
              "      --disabled-fill-color: #AAA;\n",
              "      --disabled-bg-color: #DDD;\n",
              "  }\n",
              "\n",
              "  [theme=dark] .colab-df-quickchart {\n",
              "      --bg-color: #3B4455;\n",
              "      --fill-color: #D2E3FC;\n",
              "      --hover-bg-color: #434B5C;\n",
              "      --hover-fill-color: #FFFFFF;\n",
              "      --disabled-bg-color: #3B4455;\n",
              "      --disabled-fill-color: #666;\n",
              "  }\n",
              "\n",
              "  .colab-df-quickchart {\n",
              "    background-color: var(--bg-color);\n",
              "    border: none;\n",
              "    border-radius: 50%;\n",
              "    cursor: pointer;\n",
              "    display: none;\n",
              "    fill: var(--fill-color);\n",
              "    height: 32px;\n",
              "    padding: 0;\n",
              "    width: 32px;\n",
              "  }\n",
              "\n",
              "  .colab-df-quickchart:hover {\n",
              "    background-color: var(--hover-bg-color);\n",
              "    box-shadow: 0 1px 2px rgba(60, 64, 67, 0.3), 0 1px 3px 1px rgba(60, 64, 67, 0.15);\n",
              "    fill: var(--button-hover-fill-color);\n",
              "  }\n",
              "\n",
              "  .colab-df-quickchart-complete:disabled,\n",
              "  .colab-df-quickchart-complete:disabled:hover {\n",
              "    background-color: var(--disabled-bg-color);\n",
              "    fill: var(--disabled-fill-color);\n",
              "    box-shadow: none;\n",
              "  }\n",
              "\n",
              "  .colab-df-spinner {\n",
              "    border: 2px solid var(--fill-color);\n",
              "    border-color: transparent;\n",
              "    border-bottom-color: var(--fill-color);\n",
              "    animation:\n",
              "      spin 1s steps(1) infinite;\n",
              "  }\n",
              "\n",
              "  @keyframes spin {\n",
              "    0% {\n",
              "      border-color: transparent;\n",
              "      border-bottom-color: var(--fill-color);\n",
              "      border-left-color: var(--fill-color);\n",
              "    }\n",
              "    20% {\n",
              "      border-color: transparent;\n",
              "      border-left-color: var(--fill-color);\n",
              "      border-top-color: var(--fill-color);\n",
              "    }\n",
              "    30% {\n",
              "      border-color: transparent;\n",
              "      border-left-color: var(--fill-color);\n",
              "      border-top-color: var(--fill-color);\n",
              "      border-right-color: var(--fill-color);\n",
              "    }\n",
              "    40% {\n",
              "      border-color: transparent;\n",
              "      border-right-color: var(--fill-color);\n",
              "      border-top-color: var(--fill-color);\n",
              "    }\n",
              "    60% {\n",
              "      border-color: transparent;\n",
              "      border-right-color: var(--fill-color);\n",
              "    }\n",
              "    80% {\n",
              "      border-color: transparent;\n",
              "      border-right-color: var(--fill-color);\n",
              "      border-bottom-color: var(--fill-color);\n",
              "    }\n",
              "    90% {\n",
              "      border-color: transparent;\n",
              "      border-bottom-color: var(--fill-color);\n",
              "    }\n",
              "  }\n",
              "</style>\n",
              "\n",
              "  <script>\n",
              "    async function quickchart(key) {\n",
              "      const quickchartButtonEl =\n",
              "        document.querySelector('#' + key + ' button');\n",
              "      quickchartButtonEl.disabled = true;  // To prevent multiple clicks.\n",
              "      quickchartButtonEl.classList.add('colab-df-spinner');\n",
              "      try {\n",
              "        const charts = await google.colab.kernel.invokeFunction(\n",
              "            'suggestCharts', [key], {});\n",
              "      } catch (error) {\n",
              "        console.error('Error during call to suggestCharts:', error);\n",
              "      }\n",
              "      quickchartButtonEl.classList.remove('colab-df-spinner');\n",
              "      quickchartButtonEl.classList.add('colab-df-quickchart-complete');\n",
              "    }\n",
              "    (() => {\n",
              "      let quickchartButtonEl =\n",
              "        document.querySelector('#df-127e50a7-0a14-454a-8679-fff80b15de44 button');\n",
              "      quickchartButtonEl.style.display =\n",
              "        google.colab.kernel.accessAllowed ? 'block' : 'none';\n",
              "    })();\n",
              "  </script>\n",
              "</div>\n",
              "\n",
              "    </div>\n",
              "  </div>\n"
            ],
            "application/vnd.google.colaboratory.intrinsic+json": {
              "type": "dataframe",
              "summary": "{\n  \"name\": \"oo\",\n  \"rows\": 3,\n  \"fields\": [\n    {\n      \"column\": \"Year\",\n      \"properties\": {\n        \"dtype\": \"number\",\n        \"std\": 18,\n        \"min\": 1968,\n        \"max\": 2004,\n        \"num_unique_values\": 3,\n        \"samples\": [\n          1992,\n          1968,\n          2004\n        ],\n        \"semantic_type\": \"\",\n        \"description\": \"\"\n      }\n    },\n    {\n      \"column\": \"City\",\n      \"properties\": {\n        \"dtype\": \"string\",\n        \"num_unique_values\": 3,\n        \"samples\": [\n          \"BARCELONA\",\n          \"MEXICO\",\n          \"ATHENS\"\n        ],\n        \"semantic_type\": \"\",\n        \"description\": \"\"\n      }\n    },\n    {\n      \"column\": \"Sport\",\n      \"properties\": {\n        \"dtype\": \"string\",\n        \"num_unique_values\": 3,\n        \"samples\": [\n          \"Hockey\",\n          \"Equestrian\",\n          \"Aquatics\"\n        ],\n        \"semantic_type\": \"\",\n        \"description\": \"\"\n      }\n    },\n    {\n      \"column\": \"Discipline\",\n      \"properties\": {\n        \"dtype\": \"string\",\n        \"num_unique_values\": 3,\n        \"samples\": [\n          \"Hockey\",\n          \"Jumping\",\n          \"Swimming\"\n        ],\n        \"semantic_type\": \"\",\n        \"description\": \"\"\n      }\n    },\n    {\n      \"column\": \"Athlete Name\",\n      \"properties\": {\n        \"dtype\": \"string\",\n        \"num_unique_values\": 3,\n        \"samples\": [\n          \"COGHEN ALBERDINGO, Mercedes\",\n          \"ROZIER, Jean Marcel\",\n          \"MILLS, Alice\"\n        ],\n        \"semantic_type\": \"\",\n        \"description\": \"\"\n      }\n    },\n    {\n      \"column\": \"NOC\",\n      \"properties\": {\n        \"dtype\": \"string\",\n        \"num_unique_values\": 3,\n        \"samples\": [\n          \"ESP\",\n          \"FRA\",\n          \"AUS\"\n        ],\n        \"semantic_type\": \"\",\n        \"description\": \"\"\n      }\n    },\n    {\n      \"column\": \"Gender\",\n      \"properties\": {\n        \"dtype\": \"string\",\n        \"num_unique_values\": 2,\n        \"samples\": [\n          \"Men\",\n          \"Women\"\n        ],\n        \"semantic_type\": \"\",\n        \"description\": \"\"\n      }\n    },\n    {\n      \"column\": \"Event\",\n      \"properties\": {\n        \"dtype\": \"string\",\n        \"num_unique_values\": 3,\n        \"samples\": [\n          \"hockey\",\n          \"team\"\n        ],\n        \"semantic_type\": \"\",\n        \"description\": \"\"\n      }\n    },\n    {\n      \"column\": \"Event Gender\",\n      \"properties\": {\n        \"dtype\": \"string\",\n        \"num_unique_values\": 2,\n        \"samples\": [\n          \"X\",\n          \"W\"\n        ],\n        \"semantic_type\": \"\",\n        \"description\": \"\"\n      }\n    },\n    {\n      \"column\": \"Medal\",\n      \"properties\": {\n        \"dtype\": \"string\",\n        \"num_unique_values\": 2,\n        \"samples\": [\n          \"Silver\",\n          \"Gold\"\n        ],\n        \"semantic_type\": \"\",\n        \"description\": \"\"\n      }\n    }\n  ]\n}"
            }
          },
          "metadata": {},
          "execution_count": 141
        }
      ]
    },
    {
      "cell_type": "code",
      "source": [
        "oo.City.unique()"
      ],
      "metadata": {
        "id": "gc1CF1PlBg1l"
      },
      "execution_count": null,
      "outputs": []
    },
    {
      "cell_type": "markdown",
      "metadata": {
        "id": "f6JGaT7avvyR"
      },
      "source": [
        "## Sorting a DataFrame or Series"
      ]
    },
    {
      "cell_type": "code",
      "source": [
        "!pip install --quiet pandas==2.0.2\n",
        "\n",
        "import pandas as pd\n",
        "from pathlib import Path\n",
        "\n",
        "if not Path(\"olympics_1896_2004.csv\").exists():\n",
        "  !wget https://github.com/jonfernandes/pandas_essential/raw/main/olympics_1896_2004.csv\n",
        "\n",
        "filename = \"olympics_1896_2004.csv\"\n",
        "print(\"Installed all of the necessary files for this section ...\")"
      ],
      "metadata": {
        "id": "kzVA7nVSfNJv"
      },
      "execution_count": null,
      "outputs": []
    },
    {
      "cell_type": "code",
      "source": [
        "oo = (pd.read_csv(filename, skiprows=5)\n",
        "      .drop('Position', axis=1)\n",
        ")\n",
        "oo.sample(3)"
      ],
      "metadata": {
        "id": "hLvgmZ4WkVlp"
      },
      "execution_count": null,
      "outputs": []
    },
    {
      "cell_type": "code",
      "execution_count": null,
      "metadata": {
        "id": "qP81z2s4vvyV"
      },
      "outputs": [],
      "source": [
        "oo[\"Athlete Name\"].sort_values()"
      ]
    },
    {
      "cell_type": "code",
      "execution_count": null,
      "metadata": {
        "id": "LYg8VS5Iw139"
      },
      "outputs": [],
      "source": [
        "type(oo[\"Athlete Name\"].sort_values())"
      ]
    },
    {
      "cell_type": "code",
      "execution_count": null,
      "metadata": {
        "id": "lM2n1Iq5w6US"
      },
      "outputs": [],
      "source": [
        "oo.sort_values(\"Athlete Name\")"
      ]
    },
    {
      "cell_type": "code",
      "execution_count": null,
      "metadata": {
        "id": "tm7lexN9xSsJ"
      },
      "outputs": [],
      "source": [
        "type(oo.sort_values(\"Athlete Name\"))"
      ]
    },
    {
      "cell_type": "code",
      "execution_count": null,
      "metadata": {
        "id": "fmTzGpfCxFsJ"
      },
      "outputs": [],
      "source": [
        "oo.head(3)"
      ]
    },
    {
      "cell_type": "code",
      "source": [
        "oo.sort_values(\"Athlete Name\", ascending=False)"
      ],
      "metadata": {
        "id": "d_C8hopolmqH"
      },
      "execution_count": null,
      "outputs": []
    },
    {
      "cell_type": "code",
      "execution_count": null,
      "metadata": {
        "id": "6_lOD6wExwOg"
      },
      "outputs": [],
      "source": [
        "oo.sort_values(\"Athlete Name\", ascending=False).head(25)"
      ]
    },
    {
      "cell_type": "code",
      "execution_count": null,
      "metadata": {
        "id": "HVYkoY25vvyW"
      },
      "outputs": [],
      "source": [
        "oo.sort_values(by=['Year','Athlete Name'])"
      ]
    },
    {
      "cell_type": "code",
      "execution_count": null,
      "metadata": {
        "id": "ADjQXqsJvvyW"
      },
      "outputs": [],
      "source": [
        "oo.sort_values(by=[\"Year\", \"Athlete Name\"], ascending=[False, True])"
      ]
    },
    {
      "cell_type": "code",
      "execution_count": null,
      "metadata": {
        "id": "KzxqFKgSyr3q"
      },
      "outputs": [],
      "source": [
        "oo.head(7)"
      ]
    },
    {
      "cell_type": "code",
      "execution_count": null,
      "metadata": {
        "id": "Z4UEv9N-0Pq4"
      },
      "outputs": [],
      "source": [
        "oo.sort_values(by=[\"Year\", \"Event\", \"Medal\"], ascending=[True, True, False]).head(7)"
      ]
    },
    {
      "cell_type": "code",
      "source": [
        "oo.dtypes"
      ],
      "metadata": {
        "id": "fdFb8ZTfEcJv"
      },
      "execution_count": null,
      "outputs": []
    },
    {
      "cell_type": "markdown",
      "metadata": {
        "id": "B66y0jue2DMa"
      },
      "source": [
        "## Working with data types (dtype)"
      ]
    },
    {
      "cell_type": "code",
      "source": [
        "!pip install --quiet pandas==2.0.2\n",
        "\n",
        "import pandas as pd\n",
        "from pathlib import Path\n",
        "\n",
        "if not Path(\"olympics_1896_2004.csv\").exists():\n",
        "  !wget https://github.com/jonfernandes/pandas_essential/raw/main/olympics_1896_2004.csv\n",
        "\n",
        "filename = \"olympics_1896_2004.csv\"\n",
        "print(\"Installed all of the necessary files for this section ...\")"
      ],
      "metadata": {
        "id": "TToL2dscfPOv"
      },
      "execution_count": null,
      "outputs": []
    },
    {
      "cell_type": "code",
      "source": [
        "oo = (pd.read_csv(filename, skiprows=5)\n",
        "      .drop('Position', axis=1)\n",
        ")\n",
        "oo.sample(3)"
      ],
      "metadata": {
        "id": "jRjIv_lpvgLA"
      },
      "execution_count": null,
      "outputs": []
    },
    {
      "cell_type": "code",
      "execution_count": null,
      "metadata": {
        "id": "eImgvCkE2DMc"
      },
      "outputs": [],
      "source": [
        "oo.dtypes"
      ]
    },
    {
      "cell_type": "code",
      "execution_count": null,
      "metadata": {
        "id": "Z3cGak7D47Kf"
      },
      "outputs": [],
      "source": [
        "oo.Medal.unique()"
      ]
    },
    {
      "cell_type": "code",
      "execution_count": null,
      "metadata": {
        "id": "FEUzLnJt2DMc"
      },
      "outputs": [],
      "source": [
        "oo.Medal = oo.Medal.astype(\"category\")\n",
        "oo.dtypes"
      ]
    },
    {
      "cell_type": "code",
      "execution_count": null,
      "metadata": {
        "id": "bAmV0u-Y6ZjR"
      },
      "outputs": [],
      "source": [
        "oo.Gender.unique()"
      ]
    },
    {
      "cell_type": "code",
      "execution_count": null,
      "metadata": {
        "id": "bBeXGHUJ6iAf"
      },
      "outputs": [],
      "source": [
        "oo['Event Gender'].unique()"
      ]
    },
    {
      "cell_type": "code",
      "execution_count": null,
      "metadata": {
        "id": "N0N06RbL2DMc"
      },
      "outputs": [],
      "source": [
        "oo.Gender = oo.Gender.astype(\"category\")\n",
        "oo['Event Gender'] = oo['Event Gender'].astype(\"category\")\n",
        "oo.dtypes"
      ]
    },
    {
      "cell_type": "code",
      "execution_count": null,
      "metadata": {
        "id": "IWPYJ5622DMd"
      },
      "outputs": [],
      "source": [
        "oo.Medal.astype(\"category\")"
      ]
    },
    {
      "cell_type": "code",
      "execution_count": null,
      "metadata": {
        "id": "dZfDXytt2DMd"
      },
      "outputs": [],
      "source": [
        "pd.Categorical?"
      ]
    },
    {
      "cell_type": "code",
      "execution_count": null,
      "metadata": {
        "id": "6-KFI_Eb2DMd"
      },
      "outputs": [],
      "source": [
        "medal_order = [\"Bronze\", \"Silver\", \"Gold\"]\n",
        "pd.Categorical(oo.Medal, categories=medal_order, ordered=True)"
      ]
    },
    {
      "cell_type": "code",
      "execution_count": null,
      "metadata": {
        "id": "D93d0_Wr2DMe"
      },
      "outputs": [],
      "source": [
        "oo.Medal = pd.Categorical(oo.Medal, categories=medal_order, ordered=True)\n",
        "oo.dtypes"
      ]
    },
    {
      "cell_type": "code",
      "source": [
        "oo.Medal"
      ],
      "metadata": {
        "id": "GihNArACC_oT"
      },
      "execution_count": null,
      "outputs": []
    },
    {
      "cell_type": "code",
      "execution_count": null,
      "metadata": {
        "id": "y0jfCp2R8JRn"
      },
      "outputs": [],
      "source": [
        "oo.sort_values(by=[\"Year\", \"Event\", \"Medal\"], ascending=[True, True, False]).head(7)"
      ]
    },
    {
      "cell_type": "markdown",
      "source": [
        "## Memory usage of different dtypes"
      ],
      "metadata": {
        "id": "gIiaB-pcEKdf"
      }
    },
    {
      "cell_type": "code",
      "source": [
        "!pip install --quiet pandas==2.0.2\n",
        "\n",
        "import pandas as pd\n",
        "from pathlib import Path\n",
        "\n",
        "if not Path(\"olympics_1896_2004.csv\").exists():\n",
        "  !wget https://github.com/jonfernandes/pandas_essential/raw/main/olympics_1896_2004.csv\n",
        "\n",
        "filename = \"olympics_1896_2004.csv\"\n",
        "print(\"Installed all of the necessary files for this section ...\")"
      ],
      "metadata": {
        "id": "6YonaJwdETbf"
      },
      "execution_count": null,
      "outputs": []
    },
    {
      "cell_type": "code",
      "execution_count": null,
      "metadata": {
        "id": "9zzPWxb2-uRW"
      },
      "outputs": [],
      "source": [
        "df = pd.read_csv(filename, skiprows=5)\n",
        "df.dtypes"
      ]
    },
    {
      "cell_type": "code",
      "execution_count": null,
      "metadata": {
        "id": "ZLK0wGa0-yJl"
      },
      "outputs": [],
      "source": [
        "oo.dtypes"
      ]
    },
    {
      "cell_type": "code",
      "source": [
        "oo.Medal.memory_usage?"
      ],
      "metadata": {
        "id": "Cvd_ExfYda3V"
      },
      "execution_count": null,
      "outputs": []
    },
    {
      "cell_type": "code",
      "execution_count": null,
      "metadata": {
        "id": "BZSld4yT2DMg"
      },
      "outputs": [],
      "source": [
        "print(f\"Medal series memory usage using dtype category: {oo.Medal.memory_usage(deep=True)}\")\n",
        "print(f\"Medal series memory usage using dtype object: {df.Medal.memory_usage(deep=True)}\")"
      ]
    },
    {
      "cell_type": "code",
      "execution_count": null,
      "metadata": {
        "id": "EZoF7uo-BcAV"
      },
      "outputs": [],
      "source": [
        "oo.Medal.memory_usage(deep=True) / df.Medal.memory_usage(deep=True)"
      ]
    },
    {
      "cell_type": "code",
      "execution_count": null,
      "metadata": {
        "id": "rrwnjQH32DMf"
      },
      "outputs": [],
      "source": [
        "print(f\"Gender series memory usage using dtype category: {oo.Gender.memory_usage(deep=True)}\")\n",
        "print(f\"Gender series memory usage using dtype object: {df.Gender.memory_usage(deep=True)}\")\n",
        "print(f\"Gender series memory usage using dtype category: {oo['Event Gender'].memory_usage(deep=True)}\")\n",
        "print(f\"Gender series memory usage using dtype object: {df['Event Gender'].memory_usage(deep=True)}\")"
      ]
    },
    {
      "cell_type": "code",
      "execution_count": null,
      "metadata": {
        "id": "XNQxzZDw9lz_"
      },
      "outputs": [],
      "source": [
        "oo.City.astype(\"string\")"
      ]
    },
    {
      "cell_type": "code",
      "execution_count": null,
      "metadata": {
        "id": "klsqOxME9-XF"
      },
      "outputs": [],
      "source": [
        "oo.sample(2)"
      ]
    },
    {
      "cell_type": "code",
      "source": [
        "oo.dtypes"
      ],
      "metadata": {
        "id": "6iW7ALfUF4iY"
      },
      "execution_count": null,
      "outputs": []
    },
    {
      "cell_type": "code",
      "execution_count": null,
      "metadata": {
        "id": "gg6Ks_9g9ump"
      },
      "outputs": [],
      "source": [
        "oo.City = oo.City.astype(\"string\")\n",
        "oo.Sport = oo.Sport.astype(\"string\")\n",
        "oo.Discipline = oo.Discipline.astype(\"string\")\n",
        "oo[\"Athlete Name\"] = oo[\"Athlete Name\"].astype(\"string\")\n",
        "oo.NOC = oo.NOC.astype(\"string\")\n",
        "oo.Event = oo.Event.astype(\"string\")\n",
        "oo.dtypes"
      ]
    },
    {
      "cell_type": "code",
      "source": [
        "oo.City.dtype"
      ],
      "metadata": {
        "id": "HFM79UpXeQJw"
      },
      "execution_count": null,
      "outputs": []
    },
    {
      "cell_type": "code",
      "source": [
        "df.City.dtype"
      ],
      "metadata": {
        "id": "0yvz-Uj0etHB"
      },
      "execution_count": null,
      "outputs": []
    },
    {
      "cell_type": "code",
      "execution_count": null,
      "metadata": {
        "id": "6Yy4JJQKFa5D"
      },
      "outputs": [],
      "source": [
        "print(f\"City series memory usage using dtype string: {oo.City.memory_usage(deep=True)}\")\n",
        "print(f\"City series memory usage using dtype object: {df.City.memory_usage(deep=True)}\")"
      ]
    },
    {
      "cell_type": "markdown",
      "metadata": {
        "id": "tW9suZ3CGCpG"
      },
      "source": [
        "## Defining dtypes when you read in a file"
      ]
    },
    {
      "cell_type": "code",
      "source": [
        "!pip install --quiet pandas==2.0.2\n",
        "\n",
        "import pandas as pd\n",
        "from pathlib import Path\n",
        "\n",
        "if not Path(\"olympics_1896_2004.csv\").exists():\n",
        "  !wget https://github.com/jonfernandes/pandas_essential/raw/main/olympics_1896_2004.csv\n",
        "\n",
        "filename = \"olympics_1896_2004.csv\"\n",
        "print(\"Installed all of the necessary files for this section ...\")"
      ],
      "metadata": {
        "id": "hsUPA47HfriT"
      },
      "execution_count": null,
      "outputs": []
    },
    {
      "cell_type": "code",
      "source": [
        "oo = (pd.read_csv(filename, skiprows=5)\n",
        "      .drop('Position', axis=1)\n",
        ")\n",
        "oo.sample(3)"
      ],
      "metadata": {
        "id": "Zk8t5MkRIE5N"
      },
      "execution_count": null,
      "outputs": []
    },
    {
      "cell_type": "code",
      "source": [
        "oo.dtypes"
      ],
      "metadata": {
        "id": "vZymSxdVI28x"
      },
      "execution_count": null,
      "outputs": []
    },
    {
      "cell_type": "code",
      "execution_count": null,
      "metadata": {
        "id": "rFdyP-IHGkjl"
      },
      "outputs": [],
      "source": [
        "dtype_mapper = {\"Year\": \"int64\",\n",
        "                \"City\": \"string\",\n",
        "                \"Sport\": \"string\",\n",
        "                \"Discipline\": \"string\",\n",
        "                \"Athlete Name\": \"string\",\n",
        "                \"NOC\": \"string\",\n",
        "                \"Gender\": \"category\",\n",
        "                \"Event\": \"string\",\n",
        "                \"Event_gender\": \"category\",\n",
        "                \"Medal\": \"category\"}\n",
        "\n",
        "dtype_mapper"
      ]
    },
    {
      "cell_type": "code",
      "execution_count": null,
      "metadata": {
        "id": "3mfyl9ZnLjWt"
      },
      "outputs": [],
      "source": [
        "pd.api.types.CategoricalDtype?"
      ]
    },
    {
      "cell_type": "code",
      "execution_count": null,
      "metadata": {
        "id": "1UaAriDnIJd8"
      },
      "outputs": [],
      "source": [
        "ordered_medals = pd.api.types.CategoricalDtype(categories=[\"Bronze\", \"Silver\", \"Gold\"], ordered=True)\n",
        "ordered_medals"
      ]
    },
    {
      "cell_type": "code",
      "execution_count": null,
      "metadata": {
        "id": "C8EZPlNLJD2a"
      },
      "outputs": [],
      "source": [
        "dtype_mapper = {\"Year\": \"int64\",\n",
        "                \"City\": \"string\",\n",
        "                \"Sport\": \"string\",\n",
        "                \"Discipline\": \"string\",\n",
        "                \"Athlete Name\": \"string\",\n",
        "                \"NOC\": \"string\",\n",
        "                \"Gender\": \"category\",\n",
        "                \"Event\": \"string\",\n",
        "                \"Event_gender\": \"category\",\n",
        "                \"Medal\": ordered_medals}\n",
        "\n",
        "dtype_mapper"
      ]
    },
    {
      "cell_type": "code",
      "execution_count": null,
      "metadata": {
        "id": "hHzmd08z2DMf"
      },
      "outputs": [],
      "source": [
        "oo = pd.read_csv(filename, skiprows=5, dtype=dtype_mapper)\n",
        "oo.sample(3)"
      ]
    },
    {
      "cell_type": "code",
      "execution_count": null,
      "metadata": {
        "id": "0JGknumqLPNg"
      },
      "outputs": [],
      "source": [
        "oo.dtypes"
      ]
    },
    {
      "cell_type": "code",
      "source": [
        "oo[\"Event Gender\"].unique()"
      ],
      "metadata": {
        "id": "mqBaGeK_Je4B"
      },
      "execution_count": null,
      "outputs": []
    },
    {
      "cell_type": "code",
      "source": [
        "oo = pd.read_csv(filename, skiprows=5, dtype=dtype_mapper)\n",
        "oo['Event Gender'] = oo['Event Gender'].astype(\"category\")\n",
        "oo.dtypes"
      ],
      "metadata": {
        "id": "pkh4kO8nWciS"
      },
      "execution_count": null,
      "outputs": []
    },
    {
      "cell_type": "markdown",
      "metadata": {
        "id": "fBBqvMS_uhNk"
      },
      "source": [
        "## Python Functions"
      ]
    },
    {
      "cell_type": "code",
      "source": [
        "!pip install --quiet pandas==2.0.2\n",
        "\n",
        "import pandas as pd\n",
        "from pathlib import Path\n",
        "\n",
        "if not Path(\"olympics_1896_2004.csv\").exists():\n",
        "  !wget https://github.com/jonfernandes/pandas_essential/raw/main/olympics_1896_2004.csv\n",
        "\n",
        "filename = \"olympics_1896_2004.csv\"\n",
        "print(\"Installed all of the necessary files for this section ...\")"
      ],
      "metadata": {
        "id": "TjBgdDnGiTA2"
      },
      "execution_count": null,
      "outputs": []
    },
    {
      "cell_type": "code",
      "execution_count": null,
      "metadata": {
        "id": "E7dIcbNPUTn1"
      },
      "outputs": [],
      "source": [
        "def show_df(filename=\"olympics_1896_2004.csv\"):\n",
        "  \"\"\"Read in csv file and display DataFrame\"\"\"\n",
        "  df = pd.read_csv(filename, skiprows=5)\n",
        "  return df\n",
        "\n",
        "show_df()"
      ]
    },
    {
      "cell_type": "code",
      "execution_count": null,
      "metadata": {
        "id": "O0g0X3fKVU6L"
      },
      "outputs": [],
      "source": [
        "type(show_df())"
      ]
    },
    {
      "cell_type": "code",
      "execution_count": null,
      "metadata": {
        "id": "ihKcmGeLZKMW"
      },
      "outputs": [],
      "source": [
        "ordered_medals = pd.api.types.CategoricalDtype(categories=[\"Bronze\", \"Silver\", \"Gold\"], ordered=True)\n",
        "dtype_mapper = {\"Year\": \"int64\",\n",
        "                \"City\": \"string\",\n",
        "                \"Sport\": \"string\",\n",
        "                \"Discipline\": \"string\",\n",
        "                \"Athlete Name\": \"string\",\n",
        "                \"NOC\": \"string\",\n",
        "                \"Gender\": \"category\",\n",
        "                \"Event\": \"string\",\n",
        "                \"Event_gender\": \"category\",\n",
        "                \"Medal\": ordered_medals}\n",
        "\n",
        "dtype_mapper"
      ]
    },
    {
      "cell_type": "code",
      "execution_count": null,
      "metadata": {
        "id": "oCJcaJFaZMOU"
      },
      "outputs": [],
      "source": [
        "oo = (pd.read_csv(filename, skiprows=5, dtype=dtype_mapper)\n",
        "      .drop('Position', axis=1)\n",
        ")\n",
        "oo.sample(3)"
      ]
    },
    {
      "cell_type": "code",
      "execution_count": null,
      "metadata": {
        "id": "3oXQfacqursw"
      },
      "outputs": [],
      "source": [
        "def preprocess(filename = \"olympics_1896_2004.csv\"):\n",
        "  \"\"\"Preparing and transforming dataframe\"\"\"\n",
        "  print(f\"Preprocessing {filename} ...\\n\")\n",
        "  ordered_medals = pd.api.types.CategoricalDtype(categories=[\"Bronze\", \"Silver\", \"Gold\"], ordered=True)\n",
        "  dtype_mapper = {\"Year\": \"int64\",\n",
        "                \"City\": \"string\",\n",
        "                \"Sport\": \"string\",\n",
        "                \"Discipline\": \"string\",\n",
        "                \"Athlete Name\": \"string\",\n",
        "                \"NOC\": \"string\",\n",
        "                \"Gender\": \"category\",\n",
        "                \"Event\": \"string\",\n",
        "                \"Event_gender\": \"category\",\n",
        "                \"Medal\": ordered_medals}\n",
        "  df = (pd.read_csv(filename, skiprows=5, dtype=dtype_mapper)\n",
        "        .drop('Position', axis=1)\n",
        "  )\n",
        "\n",
        "  return df\n",
        "\n",
        "preprocess()"
      ]
    },
    {
      "cell_type": "code",
      "execution_count": null,
      "metadata": {
        "id": "BwQNeMAivzLq"
      },
      "outputs": [],
      "source": [
        "preprocess()"
      ]
    },
    {
      "cell_type": "code",
      "execution_count": null,
      "metadata": {
        "id": "xREoRlWqvp9J"
      },
      "outputs": [],
      "source": [
        "oo = preprocess()\n",
        "oo.sample(3)"
      ]
    },
    {
      "cell_type": "code",
      "source": [
        "oo.dtypes"
      ],
      "metadata": {
        "id": "kGQ5zFebVPAV"
      },
      "execution_count": null,
      "outputs": []
    },
    {
      "cell_type": "code",
      "source": [
        "oo[\"Event Gender\"].unique()"
      ],
      "metadata": {
        "id": "jWr1WWwyrj3Z"
      },
      "execution_count": null,
      "outputs": []
    },
    {
      "cell_type": "code",
      "source": [
        "def preprocess(filename = \"olympics_1896_2004.csv\"):\n",
        "  \"\"\"Preparing and transforming dataframe\"\"\"\n",
        "  print(f\"Preprocessing {filename} ...\\n\")\n",
        "  ordered_medals = pd.api.types.CategoricalDtype(categories=[\"Bronze\", \"Silver\", \"Gold\"], ordered=True)\n",
        "  dtype_mapper = {\"Year\": \"int64\",\n",
        "                \"City\": \"string\",\n",
        "                \"Sport\": \"string\",\n",
        "                \"Discipline\": \"string\",\n",
        "                \"Athlete Name\": \"string\",\n",
        "                \"NOC\": \"string\",\n",
        "                \"Gender\": \"category\",\n",
        "                \"Event\": \"string\",\n",
        "                \"Event_gender\": \"category\",\n",
        "                \"Medal\": ordered_medals}\n",
        "  df = (pd.read_csv(filename, skiprows=5, dtype=dtype_mapper)\n",
        "        .drop('Position', axis=1)\n",
        "  )\n",
        "  df[\"Event Gender\"] = df[\"Event Gender\"].astype(\"category\")\n",
        "  return df\n",
        "\n",
        "oo = preprocess()\n",
        "oo.sample(3)"
      ],
      "metadata": {
        "id": "9RhvwIbZXwPo"
      },
      "execution_count": null,
      "outputs": []
    },
    {
      "cell_type": "code",
      "source": [
        "oo.dtypes"
      ],
      "metadata": {
        "id": "bjXSAvd_YBi1"
      },
      "execution_count": null,
      "outputs": []
    },
    {
      "cell_type": "markdown",
      "metadata": {
        "id": "RM1S3nJ0vcXs"
      },
      "source": [
        "## Working with Indexes"
      ]
    },
    {
      "cell_type": "code",
      "source": [
        "!pip install --quiet pandas==2.0.2\n",
        "\n",
        "import pandas as pd\n",
        "from pathlib import Path\n",
        "\n",
        "if not Path(\"olympics_1896_2004.csv\").exists():\n",
        "  !wget https://github.com/jonfernandes/pandas_essential/raw/main/olympics_1896_2004.csv\n",
        "\n",
        "filename = \"olympics_1896_2004.csv\"\n",
        "print(\"Installed all of the necessary files for this section ...\")"
      ],
      "metadata": {
        "id": "ELUrukUKprZB"
      },
      "execution_count": null,
      "outputs": []
    },
    {
      "cell_type": "code",
      "execution_count": null,
      "metadata": {
        "id": "2zPiuEBcvblg"
      },
      "outputs": [],
      "source": [
        "def preprocess(filename = \"olympics_1896_2004.csv\"):\n",
        "  \"\"\"Preparing and transforming dataframe\"\"\"\n",
        "  print(f\"Preprocessing {filename} ...\\n\")\n",
        "  ordered_medals = pd.api.types.CategoricalDtype(categories=[\"Bronze\", \"Silver\", \"Gold\"], ordered=True)\n",
        "  dtype_mapper = {\"Year\": \"int64\",\n",
        "                \"City\": \"string\",\n",
        "                \"Sport\": \"string\",\n",
        "                \"Discipline\": \"string\",\n",
        "                \"Athlete Name\": \"string\",\n",
        "                \"NOC\": \"string\",\n",
        "                \"Gender\": \"category\",\n",
        "                \"Event\": \"string\",\n",
        "                \"Event_gender\": \"category\",\n",
        "                \"Medal\": ordered_medals}\n",
        "  df = (pd.read_csv(filename, skiprows=5, dtype=dtype_mapper)\n",
        "        .drop('Position', axis=1)\n",
        "  )\n",
        "  df[\"Event Gender\"] = df[\"Event Gender\"].astype(\"category\")\n",
        "  return df\n",
        "\n",
        "oo = preprocess()\n",
        "oo.head(5)"
      ]
    },
    {
      "cell_type": "code",
      "execution_count": null,
      "metadata": {
        "id": "YGeesWuLw5Tn"
      },
      "outputs": [],
      "source": [
        "oo.index"
      ]
    },
    {
      "cell_type": "code",
      "execution_count": null,
      "metadata": {
        "id": "ZW885B2MxOH-"
      },
      "outputs": [],
      "source": [
        "oo.columns"
      ]
    },
    {
      "cell_type": "code",
      "execution_count": null,
      "metadata": {
        "id": "oGmUPXC6yLWV"
      },
      "outputs": [],
      "source": [
        "oo.shape"
      ]
    },
    {
      "cell_type": "code",
      "execution_count": null,
      "metadata": {
        "id": "joiGhkGTymci"
      },
      "outputs": [],
      "source": [
        "pd.read_csv(filename, skiprows=5, header=None).head()\n"
      ]
    },
    {
      "cell_type": "code",
      "execution_count": null,
      "metadata": {
        "id": "Fjh9SJ4Q0POv"
      },
      "outputs": [],
      "source": [
        "oo = preprocess()\n",
        "oo.head(5)"
      ]
    },
    {
      "cell_type": "code",
      "execution_count": null,
      "metadata": {
        "id": "Y0jhalvD1wJr"
      },
      "outputs": [],
      "source": [
        "oo[oo['Athlete Name'].str.contains(\"LEWIS, Carl\")]"
      ]
    },
    {
      "cell_type": "code",
      "execution_count": null,
      "metadata": {
        "id": "zYCkIFOi2Htz"
      },
      "outputs": [],
      "source": [
        "oo.loc[22719, \"Event\"]"
      ]
    },
    {
      "cell_type": "code",
      "execution_count": null,
      "metadata": {
        "id": "ONnjbHTa3Amt"
      },
      "outputs": [],
      "source": [
        "oo = oo.set_index(\"Athlete Name\")\n",
        "oo.head(5)"
      ]
    },
    {
      "cell_type": "code",
      "execution_count": null,
      "metadata": {
        "id": "sNKbF5EW4CfA"
      },
      "outputs": [],
      "source": [
        "oo.index"
      ]
    },
    {
      "cell_type": "code",
      "execution_count": null,
      "metadata": {
        "id": "p4HUipxR3Vqt"
      },
      "outputs": [],
      "source": [
        "oo.loc[\"LEWIS, Carl\", \"Event\"]"
      ]
    },
    {
      "cell_type": "code",
      "execution_count": null,
      "metadata": {
        "id": "hivXx2NJ4stZ"
      },
      "outputs": [],
      "source": [
        "oo.head(3)"
      ]
    },
    {
      "cell_type": "code",
      "execution_count": null,
      "metadata": {
        "id": "HyG7IgT54Vsx"
      },
      "outputs": [],
      "source": [
        "oo.columns"
      ]
    },
    {
      "cell_type": "code",
      "execution_count": null,
      "metadata": {
        "id": "JuTTmVYQ4Rs1"
      },
      "outputs": [],
      "source": [
        "oo.shape"
      ]
    },
    {
      "cell_type": "code",
      "execution_count": null,
      "metadata": {
        "id": "IvMMCdGj6TJI"
      },
      "outputs": [],
      "source": [
        "oo.head(3)"
      ]
    },
    {
      "cell_type": "code",
      "execution_count": null,
      "metadata": {
        "id": "7lnnepwCDU95"
      },
      "outputs": [],
      "source": [
        "oo.loc[\"LEWIS, Carl\", [\"Year\", \"Event\", \"Medal\"]]"
      ]
    },
    {
      "cell_type": "code",
      "execution_count": null,
      "metadata": {
        "id": "UwegmOH2DvrZ"
      },
      "outputs": [],
      "source": [
        "oo.loc[\"LEWIS, Carl\", :]"
      ]
    },
    {
      "cell_type": "code",
      "execution_count": null,
      "metadata": {
        "id": "Zjq6Ap2_D7_s"
      },
      "outputs": [],
      "source": [
        "oo.loc[\"LEWIS, Carl\"]"
      ]
    },
    {
      "cell_type": "code",
      "execution_count": null,
      "metadata": {
        "id": "aCqAQxgw6dfc"
      },
      "outputs": [],
      "source": [
        "oo = oo.sort_index()\n",
        "oo.head(3)"
      ]
    },
    {
      "cell_type": "code",
      "execution_count": null,
      "metadata": {
        "id": "KICIHBuU5HBL"
      },
      "outputs": [],
      "source": [
        "oo = oo.reset_index()\n",
        "oo.head(3)"
      ]
    },
    {
      "cell_type": "code",
      "execution_count": null,
      "metadata": {
        "id": "UK37rcqdCrU2"
      },
      "outputs": [],
      "source": [
        "oo.iloc[0, 0]"
      ]
    },
    {
      "cell_type": "code",
      "source": [
        "oo.iloc[0, 5]"
      ],
      "metadata": {
        "id": "olA305lnyCQg"
      },
      "execution_count": null,
      "outputs": []
    },
    {
      "cell_type": "code",
      "source": [
        "oo.iloc[0, :]"
      ],
      "metadata": {
        "id": "JH7Gr3RLyI8E"
      },
      "execution_count": null,
      "outputs": []
    },
    {
      "cell_type": "code",
      "source": [
        "oo.iloc[0]"
      ],
      "metadata": {
        "id": "raIogoAPyP3N"
      },
      "execution_count": null,
      "outputs": []
    },
    {
      "cell_type": "markdown",
      "metadata": {
        "id": "SCq05iZiwibC"
      },
      "source": [
        "## Being Productive in pandas - My Best Practices"
      ]
    },
    {
      "cell_type": "code",
      "source": [
        "!pip install --quiet pandas==2.0.2\n",
        "\n",
        "import pandas as pd\n",
        "from pathlib import Path\n",
        "\n",
        "if not Path(\"olympics_1896_2004.csv\").exists():\n",
        "  !wget https://github.com/jonfernandes/pandas_essential/raw/main/olympics_1896_2004.csv\n",
        "\n",
        "filename = \"olympics_1896_2004.csv\"\n",
        "print(\"Installed all of the necessary files for this section ...\")"
      ],
      "metadata": {
        "id": "jnHdKL7YpzwM"
      },
      "execution_count": null,
      "outputs": []
    },
    {
      "cell_type": "code",
      "source": [
        "def preprocess(filename = \"olympics_1896_2004.csv\"):\n",
        "  \"\"\"Preparing and transforming dataframe\"\"\"\n",
        "  print(f\"Preprocessing {filename} ...\\n\")\n",
        "  ordered_medals = pd.api.types.CategoricalDtype(categories=[\"Bronze\", \"Silver\", \"Gold\"], ordered=True)\n",
        "  dtype_mapper = {\"Year\": \"int64\",\n",
        "                \"City\": \"string\",\n",
        "                \"Sport\": \"string\",\n",
        "                \"Discipline\": \"string\",\n",
        "                \"Athlete Name\": \"string\",\n",
        "                \"NOC\": \"string\",\n",
        "                \"Gender\": \"category\",\n",
        "                \"Event\": \"string\",\n",
        "                \"Event_gender\": \"category\",\n",
        "                \"Medal\": ordered_medals}\n",
        "  df = (pd.read_csv(filename, skiprows=5, dtype=dtype_mapper)\n",
        "        .drop('Position', axis=1)\n",
        "  )\n",
        "  df[\"Event Gender\"] = df[\"Event Gender\"].astype(\"category\")\n",
        "  return df\n",
        "\n",
        "oo = preprocess()\n",
        "oo.sample(3)"
      ],
      "metadata": {
        "id": "k0-XRGK7nR62"
      },
      "execution_count": null,
      "outputs": []
    },
    {
      "cell_type": "markdown",
      "source": [
        "**Get immediate feedback**"
      ],
      "metadata": {
        "id": "5BP1DH0bm6fn"
      }
    },
    {
      "cell_type": "code",
      "source": [
        "oo = preprocess()"
      ],
      "metadata": {
        "id": "kCnXvBcAm9cD"
      },
      "execution_count": null,
      "outputs": []
    },
    {
      "cell_type": "code",
      "source": [
        "oo.sample(3)"
      ],
      "metadata": {
        "id": "HZTxSp_xqZ0H"
      },
      "execution_count": null,
      "outputs": []
    },
    {
      "cell_type": "code",
      "source": [
        "oo = preprocess()\n",
        "oo.sample(3)"
      ],
      "metadata": {
        "id": "mxt4ISkDnUpd"
      },
      "execution_count": null,
      "outputs": []
    },
    {
      "cell_type": "markdown",
      "source": [
        "**Understand the basics of Python**"
      ],
      "metadata": {
        "id": "Ro0ieaQIcf9m"
      }
    },
    {
      "cell_type": "code",
      "source": [
        "dir(pd)"
      ],
      "metadata": {
        "id": "XKgsz5cVbbBs"
      },
      "execution_count": null,
      "outputs": []
    },
    {
      "cell_type": "code",
      "source": [
        "[func.upper() for func in dir(pd)]"
      ],
      "metadata": {
        "id": "vaTnK1HUcsda"
      },
      "execution_count": null,
      "outputs": []
    },
    {
      "cell_type": "markdown",
      "metadata": {
        "id": "hcg8ujl-mVeu"
      },
      "source": [
        "**Searching for method names**"
      ]
    },
    {
      "cell_type": "code",
      "execution_count": null,
      "metadata": {
        "id": "H8vzfekQwqx4"
      },
      "outputs": [],
      "source": [
        "import re\n",
        "import pandas as pd\n",
        "\n",
        "search_string = \"excel\"\n",
        "\n",
        "[func for func in dir(pd) if re.search(rf\"{search_string}\", func, re.IGNORECASE)]"
      ]
    },
    {
      "cell_type": "code",
      "source": [
        "pd.read_excel?"
      ],
      "metadata": {
        "id": "ryj0jvuKrEB-"
      },
      "execution_count": null,
      "outputs": []
    },
    {
      "cell_type": "code",
      "source": [
        "[func\n",
        " for func in dir(pd)\n",
        " if re.search(rf\"{search_string}\", func, re.IGNORECASE)]"
      ],
      "metadata": {
        "id": "vlhzHMgqztPe"
      },
      "execution_count": null,
      "outputs": []
    },
    {
      "cell_type": "markdown",
      "metadata": {
        "id": "ZeLHFbxnmZQf"
      },
      "source": [
        "**Documentation while staying in the IDE**"
      ]
    },
    {
      "cell_type": "code",
      "execution_count": null,
      "metadata": {
        "id": "50S1wJpKxy3J"
      },
      "outputs": [],
      "source": [
        "pd.read_excel?"
      ]
    },
    {
      "cell_type": "markdown",
      "metadata": {
        "id": "E4v0oobOmjYF"
      },
      "source": [
        "**head() vs. sample()**"
      ]
    },
    {
      "cell_type": "code",
      "execution_count": null,
      "metadata": {
        "id": "K3BAxqULz_Ef"
      },
      "outputs": [],
      "source": [
        "oo = (pd.read_csv(filename, skiprows=5)\n",
        "      .drop('Position', axis=1)\n",
        ")\n",
        "oo.sample(3)"
      ]
    },
    {
      "cell_type": "markdown",
      "metadata": {
        "id": "zXtT_AqrmpzE"
      },
      "source": [
        "**Functions to preprocess data. Modify the data, not the original files**"
      ]
    },
    {
      "cell_type": "code",
      "execution_count": null,
      "metadata": {
        "id": "T_SLXopI0S87"
      },
      "outputs": [],
      "source": [
        "def preprocess(filename):\n",
        "  \"\"\"Transform the data. Change the dataframe and not the original csv files\"\"\"\n",
        "  ...\n",
        "\n",
        "preprocess(filename)"
      ]
    },
    {
      "cell_type": "markdown",
      "metadata": {
        "id": "P_UymMfcmzh8"
      },
      "source": [
        "**Using python assert**"
      ]
    },
    {
      "cell_type": "code",
      "execution_count": null,
      "metadata": {
        "id": "cablAtbT0qAf"
      },
      "outputs": [],
      "source": [
        "oo[(oo.Year < 1896) & (oo.Year > 2004)].shape"
      ]
    },
    {
      "cell_type": "code",
      "execution_count": null,
      "metadata": {
        "id": "xYmXnSHq1ZVE"
      },
      "outputs": [],
      "source": [
        "oo[(oo.Year < 1896) & (oo.Year > 2004)].shape[0] == 0"
      ]
    },
    {
      "cell_type": "code",
      "execution_count": null,
      "metadata": {
        "id": "iCll2J2k5Imw"
      },
      "outputs": [],
      "source": [
        "assert(oo[(oo.Year < 1896) & (oo.Year > 2004)].shape[0] == 0)"
      ]
    },
    {
      "cell_type": "code",
      "execution_count": null,
      "metadata": {
        "id": "VxIi0y9y1dRn"
      },
      "outputs": [],
      "source": [
        "assert(oo[(oo.Year < 1896) & (oo.Year > 2004)].shape[0] == 0)\n",
        "print(\"All tests passed\")"
      ]
    },
    {
      "cell_type": "code",
      "execution_count": null,
      "metadata": {
        "id": "wxO2TQRG5Awz"
      },
      "outputs": [],
      "source": [
        "#assert(oo[(oo.Year < 1896) & (oo.Year > 2004)].shape[0] == (0, 10))\n",
        "#print(\"All tests passed\")"
      ]
    },
    {
      "cell_type": "markdown",
      "metadata": {
        "id": "jC4ahcAcnOot"
      },
      "source": [
        "**Chaining and splitting over several rows. No inplace=True**"
      ]
    },
    {
      "cell_type": "code",
      "execution_count": null,
      "metadata": {
        "id": "frTUBUC357py"
      },
      "outputs": [],
      "source": [
        "oo = pd.read_csv(filename, skiprows=5)\n",
        "oo = oo.drop('Position', axis=1)\n",
        "oo.head(3)"
      ]
    },
    {
      "cell_type": "code",
      "source": [
        "oo = (pd.read_csv(filename, skiprows=5)\n",
        "      .drop('Position', axis=1)\n",
        ")\n",
        "oo.head(3)"
      ],
      "metadata": {
        "id": "PChfl-uKoZC7"
      },
      "execution_count": null,
      "outputs": []
    },
    {
      "cell_type": "code",
      "execution_count": null,
      "metadata": {
        "id": "HKLzCINP_r-h"
      },
      "outputs": [],
      "source": [
        "last3 = pd.read_csv(filename, skiprows=5).sort_values(['Year', 'Athlete Name']).tail(3)\n",
        "last3"
      ]
    },
    {
      "cell_type": "code",
      "execution_count": null,
      "metadata": {
        "id": "JufCdeUYAAfi"
      },
      "outputs": [],
      "source": [
        "last3 = (pd.read_csv(filename, skiprows=5)\n",
        "        .sort_values(['Year', 'Athlete Name'])\n",
        "        .tail(3)\n",
        ")\n",
        "last3"
      ]
    },
    {
      "cell_type": "code",
      "execution_count": null,
      "metadata": {
        "id": "qPynmpjEAgNJ"
      },
      "outputs": [],
      "source": [
        "last3 = (pd.read_csv(filename, skiprows=5)\n",
        "#        .sort_values(['Year', 'Athlete Name'])\n",
        "        .tail(3)\n",
        ")\n",
        "last3"
      ]
    },
    {
      "cell_type": "markdown",
      "source": [
        "**isin()**"
      ],
      "metadata": {
        "id": "6UqKSsGOr_tV"
      }
    },
    {
      "cell_type": "code",
      "source": [
        "oo.Year.isin?"
      ],
      "metadata": {
        "id": "UIz-lkJ_xqVQ"
      },
      "execution_count": null,
      "outputs": []
    },
    {
      "cell_type": "code",
      "source": [
        "years_of_interest = [1972, 1980, 1984, 1992, 2000, 2004]"
      ],
      "metadata": {
        "id": "OCvhY0qYxCRd"
      },
      "execution_count": null,
      "outputs": []
    },
    {
      "cell_type": "code",
      "source": [
        "oo[oo.Year.isin(years_of_interest)]"
      ],
      "metadata": {
        "id": "COsacC9sr_R7"
      },
      "execution_count": null,
      "outputs": []
    },
    {
      "cell_type": "code",
      "source": [
        "oo[~oo.Year.isin(years_of_interest)]"
      ],
      "metadata": {
        "id": "KnnNeawWyGjI"
      },
      "execution_count": null,
      "outputs": []
    },
    {
      "cell_type": "markdown",
      "metadata": {
        "id": "FFNB7w6Kn4wQ"
      },
      "source": [
        "**Finding and dealing with missing values**"
      ]
    },
    {
      "cell_type": "code",
      "execution_count": null,
      "metadata": {
        "id": "OvZWEEl0mPpt"
      },
      "outputs": [],
      "source": [
        "oo.info()"
      ]
    },
    {
      "cell_type": "markdown",
      "metadata": {
        "id": "Z0rYN2NIPxNZ"
      },
      "source": [
        "## Creating Series and DataFrames"
      ]
    },
    {
      "cell_type": "code",
      "source": [
        "import pandas as pd"
      ],
      "metadata": {
        "id": "aV6MY1Xt0KXm"
      },
      "execution_count": null,
      "outputs": []
    },
    {
      "cell_type": "code",
      "execution_count": null,
      "metadata": {
        "id": "7JJx8J__NISg"
      },
      "outputs": [],
      "source": [
        "city = [\"London\", \"Rio\", \"Tokyo\"]\n",
        "start_date = [\"27th Jul, 2012\", \"5th Aug, 2016\", \"23rd July, 2021\"]"
      ]
    },
    {
      "cell_type": "code",
      "execution_count": null,
      "metadata": {
        "id": "wSq6TkwFp09e"
      },
      "outputs": [],
      "source": [
        "pd.Series(city)"
      ]
    },
    {
      "cell_type": "code",
      "execution_count": null,
      "metadata": {
        "id": "2enzKn6_b5Sp"
      },
      "outputs": [],
      "source": [
        "pd.DataFrame({\"City\": pd.Series(city),\n",
        "              \"Start Date\": pd.Series(start_date)})"
      ]
    },
    {
      "cell_type": "code",
      "execution_count": null,
      "metadata": {
        "id": "sQhbHFRCAhF5"
      },
      "outputs": [],
      "source": [
        "pd.DataFrame({\"City\": city,\n",
        "              \"Start Date\": start_date})"
      ]
    },
    {
      "cell_type": "code",
      "source": [
        "pd.DataFrame(zip(city, start_date))"
      ],
      "metadata": {
        "id": "5s9m1kYq2E1q"
      },
      "execution_count": null,
      "outputs": []
    },
    {
      "cell_type": "code",
      "execution_count": null,
      "metadata": {
        "id": "mbFN8_X5bJ7K"
      },
      "outputs": [],
      "source": [
        "pd.DataFrame(zip(city, start_date), columns=[\"City\", \"Start Date\"])"
      ]
    },
    {
      "cell_type": "markdown",
      "metadata": {
        "id": "mFDo3MYfd60y"
      },
      "source": [
        "## Working with dates"
      ]
    },
    {
      "cell_type": "code",
      "source": [
        "import pandas as pd"
      ],
      "metadata": {
        "id": "kv-qiZLQ2L4e"
      },
      "execution_count": null,
      "outputs": []
    },
    {
      "cell_type": "code",
      "execution_count": null,
      "metadata": {
        "id": "tCe5g9CpfTda"
      },
      "outputs": [],
      "source": [
        "city = [\"London\", \"Rio\", \"Tokyo\"]\n",
        "start_date = [\"07-27-2012\", \"5th Aug, 2016\", \"23rd Jul, 2021\"]\n",
        "end_date = [\"12th Aug, 2012\", \"21-08-2016\", \"8th Aug, 2021\"]"
      ]
    },
    {
      "cell_type": "code",
      "execution_count": null,
      "metadata": {
        "id": "rJMXpKQTdx-g"
      },
      "outputs": [],
      "source": [
        "games = pd.DataFrame(zip(city, start_date, end_date), columns=[\"City\", \"Start Date\", \"End Date\"])\n",
        "games"
      ]
    },
    {
      "cell_type": "code",
      "execution_count": null,
      "metadata": {
        "id": "GmCoDvSyd_C6"
      },
      "outputs": [],
      "source": [
        "games.dtypes"
      ]
    },
    {
      "cell_type": "code",
      "execution_count": null,
      "metadata": {
        "id": "Wz1bAV3SeCk_"
      },
      "outputs": [],
      "source": [
        "import re\n",
        "import pandas as pd\n",
        "\n",
        "search_string = \"date\"\n",
        "\n",
        "[func for func in dir(pd) if re.search(rf\"{search_string}\", func, re.IGNORECASE)]"
      ]
    },
    {
      "cell_type": "code",
      "source": [
        "pd.to_datetime?"
      ],
      "metadata": {
        "id": "orEyvILk6ueE"
      },
      "execution_count": null,
      "outputs": []
    },
    {
      "cell_type": "code",
      "execution_count": null,
      "metadata": {
        "id": "rD15NL_veS6L"
      },
      "outputs": [],
      "source": [
        "#pd.to_datetime(games[\"Start Date\"])"
      ]
    },
    {
      "cell_type": "code",
      "source": [
        "pd.to_datetime(games[\"Start Date\"], format='mixed')"
      ],
      "metadata": {
        "id": "bp1qfHo28QoH"
      },
      "execution_count": null,
      "outputs": []
    },
    {
      "cell_type": "code",
      "execution_count": null,
      "metadata": {
        "id": "85602zibeibf"
      },
      "outputs": [],
      "source": [
        "games[\"Start Date\"] = pd.to_datetime(games[\"Start Date\"], format='mixed')\n",
        "games[\"End Date\"] = pd.to_datetime(games[\"End Date\"], format='mixed')\n",
        "games[\"City\"] = games.City.astype(\"string\")\n",
        "games"
      ]
    },
    {
      "cell_type": "code",
      "execution_count": null,
      "metadata": {
        "id": "ZvB1OP3Xen30"
      },
      "outputs": [],
      "source": [
        "games.dtypes"
      ]
    },
    {
      "cell_type": "code",
      "execution_count": null,
      "metadata": {
        "id": "vyq0kyJRiVcV"
      },
      "outputs": [],
      "source": [
        "games[\"End Date\"]"
      ]
    },
    {
      "cell_type": "code",
      "execution_count": null,
      "metadata": {
        "id": "jYSyhes9iXYh"
      },
      "outputs": [],
      "source": [
        "games[\"Start Date\"]"
      ]
    },
    {
      "cell_type": "code",
      "execution_count": null,
      "metadata": {
        "id": "BiCTrRtth_75"
      },
      "outputs": [],
      "source": [
        "games[\"End Date\"] - games[\"Start Date\"]"
      ]
    },
    {
      "cell_type": "code",
      "execution_count": null,
      "metadata": {
        "id": "JniIyVA-jDeN"
      },
      "outputs": [],
      "source": [
        "games = games.assign(duration=games[\"End Date\"] - games[\"Start Date\"])\n",
        "games"
      ]
    },
    {
      "cell_type": "code",
      "execution_count": null,
      "metadata": {
        "id": "8ePDtaiqjljJ"
      },
      "outputs": [],
      "source": [
        "games.dtypes"
      ]
    },
    {
      "cell_type": "markdown",
      "metadata": {
        "id": "bU802QvxZOh_"
      },
      "source": [
        "## Combining DataFrames"
      ]
    },
    {
      "cell_type": "code",
      "source": [
        "import pandas as pd"
      ],
      "metadata": {
        "id": "uAHilytz_xAs"
      },
      "execution_count": null,
      "outputs": []
    },
    {
      "cell_type": "code",
      "execution_count": null,
      "metadata": {
        "id": "Bfn4C3ZTdOIC"
      },
      "outputs": [],
      "source": [
        "start = pd.DataFrame({\"city\": [\"London\", \"Rio\", \"Tokyo\"],\n",
        "                      \"start_date\": [\"27th Jul, 2012\", \"5th Aug, 2016\", \"23rd July, 2021\"]})\n",
        "start"
      ]
    },
    {
      "cell_type": "code",
      "execution_count": null,
      "metadata": {
        "id": "qbZm-hmRcMJs"
      },
      "outputs": [],
      "source": [
        "end = pd.DataFrame({\"City\": [\"London\", \"Tokyo\", \"Paris\"],\n",
        "                    \"end_date\": [\"12th Aug, 2012\", \"8th Aug, 2021\", \"11th Aug, 2024\"]})\n",
        "end"
      ]
    },
    {
      "cell_type": "code",
      "execution_count": null,
      "metadata": {
        "id": "1v4gGo1XnxES"
      },
      "outputs": [],
      "source": [
        "pd.concat?"
      ]
    },
    {
      "cell_type": "code",
      "execution_count": null,
      "metadata": {
        "id": "Cp6Y8fFlnrEY"
      },
      "outputs": [],
      "source": [
        "pd.concat([start, end], axis=0)"
      ]
    },
    {
      "cell_type": "code",
      "source": [
        "end = pd.DataFrame({\"city\": [\"London\", \"Tokyo\", \"Paris\"],\n",
        "                    \"end_date\": [\"12th Aug, 2012\", \"8th Aug, 2021\", \"11th Aug, 2024\"]})\n",
        "end"
      ],
      "metadata": {
        "id": "LBcoth7NAsBZ"
      },
      "execution_count": null,
      "outputs": []
    },
    {
      "cell_type": "code",
      "source": [
        "pd.concat([start, end], axis=0)"
      ],
      "metadata": {
        "id": "3W6Ml__fBDT-"
      },
      "execution_count": null,
      "outputs": []
    },
    {
      "cell_type": "code",
      "execution_count": null,
      "metadata": {
        "id": "IV8rqQUnn5V-"
      },
      "outputs": [],
      "source": [
        "pd.concat([start, end], axis=1)"
      ]
    },
    {
      "cell_type": "markdown",
      "metadata": {
        "id": "95AObzLMaJ2O"
      },
      "source": [
        "**Inner join**"
      ]
    },
    {
      "cell_type": "code",
      "execution_count": null,
      "metadata": {
        "id": "mL_lnFQl_7pE"
      },
      "outputs": [],
      "source": [
        "start"
      ]
    },
    {
      "cell_type": "code",
      "execution_count": null,
      "metadata": {
        "id": "4CNVJS3f_7pE"
      },
      "outputs": [],
      "source": [
        "end"
      ]
    },
    {
      "cell_type": "code",
      "source": [
        "pd.merge?"
      ],
      "metadata": {
        "id": "O5wR6KsxA5HZ"
      },
      "execution_count": null,
      "outputs": []
    },
    {
      "cell_type": "code",
      "execution_count": null,
      "metadata": {
        "id": "4ZB3I1hDlsfT"
      },
      "outputs": [],
      "source": [
        "pd.merge(left=start, right=end, on=\"city\", how=\"inner\")"
      ]
    },
    {
      "cell_type": "markdown",
      "metadata": {
        "id": "x4qMqkY6aWfy"
      },
      "source": [
        "**Outer join**"
      ]
    },
    {
      "cell_type": "code",
      "execution_count": null,
      "metadata": {
        "id": "gXlmFT4FmP6B"
      },
      "outputs": [],
      "source": [
        "start"
      ]
    },
    {
      "cell_type": "code",
      "execution_count": null,
      "metadata": {
        "id": "vxXO0chfmRG7"
      },
      "outputs": [],
      "source": [
        "end"
      ]
    },
    {
      "cell_type": "code",
      "execution_count": null,
      "metadata": {
        "id": "EyPqa2Ndk5Mz"
      },
      "outputs": [],
      "source": [
        "pd.merge(left=start, right=end, on=\"city\", how=\"outer\")"
      ]
    },
    {
      "cell_type": "markdown",
      "metadata": {
        "id": "VKkhqBWfad0J"
      },
      "source": [
        "**Left join**"
      ]
    },
    {
      "cell_type": "code",
      "execution_count": null,
      "metadata": {
        "id": "Ts5pNF6mmWnh"
      },
      "outputs": [],
      "source": [
        "start"
      ]
    },
    {
      "cell_type": "code",
      "execution_count": null,
      "metadata": {
        "id": "uuAtLImaau4u"
      },
      "outputs": [],
      "source": [
        "pd.merge(left=start, right=end, on=\"city\", how=\"left\")"
      ]
    },
    {
      "cell_type": "markdown",
      "metadata": {
        "id": "dPgGwru2a9TB"
      },
      "source": [
        "**Right join**"
      ]
    },
    {
      "cell_type": "code",
      "execution_count": null,
      "metadata": {
        "id": "rXpbjz6HmaJh"
      },
      "outputs": [],
      "source": [
        "end"
      ]
    },
    {
      "cell_type": "code",
      "execution_count": null,
      "metadata": {
        "id": "nE5Gxayoa_XU"
      },
      "outputs": [],
      "source": [
        "pd.merge(left=start, right=end, on=\"city\", how=\"right\")"
      ]
    },
    {
      "cell_type": "markdown",
      "metadata": {
        "id": "DEyNm2RLoeGd"
      },
      "source": [
        "## Combining Datasets"
      ]
    },
    {
      "cell_type": "code",
      "source": [
        "!pip install --quiet pandas==2.0.2\n",
        "\n",
        "import pandas as pd\n",
        "from pathlib import Path\n",
        "\n",
        "if not Path(\"olympics_1896_2004.csv\").exists():\n",
        "  !wget https://github.com/jonfernandes/pandas_essential/raw/main/olympics_1896_2004.csv\n",
        "\n",
        "filename = \"olympics_1896_2004.csv\"\n",
        "print(\"Installed all of the necessary files for this section ...\")"
      ],
      "metadata": {
        "id": "5FPr9Euwp9Lj",
        "outputId": "efd37427-ef09-48f8-b492-419fe04f7730",
        "colab": {
          "base_uri": "https://localhost:8080/"
        }
      },
      "execution_count": null,
      "outputs": [
        {
          "output_type": "stream",
          "name": "stdout",
          "text": [
            "--2024-12-05 02:10:34--  https://github.com/jonfernandes/pandas_essential/raw/main/olympics_1896_2004.csv\n",
            "Resolving github.com (github.com)... 140.82.112.4\n",
            "Connecting to github.com (github.com)|140.82.112.4|:443... connected.\n",
            "HTTP request sent, awaiting response... 302 Found\n",
            "Location: https://raw.githubusercontent.com/jonfernandes/pandas_essential/main/olympics_1896_2004.csv [following]\n",
            "--2024-12-05 02:10:35--  https://raw.githubusercontent.com/jonfernandes/pandas_essential/main/olympics_1896_2004.csv\n",
            "Resolving raw.githubusercontent.com (raw.githubusercontent.com)... 185.199.108.133, 185.199.109.133, 185.199.110.133, ...\n",
            "Connecting to raw.githubusercontent.com (raw.githubusercontent.com)|185.199.108.133|:443... connected.\n",
            "HTTP request sent, awaiting response... 200 OK\n",
            "Length: 2398388 (2.3M) [text/plain]\n",
            "Saving to: ‘olympics_1896_2004.csv’\n",
            "\n",
            "olympics_1896_2004. 100%[===================>]   2.29M  --.-KB/s    in 0.04s   \n",
            "\n",
            "2024-12-05 02:10:35 (59.3 MB/s) - ‘olympics_1896_2004.csv’ saved [2398388/2398388]\n",
            "\n",
            "Installed all of the necessary files for this section ...\n"
          ]
        }
      ]
    },
    {
      "cell_type": "code",
      "source": [
        "def preprocess(filename = \"olympics_1896_2004.csv\"):\n",
        "  \"\"\"Preparing and transforming dataframe\"\"\"\n",
        "  print(f\"Preprocessing {filename} ...\\n\")\n",
        "  ordered_medals = pd.api.types.CategoricalDtype(categories=[\"Bronze\", \"Silver\", \"Gold\"], ordered=True)\n",
        "  dtype_mapper = {\"Year\": \"int64\",\n",
        "                \"City\": \"string\",\n",
        "                \"Sport\": \"string\",\n",
        "                \"Discipline\": \"string\",\n",
        "                \"Athlete Name\": \"string\",\n",
        "                \"NOC\": \"string\",\n",
        "                \"Gender\": \"category\",\n",
        "                \"Event\": \"string\",\n",
        "                \"Event_gender\": \"category\",\n",
        "                \"Medal\": ordered_medals}\n",
        "  df = (pd.read_csv(filename, skiprows=5, dtype=dtype_mapper)\n",
        "        .drop('Position', axis=1)\n",
        "  )\n",
        "  df[\"Event Gender\"] = df[\"Event Gender\"].astype(\"category\")\n",
        "  return df\n",
        "\n",
        "preprocess()"
      ],
      "metadata": {
        "id": "Y7cv0VM762Pi",
        "outputId": "c699962e-c70c-46e7-eee5-a4024466f68a",
        "colab": {
          "base_uri": "https://localhost:8080/",
          "height": 459
        }
      },
      "execution_count": null,
      "outputs": [
        {
          "output_type": "stream",
          "name": "stdout",
          "text": [
            "Preprocessing olympics_1896_2004.csv ...\n",
            "\n"
          ]
        },
        {
          "output_type": "execute_result",
          "data": {
            "text/plain": [
              "       Year    City      Sport     Discipline        Athlete Name  NOC Gender  \\\n",
              "0      1896  Athens    Cycling  Cycling Track       FLAMENG, Léon  FRA    Men   \n",
              "1      1896  Athens    Cycling  Cycling Track  KOLETTIS, Georgios  GRE    Men   \n",
              "2      1896  Athens  Athletics      Athletics       LANE, Francis  USA    Men   \n",
              "3      1896  Athens  Athletics      Athletics    SZOKOLYI, Alajos  HUN    Men   \n",
              "4      1896  Athens  Athletics      Athletics       BURKE, Thomas  USA    Men   \n",
              "...     ...     ...        ...            ...                 ...  ...    ...   \n",
              "27169  2004  Athens    Fencing        Fencing  LOGOUNOVA, Tatiana  RUS  Women   \n",
              "27170  2004  Athens    Fencing        Fencing       SIVKOVA, Anna  RUS  Women   \n",
              "27171  2004  Athens    Fencing        Fencing      BOKEL, Claudia  GER  Women   \n",
              "27172  2004  Athens    Fencing        Fencing     DUPLITZER, Imke  GER  Women   \n",
              "27173  2004  Athens    Fencing        Fencing   HEIDEMANN, Britta  GER  Women   \n",
              "\n",
              "           Event Event Gender   Medal  \n",
              "0          100km            M    Gold  \n",
              "1          100km            M  Silver  \n",
              "2           100m            M  Bronze  \n",
              "3           100m            M  Bronze  \n",
              "4           100m            M    Gold  \n",
              "...          ...          ...     ...  \n",
              "27169  épée team            W    Gold  \n",
              "27170  épée team            W    Gold  \n",
              "27171  épée team            W  Silver  \n",
              "27172  épée team            W  Silver  \n",
              "27173  épée team            W  Silver  \n",
              "\n",
              "[27174 rows x 10 columns]"
            ],
            "text/html": [
              "\n",
              "  <div id=\"df-a71b64b8-ead6-4ca6-b5f3-8e474d63ff3a\" class=\"colab-df-container\">\n",
              "    <div>\n",
              "<style scoped>\n",
              "    .dataframe tbody tr th:only-of-type {\n",
              "        vertical-align: middle;\n",
              "    }\n",
              "\n",
              "    .dataframe tbody tr th {\n",
              "        vertical-align: top;\n",
              "    }\n",
              "\n",
              "    .dataframe thead th {\n",
              "        text-align: right;\n",
              "    }\n",
              "</style>\n",
              "<table border=\"1\" class=\"dataframe\">\n",
              "  <thead>\n",
              "    <tr style=\"text-align: right;\">\n",
              "      <th></th>\n",
              "      <th>Year</th>\n",
              "      <th>City</th>\n",
              "      <th>Sport</th>\n",
              "      <th>Discipline</th>\n",
              "      <th>Athlete Name</th>\n",
              "      <th>NOC</th>\n",
              "      <th>Gender</th>\n",
              "      <th>Event</th>\n",
              "      <th>Event Gender</th>\n",
              "      <th>Medal</th>\n",
              "    </tr>\n",
              "  </thead>\n",
              "  <tbody>\n",
              "    <tr>\n",
              "      <th>0</th>\n",
              "      <td>1896</td>\n",
              "      <td>Athens</td>\n",
              "      <td>Cycling</td>\n",
              "      <td>Cycling Track</td>\n",
              "      <td>FLAMENG, Léon</td>\n",
              "      <td>FRA</td>\n",
              "      <td>Men</td>\n",
              "      <td>100km</td>\n",
              "      <td>M</td>\n",
              "      <td>Gold</td>\n",
              "    </tr>\n",
              "    <tr>\n",
              "      <th>1</th>\n",
              "      <td>1896</td>\n",
              "      <td>Athens</td>\n",
              "      <td>Cycling</td>\n",
              "      <td>Cycling Track</td>\n",
              "      <td>KOLETTIS, Georgios</td>\n",
              "      <td>GRE</td>\n",
              "      <td>Men</td>\n",
              "      <td>100km</td>\n",
              "      <td>M</td>\n",
              "      <td>Silver</td>\n",
              "    </tr>\n",
              "    <tr>\n",
              "      <th>2</th>\n",
              "      <td>1896</td>\n",
              "      <td>Athens</td>\n",
              "      <td>Athletics</td>\n",
              "      <td>Athletics</td>\n",
              "      <td>LANE, Francis</td>\n",
              "      <td>USA</td>\n",
              "      <td>Men</td>\n",
              "      <td>100m</td>\n",
              "      <td>M</td>\n",
              "      <td>Bronze</td>\n",
              "    </tr>\n",
              "    <tr>\n",
              "      <th>3</th>\n",
              "      <td>1896</td>\n",
              "      <td>Athens</td>\n",
              "      <td>Athletics</td>\n",
              "      <td>Athletics</td>\n",
              "      <td>SZOKOLYI, Alajos</td>\n",
              "      <td>HUN</td>\n",
              "      <td>Men</td>\n",
              "      <td>100m</td>\n",
              "      <td>M</td>\n",
              "      <td>Bronze</td>\n",
              "    </tr>\n",
              "    <tr>\n",
              "      <th>4</th>\n",
              "      <td>1896</td>\n",
              "      <td>Athens</td>\n",
              "      <td>Athletics</td>\n",
              "      <td>Athletics</td>\n",
              "      <td>BURKE, Thomas</td>\n",
              "      <td>USA</td>\n",
              "      <td>Men</td>\n",
              "      <td>100m</td>\n",
              "      <td>M</td>\n",
              "      <td>Gold</td>\n",
              "    </tr>\n",
              "    <tr>\n",
              "      <th>...</th>\n",
              "      <td>...</td>\n",
              "      <td>...</td>\n",
              "      <td>...</td>\n",
              "      <td>...</td>\n",
              "      <td>...</td>\n",
              "      <td>...</td>\n",
              "      <td>...</td>\n",
              "      <td>...</td>\n",
              "      <td>...</td>\n",
              "      <td>...</td>\n",
              "    </tr>\n",
              "    <tr>\n",
              "      <th>27169</th>\n",
              "      <td>2004</td>\n",
              "      <td>Athens</td>\n",
              "      <td>Fencing</td>\n",
              "      <td>Fencing</td>\n",
              "      <td>LOGOUNOVA, Tatiana</td>\n",
              "      <td>RUS</td>\n",
              "      <td>Women</td>\n",
              "      <td>épée team</td>\n",
              "      <td>W</td>\n",
              "      <td>Gold</td>\n",
              "    </tr>\n",
              "    <tr>\n",
              "      <th>27170</th>\n",
              "      <td>2004</td>\n",
              "      <td>Athens</td>\n",
              "      <td>Fencing</td>\n",
              "      <td>Fencing</td>\n",
              "      <td>SIVKOVA, Anna</td>\n",
              "      <td>RUS</td>\n",
              "      <td>Women</td>\n",
              "      <td>épée team</td>\n",
              "      <td>W</td>\n",
              "      <td>Gold</td>\n",
              "    </tr>\n",
              "    <tr>\n",
              "      <th>27171</th>\n",
              "      <td>2004</td>\n",
              "      <td>Athens</td>\n",
              "      <td>Fencing</td>\n",
              "      <td>Fencing</td>\n",
              "      <td>BOKEL, Claudia</td>\n",
              "      <td>GER</td>\n",
              "      <td>Women</td>\n",
              "      <td>épée team</td>\n",
              "      <td>W</td>\n",
              "      <td>Silver</td>\n",
              "    </tr>\n",
              "    <tr>\n",
              "      <th>27172</th>\n",
              "      <td>2004</td>\n",
              "      <td>Athens</td>\n",
              "      <td>Fencing</td>\n",
              "      <td>Fencing</td>\n",
              "      <td>DUPLITZER, Imke</td>\n",
              "      <td>GER</td>\n",
              "      <td>Women</td>\n",
              "      <td>épée team</td>\n",
              "      <td>W</td>\n",
              "      <td>Silver</td>\n",
              "    </tr>\n",
              "    <tr>\n",
              "      <th>27173</th>\n",
              "      <td>2004</td>\n",
              "      <td>Athens</td>\n",
              "      <td>Fencing</td>\n",
              "      <td>Fencing</td>\n",
              "      <td>HEIDEMANN, Britta</td>\n",
              "      <td>GER</td>\n",
              "      <td>Women</td>\n",
              "      <td>épée team</td>\n",
              "      <td>W</td>\n",
              "      <td>Silver</td>\n",
              "    </tr>\n",
              "  </tbody>\n",
              "</table>\n",
              "<p>27174 rows × 10 columns</p>\n",
              "</div>\n",
              "    <div class=\"colab-df-buttons\">\n",
              "\n",
              "  <div class=\"colab-df-container\">\n",
              "    <button class=\"colab-df-convert\" onclick=\"convertToInteractive('df-a71b64b8-ead6-4ca6-b5f3-8e474d63ff3a')\"\n",
              "            title=\"Convert this dataframe to an interactive table.\"\n",
              "            style=\"display:none;\">\n",
              "\n",
              "  <svg xmlns=\"http://www.w3.org/2000/svg\" height=\"24px\" viewBox=\"0 -960 960 960\">\n",
              "    <path d=\"M120-120v-720h720v720H120Zm60-500h600v-160H180v160Zm220 220h160v-160H400v160Zm0 220h160v-160H400v160ZM180-400h160v-160H180v160Zm440 0h160v-160H620v160ZM180-180h160v-160H180v160Zm440 0h160v-160H620v160Z\"/>\n",
              "  </svg>\n",
              "    </button>\n",
              "\n",
              "  <style>\n",
              "    .colab-df-container {\n",
              "      display:flex;\n",
              "      gap: 12px;\n",
              "    }\n",
              "\n",
              "    .colab-df-convert {\n",
              "      background-color: #E8F0FE;\n",
              "      border: none;\n",
              "      border-radius: 50%;\n",
              "      cursor: pointer;\n",
              "      display: none;\n",
              "      fill: #1967D2;\n",
              "      height: 32px;\n",
              "      padding: 0 0 0 0;\n",
              "      width: 32px;\n",
              "    }\n",
              "\n",
              "    .colab-df-convert:hover {\n",
              "      background-color: #E2EBFA;\n",
              "      box-shadow: 0px 1px 2px rgba(60, 64, 67, 0.3), 0px 1px 3px 1px rgba(60, 64, 67, 0.15);\n",
              "      fill: #174EA6;\n",
              "    }\n",
              "\n",
              "    .colab-df-buttons div {\n",
              "      margin-bottom: 4px;\n",
              "    }\n",
              "\n",
              "    [theme=dark] .colab-df-convert {\n",
              "      background-color: #3B4455;\n",
              "      fill: #D2E3FC;\n",
              "    }\n",
              "\n",
              "    [theme=dark] .colab-df-convert:hover {\n",
              "      background-color: #434B5C;\n",
              "      box-shadow: 0px 1px 3px 1px rgba(0, 0, 0, 0.15);\n",
              "      filter: drop-shadow(0px 1px 2px rgba(0, 0, 0, 0.3));\n",
              "      fill: #FFFFFF;\n",
              "    }\n",
              "  </style>\n",
              "\n",
              "    <script>\n",
              "      const buttonEl =\n",
              "        document.querySelector('#df-a71b64b8-ead6-4ca6-b5f3-8e474d63ff3a button.colab-df-convert');\n",
              "      buttonEl.style.display =\n",
              "        google.colab.kernel.accessAllowed ? 'block' : 'none';\n",
              "\n",
              "      async function convertToInteractive(key) {\n",
              "        const element = document.querySelector('#df-a71b64b8-ead6-4ca6-b5f3-8e474d63ff3a');\n",
              "        const dataTable =\n",
              "          await google.colab.kernel.invokeFunction('convertToInteractive',\n",
              "                                                    [key], {});\n",
              "        if (!dataTable) return;\n",
              "\n",
              "        const docLinkHtml = 'Like what you see? Visit the ' +\n",
              "          '<a target=\"_blank\" href=https://colab.research.google.com/notebooks/data_table.ipynb>data table notebook</a>'\n",
              "          + ' to learn more about interactive tables.';\n",
              "        element.innerHTML = '';\n",
              "        dataTable['output_type'] = 'display_data';\n",
              "        await google.colab.output.renderOutput(dataTable, element);\n",
              "        const docLink = document.createElement('div');\n",
              "        docLink.innerHTML = docLinkHtml;\n",
              "        element.appendChild(docLink);\n",
              "      }\n",
              "    </script>\n",
              "  </div>\n",
              "\n",
              "\n",
              "<div id=\"df-2c62cccf-1be6-4008-b9fc-2350e76290a1\">\n",
              "  <button class=\"colab-df-quickchart\" onclick=\"quickchart('df-2c62cccf-1be6-4008-b9fc-2350e76290a1')\"\n",
              "            title=\"Suggest charts\"\n",
              "            style=\"display:none;\">\n",
              "\n",
              "<svg xmlns=\"http://www.w3.org/2000/svg\" height=\"24px\"viewBox=\"0 0 24 24\"\n",
              "     width=\"24px\">\n",
              "    <g>\n",
              "        <path d=\"M19 3H5c-1.1 0-2 .9-2 2v14c0 1.1.9 2 2 2h14c1.1 0 2-.9 2-2V5c0-1.1-.9-2-2-2zM9 17H7v-7h2v7zm4 0h-2V7h2v10zm4 0h-2v-4h2v4z\"/>\n",
              "    </g>\n",
              "</svg>\n",
              "  </button>\n",
              "\n",
              "<style>\n",
              "  .colab-df-quickchart {\n",
              "      --bg-color: #E8F0FE;\n",
              "      --fill-color: #1967D2;\n",
              "      --hover-bg-color: #E2EBFA;\n",
              "      --hover-fill-color: #174EA6;\n",
              "      --disabled-fill-color: #AAA;\n",
              "      --disabled-bg-color: #DDD;\n",
              "  }\n",
              "\n",
              "  [theme=dark] .colab-df-quickchart {\n",
              "      --bg-color: #3B4455;\n",
              "      --fill-color: #D2E3FC;\n",
              "      --hover-bg-color: #434B5C;\n",
              "      --hover-fill-color: #FFFFFF;\n",
              "      --disabled-bg-color: #3B4455;\n",
              "      --disabled-fill-color: #666;\n",
              "  }\n",
              "\n",
              "  .colab-df-quickchart {\n",
              "    background-color: var(--bg-color);\n",
              "    border: none;\n",
              "    border-radius: 50%;\n",
              "    cursor: pointer;\n",
              "    display: none;\n",
              "    fill: var(--fill-color);\n",
              "    height: 32px;\n",
              "    padding: 0;\n",
              "    width: 32px;\n",
              "  }\n",
              "\n",
              "  .colab-df-quickchart:hover {\n",
              "    background-color: var(--hover-bg-color);\n",
              "    box-shadow: 0 1px 2px rgba(60, 64, 67, 0.3), 0 1px 3px 1px rgba(60, 64, 67, 0.15);\n",
              "    fill: var(--button-hover-fill-color);\n",
              "  }\n",
              "\n",
              "  .colab-df-quickchart-complete:disabled,\n",
              "  .colab-df-quickchart-complete:disabled:hover {\n",
              "    background-color: var(--disabled-bg-color);\n",
              "    fill: var(--disabled-fill-color);\n",
              "    box-shadow: none;\n",
              "  }\n",
              "\n",
              "  .colab-df-spinner {\n",
              "    border: 2px solid var(--fill-color);\n",
              "    border-color: transparent;\n",
              "    border-bottom-color: var(--fill-color);\n",
              "    animation:\n",
              "      spin 1s steps(1) infinite;\n",
              "  }\n",
              "\n",
              "  @keyframes spin {\n",
              "    0% {\n",
              "      border-color: transparent;\n",
              "      border-bottom-color: var(--fill-color);\n",
              "      border-left-color: var(--fill-color);\n",
              "    }\n",
              "    20% {\n",
              "      border-color: transparent;\n",
              "      border-left-color: var(--fill-color);\n",
              "      border-top-color: var(--fill-color);\n",
              "    }\n",
              "    30% {\n",
              "      border-color: transparent;\n",
              "      border-left-color: var(--fill-color);\n",
              "      border-top-color: var(--fill-color);\n",
              "      border-right-color: var(--fill-color);\n",
              "    }\n",
              "    40% {\n",
              "      border-color: transparent;\n",
              "      border-right-color: var(--fill-color);\n",
              "      border-top-color: var(--fill-color);\n",
              "    }\n",
              "    60% {\n",
              "      border-color: transparent;\n",
              "      border-right-color: var(--fill-color);\n",
              "    }\n",
              "    80% {\n",
              "      border-color: transparent;\n",
              "      border-right-color: var(--fill-color);\n",
              "      border-bottom-color: var(--fill-color);\n",
              "    }\n",
              "    90% {\n",
              "      border-color: transparent;\n",
              "      border-bottom-color: var(--fill-color);\n",
              "    }\n",
              "  }\n",
              "</style>\n",
              "\n",
              "  <script>\n",
              "    async function quickchart(key) {\n",
              "      const quickchartButtonEl =\n",
              "        document.querySelector('#' + key + ' button');\n",
              "      quickchartButtonEl.disabled = true;  // To prevent multiple clicks.\n",
              "      quickchartButtonEl.classList.add('colab-df-spinner');\n",
              "      try {\n",
              "        const charts = await google.colab.kernel.invokeFunction(\n",
              "            'suggestCharts', [key], {});\n",
              "      } catch (error) {\n",
              "        console.error('Error during call to suggestCharts:', error);\n",
              "      }\n",
              "      quickchartButtonEl.classList.remove('colab-df-spinner');\n",
              "      quickchartButtonEl.classList.add('colab-df-quickchart-complete');\n",
              "    }\n",
              "    (() => {\n",
              "      let quickchartButtonEl =\n",
              "        document.querySelector('#df-2c62cccf-1be6-4008-b9fc-2350e76290a1 button');\n",
              "      quickchartButtonEl.style.display =\n",
              "        google.colab.kernel.accessAllowed ? 'block' : 'none';\n",
              "    })();\n",
              "  </script>\n",
              "</div>\n",
              "\n",
              "    </div>\n",
              "  </div>\n"
            ],
            "application/vnd.google.colaboratory.intrinsic+json": {
              "type": "dataframe",
              "summary": "{\n  \"name\": \"preprocess()\",\n  \"rows\": 27174,\n  \"fields\": [\n    {\n      \"column\": \"Year\",\n      \"properties\": {\n        \"dtype\": \"number\",\n        \"std\": 31,\n        \"min\": 1896,\n        \"max\": 2004,\n        \"num_unique_values\": 25,\n        \"samples\": [\n          1932,\n          1972,\n          1896\n        ],\n        \"semantic_type\": \"\",\n        \"description\": \"\"\n      }\n    },\n    {\n      \"column\": \"City\",\n      \"properties\": {\n        \"dtype\": \"string\",\n        \"num_unique_values\": 21,\n        \"samples\": [\n          \"Athens\",\n          \"Seoul\",\n          \"Montreal\"\n        ],\n        \"semantic_type\": \"\",\n        \"description\": \"\"\n      }\n    },\n    {\n      \"column\": \"Sport\",\n      \"properties\": {\n        \"dtype\": \"string\",\n        \"num_unique_values\": 42,\n        \"samples\": [\n          \"Rackets\",\n          \"Croquet\",\n          \"Wrestling\"\n        ],\n        \"semantic_type\": \"\",\n        \"description\": \"\"\n      }\n    },\n    {\n      \"column\": \"Discipline\",\n      \"properties\": {\n        \"dtype\": \"string\",\n        \"num_unique_values\": 55,\n        \"samples\": [\n          \"Jeu de Paume\",\n          \"Fencing\",\n          \"Figure skating\"\n        ],\n        \"semantic_type\": \"\",\n        \"description\": \"\"\n      }\n    },\n    {\n      \"column\": \"Athlete Name\",\n      \"properties\": {\n        \"dtype\": \"string\",\n        \"num_unique_values\": 19991,\n        \"samples\": [\n          \"TOMAN, Ladislav\",\n          \"MATTO, Sergio A.\",\n          \"DE WOLF, Nicolaas\"\n        ],\n        \"semantic_type\": \"\",\n        \"description\": \"\"\n      }\n    },\n    {\n      \"column\": \"NOC\",\n      \"properties\": {\n        \"dtype\": \"string\",\n        \"num_unique_values\": 132,\n        \"samples\": [\n          \"VEN\",\n          \"ZIM\",\n          \"SWE\"\n        ],\n        \"semantic_type\": \"\",\n        \"description\": \"\"\n      }\n    },\n    {\n      \"column\": \"Gender\",\n      \"properties\": {\n        \"dtype\": \"category\",\n        \"num_unique_values\": 2,\n        \"samples\": [\n          \"Women\",\n          \"Men\"\n        ],\n        \"semantic_type\": \"\",\n        \"description\": \"\"\n      }\n    },\n    {\n      \"column\": \"Event\",\n      \"properties\": {\n        \"dtype\": \"string\",\n        \"num_unique_values\": 572,\n        \"samples\": [\n          \"- 58 kg\",\n          \"cricket\"\n        ],\n        \"semantic_type\": \"\",\n        \"description\": \"\"\n      }\n    },\n    {\n      \"column\": \"Event Gender\",\n      \"properties\": {\n        \"dtype\": \"category\",\n        \"num_unique_values\": 3,\n        \"samples\": [\n          \"M\",\n          \"X\"\n        ],\n        \"semantic_type\": \"\",\n        \"description\": \"\"\n      }\n    },\n    {\n      \"column\": \"Medal\",\n      \"properties\": {\n        \"dtype\": \"category\",\n        \"num_unique_values\": 3,\n        \"samples\": [\n          \"Gold\",\n          \"Silver\"\n        ],\n        \"semantic_type\": \"\",\n        \"description\": \"\"\n      }\n    }\n  ]\n}"
            }
          },
          "metadata": {},
          "execution_count": 4
        }
      ]
    },
    {
      "cell_type": "code",
      "execution_count": null,
      "metadata": {
        "id": "qvrU1Jh_oj4c",
        "outputId": "869b603f-650c-4368-d9aa-f13e91f1624a",
        "colab": {
          "base_uri": "https://localhost:8080/",
          "height": 179
        }
      },
      "outputs": [
        {
          "output_type": "stream",
          "name": "stdout",
          "text": [
            "Preprocessing olympics_1896_2004.csv ...\n",
            "\n"
          ]
        },
        {
          "output_type": "execute_result",
          "data": {
            "text/plain": [
              "       Year       City       Sport Discipline              Athlete Name  NOC  \\\n",
              "12481  1968     Mexico   Athletics  Athletics          GUSHCHIN, Eduard  URS   \n",
              "2403   1912  Stockholm  Equestrian   Dressage  VON BLIXEN-FINECKE, Hans  SWE   \n",
              "25493  2004     Athens    Aquatics   Swimming              WEIR, Amanda  USA   \n",
              "\n",
              "      Gender                Event Event Gender   Medal  \n",
              "12481    Men             shot put            M  Bronze  \n",
              "2403     Men           individual            X  Bronze  \n",
              "25493  Women  4x100m medley relay            W  Silver  "
            ],
            "text/html": [
              "\n",
              "  <div id=\"df-b0621da3-269e-491c-b532-e0667e9a898c\" class=\"colab-df-container\">\n",
              "    <div>\n",
              "<style scoped>\n",
              "    .dataframe tbody tr th:only-of-type {\n",
              "        vertical-align: middle;\n",
              "    }\n",
              "\n",
              "    .dataframe tbody tr th {\n",
              "        vertical-align: top;\n",
              "    }\n",
              "\n",
              "    .dataframe thead th {\n",
              "        text-align: right;\n",
              "    }\n",
              "</style>\n",
              "<table border=\"1\" class=\"dataframe\">\n",
              "  <thead>\n",
              "    <tr style=\"text-align: right;\">\n",
              "      <th></th>\n",
              "      <th>Year</th>\n",
              "      <th>City</th>\n",
              "      <th>Sport</th>\n",
              "      <th>Discipline</th>\n",
              "      <th>Athlete Name</th>\n",
              "      <th>NOC</th>\n",
              "      <th>Gender</th>\n",
              "      <th>Event</th>\n",
              "      <th>Event Gender</th>\n",
              "      <th>Medal</th>\n",
              "    </tr>\n",
              "  </thead>\n",
              "  <tbody>\n",
              "    <tr>\n",
              "      <th>12481</th>\n",
              "      <td>1968</td>\n",
              "      <td>Mexico</td>\n",
              "      <td>Athletics</td>\n",
              "      <td>Athletics</td>\n",
              "      <td>GUSHCHIN, Eduard</td>\n",
              "      <td>URS</td>\n",
              "      <td>Men</td>\n",
              "      <td>shot put</td>\n",
              "      <td>M</td>\n",
              "      <td>Bronze</td>\n",
              "    </tr>\n",
              "    <tr>\n",
              "      <th>2403</th>\n",
              "      <td>1912</td>\n",
              "      <td>Stockholm</td>\n",
              "      <td>Equestrian</td>\n",
              "      <td>Dressage</td>\n",
              "      <td>VON BLIXEN-FINECKE, Hans</td>\n",
              "      <td>SWE</td>\n",
              "      <td>Men</td>\n",
              "      <td>individual</td>\n",
              "      <td>X</td>\n",
              "      <td>Bronze</td>\n",
              "    </tr>\n",
              "    <tr>\n",
              "      <th>25493</th>\n",
              "      <td>2004</td>\n",
              "      <td>Athens</td>\n",
              "      <td>Aquatics</td>\n",
              "      <td>Swimming</td>\n",
              "      <td>WEIR, Amanda</td>\n",
              "      <td>USA</td>\n",
              "      <td>Women</td>\n",
              "      <td>4x100m medley relay</td>\n",
              "      <td>W</td>\n",
              "      <td>Silver</td>\n",
              "    </tr>\n",
              "  </tbody>\n",
              "</table>\n",
              "</div>\n",
              "    <div class=\"colab-df-buttons\">\n",
              "\n",
              "  <div class=\"colab-df-container\">\n",
              "    <button class=\"colab-df-convert\" onclick=\"convertToInteractive('df-b0621da3-269e-491c-b532-e0667e9a898c')\"\n",
              "            title=\"Convert this dataframe to an interactive table.\"\n",
              "            style=\"display:none;\">\n",
              "\n",
              "  <svg xmlns=\"http://www.w3.org/2000/svg\" height=\"24px\" viewBox=\"0 -960 960 960\">\n",
              "    <path d=\"M120-120v-720h720v720H120Zm60-500h600v-160H180v160Zm220 220h160v-160H400v160Zm0 220h160v-160H400v160ZM180-400h160v-160H180v160Zm440 0h160v-160H620v160ZM180-180h160v-160H180v160Zm440 0h160v-160H620v160Z\"/>\n",
              "  </svg>\n",
              "    </button>\n",
              "\n",
              "  <style>\n",
              "    .colab-df-container {\n",
              "      display:flex;\n",
              "      gap: 12px;\n",
              "    }\n",
              "\n",
              "    .colab-df-convert {\n",
              "      background-color: #E8F0FE;\n",
              "      border: none;\n",
              "      border-radius: 50%;\n",
              "      cursor: pointer;\n",
              "      display: none;\n",
              "      fill: #1967D2;\n",
              "      height: 32px;\n",
              "      padding: 0 0 0 0;\n",
              "      width: 32px;\n",
              "    }\n",
              "\n",
              "    .colab-df-convert:hover {\n",
              "      background-color: #E2EBFA;\n",
              "      box-shadow: 0px 1px 2px rgba(60, 64, 67, 0.3), 0px 1px 3px 1px rgba(60, 64, 67, 0.15);\n",
              "      fill: #174EA6;\n",
              "    }\n",
              "\n",
              "    .colab-df-buttons div {\n",
              "      margin-bottom: 4px;\n",
              "    }\n",
              "\n",
              "    [theme=dark] .colab-df-convert {\n",
              "      background-color: #3B4455;\n",
              "      fill: #D2E3FC;\n",
              "    }\n",
              "\n",
              "    [theme=dark] .colab-df-convert:hover {\n",
              "      background-color: #434B5C;\n",
              "      box-shadow: 0px 1px 3px 1px rgba(0, 0, 0, 0.15);\n",
              "      filter: drop-shadow(0px 1px 2px rgba(0, 0, 0, 0.3));\n",
              "      fill: #FFFFFF;\n",
              "    }\n",
              "  </style>\n",
              "\n",
              "    <script>\n",
              "      const buttonEl =\n",
              "        document.querySelector('#df-b0621da3-269e-491c-b532-e0667e9a898c button.colab-df-convert');\n",
              "      buttonEl.style.display =\n",
              "        google.colab.kernel.accessAllowed ? 'block' : 'none';\n",
              "\n",
              "      async function convertToInteractive(key) {\n",
              "        const element = document.querySelector('#df-b0621da3-269e-491c-b532-e0667e9a898c');\n",
              "        const dataTable =\n",
              "          await google.colab.kernel.invokeFunction('convertToInteractive',\n",
              "                                                    [key], {});\n",
              "        if (!dataTable) return;\n",
              "\n",
              "        const docLinkHtml = 'Like what you see? Visit the ' +\n",
              "          '<a target=\"_blank\" href=https://colab.research.google.com/notebooks/data_table.ipynb>data table notebook</a>'\n",
              "          + ' to learn more about interactive tables.';\n",
              "        element.innerHTML = '';\n",
              "        dataTable['output_type'] = 'display_data';\n",
              "        await google.colab.output.renderOutput(dataTable, element);\n",
              "        const docLink = document.createElement('div');\n",
              "        docLink.innerHTML = docLinkHtml;\n",
              "        element.appendChild(docLink);\n",
              "      }\n",
              "    </script>\n",
              "  </div>\n",
              "\n",
              "\n",
              "<div id=\"df-fd4f3160-09c7-47dd-ad4c-57d26e3eda9c\">\n",
              "  <button class=\"colab-df-quickchart\" onclick=\"quickchart('df-fd4f3160-09c7-47dd-ad4c-57d26e3eda9c')\"\n",
              "            title=\"Suggest charts\"\n",
              "            style=\"display:none;\">\n",
              "\n",
              "<svg xmlns=\"http://www.w3.org/2000/svg\" height=\"24px\"viewBox=\"0 0 24 24\"\n",
              "     width=\"24px\">\n",
              "    <g>\n",
              "        <path d=\"M19 3H5c-1.1 0-2 .9-2 2v14c0 1.1.9 2 2 2h14c1.1 0 2-.9 2-2V5c0-1.1-.9-2-2-2zM9 17H7v-7h2v7zm4 0h-2V7h2v10zm4 0h-2v-4h2v4z\"/>\n",
              "    </g>\n",
              "</svg>\n",
              "  </button>\n",
              "\n",
              "<style>\n",
              "  .colab-df-quickchart {\n",
              "      --bg-color: #E8F0FE;\n",
              "      --fill-color: #1967D2;\n",
              "      --hover-bg-color: #E2EBFA;\n",
              "      --hover-fill-color: #174EA6;\n",
              "      --disabled-fill-color: #AAA;\n",
              "      --disabled-bg-color: #DDD;\n",
              "  }\n",
              "\n",
              "  [theme=dark] .colab-df-quickchart {\n",
              "      --bg-color: #3B4455;\n",
              "      --fill-color: #D2E3FC;\n",
              "      --hover-bg-color: #434B5C;\n",
              "      --hover-fill-color: #FFFFFF;\n",
              "      --disabled-bg-color: #3B4455;\n",
              "      --disabled-fill-color: #666;\n",
              "  }\n",
              "\n",
              "  .colab-df-quickchart {\n",
              "    background-color: var(--bg-color);\n",
              "    border: none;\n",
              "    border-radius: 50%;\n",
              "    cursor: pointer;\n",
              "    display: none;\n",
              "    fill: var(--fill-color);\n",
              "    height: 32px;\n",
              "    padding: 0;\n",
              "    width: 32px;\n",
              "  }\n",
              "\n",
              "  .colab-df-quickchart:hover {\n",
              "    background-color: var(--hover-bg-color);\n",
              "    box-shadow: 0 1px 2px rgba(60, 64, 67, 0.3), 0 1px 3px 1px rgba(60, 64, 67, 0.15);\n",
              "    fill: var(--button-hover-fill-color);\n",
              "  }\n",
              "\n",
              "  .colab-df-quickchart-complete:disabled,\n",
              "  .colab-df-quickchart-complete:disabled:hover {\n",
              "    background-color: var(--disabled-bg-color);\n",
              "    fill: var(--disabled-fill-color);\n",
              "    box-shadow: none;\n",
              "  }\n",
              "\n",
              "  .colab-df-spinner {\n",
              "    border: 2px solid var(--fill-color);\n",
              "    border-color: transparent;\n",
              "    border-bottom-color: var(--fill-color);\n",
              "    animation:\n",
              "      spin 1s steps(1) infinite;\n",
              "  }\n",
              "\n",
              "  @keyframes spin {\n",
              "    0% {\n",
              "      border-color: transparent;\n",
              "      border-bottom-color: var(--fill-color);\n",
              "      border-left-color: var(--fill-color);\n",
              "    }\n",
              "    20% {\n",
              "      border-color: transparent;\n",
              "      border-left-color: var(--fill-color);\n",
              "      border-top-color: var(--fill-color);\n",
              "    }\n",
              "    30% {\n",
              "      border-color: transparent;\n",
              "      border-left-color: var(--fill-color);\n",
              "      border-top-color: var(--fill-color);\n",
              "      border-right-color: var(--fill-color);\n",
              "    }\n",
              "    40% {\n",
              "      border-color: transparent;\n",
              "      border-right-color: var(--fill-color);\n",
              "      border-top-color: var(--fill-color);\n",
              "    }\n",
              "    60% {\n",
              "      border-color: transparent;\n",
              "      border-right-color: var(--fill-color);\n",
              "    }\n",
              "    80% {\n",
              "      border-color: transparent;\n",
              "      border-right-color: var(--fill-color);\n",
              "      border-bottom-color: var(--fill-color);\n",
              "    }\n",
              "    90% {\n",
              "      border-color: transparent;\n",
              "      border-bottom-color: var(--fill-color);\n",
              "    }\n",
              "  }\n",
              "</style>\n",
              "\n",
              "  <script>\n",
              "    async function quickchart(key) {\n",
              "      const quickchartButtonEl =\n",
              "        document.querySelector('#' + key + ' button');\n",
              "      quickchartButtonEl.disabled = true;  // To prevent multiple clicks.\n",
              "      quickchartButtonEl.classList.add('colab-df-spinner');\n",
              "      try {\n",
              "        const charts = await google.colab.kernel.invokeFunction(\n",
              "            'suggestCharts', [key], {});\n",
              "      } catch (error) {\n",
              "        console.error('Error during call to suggestCharts:', error);\n",
              "      }\n",
              "      quickchartButtonEl.classList.remove('colab-df-spinner');\n",
              "      quickchartButtonEl.classList.add('colab-df-quickchart-complete');\n",
              "    }\n",
              "    (() => {\n",
              "      let quickchartButtonEl =\n",
              "        document.querySelector('#df-fd4f3160-09c7-47dd-ad4c-57d26e3eda9c button');\n",
              "      quickchartButtonEl.style.display =\n",
              "        google.colab.kernel.accessAllowed ? 'block' : 'none';\n",
              "    })();\n",
              "  </script>\n",
              "</div>\n",
              "\n",
              "    </div>\n",
              "  </div>\n"
            ],
            "application/vnd.google.colaboratory.intrinsic+json": {
              "type": "dataframe",
              "summary": "{\n  \"name\": \"oo\",\n  \"rows\": 3,\n  \"fields\": [\n    {\n      \"column\": \"Year\",\n      \"properties\": {\n        \"dtype\": \"number\",\n        \"std\": 46,\n        \"min\": 1912,\n        \"max\": 2004,\n        \"num_unique_values\": 3,\n        \"samples\": [\n          1968,\n          1912,\n          2004\n        ],\n        \"semantic_type\": \"\",\n        \"description\": \"\"\n      }\n    },\n    {\n      \"column\": \"City\",\n      \"properties\": {\n        \"dtype\": \"string\",\n        \"num_unique_values\": 3,\n        \"samples\": [\n          \"Mexico\",\n          \"Stockholm\",\n          \"Athens\"\n        ],\n        \"semantic_type\": \"\",\n        \"description\": \"\"\n      }\n    },\n    {\n      \"column\": \"Sport\",\n      \"properties\": {\n        \"dtype\": \"string\",\n        \"num_unique_values\": 3,\n        \"samples\": [\n          \"Athletics\",\n          \"Equestrian\",\n          \"Aquatics\"\n        ],\n        \"semantic_type\": \"\",\n        \"description\": \"\"\n      }\n    },\n    {\n      \"column\": \"Discipline\",\n      \"properties\": {\n        \"dtype\": \"string\",\n        \"num_unique_values\": 3,\n        \"samples\": [\n          \"Athletics\",\n          \"Dressage\",\n          \"Swimming\"\n        ],\n        \"semantic_type\": \"\",\n        \"description\": \"\"\n      }\n    },\n    {\n      \"column\": \"Athlete Name\",\n      \"properties\": {\n        \"dtype\": \"string\",\n        \"num_unique_values\": 3,\n        \"samples\": [\n          \"GUSHCHIN, Eduard\",\n          \"VON BLIXEN-FINECKE, Hans\",\n          \"WEIR, Amanda\"\n        ],\n        \"semantic_type\": \"\",\n        \"description\": \"\"\n      }\n    },\n    {\n      \"column\": \"NOC\",\n      \"properties\": {\n        \"dtype\": \"string\",\n        \"num_unique_values\": 3,\n        \"samples\": [\n          \"URS\",\n          \"SWE\",\n          \"USA\"\n        ],\n        \"semantic_type\": \"\",\n        \"description\": \"\"\n      }\n    },\n    {\n      \"column\": \"Gender\",\n      \"properties\": {\n        \"dtype\": \"category\",\n        \"num_unique_values\": 2,\n        \"samples\": [\n          \"Women\",\n          \"Men\"\n        ],\n        \"semantic_type\": \"\",\n        \"description\": \"\"\n      }\n    },\n    {\n      \"column\": \"Event\",\n      \"properties\": {\n        \"dtype\": \"string\",\n        \"num_unique_values\": 3,\n        \"samples\": [\n          \"shot put\",\n          \"individual\"\n        ],\n        \"semantic_type\": \"\",\n        \"description\": \"\"\n      }\n    },\n    {\n      \"column\": \"Event Gender\",\n      \"properties\": {\n        \"dtype\": \"category\",\n        \"num_unique_values\": 3,\n        \"samples\": [\n          \"M\",\n          \"X\"\n        ],\n        \"semantic_type\": \"\",\n        \"description\": \"\"\n      }\n    },\n    {\n      \"column\": \"Medal\",\n      \"properties\": {\n        \"dtype\": \"category\",\n        \"num_unique_values\": 2,\n        \"samples\": [\n          \"Silver\",\n          \"Bronze\"\n        ],\n        \"semantic_type\": \"\",\n        \"description\": \"\"\n      }\n    }\n  ]\n}"
            }
          },
          "metadata": {},
          "execution_count": 5
        }
      ],
      "source": [
        "oo = preprocess()\n",
        "oo.sample(3)"
      ]
    },
    {
      "cell_type": "code",
      "execution_count": null,
      "metadata": {
        "id": "PmWbYgeaojk9",
        "outputId": "e007c71c-3b8f-4eea-d9ed-f51a7eaa339a",
        "colab": {
          "base_uri": "https://localhost:8080/"
        }
      },
      "outputs": [
        {
          "output_type": "stream",
          "name": "stdout",
          "text": [
            "--2024-12-05 02:10:36--  https://github.com/jonfernandes/pandas_essential/raw/main/olympics_2008.csv\n",
            "Resolving github.com (github.com)... 140.82.114.4\n",
            "Connecting to github.com (github.com)|140.82.114.4|:443... connected.\n",
            "HTTP request sent, awaiting response... 302 Found\n",
            "Location: https://raw.githubusercontent.com/jonfernandes/pandas_essential/main/olympics_2008.csv [following]\n",
            "--2024-12-05 02:10:36--  https://raw.githubusercontent.com/jonfernandes/pandas_essential/main/olympics_2008.csv\n",
            "Resolving raw.githubusercontent.com (raw.githubusercontent.com)... 185.199.109.133, 185.199.111.133, 185.199.108.133, ...\n",
            "Connecting to raw.githubusercontent.com (raw.githubusercontent.com)|185.199.109.133|:443... connected.\n",
            "HTTP request sent, awaiting response... 200 OK\n",
            "Length: 174220 (170K) [text/plain]\n",
            "Saving to: ‘olympics_2008.csv’\n",
            "\n",
            "\rolympics_2008.csv     0%[                    ]       0  --.-KB/s               \rolympics_2008.csv   100%[===================>] 170.14K  --.-KB/s    in 0.003s  \n",
            "\n",
            "2024-12-05 02:10:36 (52.4 MB/s) - ‘olympics_2008.csv’ saved [174220/174220]\n",
            "\n"
          ]
        }
      ],
      "source": [
        "!wget https://github.com/jonfernandes/pandas_essential/raw/main/olympics_2008.csv"
      ]
    },
    {
      "cell_type": "code",
      "source": [
        "new_filename =  \"olympics_2008.csv\"\n",
        "nw = pd.read_csv(new_filename)\n",
        "nw.head(5)"
      ],
      "metadata": {
        "id": "ZpK7tnIzZVmG",
        "outputId": "0a6e9d55-7d4b-4a81-be7e-78ba96e0fb42",
        "colab": {
          "base_uri": "https://localhost:8080/",
          "height": 206
        }
      },
      "execution_count": null,
      "outputs": [
        {
          "output_type": "execute_result",
          "data": {
            "text/plain": [
              "      city  edition     sport discipline           athlete country_code  \\\n",
              "0  Beijing   2008.0  aquatics     Diving    GALPERIN, Gleb          RUS   \n",
              "1  Beijing   2008.0  aquatics     Diving  MITCHAM, Matthew          AUS   \n",
              "2  Beijing   2008.0  aquatics     Diving       ZHOU, Luxin          CHN   \n",
              "3  Beijing   2008.0  aquatics     Diving         WANG, Xin          CHN   \n",
              "4  Beijing   2008.0  aquatics     Diving      CHEN, Ruolin          CHN   \n",
              "\n",
              "  gender         event event_gender   medal  result  \n",
              "0    Men  10m platform            M  bronze     3.0  \n",
              "1    Men  10m platform            M    gold     1.0  \n",
              "2    Men  10m platform            M  silver     2.0  \n",
              "3  Women  10m platform            W  bronze     3.0  \n",
              "4  Women  10m platform            W    gold     1.0  "
            ],
            "text/html": [
              "\n",
              "  <div id=\"df-9556dc07-d637-4695-9cb9-1c0be5969667\" class=\"colab-df-container\">\n",
              "    <div>\n",
              "<style scoped>\n",
              "    .dataframe tbody tr th:only-of-type {\n",
              "        vertical-align: middle;\n",
              "    }\n",
              "\n",
              "    .dataframe tbody tr th {\n",
              "        vertical-align: top;\n",
              "    }\n",
              "\n",
              "    .dataframe thead th {\n",
              "        text-align: right;\n",
              "    }\n",
              "</style>\n",
              "<table border=\"1\" class=\"dataframe\">\n",
              "  <thead>\n",
              "    <tr style=\"text-align: right;\">\n",
              "      <th></th>\n",
              "      <th>city</th>\n",
              "      <th>edition</th>\n",
              "      <th>sport</th>\n",
              "      <th>discipline</th>\n",
              "      <th>athlete</th>\n",
              "      <th>country_code</th>\n",
              "      <th>gender</th>\n",
              "      <th>event</th>\n",
              "      <th>event_gender</th>\n",
              "      <th>medal</th>\n",
              "      <th>result</th>\n",
              "    </tr>\n",
              "  </thead>\n",
              "  <tbody>\n",
              "    <tr>\n",
              "      <th>0</th>\n",
              "      <td>Beijing</td>\n",
              "      <td>2008.0</td>\n",
              "      <td>aquatics</td>\n",
              "      <td>Diving</td>\n",
              "      <td>GALPERIN, Gleb</td>\n",
              "      <td>RUS</td>\n",
              "      <td>Men</td>\n",
              "      <td>10m platform</td>\n",
              "      <td>M</td>\n",
              "      <td>bronze</td>\n",
              "      <td>3.0</td>\n",
              "    </tr>\n",
              "    <tr>\n",
              "      <th>1</th>\n",
              "      <td>Beijing</td>\n",
              "      <td>2008.0</td>\n",
              "      <td>aquatics</td>\n",
              "      <td>Diving</td>\n",
              "      <td>MITCHAM, Matthew</td>\n",
              "      <td>AUS</td>\n",
              "      <td>Men</td>\n",
              "      <td>10m platform</td>\n",
              "      <td>M</td>\n",
              "      <td>gold</td>\n",
              "      <td>1.0</td>\n",
              "    </tr>\n",
              "    <tr>\n",
              "      <th>2</th>\n",
              "      <td>Beijing</td>\n",
              "      <td>2008.0</td>\n",
              "      <td>aquatics</td>\n",
              "      <td>Diving</td>\n",
              "      <td>ZHOU, Luxin</td>\n",
              "      <td>CHN</td>\n",
              "      <td>Men</td>\n",
              "      <td>10m platform</td>\n",
              "      <td>M</td>\n",
              "      <td>silver</td>\n",
              "      <td>2.0</td>\n",
              "    </tr>\n",
              "    <tr>\n",
              "      <th>3</th>\n",
              "      <td>Beijing</td>\n",
              "      <td>2008.0</td>\n",
              "      <td>aquatics</td>\n",
              "      <td>Diving</td>\n",
              "      <td>WANG, Xin</td>\n",
              "      <td>CHN</td>\n",
              "      <td>Women</td>\n",
              "      <td>10m platform</td>\n",
              "      <td>W</td>\n",
              "      <td>bronze</td>\n",
              "      <td>3.0</td>\n",
              "    </tr>\n",
              "    <tr>\n",
              "      <th>4</th>\n",
              "      <td>Beijing</td>\n",
              "      <td>2008.0</td>\n",
              "      <td>aquatics</td>\n",
              "      <td>Diving</td>\n",
              "      <td>CHEN, Ruolin</td>\n",
              "      <td>CHN</td>\n",
              "      <td>Women</td>\n",
              "      <td>10m platform</td>\n",
              "      <td>W</td>\n",
              "      <td>gold</td>\n",
              "      <td>1.0</td>\n",
              "    </tr>\n",
              "  </tbody>\n",
              "</table>\n",
              "</div>\n",
              "    <div class=\"colab-df-buttons\">\n",
              "\n",
              "  <div class=\"colab-df-container\">\n",
              "    <button class=\"colab-df-convert\" onclick=\"convertToInteractive('df-9556dc07-d637-4695-9cb9-1c0be5969667')\"\n",
              "            title=\"Convert this dataframe to an interactive table.\"\n",
              "            style=\"display:none;\">\n",
              "\n",
              "  <svg xmlns=\"http://www.w3.org/2000/svg\" height=\"24px\" viewBox=\"0 -960 960 960\">\n",
              "    <path d=\"M120-120v-720h720v720H120Zm60-500h600v-160H180v160Zm220 220h160v-160H400v160Zm0 220h160v-160H400v160ZM180-400h160v-160H180v160Zm440 0h160v-160H620v160ZM180-180h160v-160H180v160Zm440 0h160v-160H620v160Z\"/>\n",
              "  </svg>\n",
              "    </button>\n",
              "\n",
              "  <style>\n",
              "    .colab-df-container {\n",
              "      display:flex;\n",
              "      gap: 12px;\n",
              "    }\n",
              "\n",
              "    .colab-df-convert {\n",
              "      background-color: #E8F0FE;\n",
              "      border: none;\n",
              "      border-radius: 50%;\n",
              "      cursor: pointer;\n",
              "      display: none;\n",
              "      fill: #1967D2;\n",
              "      height: 32px;\n",
              "      padding: 0 0 0 0;\n",
              "      width: 32px;\n",
              "    }\n",
              "\n",
              "    .colab-df-convert:hover {\n",
              "      background-color: #E2EBFA;\n",
              "      box-shadow: 0px 1px 2px rgba(60, 64, 67, 0.3), 0px 1px 3px 1px rgba(60, 64, 67, 0.15);\n",
              "      fill: #174EA6;\n",
              "    }\n",
              "\n",
              "    .colab-df-buttons div {\n",
              "      margin-bottom: 4px;\n",
              "    }\n",
              "\n",
              "    [theme=dark] .colab-df-convert {\n",
              "      background-color: #3B4455;\n",
              "      fill: #D2E3FC;\n",
              "    }\n",
              "\n",
              "    [theme=dark] .colab-df-convert:hover {\n",
              "      background-color: #434B5C;\n",
              "      box-shadow: 0px 1px 3px 1px rgba(0, 0, 0, 0.15);\n",
              "      filter: drop-shadow(0px 1px 2px rgba(0, 0, 0, 0.3));\n",
              "      fill: #FFFFFF;\n",
              "    }\n",
              "  </style>\n",
              "\n",
              "    <script>\n",
              "      const buttonEl =\n",
              "        document.querySelector('#df-9556dc07-d637-4695-9cb9-1c0be5969667 button.colab-df-convert');\n",
              "      buttonEl.style.display =\n",
              "        google.colab.kernel.accessAllowed ? 'block' : 'none';\n",
              "\n",
              "      async function convertToInteractive(key) {\n",
              "        const element = document.querySelector('#df-9556dc07-d637-4695-9cb9-1c0be5969667');\n",
              "        const dataTable =\n",
              "          await google.colab.kernel.invokeFunction('convertToInteractive',\n",
              "                                                    [key], {});\n",
              "        if (!dataTable) return;\n",
              "\n",
              "        const docLinkHtml = 'Like what you see? Visit the ' +\n",
              "          '<a target=\"_blank\" href=https://colab.research.google.com/notebooks/data_table.ipynb>data table notebook</a>'\n",
              "          + ' to learn more about interactive tables.';\n",
              "        element.innerHTML = '';\n",
              "        dataTable['output_type'] = 'display_data';\n",
              "        await google.colab.output.renderOutput(dataTable, element);\n",
              "        const docLink = document.createElement('div');\n",
              "        docLink.innerHTML = docLinkHtml;\n",
              "        element.appendChild(docLink);\n",
              "      }\n",
              "    </script>\n",
              "  </div>\n",
              "\n",
              "\n",
              "<div id=\"df-acbcd562-dad1-449e-8325-0ed4b70241c5\">\n",
              "  <button class=\"colab-df-quickchart\" onclick=\"quickchart('df-acbcd562-dad1-449e-8325-0ed4b70241c5')\"\n",
              "            title=\"Suggest charts\"\n",
              "            style=\"display:none;\">\n",
              "\n",
              "<svg xmlns=\"http://www.w3.org/2000/svg\" height=\"24px\"viewBox=\"0 0 24 24\"\n",
              "     width=\"24px\">\n",
              "    <g>\n",
              "        <path d=\"M19 3H5c-1.1 0-2 .9-2 2v14c0 1.1.9 2 2 2h14c1.1 0 2-.9 2-2V5c0-1.1-.9-2-2-2zM9 17H7v-7h2v7zm4 0h-2V7h2v10zm4 0h-2v-4h2v4z\"/>\n",
              "    </g>\n",
              "</svg>\n",
              "  </button>\n",
              "\n",
              "<style>\n",
              "  .colab-df-quickchart {\n",
              "      --bg-color: #E8F0FE;\n",
              "      --fill-color: #1967D2;\n",
              "      --hover-bg-color: #E2EBFA;\n",
              "      --hover-fill-color: #174EA6;\n",
              "      --disabled-fill-color: #AAA;\n",
              "      --disabled-bg-color: #DDD;\n",
              "  }\n",
              "\n",
              "  [theme=dark] .colab-df-quickchart {\n",
              "      --bg-color: #3B4455;\n",
              "      --fill-color: #D2E3FC;\n",
              "      --hover-bg-color: #434B5C;\n",
              "      --hover-fill-color: #FFFFFF;\n",
              "      --disabled-bg-color: #3B4455;\n",
              "      --disabled-fill-color: #666;\n",
              "  }\n",
              "\n",
              "  .colab-df-quickchart {\n",
              "    background-color: var(--bg-color);\n",
              "    border: none;\n",
              "    border-radius: 50%;\n",
              "    cursor: pointer;\n",
              "    display: none;\n",
              "    fill: var(--fill-color);\n",
              "    height: 32px;\n",
              "    padding: 0;\n",
              "    width: 32px;\n",
              "  }\n",
              "\n",
              "  .colab-df-quickchart:hover {\n",
              "    background-color: var(--hover-bg-color);\n",
              "    box-shadow: 0 1px 2px rgba(60, 64, 67, 0.3), 0 1px 3px 1px rgba(60, 64, 67, 0.15);\n",
              "    fill: var(--button-hover-fill-color);\n",
              "  }\n",
              "\n",
              "  .colab-df-quickchart-complete:disabled,\n",
              "  .colab-df-quickchart-complete:disabled:hover {\n",
              "    background-color: var(--disabled-bg-color);\n",
              "    fill: var(--disabled-fill-color);\n",
              "    box-shadow: none;\n",
              "  }\n",
              "\n",
              "  .colab-df-spinner {\n",
              "    border: 2px solid var(--fill-color);\n",
              "    border-color: transparent;\n",
              "    border-bottom-color: var(--fill-color);\n",
              "    animation:\n",
              "      spin 1s steps(1) infinite;\n",
              "  }\n",
              "\n",
              "  @keyframes spin {\n",
              "    0% {\n",
              "      border-color: transparent;\n",
              "      border-bottom-color: var(--fill-color);\n",
              "      border-left-color: var(--fill-color);\n",
              "    }\n",
              "    20% {\n",
              "      border-color: transparent;\n",
              "      border-left-color: var(--fill-color);\n",
              "      border-top-color: var(--fill-color);\n",
              "    }\n",
              "    30% {\n",
              "      border-color: transparent;\n",
              "      border-left-color: var(--fill-color);\n",
              "      border-top-color: var(--fill-color);\n",
              "      border-right-color: var(--fill-color);\n",
              "    }\n",
              "    40% {\n",
              "      border-color: transparent;\n",
              "      border-right-color: var(--fill-color);\n",
              "      border-top-color: var(--fill-color);\n",
              "    }\n",
              "    60% {\n",
              "      border-color: transparent;\n",
              "      border-right-color: var(--fill-color);\n",
              "    }\n",
              "    80% {\n",
              "      border-color: transparent;\n",
              "      border-right-color: var(--fill-color);\n",
              "      border-bottom-color: var(--fill-color);\n",
              "    }\n",
              "    90% {\n",
              "      border-color: transparent;\n",
              "      border-bottom-color: var(--fill-color);\n",
              "    }\n",
              "  }\n",
              "</style>\n",
              "\n",
              "  <script>\n",
              "    async function quickchart(key) {\n",
              "      const quickchartButtonEl =\n",
              "        document.querySelector('#' + key + ' button');\n",
              "      quickchartButtonEl.disabled = true;  // To prevent multiple clicks.\n",
              "      quickchartButtonEl.classList.add('colab-df-spinner');\n",
              "      try {\n",
              "        const charts = await google.colab.kernel.invokeFunction(\n",
              "            'suggestCharts', [key], {});\n",
              "      } catch (error) {\n",
              "        console.error('Error during call to suggestCharts:', error);\n",
              "      }\n",
              "      quickchartButtonEl.classList.remove('colab-df-spinner');\n",
              "      quickchartButtonEl.classList.add('colab-df-quickchart-complete');\n",
              "    }\n",
              "    (() => {\n",
              "      let quickchartButtonEl =\n",
              "        document.querySelector('#df-acbcd562-dad1-449e-8325-0ed4b70241c5 button');\n",
              "      quickchartButtonEl.style.display =\n",
              "        google.colab.kernel.accessAllowed ? 'block' : 'none';\n",
              "    })();\n",
              "  </script>\n",
              "</div>\n",
              "\n",
              "    </div>\n",
              "  </div>\n"
            ],
            "application/vnd.google.colaboratory.intrinsic+json": {
              "type": "dataframe",
              "variable_name": "nw",
              "summary": "{\n  \"name\": \"nw\",\n  \"rows\": 2059,\n  \"fields\": [\n    {\n      \"column\": \"city\",\n      \"properties\": {\n        \"dtype\": \"category\",\n        \"num_unique_values\": 1,\n        \"samples\": [\n          \"Beijing\"\n        ],\n        \"semantic_type\": \"\",\n        \"description\": \"\"\n      }\n    },\n    {\n      \"column\": \"edition\",\n      \"properties\": {\n        \"dtype\": \"number\",\n        \"std\": 0.0,\n        \"min\": 2008.0,\n        \"max\": 2008.0,\n        \"num_unique_values\": 1,\n        \"samples\": [\n          2008.0\n        ],\n        \"semantic_type\": \"\",\n        \"description\": \"\"\n      }\n    },\n    {\n      \"column\": \"sport\",\n      \"properties\": {\n        \"dtype\": \"category\",\n        \"num_unique_values\": 28,\n        \"samples\": [\n          \"equestrian\"\n        ],\n        \"semantic_type\": \"\",\n        \"description\": \"\"\n      }\n    },\n    {\n      \"column\": \"discipline\",\n      \"properties\": {\n        \"dtype\": \"category\",\n        \"num_unique_values\": 41,\n        \"samples\": [\n          \"Handball\"\n        ],\n        \"semantic_type\": \"\",\n        \"description\": \"\"\n      }\n    },\n    {\n      \"column\": \"athlete\",\n      \"properties\": {\n        \"dtype\": \"string\",\n        \"num_unique_values\": 1866,\n        \"samples\": [\n          \"PRIDDY, William\"\n        ],\n        \"semantic_type\": \"\",\n        \"description\": \"\"\n      }\n    },\n    {\n      \"column\": \"country_code\",\n      \"properties\": {\n        \"dtype\": \"category\",\n        \"num_unique_values\": 86,\n        \"samples\": [\n          \"BUL\"\n        ],\n        \"semantic_type\": \"\",\n        \"description\": \"\"\n      }\n    },\n    {\n      \"column\": \"gender\",\n      \"properties\": {\n        \"dtype\": \"category\",\n        \"num_unique_values\": 2,\n        \"samples\": [\n          \"Women\"\n        ],\n        \"semantic_type\": \"\",\n        \"description\": \"\"\n      }\n    },\n    {\n      \"column\": \"event\",\n      \"properties\": {\n        \"dtype\": \"category\",\n        \"num_unique_values\": 201,\n        \"samples\": [\n          \"Team Sprint\"\n        ],\n        \"semantic_type\": \"\",\n        \"description\": \"\"\n      }\n    },\n    {\n      \"column\": \"event_gender\",\n      \"properties\": {\n        \"dtype\": \"category\",\n        \"num_unique_values\": 3,\n        \"samples\": [\n          \"M\"\n        ],\n        \"semantic_type\": \"\",\n        \"description\": \"\"\n      }\n    },\n    {\n      \"column\": \"medal\",\n      \"properties\": {\n        \"dtype\": \"category\",\n        \"num_unique_values\": 3,\n        \"samples\": [\n          \"bronze\"\n        ],\n        \"semantic_type\": \"\",\n        \"description\": \"\"\n      }\n    },\n    {\n      \"column\": \"result\",\n      \"properties\": {\n        \"dtype\": \"number\",\n        \"std\": 0.8205289794787927,\n        \"min\": 1.0,\n        \"max\": 3.0,\n        \"num_unique_values\": 3,\n        \"samples\": [\n          3.0\n        ],\n        \"semantic_type\": \"\",\n        \"description\": \"\"\n      }\n    }\n  ]\n}"
            }
          },
          "metadata": {},
          "execution_count": 7
        }
      ]
    },
    {
      "cell_type": "code",
      "source": [
        "oo.sample(3)"
      ],
      "metadata": {
        "id": "NrkQRln1bNg6",
        "outputId": "6fab33e3-e719-411d-d4ff-cea9a616153f",
        "colab": {
          "base_uri": "https://localhost:8080/",
          "height": 143
        }
      },
      "execution_count": null,
      "outputs": [
        {
          "output_type": "execute_result",
          "data": {
            "text/plain": [
              "       Year     City          Sport       Discipline       Athlete Name  NOC  \\\n",
              "26788  2004   Athens       Softball         Softball    MISHINA, Masumi  JPN   \n",
              "25778  2004   Athens  Canoe / Kayak  Canoe / Kayak S   MARTIKAN, Michal  SVK   \n",
              "23044  1996  Atlanta     Volleyball       Volleyball  RODENBURG, Brecht  NED   \n",
              "\n",
              "      Gender               Event Event Gender   Medal  \n",
              "26788  Women            softball            W  Bronze  \n",
              "25778    Men  C-1 (canoe single)            M  Silver  \n",
              "23044    Men          volleyball            M    Gold  "
            ],
            "text/html": [
              "\n",
              "  <div id=\"df-d41ef555-dc88-4721-a426-2b02d5e98ab6\" class=\"colab-df-container\">\n",
              "    <div>\n",
              "<style scoped>\n",
              "    .dataframe tbody tr th:only-of-type {\n",
              "        vertical-align: middle;\n",
              "    }\n",
              "\n",
              "    .dataframe tbody tr th {\n",
              "        vertical-align: top;\n",
              "    }\n",
              "\n",
              "    .dataframe thead th {\n",
              "        text-align: right;\n",
              "    }\n",
              "</style>\n",
              "<table border=\"1\" class=\"dataframe\">\n",
              "  <thead>\n",
              "    <tr style=\"text-align: right;\">\n",
              "      <th></th>\n",
              "      <th>Year</th>\n",
              "      <th>City</th>\n",
              "      <th>Sport</th>\n",
              "      <th>Discipline</th>\n",
              "      <th>Athlete Name</th>\n",
              "      <th>NOC</th>\n",
              "      <th>Gender</th>\n",
              "      <th>Event</th>\n",
              "      <th>Event Gender</th>\n",
              "      <th>Medal</th>\n",
              "    </tr>\n",
              "  </thead>\n",
              "  <tbody>\n",
              "    <tr>\n",
              "      <th>26788</th>\n",
              "      <td>2004</td>\n",
              "      <td>Athens</td>\n",
              "      <td>Softball</td>\n",
              "      <td>Softball</td>\n",
              "      <td>MISHINA, Masumi</td>\n",
              "      <td>JPN</td>\n",
              "      <td>Women</td>\n",
              "      <td>softball</td>\n",
              "      <td>W</td>\n",
              "      <td>Bronze</td>\n",
              "    </tr>\n",
              "    <tr>\n",
              "      <th>25778</th>\n",
              "      <td>2004</td>\n",
              "      <td>Athens</td>\n",
              "      <td>Canoe / Kayak</td>\n",
              "      <td>Canoe / Kayak S</td>\n",
              "      <td>MARTIKAN, Michal</td>\n",
              "      <td>SVK</td>\n",
              "      <td>Men</td>\n",
              "      <td>C-1 (canoe single)</td>\n",
              "      <td>M</td>\n",
              "      <td>Silver</td>\n",
              "    </tr>\n",
              "    <tr>\n",
              "      <th>23044</th>\n",
              "      <td>1996</td>\n",
              "      <td>Atlanta</td>\n",
              "      <td>Volleyball</td>\n",
              "      <td>Volleyball</td>\n",
              "      <td>RODENBURG, Brecht</td>\n",
              "      <td>NED</td>\n",
              "      <td>Men</td>\n",
              "      <td>volleyball</td>\n",
              "      <td>M</td>\n",
              "      <td>Gold</td>\n",
              "    </tr>\n",
              "  </tbody>\n",
              "</table>\n",
              "</div>\n",
              "    <div class=\"colab-df-buttons\">\n",
              "\n",
              "  <div class=\"colab-df-container\">\n",
              "    <button class=\"colab-df-convert\" onclick=\"convertToInteractive('df-d41ef555-dc88-4721-a426-2b02d5e98ab6')\"\n",
              "            title=\"Convert this dataframe to an interactive table.\"\n",
              "            style=\"display:none;\">\n",
              "\n",
              "  <svg xmlns=\"http://www.w3.org/2000/svg\" height=\"24px\" viewBox=\"0 -960 960 960\">\n",
              "    <path d=\"M120-120v-720h720v720H120Zm60-500h600v-160H180v160Zm220 220h160v-160H400v160Zm0 220h160v-160H400v160ZM180-400h160v-160H180v160Zm440 0h160v-160H620v160ZM180-180h160v-160H180v160Zm440 0h160v-160H620v160Z\"/>\n",
              "  </svg>\n",
              "    </button>\n",
              "\n",
              "  <style>\n",
              "    .colab-df-container {\n",
              "      display:flex;\n",
              "      gap: 12px;\n",
              "    }\n",
              "\n",
              "    .colab-df-convert {\n",
              "      background-color: #E8F0FE;\n",
              "      border: none;\n",
              "      border-radius: 50%;\n",
              "      cursor: pointer;\n",
              "      display: none;\n",
              "      fill: #1967D2;\n",
              "      height: 32px;\n",
              "      padding: 0 0 0 0;\n",
              "      width: 32px;\n",
              "    }\n",
              "\n",
              "    .colab-df-convert:hover {\n",
              "      background-color: #E2EBFA;\n",
              "      box-shadow: 0px 1px 2px rgba(60, 64, 67, 0.3), 0px 1px 3px 1px rgba(60, 64, 67, 0.15);\n",
              "      fill: #174EA6;\n",
              "    }\n",
              "\n",
              "    .colab-df-buttons div {\n",
              "      margin-bottom: 4px;\n",
              "    }\n",
              "\n",
              "    [theme=dark] .colab-df-convert {\n",
              "      background-color: #3B4455;\n",
              "      fill: #D2E3FC;\n",
              "    }\n",
              "\n",
              "    [theme=dark] .colab-df-convert:hover {\n",
              "      background-color: #434B5C;\n",
              "      box-shadow: 0px 1px 3px 1px rgba(0, 0, 0, 0.15);\n",
              "      filter: drop-shadow(0px 1px 2px rgba(0, 0, 0, 0.3));\n",
              "      fill: #FFFFFF;\n",
              "    }\n",
              "  </style>\n",
              "\n",
              "    <script>\n",
              "      const buttonEl =\n",
              "        document.querySelector('#df-d41ef555-dc88-4721-a426-2b02d5e98ab6 button.colab-df-convert');\n",
              "      buttonEl.style.display =\n",
              "        google.colab.kernel.accessAllowed ? 'block' : 'none';\n",
              "\n",
              "      async function convertToInteractive(key) {\n",
              "        const element = document.querySelector('#df-d41ef555-dc88-4721-a426-2b02d5e98ab6');\n",
              "        const dataTable =\n",
              "          await google.colab.kernel.invokeFunction('convertToInteractive',\n",
              "                                                    [key], {});\n",
              "        if (!dataTable) return;\n",
              "\n",
              "        const docLinkHtml = 'Like what you see? Visit the ' +\n",
              "          '<a target=\"_blank\" href=https://colab.research.google.com/notebooks/data_table.ipynb>data table notebook</a>'\n",
              "          + ' to learn more about interactive tables.';\n",
              "        element.innerHTML = '';\n",
              "        dataTable['output_type'] = 'display_data';\n",
              "        await google.colab.output.renderOutput(dataTable, element);\n",
              "        const docLink = document.createElement('div');\n",
              "        docLink.innerHTML = docLinkHtml;\n",
              "        element.appendChild(docLink);\n",
              "      }\n",
              "    </script>\n",
              "  </div>\n",
              "\n",
              "\n",
              "<div id=\"df-8694b131-40f9-4e82-9f64-12f93565f2ce\">\n",
              "  <button class=\"colab-df-quickchart\" onclick=\"quickchart('df-8694b131-40f9-4e82-9f64-12f93565f2ce')\"\n",
              "            title=\"Suggest charts\"\n",
              "            style=\"display:none;\">\n",
              "\n",
              "<svg xmlns=\"http://www.w3.org/2000/svg\" height=\"24px\"viewBox=\"0 0 24 24\"\n",
              "     width=\"24px\">\n",
              "    <g>\n",
              "        <path d=\"M19 3H5c-1.1 0-2 .9-2 2v14c0 1.1.9 2 2 2h14c1.1 0 2-.9 2-2V5c0-1.1-.9-2-2-2zM9 17H7v-7h2v7zm4 0h-2V7h2v10zm4 0h-2v-4h2v4z\"/>\n",
              "    </g>\n",
              "</svg>\n",
              "  </button>\n",
              "\n",
              "<style>\n",
              "  .colab-df-quickchart {\n",
              "      --bg-color: #E8F0FE;\n",
              "      --fill-color: #1967D2;\n",
              "      --hover-bg-color: #E2EBFA;\n",
              "      --hover-fill-color: #174EA6;\n",
              "      --disabled-fill-color: #AAA;\n",
              "      --disabled-bg-color: #DDD;\n",
              "  }\n",
              "\n",
              "  [theme=dark] .colab-df-quickchart {\n",
              "      --bg-color: #3B4455;\n",
              "      --fill-color: #D2E3FC;\n",
              "      --hover-bg-color: #434B5C;\n",
              "      --hover-fill-color: #FFFFFF;\n",
              "      --disabled-bg-color: #3B4455;\n",
              "      --disabled-fill-color: #666;\n",
              "  }\n",
              "\n",
              "  .colab-df-quickchart {\n",
              "    background-color: var(--bg-color);\n",
              "    border: none;\n",
              "    border-radius: 50%;\n",
              "    cursor: pointer;\n",
              "    display: none;\n",
              "    fill: var(--fill-color);\n",
              "    height: 32px;\n",
              "    padding: 0;\n",
              "    width: 32px;\n",
              "  }\n",
              "\n",
              "  .colab-df-quickchart:hover {\n",
              "    background-color: var(--hover-bg-color);\n",
              "    box-shadow: 0 1px 2px rgba(60, 64, 67, 0.3), 0 1px 3px 1px rgba(60, 64, 67, 0.15);\n",
              "    fill: var(--button-hover-fill-color);\n",
              "  }\n",
              "\n",
              "  .colab-df-quickchart-complete:disabled,\n",
              "  .colab-df-quickchart-complete:disabled:hover {\n",
              "    background-color: var(--disabled-bg-color);\n",
              "    fill: var(--disabled-fill-color);\n",
              "    box-shadow: none;\n",
              "  }\n",
              "\n",
              "  .colab-df-spinner {\n",
              "    border: 2px solid var(--fill-color);\n",
              "    border-color: transparent;\n",
              "    border-bottom-color: var(--fill-color);\n",
              "    animation:\n",
              "      spin 1s steps(1) infinite;\n",
              "  }\n",
              "\n",
              "  @keyframes spin {\n",
              "    0% {\n",
              "      border-color: transparent;\n",
              "      border-bottom-color: var(--fill-color);\n",
              "      border-left-color: var(--fill-color);\n",
              "    }\n",
              "    20% {\n",
              "      border-color: transparent;\n",
              "      border-left-color: var(--fill-color);\n",
              "      border-top-color: var(--fill-color);\n",
              "    }\n",
              "    30% {\n",
              "      border-color: transparent;\n",
              "      border-left-color: var(--fill-color);\n",
              "      border-top-color: var(--fill-color);\n",
              "      border-right-color: var(--fill-color);\n",
              "    }\n",
              "    40% {\n",
              "      border-color: transparent;\n",
              "      border-right-color: var(--fill-color);\n",
              "      border-top-color: var(--fill-color);\n",
              "    }\n",
              "    60% {\n",
              "      border-color: transparent;\n",
              "      border-right-color: var(--fill-color);\n",
              "    }\n",
              "    80% {\n",
              "      border-color: transparent;\n",
              "      border-right-color: var(--fill-color);\n",
              "      border-bottom-color: var(--fill-color);\n",
              "    }\n",
              "    90% {\n",
              "      border-color: transparent;\n",
              "      border-bottom-color: var(--fill-color);\n",
              "    }\n",
              "  }\n",
              "</style>\n",
              "\n",
              "  <script>\n",
              "    async function quickchart(key) {\n",
              "      const quickchartButtonEl =\n",
              "        document.querySelector('#' + key + ' button');\n",
              "      quickchartButtonEl.disabled = true;  // To prevent multiple clicks.\n",
              "      quickchartButtonEl.classList.add('colab-df-spinner');\n",
              "      try {\n",
              "        const charts = await google.colab.kernel.invokeFunction(\n",
              "            'suggestCharts', [key], {});\n",
              "      } catch (error) {\n",
              "        console.error('Error during call to suggestCharts:', error);\n",
              "      }\n",
              "      quickchartButtonEl.classList.remove('colab-df-spinner');\n",
              "      quickchartButtonEl.classList.add('colab-df-quickchart-complete');\n",
              "    }\n",
              "    (() => {\n",
              "      let quickchartButtonEl =\n",
              "        document.querySelector('#df-8694b131-40f9-4e82-9f64-12f93565f2ce button');\n",
              "      quickchartButtonEl.style.display =\n",
              "        google.colab.kernel.accessAllowed ? 'block' : 'none';\n",
              "    })();\n",
              "  </script>\n",
              "</div>\n",
              "\n",
              "    </div>\n",
              "  </div>\n"
            ],
            "application/vnd.google.colaboratory.intrinsic+json": {
              "type": "dataframe",
              "summary": "{\n  \"name\": \"oo\",\n  \"rows\": 3,\n  \"fields\": [\n    {\n      \"column\": \"Year\",\n      \"properties\": {\n        \"dtype\": \"number\",\n        \"std\": 4,\n        \"min\": 1996,\n        \"max\": 2004,\n        \"num_unique_values\": 2,\n        \"samples\": [\n          1996,\n          2004\n        ],\n        \"semantic_type\": \"\",\n        \"description\": \"\"\n      }\n    },\n    {\n      \"column\": \"City\",\n      \"properties\": {\n        \"dtype\": \"string\",\n        \"num_unique_values\": 2,\n        \"samples\": [\n          \"Atlanta\",\n          \"Athens\"\n        ],\n        \"semantic_type\": \"\",\n        \"description\": \"\"\n      }\n    },\n    {\n      \"column\": \"Sport\",\n      \"properties\": {\n        \"dtype\": \"string\",\n        \"num_unique_values\": 3,\n        \"samples\": [\n          \"Softball\",\n          \"Canoe / Kayak\"\n        ],\n        \"semantic_type\": \"\",\n        \"description\": \"\"\n      }\n    },\n    {\n      \"column\": \"Discipline\",\n      \"properties\": {\n        \"dtype\": \"string\",\n        \"num_unique_values\": 3,\n        \"samples\": [\n          \"Softball\",\n          \"Canoe / Kayak S\"\n        ],\n        \"semantic_type\": \"\",\n        \"description\": \"\"\n      }\n    },\n    {\n      \"column\": \"Athlete Name\",\n      \"properties\": {\n        \"dtype\": \"string\",\n        \"num_unique_values\": 3,\n        \"samples\": [\n          \"MISHINA, Masumi\",\n          \"MARTIKAN, Michal\"\n        ],\n        \"semantic_type\": \"\",\n        \"description\": \"\"\n      }\n    },\n    {\n      \"column\": \"NOC\",\n      \"properties\": {\n        \"dtype\": \"string\",\n        \"num_unique_values\": 3,\n        \"samples\": [\n          \"JPN\",\n          \"SVK\"\n        ],\n        \"semantic_type\": \"\",\n        \"description\": \"\"\n      }\n    },\n    {\n      \"column\": \"Gender\",\n      \"properties\": {\n        \"dtype\": \"category\",\n        \"num_unique_values\": 2,\n        \"samples\": [\n          \"Men\",\n          \"Women\"\n        ],\n        \"semantic_type\": \"\",\n        \"description\": \"\"\n      }\n    },\n    {\n      \"column\": \"Event\",\n      \"properties\": {\n        \"dtype\": \"string\",\n        \"num_unique_values\": 3,\n        \"samples\": [\n          \"softball\",\n          \"C-1 (canoe single)\"\n        ],\n        \"semantic_type\": \"\",\n        \"description\": \"\"\n      }\n    },\n    {\n      \"column\": \"Event Gender\",\n      \"properties\": {\n        \"dtype\": \"category\",\n        \"num_unique_values\": 2,\n        \"samples\": [\n          \"M\",\n          \"W\"\n        ],\n        \"semantic_type\": \"\",\n        \"description\": \"\"\n      }\n    },\n    {\n      \"column\": \"Medal\",\n      \"properties\": {\n        \"dtype\": \"category\",\n        \"num_unique_values\": 3,\n        \"samples\": [\n          \"Bronze\",\n          \"Silver\"\n        ],\n        \"semantic_type\": \"\",\n        \"description\": \"\"\n      }\n    }\n  ]\n}"
            }
          },
          "metadata": {},
          "execution_count": 8
        }
      ]
    },
    {
      "cell_type": "code",
      "source": [
        "pd.concat([oo, nw], axis=0)"
      ],
      "metadata": {
        "id": "GM5UsBtlZ3Cr"
      },
      "execution_count": null,
      "outputs": []
    },
    {
      "cell_type": "code",
      "source": [
        "nw.columns"
      ],
      "metadata": {
        "id": "jdqpKDFbt9J2",
        "outputId": "7c2aa51b-bf77-47df-ae99-391432e3ef73",
        "colab": {
          "base_uri": "https://localhost:8080/"
        }
      },
      "execution_count": null,
      "outputs": [
        {
          "output_type": "execute_result",
          "data": {
            "text/plain": [
              "Index(['city', 'edition', 'sport', 'discipline', 'athlete', 'country_code',\n",
              "       'gender', 'event', 'event_gender', 'medal', 'result'],\n",
              "      dtype='object')"
            ]
          },
          "metadata": {},
          "execution_count": 9
        }
      ]
    },
    {
      "cell_type": "code",
      "source": [
        "oo.columns"
      ],
      "metadata": {
        "id": "KM9vztovt_m2",
        "outputId": "461a4de5-e752-40b0-aa8e-f86f8b3f03ca",
        "colab": {
          "base_uri": "https://localhost:8080/"
        }
      },
      "execution_count": null,
      "outputs": [
        {
          "output_type": "execute_result",
          "data": {
            "text/plain": [
              "Index(['Year', 'City', 'Sport', 'Discipline', 'Athlete Name', 'NOC', 'Gender',\n",
              "       'Event', 'Event Gender', 'Medal'],\n",
              "      dtype='object')"
            ]
          },
          "metadata": {},
          "execution_count": 10
        }
      ]
    },
    {
      "cell_type": "code",
      "source": [
        "nw.columns = ['City', 'Edition', 'Sport', 'Discipline', 'Athlete', 'Country_code',\n",
        "       'Gender', 'Event', 'Event_gender', 'Medal', 'Result']\n",
        "#nw.columns = nw.columns.str.capitalize()\n",
        "nw.columns"
      ],
      "metadata": {
        "id": "21cc4lPQuNny",
        "outputId": "7e67b469-2d0f-4fa5-b710-604a5b434401",
        "colab": {
          "base_uri": "https://localhost:8080/"
        }
      },
      "execution_count": null,
      "outputs": [
        {
          "output_type": "execute_result",
          "data": {
            "text/plain": [
              "Index(['City', 'Edition', 'Sport', 'Discipline', 'Athlete', 'Country_code',\n",
              "       'Gender', 'Event', 'Event_gender', 'Medal', 'Result'],\n",
              "      dtype='object')"
            ]
          },
          "metadata": {},
          "execution_count": 14
        }
      ]
    },
    {
      "cell_type": "code",
      "source": [
        "new_columns = ['City', 'Edition', 'Sport', 'Discipline', 'Athlete', 'Country_code',\n",
        "       'Gender', 'Event', 'Event_gender', 'Medal', 'Result']"
      ],
      "metadata": {
        "id": "bDXyYYwb6YJq"
      },
      "execution_count": null,
      "outputs": []
    },
    {
      "cell_type": "code",
      "source": [
        "nw = pd.read_csv(new_filename, names=new_columns)\n",
        "nw.columns"
      ],
      "metadata": {
        "id": "35q0mneeuuWU"
      },
      "execution_count": null,
      "outputs": []
    },
    {
      "cell_type": "code",
      "source": [
        "nw.columns = [column.capitalize() for column in nw.columns]\n",
        "nw.columns"
      ],
      "metadata": {
        "id": "m6s7OzQnugEk"
      },
      "execution_count": null,
      "outputs": []
    },
    {
      "cell_type": "code",
      "source": [
        "pd.concat([oo, nw], axis=0)"
      ],
      "metadata": {
        "id": "9ITtwDmGvDn1"
      },
      "execution_count": null,
      "outputs": []
    },
    {
      "cell_type": "code",
      "source": [
        "oo.columns"
      ],
      "metadata": {
        "id": "c854ig1uvrJh"
      },
      "execution_count": null,
      "outputs": []
    },
    {
      "cell_type": "code",
      "source": [
        "nw.columns"
      ],
      "metadata": {
        "id": "TFLt_GF_vurN"
      },
      "execution_count": null,
      "outputs": []
    },
    {
      "cell_type": "code",
      "source": [
        "nw.columns = ['City', 'Year', 'Sport', 'Discipline', 'Athlete Name', 'NOC',\n",
        "       'Gender', 'Event', 'Event Gender', 'Medal', 'Result']"
      ],
      "metadata": {
        "id": "30-bKfomwMIY"
      },
      "execution_count": null,
      "outputs": []
    },
    {
      "cell_type": "code",
      "source": [
        "pd.concat([oo, nw], axis=0)"
      ],
      "metadata": {
        "id": "6RFkaLASwbHe"
      },
      "execution_count": null,
      "outputs": []
    },
    {
      "cell_type": "code",
      "source": [
        "nw.Result.unique()"
      ],
      "metadata": {
        "id": "mW7SKK0Kxa3Q"
      },
      "execution_count": null,
      "outputs": []
    },
    {
      "cell_type": "code",
      "source": [
        "nw = nw.drop(\"Result\", axis=1)\n",
        "nw.sample(3)"
      ],
      "metadata": {
        "id": "Ma1wyjIDxfev"
      },
      "execution_count": null,
      "outputs": []
    },
    {
      "cell_type": "code",
      "source": [
        "pd.concat([oo, nw], axis=0)"
      ],
      "metadata": {
        "id": "bEQ84QIFxuMc"
      },
      "execution_count": null,
      "outputs": []
    },
    {
      "cell_type": "code",
      "source": [
        "pd.concat([oo, nw], axis=0).dtypes"
      ],
      "metadata": {
        "id": "rOriZgSsx1PK"
      },
      "execution_count": null,
      "outputs": []
    },
    {
      "cell_type": "code",
      "source": [
        "def preprocess_2008(filename=\"olympics_2008.csv\"):\n",
        "  df = pd.read_csv(filename)\n",
        "  df.columns = ['City', 'Year', 'Sport', 'Discipline', 'Athlete Name', 'NOC',\n",
        "       'Gender', 'Event', 'Event Gender', 'Medal', 'Result']\n",
        "  df = df.drop(\"Result\", axis=1)\n",
        "  return df\n",
        "\n",
        "nw = preprocess_2008()\n",
        "nw.sample(3)"
      ],
      "metadata": {
        "id": "ELoqzkbqw1yT"
      },
      "execution_count": null,
      "outputs": []
    },
    {
      "cell_type": "markdown",
      "source": [
        "## Working with Missing Data"
      ],
      "metadata": {
        "id": "FematpDlyP3J"
      }
    },
    {
      "cell_type": "code",
      "source": [
        "!pip install --quiet pandas==2.0.2\n",
        "\n",
        "import pandas as pd\n",
        "from pathlib import Path\n",
        "\n",
        "if not Path(\"olympics_1896_2004.csv\").exists():\n",
        "  !wget https://github.com/jonfernandes/pandas_essential/raw/main/olympics_1896_2004.csv\n",
        "if not Path(\"olympics_2008.csv\").exists():\n",
        "  !wget https://github.com/jonfernandes/pandas_essential/raw/main/olympics_2008.csv\n",
        "\n",
        "filename = \"olympics_1896_2004.csv\"\n",
        "print(\"Installed all of the necessary files for this section ...\")"
      ],
      "metadata": {
        "id": "uKhIUj8UrJTT"
      },
      "execution_count": null,
      "outputs": []
    },
    {
      "cell_type": "code",
      "source": [
        "nw = preprocess_2008()\n",
        "nw.sample(3)"
      ],
      "metadata": {
        "id": "rWt8-HcXyT61"
      },
      "execution_count": null,
      "outputs": []
    },
    {
      "cell_type": "code",
      "source": [
        "nw.info()"
      ],
      "metadata": {
        "id": "k5D4UxSWyabN"
      },
      "execution_count": null,
      "outputs": []
    },
    {
      "cell_type": "code",
      "source": [
        "import re\n",
        "\n",
        "search_string = \"na\"\n",
        "\n",
        "[func for func in dir(nw.City) if re.search(rf\"{search_string}$\", func, re.IGNORECASE)]"
      ],
      "metadata": {
        "id": "inv1wbnFEu15"
      },
      "execution_count": null,
      "outputs": []
    },
    {
      "cell_type": "code",
      "source": [
        "nw.City.isna?"
      ],
      "metadata": {
        "id": "66DdxC_JEO_s"
      },
      "execution_count": null,
      "outputs": []
    },
    {
      "cell_type": "code",
      "source": [
        "nw.City.isna()"
      ],
      "metadata": {
        "id": "4uoReWLZ3eLU"
      },
      "execution_count": null,
      "outputs": []
    },
    {
      "cell_type": "code",
      "source": [
        "nw.City.isna().sum()"
      ],
      "metadata": {
        "id": "pM4SAK_l3jKa"
      },
      "execution_count": null,
      "outputs": []
    },
    {
      "cell_type": "code",
      "source": [
        "nw[nw.City.isna()]"
      ],
      "metadata": {
        "id": "3OEXLwoEye78"
      },
      "execution_count": null,
      "outputs": []
    },
    {
      "cell_type": "code",
      "source": [
        "nw.City.unique()"
      ],
      "metadata": {
        "id": "1erE0ZRw_4y4"
      },
      "execution_count": null,
      "outputs": []
    },
    {
      "cell_type": "code",
      "source": [
        "nw.shape"
      ],
      "metadata": {
        "id": "oGJ7HNak6wxa"
      },
      "execution_count": null,
      "outputs": []
    },
    {
      "cell_type": "code",
      "source": [
        "import re\n",
        "\n",
        "search_string = \"na\"\n",
        "\n",
        "[func for func in dir(nw.City) if re.search(rf\"{search_string}$\", func, re.IGNORECASE)]"
      ],
      "metadata": {
        "id": "BwcYzjE0FV64"
      },
      "execution_count": null,
      "outputs": []
    },
    {
      "cell_type": "code",
      "source": [
        "nw.City.fillna?"
      ],
      "metadata": {
        "id": "laxs_wK0AQ8i"
      },
      "execution_count": null,
      "outputs": []
    },
    {
      "cell_type": "code",
      "source": [
        "nw.City = nw.City.fillna(value=\"Beijing\")\n",
        "nw.City.unique()"
      ],
      "metadata": {
        "id": "zddqCceEAIfB"
      },
      "execution_count": null,
      "outputs": []
    },
    {
      "cell_type": "code",
      "source": [
        "nw.Year"
      ],
      "metadata": {
        "id": "e9b8FghNA440"
      },
      "execution_count": null,
      "outputs": []
    },
    {
      "cell_type": "code",
      "source": [
        "nw.Year.unique()"
      ],
      "metadata": {
        "id": "A78SlZC9481h"
      },
      "execution_count": null,
      "outputs": []
    },
    {
      "cell_type": "code",
      "source": [
        "nw.Year = nw.Year.fillna(value=2008)\n",
        "nw.info()"
      ],
      "metadata": {
        "id": "nNC-1pr-5EOL"
      },
      "execution_count": null,
      "outputs": []
    },
    {
      "cell_type": "code",
      "source": [
        "def preprocess_2008(filename=\"olympics_2008.csv\"):\n",
        "  df = pd.read_csv(filename)\n",
        "  df.columns = ['City', 'Year', 'Sport', 'Discipline', 'Athlete Name', 'NOC',\n",
        "       'Gender', 'Event', 'Event Gender', 'Medal', 'Result']\n",
        "  df = df.drop(\"Result\", axis=1)\n",
        "  df.City = df.City.fillna(value=\"Beijing\")\n",
        "  df.Year = df.Year.fillna(value=2008)\n",
        "  return df\n",
        "\n",
        "nw = preprocess_2008()\n",
        "nw.sample(3)"
      ],
      "metadata": {
        "id": "azUTDKxc5ctc"
      },
      "execution_count": null,
      "outputs": []
    },
    {
      "cell_type": "code",
      "source": [
        "nw.dtypes"
      ],
      "metadata": {
        "id": "05dHle50VjsF"
      },
      "execution_count": null,
      "outputs": []
    },
    {
      "cell_type": "markdown",
      "source": [
        "## Removing Missing Data"
      ],
      "metadata": {
        "id": "emB7XuGpBOPu"
      }
    },
    {
      "cell_type": "code",
      "source": [
        "!pip install --quiet pandas==2.0.2\n",
        "\n",
        "import pandas as pd\n",
        "from pathlib import Path\n",
        "\n",
        "if not Path(\"olympics_1896_2004.csv\").exists():\n",
        "  !wget https://github.com/jonfernandes/pandas_essential/raw/main/olympics_1896_2004.csv\n",
        "if not Path(\"olympics_2008.csv\").exists():\n",
        "  !wget https://github.com/jonfernandes/pandas_essential/raw/main/olympics_2008.csv\n",
        "\n",
        "filename = \"olympics_1896_2004.csv\"\n",
        "print(\"Installed all of the necessary files for this section ...\")"
      ],
      "metadata": {
        "id": "IMeKqkvprH96"
      },
      "execution_count": null,
      "outputs": []
    },
    {
      "cell_type": "code",
      "source": [
        "def preprocess_2008(filename=\"olympics_2008.csv\"):\n",
        "  df = pd.read_csv(filename)\n",
        "  df.columns = ['City', 'Year', 'Sport', 'Discipline', 'Athlete Name', 'NOC',\n",
        "       'Gender', 'Event', 'Event Gender', 'Medal', 'Result']\n",
        "  df = df.drop(\"Result\", axis=1)\n",
        "  df.City = df.City.fillna(value=\"Beijing\")\n",
        "  df.Year = df.Year.fillna(value=2008)\n",
        "  return df\n",
        "\n",
        "nw = preprocess_2008()\n",
        "nw.sample(3)"
      ],
      "metadata": {
        "id": "I_ywNXrrBQrt"
      },
      "execution_count": null,
      "outputs": []
    },
    {
      "cell_type": "code",
      "source": [
        "nw.info()"
      ],
      "metadata": {
        "id": "D0GGrn5-BUi8"
      },
      "execution_count": null,
      "outputs": []
    },
    {
      "cell_type": "code",
      "source": [
        "nw[nw.Sport.isna()]"
      ],
      "metadata": {
        "id": "CZMPwsAmYbQj"
      },
      "execution_count": null,
      "outputs": []
    },
    {
      "cell_type": "code",
      "source": [
        "nw.dropna(how=\"all\", axis=0)"
      ],
      "metadata": {
        "id": "7arenC0wB7vk"
      },
      "execution_count": null,
      "outputs": []
    },
    {
      "cell_type": "code",
      "source": [
        "nw.dropna(how=\"any\", axis=0)"
      ],
      "metadata": {
        "id": "5aatWXUuCdu2"
      },
      "execution_count": null,
      "outputs": []
    },
    {
      "cell_type": "code",
      "source": [
        "nw[nw.Sport.isna()]"
      ],
      "metadata": {
        "id": "2G7qXMqiCj7N"
      },
      "execution_count": null,
      "outputs": []
    },
    {
      "cell_type": "code",
      "source": [
        "nw.dropna?"
      ],
      "metadata": {
        "id": "_P6iWSr7Cz4h"
      },
      "execution_count": null,
      "outputs": []
    },
    {
      "cell_type": "code",
      "source": [
        "nw.columns"
      ],
      "metadata": {
        "id": "YOGjsI6kCvDY"
      },
      "execution_count": null,
      "outputs": []
    },
    {
      "cell_type": "code",
      "source": [
        "nw.dropna(subset=['Sport', 'Discipline', 'Athlete Name', 'NOC', 'Gender',\n",
        "       'Event', 'Event Gender', 'Medal'], how=\"all\")"
      ],
      "metadata": {
        "id": "XoovbAMMClzE"
      },
      "execution_count": null,
      "outputs": []
    },
    {
      "cell_type": "code",
      "source": [
        "nw = nw.dropna(subset=['Sport', 'Discipline', 'Athlete Name', 'NOC', 'Gender',\n",
        "       'Event', 'Event Gender', 'Medal'], how=\"all\")\n",
        "nw.info()"
      ],
      "metadata": {
        "id": "_DJc-cyaDLab"
      },
      "execution_count": null,
      "outputs": []
    },
    {
      "cell_type": "code",
      "source": [
        "def preprocess_2008(filename=\"olympics_2008.csv\"):\n",
        "  df = pd.read_csv(filename)\n",
        "  df.columns = ['City', 'Year', 'Sport', 'Discipline', 'Athlete Name', 'NOC',\n",
        "       'Gender', 'Event', 'Event Gender', 'Medal', 'Result']\n",
        "  df = df.drop(\"Result\", axis=1)\n",
        "  df.City = df.City.fillna(value=\"Beijing\")\n",
        "  df.Year = df.Year.fillna(value=2008)\n",
        "  df = df.dropna(subset=['Sport', 'Discipline', 'Athlete Name', 'NOC', 'Gender',\n",
        "       'Event', 'Event Gender', 'Medal'], how=\"all\")\n",
        "  return df\n",
        "\n",
        "nw = preprocess_2008()\n",
        "nw.sample(3)"
      ],
      "metadata": {
        "id": "TbvIR2KuDOce"
      },
      "execution_count": null,
      "outputs": []
    },
    {
      "cell_type": "markdown",
      "source": [
        "##Working with Duplicates"
      ],
      "metadata": {
        "id": "Utjd5YTX5ruR"
      }
    },
    {
      "cell_type": "code",
      "source": [
        "!pip install --quiet pandas==2.0.2\n",
        "\n",
        "import pandas as pd\n",
        "from pathlib import Path\n",
        "\n",
        "if not Path(\"olympics_1896_2004.csv\").exists():\n",
        "  !wget https://github.com/jonfernandes/pandas_essential/raw/main/olympics_1896_2004.csv\n",
        "if not Path(\"olympics_2008.csv\").exists():\n",
        "  !wget https://github.com/jonfernandes/pandas_essential/raw/main/olympics_2008.csv\n",
        "\n",
        "filename = \"olympics_1896_2004.csv\"\n",
        "print(\"Installed all of the necessary files for this section ...\")"
      ],
      "metadata": {
        "id": "Wx0imt2brFps"
      },
      "execution_count": null,
      "outputs": []
    },
    {
      "cell_type": "code",
      "source": [
        "def preprocess_2008(filename=\"olympics_2008.csv\"):\n",
        "  df = pd.read_csv(filename)\n",
        "  df.columns = ['City', 'Year', 'Sport', 'Discipline', 'Athlete Name', 'NOC',\n",
        "       'Gender', 'Event', 'Event Gender', 'Medal', 'Result']\n",
        "  df = df.drop(\"Result\", axis=1)\n",
        "  df.City = df.City.fillna(value=\"Beijing\")\n",
        "  df.Year = df.Year.fillna(value=2008)\n",
        "  df = df.dropna(subset=['Sport', 'Discipline', 'Athlete Name', 'NOC', 'Gender',\n",
        "       'Event', 'Event Gender', 'Medal'], how=\"all\")\n",
        "  return df\n",
        "\n",
        "nw = preprocess_2008()\n",
        "nw.sample(3)"
      ],
      "metadata": {
        "id": "PhF-plEy5rOc"
      },
      "execution_count": null,
      "outputs": []
    },
    {
      "cell_type": "code",
      "source": [
        "nw.shape"
      ],
      "metadata": {
        "id": "lnY00dZWD1_8"
      },
      "execution_count": null,
      "outputs": []
    },
    {
      "cell_type": "code",
      "source": [
        "nw.duplicated?"
      ],
      "metadata": {
        "id": "pZ6N3UlLBzX8"
      },
      "execution_count": null,
      "outputs": []
    },
    {
      "cell_type": "code",
      "source": [
        "nw.duplicated()"
      ],
      "metadata": {
        "id": "NgPpC9HQE3Ry"
      },
      "execution_count": null,
      "outputs": []
    },
    {
      "cell_type": "code",
      "source": [
        "nw.duplicated().sum()"
      ],
      "metadata": {
        "id": "Jgp4ubzZGa9o"
      },
      "execution_count": null,
      "outputs": []
    },
    {
      "cell_type": "code",
      "source": [
        "nw.loc[nw.duplicated(), :]"
      ],
      "metadata": {
        "id": "JVtJfNHJE3Of"
      },
      "execution_count": null,
      "outputs": []
    },
    {
      "cell_type": "code",
      "source": [
        "nw.shape"
      ],
      "metadata": {
        "id": "IBd61f-72BfX"
      },
      "execution_count": null,
      "outputs": []
    },
    {
      "cell_type": "code",
      "source": [
        "nw = nw.drop_duplicates()\n",
        "nw.shape"
      ],
      "metadata": {
        "id": "O87BZiyT17P-"
      },
      "execution_count": null,
      "outputs": []
    },
    {
      "cell_type": "code",
      "source": [
        "nw.columns"
      ],
      "metadata": {
        "id": "bECzvRPB2gDS"
      },
      "execution_count": null,
      "outputs": []
    },
    {
      "cell_type": "code",
      "source": [
        "athlete_multiple_events = nw.duplicated(subset=['Athlete Name', 'NOC', 'Gender'])\n",
        "athlete_multiple_events"
      ],
      "metadata": {
        "id": "0QXfMx362b90"
      },
      "execution_count": null,
      "outputs": []
    },
    {
      "cell_type": "code",
      "source": [
        "nw.duplicated?"
      ],
      "metadata": {
        "id": "qbe4O9cG9Bx6"
      },
      "execution_count": null,
      "outputs": []
    },
    {
      "cell_type": "code",
      "source": [
        "nw.loc[athlete_multiple_events, :]"
      ],
      "metadata": {
        "id": "AXu-1OdR23dQ"
      },
      "execution_count": null,
      "outputs": []
    },
    {
      "cell_type": "code",
      "source": [
        "nw.loc[athlete_multiple_events, :].sort_values(\"Athlete Name\")"
      ],
      "metadata": {
        "id": "Aejpo1cQ9t8z"
      },
      "execution_count": null,
      "outputs": []
    },
    {
      "cell_type": "code",
      "source": [
        "nw.loc[nw[\"Athlete Name\"] == \"ZOU, Kai\"]"
      ],
      "metadata": {
        "id": "OSVcTGp26RL1"
      },
      "execution_count": null,
      "outputs": []
    },
    {
      "cell_type": "code",
      "source": [
        "def preprocess_2008(filename=\"olympics_2008.csv\"):\n",
        "  df = pd.read_csv(filename)\n",
        "  df.columns = ['City', 'Year', 'Sport', 'Discipline', 'Athlete Name', 'NOC',\n",
        "       'Gender', 'Event', 'Event Gender', 'Medal', 'Result']\n",
        "  df = df.drop(\"Result\", axis=1)\n",
        "  df.City = df.City.fillna(value=\"Beijing\")\n",
        "  df.Year = df.Year.fillna(value=2008)\n",
        "  df = df.dropna(subset=['Sport', 'Discipline', 'Athlete Name', 'NOC', 'Gender',\n",
        "       'Event', 'Event Gender', 'Medal'], how=\"all\")\n",
        "  df = df.drop_duplicates()\n",
        "  return df\n",
        "\n",
        "nw = preprocess_2008()\n",
        "nw.sample(3)"
      ],
      "metadata": {
        "id": "JvOKU5gh-LkC"
      },
      "execution_count": null,
      "outputs": []
    },
    {
      "cell_type": "markdown",
      "metadata": {
        "id": "UbtEix9Y-6Uc"
      },
      "source": [
        "## Validating data"
      ]
    },
    {
      "cell_type": "code",
      "source": [
        "!pip install --quiet pandas==2.0.2\n",
        "\n",
        "import pandas as pd\n",
        "from pathlib import Path\n",
        "\n",
        "if not Path(\"olympics_1896_2004.csv\").exists():\n",
        "  !wget https://github.com/jonfernandes/pandas_essential/raw/main/olympics_1896_2004.csv\n",
        "if not Path(\"olympics_2008.csv\").exists():\n",
        "  !wget https://github.com/jonfernandes/pandas_essential/raw/main/olympics_2008.csv\n",
        "\n",
        "filename = \"olympics_1896_2004.csv\"\n",
        "print(\"Installed all of the necessary files for this section ...\")"
      ],
      "metadata": {
        "id": "K-3GE0qErC57"
      },
      "execution_count": null,
      "outputs": []
    },
    {
      "cell_type": "code",
      "source": [
        "def preprocess(filename = \"olympics_1896_2004.csv\"):\n",
        "  \"\"\"Preparing and transforming dataframe\"\"\"\n",
        "  print(f\"Preprocessing {filename} ...\\n\")\n",
        "  ordered_medals = pd.api.types.CategoricalDtype(categories=[\"Bronze\", \"Silver\", \"Gold\"], ordered=True)\n",
        "  dtype_mapper = {\"Year\": \"int64\",\n",
        "                \"City\": \"string\",\n",
        "                \"Sport\": \"string\",\n",
        "                \"Discipline\": \"string\",\n",
        "                \"Athlete Name\": \"string\",\n",
        "                \"NOC\": \"string\",\n",
        "                \"Gender\": \"category\",\n",
        "                \"Event\": \"string\",\n",
        "                \"Event_gender\": \"category\",\n",
        "                \"Medal\": ordered_medals}\n",
        "  df = (pd.read_csv(filename, skiprows=5, dtype=dtype_mapper)\n",
        "        .drop('Position', axis=1)\n",
        "  )\n",
        "  df[\"Event Gender\"] = df[\"Event Gender\"].astype(\"category\")\n",
        "  return df\n",
        "\n",
        "oo = preprocess()\n",
        "\n",
        "def preprocess_2008(filename=\"olympics_2008.csv\"):\n",
        "  df = pd.read_csv(filename)\n",
        "  df.columns = ['City', 'Year', 'Sport', 'Discipline', 'Athlete Name', 'NOC',\n",
        "       'Gender', 'Event', 'Event Gender', 'Medal', 'Result']\n",
        "  df = df.drop(\"Result\", axis=1)\n",
        "  df.City = df.City.fillna(value=\"Beijing\")\n",
        "  df.Year = df.Year.fillna(value=2008)\n",
        "  df = df.dropna(subset=['Sport', 'Discipline', 'Athlete Name', 'NOC', 'Gender',\n",
        "       'Event', 'Event Gender', 'Medal'], how=\"all\")\n",
        "  df = df.drop_duplicates()\n",
        "  return df\n",
        "\n",
        "nw = preprocess_2008()\n",
        "nw.sample(3)"
      ],
      "metadata": {
        "id": "HwNEL7CXQyu5"
      },
      "execution_count": null,
      "outputs": []
    },
    {
      "cell_type": "code",
      "source": [
        "nw[\"Event Gender\"].unique()"
      ],
      "metadata": {
        "id": "rhetXk9g8AsY"
      },
      "execution_count": null,
      "outputs": []
    },
    {
      "cell_type": "code",
      "source": [
        "nw.Gender.unique()"
      ],
      "metadata": {
        "id": "l1qJFDAX8GSY"
      },
      "execution_count": null,
      "outputs": []
    },
    {
      "cell_type": "code",
      "execution_count": null,
      "metadata": {
        "id": "eYHYicgr_EzJ"
      },
      "outputs": [],
      "source": [
        "nw.loc[(nw[\"Event Gender\"] == \"M\") & (nw.Gender != \"Men\")]"
      ]
    },
    {
      "cell_type": "code",
      "execution_count": null,
      "metadata": {
        "id": "l1sWOUlZBylc"
      },
      "outputs": [],
      "source": [
        "nw.loc[(nw[\"Event Gender\"] == \"F\") & (nw.Gender != \"Women\")]"
      ]
    },
    {
      "cell_type": "code",
      "source": [
        "nw.loc[(nw.Gender == \"Women\") & ((nw[\"Event Gender\"] != \"W\") & (nw[\"Event Gender\"] != \"X\"))]"
      ],
      "metadata": {
        "id": "EuwgJImaMzwT"
      },
      "execution_count": null,
      "outputs": []
    },
    {
      "cell_type": "code",
      "source": [
        "nw.loc[(nw.Gender == \"Men\") & ((nw[\"Event Gender\"] != \"M\") & (nw[\"Event Gender\"] != \"X\"))]"
      ],
      "metadata": {
        "id": "JIpUdf5oGImN"
      },
      "execution_count": null,
      "outputs": []
    },
    {
      "cell_type": "code",
      "source": [
        "oo[\"Event Gender\"].unique()"
      ],
      "metadata": {
        "id": "EX9V3FzM9BQt"
      },
      "execution_count": null,
      "outputs": []
    },
    {
      "cell_type": "code",
      "source": [
        "oo.Gender.unique()"
      ],
      "metadata": {
        "id": "-0BXwVdH9OAH"
      },
      "execution_count": null,
      "outputs": []
    },
    {
      "cell_type": "code",
      "source": [
        "oo.loc[(oo[\"Event Gender\"] == \"M\") & (oo.Gender != \"Men\")]"
      ],
      "metadata": {
        "id": "9TkKywKF9dIP"
      },
      "execution_count": null,
      "outputs": []
    },
    {
      "cell_type": "code",
      "source": [
        "oo.loc[(oo[\"Event Gender\"] == \"F\") & (oo.Gender != \"Women\")]"
      ],
      "metadata": {
        "id": "D_pgFuPv9kbM"
      },
      "execution_count": null,
      "outputs": []
    },
    {
      "cell_type": "code",
      "source": [
        "oo.loc[(oo.Gender == \"Women\") & ((oo[\"Event Gender\"] != \"W\") & (oo[\"Event Gender\"] != \"X\"))]"
      ],
      "metadata": {
        "id": "vlnNr3cU9zyy"
      },
      "execution_count": null,
      "outputs": []
    },
    {
      "cell_type": "code",
      "source": [
        "oo.loc[(oo.Gender == \"Men\") & ((oo[\"Event Gender\"] != \"M\") & (oo[\"Event Gender\"] != \"X\"))]"
      ],
      "metadata": {
        "id": "RBRUQUVm96_l"
      },
      "execution_count": null,
      "outputs": []
    },
    {
      "cell_type": "code",
      "source": [
        "oo.loc[(oo.Year == 2000) & (oo.Event == \"marathon\")]"
      ],
      "metadata": {
        "id": "-SbUAODK-LB1"
      },
      "execution_count": null,
      "outputs": []
    },
    {
      "cell_type": "code",
      "source": [
        "oo.loc[24676, \"Gender\"] = \"Women\"\n",
        "oo.loc[(oo.Year == 2000) & (oo.Event == \"marathon\")]"
      ],
      "metadata": {
        "id": "oKFCpt5S_ofd"
      },
      "execution_count": null,
      "outputs": []
    },
    {
      "cell_type": "code",
      "source": [
        "def preprocess(filename = \"olympics_1896_2004.csv\"):\n",
        "  \"\"\"Preparing and transforming dataframe\"\"\"\n",
        "  print(f\"Preprocessing {filename} ...\\n\")\n",
        "  ordered_medals = pd.api.types.CategoricalDtype(categories=[\"Bronze\", \"Silver\", \"Gold\"], ordered=True)\n",
        "  dtype_mapper = {\"Year\": \"int64\",\n",
        "                \"City\": \"string\",\n",
        "                \"Sport\": \"string\",\n",
        "                \"Discipline\": \"string\",\n",
        "                \"Athlete Name\": \"string\",\n",
        "                \"NOC\": \"string\",\n",
        "                \"Gender\": \"category\",\n",
        "                \"Event\": \"string\",\n",
        "                \"Event_gender\": \"category\",\n",
        "                \"Medal\": ordered_medals}\n",
        "  df = (pd.read_csv(filename, skiprows=5, dtype=dtype_mapper)\n",
        "        .drop('Position', axis=1)\n",
        "  )\n",
        "  df[\"Event Gender\"] = df[\"Event Gender\"].astype(\"category\")\n",
        "  df.loc[24676, \"Gender\"] = \"Women\"\n",
        "  return df\n",
        "\n",
        "oo = preprocess()\n",
        "oo.sample(3)"
      ],
      "metadata": {
        "id": "hVoK33fL_k20"
      },
      "execution_count": null,
      "outputs": []
    },
    {
      "cell_type": "code",
      "source": [
        "oo.dtypes"
      ],
      "metadata": {
        "id": "4Osa_SYePnWU"
      },
      "execution_count": null,
      "outputs": []
    },
    {
      "cell_type": "code",
      "source": [
        "nw.Year.unique()"
      ],
      "metadata": {
        "id": "TbvtLls0XmeR"
      },
      "execution_count": null,
      "outputs": []
    },
    {
      "cell_type": "code",
      "source": [
        "nw.City.unique()"
      ],
      "metadata": {
        "id": "hZ9-Og4rXjKh"
      },
      "execution_count": null,
      "outputs": []
    },
    {
      "cell_type": "code",
      "source": [
        "nw[\"Event Gender\"].unique()"
      ],
      "metadata": {
        "id": "YnOLgu_gUSIH"
      },
      "execution_count": null,
      "outputs": []
    },
    {
      "cell_type": "code",
      "execution_count": null,
      "metadata": {
        "id": "jQ1zI7dsHB6y"
      },
      "outputs": [],
      "source": [
        "nw[\"Event Gender\"].unique().tolist()"
      ]
    },
    {
      "cell_type": "code",
      "source": [
        "oo[\"Event Gender\"].unique().tolist()"
      ],
      "metadata": {
        "id": "1ZQ5IIN9aB8M"
      },
      "execution_count": null,
      "outputs": []
    },
    {
      "cell_type": "code",
      "source": [
        "nw[\"Event Gender\"].unique().tolist() == oo[\"Event Gender\"].unique().tolist()"
      ],
      "metadata": {
        "id": "RWjS9PJQBzZf"
      },
      "execution_count": null,
      "outputs": []
    },
    {
      "cell_type": "code",
      "source": [
        "sorted(nw[\"Event Gender\"].unique().tolist())"
      ],
      "metadata": {
        "id": "CxqGXp08V_52"
      },
      "execution_count": null,
      "outputs": []
    },
    {
      "cell_type": "code",
      "source": [
        "sorted(oo[\"Event Gender\"].unique().tolist())"
      ],
      "metadata": {
        "id": "SOMsVp49ShoN"
      },
      "execution_count": null,
      "outputs": []
    },
    {
      "cell_type": "code",
      "execution_count": null,
      "metadata": {
        "id": "8l3rPB3DMzuI"
      },
      "outputs": [],
      "source": [
        "assert(sorted(nw[\"Event Gender\"].unique().tolist()) == sorted(oo[\"Event Gender\"].unique().tolist()))\n",
        "print(\"Passes all tests ...\")"
      ]
    },
    {
      "cell_type": "code",
      "execution_count": null,
      "metadata": {
        "id": "cccr9txiHrau"
      },
      "outputs": [],
      "source": [
        "#assert(sorted(nw[\"Event Gender\"].unique().tolist()) == sorted(oo[\"Event Gender\"].unique().tolist()))\n",
        "#assert(sorted(nw.Gender.unique().tolist()) == sorted(oo.Gender.unique().tolist()))\n",
        "#assert(sorted(nw.Medal.unique().tolist()) == sorted(oo.Medal.unique().tolist()))\n",
        "#print(\"Passes all tests ...\")"
      ]
    },
    {
      "cell_type": "code",
      "source": [
        "sorted(oo.Medal.unique().tolist())"
      ],
      "metadata": {
        "id": "yNIqLCfCWzsZ"
      },
      "execution_count": null,
      "outputs": []
    },
    {
      "cell_type": "code",
      "source": [
        "sorted(nw.Medal.unique().tolist())"
      ],
      "metadata": {
        "id": "0XNUaBHDWoc8"
      },
      "execution_count": null,
      "outputs": []
    },
    {
      "cell_type": "code",
      "source": [
        "nw.Medal.str.capitalize()"
      ],
      "metadata": {
        "id": "8uIxl1TBW9Fs"
      },
      "execution_count": null,
      "outputs": []
    },
    {
      "cell_type": "code",
      "source": [
        "nw.Medal = nw.Medal.str.capitalize()\n",
        "nw.sample(3)"
      ],
      "metadata": {
        "id": "sgUAncYIX7He"
      },
      "execution_count": null,
      "outputs": []
    },
    {
      "cell_type": "code",
      "source": [
        "assert(sorted(nw[\"Event Gender\"].unique().tolist()) == sorted(oo[\"Event Gender\"].unique().tolist()))\n",
        "assert(sorted(nw.Gender.unique().tolist()) == sorted(oo.Gender.unique().tolist()))\n",
        "assert(sorted(nw.Medal.unique().tolist()) == sorted(oo.Medal.unique().tolist()))\n",
        "print(\"Passes all tests ...\")"
      ],
      "metadata": {
        "id": "ahSYGIbVMKBQ"
      },
      "execution_count": null,
      "outputs": []
    },
    {
      "cell_type": "code",
      "source": [
        "sorted(nw.Sport.unique().tolist())"
      ],
      "metadata": {
        "id": "PpJbb4ZDbez1"
      },
      "execution_count": null,
      "outputs": []
    },
    {
      "cell_type": "code",
      "source": [
        "sorted(oo.Sport.unique().tolist())"
      ],
      "metadata": {
        "id": "tjmUeyJ-br55"
      },
      "execution_count": null,
      "outputs": []
    },
    {
      "cell_type": "code",
      "source": [
        "nw.NOC.unique()"
      ],
      "metadata": {
        "id": "Q0H1hrjuFgZC"
      },
      "execution_count": null,
      "outputs": []
    },
    {
      "cell_type": "code",
      "source": [
        "nw.Sport = nw.Sport.str.lower()\n",
        "nw.Discipline = nw.Discipline.str.lower()\n",
        "nw.Event = nw.Event.str.lower()\n",
        "nw.NOC = nw.NOC.str.upper()\n",
        "nw.sample(3)"
      ],
      "metadata": {
        "id": "qYYpOxjYb1Zl"
      },
      "execution_count": null,
      "outputs": []
    },
    {
      "cell_type": "code",
      "execution_count": null,
      "metadata": {
        "id": "cVFweCTTKK16"
      },
      "outputs": [],
      "source": [
        "def preprocess_2008(filename=\"olympics_2008.csv\"):\n",
        "  df = pd.read_csv(filename)\n",
        "  df.columns = ['City', 'Year', 'Sport', 'Discipline', 'Athlete Name', 'NOC',\n",
        "       'Gender', 'Event', 'Event Gender', 'Medal', 'Result']\n",
        "  df = df.drop(\"Result\", axis=1)\n",
        "  df.City = df.City.fillna(value=\"Beijing\")\n",
        "  df.Year = df.Year.fillna(value=2008)\n",
        "  df = df.dropna(subset=['Sport', 'Discipline', 'Athlete Name', 'NOC', 'Gender',\n",
        "       'Event', 'Event Gender', 'Medal'], how=\"all\")\n",
        "  df = df.drop_duplicates()\n",
        "  df.Sport = df.Sport.str.lower()\n",
        "  df.Discipline = df.Discipline.str.lower()\n",
        "  df.Event = df.Event.str.lower()\n",
        "  df.NOC = df.NOC.str.upper()\n",
        "  df.Medal = df.Medal.str.capitalize()\n",
        "  return df\n",
        "\n",
        "nw = preprocess_2008()\n",
        "nw.sample(3)"
      ]
    },
    {
      "cell_type": "markdown",
      "source": [
        "## Further Data Validation"
      ],
      "metadata": {
        "id": "L1yiHNB0Ohfm"
      }
    },
    {
      "cell_type": "code",
      "source": [
        "def preprocess(filename = \"olympics_1896_2004.csv\"):\n",
        "  \"\"\"Preparing and transforming dataframe\"\"\"\n",
        "  print(f\"Preprocessing {filename} ...\\n\")\n",
        "  ordered_medals = pd.api.types.CategoricalDtype(categories=[\"Bronze\", \"Silver\", \"Gold\"], ordered=True)\n",
        "  dtype_mapper = {\"Year\": \"int64\",\n",
        "                \"City\": \"string\",\n",
        "                \"Sport\": \"string\",\n",
        "                \"Discipline\": \"string\",\n",
        "                \"Athlete Name\": \"string\",\n",
        "                \"NOC\": \"string\",\n",
        "                \"Gender\": \"category\",\n",
        "                \"Event\": \"string\",\n",
        "                \"Event_gender\": \"category\",\n",
        "                \"Medal\": ordered_medals}\n",
        "  df = (pd.read_csv(filename, skiprows=5, dtype=dtype_mapper)\n",
        "        .drop('Position', axis=1)\n",
        "  )\n",
        "  df[\"Event Gender\"] = df[\"Event Gender\"].astype(\"category\")\n",
        "  return df\n",
        "\n",
        "oo = preprocess()\n",
        "\n",
        "def preprocess_2008(filename=\"olympics_2008.csv\"):\n",
        "  df = pd.read_csv(filename)\n",
        "  df.columns = ['City', 'Year', 'Sport', 'Discipline', 'Athlete Name', 'NOC',\n",
        "       'Gender', 'Event', 'Event Gender', 'Medal', 'Result']\n",
        "  df = df.drop(\"Result\", axis=1)\n",
        "  df.City = df.City.fillna(value=\"Beijing\")\n",
        "  df.Year = df.Year.fillna(value=2008)\n",
        "  df = df.dropna(subset=['Sport', 'Discipline', 'Athlete Name', 'NOC', 'Gender',\n",
        "       'Event', 'Event Gender', 'Medal'], how=\"all\")\n",
        "  df = df.drop_duplicates()\n",
        "  return df\n",
        "\n",
        "nw = preprocess_2008()\n",
        "nw.sample(3)"
      ],
      "metadata": {
        "id": "GOflVpGsZL_Q"
      },
      "execution_count": null,
      "outputs": []
    },
    {
      "cell_type": "code",
      "source": [
        "medals = ['Gold', 'Silver', 'Bronze', 'Bronze', 'Gold']\n",
        "medals"
      ],
      "metadata": {
        "id": "N6o2NYWie7D8"
      },
      "execution_count": null,
      "outputs": []
    },
    {
      "cell_type": "code",
      "source": [
        "medals[0]"
      ],
      "metadata": {
        "id": "v7c-iLUOQPsK"
      },
      "execution_count": null,
      "outputs": []
    },
    {
      "cell_type": "code",
      "source": [
        "medals[1]"
      ],
      "metadata": {
        "id": "jldc5g5fQRFH"
      },
      "execution_count": null,
      "outputs": []
    },
    {
      "cell_type": "code",
      "source": [
        "len(medals)"
      ],
      "metadata": {
        "id": "6Y0s7gi_Qh47"
      },
      "execution_count": null,
      "outputs": []
    },
    {
      "cell_type": "code",
      "source": [
        "nw[\"Athlete Name\"]"
      ],
      "metadata": {
        "id": "QeaYD5fwZyqj"
      },
      "execution_count": null,
      "outputs": []
    },
    {
      "cell_type": "code",
      "source": [
        "import re\n",
        "\n",
        "search_string = \"split\"\n",
        "\n",
        "[func for func in dir(nw[\"Athlete Name\"].str) if re.search(rf\"{search_string}\", func, re.IGNORECASE)]"
      ],
      "metadata": {
        "id": "1hoQ3x9jeptx"
      },
      "execution_count": null,
      "outputs": []
    },
    {
      "cell_type": "code",
      "source": [
        "nw[\"Athlete Name\"].str.split?"
      ],
      "metadata": {
        "id": "fh_rUyyieUm7"
      },
      "execution_count": null,
      "outputs": []
    },
    {
      "cell_type": "code",
      "source": [
        "nw[\"Athlete Name\"].str.split(\", \")"
      ],
      "metadata": {
        "id": "mf-ra6HlHOXq"
      },
      "execution_count": null,
      "outputs": []
    },
    {
      "cell_type": "code",
      "source": [
        "nw[\"Athlete Name\"].str.split(\", \").tolist()"
      ],
      "metadata": {
        "id": "EaXUuR-vHjVh"
      },
      "execution_count": null,
      "outputs": []
    },
    {
      "cell_type": "code",
      "source": [
        "athlete_names = nw[\"Athlete Name\"].str.split(\", \").tolist()\n",
        "athlete_names"
      ],
      "metadata": {
        "id": "2ejtl6psHnbN"
      },
      "execution_count": null,
      "outputs": []
    },
    {
      "cell_type": "code",
      "source": [
        "import re\n",
        "\n",
        "search_string = \"upper\"\n",
        "\n",
        "[func for func in dir(nw[\"Athlete Name\"].str) if re.search(rf\"{search_string}\", func, re.IGNORECASE)]"
      ],
      "metadata": {
        "id": "g1USKjupfWxT"
      },
      "execution_count": null,
      "outputs": []
    },
    {
      "cell_type": "code",
      "source": [
        "[athlete_name for athlete_name in athlete_names]"
      ],
      "metadata": {
        "id": "UAvRMk62IC9y"
      },
      "execution_count": null,
      "outputs": []
    },
    {
      "cell_type": "code",
      "source": [
        "[athlete_name[0] for athlete_name in athlete_names]"
      ],
      "metadata": {
        "id": "r1zOAWZhITjq"
      },
      "execution_count": null,
      "outputs": []
    },
    {
      "cell_type": "code",
      "source": [
        "[athlete_name[0].isupper() for athlete_name in athlete_names]"
      ],
      "metadata": {
        "id": "8rkOsk9cIZ9n"
      },
      "execution_count": null,
      "outputs": []
    },
    {
      "cell_type": "code",
      "source": [
        "len([item[0].isupper() for item in athlete_names])"
      ],
      "metadata": {
        "id": "0eyFKJTBG1FB"
      },
      "execution_count": null,
      "outputs": []
    },
    {
      "cell_type": "code",
      "source": [
        "nw.info()"
      ],
      "metadata": {
        "id": "AihTvS2aHFzJ"
      },
      "execution_count": null,
      "outputs": []
    },
    {
      "cell_type": "markdown",
      "source": [
        "##Updating the dtypes"
      ],
      "metadata": {
        "id": "nC0B3PtWD0H1"
      }
    },
    {
      "cell_type": "code",
      "source": [
        "!pip install --quiet pandas==2.0.2\n",
        "\n",
        "import pandas as pd\n",
        "from pathlib import Path\n",
        "\n",
        "if not Path(\"olympics_1896_2004.csv\").exists():\n",
        "  !wget https://github.com/jonfernandes/pandas_essential/raw/main/olympics_1896_2004.csv\n",
        "if not Path(\"olympics_2008.csv\").exists():\n",
        "  !wget https://github.com/jonfernandes/pandas_essential/raw/main/olympics_2008.csv\n",
        "\n",
        "filename = \"olympics_1896_2004.csv\"\n",
        "print(\"Installed all of the necessary files for this section ...\")"
      ],
      "metadata": {
        "id": "biY5wXHNq_Sv"
      },
      "execution_count": null,
      "outputs": []
    },
    {
      "cell_type": "code",
      "source": [
        "def preprocess(filename = \"olympics_1896_2004.csv\"):\n",
        "  \"\"\"Preparing and transforming dataframe\"\"\"\n",
        "  print(f\"Preprocessing {filename} ...\\n\")\n",
        "  ordered_medals = pd.api.types.CategoricalDtype(categories=[\"Bronze\", \"Silver\", \"Gold\"], ordered=True)\n",
        "  dtype_mapper = {\"Year\": \"int64\",\n",
        "                \"City\": \"string\",\n",
        "                \"Sport\": \"string\",\n",
        "                \"Discipline\": \"string\",\n",
        "                \"Athlete Name\": \"string\",\n",
        "                \"NOC\": \"string\",\n",
        "                \"Gender\": \"category\",\n",
        "                \"Event\": \"string\",\n",
        "                \"Event_gender\": \"category\",\n",
        "                \"Medal\": ordered_medals}\n",
        "  df = (pd.read_csv(filename, skiprows=5, dtype=dtype_mapper)\n",
        "        .drop('Position', axis=1)\n",
        "  )\n",
        "  df.Sport = df.Sport.str.lower()\n",
        "  df.Discipline = df.Discipline.str.lower()\n",
        "  df.Event = df.Event.str.lower()\n",
        "  df.NOC = df.NOC.str.upper()\n",
        "  df[\"Event Gender\"] = df[\"Event Gender\"].astype(\"category\")\n",
        "  df.loc[24676, \"Gender\"] = \"Women\"\n",
        "  return df\n",
        "\n",
        "def preprocess_2008(filename=\"olympics_2008.csv\"):\n",
        "  df = pd.read_csv(filename)\n",
        "  df.columns = ['City', 'Year', 'Sport', 'Discipline', 'Athlete Name', 'NOC',\n",
        "       'Gender', 'Event', 'Event Gender', 'Medal', 'Result']\n",
        "  df = df.drop(\"Result\", axis=1)\n",
        "  df.City = df.City.fillna(value=\"Beijing\")\n",
        "  df.Year = df.Year.fillna(value=2008)\n",
        "  df = df.dropna(subset=['Sport', 'Discipline', 'Athlete Name', 'NOC', 'Gender',\n",
        "       'Event', 'Event Gender', 'Medal'], how=\"all\")\n",
        "  df = df.drop_duplicates()\n",
        "  df.Sport = df.Sport.str.lower()\n",
        "  df.Discipline = df.Discipline.str.lower()\n",
        "  df.Event = df.Event.str.lower()\n",
        "  df.NOC = df.NOC.str.upper()\n",
        "  df.Medal = df.Medal.str.capitalize()\n",
        "  return df\n",
        "\n",
        "oo = preprocess()\n",
        "nw = preprocess_2008()\n",
        "nw.sample(3)"
      ],
      "metadata": {
        "id": "Ilm29tuCDmpV"
      },
      "execution_count": null,
      "outputs": []
    },
    {
      "cell_type": "code",
      "source": [
        "nw.dtypes"
      ],
      "metadata": {
        "id": "8ode2JHZD-4o"
      },
      "execution_count": null,
      "outputs": []
    },
    {
      "cell_type": "code",
      "source": [
        "oo.dtypes"
      ],
      "metadata": {
        "id": "LAuLw1l3T2jD"
      },
      "execution_count": null,
      "outputs": []
    },
    {
      "cell_type": "code",
      "source": [
        "def preprocess_2008(filename=\"olympics_2008.csv\"):\n",
        "  print(f\"Preprocessing {filename} ...\\n\")\n",
        "  df = pd.read_csv(filename)\n",
        "  df.columns = ['City', 'Year', 'Sport', 'Discipline', 'Athlete Name', 'NOC',\n",
        "       'Gender', 'Event', 'Event Gender', 'Medal', 'Result']\n",
        "  df = df.drop(\"Result\", axis=1)\n",
        "  df.City = df.City.fillna(value=\"Beijing\")\n",
        "  df.Year = df.Year.fillna(value=2008)\n",
        "  df = df.dropna(subset=['Sport', 'Discipline', 'Athlete Name', 'NOC', 'Gender',\n",
        "       'Event', 'Event Gender', 'Medal'], how=\"all\")\n",
        "  df = df.drop_duplicates()\n",
        "  df.Sport = df.Sport.str.lower()\n",
        "  df.Discipline = df.Discipline.str.lower()\n",
        "  df.Event = df.Event.str.lower()\n",
        "  df.NOC = df.NOC.str.upper()\n",
        "  df.Medal = df.Medal.str.capitalize()\n",
        "  df.City = df.City.astype(\"string\")\n",
        "  df.Year = df.Year.astype(int)\n",
        "  df.Sport = df.Sport.astype(\"string\")\n",
        "  df.Discipline = df.Discipline.astype(\"string\")\n",
        "  df[\"Athlete Name\"] = df[\"Athlete Name\"].astype(\"string\")\n",
        "  df.NOC = df.NOC.astype(\"string\")\n",
        "  df.Gender = df.Gender.astype(\"category\")\n",
        "  df.Event = df.Event.astype(\"string\")\n",
        "  df['Event Gender'] = df['Event Gender'].astype(\"category\")\n",
        "  medal_order = [\"Bronze\", \"Silver\", \"Gold\"]\n",
        "  df.Medal = pd.Categorical(df.Medal, categories=medal_order, ordered=True)\n",
        "\n",
        "  return df\n",
        "\n",
        "nw = preprocess_2008()\n",
        "nw.sample(3)\n",
        "\n"
      ],
      "metadata": {
        "id": "JPZ847t7ERLs"
      },
      "execution_count": null,
      "outputs": []
    },
    {
      "cell_type": "code",
      "source": [
        "nw.dtypes"
      ],
      "metadata": {
        "id": "WmhfHI5KERIT"
      },
      "execution_count": null,
      "outputs": []
    },
    {
      "cell_type": "markdown",
      "source": [
        "## Combine the datasets"
      ],
      "metadata": {
        "id": "BdOwoiXDISBA"
      }
    },
    {
      "cell_type": "code",
      "source": [
        "!pip install --quiet pandas==2.0.2\n",
        "\n",
        "import pandas as pd\n",
        "from pathlib import Path\n",
        "\n",
        "if not Path(\"olympics_1896_2004.csv\").exists():\n",
        "  !wget https://github.com/jonfernandes/pandas_essential/raw/main/olympics_1896_2004.csv\n",
        "if not Path(\"olympics_2008.csv\").exists():\n",
        "  !wget https://github.com/jonfernandes/pandas_essential/raw/main/olympics_2008.csv\n",
        "\n",
        "filename = \"olympics_1896_2004.csv\"\n",
        "print(\"Installed all of the necessary files for this section ...\")"
      ],
      "metadata": {
        "id": "r76ijBJvqLIj"
      },
      "execution_count": null,
      "outputs": []
    },
    {
      "cell_type": "code",
      "source": [
        "def preprocess(filename = \"olympics_1896_2004.csv\"):\n",
        "  \"\"\"Preparing and transforming dataframe\"\"\"\n",
        "  print(f\"Preprocessing {filename} ...\\n\")\n",
        "  ordered_medals = pd.api.types.CategoricalDtype(categories=[\"Bronze\", \"Silver\", \"Gold\"], ordered=True)\n",
        "  dtype_mapper = {\"Year\": \"int64\",\n",
        "                \"City\": \"string\",\n",
        "                \"Sport\": \"string\",\n",
        "                \"Discipline\": \"string\",\n",
        "                \"Athlete Name\": \"string\",\n",
        "                \"NOC\": \"string\",\n",
        "                \"Gender\": \"category\",\n",
        "                \"Event\": \"string\",\n",
        "                \"Event_gender\": \"category\",\n",
        "                \"Medal\": ordered_medals}\n",
        "  df = (pd.read_csv(filename, skiprows=5, dtype=dtype_mapper)\n",
        "        .drop('Position', axis=1)\n",
        "  )\n",
        "  df[\"Event Gender\"] = df[\"Event Gender\"].astype(\"category\")\n",
        "  df.loc[24676, \"Gender\"] = \"Women\"\n",
        "  df.Sport = df.Sport.str.lower()\n",
        "  df.Discipline = df.Discipline.str.lower()\n",
        "  df.Event = df.Event.str.lower()\n",
        "  df.NOC = df.NOC.str.upper()\n",
        "  return df\n",
        "\n",
        "def preprocess_2008(filename=\"olympics_2008.csv\"):\n",
        "  print(f\"Preprocessing {filename} ...\\n\")\n",
        "  df = pd.read_csv(filename)\n",
        "  df.columns = ['City', 'Year', 'Sport', 'Discipline', 'Athlete Name', 'NOC',\n",
        "       'Gender', 'Event', 'Event Gender', 'Medal', 'Result']\n",
        "  df = df.drop(\"Result\", axis=1)\n",
        "  df.City = df.City.fillna(value=\"Beijing\")\n",
        "  df.Year = df.Year.fillna(value=2008)\n",
        "  df = df.dropna(subset=['Sport', 'Discipline', 'Athlete Name', 'NOC', 'Gender',\n",
        "       'Event', 'Event Gender', 'Medal'], how=\"all\")\n",
        "  df = df.drop_duplicates()\n",
        "  df.Sport = df.Sport.str.lower()\n",
        "  df.Discipline = df.Discipline.str.lower()\n",
        "  df.Event = df.Event.str.lower()\n",
        "  df.NOC = df.NOC.str.upper()\n",
        "  df.Medal = df.Medal.str.capitalize()\n",
        "  df.City = df.City.astype(\"string\")\n",
        "  df.Year = df.Year.astype(int)\n",
        "  df.Sport = df.Sport.astype(\"string\")\n",
        "  df.Discipline = df.Discipline.astype(\"string\")\n",
        "  df[\"Athlete Name\"] = df[\"Athlete Name\"].astype(\"string\")\n",
        "  df.NOC = df.NOC.astype(\"string\")\n",
        "  df.Gender = df.Gender.astype(\"category\")\n",
        "  df.Event = df.Event.astype(\"string\")\n",
        "  df['Event Gender'] = df['Event Gender'].astype(\"category\")\n",
        "  medal_order = [\"Bronze\", \"Silver\", \"Gold\"]\n",
        "  df.Medal = pd.Categorical(df.Medal, categories=medal_order, ordered=True)\n",
        "\n",
        "  return df\n"
      ],
      "metadata": {
        "id": "jO66AK7yYYpE"
      },
      "execution_count": null,
      "outputs": []
    },
    {
      "cell_type": "code",
      "source": [
        "oo = preprocess()\n",
        "oo.sample(3)"
      ],
      "metadata": {
        "id": "OPd8JXEDERBV"
      },
      "execution_count": null,
      "outputs": []
    },
    {
      "cell_type": "code",
      "source": [
        "oo.dtypes"
      ],
      "metadata": {
        "id": "F7vBfS85JK5j"
      },
      "execution_count": null,
      "outputs": []
    },
    {
      "cell_type": "code",
      "source": [
        "nw = preprocess_2008()\n",
        "nw.sample(3)"
      ],
      "metadata": {
        "id": "fJrBOACtERE4"
      },
      "execution_count": null,
      "outputs": []
    },
    {
      "cell_type": "code",
      "source": [
        "nw.dtypes"
      ],
      "metadata": {
        "id": "nVorqQPcJM_f"
      },
      "execution_count": null,
      "outputs": []
    },
    {
      "cell_type": "code",
      "source": [
        "pd.concat([oo, nw])"
      ],
      "metadata": {
        "id": "KXeIQvOUEQ8-"
      },
      "execution_count": null,
      "outputs": []
    },
    {
      "cell_type": "code",
      "source": [
        "pd.concat([oo, nw]).dtypes"
      ],
      "metadata": {
        "id": "V-YFZ-lqEQ5D"
      },
      "execution_count": null,
      "outputs": []
    },
    {
      "cell_type": "code",
      "source": [
        "up = pd.concat([oo, nw])\n",
        "up.sample(3)"
      ],
      "metadata": {
        "id": "-jegITAgEQxf"
      },
      "execution_count": null,
      "outputs": []
    },
    {
      "cell_type": "code",
      "source": [
        "up.dtypes"
      ],
      "metadata": {
        "id": "4PmCLeOil6cf"
      },
      "execution_count": null,
      "outputs": []
    },
    {
      "cell_type": "markdown",
      "source": [
        "##Plotting data"
      ],
      "metadata": {
        "id": "kH9DmNEweaVZ"
      }
    },
    {
      "cell_type": "code",
      "source": [
        "!pip install --quiet pandas==2.0.2\n",
        "\n",
        "import pandas as pd\n",
        "from pathlib import Path\n",
        "import matplotlib.pyplot as plt\n",
        "\n",
        "\n",
        "if not Path(\"olympics_1896_2004.csv\").exists():\n",
        "  !wget https://github.com/jonfernandes/pandas_essential/raw/main/olympics_1896_2004.csv\n",
        "if not Path(\"olympics_2008.csv\").exists():\n",
        "  !wget https://github.com/jonfernandes/pandas_essential/raw/main/olympics_2008.csv\n",
        "\n",
        "filename = \"olympics_1896_2004.csv\"\n",
        "print(\"Installed all of the necessary files for this section ...\")"
      ],
      "metadata": {
        "id": "ESgPIHjNqVjk"
      },
      "execution_count": null,
      "outputs": []
    },
    {
      "cell_type": "code",
      "source": [
        "def preprocess(filename = \"olympics_1896_2004.csv\"):\n",
        "  \"\"\"Preparing and transforming dataframe\"\"\"\n",
        "  print(f\"Preprocessing {filename} ...\\n\")\n",
        "  ordered_medals = pd.api.types.CategoricalDtype(categories=[\"Bronze\", \"Silver\", \"Gold\"], ordered=True)\n",
        "  dtype_mapper = {\"Year\": \"int64\",\n",
        "                \"City\": \"string\",\n",
        "                \"Sport\": \"string\",\n",
        "                \"Discipline\": \"string\",\n",
        "                \"Athlete Name\": \"string\",\n",
        "                \"NOC\": \"string\",\n",
        "                \"Gender\": \"category\",\n",
        "                \"Event\": \"string\",\n",
        "                \"Event_gender\": \"category\",\n",
        "                \"Medal\": ordered_medals}\n",
        "  df = (pd.read_csv(filename, skiprows=5, dtype=dtype_mapper)\n",
        "        .drop('Position', axis=1)\n",
        "  )\n",
        "  df[\"Event Gender\"] = df[\"Event Gender\"].astype(\"category\")\n",
        "  df.loc[24676, \"Gender\"] = \"Women\"\n",
        "  df.Sport = df.Sport.str.lower()\n",
        "  df.Discipline = df.Discipline.str.lower()\n",
        "  df.Event = df.Event.str.lower()\n",
        "  df.NOC = df.NOC.str.upper()\n",
        "  return df\n",
        "\n",
        "\n",
        "def preprocess_2008(filename=\"olympics_2008.csv\"):\n",
        "  print(f\"Preprocessing {filename} ...\\n\")\n",
        "  df = pd.read_csv(filename)\n",
        "  df.columns = ['City', 'Year', 'Sport', 'Discipline', 'Athlete Name', 'NOC',\n",
        "       'Gender', 'Event', 'Event Gender', 'Medal', 'Result']\n",
        "  df = df.drop(\"Result\", axis=1)\n",
        "  df.City = df.City.fillna(value=\"Beijing\")\n",
        "  df.Year = df.Year.fillna(value=2008)\n",
        "  df = df.dropna(subset=['Sport', 'Discipline', 'Athlete Name', 'NOC', 'Gender',\n",
        "       'Event', 'Event Gender', 'Medal'], how=\"all\")\n",
        "  df = df.drop_duplicates()\n",
        "  df.Sport = df.Sport.str.lower()\n",
        "  df.Discipline = df.Discipline.str.lower()\n",
        "  df.Event = df.Event.str.lower()\n",
        "  df.NOC = df.NOC.str.upper()\n",
        "  df.Medal = df.Medal.str.capitalize()\n",
        "  df.City = df.City.astype(\"string\")\n",
        "  df.Year = df.Year.astype(int)\n",
        "  df.Sport = df.Sport.astype(\"string\")\n",
        "  df.Discipline = df.Discipline.astype(\"string\")\n",
        "  df[\"Athlete Name\"] = df[\"Athlete Name\"].astype(\"string\")\n",
        "  df.NOC = df.NOC.astype(\"string\")\n",
        "  df.Gender = df.Gender.astype(\"category\")\n",
        "  df.Event = df.Event.astype(\"string\")\n",
        "  df['Event Gender'] = df['Event Gender'].astype(\"category\")\n",
        "  medal_order = [\"Bronze\", \"Silver\", \"Gold\"]\n",
        "  df.Medal = pd.Categorical(df.Medal, categories=medal_order, ordered=True)\n",
        "\n",
        "  return df\n",
        "\n",
        "oo = preprocess()\n",
        "nw = preprocess_2008()\n",
        "up = pd.concat([oo, nw])\n",
        "up.sample(3)"
      ],
      "metadata": {
        "id": "e7WwBAKBfZ_x"
      },
      "execution_count": null,
      "outputs": []
    },
    {
      "cell_type": "code",
      "source": [
        "import matplotlib.pyplot as plt"
      ],
      "metadata": {
        "id": "hDcHyZ0Zee4H"
      },
      "execution_count": null,
      "outputs": []
    },
    {
      "cell_type": "markdown",
      "source": [
        "**For the first Olympics, how many events were there for each of the different sports? Plot them using different graphs.**"
      ],
      "metadata": {
        "id": "_0kw7_W7fOnW"
      }
    },
    {
      "cell_type": "code",
      "source": [
        "first_games = up[up.Year == 1896]\n",
        "first_games"
      ],
      "metadata": {
        "id": "e5bQRFKLee0U"
      },
      "execution_count": null,
      "outputs": []
    },
    {
      "cell_type": "code",
      "source": [
        "first_games.Sport.value_counts()"
      ],
      "metadata": {
        "id": "bl7_0MNUfo9F"
      },
      "execution_count": null,
      "outputs": []
    },
    {
      "cell_type": "code",
      "source": [
        "first_games.Sport.value_counts().plot?"
      ],
      "metadata": {
        "id": "GsrXzz2Ngqc6"
      },
      "execution_count": null,
      "outputs": []
    },
    {
      "cell_type": "code",
      "source": [
        "type(first_games.Sport.value_counts())"
      ],
      "metadata": {
        "id": "3HerIqOQh1b8"
      },
      "execution_count": null,
      "outputs": []
    },
    {
      "cell_type": "code",
      "source": [
        "dir(pd.Series)"
      ],
      "metadata": {
        "id": "WM5f-w3AhRRt"
      },
      "execution_count": null,
      "outputs": []
    },
    {
      "cell_type": "code",
      "source": [
        "pd.Series.plot?"
      ],
      "metadata": {
        "id": "NC2Py4eigDCw"
      },
      "execution_count": null,
      "outputs": []
    },
    {
      "cell_type": "code",
      "source": [
        "first_games.Sport.value_counts().plot(kind='line')"
      ],
      "metadata": {
        "id": "BvvtW4gzfo5J"
      },
      "execution_count": null,
      "outputs": []
    },
    {
      "cell_type": "code",
      "source": [
        "first_games.Sport.value_counts().plot(figsize=(10,3))"
      ],
      "metadata": {
        "id": "Atn1b3-vhSwy"
      },
      "execution_count": null,
      "outputs": []
    },
    {
      "cell_type": "code",
      "source": [
        "(first_games\n",
        " .Sport\n",
        " .value_counts()\n",
        " .plot(figsize=(10,3))\n",
        ")"
      ],
      "metadata": {
        "id": "bkX2FsJPj1GH"
      },
      "execution_count": null,
      "outputs": []
    },
    {
      "cell_type": "code",
      "source": [
        "(first_games\n",
        " .Sport\n",
        " .value_counts()\n",
        " #.plot(figsize=(10,3))\n",
        ")"
      ],
      "metadata": {
        "id": "PT2Y9QQFkEqa"
      },
      "execution_count": null,
      "outputs": []
    },
    {
      "cell_type": "code",
      "source": [
        "(first_games\n",
        " .Sport\n",
        " .value_counts()\n",
        " .plot(kind='bar')\n",
        ")"
      ],
      "metadata": {
        "id": "u9WiJO5Afo1h"
      },
      "execution_count": null,
      "outputs": []
    },
    {
      "cell_type": "code",
      "source": [
        "(first_games\n",
        " .Sport\n",
        " .value_counts()\n",
        " .plot\n",
        " .bar()\n",
        ")"
      ],
      "metadata": {
        "id": "G_UpM4MPh5yG"
      },
      "execution_count": null,
      "outputs": []
    },
    {
      "cell_type": "code",
      "source": [
        "(first_games\n",
        " .Sport\n",
        " .value_counts()\n",
        " .plot(kind='barh')\n",
        ")"
      ],
      "metadata": {
        "id": "xcCfatDefoxw"
      },
      "execution_count": null,
      "outputs": []
    },
    {
      "cell_type": "code",
      "source": [
        "(first_games\n",
        " .Sport\n",
        " .value_counts()\n",
        " .plot(kind='barh', color='red')\n",
        ")"
      ],
      "metadata": {
        "id": "Q_Tm9qp6y7aA"
      },
      "execution_count": null,
      "outputs": []
    },
    {
      "cell_type": "code",
      "source": [
        "(first_games\n",
        " .Sport\n",
        " .value_counts()\n",
        " .plot(kind='barh', color=['blue', 'red'])\n",
        ")"
      ],
      "metadata": {
        "id": "21U9xe7UzItK"
      },
      "execution_count": null,
      "outputs": []
    },
    {
      "cell_type": "markdown",
      "source": [
        "##Working with colormaps and Seaborn"
      ],
      "metadata": {
        "id": "486bDzcSDjs9"
      }
    },
    {
      "cell_type": "code",
      "source": [
        "!pip install --quiet pandas==2.0.2\n",
        "\n",
        "import pandas as pd\n",
        "from pathlib import Path\n",
        "import matplotlib.pyplot as plt\n",
        "\n",
        "if not Path(\"olympics_1896_2004.csv\").exists():\n",
        "  !wget https://github.com/jonfernandes/pandas_essential/raw/main/olympics_1896_2004.csv\n",
        "if not Path(\"olympics_2008.csv\").exists():\n",
        "  !wget https://github.com/jonfernandes/pandas_essential/raw/main/olympics_2008.csv\n",
        "\n",
        "filename = \"olympics_1896_2004.csv\"\n",
        "print(\"Installed all of the necessary files for this section ...\")"
      ],
      "metadata": {
        "id": "DpnRrEIoqid-"
      },
      "execution_count": null,
      "outputs": []
    },
    {
      "cell_type": "code",
      "source": [
        "def preprocess(filename = \"olympics_1896_2004.csv\"):\n",
        "  \"\"\"Preparing and transforming dataframe\"\"\"\n",
        "  print(f\"Preprocessing {filename} ...\\n\")\n",
        "  ordered_medals = pd.api.types.CategoricalDtype(categories=[\"Bronze\", \"Silver\", \"Gold\"], ordered=True)\n",
        "  dtype_mapper = {\"Year\": \"int64\",\n",
        "                \"City\": \"string\",\n",
        "                \"Sport\": \"string\",\n",
        "                \"Discipline\": \"string\",\n",
        "                \"Athlete Name\": \"string\",\n",
        "                \"NOC\": \"string\",\n",
        "                \"Gender\": \"category\",\n",
        "                \"Event\": \"string\",\n",
        "                \"Event_gender\": \"category\",\n",
        "                \"Medal\": ordered_medals}\n",
        "  df = (pd.read_csv(filename, skiprows=5, dtype=dtype_mapper)\n",
        "        .drop('Position', axis=1)\n",
        "  )\n",
        "  df[\"Event Gender\"] = df[\"Event Gender\"].astype(\"category\")\n",
        "  df.loc[24676, \"Gender\"] = \"Women\"\n",
        "  df.Sport = df.Sport.str.lower()\n",
        "  df.Discipline = df.Discipline.str.lower()\n",
        "  df.Event = df.Event.str.lower()\n",
        "  df.NOC = df.NOC.str.upper()\n",
        "  return df\n",
        "\n",
        "def preprocess_2008(filename=\"olympics_2008.csv\"):\n",
        "  print(f\"Preprocessing {filename} ...\\n\")\n",
        "  df = pd.read_csv(filename)\n",
        "  df.columns = ['City', 'Year', 'Sport', 'Discipline', 'Athlete Name', 'NOC',\n",
        "       'Gender', 'Event', 'Event Gender', 'Medal', 'Result']\n",
        "  df = df.drop(\"Result\", axis=1)\n",
        "  df.City = df.City.fillna(value=\"Beijing\")\n",
        "  df.Year = df.Year.fillna(value=2008)\n",
        "  df = df.dropna(subset=['Sport', 'Discipline', 'Athlete Name', 'NOC', 'Gender',\n",
        "       'Event', 'Event Gender', 'Medal'], how=\"all\")\n",
        "  df = df.drop_duplicates()\n",
        "  df.Sport = df.Sport.str.lower()\n",
        "  df.Discipline = df.Discipline.str.lower()\n",
        "  df.Event = df.Event.str.lower()\n",
        "  df.NOC = df.NOC.str.upper()\n",
        "  df.Medal = df.Medal.str.capitalize()\n",
        "  df.City = df.City.astype(\"string\")\n",
        "  df.Year = df.Year.astype(int)\n",
        "  df.Sport = df.Sport.astype(\"string\")\n",
        "  df.Discipline = df.Discipline.astype(\"string\")\n",
        "  df[\"Athlete Name\"] = df[\"Athlete Name\"].astype(\"string\")\n",
        "  df.NOC = df.NOC.astype(\"string\")\n",
        "  df.Gender = df.Gender.astype(\"category\")\n",
        "  df.Event = df.Event.astype(\"string\")\n",
        "  df['Event Gender'] = df['Event Gender'].astype(\"category\")\n",
        "  medal_order = [\"Bronze\", \"Silver\", \"Gold\"]\n",
        "  df.Medal = pd.Categorical(df.Medal, categories=medal_order, ordered=True)\n",
        "\n",
        "  return df\n",
        "\n",
        "oo = preprocess()\n",
        "nw = preprocess_2008()\n",
        "up = pd.concat([oo, nw])\n",
        "up.sample(3)"
      ],
      "metadata": {
        "id": "Ur60DjmuFL1V"
      },
      "execution_count": null,
      "outputs": []
    },
    {
      "cell_type": "code",
      "source": [
        "games_2008 = up[up.Year == 2008]\n",
        "games_2008.sample(3)"
      ],
      "metadata": {
        "id": "U76lkf7sfoor"
      },
      "execution_count": null,
      "outputs": []
    },
    {
      "cell_type": "code",
      "source": [
        "(games_2008\n",
        " .Medal\n",
        " .value_counts())"
      ],
      "metadata": {
        "id": "oSg5G5_EfolO"
      },
      "execution_count": null,
      "outputs": []
    },
    {
      "cell_type": "code",
      "source": [
        "import seaborn as sns"
      ],
      "metadata": {
        "id": "6fbPnUCrfohj"
      },
      "execution_count": null,
      "outputs": []
    },
    {
      "cell_type": "code",
      "source": [
        "plt.figure(figsize=(5,3))\n",
        "plt.title(\"Medals from the 2008 games\")\n",
        "sns.countplot(data=games_2008,\n",
        "              x='Medal',\n",
        "              )\n"
      ],
      "metadata": {
        "id": "_lEr91CVfoZy"
      },
      "execution_count": null,
      "outputs": []
    },
    {
      "cell_type": "code",
      "source": [
        "plt.figure(figsize=(5,3))\n",
        "plt.title(\"Medals from the 2008 games\")\n",
        "sns.countplot(data=games_2008,\n",
        "              x='Medal',\n",
        "              order=[\"Gold\", \"Silver\", \"Bronze\"])"
      ],
      "metadata": {
        "id": "ONwg1H21yJSk"
      },
      "execution_count": null,
      "outputs": []
    },
    {
      "cell_type": "code",
      "source": [
        "plt.figure(figsize=(5,3))\n",
        "plt.title(\"Medals from the 2008 games\")\n",
        "sns.countplot(data=games_2008,\n",
        "              x='Medal',\n",
        "              order=[\"Gold\", \"Silver\", \"Bronze\"],\n",
        "              hue='Gender')"
      ],
      "metadata": {
        "id": "nDzVng1P0xsO"
      },
      "execution_count": null,
      "outputs": []
    },
    {
      "cell_type": "code",
      "source": [
        "plt.figure(figsize=(5,3))\n",
        "plt.title(\"Medals from the 2008 games\")\n",
        "sns.countplot(data=games_2008,\n",
        "              x='Medal',\n",
        "              order=[\"Gold\", \"Silver\", \"Bronze\"],\n",
        "              hue='Gender',\n",
        "              palette='seismic')"
      ],
      "metadata": {
        "id": "7DWDpQWe05b4"
      },
      "execution_count": null,
      "outputs": []
    },
    {
      "cell_type": "code",
      "source": [
        "plt.figure(figsize=(5,3))\n",
        "plt.title(\"Medals from the 2008 games\")\n",
        "sns.countplot(data=games_2008,\n",
        "              x='Medal',\n",
        "              order=[\"Gold\", \"Silver\", \"Bronze\"],\n",
        "              hue='Gender',\n",
        "              palette='coolwarm')"
      ],
      "metadata": {
        "id": "OrMVWF7406Af"
      },
      "execution_count": null,
      "outputs": []
    },
    {
      "cell_type": "code",
      "source": [
        "plt.figure(figsize=(5,3))\n",
        "plt.title(\"Medals from the 2008 games\")\n",
        "sns.countplot(data=games_2008,\n",
        "              x='Medal',\n",
        "              order=[\"Gold\", \"Silver\", \"Bronze\"],\n",
        "              hue='Gender',\n",
        "              palette='bwr')"
      ],
      "metadata": {
        "id": "IUwowuAG1pMo"
      },
      "execution_count": null,
      "outputs": []
    },
    {
      "cell_type": "code",
      "source": [
        "plt.figure(figsize=(5,3))\n",
        "plt.title(\"Medals from the 2008 games\")\n",
        "sns.countplot(data=games_2008,\n",
        "              x='Medal',\n",
        "              order=[\"Gold\", \"Silver\", \"Bronze\"],\n",
        "              hue='Gender',\n",
        "              palette='bwr_r')"
      ],
      "metadata": {
        "id": "V1PuecS106i2"
      },
      "execution_count": null,
      "outputs": []
    },
    {
      "cell_type": "markdown",
      "source": [
        "##Working with groupby"
      ],
      "metadata": {
        "id": "Qr68snfKFo33"
      }
    },
    {
      "cell_type": "code",
      "source": [
        "!pip install --quiet pandas==2.0.2\n",
        "\n",
        "import pandas as pd\n",
        "from pathlib import Path\n",
        "import matplotlib.pyplot as plt\n",
        "\n",
        "\n",
        "if not Path(\"olympics_1896_2004.csv\").exists():\n",
        "  !wget https://github.com/jonfernandes/pandas_essential/raw/main/olympics_1896_2004.csv\n",
        "if not Path(\"olympics_2008.csv\").exists():\n",
        "  !wget https://github.com/jonfernandes/pandas_essential/raw/main/olympics_2008.csv\n",
        "\n",
        "filename = \"olympics_1896_2004.csv\"\n",
        "print(\"Installed all of the necessary files for this section ...\")"
      ],
      "metadata": {
        "id": "h6s7DYd4q5Mk"
      },
      "execution_count": null,
      "outputs": []
    },
    {
      "cell_type": "code",
      "source": [
        "def preprocess(filename = \"olympics_1896_2004.csv\"):\n",
        "  \"\"\"Preparing and transforming dataframe\"\"\"\n",
        "  print(f\"Preprocessing {filename} ...\\n\")\n",
        "  ordered_medals = pd.api.types.CategoricalDtype(categories=[\"Bronze\", \"Silver\", \"Gold\"], ordered=True)\n",
        "  dtype_mapper = {\"Year\": \"int64\",\n",
        "                \"City\": \"string\",\n",
        "                \"Sport\": \"string\",\n",
        "                \"Discipline\": \"string\",\n",
        "                \"Athlete Name\": \"string\",\n",
        "                \"NOC\": \"string\",\n",
        "                \"Gender\": \"category\",\n",
        "                \"Event\": \"string\",\n",
        "                \"Event_gender\": \"category\",\n",
        "                \"Medal\": ordered_medals}\n",
        "  df = (pd.read_csv(filename, skiprows=5, dtype=dtype_mapper)\n",
        "        .drop('Position', axis=1)\n",
        "  )\n",
        "  df[\"Event Gender\"] = df[\"Event Gender\"].astype(\"category\")\n",
        "  df.loc[24676, \"Gender\"] = \"Women\"\n",
        "  df.Sport = df.Sport.str.lower()\n",
        "  df.Discipline = df.Discipline.str.lower()\n",
        "  df.Event = df.Event.str.lower()\n",
        "  df.NOC = df.NOC.str.upper()\n",
        "  return df\n",
        "\n",
        "def preprocess_2008(filename=\"olympics_2008.csv\"):\n",
        "  print(f\"Preprocessing {filename} ...\\n\")\n",
        "  df = pd.read_csv(filename)\n",
        "  df.columns = ['City', 'Year', 'Sport', 'Discipline', 'Athlete Name', 'NOC',\n",
        "       'Gender', 'Event', 'Event Gender', 'Medal', 'Result']\n",
        "  df = df.drop(\"Result\", axis=1)\n",
        "  df.City = df.City.fillna(value=\"Beijing\")\n",
        "  df.Year = df.Year.fillna(value=2008)\n",
        "  df = df.dropna(subset=['Sport', 'Discipline', 'Athlete Name', 'NOC', 'Gender',\n",
        "       'Event', 'Event Gender', 'Medal'], how=\"all\")\n",
        "  df = df.drop_duplicates()\n",
        "  df.Sport = df.Sport.str.lower()\n",
        "  df.Discipline = df.Discipline.str.lower()\n",
        "  df.Event = df.Event.str.lower()\n",
        "  df.NOC = df.NOC.str.upper()\n",
        "  df.Medal = df.Medal.str.capitalize()\n",
        "  df.City = df.City.astype(\"string\")\n",
        "  df.Year = df.Year.astype(int)\n",
        "  df.Sport = df.Sport.astype(\"string\")\n",
        "  df.Discipline = df.Discipline.astype(\"string\")\n",
        "  df[\"Athlete Name\"] = df[\"Athlete Name\"].astype(\"string\")\n",
        "  df.NOC = df.NOC.astype(\"string\")\n",
        "  df.Gender = df.Gender.astype(\"category\")\n",
        "  df.Event = df.Event.astype(\"string\")\n",
        "  df['Event Gender'] = df['Event Gender'].astype(\"category\")\n",
        "  medal_order = [\"Bronze\", \"Silver\", \"Gold\"]\n",
        "  df.Medal = pd.Categorical(df.Medal, categories=medal_order, ordered=True)\n",
        "\n",
        "  return df\n",
        "\n",
        "oo = preprocess()\n",
        "nw = preprocess_2008()\n",
        "up = pd.concat([oo, nw])\n",
        "up.sample(3)"
      ],
      "metadata": {
        "id": "jLYyLD1F-PAT"
      },
      "execution_count": null,
      "outputs": []
    },
    {
      "cell_type": "code",
      "source": [
        "sprints = up[(up.Year == 2008) & ((up.Event == '100m') | (up.Event == '200m'))]\n",
        "sprints"
      ],
      "metadata": {
        "id": "fjqov5kh_FHa"
      },
      "execution_count": null,
      "outputs": []
    },
    {
      "cell_type": "code",
      "source": [
        "sp = sprints.groupby(['NOC', 'Gender', 'Event'])\n",
        "sp"
      ],
      "metadata": {
        "id": "hqdKX_EXAqrY"
      },
      "execution_count": null,
      "outputs": []
    },
    {
      "cell_type": "code",
      "source": [
        "up.groupby(\"Year\")"
      ],
      "metadata": {
        "id": "W95xeY7ZFtYb"
      },
      "execution_count": null,
      "outputs": []
    },
    {
      "cell_type": "code",
      "source": [
        "type(up.groupby('Year'))"
      ],
      "metadata": {
        "id": "xyac4sOnF7xV"
      },
      "execution_count": null,
      "outputs": []
    },
    {
      "cell_type": "code",
      "source": [
        "up.groupby(\"Year\").count()"
      ],
      "metadata": {
        "id": "yACDdzl9Fzr0"
      },
      "execution_count": null,
      "outputs": []
    },
    {
      "cell_type": "code",
      "source": [
        "for group_key, group_value in up.groupby('Year'):\n",
        "    print(group_key)\n",
        "    print(group_value)"
      ],
      "metadata": {
        "id": "NnugdlmPGfuV"
      },
      "execution_count": null,
      "outputs": []
    },
    {
      "cell_type": "code",
      "source": [
        "type(group_value)"
      ],
      "metadata": {
        "id": "PFvFNPieG6fw"
      },
      "execution_count": null,
      "outputs": []
    },
    {
      "cell_type": "code",
      "source": [
        "up.groupby(['Year']).count()"
      ],
      "metadata": {
        "id": "FUZ1XjrC_qMv"
      },
      "execution_count": null,
      "outputs": []
    },
    {
      "cell_type": "code",
      "source": [
        "up.groupby(\"Year\").size()"
      ],
      "metadata": {
        "id": "aXuPTFXeHACE"
      },
      "execution_count": null,
      "outputs": []
    },
    {
      "cell_type": "code",
      "source": [
        "up.groupby(['Year','NOC']).count()"
      ],
      "metadata": {
        "id": "5pqISQ6FIy2Q"
      },
      "execution_count": null,
      "outputs": []
    },
    {
      "cell_type": "code",
      "source": [
        "up.groupby(['Year','NOC'])['Medal'].count()"
      ],
      "metadata": {
        "id": "p5W-QKRzKXK1",
        "outputId": "4a78744b-c820-4805-f3cc-d2ed14d2e073",
        "colab": {
          "base_uri": "https://localhost:8080/",
          "height": 269
        }
      },
      "execution_count": 93,
      "outputs": [
        {
          "output_type": "error",
          "ename": "ValueError",
          "evalue": "Cannot subset columns with a tuple with more than one element. Use a list instead.",
          "traceback": [
            "\u001b[0;31m---------------------------------------------------------------------------\u001b[0m",
            "\u001b[0;31mValueError\u001b[0m                                Traceback (most recent call last)",
            "\u001b[0;32m<ipython-input-93-80a4777f6b2f>\u001b[0m in \u001b[0;36m<cell line: 1>\u001b[0;34m()\u001b[0m\n\u001b[0;32m----> 1\u001b[0;31m \u001b[0mup\u001b[0m\u001b[0;34m.\u001b[0m\u001b[0mgroupby\u001b[0m\u001b[0;34m(\u001b[0m\u001b[0;34m[\u001b[0m\u001b[0;34m'Year'\u001b[0m\u001b[0;34m]\u001b[0m\u001b[0;34m)\u001b[0m\u001b[0;34m[\u001b[0m\u001b[0;34m'Medal'\u001b[0m\u001b[0;34m,\u001b[0m \u001b[0;34m'NOC'\u001b[0m\u001b[0;34m]\u001b[0m\u001b[0;34m.\u001b[0m\u001b[0mcount\u001b[0m\u001b[0;34m(\u001b[0m\u001b[0;34m)\u001b[0m\u001b[0;34m\u001b[0m\u001b[0;34m\u001b[0m\u001b[0m\n\u001b[0m",
            "\u001b[0;32m/usr/local/lib/python3.10/dist-packages/pandas/core/groupby/generic.py\u001b[0m in \u001b[0;36m__getitem__\u001b[0;34m(self, key)\u001b[0m\n\u001b[1;32m   1765\u001b[0m             \u001b[0;31m# if len == 1, then it becomes a SeriesGroupBy and this is actually\u001b[0m\u001b[0;34m\u001b[0m\u001b[0;34m\u001b[0m\u001b[0m\n\u001b[1;32m   1766\u001b[0m             \u001b[0;31m# valid syntax, so don't raise\u001b[0m\u001b[0;34m\u001b[0m\u001b[0;34m\u001b[0m\u001b[0m\n\u001b[0;32m-> 1767\u001b[0;31m             raise ValueError(\n\u001b[0m\u001b[1;32m   1768\u001b[0m                 \u001b[0;34m\"Cannot subset columns with a tuple with more than one element. \"\u001b[0m\u001b[0;34m\u001b[0m\u001b[0;34m\u001b[0m\u001b[0m\n\u001b[1;32m   1769\u001b[0m                 \u001b[0;34m\"Use a list instead.\"\u001b[0m\u001b[0;34m\u001b[0m\u001b[0;34m\u001b[0m\u001b[0m\n",
            "\u001b[0;31mValueError\u001b[0m: Cannot subset columns with a tuple with more than one element. Use a list instead."
          ]
        }
      ]
    },
    {
      "cell_type": "code",
      "source": [
        "up.groupby(['Year','NOC']).size()"
      ],
      "metadata": {
        "id": "pJqhHLChIoAA"
      },
      "execution_count": null,
      "outputs": []
    },
    {
      "cell_type": "code",
      "source": [
        "up.groupby(['Year','NOC','Medal']).size()"
      ],
      "metadata": {
        "id": "_o3eF3uEHAFS"
      },
      "execution_count": null,
      "outputs": []
    },
    {
      "cell_type": "code",
      "source": [
        "up.groupby(['NOC'])['Year'].min()"
      ],
      "metadata": {
        "id": "NkPLhcA9KuMu"
      },
      "execution_count": null,
      "outputs": []
    },
    {
      "cell_type": "code",
      "source": [
        "up.groupby(['NOC'])['Year'].max()"
      ],
      "metadata": {
        "id": "N7_2PKh8K79g"
      },
      "execution_count": null,
      "outputs": []
    },
    {
      "cell_type": "code",
      "source": [
        "up.groupby(['NOC'])['Year'].min()"
      ],
      "metadata": {
        "id": "nclk4Xx3cON6"
      },
      "execution_count": null,
      "outputs": []
    },
    {
      "cell_type": "code",
      "source": [
        "up.groupby(['NOC'])['Year'].agg(['min', 'max', 'count'])"
      ],
      "metadata": {
        "id": "2fC52zyTG_-e"
      },
      "execution_count": null,
      "outputs": []
    },
    {
      "cell_type": "markdown",
      "source": [
        "##Reshaping data: Stacking, Unstacking and MultiIndex"
      ],
      "metadata": {
        "id": "G4oDXcOu6cNf"
      }
    },
    {
      "cell_type": "code",
      "source": [
        "!pip install --quiet pandas==2.0.2\n",
        "\n",
        "import pandas as pd\n",
        "from pathlib import Path\n",
        "import matplotlib.pyplot as plt\n",
        "\n",
        "\n",
        "if not Path(\"olympics_1896_2004.csv\").exists():\n",
        "  !wget https://github.com/jonfernandes/pandas_essential/raw/main/olympics_1896_2004.csv\n",
        "if not Path(\"olympics_2008.csv\").exists():\n",
        "  !wget https://github.com/jonfernandes/pandas_essential/raw/main/olympics_2008.csv\n",
        "\n",
        "filename = \"olympics_1896_2004.csv\"\n",
        "print(\"Installed all of the necessary files for this section ...\")"
      ],
      "metadata": {
        "id": "qRfLqK3V6nDb"
      },
      "execution_count": null,
      "outputs": []
    },
    {
      "cell_type": "code",
      "source": [
        "def preprocess(filename = \"olympics_1896_2004.csv\"):\n",
        "  \"\"\"Preparing and transforming dataframe\"\"\"\n",
        "  print(f\"Preprocessing {filename} ...\\n\")\n",
        "  ordered_medals = pd.api.types.CategoricalDtype(categories=[\"Bronze\", \"Silver\", \"Gold\"], ordered=True)\n",
        "  dtype_mapper = {\"Year\": \"int64\",\n",
        "                \"City\": \"string\",\n",
        "                \"Sport\": \"string\",\n",
        "                \"Discipline\": \"string\",\n",
        "                \"Athlete Name\": \"string\",\n",
        "                \"NOC\": \"string\",\n",
        "                \"Gender\": \"category\",\n",
        "                \"Event\": \"string\",\n",
        "                \"Event_gender\": \"category\",\n",
        "                \"Medal\": ordered_medals}\n",
        "  df = pd.read_csv(filename, skiprows=5, dtype=dtype_mapper)\n",
        "  df = df.drop('Position', axis=1)\n",
        "  df[\"Event Gender\"] = df[\"Event Gender\"].astype(\"category\")\n",
        "  df.loc[24676, \"Gender\"] = \"Women\"\n",
        "  df.Sport = df.Sport.str.lower()\n",
        "  df.Discipline = df.Discipline.str.lower()\n",
        "  df.Event = df.Event.str.lower()\n",
        "  df.NOC = df.NOC.str.upper()\n",
        "  return df\n",
        "\n",
        "def preprocess_2008(filename=\"olympics_2008.csv\"):\n",
        "  print(f\"Preprocessing {filename} ...\\n\")\n",
        "  df = pd.read_csv(filename)\n",
        "  df.columns = ['City', 'Year', 'Sport', 'Discipline', 'Athlete Name', 'NOC',\n",
        "       'Gender', 'Event', 'Event Gender', 'Medal', 'Result']\n",
        "  df = df.drop(\"Result\", axis=1)\n",
        "  df.City = df.City.fillna(value=\"Beijing\")\n",
        "  df.Year = df.Year.fillna(value=2008)\n",
        "  df = df.dropna(subset=['Sport', 'Discipline', 'Athlete Name', 'NOC', 'Gender',\n",
        "       'Event', 'Event Gender', 'Medal'], how=\"all\")\n",
        "  df = df.drop_duplicates()\n",
        "  df.Sport = df.Sport.str.lower()\n",
        "  df.Discipline = df.Discipline.str.lower()\n",
        "  df.Event = df.Event.str.lower()\n",
        "  df.NOC = df.NOC.str.upper()\n",
        "  df.Medal = df.Medal.str.capitalize()\n",
        "  df.City = df.City.astype(\"string\")\n",
        "  df.Year = df.Year.astype(int)\n",
        "  df.Sport = df.Sport.astype(\"string\")\n",
        "  df.Discipline = df.Discipline.astype(\"string\")\n",
        "  df[\"Athlete Name\"] = df[\"Athlete Name\"].astype(\"string\")\n",
        "  df.NOC = df.NOC.astype(\"string\")\n",
        "  df.Gender = df.Gender.astype(\"category\")\n",
        "  df.Event = df.Event.astype(\"string\")\n",
        "  df['Event Gender'] = df['Event Gender'].astype(\"category\")\n",
        "  medal_order = [\"Bronze\", \"Silver\", \"Gold\"]\n",
        "  df.Medal = pd.Categorical(df.Medal, categories=medal_order, ordered=True)\n",
        "\n",
        "  return df\n",
        "\n",
        "oo = preprocess()\n",
        "nw = preprocess_2008()\n",
        "up = pd.concat([oo, nw])\n",
        "up.sample(3)"
      ],
      "metadata": {
        "id": "XuhND-Tz6nDb"
      },
      "execution_count": null,
      "outputs": []
    },
    {
      "cell_type": "code",
      "source": [
        "sprints = up[(up.Year == 2008) & ( (up.Event == '100m') | (up.Event == '200m'))]\n",
        "sprints"
      ],
      "metadata": {
        "id": "HPvTlgBv6g1l"
      },
      "execution_count": null,
      "outputs": []
    },
    {
      "cell_type": "code",
      "source": [
        "sp = sprints.groupby(['NOC','Gender','Event']).size()\n",
        "sp"
      ],
      "metadata": {
        "id": "bl6fTsV064ji"
      },
      "execution_count": null,
      "outputs": []
    },
    {
      "cell_type": "code",
      "source": [
        "sp.unstack?"
      ],
      "metadata": {
        "id": "rqB_IGRlS-3t"
      },
      "execution_count": null,
      "outputs": []
    },
    {
      "cell_type": "code",
      "source": [
        "sp.unstack('Gender', fill_value=0)"
      ],
      "metadata": {
        "id": "aOZjOX4c8zig"
      },
      "execution_count": null,
      "outputs": []
    },
    {
      "cell_type": "code",
      "source": [
        "(sp\n",
        " .unstack('Gender', fill_value=0)\n",
        " .unstack('Event', fill_value=0)\n",
        ")"
      ],
      "metadata": {
        "id": "tSipFwZU87rU"
      },
      "execution_count": null,
      "outputs": []
    },
    {
      "cell_type": "code",
      "source": [
        "sp.unstack?"
      ],
      "metadata": {
        "id": "F3OkF_UyQTC5"
      },
      "execution_count": null,
      "outputs": []
    },
    {
      "cell_type": "code",
      "source": [
        "sp.unstack(['Gender', 'Event'], fill_value=0)"
      ],
      "metadata": {
        "id": "zkfX-zpO64do"
      },
      "execution_count": null,
      "outputs": []
    },
    {
      "cell_type": "code",
      "source": [
        "sp = sprints.groupby(['NOC','Gender','Event']).size()\n",
        "sp"
      ],
      "metadata": {
        "id": "sw378hByAh_z"
      },
      "execution_count": null,
      "outputs": []
    },
    {
      "cell_type": "code",
      "source": [
        "sp.unstack(level=1, fill_value=0)"
      ],
      "metadata": {
        "id": "HeayOcw3V8Vg"
      },
      "execution_count": null,
      "outputs": []
    },
    {
      "cell_type": "code",
      "source": [
        "sprints_table = sp.unstack(level=1, fill_value=0).unstack(level=1, fill_value=0)\n",
        "sprints_table"
      ],
      "metadata": {
        "id": "AwUsaAcRWKtN"
      },
      "execution_count": null,
      "outputs": []
    },
    {
      "cell_type": "code",
      "source": [
        "sprints_NOC = sprints_table.stack(\"Gender\")\n",
        "sprints_NOC"
      ],
      "metadata": {
        "id": "9qhYg3pm64PS"
      },
      "execution_count": null,
      "outputs": []
    },
    {
      "cell_type": "code",
      "source": [
        "sprints_NOC.index"
      ],
      "metadata": {
        "id": "BygN_yLAXMM3"
      },
      "execution_count": null,
      "outputs": []
    },
    {
      "cell_type": "code",
      "source": [
        "sprints_NOC.loc[('JAM',   'Men'), :]"
      ],
      "metadata": {
        "id": "J2iY34Vr64Gj"
      },
      "execution_count": null,
      "outputs": []
    },
    {
      "cell_type": "code",
      "source": [
        "sprints_NOC.loc[('JAM',   'Men'), '100m']"
      ],
      "metadata": {
        "id": "EupzuYGO64Bk"
      },
      "execution_count": null,
      "outputs": []
    },
    {
      "cell_type": "code",
      "source": [
        "sprints_NOC.iloc[0, :]"
      ],
      "metadata": {
        "id": "YrJ9kCCdYE_R"
      },
      "execution_count": null,
      "outputs": []
    },
    {
      "cell_type": "code",
      "source": [
        "sprints_NOC.iloc[0, 0]"
      ],
      "metadata": {
        "id": "gxcj_y-qYMHm"
      },
      "execution_count": null,
      "outputs": []
    },
    {
      "cell_type": "code",
      "source": [
        "sprints_NOC.stack?"
      ],
      "metadata": {
        "id": "DkrFQ0XGB5Oj"
      },
      "execution_count": null,
      "outputs": []
    },
    {
      "cell_type": "code",
      "source": [
        "sprints_NOC.unstack?"
      ],
      "metadata": {
        "id": "bwoHmR7aB_Pr"
      },
      "execution_count": null,
      "outputs": []
    },
    {
      "cell_type": "markdown",
      "source": [
        "## Challenge 2"
      ],
      "metadata": {
        "id": "prwKaxHRupV5"
      }
    },
    {
      "cell_type": "code",
      "source": [
        "!pip install --quiet pandas==2.0.2\n",
        "\n",
        "import pandas as pd\n",
        "from pathlib import Path\n",
        "import matplotlib.pyplot as plt\n",
        "\n",
        "if not Path(\"olympics_1896_2004.csv\").exists():\n",
        "  !wget https://github.com/jonfernandes/pandas_essential/raw/main/olympics_1896_2004.csv\n",
        "if not Path(\"olympics_2008.csv\").exists():\n",
        "  !wget https://github.com/jonfernandes/pandas_essential/raw/main/olympics_2008.csv\n",
        "\n",
        "filename = \"olympics_1896_2004.csv\"\n",
        "print(\"Installed all of the necessary files for this section ...\")"
      ],
      "metadata": {
        "id": "pUFO5mPbexfs",
        "outputId": "3b2e2e4e-7b9f-4845-bbd6-600386e99f5b",
        "colab": {
          "base_uri": "https://localhost:8080/"
        }
      },
      "execution_count": 72,
      "outputs": [
        {
          "output_type": "stream",
          "name": "stdout",
          "text": [
            "Installed all of the necessary files for this section ...\n"
          ]
        }
      ]
    },
    {
      "cell_type": "code",
      "source": [
        "def preprocess(filename = \"olympics_1896_2004.csv\"):\n",
        "  \"\"\"Preparing and transforming dataframe\"\"\"\n",
        "  print(f\"Preprocessing {filename} ...\\n\")\n",
        "  ordered_medals = pd.api.types.CategoricalDtype(categories=[\"Bronze\", \"Silver\", \"Gold\"], ordered=True)\n",
        "  dtype_mapper = {\"Year\": \"int64\",\n",
        "                \"City\": \"string\",\n",
        "                \"Sport\": \"string\",\n",
        "                \"Discipline\": \"string\",\n",
        "                \"Athlete Name\": \"string\",\n",
        "                \"NOC\": \"string\",\n",
        "                \"Gender\": \"category\",\n",
        "                \"Event\": \"string\",\n",
        "                \"Event_gender\": \"category\",\n",
        "                \"Medal\": ordered_medals}\n",
        "  df = pd.read_csv(filename, skiprows=5, dtype=dtype_mapper)\n",
        "  df = df.drop('Position', axis=1)\n",
        "  df[\"Event Gender\"] = df[\"Event Gender\"].astype(\"category\")\n",
        "  df.loc[24676, \"Gender\"] = \"Women\"\n",
        "  df.Sport = df.Sport.str.lower()\n",
        "  df.Discipline = df.Discipline.str.lower()\n",
        "  df.Event = df.Event.str.lower()\n",
        "  df.NOC = df.NOC.str.upper()\n",
        "  return df\n",
        "\n",
        "def preprocess_2008(filename=\"olympics_2008.csv\"):\n",
        "  print(f\"Preprocessing {filename} ...\\n\")\n",
        "  df = pd.read_csv(filename)\n",
        "  df.columns = ['City', 'Year', 'Sport', 'Discipline', 'Athlete Name', 'NOC',\n",
        "       'Gender', 'Event', 'Event Gender', 'Medal', 'Result']\n",
        "  df = df.drop(\"Result\", axis=1)\n",
        "  df.City = df.City.fillna(value=\"Beijing\")\n",
        "  df.Year = df.Year.fillna(value=2008)\n",
        "  df = df.dropna(subset=['Sport', 'Discipline', 'Athlete Name', 'NOC', 'Gender',\n",
        "       'Event', 'Event Gender', 'Medal'], how=\"all\")\n",
        "  df = df.drop_duplicates()\n",
        "  df.Sport = df.Sport.str.lower()\n",
        "  df.Discipline = df.Discipline.str.lower()\n",
        "  df.Event = df.Event.str.lower()\n",
        "  df.NOC = df.NOC.str.upper()\n",
        "  df.Medal = df.Medal.str.capitalize()\n",
        "  df.City = df.City.astype(\"string\")\n",
        "  df.Year = df.Year.astype(int)\n",
        "  df.Sport = df.Sport.astype(\"string\")\n",
        "  df.Discipline = df.Discipline.astype(\"string\")\n",
        "  df[\"Athlete Name\"] = df[\"Athlete Name\"].astype(\"string\")\n",
        "  df.NOC = df.NOC.astype(\"string\")\n",
        "  df.Gender = df.Gender.astype(\"category\")\n",
        "  df.Event = df.Event.astype(\"string\")\n",
        "  df['Event Gender'] = df['Event Gender'].astype(\"category\")\n",
        "  medal_order = [\"Bronze\", \"Silver\", \"Gold\"]\n",
        "  df.Medal = pd.Categorical(df.Medal, categories=medal_order, ordered=True)\n",
        "\n",
        "  return df\n",
        "\n",
        "oo = preprocess() #1896-2004 data\n",
        "nw = preprocess_2008() #2008 data\n",
        "up = pd.concat([oo, nw]) #merged oo and nw\n",
        "up.sample(3)"
      ],
      "metadata": {
        "id": "pDC_nItNexfs",
        "outputId": "8260beda-5c3d-4383-8db1-8519d1a972bf",
        "colab": {
          "base_uri": "https://localhost:8080/",
          "height": 215
        }
      },
      "execution_count": 73,
      "outputs": [
        {
          "output_type": "stream",
          "name": "stdout",
          "text": [
            "Preprocessing olympics_1896_2004.csv ...\n",
            "\n",
            "Preprocessing olympics_2008.csv ...\n",
            "\n"
          ]
        },
        {
          "output_type": "execute_result",
          "data": {
            "text/plain": [
              "       Year     City     Sport Discipline       Athlete Name  NOC Gender  \\\n",
              "16588  1980   Moscow   fencing    fencing  JABLKOWSKI, Piotr  POL    Men   \n",
              "18300  1988    Seoul  aquatics   swimming    PONTING, Thomas  CAN    Men   \n",
              "3567   1920  Antwerp    hockey     hockey         DUE, Steen  DEN    Men   \n",
              "\n",
              "                     Event Event Gender   Medal  \n",
              "16588            épée team            M  Silver  \n",
              "18300  4x100m medley relay            M  Silver  \n",
              "3567                hockey            M  Silver  "
            ],
            "text/html": [
              "\n",
              "  <div id=\"df-b959764e-62c6-46c2-9b96-63bfbd3ff2be\" class=\"colab-df-container\">\n",
              "    <div>\n",
              "<style scoped>\n",
              "    .dataframe tbody tr th:only-of-type {\n",
              "        vertical-align: middle;\n",
              "    }\n",
              "\n",
              "    .dataframe tbody tr th {\n",
              "        vertical-align: top;\n",
              "    }\n",
              "\n",
              "    .dataframe thead th {\n",
              "        text-align: right;\n",
              "    }\n",
              "</style>\n",
              "<table border=\"1\" class=\"dataframe\">\n",
              "  <thead>\n",
              "    <tr style=\"text-align: right;\">\n",
              "      <th></th>\n",
              "      <th>Year</th>\n",
              "      <th>City</th>\n",
              "      <th>Sport</th>\n",
              "      <th>Discipline</th>\n",
              "      <th>Athlete Name</th>\n",
              "      <th>NOC</th>\n",
              "      <th>Gender</th>\n",
              "      <th>Event</th>\n",
              "      <th>Event Gender</th>\n",
              "      <th>Medal</th>\n",
              "    </tr>\n",
              "  </thead>\n",
              "  <tbody>\n",
              "    <tr>\n",
              "      <th>16588</th>\n",
              "      <td>1980</td>\n",
              "      <td>Moscow</td>\n",
              "      <td>fencing</td>\n",
              "      <td>fencing</td>\n",
              "      <td>JABLKOWSKI, Piotr</td>\n",
              "      <td>POL</td>\n",
              "      <td>Men</td>\n",
              "      <td>épée team</td>\n",
              "      <td>M</td>\n",
              "      <td>Silver</td>\n",
              "    </tr>\n",
              "    <tr>\n",
              "      <th>18300</th>\n",
              "      <td>1988</td>\n",
              "      <td>Seoul</td>\n",
              "      <td>aquatics</td>\n",
              "      <td>swimming</td>\n",
              "      <td>PONTING, Thomas</td>\n",
              "      <td>CAN</td>\n",
              "      <td>Men</td>\n",
              "      <td>4x100m medley relay</td>\n",
              "      <td>M</td>\n",
              "      <td>Silver</td>\n",
              "    </tr>\n",
              "    <tr>\n",
              "      <th>3567</th>\n",
              "      <td>1920</td>\n",
              "      <td>Antwerp</td>\n",
              "      <td>hockey</td>\n",
              "      <td>hockey</td>\n",
              "      <td>DUE, Steen</td>\n",
              "      <td>DEN</td>\n",
              "      <td>Men</td>\n",
              "      <td>hockey</td>\n",
              "      <td>M</td>\n",
              "      <td>Silver</td>\n",
              "    </tr>\n",
              "  </tbody>\n",
              "</table>\n",
              "</div>\n",
              "    <div class=\"colab-df-buttons\">\n",
              "\n",
              "  <div class=\"colab-df-container\">\n",
              "    <button class=\"colab-df-convert\" onclick=\"convertToInteractive('df-b959764e-62c6-46c2-9b96-63bfbd3ff2be')\"\n",
              "            title=\"Convert this dataframe to an interactive table.\"\n",
              "            style=\"display:none;\">\n",
              "\n",
              "  <svg xmlns=\"http://www.w3.org/2000/svg\" height=\"24px\" viewBox=\"0 -960 960 960\">\n",
              "    <path d=\"M120-120v-720h720v720H120Zm60-500h600v-160H180v160Zm220 220h160v-160H400v160Zm0 220h160v-160H400v160ZM180-400h160v-160H180v160Zm440 0h160v-160H620v160ZM180-180h160v-160H180v160Zm440 0h160v-160H620v160Z\"/>\n",
              "  </svg>\n",
              "    </button>\n",
              "\n",
              "  <style>\n",
              "    .colab-df-container {\n",
              "      display:flex;\n",
              "      gap: 12px;\n",
              "    }\n",
              "\n",
              "    .colab-df-convert {\n",
              "      background-color: #E8F0FE;\n",
              "      border: none;\n",
              "      border-radius: 50%;\n",
              "      cursor: pointer;\n",
              "      display: none;\n",
              "      fill: #1967D2;\n",
              "      height: 32px;\n",
              "      padding: 0 0 0 0;\n",
              "      width: 32px;\n",
              "    }\n",
              "\n",
              "    .colab-df-convert:hover {\n",
              "      background-color: #E2EBFA;\n",
              "      box-shadow: 0px 1px 2px rgba(60, 64, 67, 0.3), 0px 1px 3px 1px rgba(60, 64, 67, 0.15);\n",
              "      fill: #174EA6;\n",
              "    }\n",
              "\n",
              "    .colab-df-buttons div {\n",
              "      margin-bottom: 4px;\n",
              "    }\n",
              "\n",
              "    [theme=dark] .colab-df-convert {\n",
              "      background-color: #3B4455;\n",
              "      fill: #D2E3FC;\n",
              "    }\n",
              "\n",
              "    [theme=dark] .colab-df-convert:hover {\n",
              "      background-color: #434B5C;\n",
              "      box-shadow: 0px 1px 3px 1px rgba(0, 0, 0, 0.15);\n",
              "      filter: drop-shadow(0px 1px 2px rgba(0, 0, 0, 0.3));\n",
              "      fill: #FFFFFF;\n",
              "    }\n",
              "  </style>\n",
              "\n",
              "    <script>\n",
              "      const buttonEl =\n",
              "        document.querySelector('#df-b959764e-62c6-46c2-9b96-63bfbd3ff2be button.colab-df-convert');\n",
              "      buttonEl.style.display =\n",
              "        google.colab.kernel.accessAllowed ? 'block' : 'none';\n",
              "\n",
              "      async function convertToInteractive(key) {\n",
              "        const element = document.querySelector('#df-b959764e-62c6-46c2-9b96-63bfbd3ff2be');\n",
              "        const dataTable =\n",
              "          await google.colab.kernel.invokeFunction('convertToInteractive',\n",
              "                                                    [key], {});\n",
              "        if (!dataTable) return;\n",
              "\n",
              "        const docLinkHtml = 'Like what you see? Visit the ' +\n",
              "          '<a target=\"_blank\" href=https://colab.research.google.com/notebooks/data_table.ipynb>data table notebook</a>'\n",
              "          + ' to learn more about interactive tables.';\n",
              "        element.innerHTML = '';\n",
              "        dataTable['output_type'] = 'display_data';\n",
              "        await google.colab.output.renderOutput(dataTable, element);\n",
              "        const docLink = document.createElement('div');\n",
              "        docLink.innerHTML = docLinkHtml;\n",
              "        element.appendChild(docLink);\n",
              "      }\n",
              "    </script>\n",
              "  </div>\n",
              "\n",
              "\n",
              "<div id=\"df-4038a068-ec1a-4d5f-9807-1a1fa21721d6\">\n",
              "  <button class=\"colab-df-quickchart\" onclick=\"quickchart('df-4038a068-ec1a-4d5f-9807-1a1fa21721d6')\"\n",
              "            title=\"Suggest charts\"\n",
              "            style=\"display:none;\">\n",
              "\n",
              "<svg xmlns=\"http://www.w3.org/2000/svg\" height=\"24px\"viewBox=\"0 0 24 24\"\n",
              "     width=\"24px\">\n",
              "    <g>\n",
              "        <path d=\"M19 3H5c-1.1 0-2 .9-2 2v14c0 1.1.9 2 2 2h14c1.1 0 2-.9 2-2V5c0-1.1-.9-2-2-2zM9 17H7v-7h2v7zm4 0h-2V7h2v10zm4 0h-2v-4h2v4z\"/>\n",
              "    </g>\n",
              "</svg>\n",
              "  </button>\n",
              "\n",
              "<style>\n",
              "  .colab-df-quickchart {\n",
              "      --bg-color: #E8F0FE;\n",
              "      --fill-color: #1967D2;\n",
              "      --hover-bg-color: #E2EBFA;\n",
              "      --hover-fill-color: #174EA6;\n",
              "      --disabled-fill-color: #AAA;\n",
              "      --disabled-bg-color: #DDD;\n",
              "  }\n",
              "\n",
              "  [theme=dark] .colab-df-quickchart {\n",
              "      --bg-color: #3B4455;\n",
              "      --fill-color: #D2E3FC;\n",
              "      --hover-bg-color: #434B5C;\n",
              "      --hover-fill-color: #FFFFFF;\n",
              "      --disabled-bg-color: #3B4455;\n",
              "      --disabled-fill-color: #666;\n",
              "  }\n",
              "\n",
              "  .colab-df-quickchart {\n",
              "    background-color: var(--bg-color);\n",
              "    border: none;\n",
              "    border-radius: 50%;\n",
              "    cursor: pointer;\n",
              "    display: none;\n",
              "    fill: var(--fill-color);\n",
              "    height: 32px;\n",
              "    padding: 0;\n",
              "    width: 32px;\n",
              "  }\n",
              "\n",
              "  .colab-df-quickchart:hover {\n",
              "    background-color: var(--hover-bg-color);\n",
              "    box-shadow: 0 1px 2px rgba(60, 64, 67, 0.3), 0 1px 3px 1px rgba(60, 64, 67, 0.15);\n",
              "    fill: var(--button-hover-fill-color);\n",
              "  }\n",
              "\n",
              "  .colab-df-quickchart-complete:disabled,\n",
              "  .colab-df-quickchart-complete:disabled:hover {\n",
              "    background-color: var(--disabled-bg-color);\n",
              "    fill: var(--disabled-fill-color);\n",
              "    box-shadow: none;\n",
              "  }\n",
              "\n",
              "  .colab-df-spinner {\n",
              "    border: 2px solid var(--fill-color);\n",
              "    border-color: transparent;\n",
              "    border-bottom-color: var(--fill-color);\n",
              "    animation:\n",
              "      spin 1s steps(1) infinite;\n",
              "  }\n",
              "\n",
              "  @keyframes spin {\n",
              "    0% {\n",
              "      border-color: transparent;\n",
              "      border-bottom-color: var(--fill-color);\n",
              "      border-left-color: var(--fill-color);\n",
              "    }\n",
              "    20% {\n",
              "      border-color: transparent;\n",
              "      border-left-color: var(--fill-color);\n",
              "      border-top-color: var(--fill-color);\n",
              "    }\n",
              "    30% {\n",
              "      border-color: transparent;\n",
              "      border-left-color: var(--fill-color);\n",
              "      border-top-color: var(--fill-color);\n",
              "      border-right-color: var(--fill-color);\n",
              "    }\n",
              "    40% {\n",
              "      border-color: transparent;\n",
              "      border-right-color: var(--fill-color);\n",
              "      border-top-color: var(--fill-color);\n",
              "    }\n",
              "    60% {\n",
              "      border-color: transparent;\n",
              "      border-right-color: var(--fill-color);\n",
              "    }\n",
              "    80% {\n",
              "      border-color: transparent;\n",
              "      border-right-color: var(--fill-color);\n",
              "      border-bottom-color: var(--fill-color);\n",
              "    }\n",
              "    90% {\n",
              "      border-color: transparent;\n",
              "      border-bottom-color: var(--fill-color);\n",
              "    }\n",
              "  }\n",
              "</style>\n",
              "\n",
              "  <script>\n",
              "    async function quickchart(key) {\n",
              "      const quickchartButtonEl =\n",
              "        document.querySelector('#' + key + ' button');\n",
              "      quickchartButtonEl.disabled = true;  // To prevent multiple clicks.\n",
              "      quickchartButtonEl.classList.add('colab-df-spinner');\n",
              "      try {\n",
              "        const charts = await google.colab.kernel.invokeFunction(\n",
              "            'suggestCharts', [key], {});\n",
              "      } catch (error) {\n",
              "        console.error('Error during call to suggestCharts:', error);\n",
              "      }\n",
              "      quickchartButtonEl.classList.remove('colab-df-spinner');\n",
              "      quickchartButtonEl.classList.add('colab-df-quickchart-complete');\n",
              "    }\n",
              "    (() => {\n",
              "      let quickchartButtonEl =\n",
              "        document.querySelector('#df-4038a068-ec1a-4d5f-9807-1a1fa21721d6 button');\n",
              "      quickchartButtonEl.style.display =\n",
              "        google.colab.kernel.accessAllowed ? 'block' : 'none';\n",
              "    })();\n",
              "  </script>\n",
              "</div>\n",
              "\n",
              "    </div>\n",
              "  </div>\n"
            ],
            "application/vnd.google.colaboratory.intrinsic+json": {
              "type": "dataframe",
              "summary": "{\n  \"name\": \"up\",\n  \"rows\": 3,\n  \"fields\": [\n    {\n      \"column\": \"Year\",\n      \"properties\": {\n        \"dtype\": \"number\",\n        \"std\": 37,\n        \"min\": 1920,\n        \"max\": 1988,\n        \"num_unique_values\": 3,\n        \"samples\": [\n          1980,\n          1988,\n          1920\n        ],\n        \"semantic_type\": \"\",\n        \"description\": \"\"\n      }\n    },\n    {\n      \"column\": \"City\",\n      \"properties\": {\n        \"dtype\": \"string\",\n        \"num_unique_values\": 3,\n        \"samples\": [\n          \"Moscow\",\n          \"Seoul\",\n          \"Antwerp\"\n        ],\n        \"semantic_type\": \"\",\n        \"description\": \"\"\n      }\n    },\n    {\n      \"column\": \"Sport\",\n      \"properties\": {\n        \"dtype\": \"string\",\n        \"num_unique_values\": 3,\n        \"samples\": [\n          \"fencing\",\n          \"aquatics\",\n          \"hockey\"\n        ],\n        \"semantic_type\": \"\",\n        \"description\": \"\"\n      }\n    },\n    {\n      \"column\": \"Discipline\",\n      \"properties\": {\n        \"dtype\": \"string\",\n        \"num_unique_values\": 3,\n        \"samples\": [\n          \"fencing\",\n          \"swimming\",\n          \"hockey\"\n        ],\n        \"semantic_type\": \"\",\n        \"description\": \"\"\n      }\n    },\n    {\n      \"column\": \"Athlete Name\",\n      \"properties\": {\n        \"dtype\": \"string\",\n        \"num_unique_values\": 3,\n        \"samples\": [\n          \"JABLKOWSKI, Piotr\",\n          \"PONTING, Thomas\",\n          \"DUE, Steen\"\n        ],\n        \"semantic_type\": \"\",\n        \"description\": \"\"\n      }\n    },\n    {\n      \"column\": \"NOC\",\n      \"properties\": {\n        \"dtype\": \"string\",\n        \"num_unique_values\": 3,\n        \"samples\": [\n          \"POL\",\n          \"CAN\",\n          \"DEN\"\n        ],\n        \"semantic_type\": \"\",\n        \"description\": \"\"\n      }\n    },\n    {\n      \"column\": \"Gender\",\n      \"properties\": {\n        \"dtype\": \"category\",\n        \"num_unique_values\": 1,\n        \"samples\": [\n          \"Men\"\n        ],\n        \"semantic_type\": \"\",\n        \"description\": \"\"\n      }\n    },\n    {\n      \"column\": \"Event\",\n      \"properties\": {\n        \"dtype\": \"string\",\n        \"num_unique_values\": 3,\n        \"samples\": [\n          \"\\u00e9p\\u00e9e team\"\n        ],\n        \"semantic_type\": \"\",\n        \"description\": \"\"\n      }\n    },\n    {\n      \"column\": \"Event Gender\",\n      \"properties\": {\n        \"dtype\": \"category\",\n        \"num_unique_values\": 1,\n        \"samples\": [\n          \"M\"\n        ],\n        \"semantic_type\": \"\",\n        \"description\": \"\"\n      }\n    },\n    {\n      \"column\": \"Medal\",\n      \"properties\": {\n        \"dtype\": \"category\",\n        \"num_unique_values\": 1,\n        \"samples\": [\n          \"Silver\"\n        ],\n        \"semantic_type\": \"\",\n        \"description\": \"\"\n      }\n    }\n  ]\n}"
            }
          },
          "metadata": {},
          "execution_count": 73
        }
      ]
    },
    {
      "cell_type": "markdown",
      "source": [
        "**Using a line graph, plot the number of gold medals won by the USA male and female Olympians throughout the history of the Olympics?\n",
        "Distinguish between the male and female Olympians in the line graph using blue and pink**"
      ],
      "metadata": {
        "id": "r5o55t_3uuwb"
      }
    },
    {
      "cell_type": "code",
      "source": [
        "up.head()\n",
        "#plan: use matplotlib for the line graph, use seaborn for colors?"
      ],
      "metadata": {
        "id": "C_RNt_Ef639H",
        "outputId": "6bda8591-5154-47ab-b36f-478dd4fd92ac",
        "colab": {
          "base_uri": "https://localhost:8080/",
          "height": 206
        }
      },
      "execution_count": 74,
      "outputs": [
        {
          "output_type": "execute_result",
          "data": {
            "text/plain": [
              "   Year    City      Sport     Discipline        Athlete Name  NOC Gender  \\\n",
              "0  1896  Athens    cycling  cycling track       FLAMENG, Léon  FRA    Men   \n",
              "1  1896  Athens    cycling  cycling track  KOLETTIS, Georgios  GRE    Men   \n",
              "2  1896  Athens  athletics      athletics       LANE, Francis  USA    Men   \n",
              "3  1896  Athens  athletics      athletics    SZOKOLYI, Alajos  HUN    Men   \n",
              "4  1896  Athens  athletics      athletics       BURKE, Thomas  USA    Men   \n",
              "\n",
              "   Event Event Gender   Medal  \n",
              "0  100km            M    Gold  \n",
              "1  100km            M  Silver  \n",
              "2   100m            M  Bronze  \n",
              "3   100m            M  Bronze  \n",
              "4   100m            M    Gold  "
            ],
            "text/html": [
              "\n",
              "  <div id=\"df-c5d32b3f-a3e1-41b2-bbdb-e540d14e3cc5\" class=\"colab-df-container\">\n",
              "    <div>\n",
              "<style scoped>\n",
              "    .dataframe tbody tr th:only-of-type {\n",
              "        vertical-align: middle;\n",
              "    }\n",
              "\n",
              "    .dataframe tbody tr th {\n",
              "        vertical-align: top;\n",
              "    }\n",
              "\n",
              "    .dataframe thead th {\n",
              "        text-align: right;\n",
              "    }\n",
              "</style>\n",
              "<table border=\"1\" class=\"dataframe\">\n",
              "  <thead>\n",
              "    <tr style=\"text-align: right;\">\n",
              "      <th></th>\n",
              "      <th>Year</th>\n",
              "      <th>City</th>\n",
              "      <th>Sport</th>\n",
              "      <th>Discipline</th>\n",
              "      <th>Athlete Name</th>\n",
              "      <th>NOC</th>\n",
              "      <th>Gender</th>\n",
              "      <th>Event</th>\n",
              "      <th>Event Gender</th>\n",
              "      <th>Medal</th>\n",
              "    </tr>\n",
              "  </thead>\n",
              "  <tbody>\n",
              "    <tr>\n",
              "      <th>0</th>\n",
              "      <td>1896</td>\n",
              "      <td>Athens</td>\n",
              "      <td>cycling</td>\n",
              "      <td>cycling track</td>\n",
              "      <td>FLAMENG, Léon</td>\n",
              "      <td>FRA</td>\n",
              "      <td>Men</td>\n",
              "      <td>100km</td>\n",
              "      <td>M</td>\n",
              "      <td>Gold</td>\n",
              "    </tr>\n",
              "    <tr>\n",
              "      <th>1</th>\n",
              "      <td>1896</td>\n",
              "      <td>Athens</td>\n",
              "      <td>cycling</td>\n",
              "      <td>cycling track</td>\n",
              "      <td>KOLETTIS, Georgios</td>\n",
              "      <td>GRE</td>\n",
              "      <td>Men</td>\n",
              "      <td>100km</td>\n",
              "      <td>M</td>\n",
              "      <td>Silver</td>\n",
              "    </tr>\n",
              "    <tr>\n",
              "      <th>2</th>\n",
              "      <td>1896</td>\n",
              "      <td>Athens</td>\n",
              "      <td>athletics</td>\n",
              "      <td>athletics</td>\n",
              "      <td>LANE, Francis</td>\n",
              "      <td>USA</td>\n",
              "      <td>Men</td>\n",
              "      <td>100m</td>\n",
              "      <td>M</td>\n",
              "      <td>Bronze</td>\n",
              "    </tr>\n",
              "    <tr>\n",
              "      <th>3</th>\n",
              "      <td>1896</td>\n",
              "      <td>Athens</td>\n",
              "      <td>athletics</td>\n",
              "      <td>athletics</td>\n",
              "      <td>SZOKOLYI, Alajos</td>\n",
              "      <td>HUN</td>\n",
              "      <td>Men</td>\n",
              "      <td>100m</td>\n",
              "      <td>M</td>\n",
              "      <td>Bronze</td>\n",
              "    </tr>\n",
              "    <tr>\n",
              "      <th>4</th>\n",
              "      <td>1896</td>\n",
              "      <td>Athens</td>\n",
              "      <td>athletics</td>\n",
              "      <td>athletics</td>\n",
              "      <td>BURKE, Thomas</td>\n",
              "      <td>USA</td>\n",
              "      <td>Men</td>\n",
              "      <td>100m</td>\n",
              "      <td>M</td>\n",
              "      <td>Gold</td>\n",
              "    </tr>\n",
              "  </tbody>\n",
              "</table>\n",
              "</div>\n",
              "    <div class=\"colab-df-buttons\">\n",
              "\n",
              "  <div class=\"colab-df-container\">\n",
              "    <button class=\"colab-df-convert\" onclick=\"convertToInteractive('df-c5d32b3f-a3e1-41b2-bbdb-e540d14e3cc5')\"\n",
              "            title=\"Convert this dataframe to an interactive table.\"\n",
              "            style=\"display:none;\">\n",
              "\n",
              "  <svg xmlns=\"http://www.w3.org/2000/svg\" height=\"24px\" viewBox=\"0 -960 960 960\">\n",
              "    <path d=\"M120-120v-720h720v720H120Zm60-500h600v-160H180v160Zm220 220h160v-160H400v160Zm0 220h160v-160H400v160ZM180-400h160v-160H180v160Zm440 0h160v-160H620v160ZM180-180h160v-160H180v160Zm440 0h160v-160H620v160Z\"/>\n",
              "  </svg>\n",
              "    </button>\n",
              "\n",
              "  <style>\n",
              "    .colab-df-container {\n",
              "      display:flex;\n",
              "      gap: 12px;\n",
              "    }\n",
              "\n",
              "    .colab-df-convert {\n",
              "      background-color: #E8F0FE;\n",
              "      border: none;\n",
              "      border-radius: 50%;\n",
              "      cursor: pointer;\n",
              "      display: none;\n",
              "      fill: #1967D2;\n",
              "      height: 32px;\n",
              "      padding: 0 0 0 0;\n",
              "      width: 32px;\n",
              "    }\n",
              "\n",
              "    .colab-df-convert:hover {\n",
              "      background-color: #E2EBFA;\n",
              "      box-shadow: 0px 1px 2px rgba(60, 64, 67, 0.3), 0px 1px 3px 1px rgba(60, 64, 67, 0.15);\n",
              "      fill: #174EA6;\n",
              "    }\n",
              "\n",
              "    .colab-df-buttons div {\n",
              "      margin-bottom: 4px;\n",
              "    }\n",
              "\n",
              "    [theme=dark] .colab-df-convert {\n",
              "      background-color: #3B4455;\n",
              "      fill: #D2E3FC;\n",
              "    }\n",
              "\n",
              "    [theme=dark] .colab-df-convert:hover {\n",
              "      background-color: #434B5C;\n",
              "      box-shadow: 0px 1px 3px 1px rgba(0, 0, 0, 0.15);\n",
              "      filter: drop-shadow(0px 1px 2px rgba(0, 0, 0, 0.3));\n",
              "      fill: #FFFFFF;\n",
              "    }\n",
              "  </style>\n",
              "\n",
              "    <script>\n",
              "      const buttonEl =\n",
              "        document.querySelector('#df-c5d32b3f-a3e1-41b2-bbdb-e540d14e3cc5 button.colab-df-convert');\n",
              "      buttonEl.style.display =\n",
              "        google.colab.kernel.accessAllowed ? 'block' : 'none';\n",
              "\n",
              "      async function convertToInteractive(key) {\n",
              "        const element = document.querySelector('#df-c5d32b3f-a3e1-41b2-bbdb-e540d14e3cc5');\n",
              "        const dataTable =\n",
              "          await google.colab.kernel.invokeFunction('convertToInteractive',\n",
              "                                                    [key], {});\n",
              "        if (!dataTable) return;\n",
              "\n",
              "        const docLinkHtml = 'Like what you see? Visit the ' +\n",
              "          '<a target=\"_blank\" href=https://colab.research.google.com/notebooks/data_table.ipynb>data table notebook</a>'\n",
              "          + ' to learn more about interactive tables.';\n",
              "        element.innerHTML = '';\n",
              "        dataTable['output_type'] = 'display_data';\n",
              "        await google.colab.output.renderOutput(dataTable, element);\n",
              "        const docLink = document.createElement('div');\n",
              "        docLink.innerHTML = docLinkHtml;\n",
              "        element.appendChild(docLink);\n",
              "      }\n",
              "    </script>\n",
              "  </div>\n",
              "\n",
              "\n",
              "<div id=\"df-aa5dba05-012d-4fdf-96e5-d237b70e4872\">\n",
              "  <button class=\"colab-df-quickchart\" onclick=\"quickchart('df-aa5dba05-012d-4fdf-96e5-d237b70e4872')\"\n",
              "            title=\"Suggest charts\"\n",
              "            style=\"display:none;\">\n",
              "\n",
              "<svg xmlns=\"http://www.w3.org/2000/svg\" height=\"24px\"viewBox=\"0 0 24 24\"\n",
              "     width=\"24px\">\n",
              "    <g>\n",
              "        <path d=\"M19 3H5c-1.1 0-2 .9-2 2v14c0 1.1.9 2 2 2h14c1.1 0 2-.9 2-2V5c0-1.1-.9-2-2-2zM9 17H7v-7h2v7zm4 0h-2V7h2v10zm4 0h-2v-4h2v4z\"/>\n",
              "    </g>\n",
              "</svg>\n",
              "  </button>\n",
              "\n",
              "<style>\n",
              "  .colab-df-quickchart {\n",
              "      --bg-color: #E8F0FE;\n",
              "      --fill-color: #1967D2;\n",
              "      --hover-bg-color: #E2EBFA;\n",
              "      --hover-fill-color: #174EA6;\n",
              "      --disabled-fill-color: #AAA;\n",
              "      --disabled-bg-color: #DDD;\n",
              "  }\n",
              "\n",
              "  [theme=dark] .colab-df-quickchart {\n",
              "      --bg-color: #3B4455;\n",
              "      --fill-color: #D2E3FC;\n",
              "      --hover-bg-color: #434B5C;\n",
              "      --hover-fill-color: #FFFFFF;\n",
              "      --disabled-bg-color: #3B4455;\n",
              "      --disabled-fill-color: #666;\n",
              "  }\n",
              "\n",
              "  .colab-df-quickchart {\n",
              "    background-color: var(--bg-color);\n",
              "    border: none;\n",
              "    border-radius: 50%;\n",
              "    cursor: pointer;\n",
              "    display: none;\n",
              "    fill: var(--fill-color);\n",
              "    height: 32px;\n",
              "    padding: 0;\n",
              "    width: 32px;\n",
              "  }\n",
              "\n",
              "  .colab-df-quickchart:hover {\n",
              "    background-color: var(--hover-bg-color);\n",
              "    box-shadow: 0 1px 2px rgba(60, 64, 67, 0.3), 0 1px 3px 1px rgba(60, 64, 67, 0.15);\n",
              "    fill: var(--button-hover-fill-color);\n",
              "  }\n",
              "\n",
              "  .colab-df-quickchart-complete:disabled,\n",
              "  .colab-df-quickchart-complete:disabled:hover {\n",
              "    background-color: var(--disabled-bg-color);\n",
              "    fill: var(--disabled-fill-color);\n",
              "    box-shadow: none;\n",
              "  }\n",
              "\n",
              "  .colab-df-spinner {\n",
              "    border: 2px solid var(--fill-color);\n",
              "    border-color: transparent;\n",
              "    border-bottom-color: var(--fill-color);\n",
              "    animation:\n",
              "      spin 1s steps(1) infinite;\n",
              "  }\n",
              "\n",
              "  @keyframes spin {\n",
              "    0% {\n",
              "      border-color: transparent;\n",
              "      border-bottom-color: var(--fill-color);\n",
              "      border-left-color: var(--fill-color);\n",
              "    }\n",
              "    20% {\n",
              "      border-color: transparent;\n",
              "      border-left-color: var(--fill-color);\n",
              "      border-top-color: var(--fill-color);\n",
              "    }\n",
              "    30% {\n",
              "      border-color: transparent;\n",
              "      border-left-color: var(--fill-color);\n",
              "      border-top-color: var(--fill-color);\n",
              "      border-right-color: var(--fill-color);\n",
              "    }\n",
              "    40% {\n",
              "      border-color: transparent;\n",
              "      border-right-color: var(--fill-color);\n",
              "      border-top-color: var(--fill-color);\n",
              "    }\n",
              "    60% {\n",
              "      border-color: transparent;\n",
              "      border-right-color: var(--fill-color);\n",
              "    }\n",
              "    80% {\n",
              "      border-color: transparent;\n",
              "      border-right-color: var(--fill-color);\n",
              "      border-bottom-color: var(--fill-color);\n",
              "    }\n",
              "    90% {\n",
              "      border-color: transparent;\n",
              "      border-bottom-color: var(--fill-color);\n",
              "    }\n",
              "  }\n",
              "</style>\n",
              "\n",
              "  <script>\n",
              "    async function quickchart(key) {\n",
              "      const quickchartButtonEl =\n",
              "        document.querySelector('#' + key + ' button');\n",
              "      quickchartButtonEl.disabled = true;  // To prevent multiple clicks.\n",
              "      quickchartButtonEl.classList.add('colab-df-spinner');\n",
              "      try {\n",
              "        const charts = await google.colab.kernel.invokeFunction(\n",
              "            'suggestCharts', [key], {});\n",
              "      } catch (error) {\n",
              "        console.error('Error during call to suggestCharts:', error);\n",
              "      }\n",
              "      quickchartButtonEl.classList.remove('colab-df-spinner');\n",
              "      quickchartButtonEl.classList.add('colab-df-quickchart-complete');\n",
              "    }\n",
              "    (() => {\n",
              "      let quickchartButtonEl =\n",
              "        document.querySelector('#df-aa5dba05-012d-4fdf-96e5-d237b70e4872 button');\n",
              "      quickchartButtonEl.style.display =\n",
              "        google.colab.kernel.accessAllowed ? 'block' : 'none';\n",
              "    })();\n",
              "  </script>\n",
              "</div>\n",
              "\n",
              "    </div>\n",
              "  </div>\n"
            ],
            "application/vnd.google.colaboratory.intrinsic+json": {
              "type": "dataframe",
              "summary": "{\n  \"name\": \"#plan: use matplotlib for the line graph, use seaborn for colors?\",\n  \"rows\": 5,\n  \"fields\": [\n    {\n      \"column\": \"Year\",\n      \"properties\": {\n        \"dtype\": \"number\",\n        \"std\": 0,\n        \"min\": 1896,\n        \"max\": 1896,\n        \"num_unique_values\": 1,\n        \"samples\": [\n          1896\n        ],\n        \"semantic_type\": \"\",\n        \"description\": \"\"\n      }\n    },\n    {\n      \"column\": \"City\",\n      \"properties\": {\n        \"dtype\": \"string\",\n        \"num_unique_values\": 1,\n        \"samples\": [\n          \"Athens\"\n        ],\n        \"semantic_type\": \"\",\n        \"description\": \"\"\n      }\n    },\n    {\n      \"column\": \"Sport\",\n      \"properties\": {\n        \"dtype\": \"string\",\n        \"num_unique_values\": 2,\n        \"samples\": [\n          \"athletics\"\n        ],\n        \"semantic_type\": \"\",\n        \"description\": \"\"\n      }\n    },\n    {\n      \"column\": \"Discipline\",\n      \"properties\": {\n        \"dtype\": \"string\",\n        \"num_unique_values\": 2,\n        \"samples\": [\n          \"athletics\"\n        ],\n        \"semantic_type\": \"\",\n        \"description\": \"\"\n      }\n    },\n    {\n      \"column\": \"Athlete Name\",\n      \"properties\": {\n        \"dtype\": \"string\",\n        \"num_unique_values\": 5,\n        \"samples\": [\n          \"KOLETTIS, Georgios\"\n        ],\n        \"semantic_type\": \"\",\n        \"description\": \"\"\n      }\n    },\n    {\n      \"column\": \"NOC\",\n      \"properties\": {\n        \"dtype\": \"string\",\n        \"num_unique_values\": 4,\n        \"samples\": [\n          \"GRE\"\n        ],\n        \"semantic_type\": \"\",\n        \"description\": \"\"\n      }\n    },\n    {\n      \"column\": \"Gender\",\n      \"properties\": {\n        \"dtype\": \"category\",\n        \"num_unique_values\": 1,\n        \"samples\": [\n          \"Men\"\n        ],\n        \"semantic_type\": \"\",\n        \"description\": \"\"\n      }\n    },\n    {\n      \"column\": \"Event\",\n      \"properties\": {\n        \"dtype\": \"string\",\n        \"num_unique_values\": 2,\n        \"samples\": [\n          \"100m\"\n        ],\n        \"semantic_type\": \"\",\n        \"description\": \"\"\n      }\n    },\n    {\n      \"column\": \"Event Gender\",\n      \"properties\": {\n        \"dtype\": \"category\",\n        \"num_unique_values\": 1,\n        \"samples\": [\n          \"M\"\n        ],\n        \"semantic_type\": \"\",\n        \"description\": \"\"\n      }\n    },\n    {\n      \"column\": \"Medal\",\n      \"properties\": {\n        \"dtype\": \"category\",\n        \"num_unique_values\": 3,\n        \"samples\": [\n          \"Gold\"\n        ],\n        \"semantic_type\": \"\",\n        \"description\": \"\"\n      }\n    }\n  ]\n}"
            }
          },
          "metadata": {},
          "execution_count": 74
        }
      ]
    },
    {
      "cell_type": "code",
      "source": [
        "#Goal: x axis = time , for each year have only gold medals(split into men and women columns)\n",
        "# Note: each line of code has an explanation comment\n",
        "\n",
        "\n",
        "# Organization of DataFrame:\n",
        "\n",
        "new_df = (up\n",
        "          .loc[(up['Medal'] == 'Gold') & (up['NOC'] == 'USA')] #Filtered to have only USA and Gold\n",
        "          .groupby(['Year', 'Gender'])['Medal'] #grouping by the Year and then by the Gender, with the focus on Medals data\n",
        "          .count() # counting up the Medals, which can be done since we filtered for 'Gold' earlier (hence effectively counting up the Golds per category)\n",
        "          .unstack('Gender') # moves the 'Gender's into columns, to have a column for each Gender to enable effective plotting (better format for visualization)\n",
        "          )\n",
        "\n",
        "#new_df = (up\n",
        "#          .groupby(['Year', 'Gender'])['Medal']\n",
        "#          .count()\n",
        "#          .unstack('Gender')\n",
        "#          )\n",
        "\n",
        "new_df.head() # used to check dataframe format at each step\n",
        "#new_df.title(\"USA Men and Women's Gold medals over the years\")\n",
        "new_df.plot(kind = 'line', color=('blue', 'pink')) #line plot, and color the lines as desired\n",
        "\n",
        "#new_new_df = (up[['Year','Gender', 'Medal']]\n",
        "              #.unstack('Gender')\n",
        "#              .set_index('Year')\n",
        "#              )\n",
        "\n",
        "#test = new_new_df.loc[new_new_df['Medal'] == 'Gold']\n",
        "#test\n",
        "\n",
        "# Visualization of DataFrame:\n",
        "\n",
        "#test.plot(kind = 'line')\n",
        "\n",
        "#test.head()\n",
        "#test.plot(kind = \"line\")\n",
        "\n",
        "#new_df.head()\n",
        "#new_df.plot(kind = \"line\")\n",
        "\n",
        "#new_new_df.head()\n",
        "#new_new_df.plot(kind = \"line\")"
      ],
      "metadata": {
        "id": "tPo87cLy4DAJ",
        "outputId": "3519c4f4-792f-4621-fab4-a941f0c2cec6",
        "colab": {
          "base_uri": "https://localhost:8080/",
          "height": 467
        }
      },
      "execution_count": 272,
      "outputs": [
        {
          "output_type": "execute_result",
          "data": {
            "text/plain": [
              "<Axes: xlabel='Year'>"
            ]
          },
          "metadata": {},
          "execution_count": 272
        },
        {
          "output_type": "display_data",
          "data": {
            "text/plain": [
              "<Figure size 640x480 with 1 Axes>"
            ],
            "image/png": "[encoded data removed]"
          },
          "metadata": {}
        }
      ]
    },
    {
      "cell_type": "markdown",
      "source": [
        "**Using a bar chart, plot the 5 Olympians who have won the most gold medals from the dataset (1896 to 2008). When there is a tie, consider the number of silver medals, then bronze medals.**"
      ],
      "metadata": {
        "id": "Tb5t8FCK3hwH"
      }
    },
    {
      "cell_type": "code",
      "source": [],
      "metadata": {
        "id": "RUNs3y9M2s8w"
      },
      "execution_count": null,
      "outputs": []
    },
    {
      "cell_type": "markdown",
      "source": [
        "##Solution"
      ],
      "metadata": {
        "id": "UeJT-eycu6o9"
      }
    },
    {
      "cell_type": "markdown",
      "source": [
        "**Using a line graph, plot the number of gold medals won by the USA male and female Olympians throughout the history of the Olympics?\n",
        "Distinguish between the male and female Olympians in the line graph using blue (male) and pink (female)**"
      ],
      "metadata": {
        "id": "Q9Qf05NHu6o9"
      }
    },
    {
      "cell_type": "code",
      "source": [
        "!pip install --quiet pandas==2.0.2\n",
        "\n",
        "import pandas as pd\n",
        "from pathlib import Path\n",
        "import matplotlib.pyplot as plt\n",
        "\n",
        "if not Path(\"olympics_1896_2004.csv\").exists():\n",
        "  !wget https://github.com/jonfernandes/pandas_essential/raw/main/olympics_1896_2004.csv\n",
        "if not Path(\"olympics_2008.csv\").exists():\n",
        "  !wget https://github.com/jonfernandes/pandas_essential/raw/main/olympics_2008.csv\n",
        "\n",
        "filename = \"olympics_1896_2004.csv\"\n",
        "print(\"Installed all of the necessary files for this section ...\")"
      ],
      "metadata": {
        "id": "dYNEO227vQiv"
      },
      "execution_count": null,
      "outputs": []
    },
    {
      "cell_type": "code",
      "source": [
        "def preprocess(filename = \"olympics_1896_2004.csv\"):\n",
        "  \"\"\"Preparing and transforming dataframe\"\"\"\n",
        "  print(f\"Preprocessing {filename} ...\\n\")\n",
        "  ordered_medals = pd.api.types.CategoricalDtype(categories=[\"Bronze\", \"Silver\", \"Gold\"], ordered=True)\n",
        "  dtype_mapper = {\"Year\": \"int64\",\n",
        "                \"City\": \"string\",\n",
        "                \"Sport\": \"string\",\n",
        "                \"Discipline\": \"string\",\n",
        "                \"Athlete Name\": \"string\",\n",
        "                \"NOC\": \"string\",\n",
        "                \"Gender\": \"category\",\n",
        "                \"Event\": \"string\",\n",
        "                \"Event_gender\": \"category\",\n",
        "                \"Medal\": ordered_medals}\n",
        "  df = pd.read_csv(filename, skiprows=5, dtype=dtype_mapper)\n",
        "  df = df.drop('Position', axis=1)\n",
        "  df[\"Event Gender\"] = df[\"Event Gender\"].astype(\"category\")\n",
        "  df.loc[24676, \"Gender\"] = \"Women\"\n",
        "  df.Sport = df.Sport.str.lower()\n",
        "  df.Discipline = df.Discipline.str.lower()\n",
        "  df.Event = df.Event.str.lower()\n",
        "  df.NOC = df.NOC.str.upper()\n",
        "  return df\n",
        "\n",
        "def preprocess_2008(filename=\"olympics_2008.csv\"):\n",
        "  print(f\"Preprocessing {filename} ...\\n\")\n",
        "  df = pd.read_csv(filename)\n",
        "  df.columns = ['City', 'Year', 'Sport', 'Discipline', 'Athlete Name', 'NOC',\n",
        "       'Gender', 'Event', 'Event Gender', 'Medal', 'Result']\n",
        "  df = df.drop(\"Result\", axis=1)\n",
        "  df.City = df.City.fillna(value=\"Beijing\")\n",
        "  df.Year = df.Year.fillna(value=2008)\n",
        "  df = df.dropna(subset=['Sport', 'Discipline', 'Athlete Name', 'NOC', 'Gender',\n",
        "       'Event', 'Event Gender', 'Medal'], how=\"all\")\n",
        "  df = df.drop_duplicates()\n",
        "  df.Sport = df.Sport.str.lower()\n",
        "  df.Discipline = df.Discipline.str.lower()\n",
        "  df.Event = df.Event.str.lower()\n",
        "  df.NOC = df.NOC.str.upper()\n",
        "  df.Medal = df.Medal.str.capitalize()\n",
        "  df.City = df.City.astype(\"string\")\n",
        "  df.Year = df.Year.astype(int)\n",
        "  df.Sport = df.Sport.astype(\"string\")\n",
        "  df.Discipline = df.Discipline.astype(\"string\")\n",
        "  df[\"Athlete Name\"] = df[\"Athlete Name\"].astype(\"string\")\n",
        "  df.NOC = df.NOC.astype(\"string\")\n",
        "  df.Gender = df.Gender.astype(\"category\")\n",
        "  df.Event = df.Event.astype(\"string\")\n",
        "  df['Event Gender'] = df['Event Gender'].astype(\"category\")\n",
        "  medal_order = [\"Bronze\", \"Silver\", \"Gold\"]\n",
        "  df.Medal = pd.Categorical(df.Medal, categories=medal_order, ordered=True)\n",
        "\n",
        "  return df\n",
        "\n",
        "oo = preprocess()\n",
        "nw = preprocess_2008()\n",
        "up = pd.concat([oo, nw])\n",
        "up.sample(3)"
      ],
      "metadata": {
        "id": "QEVPTHlIvQiw"
      },
      "execution_count": null,
      "outputs": []
    },
    {
      "cell_type": "code",
      "source": [
        "usa_gold = up[(up.NOC == 'USA') & (up.Medal == 'Gold')]\n",
        "usa_gold"
      ],
      "metadata": {
        "id": "MphlXj4BvXNa"
      },
      "execution_count": null,
      "outputs": []
    },
    {
      "cell_type": "code",
      "source": [
        "usa_gold.groupby(['Year', 'Gender']).size()"
      ],
      "metadata": {
        "id": "cC_5dpdrvXKK"
      },
      "execution_count": null,
      "outputs": []
    },
    {
      "cell_type": "code",
      "source": [
        "usa_gold.groupby(['Year', 'Gender']).size().index"
      ],
      "metadata": {
        "id": "O5dFukxku6o-"
      },
      "execution_count": null,
      "outputs": []
    },
    {
      "cell_type": "code",
      "source": [
        "usa_gold.groupby(['Year', 'Gender']).size().plot(kind='line')"
      ],
      "metadata": {
        "id": "0Wz1wAS4z-xZ"
      },
      "execution_count": null,
      "outputs": []
    },
    {
      "cell_type": "code",
      "source": [
        "usa_gold.groupby(['Year', 'Gender']).size()"
      ],
      "metadata": {
        "id": "R_XDcQRT1A07"
      },
      "execution_count": null,
      "outputs": []
    },
    {
      "cell_type": "code",
      "source": [
        "usa_gold.groupby(['Year', 'Gender']).size().unstack('Gender')"
      ],
      "metadata": {
        "id": "v13F5zuIwuFm"
      },
      "execution_count": null,
      "outputs": []
    },
    {
      "cell_type": "code",
      "source": [
        "usa_gold.groupby(['Year', 'Gender']).size().unstack('Gender').plot(kind='line')"
      ],
      "metadata": {
        "id": "Ss-ROTMkwuCk"
      },
      "execution_count": null,
      "outputs": []
    },
    {
      "cell_type": "code",
      "source": [
        "usa_gold.groupby(['Year', 'Gender']).size().unstack('Gender').plot?"
      ],
      "metadata": {
        "id": "epfAeOuIZZhJ"
      },
      "execution_count": null,
      "outputs": []
    },
    {
      "cell_type": "code",
      "source": [
        "pd.Series.plot?"
      ],
      "metadata": {
        "id": "oRbk59AZZr_7"
      },
      "execution_count": null,
      "outputs": []
    },
    {
      "cell_type": "code",
      "source": [
        "usa_gold.groupby(['Year', 'Gender']).size().unstack('Gender').plot(kind='line', color=['blue', 'pink'])"
      ],
      "metadata": {
        "id": "LW0X9ze0wt8Z"
      },
      "execution_count": null,
      "outputs": []
    },
    {
      "cell_type": "code",
      "source": [
        "usa_gold.groupby(['Year', 'Gender']).size().unstack('Gender').plot(kind='line', color=['pink', 'blue'])"
      ],
      "metadata": {
        "id": "rFbw6oa2wt5d"
      },
      "execution_count": null,
      "outputs": []
    },
    {
      "cell_type": "markdown",
      "source": [
        "**Using a bar chart, plot the 5 Olympians who have won the most gold medals from the dataset (1896 to 2008). When there is a tie, consider the number of silver medals, then bronze medals.**"
      ],
      "metadata": {
        "id": "foilIThA354A"
      }
    },
    {
      "cell_type": "code",
      "source": [
        "up.groupby(['Athlete Name','Medal']).size()"
      ],
      "metadata": {
        "id": "NZOK4FC7wt2Y"
      },
      "execution_count": null,
      "outputs": []
    },
    {
      "cell_type": "code",
      "source": [
        "(up.groupby(['Athlete Name','Medal'])\n",
        ".size()\n",
        ".unstack('Medal', fill_value=0)\n",
        ")"
      ],
      "metadata": {
        "id": "WwmJr_heaCJI"
      },
      "execution_count": null,
      "outputs": []
    },
    {
      "cell_type": "code",
      "source": [
        "(up.groupby(['Athlete Name','Medal'])\n",
        ".size()\n",
        ".unstack('Medal', fill_value=0)\n",
        ".sort_values(['Gold', 'Silver', 'Bronze'], ascending=False)\n",
        ")"
      ],
      "metadata": {
        "id": "IwdoRPZtwtzO"
      },
      "execution_count": null,
      "outputs": []
    },
    {
      "cell_type": "code",
      "source": [
        "(up.groupby(['Athlete Name','Medal'])\n",
        ".size()\n",
        ".unstack('Medal', fill_value=0)\n",
        ".sort_values(['Gold', 'Silver', 'Bronze'], ascending=False)[['Gold', 'Silver', 'Bronze']]\n",
        ")"
      ],
      "metadata": {
        "id": "ULPVMVbBwtvx"
      },
      "execution_count": null,
      "outputs": []
    },
    {
      "cell_type": "code",
      "source": [
        "(up.groupby(['Athlete Name','Medal'])\n",
        ".size()\n",
        ".unstack('Medal', fill_value=0)\n",
        ".sort_values(['Gold', 'Silver', 'Bronze'], ascending=False)[['Gold', 'Silver', 'Bronze']]\n",
        ".head(5)\n",
        ")"
      ],
      "metadata": {
        "id": "uDO5cqLa5BOq"
      },
      "execution_count": null,
      "outputs": []
    },
    {
      "cell_type": "code",
      "source": [
        "(up.groupby(['Athlete Name','Medal'])\n",
        ".size()\n",
        ".unstack('Medal', fill_value=0)\n",
        ".sort_values(['Gold', 'Silver', 'Bronze'], ascending=False)[['Gold', 'Silver', 'Bronze']]\n",
        ".head(5)\n",
        ".plot(kind='bar')\n",
        ")"
      ],
      "metadata": {
        "id": "udOauxgS5pl8"
      },
      "execution_count": null,
      "outputs": []
    },
    {
      "cell_type": "markdown",
      "source": [
        "##Creating your own colormaps"
      ],
      "metadata": {
        "id": "w-w5R_xF7431"
      }
    },
    {
      "cell_type": "code",
      "source": [
        "!pip install --quiet pandas==2.0.2\n",
        "\n",
        "import pandas as pd\n",
        "from pathlib import Path\n",
        "import matplotlib.pyplot as plt\n",
        "\n",
        "if not Path(\"olympics_1896_2004.csv\").exists():\n",
        "  !wget https://github.com/jonfernandes/pandas_essential/raw/main/olympics_1896_2004.csv\n",
        "if not Path(\"olympics_2008.csv\").exists():\n",
        "  !wget https://github.com/jonfernandes/pandas_essential/raw/main/olympics_2008.csv\n",
        "\n",
        "filename = \"olympics_1896_2004.csv\"\n",
        "print(\"Installed all of the necessary files for this section ...\")"
      ],
      "metadata": {
        "id": "cHYafmKciN48"
      },
      "execution_count": null,
      "outputs": []
    },
    {
      "cell_type": "code",
      "source": [
        "def preprocess(filename = \"olympics_1896_2004.csv\"):\n",
        "  \"\"\"Preparing and transforming dataframe\"\"\"\n",
        "  print(f\"Preprocessing {filename} ...\\n\")\n",
        "  ordered_medals = pd.api.types.CategoricalDtype(categories=[\"Bronze\", \"Silver\", \"Gold\"], ordered=True)\n",
        "  dtype_mapper = {\"Year\": \"int64\",\n",
        "                \"City\": \"string\",\n",
        "                \"Sport\": \"string\",\n",
        "                \"Discipline\": \"string\",\n",
        "                \"Athlete Name\": \"string\",\n",
        "                \"NOC\": \"string\",\n",
        "                \"Gender\": \"category\",\n",
        "                \"Event\": \"string\",\n",
        "                \"Event_gender\": \"category\",\n",
        "                \"Medal\": ordered_medals}\n",
        "  df = pd.read_csv(filename, skiprows=5, dtype=dtype_mapper)\n",
        "  df = df.drop('Position', axis=1)\n",
        "  df[\"Event Gender\"] = df[\"Event Gender\"].astype(\"category\")\n",
        "  df.loc[24676, \"Gender\"] = \"Women\"\n",
        "  df.Sport = df.Sport.str.lower()\n",
        "  df.Discipline = df.Discipline.str.lower()\n",
        "  df.Event = df.Event.str.lower()\n",
        "  df.NOC = df.NOC.str.upper()\n",
        "  return df\n",
        "\n",
        "def preprocess_2008(filename=\"olympics_2008.csv\"):\n",
        "  print(f\"Preprocessing {filename} ...\\n\")\n",
        "  df = pd.read_csv(filename)\n",
        "  df.columns = ['City', 'Year', 'Sport', 'Discipline', 'Athlete Name', 'NOC',\n",
        "       'Gender', 'Event', 'Event Gender', 'Medal', 'Result']\n",
        "  df = df.drop(\"Result\", axis=1)\n",
        "  df.City = df.City.fillna(value=\"Beijing\")\n",
        "  df.Year = df.Year.fillna(value=2008)\n",
        "  df = df.dropna(subset=['Sport', 'Discipline', 'Athlete Name', 'NOC', 'Gender',\n",
        "       'Event', 'Event Gender', 'Medal'], how=\"all\")\n",
        "  df = df.drop_duplicates()\n",
        "  df.Sport = df.Sport.str.lower()\n",
        "  df.Discipline = df.Discipline.str.lower()\n",
        "  df.Event = df.Event.str.lower()\n",
        "  df.NOC = df.NOC.str.upper()\n",
        "  df.Medal = df.Medal.str.capitalize()\n",
        "  df.City = df.City.astype(\"string\")\n",
        "  df.Year = df.Year.astype(int)\n",
        "  df.Sport = df.Sport.astype(\"string\")\n",
        "  df.Discipline = df.Discipline.astype(\"string\")\n",
        "  df[\"Athlete Name\"] = df[\"Athlete Name\"].astype(\"string\")\n",
        "  df.NOC = df.NOC.astype(\"string\")\n",
        "  df.Gender = df.Gender.astype(\"category\")\n",
        "  df.Event = df.Event.astype(\"string\")\n",
        "  df['Event Gender'] = df['Event Gender'].astype(\"category\")\n",
        "  medal_order = [\"Bronze\", \"Silver\", \"Gold\"]\n",
        "  df.Medal = pd.Categorical(df.Medal, categories=medal_order, ordered=True)\n",
        "\n",
        "  return df\n",
        "\n",
        "oo = preprocess()\n",
        "nw = preprocess_2008()\n",
        "up = pd.concat([oo, nw])\n",
        "up.sample(3)"
      ],
      "metadata": {
        "id": "RdlXjxjGiN49"
      },
      "execution_count": null,
      "outputs": []
    },
    {
      "cell_type": "code",
      "source": [
        "(up.groupby(['Athlete Name','Medal'])\n",
        ".size()\n",
        ".unstack('Medal', fill_value=0)\n",
        ".sort_values(['Gold', 'Silver', 'Bronze'], ascending=False)[['Gold', 'Silver', 'Bronze']]\n",
        ".head(5)\n",
        ".plot(kind='bar')\n",
        ")"
      ],
      "metadata": {
        "id": "mHLjmflh7-nT"
      },
      "execution_count": null,
      "outputs": []
    },
    {
      "cell_type": "code",
      "source": [
        "from matplotlib.colors import ListedColormap"
      ],
      "metadata": {
        "id": "iYeTaMM87-kF"
      },
      "execution_count": null,
      "outputs": []
    },
    {
      "cell_type": "code",
      "source": [
        "ListedColormap?"
      ],
      "metadata": {
        "id": "qFIqIhPH7-gj"
      },
      "execution_count": null,
      "outputs": []
    },
    {
      "cell_type": "code",
      "source": [
        "gold_silver_bronze = ['#dbb40c','#c5c9c7','#a87900']"
      ],
      "metadata": {
        "id": "p0l6tR4z7-dP"
      },
      "execution_count": null,
      "outputs": []
    },
    {
      "cell_type": "code",
      "source": [
        "colormap = ListedColormap(gold_silver_bronze)\n",
        "colormap"
      ],
      "metadata": {
        "id": "AoZBeImP9yWf"
      },
      "execution_count": null,
      "outputs": []
    },
    {
      "cell_type": "code",
      "source": [
        "(up.groupby(['Athlete Name','Medal'])\n",
        ".size()\n",
        ".unstack('Medal', fill_value=0)\n",
        ".sort_values(['Gold', 'Silver', 'Bronze'], ascending=False)[['Gold', 'Silver', 'Bronze']]\n",
        ".head(5)\n",
        ".plot(kind='bar', colormap=colormap)\n",
        ")"
      ],
      "metadata": {
        "id": "D2yNdU-R9ySu"
      },
      "execution_count": null,
      "outputs": []
    },
    {
      "cell_type": "markdown",
      "source": [
        "##Final Challenge"
      ],
      "metadata": {
        "id": "Ffq41qyWCfrk"
      }
    },
    {
      "cell_type": "markdown",
      "source": [
        "For each Olympic year present in the dataset, show the US Olympian (and their sport) who has won the highest number of medals in that particular year.\n",
        "\n",
        "- In the case of a tie, Gold > Silver > Bronze\n",
        "- Include only one Olympian for each Olympic year i.e. If there are 2 Olympians in one year who have won exactly the same number and type of medals, then show only the first one based on sorting the names alphabetically by surname.\n",
        "\n",
        "- You should show the the following columns for each Olympic year:\n",
        "  - Athlete Name\n",
        "  - Sport\n",
        "  - Total\n"
      ],
      "metadata": {
        "id": "zMMgGjqYCsDE"
      }
    },
    {
      "cell_type": "code",
      "source": [
        "!pip install --quiet pandas==2.0.2\n",
        "\n",
        "import pandas as pd\n",
        "from pathlib import Path\n",
        "import matplotlib.pyplot as plt\n",
        "pd.set_option(\"display.width\", 100)\n",
        "\n",
        "if not Path(\"olympics_1896_2004.csv\").exists():\n",
        "  !wget https://github.com/jonfernandes/pandas_essential/raw/main/olympics_1896_2004.csv\n",
        "if not Path(\"olympics_2008.csv\").exists():\n",
        "  !wget https://github.com/jonfernandes/pandas_essential/raw/main/olympics_2008.csv\n",
        "\n",
        "filename = \"olympics_1896_2004.csv\"\n",
        "print(\"Installed all of the necessary files for this section ...\")"
      ],
      "metadata": {
        "id": "oqXcdInNjsca"
      },
      "execution_count": null,
      "outputs": []
    },
    {
      "cell_type": "code",
      "source": [
        "def preprocess(filename = \"olympics_1896_2004.csv\"):\n",
        "  \"\"\"Preparing and transforming dataframe\"\"\"\n",
        "  print(f\"Preprocessing {filename} ...\\n\")\n",
        "  ordered_medals = pd.api.types.CategoricalDtype(categories=[\"Bronze\", \"Silver\", \"Gold\"], ordered=True)\n",
        "  dtype_mapper = {\"Year\": \"int64\",\n",
        "                \"City\": \"string\",\n",
        "                \"Sport\": \"string\",\n",
        "                \"Discipline\": \"string\",\n",
        "                \"Athlete Name\": \"string\",\n",
        "                \"NOC\": \"string\",\n",
        "                \"Gender\": \"category\",\n",
        "                \"Event\": \"string\",\n",
        "                \"Event_gender\": \"category\",\n",
        "                \"Medal\": ordered_medals}\n",
        "  df = pd.read_csv(filename, skiprows=5, dtype=dtype_mapper)\n",
        "  df = df.drop('Position', axis=1)\n",
        "  df[\"Event Gender\"] = df[\"Event Gender\"].astype(\"category\")\n",
        "  df.loc[24676, \"Gender\"] = \"Women\"\n",
        "  df.Sport = df.Sport.str.lower()\n",
        "  df.Discipline = df.Discipline.str.lower()\n",
        "  df.Event = df.Event.str.lower()\n",
        "  df.NOC = df.NOC.str.upper()\n",
        "  return df\n",
        "\n",
        "def preprocess_2008(filename=\"olympics_2008.csv\"):\n",
        "  print(f\"Preprocessing {filename} ...\\n\")\n",
        "  df = pd.read_csv(filename)\n",
        "  df.columns = ['City', 'Year', 'Sport', 'Discipline', 'Athlete Name', 'NOC',\n",
        "       'Gender', 'Event', 'Event Gender', 'Medal', 'Result']\n",
        "  df = df.drop(\"Result\", axis=1)\n",
        "  df.City = df.City.fillna(value=\"Beijing\")\n",
        "  df.Year = df.Year.fillna(value=2008)\n",
        "  df = df.dropna(subset=['Sport', 'Discipline', 'Athlete Name', 'NOC', 'Gender',\n",
        "       'Event', 'Event Gender', 'Medal'], how=\"all\")\n",
        "  df = df.drop_duplicates()\n",
        "  df.Sport = df.Sport.str.lower()\n",
        "  df.Discipline = df.Discipline.str.lower()\n",
        "  df.Event = df.Event.str.lower()\n",
        "  df.NOC = df.NOC.str.upper()\n",
        "  df.Medal = df.Medal.str.capitalize()\n",
        "  df.City = df.City.astype(\"string\")\n",
        "  df.Year = df.Year.astype(int)\n",
        "  df.Sport = df.Sport.astype(\"string\")\n",
        "  df.Discipline = df.Discipline.astype(\"string\")\n",
        "  df[\"Athlete Name\"] = df[\"Athlete Name\"].astype(\"string\")\n",
        "  df.NOC = df.NOC.astype(\"string\")\n",
        "  df.Gender = df.Gender.astype(\"category\")\n",
        "  df.Event = df.Event.astype(\"string\")\n",
        "  df['Event Gender'] = df['Event Gender'].astype(\"category\")\n",
        "  medal_order = [\"Bronze\", \"Silver\", \"Gold\"]\n",
        "  df.Medal = pd.Categorical(df.Medal, categories=medal_order, ordered=True)\n",
        "\n",
        "  return df\n",
        "\n",
        "oo = preprocess()\n",
        "nw = preprocess_2008()\n",
        "up = pd.concat([oo, nw])\n",
        "up.sample(3)"
      ],
      "metadata": {
        "id": "i951MK2ojscb"
      },
      "execution_count": null,
      "outputs": []
    },
    {
      "cell_type": "code",
      "source": [],
      "metadata": {
        "id": "NGHBR0r1eqig"
      },
      "execution_count": null,
      "outputs": []
    },
    {
      "cell_type": "markdown",
      "source": [
        "##Solution"
      ],
      "metadata": {
        "id": "y4e4PWcferLR"
      }
    },
    {
      "cell_type": "markdown",
      "source": [
        "For each Olympic year present in the dataset, show the US Olympian (and their sport) who has won the highest number of medals in that particular year.\n",
        "\n",
        "- In the case of a tie, Gold > Silver > Bronze\n",
        "- Include only one Olympian for each Olympic year i.e. If there are 2 Olympians in one year who have won exactly the same number and type of medals, then show only the first one based on sorting the names alphabetically by surname.\n",
        "\n",
        "- You should show the the following columns for each Olympic year:\n",
        "  - Athlete Name\n",
        "  - Sport\n",
        "  - Total\n"
      ],
      "metadata": {
        "id": "yZMmxFA3ezMd"
      }
    },
    {
      "cell_type": "code",
      "source": [
        "!pip install --quiet pandas==2.0.2\n",
        "\n",
        "import pandas as pd\n",
        "from pathlib import Path\n",
        "import matplotlib.pyplot as plt\n",
        "pd.set_option(\"display.width\", 100)\n",
        "\n",
        "if not Path(\"olympics_1896_2004.csv\").exists():\n",
        "  !wget https://github.com/jonfernandes/pandas_essential/raw/main/olympics_1896_2004.csv\n",
        "if not Path(\"olympics_2008.csv\").exists():\n",
        "  !wget https://github.com/jonfernandes/pandas_essential/raw/main/olympics_2008.csv\n",
        "\n",
        "filename = \"olympics_1896_2004.csv\"\n",
        "print(\"Installed all of the necessary files for this section ...\")"
      ],
      "metadata": {
        "id": "MbU6X-CxeojY"
      },
      "execution_count": null,
      "outputs": []
    },
    {
      "cell_type": "code",
      "source": [
        "def preprocess(filename = \"olympics_1896_2004.csv\"):\n",
        "  \"\"\"Preparing and transforming dataframe\"\"\"\n",
        "  print(f\"Preprocessing {filename} ...\\n\")\n",
        "  ordered_medals = pd.api.types.CategoricalDtype(categories=[\"Bronze\", \"Silver\", \"Gold\"], ordered=True)\n",
        "  dtype_mapper = {\"Year\": \"int64\",\n",
        "                \"City\": \"string\",\n",
        "                \"Sport\": \"string\",\n",
        "                \"Discipline\": \"string\",\n",
        "                \"Athlete Name\": \"string\",\n",
        "                \"NOC\": \"string\",\n",
        "                \"Gender\": \"category\",\n",
        "                \"Event\": \"string\",\n",
        "                \"Event_gender\": \"category\",\n",
        "                \"Medal\": ordered_medals}\n",
        "  df = pd.read_csv(filename, skiprows=5, dtype=dtype_mapper)\n",
        "  df = df.drop('Position', axis=1)\n",
        "  df[\"Event Gender\"] = df[\"Event Gender\"].astype(\"category\")\n",
        "  df.loc[24676, \"Gender\"] = \"Women\"\n",
        "  df.Sport = df.Sport.str.lower()\n",
        "  df.Discipline = df.Discipline.str.lower()\n",
        "  df.Event = df.Event.str.lower()\n",
        "  df.NOC = df.NOC.str.upper()\n",
        "  return df\n",
        "\n",
        "def preprocess_2008(filename=\"olympics_2008.csv\"):\n",
        "  print(f\"Preprocessing {filename} ...\\n\")\n",
        "  df = pd.read_csv(filename)\n",
        "  df.columns = ['City', 'Year', 'Sport', 'Discipline', 'Athlete Name', 'NOC',\n",
        "       'Gender', 'Event', 'Event Gender', 'Medal', 'Result']\n",
        "  df = df.drop(\"Result\", axis=1)\n",
        "  df.City = df.City.fillna(value=\"Beijing\")\n",
        "  df.Year = df.Year.fillna(value=2008)\n",
        "  df = df.dropna(subset=['Sport', 'Discipline', 'Athlete Name', 'NOC', 'Gender',\n",
        "       'Event', 'Event Gender', 'Medal'], how=\"all\")\n",
        "  df = df.drop_duplicates()\n",
        "  df.Sport = df.Sport.str.lower()\n",
        "  df.Discipline = df.Discipline.str.lower()\n",
        "  df.Event = df.Event.str.lower()\n",
        "  df.NOC = df.NOC.str.upper()\n",
        "  df.Medal = df.Medal.str.capitalize()\n",
        "  df.City = df.City.astype(\"string\")\n",
        "  df.Year = df.Year.astype(int)\n",
        "  df.Sport = df.Sport.astype(\"string\")\n",
        "  df.Discipline = df.Discipline.astype(\"string\")\n",
        "  df[\"Athlete Name\"] = df[\"Athlete Name\"].astype(\"string\")\n",
        "  df.NOC = df.NOC.astype(\"string\")\n",
        "  df.Gender = df.Gender.astype(\"category\")\n",
        "  df.Event = df.Event.astype(\"string\")\n",
        "  df['Event Gender'] = df['Event Gender'].astype(\"category\")\n",
        "  medal_order = [\"Bronze\", \"Silver\", \"Gold\"]\n",
        "  df.Medal = pd.Categorical(df.Medal, categories=medal_order, ordered=True)\n",
        "\n",
        "  return df\n",
        "\n",
        "oo = preprocess()\n",
        "nw = preprocess_2008()\n",
        "up = pd.concat([oo, nw])\n",
        "up.sample(3)"
      ],
      "metadata": {
        "id": "By6xUA93eojY"
      },
      "execution_count": null,
      "outputs": []
    },
    {
      "cell_type": "code",
      "source": [
        "usa_olympian = up[up.NOC == 'USA']\n",
        "usa_olympian"
      ],
      "metadata": {
        "id": "OLZlVtDn9yO8"
      },
      "execution_count": null,
      "outputs": []
    },
    {
      "cell_type": "code",
      "source": [
        "usa_olympian.groupby(['Year', 'Athlete Name', 'Medal', 'Sport']).size()"
      ],
      "metadata": {
        "id": "hEh9oP6mDGWG"
      },
      "execution_count": null,
      "outputs": []
    },
    {
      "cell_type": "code",
      "source": [
        "(usa_olympian.groupby(['Year', 'Athlete Name', 'Medal', 'Sport'])\n",
        ".size()\n",
        ".unstack('Medal', fill_value=0)\n",
        ")"
      ],
      "metadata": {
        "id": "xUZBqPx6DGSj"
      },
      "execution_count": null,
      "outputs": []
    },
    {
      "cell_type": "code",
      "source": [
        "table = (usa_olympian.groupby(['Year', 'Athlete Name', 'Sport', 'Medal'])\n",
        ".size()\n",
        ".unstack('Medal', fill_value=0)\n",
        ")\n",
        "table"
      ],
      "metadata": {
        "id": "GxD7zqJ0DGO-"
      },
      "execution_count": null,
      "outputs": []
    },
    {
      "cell_type": "code",
      "source": [
        "table = (usa_olympian.groupby(['Year', 'Athlete Name', 'Sport', 'Medal'])\n",
        ".size()\n",
        ".unstack('Medal', fill_value=0)\n",
        ".assign(Total=table['Gold']+table['Silver']+table['Bronze'])\n",
        ")\n",
        "table"
      ],
      "metadata": {
        "id": "QvazfNN4fYC4"
      },
      "execution_count": null,
      "outputs": []
    },
    {
      "cell_type": "code",
      "source": [
        "table = (usa_olympian.groupby(['Year', 'Athlete Name', 'Sport', 'Medal'])\n",
        ".size()\n",
        ".unstack('Medal', fill_value=0)\n",
        ".assign(Total=table['Gold']+table['Silver']+table['Bronze'])\n",
        ".reset_index()\n",
        ")\n",
        "table"
      ],
      "metadata": {
        "id": "0NDJfhOEDGE_"
      },
      "execution_count": null,
      "outputs": []
    },
    {
      "cell_type": "code",
      "source": [
        "for year, group in table.groupby('Year'):\n",
        "  print(group)"
      ],
      "metadata": {
        "id": "ngE9HmQGDGBc"
      },
      "execution_count": null,
      "outputs": []
    },
    {
      "cell_type": "code",
      "source": [
        "for year, group in table.groupby('Year'):\n",
        "  print(group.sort_values('Total', ascending=False))"
      ],
      "metadata": {
        "id": "mlgTuzU3DF9-"
      },
      "execution_count": null,
      "outputs": []
    },
    {
      "cell_type": "code",
      "source": [
        "for year, group in table.groupby('Year'):\n",
        "  print(group.sort_values(['Total', 'Gold', 'Silver', 'Bronze', 'Athlete Name'], ascending=False))"
      ],
      "metadata": {
        "id": "EhbtvlD7DF6d"
      },
      "execution_count": null,
      "outputs": []
    },
    {
      "cell_type": "code",
      "source": [
        "for year, group in table.groupby('Year'):\n",
        "  print(group.sort_values(['Total', 'Gold', 'Silver', 'Bronze', 'Athlete Name'], ascending=False).head(1))"
      ],
      "metadata": {
        "id": "XYplgW07Al82"
      },
      "execution_count": null,
      "outputs": []
    },
    {
      "cell_type": "code",
      "source": [
        "winners = [\n",
        "    group.sort_values(['Total', 'Gold', 'Silver', 'Bronze', 'Athlete Name'], ascending=False).head(1)\n",
        "    for year, group in table.groupby('Year')\n",
        "]\n",
        "winners"
      ],
      "metadata": {
        "id": "NXtd9GEJDFx4"
      },
      "execution_count": null,
      "outputs": []
    },
    {
      "cell_type": "code",
      "source": [
        "winners[0]"
      ],
      "metadata": {
        "id": "07PdUFZew7Ex"
      },
      "execution_count": null,
      "outputs": []
    },
    {
      "cell_type": "code",
      "source": [
        "type(winners[0])"
      ],
      "metadata": {
        "id": "Jps9YCyhw9JR"
      },
      "execution_count": null,
      "outputs": []
    },
    {
      "cell_type": "code",
      "source": [
        "pd.concat(winners)"
      ],
      "metadata": {
        "id": "bHoG_62bDFud"
      },
      "execution_count": null,
      "outputs": []
    },
    {
      "cell_type": "code",
      "source": [
        "pd.concat(winners)[[\"Year\",\t\"Athlete Name\",\t\"Sport\", \"Total\"]]"
      ],
      "metadata": {
        "id": "Qkd4c8LKcOGt"
      },
      "execution_count": null,
      "outputs": []
    },
    {
      "cell_type": "code",
      "source": [
        "pd.concat(winners)[[\"Year\",\t\"Athlete Name\",\t\"Sport\", \"Total\"]].reset_index()"
      ],
      "metadata": {
        "id": "4azCAhsZcOCr"
      },
      "execution_count": null,
      "outputs": []
    },
    {
      "cell_type": "code",
      "source": [
        "pd.concat(winners)[[\"Year\",\t\"Athlete Name\",\t\"Sport\", \"Total\"]].reset_index?"
      ],
      "metadata": {
        "id": "oLalobULcN-l"
      },
      "execution_count": null,
      "outputs": []
    },
    {
      "cell_type": "code",
      "source": [
        "pd.DataFrame.reset_index?"
      ],
      "metadata": {
        "id": "XvlJx_mkcN6b"
      },
      "execution_count": null,
      "outputs": []
    },
    {
      "cell_type": "code",
      "source": [
        "pd.concat(winners)[[\"Year\",\t\"Athlete Name\",\t\"Sport\", \"Total\"]].reset_index(drop=True)"
      ],
      "metadata": {
        "id": "pu1EH5vZcN2i"
      },
      "execution_count": null,
      "outputs": []
    },
    {
      "cell_type": "code",
      "source": [],
      "metadata": {
        "id": "mkGHzL79b0v2"
      },
      "execution_count": null,
      "outputs": []
    },
    {
      "cell_type": "code",
      "source": [
        "#SDG"
      ],
      "metadata": {
        "id": "ysqHxer4b0m2"
      },
      "execution_count": null,
      "outputs": []
    },
    {
      "cell_type": "code",
      "source": [],
      "metadata": {
        "id": "VntgwLJzb0i_"
      },
      "execution_count": null,
      "outputs": []
    },
    {
      "cell_type": "code",
      "source": [],
      "metadata": {
        "id": "O01B55rUb0ec"
      },
      "execution_count": null,
      "outputs": []
    }
  ],
  "metadata": {
    "colab": {
      "collapsed_sections": [
        "nIp_KPjfO4J9",
        "1QP__-BYFIFN",
        "LRcakh4dQzWs",
        "vto6K36OcbBY",
        "Y7NNcfO4xlea",
        "cXD8zRjrB0vc",
        "dVneSuG42rEV",
        "Ckw-4M9hpoa3",
        "W9Nhfv3LkjL0",
        "KoS5odaaWiBi",
        "IEMaZhWNgH8S",
        "PLavnC_tldUv",
        "f6JGaT7avvyR",
        "B66y0jue2DMa",
        "gIiaB-pcEKdf",
        "tW9suZ3CGCpG",
        "fBBqvMS_uhNk",
        "RM1S3nJ0vcXs",
        "SCq05iZiwibC",
        "Z0rYN2NIPxNZ",
        "mFDo3MYfd60y",
        "bU802QvxZOh_",
        "DEyNm2RLoeGd",
        "FematpDlyP3J",
        "emB7XuGpBOPu",
        "Utjd5YTX5ruR",
        "UbtEix9Y-6Uc",
        "L1yiHNB0Ohfm",
        "nC0B3PtWD0H1",
        "BdOwoiXDISBA",
        "kH9DmNEweaVZ",
        "486bDzcSDjs9",
        "Qr68snfKFo33",
        "G4oDXcOu6cNf",
        "prwKaxHRupV5",
        "UeJT-eycu6o9",
        "w-w5R_xF7431",
        "Ffq41qyWCfrk",
        "y4e4PWcferLR"
      ],
      "provenance": []
    },
    "gpuClass": "standard",
    "kernelspec": {
      "display_name": "Python 3",
      "name": "python3"
    },
    "language_info": {
      "name": "python"
    }
  },
  "nbformat": 4,
  "nbformat_minor": 0
}