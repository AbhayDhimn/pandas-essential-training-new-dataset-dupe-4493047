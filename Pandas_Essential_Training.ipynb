{
  "cells": [
    {
      "cell_type": "markdown",
      "metadata": {
        "id": "Qam369vSO_rt"
      },
      "source": [
        "# Pandas Essential Training"
      ]
    },
    {
      "cell_type": "markdown",
      "source": [
        "The following formula will determine if the olympics is held in that year\n",
        "\n"
      ],
      "metadata": {
        "id": "Fdzsjaks05kR"
      }
    },
    {
      "cell_type": "code",
      "source": [
        "year = 2028\n",
        "\n",
        "year % 4 == 0"
      ],
      "metadata": {
        "id": "LIvLoTOG1EjT"
      },
      "execution_count": null,
      "outputs": []
    },
    {
      "cell_type": "markdown",
      "metadata": {
        "id": "nIp_KPjfO4J9"
      },
      "source": [
        "## Using pandas"
      ]
    },
    {
      "cell_type": "code",
      "execution_count": null,
      "metadata": {
        "id": "cKNZud6X4_RL"
      },
      "outputs": [],
      "source": [
        "!pip install pandas==2.0.2"
      ]
    },
    {
      "cell_type": "code",
      "execution_count": null,
      "metadata": {
        "collapsed": true,
        "id": "fQ2h5qjgO4J9"
      },
      "outputs": [],
      "source": [
        "import pandas"
      ]
    },
    {
      "cell_type": "code",
      "execution_count": null,
      "metadata": {
        "collapsed": true,
        "id": "SaGxEO5YO4J-"
      },
      "outputs": [],
      "source": [
        "import pandas as pd"
      ]
    },
    {
      "cell_type": "code",
      "execution_count": null,
      "metadata": {
        "id": "C5JAgwmYO4J-"
      },
      "outputs": [],
      "source": [
        "pd.__version__"
      ]
    },
    {
      "cell_type": "code",
      "execution_count": null,
      "metadata": {
        "id": "n53FOqGY4T64"
      },
      "outputs": [],
      "source": [
        "dir(pd)"
      ]
    },
    {
      "cell_type": "code",
      "execution_count": null,
      "metadata": {
        "collapsed": true,
        "id": "9-fFPNt1O4J-"
      },
      "outputs": [],
      "source": [
        "help(pd.read_csv)"
      ]
    },
    {
      "cell_type": "code",
      "execution_count": null,
      "metadata": {
        "collapsed": true,
        "id": "_vn0ZFdNO4J-"
      },
      "outputs": [],
      "source": [
        "pd.read_csv?"
      ]
    },
    {
      "cell_type": "markdown",
      "metadata": {
        "id": "43a6ZoJNbemF"
      },
      "source": [
        "Pandas documentation: https://pandas.pydata.org/docs/reference/index.html"
      ]
    },
    {
      "cell_type": "markdown",
      "metadata": {
        "id": "1QP__-BYFIFN"
      },
      "source": [
        "## Reading tabular data into pandas"
      ]
    },
    {
      "cell_type": "code",
      "execution_count": null,
      "metadata": {
        "id": "JaItBRQ4FlFv"
      },
      "outputs": [],
      "source": [
        "!wget https://github.com/jonfernandes/pandas_essential/raw/main/olympics_1896_2004.csv"
      ]
    },
    {
      "cell_type": "code",
      "source": [
        "from google.colab import files\n",
        "files.upload()"
      ],
      "metadata": {
        "id": "Pelnz4PfgRQ0"
      },
      "execution_count": null,
      "outputs": []
    },
    {
      "cell_type": "code",
      "execution_count": null,
      "metadata": {
        "id": "uYdq9LXLFlFv"
      },
      "outputs": [],
      "source": [
        "!ls -la"
      ]
    },
    {
      "cell_type": "code",
      "source": [
        "pd.read_csv?"
      ],
      "metadata": {
        "id": "Mk90BrMQg38E"
      },
      "execution_count": null,
      "outputs": []
    },
    {
      "cell_type": "code",
      "execution_count": null,
      "metadata": {
        "id": "psxZiLijFuga"
      },
      "outputs": [],
      "source": [
        "pd.read_csv('olympics_1896_2004.csv')"
      ]
    },
    {
      "cell_type": "code",
      "source": [
        "pd.read_csv(filepath_or_buffer='olympics_1896_2004.csv')"
      ],
      "metadata": {
        "id": "VB9FV0fahAcN"
      },
      "execution_count": null,
      "outputs": []
    },
    {
      "cell_type": "code",
      "execution_count": null,
      "metadata": {
        "id": "zk_3a5XhFlFv"
      },
      "outputs": [],
      "source": [
        "oo = pd.read_csv('olympics_1896_2004.csv')\n",
        "oo"
      ]
    },
    {
      "cell_type": "code",
      "execution_count": null,
      "metadata": {
        "id": "MfCWgZclFlFw"
      },
      "outputs": [],
      "source": [
        "oo = pd.read_csv('olympics_1896_2004.csv', skiprows=5)\n",
        "oo"
      ]
    },
    {
      "cell_type": "code",
      "execution_count": null,
      "metadata": {
        "id": "n57rypsOiifF"
      },
      "outputs": [],
      "source": [
        "filename = \"olympics_1896_2004.csv\""
      ]
    },
    {
      "cell_type": "code",
      "source": [
        "from google.colab import files\n",
        "files.upload()"
      ],
      "metadata": {
        "id": "09cr8R36lFSn"
      },
      "execution_count": null,
      "outputs": []
    },
    {
      "cell_type": "markdown",
      "metadata": {
        "id": "LRcakh4dQzWs"
      },
      "source": [
        "## Get an overview of the data and displaying it"
      ]
    },
    {
      "cell_type": "code",
      "source": [
        "!pip install --quiet pandas==2.0.2\n",
        "\n",
        "import pandas as pd\n",
        "from pathlib import Path\n",
        "\n",
        "if not Path(\"olympics_1896_2004.csv\").exists():\n",
        "  !wget https://github.com/jonfernandes/pandas_essential/raw/main/olympics_1896_2004.csv\n",
        "\n",
        "filename = \"olympics_1896_2004.csv\"\n",
        "print(\"Installed all of the necessary files for this section ...\")"
      ],
      "metadata": {
        "id": "wL5WNwGHZlOK"
      },
      "execution_count": null,
      "outputs": []
    },
    {
      "cell_type": "code",
      "execution_count": null,
      "metadata": {
        "id": "JDZYsEWnzkGK"
      },
      "outputs": [],
      "source": [
        "oo = pd.read_csv(filename, skiprows=5)\n",
        "oo"
      ]
    },
    {
      "cell_type": "code",
      "execution_count": null,
      "metadata": {
        "id": "o3NIzDxyQzWs"
      },
      "outputs": [],
      "source": [
        "oo.shape"
      ]
    },
    {
      "cell_type": "code",
      "source": [
        "oo.shape?"
      ],
      "metadata": {
        "id": "B6asCtrReVJ5"
      },
      "execution_count": null,
      "outputs": []
    },
    {
      "cell_type": "code",
      "execution_count": null,
      "metadata": {
        "id": "0PCE_iXpQzWt"
      },
      "outputs": [],
      "source": [
        "oo.head()"
      ]
    },
    {
      "cell_type": "code",
      "execution_count": null,
      "metadata": {
        "id": "k7QFGUXEy8wk"
      },
      "outputs": [],
      "source": [
        "oo.head?"
      ]
    },
    {
      "cell_type": "code",
      "execution_count": null,
      "metadata": {
        "id": "VCOdQQZg9uVN"
      },
      "outputs": [],
      "source": [
        "oo.head(3)"
      ]
    },
    {
      "cell_type": "code",
      "execution_count": null,
      "metadata": {
        "id": "B_P8jwG0QzWt"
      },
      "outputs": [],
      "source": [
        "oo.tail()"
      ]
    },
    {
      "cell_type": "code",
      "execution_count": null,
      "metadata": {
        "id": "f5rgxIri9xlj"
      },
      "outputs": [],
      "source": [
        "oo.sample(5)"
      ]
    },
    {
      "cell_type": "code",
      "source": [
        "oo.sample?"
      ],
      "metadata": {
        "id": "Pj4QBYANegDD"
      },
      "execution_count": null,
      "outputs": []
    },
    {
      "cell_type": "code",
      "execution_count": null,
      "metadata": {
        "id": "oyvg0lNQQzWu"
      },
      "outputs": [],
      "source": [
        "oo.info()"
      ]
    },
    {
      "cell_type": "code",
      "execution_count": null,
      "metadata": {
        "id": "aNUD6Ndobv4U"
      },
      "outputs": [],
      "source": [
        "oo.describe()"
      ]
    },
    {
      "cell_type": "code",
      "execution_count": null,
      "metadata": {
        "id": "CMuwyzFyWvq4"
      },
      "outputs": [],
      "source": [
        "pd.get_option(\"display.max_rows\")"
      ]
    },
    {
      "cell_type": "code",
      "execution_count": null,
      "metadata": {
        "id": "3pZ5LHvnV7TA"
      },
      "outputs": [],
      "source": [
        "pd.set_option(\"display.max_rows\", None)\n",
        "oo"
      ]
    },
    {
      "cell_type": "code",
      "execution_count": null,
      "metadata": {
        "id": "44cpSDDbWEoT"
      },
      "outputs": [],
      "source": [
        "pd.set_option(\"display.max_rows\", 60)\n",
        "oo"
      ]
    },
    {
      "cell_type": "code",
      "source": [
        "pd.get_option(\"display.max_columns\")"
      ],
      "metadata": {
        "id": "6LC6MhhvkJ7w"
      },
      "execution_count": null,
      "outputs": []
    },
    {
      "cell_type": "code",
      "source": [
        "pd.get_option(\"display.width\")"
      ],
      "metadata": {
        "id": "OodXDgN0k3_6"
      },
      "execution_count": null,
      "outputs": []
    },
    {
      "cell_type": "code",
      "source": [
        "pd.set_option(\"display.width\", 100)"
      ],
      "metadata": {
        "id": "3I4G6skCk_-w"
      },
      "execution_count": null,
      "outputs": []
    },
    {
      "cell_type": "markdown",
      "metadata": {
        "id": "vto6K36OcbBY"
      },
      "source": [
        "## Select a Series (column)"
      ]
    },
    {
      "cell_type": "code",
      "source": [
        "!pip install --quiet pandas==2.0.2\n",
        "\n",
        "import pandas as pd\n",
        "from pathlib import Path\n",
        "\n",
        "if not Path(\"olympics_1896_2004.csv\").exists():\n",
        "  !wget https://github.com/jonfernandes/pandas_essential/raw/main/olympics_1896_2004.csv\n",
        "\n",
        "filename = \"olympics_1896_2004.csv\"\n",
        "print(\"Installed all of the necessary files for this section ...\")"
      ],
      "metadata": {
        "id": "tpDuBbu6aqdo"
      },
      "execution_count": null,
      "outputs": []
    },
    {
      "cell_type": "code",
      "execution_count": null,
      "metadata": {
        "id": "K9h2_rrOiztl"
      },
      "outputs": [],
      "source": [
        "oo = pd.read_csv(filename, skiprows=5)\n",
        "oo.sample(3)"
      ]
    },
    {
      "cell_type": "code",
      "execution_count": null,
      "metadata": {
        "id": "SYDcU5ydfcOA"
      },
      "outputs": [],
      "source": [
        "type(oo)"
      ]
    },
    {
      "cell_type": "code",
      "execution_count": null,
      "metadata": {
        "id": "QGyLHeXechHL"
      },
      "outputs": [],
      "source": [
        "oo[\"Discipline\"]"
      ]
    },
    {
      "cell_type": "code",
      "execution_count": null,
      "metadata": {
        "id": "03mViRO_jVle"
      },
      "outputs": [],
      "source": [
        "oo['Discipline']"
      ]
    },
    {
      "cell_type": "code",
      "execution_count": null,
      "metadata": {
        "id": "fHkIb8rBchHM"
      },
      "outputs": [],
      "source": [
        "#oo[\"discipline\"]"
      ]
    },
    {
      "cell_type": "code",
      "execution_count": null,
      "metadata": {
        "id": "YAftK9Qvj9nv"
      },
      "outputs": [],
      "source": [
        "type(oo[\"Discipline\"])"
      ]
    },
    {
      "cell_type": "code",
      "execution_count": null,
      "metadata": {
        "id": "yKj8_1ZPchHM"
      },
      "outputs": [],
      "source": [
        "oo.Discipline"
      ]
    },
    {
      "cell_type": "code",
      "execution_count": null,
      "metadata": {
        "id": "VbDpqF7ajkRz"
      },
      "outputs": [],
      "source": [
        "oo.columns"
      ]
    },
    {
      "cell_type": "code",
      "execution_count": null,
      "metadata": {
        "id": "c_g6y8_ochHM"
      },
      "outputs": [],
      "source": [
        "oo[\"Athlete Name\"]"
      ]
    },
    {
      "cell_type": "code",
      "execution_count": null,
      "metadata": {
        "id": "LUj-Fr0ichHM"
      },
      "outputs": [],
      "source": [
        "oo.Athlete Name"
      ]
    },
    {
      "cell_type": "code",
      "source": [
        "oo.sample(3)"
      ],
      "metadata": {
        "id": "MRnsL11AoJJY"
      },
      "execution_count": null,
      "outputs": []
    },
    {
      "cell_type": "code",
      "source": [
        "oo.Year.unique()"
      ],
      "metadata": {
        "id": "yRHMYUlbnvR9"
      },
      "execution_count": null,
      "outputs": []
    },
    {
      "cell_type": "code",
      "source": [
        "oo.Year.unique?"
      ],
      "metadata": {
        "id": "GGX0bbMNoRNa"
      },
      "execution_count": null,
      "outputs": []
    },
    {
      "cell_type": "code",
      "source": [
        "oo.Sport.unique()"
      ],
      "metadata": {
        "id": "C6oOf_7Zn9eS"
      },
      "execution_count": null,
      "outputs": []
    },
    {
      "cell_type": "code",
      "source": [
        "oo.sample(3)"
      ],
      "metadata": {
        "id": "_7eyeVfEoXJg"
      },
      "execution_count": null,
      "outputs": []
    },
    {
      "cell_type": "code",
      "source": [
        "oo.Year.value_counts()"
      ],
      "metadata": {
        "id": "HlLqBDkaodQx"
      },
      "execution_count": null,
      "outputs": []
    },
    {
      "cell_type": "code",
      "source": [
        "oo.Year.value_counts?"
      ],
      "metadata": {
        "id": "4bDPb1J8o-8p"
      },
      "execution_count": null,
      "outputs": []
    },
    {
      "cell_type": "code",
      "source": [
        "oo.Year.value_counts(normalize=True)"
      ],
      "metadata": {
        "id": "VH4wKXONpYwh"
      },
      "execution_count": null,
      "outputs": []
    },
    {
      "cell_type": "markdown",
      "source": [
        "## Challenge"
      ],
      "metadata": {
        "id": "Y7NNcfO4xlea"
      }
    },
    {
      "cell_type": "markdown",
      "source": [
        "Answer the following questions. Indicate the Pandas command where relevant.\n",
        "\n",
        "1.   What is the time range covered in this dataset?\n",
        "2.   The Olympics take place every 4 years. Why are there missing years?\n",
        "3.   What are the types of medals awarded?\n",
        "4.   Across all of the Olympic Games, how many Gold, Silver and Bronze medals have there been?\n",
        "5.   Why are there not an equal number of Gold, Silver and Bronze medals?\n",
        "6.   There are more Gold medals than Silver, and more Silver than Bronze. Why might that be?\n",
        "7.   What are the different NOCs (National Olympic Committees)\n",
        "8.   What does the NOC 'ZZX' represent?\n",
        "\n",
        "\n"
      ],
      "metadata": {
        "id": "8zCUnsNAxo-g"
      }
    },
    {
      "cell_type": "markdown",
      "source": [
        "##Solution"
      ],
      "metadata": {
        "id": "cXD8zRjrB0vc"
      }
    },
    {
      "cell_type": "code",
      "source": [
        "!pip install --quiet pandas==2.0.2\n",
        "\n",
        "import pandas as pd\n",
        "from pathlib import Path\n",
        "\n",
        "if not Path(\"olympics_1896_2004.csv\").exists():\n",
        "  !wget https://github.com/jonfernandes/pandas_essential/raw/main/olympics_1896_2004.csv\n",
        "\n",
        "filename = \"olympics_1896_2004.csv\"\n",
        "print(\"Installed all of the necessary files for this section ...\")"
      ],
      "metadata": {
        "id": "gTUIMlWPCDnR"
      },
      "execution_count": null,
      "outputs": []
    },
    {
      "cell_type": "markdown",
      "source": [
        "1. What is the time range covered in this dataset?"
      ],
      "metadata": {
        "id": "-j8eT2c2CN7g"
      }
    },
    {
      "cell_type": "code",
      "source": [
        "oo.Year.unique()"
      ],
      "metadata": {
        "id": "ZSs_CV6SB5wf"
      },
      "execution_count": null,
      "outputs": []
    },
    {
      "cell_type": "markdown",
      "source": [
        "2. The Olympics take place every 4 years. Why are there missing years?\n",
        "- World War 1: 1914-1918\n",
        "- World War 2: 1939-1945"
      ],
      "metadata": {
        "id": "PdU9kXBqHUVx"
      }
    },
    {
      "cell_type": "markdown",
      "source": [
        "3. What are the types of medals awarded?"
      ],
      "metadata": {
        "id": "FO4CF7mACXgJ"
      }
    },
    {
      "cell_type": "code",
      "source": [
        "oo.Medal.unique()"
      ],
      "metadata": {
        "id": "z_gSubsK7GjH"
      },
      "execution_count": null,
      "outputs": []
    },
    {
      "cell_type": "markdown",
      "source": [
        "4. Across all of the Olympics, how many Gold, Silver and Bronze medals have there been?"
      ],
      "metadata": {
        "id": "maVn15rhChhr"
      }
    },
    {
      "cell_type": "code",
      "source": [
        "oo.Medal.value_counts()"
      ],
      "metadata": {
        "id": "4NrbRaLP7_kp"
      },
      "execution_count": null,
      "outputs": []
    },
    {
      "cell_type": "markdown",
      "source": [
        "5. Why are there not an equal number of Gold, Silver and Bronze medals?\n",
        "- Tied results\n",
        "- Team events\n",
        "- Disqualifications"
      ],
      "metadata": {
        "id": "L0BaqP40Cvja"
      }
    },
    {
      "cell_type": "code",
      "source": [
        "oo.head(10)"
      ],
      "metadata": {
        "id": "pmyToiQBIsmO"
      },
      "execution_count": null,
      "outputs": []
    },
    {
      "cell_type": "markdown",
      "source": [
        "6. There are more Gold medals than Silver, and more Silver than Bronze. Why might that be?\n",
        "\n",
        "Men's 100km cycling\n",
        "- https://en.wikipedia.org/wiki/Cycling_at_the_1896_Summer_Olympics_%E2%80%93_Men%27s_100_kilometres\n",
        "- https://en.wikipedia.org/wiki/Aristidis_Konstantinidis\n",
        "\n",
        "Men's 100m freestyle (1896)\n",
        "- https://en.wikipedia.org/wiki/Swimming_at_the_1896_Summer_Olympics_%E2%80%93_Men%27s_100_metre_freestyle\n"
      ],
      "metadata": {
        "id": "QTvM7ugqKpZz"
      }
    },
    {
      "cell_type": "markdown",
      "source": [
        "7. What are the different NOCs (National Olympic Committees)\n"
      ],
      "metadata": {
        "id": "oARaNXGtOiK_"
      }
    },
    {
      "cell_type": "code",
      "source": [
        "oo.NOC.unique()"
      ],
      "metadata": {
        "id": "uWY4zpb4O2v0"
      },
      "execution_count": null,
      "outputs": []
    },
    {
      "cell_type": "markdown",
      "source": [
        "8. What does the NOC 'ZZX' represent?\n",
        "- https://en.wikipedia.org/wiki/Mixed_teams_at_the_Olympics"
      ],
      "metadata": {
        "id": "02ouyDJvO5On"
      }
    },
    {
      "cell_type": "markdown",
      "metadata": {
        "id": "dVneSuG42rEV"
      },
      "source": [
        "## Python Lists and Dictionaries"
      ]
    },
    {
      "cell_type": "code",
      "execution_count": null,
      "metadata": {
        "id": "yaMoREyw2ugU"
      },
      "outputs": [],
      "source": [
        "medals = [\"Gold\", \"Silver\", \"Bronze\"]\n",
        "medals"
      ]
    },
    {
      "cell_type": "code",
      "execution_count": null,
      "metadata": {
        "id": "6KcUdX414wX0"
      },
      "outputs": [],
      "source": [
        "type(medals)"
      ]
    },
    {
      "cell_type": "code",
      "execution_count": null,
      "metadata": {
        "id": "q1xsb6BG5CWv"
      },
      "outputs": [],
      "source": [
        "position = {\"First\": \"Gold\",\n",
        "            \"Second\": \"Silver\",\n",
        "            \"Third\": \"Bronze\"\n",
        "}\n",
        "position"
      ]
    },
    {
      "cell_type": "code",
      "execution_count": null,
      "metadata": {
        "id": "T-4bqeTz-tyH"
      },
      "outputs": [],
      "source": [
        "type(position)"
      ]
    },
    {
      "cell_type": "code",
      "execution_count": null,
      "metadata": {
        "id": "s5wBJSTq-gqd"
      },
      "outputs": [],
      "source": [
        "position[\"First\"]"
      ]
    },
    {
      "cell_type": "markdown",
      "metadata": {
        "id": "Ckw-4M9hpoa3"
      },
      "source": [
        "## Rename a series (or column)"
      ]
    },
    {
      "cell_type": "code",
      "source": [
        "!pip install --quiet pandas==2.0.2\n",
        "\n",
        "import pandas as pd\n",
        "from pathlib import Path\n",
        "\n",
        "if not Path(\"olympics_1896_2004.csv\").exists():\n",
        "  !wget https://github.com/jonfernandes/pandas_essential/raw/main/olympics_1896_2004.csv\n",
        "\n",
        "filename = \"olympics_1896_2004.csv\"\n",
        "print(\"Installed all of the necessary files for this section ...\")"
      ],
      "metadata": {
        "id": "ZkvEYRvXbZBQ"
      },
      "execution_count": null,
      "outputs": []
    },
    {
      "cell_type": "code",
      "execution_count": null,
      "metadata": {
        "id": "GuCHMPABqCOg"
      },
      "outputs": [],
      "source": [
        "oo = pd.read_csv(filename, skiprows=5)\n",
        "oo.sample(3)"
      ]
    },
    {
      "cell_type": "code",
      "execution_count": null,
      "metadata": {
        "id": "aBkPYBGSqZdy"
      },
      "outputs": [],
      "source": [
        "mapper = {\"Athlete Name\": \"Athlete_Name\",\n",
        "          \"Event Gender\": \"Event_Gender\"}"
      ]
    },
    {
      "cell_type": "code",
      "source": [
        "oo.rename?"
      ],
      "metadata": {
        "id": "BGhEHsDscPRn"
      },
      "execution_count": null,
      "outputs": []
    },
    {
      "cell_type": "code",
      "execution_count": null,
      "metadata": {
        "id": "IXlHzMRFqGVP"
      },
      "outputs": [],
      "source": [
        "oo.rename(columns=mapper)"
      ]
    },
    {
      "cell_type": "code",
      "execution_count": null,
      "metadata": {
        "id": "Xr3XjUKFqxBu"
      },
      "outputs": [],
      "source": [
        "oo.sample(3)"
      ]
    },
    {
      "cell_type": "code",
      "execution_count": null,
      "metadata": {
        "id": "nDNiC7Uvq4o4"
      },
      "outputs": [],
      "source": [
        "oo = oo.rename(columns=mapper)\n",
        "oo.sample(3)"
      ]
    },
    {
      "cell_type": "code",
      "source": [
        "oo = pd.read_csv(filename, skiprows=5).rename(columns=mapper)\n",
        "oo.sample(3)"
      ],
      "metadata": {
        "id": "7IGqoCWcbvHc"
      },
      "execution_count": null,
      "outputs": []
    },
    {
      "cell_type": "code",
      "execution_count": null,
      "metadata": {
        "id": "jXX7uTomrDKG"
      },
      "outputs": [],
      "source": [
        "oo = pd.read_csv(filename, skiprows=5)\n",
        "oo = oo.rename(columns={\"Athlete Name\": \"Athlete_Name\", \"Event Gender\": \"Event_Gender\"})\n",
        "oo.sample(3)"
      ]
    },
    {
      "cell_type": "code",
      "execution_count": null,
      "metadata": {
        "id": "kMbTKuQ5rj1I"
      },
      "outputs": [],
      "source": [
        "oo = pd.read_csv(filename, skiprows=5)\n",
        "oo.columns"
      ]
    },
    {
      "cell_type": "code",
      "execution_count": null,
      "metadata": {
        "id": "i2BiQO6Crp6a"
      },
      "outputs": [],
      "source": [
        "column_names = ['Year', 'City', 'Sport', 'Discipline', 'Athlete_Name', 'NOC', 'Gender',\n",
        "       'Event', 'Event_Gender', 'Medal', 'Position']\n",
        "oo.columns = column_names\n",
        "oo.sample(3)"
      ]
    },
    {
      "cell_type": "code",
      "execution_count": null,
      "metadata": {
        "id": "hFOa9jTjr-4m"
      },
      "outputs": [],
      "source": [
        "oo = pd.read_csv(filename, skiprows=5)\n",
        "oo.sample(3)"
      ]
    },
    {
      "cell_type": "code",
      "execution_count": null,
      "metadata": {
        "id": "X3Wc_Xy1swWe"
      },
      "outputs": [],
      "source": [
        "oo = pd.read_csv(filename, skiprows=5, names=column_names)\n",
        "oo.head()"
      ]
    },
    {
      "cell_type": "code",
      "execution_count": null,
      "metadata": {
        "id": "Slv2MGpztEvf"
      },
      "outputs": [],
      "source": [
        "oo = pd.read_csv(filename, skiprows=5, names=column_names, header=0)\n",
        "oo.head()"
      ]
    },
    {
      "cell_type": "markdown",
      "metadata": {
        "id": "W9Nhfv3LkjL0"
      },
      "source": [
        "## Remove a Series (column) or row"
      ]
    },
    {
      "cell_type": "code",
      "source": [
        "!pip install --quiet pandas==2.0.2\n",
        "\n",
        "import pandas as pd\n",
        "from pathlib import Path\n",
        "\n",
        "if not Path(\"olympics_1896_2004.csv\").exists():\n",
        "  !wget https://github.com/jonfernandes/pandas_essential/raw/main/olympics_1896_2004.csv\n",
        "\n",
        "filename = \"olympics_1896_2004.csv\"\n",
        "print(\"Installed all of the necessary files for this section ...\")"
      ],
      "metadata": {
        "id": "wyyfLAZYcyey"
      },
      "execution_count": null,
      "outputs": []
    },
    {
      "cell_type": "code",
      "execution_count": null,
      "metadata": {
        "id": "Jvu3BkX8pEx6"
      },
      "outputs": [],
      "source": [
        "oo = pd.read_csv(filename, skiprows=5)\n",
        "oo.sample(3)"
      ]
    },
    {
      "cell_type": "code",
      "execution_count": null,
      "metadata": {
        "id": "20cP8jKNpI-b"
      },
      "outputs": [],
      "source": [
        "oo.drop('Position', axis=1)"
      ]
    },
    {
      "cell_type": "code",
      "source": [
        "oo.drop('Position', axis=0)"
      ],
      "metadata": {
        "id": "G3EbLvxuY50E"
      },
      "execution_count": null,
      "outputs": []
    },
    {
      "cell_type": "code",
      "execution_count": null,
      "metadata": {
        "id": "1dHlMJCCpf3C"
      },
      "outputs": [],
      "source": [
        "oo.sample(3)"
      ]
    },
    {
      "cell_type": "code",
      "source": [
        "oo = oo.drop('Position', axis=1)\n",
        "oo.sample(3)"
      ],
      "metadata": {
        "id": "3X4HbXnaZeBw"
      },
      "execution_count": null,
      "outputs": []
    },
    {
      "cell_type": "code",
      "source": [
        "oo = pd.read_csv(filename, skiprows=5).drop('Position', axis=1)\n",
        "oo.sample(3)"
      ],
      "metadata": {
        "id": "Fq1lyaCpajT4"
      },
      "execution_count": null,
      "outputs": []
    },
    {
      "cell_type": "code",
      "source": [
        "oo = (pd.read_csv(filename, skiprows=5)\n",
        "      .drop('Position', axis=1)\n",
        ")\n",
        "oo.sample(3)"
      ],
      "metadata": {
        "id": "ZhTF2wwh2xfr"
      },
      "execution_count": null,
      "outputs": []
    },
    {
      "cell_type": "code",
      "source": [
        "oo = (pd.read_csv(filename, skiprows=5)\n",
        "      .drop('Position', axis=1)\n",
        ")\n",
        "oo.sample(3)"
      ],
      "metadata": {
        "id": "mpxeqJaSa0SH"
      },
      "execution_count": null,
      "outputs": []
    },
    {
      "cell_type": "code",
      "source": [
        "oo = pd.read_csv(filename, skiprows=5)\n",
        "oo.drop('Position', axis=1, inplace=True)\n",
        "oo.sample(3)"
      ],
      "metadata": {
        "id": "FwsO7VDt3Idt"
      },
      "execution_count": null,
      "outputs": []
    },
    {
      "cell_type": "code",
      "execution_count": null,
      "metadata": {
        "id": "r_0NfmZAputk"
      },
      "outputs": [],
      "source": [
        "oo = (pd.read_csv(filename, skiprows=5)\n",
        "      .drop('Position', axis=1, inplace=True)\n",
        ")\n",
        "oo.sample(3)"
      ]
    },
    {
      "cell_type": "code",
      "source": [
        "oo.drop?"
      ],
      "metadata": {
        "id": "tRDLq3HuZ1pK"
      },
      "execution_count": null,
      "outputs": []
    },
    {
      "cell_type": "code",
      "execution_count": null,
      "metadata": {
        "id": "K8jXziF_p5dJ"
      },
      "outputs": [],
      "source": [
        "oo = (pd.read_csv(filename, skiprows=5)\n",
        "      .drop('Position', axis=1)\n",
        ")\n",
        "oo.sample(3)"
      ]
    },
    {
      "cell_type": "code",
      "execution_count": null,
      "metadata": {
        "id": "bwjWbu26qOle"
      },
      "outputs": [],
      "source": [
        "oo.head(3)"
      ]
    },
    {
      "cell_type": "code",
      "execution_count": null,
      "metadata": {
        "id": "SCzu6DsFqUNn"
      },
      "outputs": [],
      "source": [
        "oo = (pd.read_csv(filename, skiprows=5)\n",
        "      .drop(2, axis=0)\n",
        ")\n",
        "oo.head(3)"
      ]
    },
    {
      "cell_type": "code",
      "execution_count": null,
      "metadata": {
        "id": "OyPaiwdAr7wT"
      },
      "outputs": [],
      "source": [
        "oo = (pd.read_csv(filename, skiprows=5)\n",
        "      .drop([0, 1, 3], axis=0)\n",
        ")\n",
        "oo.head(3)"
      ]
    },
    {
      "cell_type": "code",
      "execution_count": null,
      "metadata": {
        "id": "O7kPV4fXsPpT"
      },
      "outputs": [],
      "source": [
        "oo = oo.drop(['City', 'Sport'], axis=1)\n",
        "oo.head(3)"
      ]
    },
    {
      "cell_type": "code",
      "execution_count": null,
      "metadata": {
        "id": "zP14TUgHrAWV"
      },
      "outputs": [],
      "source": [
        "oo = (pd.read_csv(filename, skiprows=5)\n",
        "      .drop('Position', axis=1)\n",
        ")\n",
        "oo.sample(3)"
      ]
    },
    {
      "cell_type": "code",
      "source": [
        "pd.merge?"
      ],
      "metadata": {
        "id": "Kn5U4c_6etcq"
      },
      "execution_count": null,
      "outputs": []
    },
    {
      "cell_type": "code",
      "source": [
        "pd.concat?"
      ],
      "metadata": {
        "id": "xeu9LEEPe1E9"
      },
      "execution_count": null,
      "outputs": []
    },
    {
      "cell_type": "code",
      "source": [
        "oo.groupby?"
      ],
      "metadata": {
        "id": "oNN6PLPRe9Q6"
      },
      "execution_count": null,
      "outputs": []
    },
    {
      "cell_type": "markdown",
      "metadata": {
        "id": "KoS5odaaWiBi"
      },
      "source": [
        "## Filtering rows for a single condition"
      ]
    },
    {
      "cell_type": "code",
      "source": [
        "!pip install --quiet pandas==2.0.2\n",
        "\n",
        "import pandas as pd\n",
        "from pathlib import Path\n",
        "\n",
        "if not Path(\"olympics_1896_2004.csv\").exists():\n",
        "  !wget https://github.com/jonfernandes/pandas_essential/raw/main/olympics_1896_2004.csv\n",
        "\n",
        "filename = \"olympics_1896_2004.csv\"\n",
        "print(\"Installed all of the necessary files for this section ...\")"
      ],
      "metadata": {
        "id": "lXgyKJGPe8Tu"
      },
      "execution_count": null,
      "outputs": []
    },
    {
      "cell_type": "code",
      "source": [
        "oo = (pd.read_csv(filename, skiprows=5)\n",
        "      .drop('Position', axis=1)\n",
        ")\n",
        "oo.sample(3)"
      ],
      "metadata": {
        "id": "t29BT5gbrBIc"
      },
      "execution_count": null,
      "outputs": []
    },
    {
      "cell_type": "code",
      "execution_count": null,
      "metadata": {
        "id": "sc8z0Lt6YUPO"
      },
      "outputs": [],
      "source": [
        "type(True)"
      ]
    },
    {
      "cell_type": "code",
      "execution_count": null,
      "metadata": {
        "id": "Bmwe33a1Y-2P"
      },
      "outputs": [],
      "source": [
        "type(False)"
      ]
    },
    {
      "cell_type": "code",
      "execution_count": null,
      "metadata": {
        "id": "4dO8-KghZiSV"
      },
      "outputs": [],
      "source": [
        "oo.Year.dtype"
      ]
    },
    {
      "cell_type": "code",
      "execution_count": null,
      "metadata": {
        "id": "6GUl6DVbZFTN"
      },
      "outputs": [],
      "source": [
        "first_olympics = (oo.Year == 1896)\n",
        "first_olympics"
      ]
    },
    {
      "cell_type": "code",
      "execution_count": null,
      "metadata": {
        "id": "f6y4vN4pap6g"
      },
      "outputs": [],
      "source": [
        "oo[first_olympics]"
      ]
    },
    {
      "cell_type": "code",
      "execution_count": null,
      "metadata": {
        "id": "-CeFZjg1av38"
      },
      "outputs": [],
      "source": [
        "oo[oo.Year == 1896]"
      ]
    },
    {
      "cell_type": "code",
      "execution_count": null,
      "metadata": {
        "id": "-bcylkijfi3p"
      },
      "outputs": [],
      "source": [
        "oo[oo.Year < 1896]"
      ]
    },
    {
      "cell_type": "code",
      "execution_count": null,
      "metadata": {
        "id": "1mVCF2aBfojw"
      },
      "outputs": [],
      "source": [
        "oo[(oo.Year <= 1896)]"
      ]
    },
    {
      "cell_type": "markdown",
      "metadata": {
        "id": "IEMaZhWNgH8S"
      },
      "source": [
        "## Filter rows for multiple conditions"
      ]
    },
    {
      "cell_type": "code",
      "source": [
        "!pip install --quiet pandas==2.0.2\n",
        "\n",
        "import pandas as pd\n",
        "from pathlib import Path\n",
        "\n",
        "if not Path(\"olympics_1896_2004.csv\").exists():\n",
        "  !wget https://github.com/jonfernandes/pandas_essential/raw/main/olympics_1896_2004.csv\n",
        "\n",
        "filename = \"olympics_1896_2004.csv\"\n",
        "print(\"Installed all of the necessary files for this section ...\")"
      ],
      "metadata": {
        "id": "2laJYlXsfDLv"
      },
      "execution_count": null,
      "outputs": []
    },
    {
      "cell_type": "code",
      "source": [
        "oo = (pd.read_csv(filename, skiprows=5)\n",
        "      .drop('Position', axis=1)\n",
        ")\n",
        "oo.tail(3)"
      ],
      "metadata": {
        "id": "IlOsfcIgjvUW"
      },
      "execution_count": null,
      "outputs": []
    },
    {
      "cell_type": "code",
      "execution_count": null,
      "metadata": {
        "id": "BW-mRtxwg1qc"
      },
      "outputs": [],
      "source": [
        "oo.dtypes"
      ]
    },
    {
      "cell_type": "code",
      "execution_count": null,
      "metadata": {
        "id": "u7nXHc19gPwj"
      },
      "outputs": [],
      "source": [
        "oo[oo.City == 'Athens']"
      ]
    },
    {
      "cell_type": "code",
      "source": [
        "#oo[oo.City == Athens]"
      ],
      "metadata": {
        "id": "Aw8sVdFAkIBP"
      },
      "execution_count": null,
      "outputs": []
    },
    {
      "cell_type": "code",
      "execution_count": null,
      "metadata": {
        "id": "WHGrdM0AhRuo"
      },
      "outputs": [],
      "source": [
        "oo[(oo.Year == 1896) | (oo.Year == 2004)]"
      ]
    },
    {
      "cell_type": "code",
      "execution_count": null,
      "metadata": {
        "id": "m-4U5Jo3ke6f"
      },
      "outputs": [],
      "source": [
        "oo[(oo.City == 'Athens') & (oo.Year == 2004)]"
      ]
    },
    {
      "cell_type": "code",
      "execution_count": null,
      "metadata": {
        "id": "KmCyCTnyksgk"
      },
      "outputs": [],
      "source": [
        "oo[(oo.City == 'Athens') & ~(oo.Year == 1896)]"
      ]
    },
    {
      "cell_type": "code",
      "execution_count": null,
      "metadata": {
        "id": "yQR50DX2iXd6"
      },
      "outputs": [],
      "source": [
        "first_men_100m = oo[(oo.Year == 1896) & (oo.Gender == 'Men') & (oo.Event == '100m')]\n",
        "first_men_100m"
      ]
    },
    {
      "cell_type": "code",
      "execution_count": null,
      "metadata": {
        "id": "Yl6_EgtTFebl"
      },
      "outputs": [],
      "source": [
        "oo[(oo.Year == 1896) & (oo.Gender == 'Men') & (oo.Event == '100m')][[\"Year\", \"Athlete Name\", \"NOC\", \"Event\", \"Medal\"]]"
      ]
    },
    {
      "cell_type": "code",
      "execution_count": null,
      "metadata": {
        "id": "_f5j-cJ-Ge3d"
      },
      "outputs": [],
      "source": [
        "first_men_100m[[\"Year\", \"Athlete Name\", \"NOC\", \"Event\", \"Medal\"]]"
      ]
    },
    {
      "cell_type": "markdown",
      "metadata": {
        "id": "PLavnC_tldUv"
      },
      "source": [
        "## Using String methods"
      ]
    },
    {
      "cell_type": "code",
      "source": [
        "!pip install --quiet pandas==2.0.2\n",
        "\n",
        "import pandas as pd\n",
        "from pathlib import Path\n",
        "\n",
        "if not Path(\"olympics_1896_2004.csv\").exists():\n",
        "  !wget https://github.com/jonfernandes/pandas_essential/raw/main/olympics_1896_2004.csv\n",
        "\n",
        "filename = \"olympics_1896_2004.csv\"\n",
        "print(\"Installed all of the necessary files for this section ...\")"
      ],
      "metadata": {
        "id": "5WIpCHr9fIM3"
      },
      "execution_count": null,
      "outputs": []
    },
    {
      "cell_type": "code",
      "source": [
        "oo = (pd.read_csv(filename, skiprows=5)\n",
        "      .drop('Position', axis=1)\n",
        ")\n",
        "oo.head(3)"
      ],
      "metadata": {
        "id": "AGr-1o_FeH1w"
      },
      "execution_count": null,
      "outputs": []
    },
    {
      "cell_type": "code",
      "execution_count": null,
      "metadata": {
        "id": "tMUM65Bmlknv"
      },
      "outputs": [],
      "source": [
        "oo[\"Athlete Name\"].str.lower()"
      ]
    },
    {
      "cell_type": "code",
      "execution_count": null,
      "metadata": {
        "id": "GFFRSXU8oTh-"
      },
      "outputs": [],
      "source": [
        "oo.Event.unique()"
      ]
    },
    {
      "cell_type": "code",
      "execution_count": null,
      "metadata": {
        "id": "0KvKRpO9pVd6"
      },
      "outputs": [],
      "source": [
        "oo.Event.str.capitalize()"
      ]
    },
    {
      "cell_type": "code",
      "execution_count": null,
      "metadata": {
        "id": "Mrk9loD6pprs"
      },
      "outputs": [],
      "source": [
        "oo.Event = oo.Event.str.capitalize()\n",
        "oo.Event.unique()"
      ]
    },
    {
      "cell_type": "code",
      "source": [
        "dir(oo.Event.str)"
      ],
      "metadata": {
        "id": "SoySwvn3e7fQ"
      },
      "execution_count": null,
      "outputs": []
    },
    {
      "cell_type": "code",
      "execution_count": null,
      "metadata": {
        "id": "ljwZKwEKp4C9"
      },
      "outputs": [],
      "source": [
        "oo[\"Athlete Name\"].str.contains(\"Latynina\")"
      ]
    },
    {
      "cell_type": "code",
      "execution_count": null,
      "metadata": {
        "id": "9jxM-wfXqBlg"
      },
      "outputs": [],
      "source": [
        "# Larisa Latynina - most decorated Female athlete\n",
        "oo[oo[\"Athlete Name\"].str.contains(\"Latynina\")]"
      ]
    },
    {
      "cell_type": "code",
      "execution_count": null,
      "metadata": {
        "id": "RE5DJK7pt-eW"
      },
      "outputs": [],
      "source": [
        "oo[oo[\"Athlete Name\"].str.contains(\"LATYNINA\")]"
      ]
    },
    {
      "cell_type": "code",
      "source": [
        "dir(oo.Event.str)"
      ],
      "metadata": {
        "id": "F71XMdtviKk3"
      },
      "execution_count": null,
      "outputs": []
    },
    {
      "cell_type": "code",
      "source": [
        "oo.City = oo.City.str.upper()\n",
        "oo.sample(3)"
      ],
      "metadata": {
        "id": "WQjAIm1Silxv"
      },
      "execution_count": null,
      "outputs": []
    },
    {
      "cell_type": "code",
      "source": [
        "oo.City.unique()"
      ],
      "metadata": {
        "id": "gc1CF1PlBg1l"
      },
      "execution_count": null,
      "outputs": []
    },
    {
      "cell_type": "markdown",
      "metadata": {
        "id": "f6JGaT7avvyR"
      },
      "source": [
        "## Sorting a DataFrame or Series"
      ]
    },
    {
      "cell_type": "code",
      "source": [
        "!pip install --quiet pandas==2.0.2\n",
        "\n",
        "import pandas as pd\n",
        "from pathlib import Path\n",
        "\n",
        "if not Path(\"olympics_1896_2004.csv\").exists():\n",
        "  !wget https://github.com/jonfernandes/pandas_essential/raw/main/olympics_1896_2004.csv\n",
        "\n",
        "filename = \"olympics_1896_2004.csv\"\n",
        "print(\"Installed all of the necessary files for this section ...\")"
      ],
      "metadata": {
        "id": "kzVA7nVSfNJv"
      },
      "execution_count": null,
      "outputs": []
    },
    {
      "cell_type": "code",
      "source": [
        "oo = (pd.read_csv(filename, skiprows=5)\n",
        "      .drop('Position', axis=1)\n",
        ")\n",
        "oo.sample(3)"
      ],
      "metadata": {
        "id": "hLvgmZ4WkVlp"
      },
      "execution_count": null,
      "outputs": []
    },
    {
      "cell_type": "code",
      "execution_count": null,
      "metadata": {
        "id": "qP81z2s4vvyV"
      },
      "outputs": [],
      "source": [
        "oo[\"Athlete Name\"].sort_values()"
      ]
    },
    {
      "cell_type": "code",
      "execution_count": null,
      "metadata": {
        "id": "LYg8VS5Iw139"
      },
      "outputs": [],
      "source": [
        "type(oo[\"Athlete Name\"].sort_values())"
      ]
    },
    {
      "cell_type": "code",
      "execution_count": null,
      "metadata": {
        "id": "lM2n1Iq5w6US"
      },
      "outputs": [],
      "source": [
        "oo.sort_values(\"Athlete Name\")"
      ]
    },
    {
      "cell_type": "code",
      "execution_count": null,
      "metadata": {
        "id": "tm7lexN9xSsJ"
      },
      "outputs": [],
      "source": [
        "type(oo.sort_values(\"Athlete Name\"))"
      ]
    },
    {
      "cell_type": "code",
      "execution_count": null,
      "metadata": {
        "id": "fmTzGpfCxFsJ"
      },
      "outputs": [],
      "source": [
        "oo.head(3)"
      ]
    },
    {
      "cell_type": "code",
      "source": [
        "oo.sort_values(\"Athlete Name\", ascending=False)"
      ],
      "metadata": {
        "id": "d_C8hopolmqH"
      },
      "execution_count": null,
      "outputs": []
    },
    {
      "cell_type": "code",
      "execution_count": null,
      "metadata": {
        "id": "6_lOD6wExwOg"
      },
      "outputs": [],
      "source": [
        "oo.sort_values(\"Athlete Name\", ascending=False).head(25)"
      ]
    },
    {
      "cell_type": "code",
      "execution_count": null,
      "metadata": {
        "id": "HVYkoY25vvyW"
      },
      "outputs": [],
      "source": [
        "oo.sort_values(by=['Year','Athlete Name'])"
      ]
    },
    {
      "cell_type": "code",
      "execution_count": null,
      "metadata": {
        "id": "ADjQXqsJvvyW"
      },
      "outputs": [],
      "source": [
        "oo.sort_values(by=[\"Year\", \"Athlete Name\"], ascending=[False, True])"
      ]
    },
    {
      "cell_type": "code",
      "execution_count": null,
      "metadata": {
        "id": "KzxqFKgSyr3q"
      },
      "outputs": [],
      "source": [
        "oo.head(7)"
      ]
    },
    {
      "cell_type": "code",
      "execution_count": null,
      "metadata": {
        "id": "Z4UEv9N-0Pq4"
      },
      "outputs": [],
      "source": [
        "oo.sort_values(by=[\"Year\", \"Event\", \"Medal\"], ascending=[True, True, False]).head(7)"
      ]
    },
    {
      "cell_type": "code",
      "source": [
        "oo.dtypes"
      ],
      "metadata": {
        "id": "fdFb8ZTfEcJv"
      },
      "execution_count": null,
      "outputs": []
    },
    {
      "cell_type": "markdown",
      "metadata": {
        "id": "B66y0jue2DMa"
      },
      "source": [
        "## Working with data types (dtype)"
      ]
    },
    {
      "cell_type": "code",
      "source": [
        "!pip install --quiet pandas==2.0.2\n",
        "\n",
        "import pandas as pd\n",
        "from pathlib import Path\n",
        "\n",
        "if not Path(\"olympics_1896_2004.csv\").exists():\n",
        "  !wget https://github.com/jonfernandes/pandas_essential/raw/main/olympics_1896_2004.csv\n",
        "\n",
        "filename = \"olympics_1896_2004.csv\"\n",
        "print(\"Installed all of the necessary files for this section ...\")"
      ],
      "metadata": {
        "id": "TToL2dscfPOv"
      },
      "execution_count": null,
      "outputs": []
    },
    {
      "cell_type": "code",
      "source": [
        "oo = (pd.read_csv(filename, skiprows=5)\n",
        "      .drop('Position', axis=1)\n",
        ")\n",
        "oo.sample(3)"
      ],
      "metadata": {
        "id": "jRjIv_lpvgLA"
      },
      "execution_count": null,
      "outputs": []
    },
    {
      "cell_type": "code",
      "execution_count": null,
      "metadata": {
        "id": "eImgvCkE2DMc"
      },
      "outputs": [],
      "source": [
        "oo.dtypes"
      ]
    },
    {
      "cell_type": "code",
      "execution_count": null,
      "metadata": {
        "id": "Z3cGak7D47Kf"
      },
      "outputs": [],
      "source": [
        "oo.Medal.unique()"
      ]
    },
    {
      "cell_type": "code",
      "execution_count": null,
      "metadata": {
        "id": "FEUzLnJt2DMc"
      },
      "outputs": [],
      "source": [
        "oo.Medal = oo.Medal.astype(\"category\")\n",
        "oo.dtypes"
      ]
    },
    {
      "cell_type": "code",
      "execution_count": null,
      "metadata": {
        "id": "bAmV0u-Y6ZjR"
      },
      "outputs": [],
      "source": [
        "oo.Gender.unique()"
      ]
    },
    {
      "cell_type": "code",
      "execution_count": null,
      "metadata": {
        "id": "bBeXGHUJ6iAf"
      },
      "outputs": [],
      "source": [
        "oo['Event Gender'].unique()"
      ]
    },
    {
      "cell_type": "code",
      "execution_count": null,
      "metadata": {
        "id": "N0N06RbL2DMc"
      },
      "outputs": [],
      "source": [
        "oo.Gender = oo.Gender.astype(\"category\")\n",
        "oo['Event Gender'] = oo['Event Gender'].astype(\"category\")\n",
        "oo.dtypes"
      ]
    },
    {
      "cell_type": "code",
      "execution_count": null,
      "metadata": {
        "id": "IWPYJ5622DMd"
      },
      "outputs": [],
      "source": [
        "oo.Medal.astype(\"category\")"
      ]
    },
    {
      "cell_type": "code",
      "execution_count": null,
      "metadata": {
        "id": "dZfDXytt2DMd"
      },
      "outputs": [],
      "source": [
        "pd.Categorical?"
      ]
    },
    {
      "cell_type": "code",
      "execution_count": null,
      "metadata": {
        "id": "6-KFI_Eb2DMd"
      },
      "outputs": [],
      "source": [
        "medal_order = [\"Bronze\", \"Silver\", \"Gold\"]\n",
        "pd.Categorical(oo.Medal, categories=medal_order, ordered=True)"
      ]
    },
    {
      "cell_type": "code",
      "execution_count": null,
      "metadata": {
        "id": "D93d0_Wr2DMe"
      },
      "outputs": [],
      "source": [
        "oo.Medal = pd.Categorical(oo.Medal, categories=medal_order, ordered=True)\n",
        "oo.dtypes"
      ]
    },
    {
      "cell_type": "code",
      "source": [
        "oo.Medal"
      ],
      "metadata": {
        "id": "GihNArACC_oT"
      },
      "execution_count": null,
      "outputs": []
    },
    {
      "cell_type": "code",
      "execution_count": null,
      "metadata": {
        "id": "y0jfCp2R8JRn"
      },
      "outputs": [],
      "source": [
        "oo.sort_values(by=[\"Year\", \"Event\", \"Medal\"], ascending=[True, True, False]).head(7)"
      ]
    },
    {
      "cell_type": "markdown",
      "source": [
        "## Memory usage of different dtypes"
      ],
      "metadata": {
        "id": "gIiaB-pcEKdf"
      }
    },
    {
      "cell_type": "code",
      "source": [
        "!pip install --quiet pandas==2.0.2\n",
        "\n",
        "import pandas as pd\n",
        "from pathlib import Path\n",
        "\n",
        "if not Path(\"olympics_1896_2004.csv\").exists():\n",
        "  !wget https://github.com/jonfernandes/pandas_essential/raw/main/olympics_1896_2004.csv\n",
        "\n",
        "filename = \"olympics_1896_2004.csv\"\n",
        "print(\"Installed all of the necessary files for this section ...\")"
      ],
      "metadata": {
        "id": "6YonaJwdETbf"
      },
      "execution_count": null,
      "outputs": []
    },
    {
      "cell_type": "code",
      "execution_count": null,
      "metadata": {
        "id": "9zzPWxb2-uRW"
      },
      "outputs": [],
      "source": [
        "df = pd.read_csv(filename, skiprows=5)\n",
        "df.dtypes"
      ]
    },
    {
      "cell_type": "code",
      "execution_count": null,
      "metadata": {
        "id": "ZLK0wGa0-yJl"
      },
      "outputs": [],
      "source": [
        "oo.dtypes"
      ]
    },
    {
      "cell_type": "code",
      "source": [
        "oo.Medal.memory_usage?"
      ],
      "metadata": {
        "id": "Cvd_ExfYda3V"
      },
      "execution_count": null,
      "outputs": []
    },
    {
      "cell_type": "code",
      "execution_count": null,
      "metadata": {
        "id": "BZSld4yT2DMg"
      },
      "outputs": [],
      "source": [
        "print(f\"Medal series memory usage using dtype category: {oo.Medal.memory_usage(deep=True)}\")\n",
        "print(f\"Medal series memory usage using dtype object: {df.Medal.memory_usage(deep=True)}\")"
      ]
    },
    {
      "cell_type": "code",
      "execution_count": null,
      "metadata": {
        "id": "EZoF7uo-BcAV"
      },
      "outputs": [],
      "source": [
        "oo.Medal.memory_usage(deep=True) / df.Medal.memory_usage(deep=True)"
      ]
    },
    {
      "cell_type": "code",
      "execution_count": null,
      "metadata": {
        "id": "rrwnjQH32DMf"
      },
      "outputs": [],
      "source": [
        "print(f\"Gender series memory usage using dtype category: {oo.Gender.memory_usage(deep=True)}\")\n",
        "print(f\"Gender series memory usage using dtype object: {df.Gender.memory_usage(deep=True)}\")\n",
        "print(f\"Gender series memory usage using dtype category: {oo['Event Gender'].memory_usage(deep=True)}\")\n",
        "print(f\"Gender series memory usage using dtype object: {df['Event Gender'].memory_usage(deep=True)}\")"
      ]
    },
    {
      "cell_type": "code",
      "execution_count": null,
      "metadata": {
        "id": "XNQxzZDw9lz_"
      },
      "outputs": [],
      "source": [
        "oo.City.astype(\"string\")"
      ]
    },
    {
      "cell_type": "code",
      "execution_count": null,
      "metadata": {
        "id": "klsqOxME9-XF"
      },
      "outputs": [],
      "source": [
        "oo.sample(2)"
      ]
    },
    {
      "cell_type": "code",
      "source": [
        "oo.dtypes"
      ],
      "metadata": {
        "id": "6iW7ALfUF4iY"
      },
      "execution_count": null,
      "outputs": []
    },
    {
      "cell_type": "code",
      "execution_count": null,
      "metadata": {
        "id": "gg6Ks_9g9ump"
      },
      "outputs": [],
      "source": [
        "oo.City = oo.City.astype(\"string\")\n",
        "oo.Sport = oo.Sport.astype(\"string\")\n",
        "oo.Discipline = oo.Discipline.astype(\"string\")\n",
        "oo[\"Athlete Name\"] = oo[\"Athlete Name\"].astype(\"string\")\n",
        "oo.NOC = oo.NOC.astype(\"string\")\n",
        "oo.Event = oo.Event.astype(\"string\")\n",
        "oo.dtypes"
      ]
    },
    {
      "cell_type": "code",
      "source": [
        "oo.City.dtype"
      ],
      "metadata": {
        "id": "HFM79UpXeQJw"
      },
      "execution_count": null,
      "outputs": []
    },
    {
      "cell_type": "code",
      "source": [
        "df.City.dtype"
      ],
      "metadata": {
        "id": "0yvz-Uj0etHB"
      },
      "execution_count": null,
      "outputs": []
    },
    {
      "cell_type": "code",
      "execution_count": null,
      "metadata": {
        "id": "6Yy4JJQKFa5D"
      },
      "outputs": [],
      "source": [
        "print(f\"City series memory usage using dtype string: {oo.City.memory_usage(deep=True)}\")\n",
        "print(f\"City series memory usage using dtype object: {df.City.memory_usage(deep=True)}\")"
      ]
    },
    {
      "cell_type": "markdown",
      "metadata": {
        "id": "tW9suZ3CGCpG"
      },
      "source": [
        "## Defining dtypes when you read in a file"
      ]
    },
    {
      "cell_type": "code",
      "source": [
        "!pip install --quiet pandas==2.0.2\n",
        "\n",
        "import pandas as pd\n",
        "from pathlib import Path\n",
        "\n",
        "if not Path(\"olympics_1896_2004.csv\").exists():\n",
        "  !wget https://github.com/jonfernandes/pandas_essential/raw/main/olympics_1896_2004.csv\n",
        "\n",
        "filename = \"olympics_1896_2004.csv\"\n",
        "print(\"Installed all of the necessary files for this section ...\")"
      ],
      "metadata": {
        "id": "hsUPA47HfriT"
      },
      "execution_count": null,
      "outputs": []
    },
    {
      "cell_type": "code",
      "source": [
        "oo = (pd.read_csv(filename, skiprows=5)\n",
        "      .drop('Position', axis=1)\n",
        ")\n",
        "oo.sample(3)"
      ],
      "metadata": {
        "id": "Zk8t5MkRIE5N"
      },
      "execution_count": null,
      "outputs": []
    },
    {
      "cell_type": "code",
      "source": [
        "oo.dtypes"
      ],
      "metadata": {
        "id": "vZymSxdVI28x"
      },
      "execution_count": null,
      "outputs": []
    },
    {
      "cell_type": "code",
      "execution_count": null,
      "metadata": {
        "id": "rFdyP-IHGkjl"
      },
      "outputs": [],
      "source": [
        "dtype_mapper = {\"Year\": \"int64\",\n",
        "                \"City\": \"string\",\n",
        "                \"Sport\": \"string\",\n",
        "                \"Discipline\": \"string\",\n",
        "                \"Athlete Name\": \"string\",\n",
        "                \"NOC\": \"string\",\n",
        "                \"Gender\": \"category\",\n",
        "                \"Event\": \"string\",\n",
        "                \"Event_gender\": \"category\",\n",
        "                \"Medal\": \"category\"}\n",
        "\n",
        "dtype_mapper"
      ]
    },
    {
      "cell_type": "code",
      "execution_count": null,
      "metadata": {
        "id": "3mfyl9ZnLjWt"
      },
      "outputs": [],
      "source": [
        "pd.api.types.CategoricalDtype?"
      ]
    },
    {
      "cell_type": "code",
      "execution_count": null,
      "metadata": {
        "id": "1UaAriDnIJd8"
      },
      "outputs": [],
      "source": [
        "ordered_medals = pd.api.types.CategoricalDtype(categories=[\"Bronze\", \"Silver\", \"Gold\"], ordered=True)\n",
        "ordered_medals"
      ]
    },
    {
      "cell_type": "code",
      "execution_count": null,
      "metadata": {
        "id": "C8EZPlNLJD2a"
      },
      "outputs": [],
      "source": [
        "dtype_mapper = {\"Year\": \"int64\",\n",
        "                \"City\": \"string\",\n",
        "                \"Sport\": \"string\",\n",
        "                \"Discipline\": \"string\",\n",
        "                \"Athlete Name\": \"string\",\n",
        "                \"NOC\": \"string\",\n",
        "                \"Gender\": \"category\",\n",
        "                \"Event\": \"string\",\n",
        "                \"Event_gender\": \"category\",\n",
        "                \"Medal\": ordered_medals}\n",
        "\n",
        "dtype_mapper"
      ]
    },
    {
      "cell_type": "code",
      "execution_count": null,
      "metadata": {
        "id": "hHzmd08z2DMf"
      },
      "outputs": [],
      "source": [
        "oo = pd.read_csv(filename, skiprows=5, dtype=dtype_mapper)\n",
        "oo.sample(3)"
      ]
    },
    {
      "cell_type": "code",
      "execution_count": null,
      "metadata": {
        "id": "0JGknumqLPNg"
      },
      "outputs": [],
      "source": [
        "oo.dtypes"
      ]
    },
    {
      "cell_type": "code",
      "source": [
        "oo[\"Event Gender\"].unique()"
      ],
      "metadata": {
        "id": "mqBaGeK_Je4B"
      },
      "execution_count": null,
      "outputs": []
    },
    {
      "cell_type": "code",
      "source": [
        "oo = pd.read_csv(filename, skiprows=5, dtype=dtype_mapper)\n",
        "oo['Event Gender'] = oo['Event Gender'].astype(\"category\")\n",
        "oo.dtypes"
      ],
      "metadata": {
        "id": "pkh4kO8nWciS"
      },
      "execution_count": null,
      "outputs": []
    },
    {
      "cell_type": "markdown",
      "metadata": {
        "id": "fBBqvMS_uhNk"
      },
      "source": [
        "## Python Functions"
      ]
    },
    {
      "cell_type": "code",
      "source": [
        "!pip install --quiet pandas==2.0.2\n",
        "\n",
        "import pandas as pd\n",
        "from pathlib import Path\n",
        "\n",
        "if not Path(\"olympics_1896_2004.csv\").exists():\n",
        "  !wget https://github.com/jonfernandes/pandas_essential/raw/main/olympics_1896_2004.csv\n",
        "\n",
        "filename = \"olympics_1896_2004.csv\"\n",
        "print(\"Installed all of the necessary files for this section ...\")"
      ],
      "metadata": {
        "id": "TjBgdDnGiTA2"
      },
      "execution_count": null,
      "outputs": []
    },
    {
      "cell_type": "code",
      "execution_count": null,
      "metadata": {
        "id": "E7dIcbNPUTn1"
      },
      "outputs": [],
      "source": [
        "def show_df(filename=\"olympics_1896_2004.csv\"):\n",
        "  \"\"\"Read in csv file and display DataFrame\"\"\"\n",
        "  df = pd.read_csv(filename, skiprows=5)\n",
        "  return df\n",
        "\n",
        "show_df()"
      ]
    },
    {
      "cell_type": "code",
      "execution_count": null,
      "metadata": {
        "id": "O0g0X3fKVU6L"
      },
      "outputs": [],
      "source": [
        "type(show_df())"
      ]
    },
    {
      "cell_type": "code",
      "execution_count": null,
      "metadata": {
        "id": "ihKcmGeLZKMW"
      },
      "outputs": [],
      "source": [
        "ordered_medals = pd.api.types.CategoricalDtype(categories=[\"Bronze\", \"Silver\", \"Gold\"], ordered=True)\n",
        "dtype_mapper = {\"Year\": \"int64\",\n",
        "                \"City\": \"string\",\n",
        "                \"Sport\": \"string\",\n",
        "                \"Discipline\": \"string\",\n",
        "                \"Athlete Name\": \"string\",\n",
        "                \"NOC\": \"string\",\n",
        "                \"Gender\": \"category\",\n",
        "                \"Event\": \"string\",\n",
        "                \"Event_gender\": \"category\",\n",
        "                \"Medal\": ordered_medals}\n",
        "\n",
        "dtype_mapper"
      ]
    },
    {
      "cell_type": "code",
      "execution_count": null,
      "metadata": {
        "id": "oCJcaJFaZMOU"
      },
      "outputs": [],
      "source": [
        "oo = (pd.read_csv(filename, skiprows=5, dtype=dtype_mapper)\n",
        "      .drop('Position', axis=1)\n",
        ")\n",
        "oo.sample(3)"
      ]
    },
    {
      "cell_type": "code",
      "execution_count": null,
      "metadata": {
        "id": "3oXQfacqursw"
      },
      "outputs": [],
      "source": [
        "def preprocess(filename = \"olympics_1896_2004.csv\"):\n",
        "  \"\"\"Preparing and transforming dataframe\"\"\"\n",
        "  print(f\"Preprocessing {filename} ...\\n\")\n",
        "  ordered_medals = pd.api.types.CategoricalDtype(categories=[\"Bronze\", \"Silver\", \"Gold\"], ordered=True)\n",
        "  dtype_mapper = {\"Year\": \"int64\",\n",
        "                \"City\": \"string\",\n",
        "                \"Sport\": \"string\",\n",
        "                \"Discipline\": \"string\",\n",
        "                \"Athlete Name\": \"string\",\n",
        "                \"NOC\": \"string\",\n",
        "                \"Gender\": \"category\",\n",
        "                \"Event\": \"string\",\n",
        "                \"Event_gender\": \"category\",\n",
        "                \"Medal\": ordered_medals}\n",
        "  df = (pd.read_csv(filename, skiprows=5, dtype=dtype_mapper)\n",
        "        .drop('Position', axis=1)\n",
        "  )\n",
        "\n",
        "  return df\n",
        "\n",
        "preprocess()"
      ]
    },
    {
      "cell_type": "code",
      "execution_count": null,
      "metadata": {
        "id": "BwQNeMAivzLq"
      },
      "outputs": [],
      "source": [
        "preprocess()"
      ]
    },
    {
      "cell_type": "code",
      "execution_count": null,
      "metadata": {
        "id": "xREoRlWqvp9J"
      },
      "outputs": [],
      "source": [
        "oo = preprocess()\n",
        "oo.sample(3)"
      ]
    },
    {
      "cell_type": "code",
      "source": [
        "oo.dtypes"
      ],
      "metadata": {
        "id": "kGQ5zFebVPAV"
      },
      "execution_count": null,
      "outputs": []
    },
    {
      "cell_type": "code",
      "source": [
        "oo[\"Event Gender\"].unique()"
      ],
      "metadata": {
        "id": "jWr1WWwyrj3Z"
      },
      "execution_count": null,
      "outputs": []
    },
    {
      "cell_type": "code",
      "source": [
        "def preprocess(filename = \"olympics_1896_2004.csv\"):\n",
        "  \"\"\"Preparing and transforming dataframe\"\"\"\n",
        "  print(f\"Preprocessing {filename} ...\\n\")\n",
        "  ordered_medals = pd.api.types.CategoricalDtype(categories=[\"Bronze\", \"Silver\", \"Gold\"], ordered=True)\n",
        "  dtype_mapper = {\"Year\": \"int64\",\n",
        "                \"City\": \"string\",\n",
        "                \"Sport\": \"string\",\n",
        "                \"Discipline\": \"string\",\n",
        "                \"Athlete Name\": \"string\",\n",
        "                \"NOC\": \"string\",\n",
        "                \"Gender\": \"category\",\n",
        "                \"Event\": \"string\",\n",
        "                \"Event_gender\": \"category\",\n",
        "                \"Medal\": ordered_medals}\n",
        "  df = (pd.read_csv(filename, skiprows=5, dtype=dtype_mapper)\n",
        "        .drop('Position', axis=1)\n",
        "  )\n",
        "  df[\"Event Gender\"] = df[\"Event Gender\"].astype(\"category\")\n",
        "  return df\n",
        "\n",
        "oo = preprocess()\n",
        "oo.sample(3)"
      ],
      "metadata": {
        "id": "9RhvwIbZXwPo"
      },
      "execution_count": null,
      "outputs": []
    },
    {
      "cell_type": "code",
      "source": [
        "oo.dtypes"
      ],
      "metadata": {
        "id": "bjXSAvd_YBi1"
      },
      "execution_count": null,
      "outputs": []
    },
    {
      "cell_type": "markdown",
      "metadata": {
        "id": "RM1S3nJ0vcXs"
      },
      "source": [
        "## Working with Indexes"
      ]
    },
    {
      "cell_type": "code",
      "source": [
        "!pip install --quiet pandas==2.0.2\n",
        "\n",
        "import pandas as pd\n",
        "from pathlib import Path\n",
        "\n",
        "if not Path(\"olympics_1896_2004.csv\").exists():\n",
        "  !wget https://github.com/jonfernandes/pandas_essential/raw/main/olympics_1896_2004.csv\n",
        "\n",
        "filename = \"olympics_1896_2004.csv\"\n",
        "print(\"Installed all of the necessary files for this section ...\")"
      ],
      "metadata": {
        "id": "ELUrukUKprZB"
      },
      "execution_count": null,
      "outputs": []
    },
    {
      "cell_type": "code",
      "execution_count": null,
      "metadata": {
        "id": "2zPiuEBcvblg"
      },
      "outputs": [],
      "source": [
        "def preprocess(filename = \"olympics_1896_2004.csv\"):\n",
        "  \"\"\"Preparing and transforming dataframe\"\"\"\n",
        "  print(f\"Preprocessing {filename} ...\\n\")\n",
        "  ordered_medals = pd.api.types.CategoricalDtype(categories=[\"Bronze\", \"Silver\", \"Gold\"], ordered=True)\n",
        "  dtype_mapper = {\"Year\": \"int64\",\n",
        "                \"City\": \"string\",\n",
        "                \"Sport\": \"string\",\n",
        "                \"Discipline\": \"string\",\n",
        "                \"Athlete Name\": \"string\",\n",
        "                \"NOC\": \"string\",\n",
        "                \"Gender\": \"category\",\n",
        "                \"Event\": \"string\",\n",
        "                \"Event_gender\": \"category\",\n",
        "                \"Medal\": ordered_medals}\n",
        "  df = (pd.read_csv(filename, skiprows=5, dtype=dtype_mapper)\n",
        "        .drop('Position', axis=1)\n",
        "  )\n",
        "  df[\"Event Gender\"] = df[\"Event Gender\"].astype(\"category\")\n",
        "  return df\n",
        "\n",
        "oo = preprocess()\n",
        "oo.head(5)"
      ]
    },
    {
      "cell_type": "code",
      "execution_count": null,
      "metadata": {
        "id": "YGeesWuLw5Tn"
      },
      "outputs": [],
      "source": [
        "oo.index"
      ]
    },
    {
      "cell_type": "code",
      "execution_count": null,
      "metadata": {
        "id": "ZW885B2MxOH-"
      },
      "outputs": [],
      "source": [
        "oo.columns"
      ]
    },
    {
      "cell_type": "code",
      "execution_count": null,
      "metadata": {
        "id": "oGmUPXC6yLWV"
      },
      "outputs": [],
      "source": [
        "oo.shape"
      ]
    },
    {
      "cell_type": "code",
      "execution_count": null,
      "metadata": {
        "id": "joiGhkGTymci"
      },
      "outputs": [],
      "source": [
        "pd.read_csv(filename, skiprows=5, header=None).head()\n"
      ]
    },
    {
      "cell_type": "code",
      "execution_count": null,
      "metadata": {
        "id": "Fjh9SJ4Q0POv"
      },
      "outputs": [],
      "source": [
        "oo = preprocess()\n",
        "oo.head(5)"
      ]
    },
    {
      "cell_type": "code",
      "execution_count": null,
      "metadata": {
        "id": "Y0jhalvD1wJr"
      },
      "outputs": [],
      "source": [
        "oo[oo['Athlete Name'].str.contains(\"LEWIS, Carl\")]"
      ]
    },
    {
      "cell_type": "code",
      "execution_count": null,
      "metadata": {
        "id": "zYCkIFOi2Htz"
      },
      "outputs": [],
      "source": [
        "oo.loc[22719, \"Event\"]"
      ]
    },
    {
      "cell_type": "code",
      "execution_count": null,
      "metadata": {
        "id": "ONnjbHTa3Amt"
      },
      "outputs": [],
      "source": [
        "oo = oo.set_index(\"Athlete Name\")\n",
        "oo.head(5)"
      ]
    },
    {
      "cell_type": "code",
      "execution_count": null,
      "metadata": {
        "id": "sNKbF5EW4CfA"
      },
      "outputs": [],
      "source": [
        "oo.index"
      ]
    },
    {
      "cell_type": "code",
      "execution_count": null,
      "metadata": {
        "id": "p4HUipxR3Vqt"
      },
      "outputs": [],
      "source": [
        "oo.loc[\"LEWIS, Carl\", \"Event\"]"
      ]
    },
    {
      "cell_type": "code",
      "execution_count": null,
      "metadata": {
        "id": "hivXx2NJ4stZ"
      },
      "outputs": [],
      "source": [
        "oo.head(3)"
      ]
    },
    {
      "cell_type": "code",
      "execution_count": null,
      "metadata": {
        "id": "HyG7IgT54Vsx"
      },
      "outputs": [],
      "source": [
        "oo.columns"
      ]
    },
    {
      "cell_type": "code",
      "execution_count": null,
      "metadata": {
        "id": "JuTTmVYQ4Rs1"
      },
      "outputs": [],
      "source": [
        "oo.shape"
      ]
    },
    {
      "cell_type": "code",
      "execution_count": null,
      "metadata": {
        "id": "IvMMCdGj6TJI"
      },
      "outputs": [],
      "source": [
        "oo.head(3)"
      ]
    },
    {
      "cell_type": "code",
      "execution_count": null,
      "metadata": {
        "id": "7lnnepwCDU95"
      },
      "outputs": [],
      "source": [
        "oo.loc[\"LEWIS, Carl\", [\"Year\", \"Event\", \"Medal\"]]"
      ]
    },
    {
      "cell_type": "code",
      "execution_count": null,
      "metadata": {
        "id": "UwegmOH2DvrZ"
      },
      "outputs": [],
      "source": [
        "oo.loc[\"LEWIS, Carl\", :]"
      ]
    },
    {
      "cell_type": "code",
      "execution_count": null,
      "metadata": {
        "id": "Zjq6Ap2_D7_s"
      },
      "outputs": [],
      "source": [
        "oo.loc[\"LEWIS, Carl\"]"
      ]
    },
    {
      "cell_type": "code",
      "execution_count": null,
      "metadata": {
        "id": "aCqAQxgw6dfc"
      },
      "outputs": [],
      "source": [
        "oo = oo.sort_index()\n",
        "oo.head(3)"
      ]
    },
    {
      "cell_type": "code",
      "execution_count": null,
      "metadata": {
        "id": "KICIHBuU5HBL"
      },
      "outputs": [],
      "source": [
        "oo = oo.reset_index()\n",
        "oo.head(3)"
      ]
    },
    {
      "cell_type": "code",
      "execution_count": null,
      "metadata": {
        "id": "UK37rcqdCrU2"
      },
      "outputs": [],
      "source": [
        "oo.iloc[0, 0]"
      ]
    },
    {
      "cell_type": "code",
      "source": [
        "oo.iloc[0, 5]"
      ],
      "metadata": {
        "id": "olA305lnyCQg"
      },
      "execution_count": null,
      "outputs": []
    },
    {
      "cell_type": "code",
      "source": [
        "oo.iloc[0, :]"
      ],
      "metadata": {
        "id": "JH7Gr3RLyI8E"
      },
      "execution_count": null,
      "outputs": []
    },
    {
      "cell_type": "code",
      "source": [
        "oo.iloc[0]"
      ],
      "metadata": {
        "id": "raIogoAPyP3N"
      },
      "execution_count": null,
      "outputs": []
    },
    {
      "cell_type": "markdown",
      "metadata": {
        "id": "SCq05iZiwibC"
      },
      "source": [
        "## Being Productive in Pandas - My Best Practices"
      ]
    },
    {
      "cell_type": "code",
      "source": [
        "!pip install --quiet pandas==2.0.2\n",
        "\n",
        "import pandas as pd\n",
        "from pathlib import Path\n",
        "\n",
        "if not Path(\"olympics_1896_2004.csv\").exists():\n",
        "  !wget https://github.com/jonfernandes/pandas_essential/raw/main/olympics_1896_2004.csv\n",
        "\n",
        "filename = \"olympics_1896_2004.csv\"\n",
        "print(\"Installed all of the necessary files for this section ...\")"
      ],
      "metadata": {
        "id": "jnHdKL7YpzwM"
      },
      "execution_count": null,
      "outputs": []
    },
    {
      "cell_type": "code",
      "source": [
        "def preprocess(filename = \"olympics_1896_2004.csv\"):\n",
        "  \"\"\"Preparing and transforming dataframe\"\"\"\n",
        "  print(f\"Preprocessing {filename} ...\\n\")\n",
        "  ordered_medals = pd.api.types.CategoricalDtype(categories=[\"Bronze\", \"Silver\", \"Gold\"], ordered=True)\n",
        "  dtype_mapper = {\"Year\": \"int64\",\n",
        "                \"City\": \"string\",\n",
        "                \"Sport\": \"string\",\n",
        "                \"Discipline\": \"string\",\n",
        "                \"Athlete Name\": \"string\",\n",
        "                \"NOC\": \"string\",\n",
        "                \"Gender\": \"category\",\n",
        "                \"Event\": \"string\",\n",
        "                \"Event_gender\": \"category\",\n",
        "                \"Medal\": ordered_medals}\n",
        "  df = (pd.read_csv(filename, skiprows=5, dtype=dtype_mapper)\n",
        "        .drop('Position', axis=1)\n",
        "  )\n",
        "  df[\"Event Gender\"] = df[\"Event Gender\"].astype(\"category\")\n",
        "  return df\n",
        "\n",
        "oo = preprocess()\n",
        "oo.sample(3)"
      ],
      "metadata": {
        "id": "k0-XRGK7nR62"
      },
      "execution_count": null,
      "outputs": []
    },
    {
      "cell_type": "markdown",
      "source": [
        "**Get immediate feedback**"
      ],
      "metadata": {
        "id": "5BP1DH0bm6fn"
      }
    },
    {
      "cell_type": "code",
      "source": [
        "oo = preprocess()"
      ],
      "metadata": {
        "id": "kCnXvBcAm9cD"
      },
      "execution_count": null,
      "outputs": []
    },
    {
      "cell_type": "code",
      "source": [
        "oo.sample(3)"
      ],
      "metadata": {
        "id": "HZTxSp_xqZ0H"
      },
      "execution_count": null,
      "outputs": []
    },
    {
      "cell_type": "code",
      "source": [
        "oo = preprocess()\n",
        "oo.sample(3)"
      ],
      "metadata": {
        "id": "mxt4ISkDnUpd"
      },
      "execution_count": null,
      "outputs": []
    },
    {
      "cell_type": "markdown",
      "source": [
        "**Understand the basics of Python**"
      ],
      "metadata": {
        "id": "Ro0ieaQIcf9m"
      }
    },
    {
      "cell_type": "code",
      "source": [
        "dir(pd)"
      ],
      "metadata": {
        "id": "XKgsz5cVbbBs"
      },
      "execution_count": null,
      "outputs": []
    },
    {
      "cell_type": "code",
      "source": [
        "[func.upper() for func in dir(pd)]"
      ],
      "metadata": {
        "id": "vaTnK1HUcsda"
      },
      "execution_count": null,
      "outputs": []
    },
    {
      "cell_type": "markdown",
      "metadata": {
        "id": "hcg8ujl-mVeu"
      },
      "source": [
        "**Searching for method names**"
      ]
    },
    {
      "cell_type": "code",
      "execution_count": null,
      "metadata": {
        "id": "H8vzfekQwqx4"
      },
      "outputs": [],
      "source": [
        "import re\n",
        "import pandas as pd\n",
        "\n",
        "search_string = \"excel\"\n",
        "\n",
        "[func for func in dir(pd) if re.search(rf\"{search_string}\", func, re.IGNORECASE)]"
      ]
    },
    {
      "cell_type": "code",
      "source": [
        "pd.read_excel?"
      ],
      "metadata": {
        "id": "ryj0jvuKrEB-"
      },
      "execution_count": null,
      "outputs": []
    },
    {
      "cell_type": "code",
      "source": [
        "[func\n",
        " for func in dir(pd)\n",
        " if re.search(rf\"{search_string}\", func, re.IGNORECASE)]"
      ],
      "metadata": {
        "id": "vlhzHMgqztPe"
      },
      "execution_count": null,
      "outputs": []
    },
    {
      "cell_type": "markdown",
      "metadata": {
        "id": "ZeLHFbxnmZQf"
      },
      "source": [
        "**Documentation while staying in the IDE**"
      ]
    },
    {
      "cell_type": "code",
      "execution_count": null,
      "metadata": {
        "id": "50S1wJpKxy3J"
      },
      "outputs": [],
      "source": [
        "pd.read_excel?"
      ]
    },
    {
      "cell_type": "markdown",
      "metadata": {
        "id": "E4v0oobOmjYF"
      },
      "source": [
        "**head() vs. sample()**"
      ]
    },
    {
      "cell_type": "code",
      "execution_count": null,
      "metadata": {
        "id": "K3BAxqULz_Ef"
      },
      "outputs": [],
      "source": [
        "oo = (pd.read_csv(filename, skiprows=5)\n",
        "      .drop('Position', axis=1)\n",
        ")\n",
        "oo.sample(3)"
      ]
    },
    {
      "cell_type": "markdown",
      "metadata": {
        "id": "zXtT_AqrmpzE"
      },
      "source": [
        "**Functions to preprocess data. Modify the data, not the original files**"
      ]
    },
    {
      "cell_type": "code",
      "execution_count": null,
      "metadata": {
        "id": "T_SLXopI0S87"
      },
      "outputs": [],
      "source": [
        "def preprocess(filename):\n",
        "  \"\"\"Transform the data. Change the dataframe and not the original csv files\"\"\"\n",
        "  ...\n",
        "\n",
        "preprocess(filename)"
      ]
    },
    {
      "cell_type": "markdown",
      "metadata": {
        "id": "P_UymMfcmzh8"
      },
      "source": [
        "**Using python assert**"
      ]
    },
    {
      "cell_type": "code",
      "execution_count": null,
      "metadata": {
        "id": "cablAtbT0qAf"
      },
      "outputs": [],
      "source": [
        "oo[(oo.Year < 1896) & (oo.Year > 2004)].shape"
      ]
    },
    {
      "cell_type": "code",
      "execution_count": null,
      "metadata": {
        "id": "xYmXnSHq1ZVE"
      },
      "outputs": [],
      "source": [
        "oo[(oo.Year < 1896) & (oo.Year > 2004)].shape[0] == 0"
      ]
    },
    {
      "cell_type": "code",
      "execution_count": null,
      "metadata": {
        "id": "iCll2J2k5Imw"
      },
      "outputs": [],
      "source": [
        "assert(oo[(oo.Year < 1896) & (oo.Year > 2004)].shape[0] == 0)"
      ]
    },
    {
      "cell_type": "code",
      "execution_count": null,
      "metadata": {
        "id": "VxIi0y9y1dRn"
      },
      "outputs": [],
      "source": [
        "assert(oo[(oo.Year < 1896) & (oo.Year > 2004)].shape[0] == 0)\n",
        "print(\"All tests passed\")"
      ]
    },
    {
      "cell_type": "code",
      "execution_count": null,
      "metadata": {
        "id": "wxO2TQRG5Awz"
      },
      "outputs": [],
      "source": [
        "assert(oo[(oo.Year < 1896) & (oo.Year > 2004)].shape[0] == (0, 10))\n",
        "print(\"All tests passed\")"
      ]
    },
    {
      "cell_type": "markdown",
      "metadata": {
        "id": "jC4ahcAcnOot"
      },
      "source": [
        "**Chaining and splitting over several rows. No inplace=True**"
      ]
    },
    {
      "cell_type": "code",
      "execution_count": null,
      "metadata": {
        "id": "frTUBUC357py"
      },
      "outputs": [],
      "source": [
        "oo = pd.read_csv(filename, skiprows=5)\n",
        "oo = oo.drop('Position', axis=1)\n",
        "oo.head(3)"
      ]
    },
    {
      "cell_type": "code",
      "source": [
        "oo = (pd.read_csv(filename, skiprows=5)\n",
        "      .drop('Position', axis=1)\n",
        ")\n",
        "oo.head(3)"
      ],
      "metadata": {
        "id": "PChfl-uKoZC7"
      },
      "execution_count": null,
      "outputs": []
    },
    {
      "cell_type": "code",
      "execution_count": null,
      "metadata": {
        "id": "HKLzCINP_r-h"
      },
      "outputs": [],
      "source": [
        "last3 = pd.read_csv(filename, skiprows=5).sort_values(['Year', 'Athlete Name']).tail(3)\n",
        "last3"
      ]
    },
    {
      "cell_type": "code",
      "execution_count": null,
      "metadata": {
        "id": "JufCdeUYAAfi"
      },
      "outputs": [],
      "source": [
        "last3 = (pd.read_csv(filename, skiprows=5)\n",
        "        .sort_values(['Year', 'Athlete Name'])\n",
        "        .tail(3)\n",
        ")\n",
        "last3"
      ]
    },
    {
      "cell_type": "code",
      "execution_count": null,
      "metadata": {
        "id": "qPynmpjEAgNJ"
      },
      "outputs": [],
      "source": [
        "last3 = (pd.read_csv(filename, skiprows=5)\n",
        "#        .sort_values(['Year', 'Athlete Name'])\n",
        "        .tail(3)\n",
        ")\n",
        "last3"
      ]
    },
    {
      "cell_type": "markdown",
      "source": [
        "**isin()**"
      ],
      "metadata": {
        "id": "6UqKSsGOr_tV"
      }
    },
    {
      "cell_type": "code",
      "source": [
        "oo.Year.isin?"
      ],
      "metadata": {
        "id": "UIz-lkJ_xqVQ"
      },
      "execution_count": null,
      "outputs": []
    },
    {
      "cell_type": "code",
      "source": [
        "years_of_interest = [1972, 1980, 1984, 1992, 2000, 2004]"
      ],
      "metadata": {
        "id": "OCvhY0qYxCRd"
      },
      "execution_count": null,
      "outputs": []
    },
    {
      "cell_type": "code",
      "source": [
        "oo[oo.Year.isin(years_of_interest)]"
      ],
      "metadata": {
        "id": "COsacC9sr_R7"
      },
      "execution_count": null,
      "outputs": []
    },
    {
      "cell_type": "code",
      "source": [
        "oo[~oo.Year.isin(years_of_interest)]"
      ],
      "metadata": {
        "id": "KnnNeawWyGjI"
      },
      "execution_count": null,
      "outputs": []
    },
    {
      "cell_type": "markdown",
      "metadata": {
        "id": "FFNB7w6Kn4wQ"
      },
      "source": [
        "**Finding and dealing with missing values**"
      ]
    },
    {
      "cell_type": "code",
      "execution_count": null,
      "metadata": {
        "id": "OvZWEEl0mPpt"
      },
      "outputs": [],
      "source": [
        "oo.info()"
      ]
    },
    {
      "cell_type": "markdown",
      "metadata": {
        "id": "Z0rYN2NIPxNZ"
      },
      "source": [
        "## Creating Series and DataFrames"
      ]
    },
    {
      "cell_type": "code",
      "source": [
        "import pandas as pd"
      ],
      "metadata": {
        "id": "aV6MY1Xt0KXm"
      },
      "execution_count": null,
      "outputs": []
    },
    {
      "cell_type": "code",
      "execution_count": null,
      "metadata": {
        "id": "7JJx8J__NISg"
      },
      "outputs": [],
      "source": [
        "city = [\"London\", \"Rio\", \"Tokyo\"]\n",
        "start_date = [\"27th Jul, 2012\", \"5th Aug, 2016\", \"23rd July, 2021\"]"
      ]
    },
    {
      "cell_type": "code",
      "execution_count": null,
      "metadata": {
        "id": "wSq6TkwFp09e"
      },
      "outputs": [],
      "source": [
        "pd.Series(city)"
      ]
    },
    {
      "cell_type": "code",
      "execution_count": null,
      "metadata": {
        "id": "2enzKn6_b5Sp"
      },
      "outputs": [],
      "source": [
        "pd.DataFrame({\"City\": pd.Series(city),\n",
        "              \"Start Date\": pd.Series(start_date)})"
      ]
    },
    {
      "cell_type": "code",
      "execution_count": null,
      "metadata": {
        "id": "sQhbHFRCAhF5"
      },
      "outputs": [],
      "source": [
        "pd.DataFrame({\"City\": city,\n",
        "              \"Start Date\": start_date})"
      ]
    },
    {
      "cell_type": "code",
      "source": [
        "pd.DataFrame(zip(city, start_date))"
      ],
      "metadata": {
        "id": "5s9m1kYq2E1q"
      },
      "execution_count": null,
      "outputs": []
    },
    {
      "cell_type": "code",
      "execution_count": null,
      "metadata": {
        "id": "mbFN8_X5bJ7K"
      },
      "outputs": [],
      "source": [
        "pd.DataFrame(zip(city, start_date), columns=[\"City\", \"Start Date\"])"
      ]
    },
    {
      "cell_type": "markdown",
      "metadata": {
        "id": "mFDo3MYfd60y"
      },
      "source": [
        "## Working with dates"
      ]
    },
    {
      "cell_type": "code",
      "source": [
        "import pandas as pd"
      ],
      "metadata": {
        "id": "kv-qiZLQ2L4e"
      },
      "execution_count": null,
      "outputs": []
    },
    {
      "cell_type": "code",
      "execution_count": null,
      "metadata": {
        "id": "tCe5g9CpfTda"
      },
      "outputs": [],
      "source": [
        "city = [\"London\", \"Rio\", \"Tokyo\"]\n",
        "start_date = [\"07-27-2012\", \"5th Aug, 2016\", \"23rd Jul, 2021\"]\n",
        "end_date = [\"12th Aug, 2012\", \"21-08-2016\", \"8th Aug, 2021\"]"
      ]
    },
    {
      "cell_type": "code",
      "execution_count": null,
      "metadata": {
        "id": "rJMXpKQTdx-g"
      },
      "outputs": [],
      "source": [
        "games = pd.DataFrame(zip(city, start_date, end_date), columns=[\"City\", \"Start Date\", \"End Date\"])\n",
        "games"
      ]
    },
    {
      "cell_type": "code",
      "execution_count": null,
      "metadata": {
        "id": "GmCoDvSyd_C6"
      },
      "outputs": [],
      "source": [
        "games.dtypes"
      ]
    },
    {
      "cell_type": "code",
      "execution_count": null,
      "metadata": {
        "id": "Wz1bAV3SeCk_"
      },
      "outputs": [],
      "source": [
        "import re\n",
        "import pandas as pd\n",
        "\n",
        "search_string = \"date\"\n",
        "\n",
        "[func for func in dir(pd) if re.search(rf\"{search_string}\", func, re.IGNORECASE)]"
      ]
    },
    {
      "cell_type": "code",
      "source": [
        "pd.to_datetime?"
      ],
      "metadata": {
        "id": "orEyvILk6ueE"
      },
      "execution_count": null,
      "outputs": []
    },
    {
      "cell_type": "code",
      "execution_count": null,
      "metadata": {
        "id": "rD15NL_veS6L"
      },
      "outputs": [],
      "source": [
        "#pd.to_datetime(games[\"Start Date\"])"
      ]
    },
    {
      "cell_type": "code",
      "source": [
        "pd.to_datetime(games[\"Start Date\"], format='mixed')"
      ],
      "metadata": {
        "id": "bp1qfHo28QoH"
      },
      "execution_count": null,
      "outputs": []
    },
    {
      "cell_type": "code",
      "execution_count": null,
      "metadata": {
        "id": "85602zibeibf"
      },
      "outputs": [],
      "source": [
        "games[\"Start Date\"] = pd.to_datetime(games[\"Start Date\"], format='mixed')\n",
        "games[\"End Date\"] = pd.to_datetime(games[\"End Date\"], format='mixed')\n",
        "games[\"City\"] = games.City.astype(\"string\")\n",
        "games"
      ]
    },
    {
      "cell_type": "code",
      "execution_count": null,
      "metadata": {
        "id": "ZvB1OP3Xen30"
      },
      "outputs": [],
      "source": [
        "games.dtypes"
      ]
    },
    {
      "cell_type": "code",
      "execution_count": null,
      "metadata": {
        "id": "vyq0kyJRiVcV"
      },
      "outputs": [],
      "source": [
        "games[\"End Date\"]"
      ]
    },
    {
      "cell_type": "code",
      "execution_count": null,
      "metadata": {
        "id": "jYSyhes9iXYh"
      },
      "outputs": [],
      "source": [
        "games[\"Start Date\"]"
      ]
    },
    {
      "cell_type": "code",
      "execution_count": null,
      "metadata": {
        "id": "BiCTrRtth_75"
      },
      "outputs": [],
      "source": [
        "games[\"End Date\"] - games[\"Start Date\"]"
      ]
    },
    {
      "cell_type": "code",
      "execution_count": null,
      "metadata": {
        "id": "JniIyVA-jDeN"
      },
      "outputs": [],
      "source": [
        "games = games.assign(duration=games[\"End Date\"] - games[\"Start Date\"])\n",
        "games"
      ]
    },
    {
      "cell_type": "code",
      "execution_count": null,
      "metadata": {
        "id": "8ePDtaiqjljJ"
      },
      "outputs": [],
      "source": [
        "games.dtypes"
      ]
    },
    {
      "cell_type": "markdown",
      "metadata": {
        "id": "bU802QvxZOh_"
      },
      "source": [
        "## Combining DataFrames"
      ]
    },
    {
      "cell_type": "code",
      "source": [
        "import pandas as pd"
      ],
      "metadata": {
        "id": "uAHilytz_xAs"
      },
      "execution_count": null,
      "outputs": []
    },
    {
      "cell_type": "code",
      "execution_count": null,
      "metadata": {
        "id": "Bfn4C3ZTdOIC"
      },
      "outputs": [],
      "source": [
        "start = pd.DataFrame({\"city\": [\"London\", \"Rio\", \"Tokyo\"],\n",
        "                      \"start_date\": [\"27th Jul, 2012\", \"5th Aug, 2016\", \"23rd July, 2021\"]})\n",
        "start"
      ]
    },
    {
      "cell_type": "code",
      "execution_count": null,
      "metadata": {
        "id": "qbZm-hmRcMJs"
      },
      "outputs": [],
      "source": [
        "end = pd.DataFrame({\"City\": [\"London\", \"Tokyo\", \"Paris\"],\n",
        "                    \"end_date\": [\"12th Aug, 2012\", \"8th Aug, 2021\", \"11th Aug, 2024\"]})\n",
        "end"
      ]
    },
    {
      "cell_type": "code",
      "execution_count": null,
      "metadata": {
        "id": "1v4gGo1XnxES"
      },
      "outputs": [],
      "source": [
        "pd.concat?"
      ]
    },
    {
      "cell_type": "code",
      "execution_count": null,
      "metadata": {
        "id": "Cp6Y8fFlnrEY"
      },
      "outputs": [],
      "source": [
        "pd.concat([start, end], axis=0)"
      ]
    },
    {
      "cell_type": "code",
      "source": [
        "end = pd.DataFrame({\"city\": [\"London\", \"Tokyo\", \"Paris\"],\n",
        "                    \"end_date\": [\"12th Aug, 2012\", \"8th Aug, 2021\", \"11th Aug, 2024\"]})\n",
        "end"
      ],
      "metadata": {
        "id": "LBcoth7NAsBZ"
      },
      "execution_count": null,
      "outputs": []
    },
    {
      "cell_type": "code",
      "source": [
        "pd.concat([start, end], axis=0)"
      ],
      "metadata": {
        "id": "3W6Ml__fBDT-"
      },
      "execution_count": null,
      "outputs": []
    },
    {
      "cell_type": "code",
      "execution_count": null,
      "metadata": {
        "id": "IV8rqQUnn5V-"
      },
      "outputs": [],
      "source": [
        "pd.concat([start, end], axis=1)"
      ]
    },
    {
      "cell_type": "markdown",
      "metadata": {
        "id": "95AObzLMaJ2O"
      },
      "source": [
        "**Inner join**"
      ]
    },
    {
      "cell_type": "code",
      "execution_count": null,
      "metadata": {
        "id": "mL_lnFQl_7pE"
      },
      "outputs": [],
      "source": [
        "start"
      ]
    },
    {
      "cell_type": "code",
      "execution_count": null,
      "metadata": {
        "id": "4CNVJS3f_7pE"
      },
      "outputs": [],
      "source": [
        "end"
      ]
    },
    {
      "cell_type": "code",
      "source": [
        "pd.merge?"
      ],
      "metadata": {
        "id": "O5wR6KsxA5HZ"
      },
      "execution_count": null,
      "outputs": []
    },
    {
      "cell_type": "code",
      "execution_count": null,
      "metadata": {
        "id": "4ZB3I1hDlsfT"
      },
      "outputs": [],
      "source": [
        "pd.merge(left=start, right=end, on=\"city\", how=\"inner\")"
      ]
    },
    {
      "cell_type": "markdown",
      "metadata": {
        "id": "x4qMqkY6aWfy"
      },
      "source": [
        "**Outer join**"
      ]
    },
    {
      "cell_type": "code",
      "execution_count": null,
      "metadata": {
        "id": "gXlmFT4FmP6B"
      },
      "outputs": [],
      "source": [
        "start"
      ]
    },
    {
      "cell_type": "code",
      "execution_count": null,
      "metadata": {
        "id": "vxXO0chfmRG7"
      },
      "outputs": [],
      "source": [
        "end"
      ]
    },
    {
      "cell_type": "code",
      "execution_count": null,
      "metadata": {
        "id": "EyPqa2Ndk5Mz"
      },
      "outputs": [],
      "source": [
        "pd.merge(left=start, right=end, on=\"city\", how=\"outer\")"
      ]
    },
    {
      "cell_type": "markdown",
      "metadata": {
        "id": "VKkhqBWfad0J"
      },
      "source": [
        "**Left join**"
      ]
    },
    {
      "cell_type": "code",
      "execution_count": null,
      "metadata": {
        "id": "Ts5pNF6mmWnh"
      },
      "outputs": [],
      "source": [
        "start"
      ]
    },
    {
      "cell_type": "code",
      "execution_count": null,
      "metadata": {
        "id": "uuAtLImaau4u"
      },
      "outputs": [],
      "source": [
        "pd.merge(left=start, right=end, on=\"city\", how=\"left\")"
      ]
    },
    {
      "cell_type": "markdown",
      "metadata": {
        "id": "dPgGwru2a9TB"
      },
      "source": [
        "**Right join**"
      ]
    },
    {
      "cell_type": "code",
      "execution_count": null,
      "metadata": {
        "id": "rXpbjz6HmaJh"
      },
      "outputs": [],
      "source": [
        "end"
      ]
    },
    {
      "cell_type": "code",
      "execution_count": null,
      "metadata": {
        "id": "nE5Gxayoa_XU"
      },
      "outputs": [],
      "source": [
        "pd.merge(left=start, right=end, on=\"city\", how=\"right\")"
      ]
    },
    {
      "cell_type": "markdown",
      "metadata": {
        "id": "DEyNm2RLoeGd"
      },
      "source": [
        "## Combining Datasets"
      ]
    },
    {
      "cell_type": "code",
      "source": [
        "!pip install --quiet pandas==2.0.2\n",
        "\n",
        "import pandas as pd\n",
        "from pathlib import Path\n",
        "\n",
        "if not Path(\"olympics_1896_2004.csv\").exists():\n",
        "  !wget https://github.com/jonfernandes/pandas_essential/raw/main/olympics_1896_2004.csv\n",
        "\n",
        "filename = \"olympics_1896_2004.csv\"\n",
        "print(\"Installed all of the necessary files for this section ...\")"
      ],
      "metadata": {
        "id": "5FPr9Euwp9Lj"
      },
      "execution_count": null,
      "outputs": []
    },
    {
      "cell_type": "code",
      "source": [
        "def preprocess(filename = \"olympics_1896_2004.csv\"):\n",
        "  \"\"\"Preparing and transforming dataframe\"\"\"\n",
        "  print(f\"Preprocessing {filename} ...\\n\")\n",
        "  ordered_medals = pd.api.types.CategoricalDtype(categories=[\"Bronze\", \"Silver\", \"Gold\"], ordered=True)\n",
        "  dtype_mapper = {\"Year\": \"int64\",\n",
        "                \"City\": \"string\",\n",
        "                \"Sport\": \"string\",\n",
        "                \"Discipline\": \"string\",\n",
        "                \"Athlete Name\": \"string\",\n",
        "                \"NOC\": \"string\",\n",
        "                \"Gender\": \"category\",\n",
        "                \"Event\": \"string\",\n",
        "                \"Event_gender\": \"category\",\n",
        "                \"Medal\": ordered_medals}\n",
        "  df = (pd.read_csv(filename, skiprows=5, dtype=dtype_mapper)\n",
        "        .drop('Position', axis=1)\n",
        "  )\n",
        "  df[\"Event Gender\"] = df[\"Event Gender\"].astype(\"category\")\n",
        "  return df\n",
        "\n",
        "preprocess()"
      ],
      "metadata": {
        "id": "Y7cv0VM762Pi"
      },
      "execution_count": null,
      "outputs": []
    },
    {
      "cell_type": "code",
      "execution_count": null,
      "metadata": {
        "id": "qvrU1Jh_oj4c"
      },
      "outputs": [],
      "source": [
        "oo = preprocess()\n",
        "oo.sample(3)"
      ]
    },
    {
      "cell_type": "code",
      "execution_count": null,
      "metadata": {
        "id": "PmWbYgeaojk9"
      },
      "outputs": [],
      "source": [
        "!wget https://github.com/jonfernandes/pandas_essential/raw/main/olympics_2008.csv"
      ]
    },
    {
      "cell_type": "code",
      "source": [
        "new_filename =  \"olympics_2008.csv\"\n",
        "nw = pd.read_csv(new_filename)\n",
        "nw.head(5)"
      ],
      "metadata": {
        "id": "ZpK7tnIzZVmG"
      },
      "execution_count": null,
      "outputs": []
    },
    {
      "cell_type": "code",
      "source": [
        "oo.sample(3)"
      ],
      "metadata": {
        "id": "NrkQRln1bNg6"
      },
      "execution_count": null,
      "outputs": []
    },
    {
      "cell_type": "code",
      "source": [
        "pd.concat([oo, nw], axis=0)"
      ],
      "metadata": {
        "id": "GM5UsBtlZ3Cr"
      },
      "execution_count": null,
      "outputs": []
    },
    {
      "cell_type": "code",
      "source": [
        "nw.columns"
      ],
      "metadata": {
        "id": "jdqpKDFbt9J2"
      },
      "execution_count": null,
      "outputs": []
    },
    {
      "cell_type": "code",
      "source": [
        "oo.columns"
      ],
      "metadata": {
        "id": "KM9vztovt_m2"
      },
      "execution_count": null,
      "outputs": []
    },
    {
      "cell_type": "code",
      "source": [
        "nw.columns = ['City', 'Edition', 'Sport', 'Discipline', 'Athlete', 'Country_code',\n",
        "       'Gender', 'Event', 'Event_gender', 'Medal', 'Result']\n",
        "nw.columns"
      ],
      "metadata": {
        "id": "21cc4lPQuNny"
      },
      "execution_count": null,
      "outputs": []
    },
    {
      "cell_type": "code",
      "source": [
        "new_columns = ['City', 'Edition', 'Sport', 'Discipline', 'Athlete', 'Country_code',\n",
        "       'Gender', 'Event', 'Event_gender', 'Medal', 'Result']"
      ],
      "metadata": {
        "id": "bDXyYYwb6YJq"
      },
      "execution_count": null,
      "outputs": []
    },
    {
      "cell_type": "code",
      "source": [
        "nw = pd.read_csv(new_filename, names=new_columns)\n",
        "nw.columns"
      ],
      "metadata": {
        "id": "35q0mneeuuWU"
      },
      "execution_count": null,
      "outputs": []
    },
    {
      "cell_type": "code",
      "source": [
        "nw.columns = [column.capitalize() for column in nw.columns]\n",
        "nw.columns"
      ],
      "metadata": {
        "id": "m6s7OzQnugEk"
      },
      "execution_count": null,
      "outputs": []
    },
    {
      "cell_type": "code",
      "source": [
        "pd.concat([oo, nw], axis=0)"
      ],
      "metadata": {
        "id": "9ITtwDmGvDn1"
      },
      "execution_count": null,
      "outputs": []
    },
    {
      "cell_type": "code",
      "source": [
        "oo.columns"
      ],
      "metadata": {
        "id": "c854ig1uvrJh"
      },
      "execution_count": null,
      "outputs": []
    },
    {
      "cell_type": "code",
      "source": [
        "nw.columns"
      ],
      "metadata": {
        "id": "TFLt_GF_vurN"
      },
      "execution_count": null,
      "outputs": []
    },
    {
      "cell_type": "code",
      "source": [
        "nw.columns = ['City', 'Year', 'Sport', 'Discipline', 'Athlete Name', 'NOC',\n",
        "       'Gender', 'Event', 'Event Gender', 'Medal', 'Result']"
      ],
      "metadata": {
        "id": "30-bKfomwMIY"
      },
      "execution_count": null,
      "outputs": []
    },
    {
      "cell_type": "code",
      "source": [
        "pd.concat([oo, nw], axis=0)"
      ],
      "metadata": {
        "id": "6RFkaLASwbHe"
      },
      "execution_count": null,
      "outputs": []
    },
    {
      "cell_type": "code",
      "source": [
        "nw.Result.unique()"
      ],
      "metadata": {
        "id": "mW7SKK0Kxa3Q"
      },
      "execution_count": null,
      "outputs": []
    },
    {
      "cell_type": "code",
      "source": [
        "nw = nw.drop(\"Result\", axis=1)\n",
        "nw.sample(3)"
      ],
      "metadata": {
        "id": "Ma1wyjIDxfev"
      },
      "execution_count": null,
      "outputs": []
    },
    {
      "cell_type": "code",
      "source": [
        "pd.concat([oo, nw], axis=0)"
      ],
      "metadata": {
        "id": "bEQ84QIFxuMc"
      },
      "execution_count": null,
      "outputs": []
    },
    {
      "cell_type": "code",
      "source": [
        "pd.concat([oo, nw], axis=0).dtypes"
      ],
      "metadata": {
        "id": "rOriZgSsx1PK"
      },
      "execution_count": null,
      "outputs": []
    },
    {
      "cell_type": "code",
      "source": [
        "def preprocess_2008(filename=\"olympics_2008.csv\"):\n",
        "  df = pd.read_csv(filename)\n",
        "  df.columns = ['City', 'Year', 'Sport', 'Discipline', 'Athlete Name', 'NOC',\n",
        "       'Gender', 'Event', 'Event Gender', 'Medal', 'Result']\n",
        "  df = df.drop(\"Result\", axis=1)\n",
        "  return df\n",
        "\n",
        "nw = preprocess_2008()\n",
        "nw.sample(3)"
      ],
      "metadata": {
        "id": "ELoqzkbqw1yT"
      },
      "execution_count": null,
      "outputs": []
    },
    {
      "cell_type": "markdown",
      "source": [
        "## Working with Missing Data"
      ],
      "metadata": {
        "id": "FematpDlyP3J"
      }
    },
    {
      "cell_type": "code",
      "source": [
        "!pip install --quiet pandas==2.0.2\n",
        "\n",
        "import pandas as pd\n",
        "from pathlib import Path\n",
        "\n",
        "if not Path(\"olympics_1896_2004.csv\").exists():\n",
        "  !wget https://github.com/jonfernandes/pandas_essential/raw/main/olympics_1896_2004.csv\n",
        "if not Path(\"olympics_2008.csv\").exists():\n",
        "  !wget https://github.com/jonfernandes/pandas_essential/raw/main/olympics_2008.csv\n",
        "\n",
        "filename = \"olympics_1896_2004.csv\"\n",
        "print(\"Installed all of the necessary files for this section ...\")"
      ],
      "metadata": {
        "id": "uKhIUj8UrJTT"
      },
      "execution_count": null,
      "outputs": []
    },
    {
      "cell_type": "code",
      "source": [
        "nw = preprocess_2008()\n",
        "nw.sample(3)"
      ],
      "metadata": {
        "id": "rWt8-HcXyT61"
      },
      "execution_count": null,
      "outputs": []
    },
    {
      "cell_type": "code",
      "source": [
        "nw.info()"
      ],
      "metadata": {
        "id": "k5D4UxSWyabN"
      },
      "execution_count": null,
      "outputs": []
    },
    {
      "cell_type": "code",
      "source": [
        "import re\n",
        "\n",
        "search_string = \"na\"\n",
        "\n",
        "[func for func in dir(nw.City) if re.search(rf\"{search_string}$\", func, re.IGNORECASE)]"
      ],
      "metadata": {
        "id": "inv1wbnFEu15"
      },
      "execution_count": null,
      "outputs": []
    },
    {
      "cell_type": "code",
      "source": [
        "nw.City.isna?"
      ],
      "metadata": {
        "id": "66DdxC_JEO_s"
      },
      "execution_count": null,
      "outputs": []
    },
    {
      "cell_type": "code",
      "source": [
        "nw.City.isna()"
      ],
      "metadata": {
        "id": "4uoReWLZ3eLU"
      },
      "execution_count": null,
      "outputs": []
    },
    {
      "cell_type": "code",
      "source": [
        "nw.City.isna().sum()"
      ],
      "metadata": {
        "id": "pM4SAK_l3jKa"
      },
      "execution_count": null,
      "outputs": []
    },
    {
      "cell_type": "code",
      "source": [
        "nw[nw.City.isna()]"
      ],
      "metadata": {
        "id": "3OEXLwoEye78"
      },
      "execution_count": null,
      "outputs": []
    },
    {
      "cell_type": "code",
      "source": [
        "nw.City.unique()"
      ],
      "metadata": {
        "id": "1erE0ZRw_4y4"
      },
      "execution_count": null,
      "outputs": []
    },
    {
      "cell_type": "code",
      "source": [
        "nw.shape"
      ],
      "metadata": {
        "id": "oGJ7HNak6wxa"
      },
      "execution_count": null,
      "outputs": []
    },
    {
      "cell_type": "code",
      "source": [
        "import re\n",
        "\n",
        "search_string = \"na\"\n",
        "\n",
        "[func for func in dir(nw.City) if re.search(rf\"{search_string}$\", func, re.IGNORECASE)]"
      ],
      "metadata": {
        "id": "BwcYzjE0FV64"
      },
      "execution_count": null,
      "outputs": []
    },
    {
      "cell_type": "code",
      "source": [
        "nw.City.fillna?"
      ],
      "metadata": {
        "id": "laxs_wK0AQ8i"
      },
      "execution_count": null,
      "outputs": []
    },
    {
      "cell_type": "code",
      "source": [
        "nw.City = nw.City.fillna(value=\"Beijing\")\n",
        "nw.City.unique()"
      ],
      "metadata": {
        "id": "zddqCceEAIfB"
      },
      "execution_count": null,
      "outputs": []
    },
    {
      "cell_type": "code",
      "source": [
        "nw.Year"
      ],
      "metadata": {
        "id": "e9b8FghNA440"
      },
      "execution_count": null,
      "outputs": []
    },
    {
      "cell_type": "code",
      "source": [
        "nw.Year.unique()"
      ],
      "metadata": {
        "id": "A78SlZC9481h"
      },
      "execution_count": null,
      "outputs": []
    },
    {
      "cell_type": "code",
      "source": [
        "nw.Year = nw.Year.fillna(value=2008)\n",
        "nw.info()"
      ],
      "metadata": {
        "id": "nNC-1pr-5EOL"
      },
      "execution_count": null,
      "outputs": []
    },
    {
      "cell_type": "code",
      "source": [
        "def preprocess_2008(filename=\"olympics_2008.csv\"):\n",
        "  df = pd.read_csv(filename)\n",
        "  df.columns = ['City', 'Year', 'Sport', 'Discipline', 'Athlete Name', 'NOC',\n",
        "       'Gender', 'Event', 'Event Gender', 'Medal', 'Result']\n",
        "  df = df.drop(\"Result\", axis=1)\n",
        "  df.City = df.City.fillna(value=\"Beijing\")\n",
        "  df.Year = df.Year.fillna(value=2008)\n",
        "  return df\n",
        "\n",
        "nw = preprocess_2008()\n",
        "nw.sample(3)"
      ],
      "metadata": {
        "id": "azUTDKxc5ctc"
      },
      "execution_count": null,
      "outputs": []
    },
    {
      "cell_type": "code",
      "source": [
        "nw.dtypes"
      ],
      "metadata": {
        "id": "05dHle50VjsF"
      },
      "execution_count": null,
      "outputs": []
    },
    {
      "cell_type": "markdown",
      "source": [
        "## Removing Missing Data"
      ],
      "metadata": {
        "id": "emB7XuGpBOPu"
      }
    },
    {
      "cell_type": "code",
      "source": [
        "!pip install --quiet pandas==2.0.2\n",
        "\n",
        "import pandas as pd\n",
        "from pathlib import Path\n",
        "\n",
        "if not Path(\"olympics_1896_2004.csv\").exists():\n",
        "  !wget https://github.com/jonfernandes/pandas_essential/raw/main/olympics_1896_2004.csv\n",
        "if not Path(\"olympics_2008.csv\").exists():\n",
        "  !wget https://github.com/jonfernandes/pandas_essential/raw/main/olympics_2008.csv\n",
        "\n",
        "filename = \"olympics_1896_2004.csv\"\n",
        "print(\"Installed all of the necessary files for this section ...\")"
      ],
      "metadata": {
        "id": "IMeKqkvprH96"
      },
      "execution_count": null,
      "outputs": []
    },
    {
      "cell_type": "code",
      "source": [
        "def preprocess_2008(filename=\"olympics_2008.csv\"):\n",
        "  df = pd.read_csv(filename)\n",
        "  df.columns = ['City', 'Year', 'Sport', 'Discipline', 'Athlete Name', 'NOC',\n",
        "       'Gender', 'Event', 'Event Gender', 'Medal', 'Result']\n",
        "  df = df.drop(\"Result\", axis=1)\n",
        "  df.City = df.City.fillna(value=\"Beijing\")\n",
        "  df.Year = df.Year.fillna(value=2008)\n",
        "  return df\n",
        "\n",
        "nw = preprocess_2008()\n",
        "nw.sample(3)"
      ],
      "metadata": {
        "id": "I_ywNXrrBQrt"
      },
      "execution_count": null,
      "outputs": []
    },
    {
      "cell_type": "code",
      "source": [
        "nw.info()"
      ],
      "metadata": {
        "id": "D0GGrn5-BUi8"
      },
      "execution_count": null,
      "outputs": []
    },
    {
      "cell_type": "code",
      "source": [
        "nw[nw.Sport.isna()]"
      ],
      "metadata": {
        "id": "CZMPwsAmYbQj"
      },
      "execution_count": null,
      "outputs": []
    },
    {
      "cell_type": "code",
      "source": [
        "nw.dropna(how=\"all\", axis=0)"
      ],
      "metadata": {
        "id": "7arenC0wB7vk"
      },
      "execution_count": null,
      "outputs": []
    },
    {
      "cell_type": "code",
      "source": [
        "nw.dropna(how=\"any\", axis=0)"
      ],
      "metadata": {
        "id": "5aatWXUuCdu2"
      },
      "execution_count": null,
      "outputs": []
    },
    {
      "cell_type": "code",
      "source": [
        "nw[nw.Sport.isna()]"
      ],
      "metadata": {
        "id": "2G7qXMqiCj7N"
      },
      "execution_count": null,
      "outputs": []
    },
    {
      "cell_type": "code",
      "source": [
        "nw.dropna?"
      ],
      "metadata": {
        "id": "_P6iWSr7Cz4h"
      },
      "execution_count": null,
      "outputs": []
    },
    {
      "cell_type": "code",
      "source": [
        "nw.columns"
      ],
      "metadata": {
        "id": "YOGjsI6kCvDY"
      },
      "execution_count": null,
      "outputs": []
    },
    {
      "cell_type": "code",
      "source": [
        "nw.dropna(subset=['Sport', 'Discipline', 'Athlete Name', 'NOC', 'Gender',\n",
        "       'Event', 'Event Gender', 'Medal'], how=\"all\")"
      ],
      "metadata": {
        "id": "XoovbAMMClzE"
      },
      "execution_count": null,
      "outputs": []
    },
    {
      "cell_type": "code",
      "source": [
        "nw = nw.dropna(subset=['Sport', 'Discipline', 'Athlete Name', 'NOC', 'Gender',\n",
        "       'Event', 'Event Gender', 'Medal'], how=\"all\")\n",
        "nw.info()"
      ],
      "metadata": {
        "id": "_DJc-cyaDLab"
      },
      "execution_count": null,
      "outputs": []
    },
    {
      "cell_type": "code",
      "source": [
        "def preprocess_2008(filename=\"olympics_2008.csv\"):\n",
        "  df = pd.read_csv(filename)\n",
        "  df.columns = ['City', 'Year', 'Sport', 'Discipline', 'Athlete Name', 'NOC',\n",
        "       'Gender', 'Event', 'Event Gender', 'Medal', 'Result']\n",
        "  df = df.drop(\"Result\", axis=1)\n",
        "  df.City = df.City.fillna(value=\"Beijing\")\n",
        "  df.Year = df.Year.fillna(value=2008)\n",
        "  df = df.dropna(subset=['Sport', 'Discipline', 'Athlete Name', 'NOC', 'Gender',\n",
        "       'Event', 'Event Gender', 'Medal'], how=\"all\")\n",
        "  return df\n",
        "\n",
        "nw = preprocess_2008()\n",
        "nw.sample(3)"
      ],
      "metadata": {
        "id": "TbvIR2KuDOce"
      },
      "execution_count": null,
      "outputs": []
    },
    {
      "cell_type": "markdown",
      "source": [
        "##Working with Duplicates"
      ],
      "metadata": {
        "id": "Utjd5YTX5ruR"
      }
    },
    {
      "cell_type": "code",
      "source": [
        "!pip install --quiet pandas==2.0.2\n",
        "\n",
        "import pandas as pd\n",
        "from pathlib import Path\n",
        "\n",
        "if not Path(\"olympics_1896_2004.csv\").exists():\n",
        "  !wget https://github.com/jonfernandes/pandas_essential/raw/main/olympics_1896_2004.csv\n",
        "if not Path(\"olympics_2008.csv\").exists():\n",
        "  !wget https://github.com/jonfernandes/pandas_essential/raw/main/olympics_2008.csv\n",
        "\n",
        "filename = \"olympics_1896_2004.csv\"\n",
        "print(\"Installed all of the necessary files for this section ...\")"
      ],
      "metadata": {
        "id": "Wx0imt2brFps"
      },
      "execution_count": null,
      "outputs": []
    },
    {
      "cell_type": "code",
      "source": [
        "def preprocess_2008(filename=\"olympics_2008.csv\"):\n",
        "  df = pd.read_csv(filename)\n",
        "  df.columns = ['City', 'Year', 'Sport', 'Discipline', 'Athlete Name', 'NOC',\n",
        "       'Gender', 'Event', 'Event Gender', 'Medal', 'Result']\n",
        "  df = df.drop(\"Result\", axis=1)\n",
        "  df.City = df.City.fillna(value=\"Beijing\")\n",
        "  df.Year = df.Year.fillna(value=2008)\n",
        "  df = df.dropna(subset=['Sport', 'Discipline', 'Athlete Name', 'NOC', 'Gender',\n",
        "       'Event', 'Event Gender', 'Medal'], how=\"all\")\n",
        "  return df\n",
        "\n",
        "nw = preprocess_2008()\n",
        "nw.sample(3)"
      ],
      "metadata": {
        "id": "PhF-plEy5rOc"
      },
      "execution_count": null,
      "outputs": []
    },
    {
      "cell_type": "code",
      "source": [
        "nw.shape"
      ],
      "metadata": {
        "id": "lnY00dZWD1_8"
      },
      "execution_count": null,
      "outputs": []
    },
    {
      "cell_type": "code",
      "source": [
        "nw.duplicated?"
      ],
      "metadata": {
        "id": "pZ6N3UlLBzX8"
      },
      "execution_count": null,
      "outputs": []
    },
    {
      "cell_type": "code",
      "source": [
        "nw.duplicated()"
      ],
      "metadata": {
        "id": "NgPpC9HQE3Ry"
      },
      "execution_count": null,
      "outputs": []
    },
    {
      "cell_type": "code",
      "source": [
        "nw.duplicated().sum()"
      ],
      "metadata": {
        "id": "Jgp4ubzZGa9o"
      },
      "execution_count": null,
      "outputs": []
    },
    {
      "cell_type": "code",
      "source": [
        "nw.loc[nw.duplicated(), :]"
      ],
      "metadata": {
        "id": "JVtJfNHJE3Of"
      },
      "execution_count": null,
      "outputs": []
    },
    {
      "cell_type": "code",
      "source": [
        "nw.shape"
      ],
      "metadata": {
        "id": "IBd61f-72BfX"
      },
      "execution_count": null,
      "outputs": []
    },
    {
      "cell_type": "code",
      "source": [
        "nw = nw.drop_duplicates()\n",
        "nw.shape"
      ],
      "metadata": {
        "id": "O87BZiyT17P-"
      },
      "execution_count": null,
      "outputs": []
    },
    {
      "cell_type": "code",
      "source": [
        "nw.columns"
      ],
      "metadata": {
        "id": "bECzvRPB2gDS"
      },
      "execution_count": null,
      "outputs": []
    },
    {
      "cell_type": "code",
      "source": [
        "athlete_multiple_events = nw.duplicated(subset=['Athlete Name', 'NOC', 'Gender'])\n",
        "athlete_multiple_events"
      ],
      "metadata": {
        "id": "0QXfMx362b90"
      },
      "execution_count": null,
      "outputs": []
    },
    {
      "cell_type": "code",
      "source": [
        "nw.duplicated?"
      ],
      "metadata": {
        "id": "qbe4O9cG9Bx6"
      },
      "execution_count": null,
      "outputs": []
    },
    {
      "cell_type": "code",
      "source": [
        "nw.loc[athlete_multiple_events, :]"
      ],
      "metadata": {
        "id": "AXu-1OdR23dQ"
      },
      "execution_count": null,
      "outputs": []
    },
    {
      "cell_type": "code",
      "source": [
        "nw.loc[athlete_multiple_events, :].sort_values(\"Athlete Name\")"
      ],
      "metadata": {
        "id": "Aejpo1cQ9t8z"
      },
      "execution_count": null,
      "outputs": []
    },
    {
      "cell_type": "code",
      "source": [
        "nw.loc[nw[\"Athlete Name\"] == \"ZOU, Kai\"]"
      ],
      "metadata": {
        "id": "OSVcTGp26RL1"
      },
      "execution_count": null,
      "outputs": []
    },
    {
      "cell_type": "code",
      "source": [
        "def preprocess_2008(filename=\"olympics_2008.csv\"):\n",
        "  df = pd.read_csv(filename)\n",
        "  df.columns = ['City', 'Year', 'Sport', 'Discipline', 'Athlete Name', 'NOC',\n",
        "       'Gender', 'Event', 'Event Gender', 'Medal', 'Result']\n",
        "  df = df.drop(\"Result\", axis=1)\n",
        "  df.City = df.City.fillna(value=\"Beijing\")\n",
        "  df.Year = df.Year.fillna(value=2008)\n",
        "  df = df.dropna(subset=['Sport', 'Discipline', 'Athlete Name', 'NOC', 'Gender',\n",
        "       'Event', 'Event Gender', 'Medal'], how=\"all\")\n",
        "  df = df.drop_duplicates()\n",
        "  return df\n",
        "\n",
        "nw = preprocess_2008()\n",
        "nw.sample(3)"
      ],
      "metadata": {
        "id": "JvOKU5gh-LkC"
      },
      "execution_count": null,
      "outputs": []
    },
    {
      "cell_type": "markdown",
      "metadata": {
        "id": "UbtEix9Y-6Uc"
      },
      "source": [
        "## Validating data"
      ]
    },
    {
      "cell_type": "code",
      "source": [
        "!pip install --quiet pandas==2.0.2\n",
        "\n",
        "import pandas as pd\n",
        "from pathlib import Path\n",
        "\n",
        "if not Path(\"olympics_1896_2004.csv\").exists():\n",
        "  !wget https://github.com/jonfernandes/pandas_essential/raw/main/olympics_1896_2004.csv\n",
        "if not Path(\"olympics_2008.csv\").exists():\n",
        "  !wget https://github.com/jonfernandes/pandas_essential/raw/main/olympics_2008.csv\n",
        "\n",
        "filename = \"olympics_1896_2004.csv\"\n",
        "print(\"Installed all of the necessary files for this section ...\")"
      ],
      "metadata": {
        "id": "K-3GE0qErC57"
      },
      "execution_count": null,
      "outputs": []
    },
    {
      "cell_type": "code",
      "source": [
        "def preprocess(filename = \"olympics_1896_2004.csv\"):\n",
        "  \"\"\"Preparing and transforming dataframe\"\"\"\n",
        "  print(f\"Preprocessing {filename} ...\\n\")\n",
        "  ordered_medals = pd.api.types.CategoricalDtype(categories=[\"Bronze\", \"Silver\", \"Gold\"], ordered=True)\n",
        "  dtype_mapper = {\"Year\": \"int64\",\n",
        "                \"City\": \"string\",\n",
        "                \"Sport\": \"string\",\n",
        "                \"Discipline\": \"string\",\n",
        "                \"Athlete Name\": \"string\",\n",
        "                \"NOC\": \"string\",\n",
        "                \"Gender\": \"category\",\n",
        "                \"Event\": \"string\",\n",
        "                \"Event_gender\": \"category\",\n",
        "                \"Medal\": ordered_medals}\n",
        "  df = (pd.read_csv(filename, skiprows=5, dtype=dtype_mapper)\n",
        "        .drop('Position', axis=1)\n",
        "  )\n",
        "  df[\"Event Gender\"] = df[\"Event Gender\"].astype(\"category\")\n",
        "  return df\n",
        "\n",
        "oo = preprocess()\n",
        "\n",
        "def preprocess_2008(filename=\"olympics_2008.csv\"):\n",
        "  df = pd.read_csv(filename)\n",
        "  df.columns = ['City', 'Year', 'Sport', 'Discipline', 'Athlete Name', 'NOC',\n",
        "       'Gender', 'Event', 'Event Gender', 'Medal', 'Result']\n",
        "  df = df.drop(\"Result\", axis=1)\n",
        "  df.City = df.City.fillna(value=\"Beijing\")\n",
        "  df.Year = df.Year.fillna(value=2008)\n",
        "  df = df.dropna(subset=['Sport', 'Discipline', 'Athlete Name', 'NOC', 'Gender',\n",
        "       'Event', 'Event Gender', 'Medal'], how=\"all\")\n",
        "  df = df.drop_duplicates()\n",
        "  return df\n",
        "\n",
        "nw = preprocess_2008()\n",
        "nw.sample(3)"
      ],
      "metadata": {
        "id": "HwNEL7CXQyu5"
      },
      "execution_count": null,
      "outputs": []
    },
    {
      "cell_type": "code",
      "source": [
        "nw[\"Event Gender\"].unique()"
      ],
      "metadata": {
        "id": "rhetXk9g8AsY"
      },
      "execution_count": null,
      "outputs": []
    },
    {
      "cell_type": "code",
      "source": [
        "nw.Gender.unique()"
      ],
      "metadata": {
        "id": "l1qJFDAX8GSY"
      },
      "execution_count": null,
      "outputs": []
    },
    {
      "cell_type": "code",
      "execution_count": null,
      "metadata": {
        "id": "eYHYicgr_EzJ"
      },
      "outputs": [],
      "source": [
        "nw.loc[(nw[\"Event Gender\"] == \"M\") & (nw.Gender != \"Men\")]"
      ]
    },
    {
      "cell_type": "code",
      "execution_count": null,
      "metadata": {
        "id": "l1sWOUlZBylc"
      },
      "outputs": [],
      "source": [
        "nw.loc[(nw[\"Event Gender\"] == \"F\") & (nw.Gender != \"Women\")]"
      ]
    },
    {
      "cell_type": "code",
      "source": [
        "nw.loc[(nw.Gender == \"Women\") & ((nw[\"Event Gender\"] != \"W\") & (nw[\"Event Gender\"] != \"X\"))]"
      ],
      "metadata": {
        "id": "EuwgJImaMzwT"
      },
      "execution_count": null,
      "outputs": []
    },
    {
      "cell_type": "code",
      "source": [
        "nw.loc[(nw.Gender == \"Men\") & ((nw[\"Event Gender\"] != \"M\") & (nw[\"Event Gender\"] != \"X\"))]"
      ],
      "metadata": {
        "id": "JIpUdf5oGImN"
      },
      "execution_count": null,
      "outputs": []
    },
    {
      "cell_type": "code",
      "source": [
        "oo[\"Event Gender\"].unique()"
      ],
      "metadata": {
        "id": "EX9V3FzM9BQt"
      },
      "execution_count": null,
      "outputs": []
    },
    {
      "cell_type": "code",
      "source": [
        "oo.Gender.unique()"
      ],
      "metadata": {
        "id": "-0BXwVdH9OAH"
      },
      "execution_count": null,
      "outputs": []
    },
    {
      "cell_type": "code",
      "source": [
        "oo.loc[(oo[\"Event Gender\"] == \"M\") & (oo.Gender != \"Men\")]"
      ],
      "metadata": {
        "id": "9TkKywKF9dIP"
      },
      "execution_count": null,
      "outputs": []
    },
    {
      "cell_type": "code",
      "source": [
        "oo.loc[(oo[\"Event Gender\"] == \"F\") & (oo.Gender != \"Women\")]"
      ],
      "metadata": {
        "id": "D_pgFuPv9kbM"
      },
      "execution_count": null,
      "outputs": []
    },
    {
      "cell_type": "code",
      "source": [
        "oo.loc[(oo.Gender == \"Women\") & ((oo[\"Event Gender\"] != \"W\") & (oo[\"Event Gender\"] != \"X\"))]"
      ],
      "metadata": {
        "id": "vlnNr3cU9zyy"
      },
      "execution_count": null,
      "outputs": []
    },
    {
      "cell_type": "code",
      "source": [
        "oo.loc[(oo.Gender == \"Men\") & ((oo[\"Event Gender\"] != \"M\") & (oo[\"Event Gender\"] != \"X\"))]"
      ],
      "metadata": {
        "id": "RBRUQUVm96_l"
      },
      "execution_count": null,
      "outputs": []
    },
    {
      "cell_type": "code",
      "source": [
        "oo.loc[(oo.Year == 2000) & (oo.Event == \"marathon\")]"
      ],
      "metadata": {
        "id": "-SbUAODK-LB1"
      },
      "execution_count": null,
      "outputs": []
    },
    {
      "cell_type": "code",
      "source": [
        "oo.loc[24676, \"Gender\"] = \"Women\"\n",
        "oo.loc[(oo.Year == 2000) & (oo.Event == \"marathon\")]"
      ],
      "metadata": {
        "id": "oKFCpt5S_ofd"
      },
      "execution_count": null,
      "outputs": []
    },
    {
      "cell_type": "code",
      "source": [
        "def preprocess(filename = \"olympics_1896_2004.csv\"):\n",
        "  \"\"\"Preparing and transforming dataframe\"\"\"\n",
        "  print(f\"Preprocessing {filename} ...\\n\")\n",
        "  ordered_medals = pd.api.types.CategoricalDtype(categories=[\"Bronze\", \"Silver\", \"Gold\"], ordered=True)\n",
        "  dtype_mapper = {\"Year\": \"int64\",\n",
        "                \"City\": \"string\",\n",
        "                \"Sport\": \"string\",\n",
        "                \"Discipline\": \"string\",\n",
        "                \"Athlete Name\": \"string\",\n",
        "                \"NOC\": \"string\",\n",
        "                \"Gender\": \"category\",\n",
        "                \"Event\": \"string\",\n",
        "                \"Event_gender\": \"category\",\n",
        "                \"Medal\": ordered_medals}\n",
        "  df = (pd.read_csv(filename, skiprows=5, dtype=dtype_mapper)\n",
        "        .drop('Position', axis=1)\n",
        "  )\n",
        "  df[\"Event Gender\"] = df[\"Event Gender\"].astype(\"category\")\n",
        "  df.loc[24676, \"Gender\"] = \"Women\"\n",
        "  return df\n",
        "\n",
        "oo = preprocess()\n",
        "oo.sample(3)"
      ],
      "metadata": {
        "id": "hVoK33fL_k20"
      },
      "execution_count": null,
      "outputs": []
    },
    {
      "cell_type": "code",
      "source": [
        "oo.dtypes"
      ],
      "metadata": {
        "id": "4Osa_SYePnWU"
      },
      "execution_count": null,
      "outputs": []
    },
    {
      "cell_type": "code",
      "source": [
        "nw.Year.unique()"
      ],
      "metadata": {
        "id": "TbvtLls0XmeR"
      },
      "execution_count": null,
      "outputs": []
    },
    {
      "cell_type": "code",
      "source": [
        "nw.City.unique()"
      ],
      "metadata": {
        "id": "hZ9-Og4rXjKh"
      },
      "execution_count": null,
      "outputs": []
    },
    {
      "cell_type": "code",
      "source": [
        "nw[\"Event Gender\"].unique()"
      ],
      "metadata": {
        "id": "YnOLgu_gUSIH"
      },
      "execution_count": null,
      "outputs": []
    },
    {
      "cell_type": "code",
      "execution_count": null,
      "metadata": {
        "id": "jQ1zI7dsHB6y"
      },
      "outputs": [],
      "source": [
        "nw[\"Event Gender\"].unique().tolist()"
      ]
    },
    {
      "cell_type": "code",
      "source": [
        "oo[\"Event Gender\"].unique().tolist()"
      ],
      "metadata": {
        "id": "1ZQ5IIN9aB8M"
      },
      "execution_count": null,
      "outputs": []
    },
    {
      "cell_type": "code",
      "source": [
        "nw[\"Event Gender\"].unique().tolist() == oo[\"Event Gender\"].unique().tolist()"
      ],
      "metadata": {
        "id": "RWjS9PJQBzZf"
      },
      "execution_count": null,
      "outputs": []
    },
    {
      "cell_type": "code",
      "source": [
        "sorted(nw[\"Event Gender\"].unique().tolist())"
      ],
      "metadata": {
        "id": "CxqGXp08V_52"
      },
      "execution_count": null,
      "outputs": []
    },
    {
      "cell_type": "code",
      "source": [
        "sorted(oo[\"Event Gender\"].unique().tolist())"
      ],
      "metadata": {
        "id": "SOMsVp49ShoN"
      },
      "execution_count": null,
      "outputs": []
    },
    {
      "cell_type": "code",
      "execution_count": null,
      "metadata": {
        "id": "8l3rPB3DMzuI"
      },
      "outputs": [],
      "source": [
        "assert(sorted(nw[\"Event Gender\"].unique().tolist()) == sorted(oo[\"Event Gender\"].unique().tolist()))\n",
        "print(\"Passes all tests ...\")"
      ]
    },
    {
      "cell_type": "code",
      "execution_count": null,
      "metadata": {
        "id": "cccr9txiHrau"
      },
      "outputs": [],
      "source": [
        "assert(sorted(nw[\"Event Gender\"].unique().tolist()) == sorted(oo[\"Event Gender\"].unique().tolist()))\n",
        "assert(sorted(nw.Gender.unique().tolist()) == sorted(oo.Gender.unique().tolist()))\n",
        "assert(sorted(nw.Medal.unique().tolist()) == sorted(oo.Medal.unique().tolist()))\n",
        "print(\"Passes all tests ...\")"
      ]
    },
    {
      "cell_type": "code",
      "source": [
        "sorted(oo.Medal.unique().tolist())"
      ],
      "metadata": {
        "id": "yNIqLCfCWzsZ"
      },
      "execution_count": null,
      "outputs": []
    },
    {
      "cell_type": "code",
      "source": [
        "sorted(nw.Medal.unique().tolist())"
      ],
      "metadata": {
        "id": "0XNUaBHDWoc8"
      },
      "execution_count": null,
      "outputs": []
    },
    {
      "cell_type": "code",
      "source": [
        "nw.Medal.str.capitalize()"
      ],
      "metadata": {
        "id": "8uIxl1TBW9Fs"
      },
      "execution_count": null,
      "outputs": []
    },
    {
      "cell_type": "code",
      "source": [
        "nw.Medal = nw.Medal.str.capitalize()\n",
        "nw.sample(3)"
      ],
      "metadata": {
        "id": "sgUAncYIX7He"
      },
      "execution_count": null,
      "outputs": []
    },
    {
      "cell_type": "code",
      "source": [
        "assert(sorted(nw[\"Event Gender\"].unique().tolist()) == sorted(oo[\"Event Gender\"].unique().tolist()))\n",
        "assert(sorted(nw.Gender.unique().tolist()) == sorted(oo.Gender.unique().tolist()))\n",
        "assert(sorted(nw.Medal.unique().tolist()) == sorted(oo.Medal.unique().tolist()))\n",
        "print(\"Passes all tests ...\")"
      ],
      "metadata": {
        "id": "ahSYGIbVMKBQ"
      },
      "execution_count": null,
      "outputs": []
    },
    {
      "cell_type": "code",
      "source": [
        "sorted(nw.Sport.unique().tolist())"
      ],
      "metadata": {
        "id": "PpJbb4ZDbez1"
      },
      "execution_count": null,
      "outputs": []
    },
    {
      "cell_type": "code",
      "source": [
        "sorted(oo.Sport.unique().tolist())"
      ],
      "metadata": {
        "id": "tjmUeyJ-br55"
      },
      "execution_count": null,
      "outputs": []
    },
    {
      "cell_type": "code",
      "source": [
        "nw.NOC.unique()"
      ],
      "metadata": {
        "id": "Q0H1hrjuFgZC"
      },
      "execution_count": null,
      "outputs": []
    },
    {
      "cell_type": "code",
      "source": [
        "nw.Sport = nw.Sport.str.lower()\n",
        "nw.Discipline = nw.Discipline.str.lower()\n",
        "nw.Event = nw.Event.str.lower()\n",
        "nw.NOC = nw.NOC.str.upper()\n",
        "nw.sample(3)"
      ],
      "metadata": {
        "id": "qYYpOxjYb1Zl"
      },
      "execution_count": null,
      "outputs": []
    },
    {
      "cell_type": "code",
      "execution_count": null,
      "metadata": {
        "id": "cVFweCTTKK16"
      },
      "outputs": [],
      "source": [
        "def preprocess_2008(filename=\"olympics_2008.csv\"):\n",
        "  df = pd.read_csv(filename)\n",
        "  df.columns = ['City', 'Year', 'Sport', 'Discipline', 'Athlete Name', 'NOC',\n",
        "       'Gender', 'Event', 'Event Gender', 'Medal', 'Result']\n",
        "  df = df.drop(\"Result\", axis=1)\n",
        "  df.City = df.City.fillna(value=\"Beijing\")\n",
        "  df.Year = df.Year.fillna(value=2008)\n",
        "  df = df.dropna(subset=['Sport', 'Discipline', 'Athlete Name', 'NOC', 'Gender',\n",
        "       'Event', 'Event Gender', 'Medal'], how=\"all\")\n",
        "  df = df.drop_duplicates()\n",
        "  df.Sport = df.Sport.str.lower()\n",
        "  df.Discipline = df.Discipline.str.lower()\n",
        "  df.Event = df.Event.str.lower()\n",
        "  df.NOC = df.NOC.str.upper()\n",
        "  df.Medal = df.Medal.str.capitalize()\n",
        "  return df\n",
        "\n",
        "nw = preprocess_2008()\n",
        "nw.sample(3)"
      ]
    },
    {
      "cell_type": "markdown",
      "source": [
        "## Further Data Validation"
      ],
      "metadata": {
        "id": "L1yiHNB0Ohfm"
      }
    },
    {
      "cell_type": "code",
      "source": [
        "def preprocess(filename = \"olympics_1896_2004.csv\"):\n",
        "  \"\"\"Preparing and transforming dataframe\"\"\"\n",
        "  print(f\"Preprocessing {filename} ...\\n\")\n",
        "  ordered_medals = pd.api.types.CategoricalDtype(categories=[\"Bronze\", \"Silver\", \"Gold\"], ordered=True)\n",
        "  dtype_mapper = {\"Year\": \"int64\",\n",
        "                \"City\": \"string\",\n",
        "                \"Sport\": \"string\",\n",
        "                \"Discipline\": \"string\",\n",
        "                \"Athlete Name\": \"string\",\n",
        "                \"NOC\": \"string\",\n",
        "                \"Gender\": \"category\",\n",
        "                \"Event\": \"string\",\n",
        "                \"Event_gender\": \"category\",\n",
        "                \"Medal\": ordered_medals}\n",
        "  df = (pd.read_csv(filename, skiprows=5, dtype=dtype_mapper)\n",
        "        .drop('Position', axis=1)\n",
        "  )\n",
        "  df[\"Event Gender\"] = df[\"Event Gender\"].astype(\"category\")\n",
        "  return df\n",
        "\n",
        "oo = preprocess()\n",
        "\n",
        "def preprocess_2008(filename=\"olympics_2008.csv\"):\n",
        "  df = pd.read_csv(filename)\n",
        "  df.columns = ['City', 'Year', 'Sport', 'Discipline', 'Athlete Name', 'NOC',\n",
        "       'Gender', 'Event', 'Event Gender', 'Medal', 'Result']\n",
        "  df = df.drop(\"Result\", axis=1)\n",
        "  df.City = df.City.fillna(value=\"Beijing\")\n",
        "  df.Year = df.Year.fillna(value=2008)\n",
        "  df = df.dropna(subset=['Sport', 'Discipline', 'Athlete Name', 'NOC', 'Gender',\n",
        "       'Event', 'Event Gender', 'Medal'], how=\"all\")\n",
        "  df = df.drop_duplicates()\n",
        "  return df\n",
        "\n",
        "nw = preprocess_2008()\n",
        "nw.sample(3)"
      ],
      "metadata": {
        "id": "GOflVpGsZL_Q"
      },
      "execution_count": null,
      "outputs": []
    },
    {
      "cell_type": "code",
      "source": [
        "medals = ['Gold', 'Silver', 'Bronze', 'Bronze', 'Gold']\n",
        "medals"
      ],
      "metadata": {
        "id": "N6o2NYWie7D8"
      },
      "execution_count": null,
      "outputs": []
    },
    {
      "cell_type": "code",
      "source": [
        "medals[0]"
      ],
      "metadata": {
        "id": "v7c-iLUOQPsK"
      },
      "execution_count": null,
      "outputs": []
    },
    {
      "cell_type": "code",
      "source": [
        "medals[1]"
      ],
      "metadata": {
        "id": "jldc5g5fQRFH"
      },
      "execution_count": null,
      "outputs": []
    },
    {
      "cell_type": "code",
      "source": [
        "len(medals)"
      ],
      "metadata": {
        "id": "6Y0s7gi_Qh47"
      },
      "execution_count": null,
      "outputs": []
    },
    {
      "cell_type": "code",
      "source": [
        "nw[\"Athlete Name\"]"
      ],
      "metadata": {
        "id": "QeaYD5fwZyqj"
      },
      "execution_count": null,
      "outputs": []
    },
    {
      "cell_type": "code",
      "source": [
        "import re\n",
        "\n",
        "search_string = \"split\"\n",
        "\n",
        "[func for func in dir(nw[\"Athlete Name\"].str) if re.search(rf\"{search_string}\", func, re.IGNORECASE)]"
      ],
      "metadata": {
        "id": "1hoQ3x9jeptx"
      },
      "execution_count": null,
      "outputs": []
    },
    {
      "cell_type": "code",
      "source": [
        "nw[\"Athlete Name\"].str.split?"
      ],
      "metadata": {
        "id": "fh_rUyyieUm7"
      },
      "execution_count": null,
      "outputs": []
    },
    {
      "cell_type": "code",
      "source": [
        "nw[\"Athlete Name\"].str.split(\", \")"
      ],
      "metadata": {
        "id": "mf-ra6HlHOXq"
      },
      "execution_count": null,
      "outputs": []
    },
    {
      "cell_type": "code",
      "source": [
        "nw[\"Athlete Name\"].str.split(\", \").tolist()"
      ],
      "metadata": {
        "id": "EaXUuR-vHjVh"
      },
      "execution_count": null,
      "outputs": []
    },
    {
      "cell_type": "code",
      "source": [
        "athlete_names = nw[\"Athlete Name\"].str.split(\", \").tolist()\n",
        "athlete_names"
      ],
      "metadata": {
        "id": "2ejtl6psHnbN"
      },
      "execution_count": null,
      "outputs": []
    },
    {
      "cell_type": "code",
      "source": [
        "import re\n",
        "\n",
        "search_string = \"upper\"\n",
        "\n",
        "[func for func in dir(nw[\"Athlete Name\"].str) if re.search(rf\"{search_string}\", func, re.IGNORECASE)]"
      ],
      "metadata": {
        "id": "g1USKjupfWxT"
      },
      "execution_count": null,
      "outputs": []
    },
    {
      "cell_type": "code",
      "source": [
        "[athlete_name for athlete_name in athlete_names]"
      ],
      "metadata": {
        "id": "UAvRMk62IC9y"
      },
      "execution_count": null,
      "outputs": []
    },
    {
      "cell_type": "code",
      "source": [
        "[athlete_name[0] for athlete_name in athlete_names]"
      ],
      "metadata": {
        "id": "r1zOAWZhITjq"
      },
      "execution_count": null,
      "outputs": []
    },
    {
      "cell_type": "code",
      "source": [
        "[athlete_name[0].isupper() for athlete_name in athlete_names]"
      ],
      "metadata": {
        "id": "8rkOsk9cIZ9n"
      },
      "execution_count": null,
      "outputs": []
    },
    {
      "cell_type": "code",
      "source": [
        "len([item[0].isupper() for item in athlete_names])"
      ],
      "metadata": {
        "id": "0eyFKJTBG1FB"
      },
      "execution_count": null,
      "outputs": []
    },
    {
      "cell_type": "code",
      "source": [
        "nw.info()"
      ],
      "metadata": {
        "id": "AihTvS2aHFzJ"
      },
      "execution_count": null,
      "outputs": []
    },
    {
      "cell_type": "markdown",
      "source": [
        "##Updating the dtypes"
      ],
      "metadata": {
        "id": "nC0B3PtWD0H1"
      }
    },
    {
      "cell_type": "code",
      "source": [
        "!pip install --quiet pandas==2.0.2\n",
        "\n",
        "import pandas as pd\n",
        "from pathlib import Path\n",
        "\n",
        "if not Path(\"olympics_1896_2004.csv\").exists():\n",
        "  !wget https://github.com/jonfernandes/pandas_essential/raw/main/olympics_1896_2004.csv\n",
        "if not Path(\"olympics_2008.csv\").exists():\n",
        "  !wget https://github.com/jonfernandes/pandas_essential/raw/main/olympics_2008.csv\n",
        "\n",
        "filename = \"olympics_1896_2004.csv\"\n",
        "print(\"Installed all of the necessary files for this section ...\")"
      ],
      "metadata": {
        "id": "biY5wXHNq_Sv"
      },
      "execution_count": null,
      "outputs": []
    },
    {
      "cell_type": "code",
      "source": [
        "def preprocess(filename = \"olympics_1896_2004.csv\"):\n",
        "  \"\"\"Preparing and transforming dataframe\"\"\"\n",
        "  print(f\"Preprocessing {filename} ...\\n\")\n",
        "  ordered_medals = pd.api.types.CategoricalDtype(categories=[\"Bronze\", \"Silver\", \"Gold\"], ordered=True)\n",
        "  dtype_mapper = {\"Year\": \"int64\",\n",
        "                \"City\": \"string\",\n",
        "                \"Sport\": \"string\",\n",
        "                \"Discipline\": \"string\",\n",
        "                \"Athlete Name\": \"string\",\n",
        "                \"NOC\": \"string\",\n",
        "                \"Gender\": \"category\",\n",
        "                \"Event\": \"string\",\n",
        "                \"Event_gender\": \"category\",\n",
        "                \"Medal\": ordered_medals}\n",
        "  df = (pd.read_csv(filename, skiprows=5, dtype=dtype_mapper)\n",
        "        .drop('Position', axis=1)\n",
        "  )\n",
        "  df.Sport = df.Sport.str.lower()\n",
        "  df.Discipline = df.Discipline.str.lower()\n",
        "  df.Event = df.Event.str.lower()\n",
        "  df.NOC = df.NOC.str.upper()\n",
        "  df[\"Event Gender\"] = df[\"Event Gender\"].astype(\"category\")\n",
        "  df.loc[24676, \"Gender\"] = \"Women\"\n",
        "  return df\n",
        "\n",
        "def preprocess_2008(filename=\"olympics_2008.csv\"):\n",
        "  df = pd.read_csv(filename)\n",
        "  df.columns = ['City', 'Year', 'Sport', 'Discipline', 'Athlete Name', 'NOC',\n",
        "       'Gender', 'Event', 'Event Gender', 'Medal', 'Result']\n",
        "  df = df.drop(\"Result\", axis=1)\n",
        "  df.City = df.City.fillna(value=\"Beijing\")\n",
        "  df.Year = df.Year.fillna(value=2008)\n",
        "  df = df.dropna(subset=['Sport', 'Discipline', 'Athlete Name', 'NOC', 'Gender',\n",
        "       'Event', 'Event Gender', 'Medal'], how=\"all\")\n",
        "  df = df.drop_duplicates()\n",
        "  df.Sport = df.Sport.str.lower()\n",
        "  df.Discipline = df.Discipline.str.lower()\n",
        "  df.Event = df.Event.str.lower()\n",
        "  df.NOC = df.NOC.str.upper()\n",
        "  df.Medal = df.Medal.str.capitalize()\n",
        "  return df\n",
        "\n",
        "oo = preprocess()\n",
        "nw = preprocess_2008()\n",
        "nw.sample(3)"
      ],
      "metadata": {
        "id": "Ilm29tuCDmpV"
      },
      "execution_count": null,
      "outputs": []
    },
    {
      "cell_type": "code",
      "source": [
        "nw.dtypes"
      ],
      "metadata": {
        "id": "8ode2JHZD-4o"
      },
      "execution_count": null,
      "outputs": []
    },
    {
      "cell_type": "code",
      "source": [
        "oo.dtypes"
      ],
      "metadata": {
        "id": "LAuLw1l3T2jD"
      },
      "execution_count": null,
      "outputs": []
    },
    {
      "cell_type": "code",
      "source": [
        "def preprocess_2008(filename=\"olympics_2008.csv\"):\n",
        "  print(f\"Preprocessing {filename} ...\\n\")\n",
        "  df = pd.read_csv(filename)\n",
        "  df.columns = ['City', 'Year', 'Sport', 'Discipline', 'Athlete Name', 'NOC',\n",
        "       'Gender', 'Event', 'Event Gender', 'Medal', 'Result']\n",
        "  df = df.drop(\"Result\", axis=1)\n",
        "  df.City = df.City.fillna(value=\"Beijing\")\n",
        "  df.Year = df.Year.fillna(value=2008)\n",
        "  df = df.dropna(subset=['Sport', 'Discipline', 'Athlete Name', 'NOC', 'Gender',\n",
        "       'Event', 'Event Gender', 'Medal'], how=\"all\")\n",
        "  df = df.drop_duplicates()\n",
        "  df.Sport = df.Sport.str.lower()\n",
        "  df.Discipline = df.Discipline.str.lower()\n",
        "  df.Event = df.Event.str.lower()\n",
        "  df.NOC = df.NOC.str.upper()\n",
        "  df.Medal = df.Medal.str.capitalize()\n",
        "  df.City = df.City.astype(\"string\")\n",
        "  df.Year = df.Year.astype(int)\n",
        "  df.Sport = df.Sport.astype(\"string\")\n",
        "  df.Discipline = df.Discipline.astype(\"string\")\n",
        "  df[\"Athlete Name\"] = df[\"Athlete Name\"].astype(\"string\")\n",
        "  df.NOC = df.NOC.astype(\"string\")\n",
        "  df.Gender = df.Gender.astype(\"category\")\n",
        "  df.Event = df.Event.astype(\"string\")\n",
        "  df['Event Gender'] = df['Event Gender'].astype(\"category\")\n",
        "  medal_order = [\"Bronze\", \"Silver\", \"Gold\"]\n",
        "  df.Medal = pd.Categorical(df.Medal, categories=medal_order, ordered=True)\n",
        "\n",
        "  return df\n",
        "\n",
        "nw = preprocess_2008()\n",
        "nw.sample(3)\n",
        "\n"
      ],
      "metadata": {
        "id": "JPZ847t7ERLs"
      },
      "execution_count": null,
      "outputs": []
    },
    {
      "cell_type": "code",
      "source": [
        "nw.dtypes"
      ],
      "metadata": {
        "id": "WmhfHI5KERIT"
      },
      "execution_count": null,
      "outputs": []
    },
    {
      "cell_type": "markdown",
      "source": [
        "## Combine the datasets"
      ],
      "metadata": {
        "id": "BdOwoiXDISBA"
      }
    },
    {
      "cell_type": "code",
      "source": [
        "!pip install --quiet pandas==2.0.2\n",
        "\n",
        "import pandas as pd\n",
        "from pathlib import Path\n",
        "\n",
        "if not Path(\"olympics_1896_2004.csv\").exists():\n",
        "  !wget https://github.com/jonfernandes/pandas_essential/raw/main/olympics_1896_2004.csv\n",
        "if not Path(\"olympics_2008.csv\").exists():\n",
        "  !wget https://github.com/jonfernandes/pandas_essential/raw/main/olympics_2008.csv\n",
        "\n",
        "filename = \"olympics_1896_2004.csv\"\n",
        "print(\"Installed all of the necessary files for this section ...\")"
      ],
      "metadata": {
        "id": "r76ijBJvqLIj"
      },
      "execution_count": null,
      "outputs": []
    },
    {
      "cell_type": "code",
      "source": [
        "def preprocess(filename = \"olympics_1896_2004.csv\"):\n",
        "  \"\"\"Preparing and transforming dataframe\"\"\"\n",
        "  print(f\"Preprocessing {filename} ...\\n\")\n",
        "  ordered_medals = pd.api.types.CategoricalDtype(categories=[\"Bronze\", \"Silver\", \"Gold\"], ordered=True)\n",
        "  dtype_mapper = {\"Year\": \"int64\",\n",
        "                \"City\": \"string\",\n",
        "                \"Sport\": \"string\",\n",
        "                \"Discipline\": \"string\",\n",
        "                \"Athlete Name\": \"string\",\n",
        "                \"NOC\": \"string\",\n",
        "                \"Gender\": \"category\",\n",
        "                \"Event\": \"string\",\n",
        "                \"Event_gender\": \"category\",\n",
        "                \"Medal\": ordered_medals}\n",
        "  df = (pd.read_csv(filename, skiprows=5, dtype=dtype_mapper)\n",
        "        .drop('Position', axis=1)\n",
        "  )\n",
        "  df[\"Event Gender\"] = df[\"Event Gender\"].astype(\"category\")\n",
        "  df.loc[24676, \"Gender\"] = \"Women\"\n",
        "  df.Sport = df.Sport.str.lower()\n",
        "  df.Discipline = df.Discipline.str.lower()\n",
        "  df.Event = df.Event.str.lower()\n",
        "  df.NOC = df.NOC.str.upper()\n",
        "  return df\n",
        "\n",
        "def preprocess_2008(filename=\"olympics_2008.csv\"):\n",
        "  print(f\"Preprocessing {filename} ...\\n\")\n",
        "  df = pd.read_csv(filename)\n",
        "  df.columns = ['City', 'Year', 'Sport', 'Discipline', 'Athlete Name', 'NOC',\n",
        "       'Gender', 'Event', 'Event Gender', 'Medal', 'Result']\n",
        "  df = df.drop(\"Result\", axis=1)\n",
        "  df.City = df.City.fillna(value=\"Beijing\")\n",
        "  df.Year = df.Year.fillna(value=2008)\n",
        "  df = df.dropna(subset=['Sport', 'Discipline', 'Athlete Name', 'NOC', 'Gender',\n",
        "       'Event', 'Event Gender', 'Medal'], how=\"all\")\n",
        "  df = df.drop_duplicates()\n",
        "  df.Sport = df.Sport.str.lower()\n",
        "  df.Discipline = df.Discipline.str.lower()\n",
        "  df.Event = df.Event.str.lower()\n",
        "  df.NOC = df.NOC.str.upper()\n",
        "  df.Medal = df.Medal.str.capitalize()\n",
        "  df.City = df.City.astype(\"string\")\n",
        "  df.Year = df.Year.astype(int)\n",
        "  df.Sport = df.Sport.astype(\"string\")\n",
        "  df.Discipline = df.Discipline.astype(\"string\")\n",
        "  df[\"Athlete Name\"] = df[\"Athlete Name\"].astype(\"string\")\n",
        "  df.NOC = df.NOC.astype(\"string\")\n",
        "  df.Gender = df.Gender.astype(\"category\")\n",
        "  df.Event = df.Event.astype(\"string\")\n",
        "  df['Event Gender'] = df['Event Gender'].astype(\"category\")\n",
        "  medal_order = [\"Bronze\", \"Silver\", \"Gold\"]\n",
        "  df.Medal = pd.Categorical(df.Medal, categories=medal_order, ordered=True)\n",
        "\n",
        "  return df\n"
      ],
      "metadata": {
        "id": "jO66AK7yYYpE"
      },
      "execution_count": null,
      "outputs": []
    },
    {
      "cell_type": "code",
      "source": [
        "oo = preprocess()\n",
        "oo.sample(3)"
      ],
      "metadata": {
        "id": "OPd8JXEDERBV"
      },
      "execution_count": null,
      "outputs": []
    },
    {
      "cell_type": "code",
      "source": [
        "oo.dtypes"
      ],
      "metadata": {
        "id": "F7vBfS85JK5j"
      },
      "execution_count": null,
      "outputs": []
    },
    {
      "cell_type": "code",
      "source": [
        "nw = preprocess_2008()\n",
        "nw.sample(3)"
      ],
      "metadata": {
        "id": "fJrBOACtERE4"
      },
      "execution_count": null,
      "outputs": []
    },
    {
      "cell_type": "code",
      "source": [
        "nw.dtypes"
      ],
      "metadata": {
        "id": "nVorqQPcJM_f"
      },
      "execution_count": null,
      "outputs": []
    },
    {
      "cell_type": "code",
      "source": [
        "pd.concat([oo, nw])"
      ],
      "metadata": {
        "id": "KXeIQvOUEQ8-"
      },
      "execution_count": null,
      "outputs": []
    },
    {
      "cell_type": "code",
      "source": [
        "pd.concat([oo, nw]).dtypes"
      ],
      "metadata": {
        "id": "V-YFZ-lqEQ5D"
      },
      "execution_count": null,
      "outputs": []
    },
    {
      "cell_type": "code",
      "source": [
        "up = pd.concat([oo, nw])\n",
        "up.sample(3)"
      ],
      "metadata": {
        "id": "-jegITAgEQxf"
      },
      "execution_count": null,
      "outputs": []
    },
    {
      "cell_type": "code",
      "source": [
        "up.dtypes"
      ],
      "metadata": {
        "id": "4PmCLeOil6cf"
      },
      "execution_count": null,
      "outputs": []
    },
    {
      "cell_type": "markdown",
      "source": [
        "##Plotting data"
      ],
      "metadata": {
        "id": "kH9DmNEweaVZ"
      }
    },
    {
      "cell_type": "code",
      "source": [
        "!pip install --quiet pandas==2.0.2\n",
        "\n",
        "import pandas as pd\n",
        "from pathlib import Path\n",
        "import matplotlib.pyplot as plt\n",
        "\n",
        "\n",
        "if not Path(\"olympics_1896_2004.csv\").exists():\n",
        "  !wget https://github.com/jonfernandes/pandas_essential/raw/main/olympics_1896_2004.csv\n",
        "if not Path(\"olympics_2008.csv\").exists():\n",
        "  !wget https://github.com/jonfernandes/pandas_essential/raw/main/olympics_2008.csv\n",
        "\n",
        "filename = \"olympics_1896_2004.csv\"\n",
        "print(\"Installed all of the necessary files for this section ...\")"
      ],
      "metadata": {
        "id": "ESgPIHjNqVjk"
      },
      "execution_count": null,
      "outputs": []
    },
    {
      "cell_type": "code",
      "source": [
        "def preprocess(filename = \"olympics_1896_2004.csv\"):\n",
        "  \"\"\"Preparing and transforming dataframe\"\"\"\n",
        "  print(f\"Preprocessing {filename} ...\\n\")\n",
        "  ordered_medals = pd.api.types.CategoricalDtype(categories=[\"Bronze\", \"Silver\", \"Gold\"], ordered=True)\n",
        "  dtype_mapper = {\"Year\": \"int64\",\n",
        "                \"City\": \"string\",\n",
        "                \"Sport\": \"string\",\n",
        "                \"Discipline\": \"string\",\n",
        "                \"Athlete Name\": \"string\",\n",
        "                \"NOC\": \"string\",\n",
        "                \"Gender\": \"category\",\n",
        "                \"Event\": \"string\",\n",
        "                \"Event_gender\": \"category\",\n",
        "                \"Medal\": ordered_medals}\n",
        "  df = (pd.read_csv(filename, skiprows=5, dtype=dtype_mapper)\n",
        "        .drop('Position', axis=1)\n",
        "  )\n",
        "  df[\"Event Gender\"] = df[\"Event Gender\"].astype(\"category\")\n",
        "  df.loc[24676, \"Gender\"] = \"Women\"\n",
        "  df.Sport = df.Sport.str.lower()\n",
        "  df.Discipline = df.Discipline.str.lower()\n",
        "  df.Event = df.Event.str.lower()\n",
        "  df.NOC = df.NOC.str.upper()\n",
        "  return df\n",
        "\n",
        "\n",
        "def preprocess_2008(filename=\"olympics_2008.csv\"):\n",
        "  print(f\"Preprocessing {filename} ...\\n\")\n",
        "  df = pd.read_csv(filename)\n",
        "  df.columns = ['City', 'Year', 'Sport', 'Discipline', 'Athlete Name', 'NOC',\n",
        "       'Gender', 'Event', 'Event Gender', 'Medal', 'Result']\n",
        "  df = df.drop(\"Result\", axis=1)\n",
        "  df.City = df.City.fillna(value=\"Beijing\")\n",
        "  df.Year = df.Year.fillna(value=2008)\n",
        "  df = df.dropna(subset=['Sport', 'Discipline', 'Athlete Name', 'NOC', 'Gender',\n",
        "       'Event', 'Event Gender', 'Medal'], how=\"all\")\n",
        "  df = df.drop_duplicates()\n",
        "  df.Sport = df.Sport.str.lower()\n",
        "  df.Discipline = df.Discipline.str.lower()\n",
        "  df.Event = df.Event.str.lower()\n",
        "  df.NOC = df.NOC.str.upper()\n",
        "  df.Medal = df.Medal.str.capitalize()\n",
        "  df.City = df.City.astype(\"string\")\n",
        "  df.Year = df.Year.astype(int)\n",
        "  df.Sport = df.Sport.astype(\"string\")\n",
        "  df.Discipline = df.Discipline.astype(\"string\")\n",
        "  df[\"Athlete Name\"] = df[\"Athlete Name\"].astype(\"string\")\n",
        "  df.NOC = df.NOC.astype(\"string\")\n",
        "  df.Gender = df.Gender.astype(\"category\")\n",
        "  df.Event = df.Event.astype(\"string\")\n",
        "  df['Event Gender'] = df['Event Gender'].astype(\"category\")\n",
        "  medal_order = [\"Bronze\", \"Silver\", \"Gold\"]\n",
        "  df.Medal = pd.Categorical(df.Medal, categories=medal_order, ordered=True)\n",
        "\n",
        "  return df\n",
        "\n",
        "oo = preprocess()\n",
        "nw = preprocess_2008()\n",
        "up = pd.concat([oo, nw])\n",
        "up.sample(3)"
      ],
      "metadata": {
        "id": "e7WwBAKBfZ_x"
      },
      "execution_count": null,
      "outputs": []
    },
    {
      "cell_type": "code",
      "source": [
        "import matplotlib.pyplot as plt"
      ],
      "metadata": {
        "id": "hDcHyZ0Zee4H"
      },
      "execution_count": null,
      "outputs": []
    },
    {
      "cell_type": "markdown",
      "source": [
        "**For the first Olympics, how many events were there for each of the different sports? Plot them using different graphs.**"
      ],
      "metadata": {
        "id": "_0kw7_W7fOnW"
      }
    },
    {
      "cell_type": "code",
      "source": [
        "first_games = up[up.Year == 1896]\n",
        "first_games"
      ],
      "metadata": {
        "id": "e5bQRFKLee0U"
      },
      "execution_count": null,
      "outputs": []
    },
    {
      "cell_type": "code",
      "source": [
        "first_games.Sport.value_counts()"
      ],
      "metadata": {
        "id": "bl7_0MNUfo9F"
      },
      "execution_count": null,
      "outputs": []
    },
    {
      "cell_type": "code",
      "source": [
        "first_games.Sport.value_counts().plot?"
      ],
      "metadata": {
        "id": "GsrXzz2Ngqc6"
      },
      "execution_count": null,
      "outputs": []
    },
    {
      "cell_type": "code",
      "source": [
        "type(first_games.Sport.value_counts())"
      ],
      "metadata": {
        "id": "3HerIqOQh1b8"
      },
      "execution_count": null,
      "outputs": []
    },
    {
      "cell_type": "code",
      "source": [
        "dir(pd.Series)"
      ],
      "metadata": {
        "id": "WM5f-w3AhRRt"
      },
      "execution_count": null,
      "outputs": []
    },
    {
      "cell_type": "code",
      "source": [
        "pd.Series.plot?"
      ],
      "metadata": {
        "id": "NC2Py4eigDCw"
      },
      "execution_count": null,
      "outputs": []
    },
    {
      "cell_type": "code",
      "source": [
        "first_games.Sport.value_counts().plot(kind='line')"
      ],
      "metadata": {
        "id": "BvvtW4gzfo5J"
      },
      "execution_count": null,
      "outputs": []
    },
    {
      "cell_type": "code",
      "source": [
        "first_games.Sport.value_counts().plot(figsize=(10,3))"
      ],
      "metadata": {
        "id": "Atn1b3-vhSwy"
      },
      "execution_count": null,
      "outputs": []
    },
    {
      "cell_type": "code",
      "source": [
        "(first_games\n",
        " .Sport\n",
        " .value_counts()\n",
        " .plot(figsize=(10,3))\n",
        ")"
      ],
      "metadata": {
        "id": "bkX2FsJPj1GH"
      },
      "execution_count": null,
      "outputs": []
    },
    {
      "cell_type": "code",
      "source": [
        "(first_games\n",
        " .Sport\n",
        " .value_counts()\n",
        " #.plot(figsize=(10,3))\n",
        ")"
      ],
      "metadata": {
        "id": "PT2Y9QQFkEqa"
      },
      "execution_count": null,
      "outputs": []
    },
    {
      "cell_type": "code",
      "source": [
        "(first_games\n",
        " .Sport\n",
        " .value_counts()\n",
        " .plot(kind='bar')\n",
        ")"
      ],
      "metadata": {
        "id": "u9WiJO5Afo1h"
      },
      "execution_count": null,
      "outputs": []
    },
    {
      "cell_type": "code",
      "source": [
        "(first_games\n",
        " .Sport\n",
        " .value_counts()\n",
        " .plot\n",
        " .bar()\n",
        ")"
      ],
      "metadata": {
        "id": "G_UpM4MPh5yG"
      },
      "execution_count": null,
      "outputs": []
    },
    {
      "cell_type": "code",
      "source": [
        "(first_games\n",
        " .Sport\n",
        " .value_counts()\n",
        " .plot(kind='barh')\n",
        ")"
      ],
      "metadata": {
        "id": "xcCfatDefoxw"
      },
      "execution_count": null,
      "outputs": []
    },
    {
      "cell_type": "code",
      "source": [
        "(first_games\n",
        " .Sport\n",
        " .value_counts()\n",
        " .plot(kind='barh', color='red')\n",
        ")"
      ],
      "metadata": {
        "id": "Q_Tm9qp6y7aA"
      },
      "execution_count": null,
      "outputs": []
    },
    {
      "cell_type": "code",
      "source": [
        "(first_games\n",
        " .Sport\n",
        " .value_counts()\n",
        " .plot(kind='barh', color=['blue', 'red'])\n",
        ")"
      ],
      "metadata": {
        "id": "21U9xe7UzItK"
      },
      "execution_count": null,
      "outputs": []
    },
    {
      "cell_type": "markdown",
      "source": [
        "##Working with colormaps and Seaborn"
      ],
      "metadata": {
        "id": "486bDzcSDjs9"
      }
    },
    {
      "cell_type": "code",
      "source": [
        "!pip install --quiet pandas==2.0.2\n",
        "\n",
        "import pandas as pd\n",
        "from pathlib import Path\n",
        "import matplotlib.pyplot as plt\n",
        "\n",
        "if not Path(\"olympics_1896_2004.csv\").exists():\n",
        "  !wget https://github.com/jonfernandes/pandas_essential/raw/main/olympics_1896_2004.csv\n",
        "if not Path(\"olympics_2008.csv\").exists():\n",
        "  !wget https://github.com/jonfernandes/pandas_essential/raw/main/olympics_2008.csv\n",
        "\n",
        "filename = \"olympics_1896_2004.csv\"\n",
        "print(\"Installed all of the necessary files for this section ...\")"
      ],
      "metadata": {
        "id": "DpnRrEIoqid-"
      },
      "execution_count": null,
      "outputs": []
    },
    {
      "cell_type": "code",
      "source": [
        "def preprocess(filename = \"olympics_1896_2004.csv\"):\n",
        "  \"\"\"Preparing and transforming dataframe\"\"\"\n",
        "  print(f\"Preprocessing {filename} ...\\n\")\n",
        "  ordered_medals = pd.api.types.CategoricalDtype(categories=[\"Bronze\", \"Silver\", \"Gold\"], ordered=True)\n",
        "  dtype_mapper = {\"Year\": \"int64\",\n",
        "                \"City\": \"string\",\n",
        "                \"Sport\": \"string\",\n",
        "                \"Discipline\": \"string\",\n",
        "                \"Athlete Name\": \"string\",\n",
        "                \"NOC\": \"string\",\n",
        "                \"Gender\": \"category\",\n",
        "                \"Event\": \"string\",\n",
        "                \"Event_gender\": \"category\",\n",
        "                \"Medal\": ordered_medals}\n",
        "  df = (pd.read_csv(filename, skiprows=5, dtype=dtype_mapper)\n",
        "        .drop('Position', axis=1)\n",
        "  )\n",
        "  df[\"Event Gender\"] = df[\"Event Gender\"].astype(\"category\")\n",
        "  df.loc[24676, \"Gender\"] = \"Women\"\n",
        "  df.Sport = df.Sport.str.lower()\n",
        "  df.Discipline = df.Discipline.str.lower()\n",
        "  df.Event = df.Event.str.lower()\n",
        "  df.NOC = df.NOC.str.upper()\n",
        "  return df\n",
        "\n",
        "def preprocess_2008(filename=\"olympics_2008.csv\"):\n",
        "  print(f\"Preprocessing {filename} ...\\n\")\n",
        "  df = pd.read_csv(filename)\n",
        "  df.columns = ['City', 'Year', 'Sport', 'Discipline', 'Athlete Name', 'NOC',\n",
        "       'Gender', 'Event', 'Event Gender', 'Medal', 'Result']\n",
        "  df = df.drop(\"Result\", axis=1)\n",
        "  df.City = df.City.fillna(value=\"Beijing\")\n",
        "  df.Year = df.Year.fillna(value=2008)\n",
        "  df = df.dropna(subset=['Sport', 'Discipline', 'Athlete Name', 'NOC', 'Gender',\n",
        "       'Event', 'Event Gender', 'Medal'], how=\"all\")\n",
        "  df = df.drop_duplicates()\n",
        "  df.Sport = df.Sport.str.lower()\n",
        "  df.Discipline = df.Discipline.str.lower()\n",
        "  df.Event = df.Event.str.lower()\n",
        "  df.NOC = df.NOC.str.upper()\n",
        "  df.Medal = df.Medal.str.capitalize()\n",
        "  df.City = df.City.astype(\"string\")\n",
        "  df.Year = df.Year.astype(int)\n",
        "  df.Sport = df.Sport.astype(\"string\")\n",
        "  df.Discipline = df.Discipline.astype(\"string\")\n",
        "  df[\"Athlete Name\"] = df[\"Athlete Name\"].astype(\"string\")\n",
        "  df.NOC = df.NOC.astype(\"string\")\n",
        "  df.Gender = df.Gender.astype(\"category\")\n",
        "  df.Event = df.Event.astype(\"string\")\n",
        "  df['Event Gender'] = df['Event Gender'].astype(\"category\")\n",
        "  medal_order = [\"Bronze\", \"Silver\", \"Gold\"]\n",
        "  df.Medal = pd.Categorical(df.Medal, categories=medal_order, ordered=True)\n",
        "\n",
        "  return df\n",
        "\n",
        "oo = preprocess()\n",
        "nw = preprocess_2008()\n",
        "up = pd.concat([oo, nw])\n",
        "up.sample(3)"
      ],
      "metadata": {
        "id": "Ur60DjmuFL1V"
      },
      "execution_count": null,
      "outputs": []
    },
    {
      "cell_type": "code",
      "source": [
        "games_2008 = up[up.Year == 2008]\n",
        "games_2008.sample(3)"
      ],
      "metadata": {
        "id": "U76lkf7sfoor"
      },
      "execution_count": null,
      "outputs": []
    },
    {
      "cell_type": "code",
      "source": [
        "(games_2008\n",
        " .Medal\n",
        " .value_counts())"
      ],
      "metadata": {
        "id": "oSg5G5_EfolO"
      },
      "execution_count": null,
      "outputs": []
    },
    {
      "cell_type": "code",
      "source": [
        "import seaborn as sns"
      ],
      "metadata": {
        "id": "6fbPnUCrfohj"
      },
      "execution_count": null,
      "outputs": []
    },
    {
      "cell_type": "code",
      "source": [
        "plt.figure(figsize=(5,3))\n",
        "plt.title(\"Medals from the 2008 games\")\n",
        "sns.countplot(data=games_2008,\n",
        "              x='Medal',\n",
        "              )\n"
      ],
      "metadata": {
        "id": "_lEr91CVfoZy"
      },
      "execution_count": null,
      "outputs": []
    },
    {
      "cell_type": "code",
      "source": [
        "plt.figure(figsize=(5,3))\n",
        "plt.title(\"Medals from the 2008 games\")\n",
        "sns.countplot(data=games_2008,\n",
        "              x='Medal',\n",
        "              order=[\"Gold\", \"Silver\", \"Bronze\"])"
      ],
      "metadata": {
        "id": "ONwg1H21yJSk"
      },
      "execution_count": null,
      "outputs": []
    },
    {
      "cell_type": "code",
      "source": [
        "plt.figure(figsize=(5,3))\n",
        "plt.title(\"Medals from the 2008 games\")\n",
        "sns.countplot(data=games_2008,\n",
        "              x='Medal',\n",
        "              order=[\"Gold\", \"Silver\", \"Bronze\"],\n",
        "              hue='Gender')"
      ],
      "metadata": {
        "id": "nDzVng1P0xsO"
      },
      "execution_count": null,
      "outputs": []
    },
    {
      "cell_type": "code",
      "source": [
        "plt.figure(figsize=(5,3))\n",
        "plt.title(\"Medals from the 2008 games\")\n",
        "sns.countplot(data=games_2008,\n",
        "              x='Medal',\n",
        "              order=[\"Gold\", \"Silver\", \"Bronze\"],\n",
        "              hue='Gender',\n",
        "              palette='seismic')"
      ],
      "metadata": {
        "id": "7DWDpQWe05b4"
      },
      "execution_count": null,
      "outputs": []
    },
    {
      "cell_type": "code",
      "source": [
        "plt.figure(figsize=(5,3))\n",
        "plt.title(\"Medals from the 2008 games\")\n",
        "sns.countplot(data=games_2008,\n",
        "              x='Medal',\n",
        "              order=[\"Gold\", \"Silver\", \"Bronze\"],\n",
        "              hue='Gender',\n",
        "              palette='coolwarm')"
      ],
      "metadata": {
        "id": "OrMVWF7406Af"
      },
      "execution_count": null,
      "outputs": []
    },
    {
      "cell_type": "code",
      "source": [
        "plt.figure(figsize=(5,3))\n",
        "plt.title(\"Medals from the 2008 games\")\n",
        "sns.countplot(data=games_2008,\n",
        "              x='Medal',\n",
        "              order=[\"Gold\", \"Silver\", \"Bronze\"],\n",
        "              hue='Gender',\n",
        "              palette='bwr')"
      ],
      "metadata": {
        "id": "IUwowuAG1pMo"
      },
      "execution_count": null,
      "outputs": []
    },
    {
      "cell_type": "code",
      "source": [
        "plt.figure(figsize=(5,3))\n",
        "plt.title(\"Medals from the 2008 games\")\n",
        "sns.countplot(data=games_2008,\n",
        "              x='Medal',\n",
        "              order=[\"Gold\", \"Silver\", \"Bronze\"],\n",
        "              hue='Gender',\n",
        "              palette='bwr_r')"
      ],
      "metadata": {
        "id": "V1PuecS106i2"
      },
      "execution_count": null,
      "outputs": []
    },
    {
      "cell_type": "markdown",
      "source": [
        "##Working with groupby"
      ],
      "metadata": {
        "id": "Qr68snfKFo33"
      }
    },
    {
      "cell_type": "code",
      "source": [
        "!pip install --quiet pandas==2.0.2\n",
        "\n",
        "import pandas as pd\n",
        "from pathlib import Path\n",
        "import matplotlib.pyplot as plt\n",
        "\n",
        "\n",
        "if not Path(\"olympics_1896_2004.csv\").exists():\n",
        "  !wget https://github.com/jonfernandes/pandas_essential/raw/main/olympics_1896_2004.csv\n",
        "if not Path(\"olympics_2008.csv\").exists():\n",
        "  !wget https://github.com/jonfernandes/pandas_essential/raw/main/olympics_2008.csv\n",
        "\n",
        "filename = \"olympics_1896_2004.csv\"\n",
        "print(\"Installed all of the necessary files for this section ...\")"
      ],
      "metadata": {
        "id": "h6s7DYd4q5Mk"
      },
      "execution_count": null,
      "outputs": []
    },
    {
      "cell_type": "code",
      "source": [
        "def preprocess(filename = \"olympics_1896_2004.csv\"):\n",
        "  \"\"\"Preparing and transforming dataframe\"\"\"\n",
        "  print(f\"Preprocessing {filename} ...\\n\")\n",
        "  ordered_medals = pd.api.types.CategoricalDtype(categories=[\"Bronze\", \"Silver\", \"Gold\"], ordered=True)\n",
        "  dtype_mapper = {\"Year\": \"int64\",\n",
        "                \"City\": \"string\",\n",
        "                \"Sport\": \"string\",\n",
        "                \"Discipline\": \"string\",\n",
        "                \"Athlete Name\": \"string\",\n",
        "                \"NOC\": \"string\",\n",
        "                \"Gender\": \"category\",\n",
        "                \"Event\": \"string\",\n",
        "                \"Event_gender\": \"category\",\n",
        "                \"Medal\": ordered_medals}\n",
        "  df = (pd.read_csv(filename, skiprows=5, dtype=dtype_mapper)\n",
        "        .drop('Position', axis=1)\n",
        "  )\n",
        "  df[\"Event Gender\"] = df[\"Event Gender\"].astype(\"category\")\n",
        "  df.loc[24676, \"Gender\"] = \"Women\"\n",
        "  df.Sport = df.Sport.str.lower()\n",
        "  df.Discipline = df.Discipline.str.lower()\n",
        "  df.Event = df.Event.str.lower()\n",
        "  df.NOC = df.NOC.str.upper()\n",
        "  return df\n",
        "\n",
        "def preprocess_2008(filename=\"olympics_2008.csv\"):\n",
        "  print(f\"Preprocessing {filename} ...\\n\")\n",
        "  df = pd.read_csv(filename)\n",
        "  df.columns = ['City', 'Year', 'Sport', 'Discipline', 'Athlete Name', 'NOC',\n",
        "       'Gender', 'Event', 'Event Gender', 'Medal', 'Result']\n",
        "  df = df.drop(\"Result\", axis=1)\n",
        "  df.City = df.City.fillna(value=\"Beijing\")\n",
        "  df.Year = df.Year.fillna(value=2008)\n",
        "  df = df.dropna(subset=['Sport', 'Discipline', 'Athlete Name', 'NOC', 'Gender',\n",
        "       'Event', 'Event Gender', 'Medal'], how=\"all\")\n",
        "  df = df.drop_duplicates()\n",
        "  df.Sport = df.Sport.str.lower()\n",
        "  df.Discipline = df.Discipline.str.lower()\n",
        "  df.Event = df.Event.str.lower()\n",
        "  df.NOC = df.NOC.str.upper()\n",
        "  df.Medal = df.Medal.str.capitalize()\n",
        "  df.City = df.City.astype(\"string\")\n",
        "  df.Year = df.Year.astype(int)\n",
        "  df.Sport = df.Sport.astype(\"string\")\n",
        "  df.Discipline = df.Discipline.astype(\"string\")\n",
        "  df[\"Athlete Name\"] = df[\"Athlete Name\"].astype(\"string\")\n",
        "  df.NOC = df.NOC.astype(\"string\")\n",
        "  df.Gender = df.Gender.astype(\"category\")\n",
        "  df.Event = df.Event.astype(\"string\")\n",
        "  df['Event Gender'] = df['Event Gender'].astype(\"category\")\n",
        "  medal_order = [\"Bronze\", \"Silver\", \"Gold\"]\n",
        "  df.Medal = pd.Categorical(df.Medal, categories=medal_order, ordered=True)\n",
        "\n",
        "  return df\n",
        "\n",
        "oo = preprocess()\n",
        "nw = preprocess_2008()\n",
        "up = pd.concat([oo, nw])\n",
        "up.sample(3)"
      ],
      "metadata": {
        "id": "jLYyLD1F-PAT"
      },
      "execution_count": null,
      "outputs": []
    },
    {
      "cell_type": "code",
      "source": [
        "sprints = up[(up.Year == 2008) & ((up.Event == '100m') | (up.Event == '200m'))]\n",
        "sprints"
      ],
      "metadata": {
        "id": "fjqov5kh_FHa"
      },
      "execution_count": null,
      "outputs": []
    },
    {
      "cell_type": "code",
      "source": [
        "sp = sprints.groupby(['NOC', 'Gender', 'Event'])\n",
        "sp"
      ],
      "metadata": {
        "id": "hqdKX_EXAqrY"
      },
      "execution_count": null,
      "outputs": []
    },
    {
      "cell_type": "code",
      "source": [
        "up.groupby(\"Year\")"
      ],
      "metadata": {
        "id": "W95xeY7ZFtYb"
      },
      "execution_count": null,
      "outputs": []
    },
    {
      "cell_type": "code",
      "source": [
        "type(up.groupby('Year'))"
      ],
      "metadata": {
        "id": "xyac4sOnF7xV"
      },
      "execution_count": null,
      "outputs": []
    },
    {
      "cell_type": "code",
      "source": [
        "up.groupby(\"Year\").count()"
      ],
      "metadata": {
        "id": "yACDdzl9Fzr0"
      },
      "execution_count": null,
      "outputs": []
    },
    {
      "cell_type": "code",
      "source": [
        "for group_key, group_value in up.groupby('Year'):\n",
        "    print(group_key)\n",
        "    print(group_value)"
      ],
      "metadata": {
        "id": "NnugdlmPGfuV"
      },
      "execution_count": null,
      "outputs": []
    },
    {
      "cell_type": "code",
      "source": [
        "type(group_value)"
      ],
      "metadata": {
        "id": "PFvFNPieG6fw"
      },
      "execution_count": null,
      "outputs": []
    },
    {
      "cell_type": "code",
      "source": [
        "up.groupby(['Year']).count()"
      ],
      "metadata": {
        "id": "FUZ1XjrC_qMv"
      },
      "execution_count": null,
      "outputs": []
    },
    {
      "cell_type": "code",
      "source": [
        "up.groupby(\"Year\").size()"
      ],
      "metadata": {
        "id": "aXuPTFXeHACE"
      },
      "execution_count": null,
      "outputs": []
    },
    {
      "cell_type": "code",
      "source": [
        "up.groupby(['Year','NOC']).count()"
      ],
      "metadata": {
        "id": "5pqISQ6FIy2Q"
      },
      "execution_count": null,
      "outputs": []
    },
    {
      "cell_type": "code",
      "source": [
        "up.groupby(['Year','NOC'])['Medal'].count()"
      ],
      "metadata": {
        "id": "p5W-QKRzKXK1"
      },
      "execution_count": null,
      "outputs": []
    },
    {
      "cell_type": "code",
      "source": [
        "up.groupby(['Year','NOC']).size()"
      ],
      "metadata": {
        "id": "pJqhHLChIoAA"
      },
      "execution_count": null,
      "outputs": []
    },
    {
      "cell_type": "code",
      "source": [
        "up.groupby(['Year','NOC','Medal']).size()"
      ],
      "metadata": {
        "id": "_o3eF3uEHAFS"
      },
      "execution_count": null,
      "outputs": []
    },
    {
      "cell_type": "code",
      "source": [
        "#pause\n",
        "up.groupby(['NOC'])['Year'].min()"
      ],
      "metadata": {
        "id": "NkPLhcA9KuMu"
      },
      "execution_count": null,
      "outputs": []
    },
    {
      "cell_type": "code",
      "source": [
        "up.groupby(['NOC'])['Year'].max()"
      ],
      "metadata": {
        "id": "N7_2PKh8K79g"
      },
      "execution_count": null,
      "outputs": []
    },
    {
      "cell_type": "code",
      "source": [
        "up.groupby(['NOC'])['Year'].min()"
      ],
      "metadata": {
        "id": "nclk4Xx3cON6"
      },
      "execution_count": null,
      "outputs": []
    },
    {
      "cell_type": "code",
      "source": [
        "up.groupby(['NOC'])['Year'].agg(['min', 'max', 'count'])"
      ],
      "metadata": {
        "id": "2fC52zyTG_-e"
      },
      "execution_count": null,
      "outputs": []
    },
    {
      "cell_type": "markdown",
      "source": [
        "##Reshaping data: Stacking, Unstacking and MultiIndex"
      ],
      "metadata": {
        "id": "G4oDXcOu6cNf"
      }
    },
    {
      "cell_type": "code",
      "source": [
        "!pip install --quiet pandas==2.0.2\n",
        "\n",
        "import pandas as pd\n",
        "from pathlib import Path\n",
        "import matplotlib.pyplot as plt\n",
        "\n",
        "\n",
        "if not Path(\"olympics_1896_2004.csv\").exists():\n",
        "  !wget https://github.com/jonfernandes/pandas_essential/raw/main/olympics_1896_2004.csv\n",
        "if not Path(\"olympics_2008.csv\").exists():\n",
        "  !wget https://github.com/jonfernandes/pandas_essential/raw/main/olympics_2008.csv\n",
        "\n",
        "filename = \"olympics_1896_2004.csv\"\n",
        "print(\"Installed all of the necessary files for this section ...\")"
      ],
      "metadata": {
        "id": "qRfLqK3V6nDb"
      },
      "execution_count": null,
      "outputs": []
    },
    {
      "cell_type": "code",
      "source": [
        "def preprocess(filename = \"olympics_1896_2004.csv\"):\n",
        "  \"\"\"Preparing and transforming dataframe\"\"\"\n",
        "  print(f\"Preprocessing {filename} ...\\n\")\n",
        "  ordered_medals = pd.api.types.CategoricalDtype(categories=[\"Bronze\", \"Silver\", \"Gold\"], ordered=True)\n",
        "  dtype_mapper = {\"Year\": \"int64\",\n",
        "                \"City\": \"string\",\n",
        "                \"Sport\": \"string\",\n",
        "                \"Discipline\": \"string\",\n",
        "                \"Athlete Name\": \"string\",\n",
        "                \"NOC\": \"string\",\n",
        "                \"Gender\": \"category\",\n",
        "                \"Event\": \"string\",\n",
        "                \"Event_gender\": \"category\",\n",
        "                \"Medal\": ordered_medals}\n",
        "  df = pd.read_csv(filename, skiprows=5, dtype=dtype_mapper)\n",
        "  df = df.drop('Position', axis=1)\n",
        "  df[\"Event Gender\"] = df[\"Event Gender\"].astype(\"category\")\n",
        "  df.loc[24676, \"Gender\"] = \"Women\"\n",
        "  df.Sport = df.Sport.str.lower()\n",
        "  df.Discipline = df.Discipline.str.lower()\n",
        "  df.Event = df.Event.str.lower()\n",
        "  df.NOC = df.NOC.str.upper()\n",
        "  return df\n",
        "\n",
        "def preprocess_2008(filename=\"olympics_2008.csv\"):\n",
        "  print(f\"Preprocessing {filename} ...\\n\")\n",
        "  df = pd.read_csv(filename)\n",
        "  df.columns = ['City', 'Year', 'Sport', 'Discipline', 'Athlete Name', 'NOC',\n",
        "       'Gender', 'Event', 'Event Gender', 'Medal', 'Result']\n",
        "  df = df.drop(\"Result\", axis=1)\n",
        "  df.City = df.City.fillna(value=\"Beijing\")\n",
        "  df.Year = df.Year.fillna(value=2008)\n",
        "  df = df.dropna(subset=['Sport', 'Discipline', 'Athlete Name', 'NOC', 'Gender',\n",
        "       'Event', 'Event Gender', 'Medal'], how=\"all\")\n",
        "  df = df.drop_duplicates()\n",
        "  df.Sport = df.Sport.str.lower()\n",
        "  df.Discipline = df.Discipline.str.lower()\n",
        "  df.Event = df.Event.str.lower()\n",
        "  df.NOC = df.NOC.str.upper()\n",
        "  df.Medal = df.Medal.str.capitalize()\n",
        "  df.City = df.City.astype(\"string\")\n",
        "  df.Year = df.Year.astype(int)\n",
        "  df.Sport = df.Sport.astype(\"string\")\n",
        "  df.Discipline = df.Discipline.astype(\"string\")\n",
        "  df[\"Athlete Name\"] = df[\"Athlete Name\"].astype(\"string\")\n",
        "  df.NOC = df.NOC.astype(\"string\")\n",
        "  df.Gender = df.Gender.astype(\"category\")\n",
        "  df.Event = df.Event.astype(\"string\")\n",
        "  df['Event Gender'] = df['Event Gender'].astype(\"category\")\n",
        "  medal_order = [\"Bronze\", \"Silver\", \"Gold\"]\n",
        "  df.Medal = pd.Categorical(df.Medal, categories=medal_order, ordered=True)\n",
        "\n",
        "  return df\n",
        "\n",
        "oo = preprocess()\n",
        "nw = preprocess_2008()\n",
        "up = pd.concat([oo, nw])\n",
        "up.sample(3)"
      ],
      "metadata": {
        "id": "XuhND-Tz6nDb"
      },
      "execution_count": null,
      "outputs": []
    },
    {
      "cell_type": "code",
      "source": [
        "sprints = up[(up.Year == 2008) & ( (up.Event == '100m') | (up.Event == '200m'))]\n",
        "sprints"
      ],
      "metadata": {
        "id": "HPvTlgBv6g1l"
      },
      "execution_count": null,
      "outputs": []
    },
    {
      "cell_type": "code",
      "source": [
        "sp = sprints.groupby(['NOC','Gender','Event']).size()\n",
        "sp"
      ],
      "metadata": {
        "id": "bl6fTsV064ji"
      },
      "execution_count": null,
      "outputs": []
    },
    {
      "cell_type": "code",
      "source": [
        "sp.unstack?"
      ],
      "metadata": {
        "id": "rqB_IGRlS-3t"
      },
      "execution_count": null,
      "outputs": []
    },
    {
      "cell_type": "code",
      "source": [
        "sp.unstack('Gender', fill_value=0)"
      ],
      "metadata": {
        "id": "aOZjOX4c8zig"
      },
      "execution_count": null,
      "outputs": []
    },
    {
      "cell_type": "code",
      "source": [
        "(sp\n",
        " .unstack('Gender', fill_value=0)\n",
        " .unstack('Event', fill_value=0)\n",
        ")"
      ],
      "metadata": {
        "id": "tSipFwZU87rU"
      },
      "execution_count": null,
      "outputs": []
    },
    {
      "cell_type": "code",
      "source": [
        "sp.unstack?"
      ],
      "metadata": {
        "id": "F3OkF_UyQTC5"
      },
      "execution_count": null,
      "outputs": []
    },
    {
      "cell_type": "code",
      "source": [
        "sp.unstack(['Gender', 'Event'], fill_value=0)"
      ],
      "metadata": {
        "id": "zkfX-zpO64do"
      },
      "execution_count": null,
      "outputs": []
    },
    {
      "cell_type": "code",
      "source": [
        "sp = sprints.groupby(['NOC','Gender','Event']).size()\n",
        "sp"
      ],
      "metadata": {
        "id": "sw378hByAh_z"
      },
      "execution_count": null,
      "outputs": []
    },
    {
      "cell_type": "code",
      "source": [
        "sp.unstack(level=1, fill_value=0)"
      ],
      "metadata": {
        "id": "HeayOcw3V8Vg"
      },
      "execution_count": null,
      "outputs": []
    },
    {
      "cell_type": "code",
      "source": [
        "sprints_table = sp.unstack(level=1, fill_value=0).unstack(level=1, fill_value=0)\n",
        "sprints_table"
      ],
      "metadata": {
        "id": "AwUsaAcRWKtN"
      },
      "execution_count": null,
      "outputs": []
    },
    {
      "cell_type": "code",
      "source": [
        "sprints_NOC = sprints_table.stack(\"Gender\")\n",
        "sprints_NOC"
      ],
      "metadata": {
        "id": "9qhYg3pm64PS"
      },
      "execution_count": null,
      "outputs": []
    },
    {
      "cell_type": "code",
      "source": [
        "sprints_NOC.index"
      ],
      "metadata": {
        "id": "BygN_yLAXMM3"
      },
      "execution_count": null,
      "outputs": []
    },
    {
      "cell_type": "code",
      "source": [
        "sprints_NOC.loc[('JAM',   'Men'), :]"
      ],
      "metadata": {
        "id": "J2iY34Vr64Gj"
      },
      "execution_count": null,
      "outputs": []
    },
    {
      "cell_type": "code",
      "source": [
        "sprints_NOC.loc[('JAM',   'Men'), '100m']"
      ],
      "metadata": {
        "id": "EupzuYGO64Bk"
      },
      "execution_count": null,
      "outputs": []
    },
    {
      "cell_type": "code",
      "source": [
        "sprints_NOC.iloc[0, :]"
      ],
      "metadata": {
        "id": "YrJ9kCCdYE_R"
      },
      "execution_count": null,
      "outputs": []
    },
    {
      "cell_type": "code",
      "source": [
        "sprints_NOC.iloc[0, 0]"
      ],
      "metadata": {
        "id": "gxcj_y-qYMHm"
      },
      "execution_count": null,
      "outputs": []
    },
    {
      "cell_type": "code",
      "source": [
        "sprints_NOC.stack?"
      ],
      "metadata": {
        "id": "DkrFQ0XGB5Oj"
      },
      "execution_count": null,
      "outputs": []
    },
    {
      "cell_type": "code",
      "source": [
        "sprints_NOC.unstack?"
      ],
      "metadata": {
        "id": "bwoHmR7aB_Pr"
      },
      "execution_count": null,
      "outputs": []
    },
    {
      "cell_type": "markdown",
      "source": [
        "## Challenge"
      ],
      "metadata": {
        "id": "prwKaxHRupV5"
      }
    },
    {
      "cell_type": "code",
      "source": [
        "!pip install --quiet pandas==2.0.2\n",
        "\n",
        "import pandas as pd\n",
        "from pathlib import Path\n",
        "import matplotlib.pyplot as plt\n",
        "\n",
        "if not Path(\"olympics_1896_2004.csv\").exists():\n",
        "  !wget https://github.com/jonfernandes/pandas_essential/raw/main/olympics_1896_2004.csv\n",
        "if not Path(\"olympics_2008.csv\").exists():\n",
        "  !wget https://github.com/jonfernandes/pandas_essential/raw/main/olympics_2008.csv\n",
        "\n",
        "filename = \"olympics_1896_2004.csv\"\n",
        "print(\"Installed all of the necessary files for this section ...\")"
      ],
      "metadata": {
        "id": "pUFO5mPbexfs"
      },
      "execution_count": null,
      "outputs": []
    },
    {
      "cell_type": "code",
      "source": [
        "def preprocess(filename = \"olympics_1896_2004.csv\"):\n",
        "  \"\"\"Preparing and transforming dataframe\"\"\"\n",
        "  print(f\"Preprocessing {filename} ...\\n\")\n",
        "  ordered_medals = pd.api.types.CategoricalDtype(categories=[\"Bronze\", \"Silver\", \"Gold\"], ordered=True)\n",
        "  dtype_mapper = {\"Year\": \"int64\",\n",
        "                \"City\": \"string\",\n",
        "                \"Sport\": \"string\",\n",
        "                \"Discipline\": \"string\",\n",
        "                \"Athlete Name\": \"string\",\n",
        "                \"NOC\": \"string\",\n",
        "                \"Gender\": \"category\",\n",
        "                \"Event\": \"string\",\n",
        "                \"Event_gender\": \"category\",\n",
        "                \"Medal\": ordered_medals}\n",
        "  df = pd.read_csv(filename, skiprows=5, dtype=dtype_mapper)\n",
        "  df = df.drop('Position', axis=1)\n",
        "  df[\"Event Gender\"] = df[\"Event Gender\"].astype(\"category\")\n",
        "  df.loc[24676, \"Gender\"] = \"Women\"\n",
        "  df.Sport = df.Sport.str.lower()\n",
        "  df.Discipline = df.Discipline.str.lower()\n",
        "  df.Event = df.Event.str.lower()\n",
        "  df.NOC = df.NOC.str.upper()\n",
        "  return df\n",
        "\n",
        "def preprocess_2008(filename=\"olympics_2008.csv\"):\n",
        "  print(f\"Preprocessing {filename} ...\\n\")\n",
        "  df = pd.read_csv(filename)\n",
        "  df.columns = ['City', 'Year', 'Sport', 'Discipline', 'Athlete Name', 'NOC',\n",
        "       'Gender', 'Event', 'Event Gender', 'Medal', 'Result']\n",
        "  df = df.drop(\"Result\", axis=1)\n",
        "  df.City = df.City.fillna(value=\"Beijing\")\n",
        "  df.Year = df.Year.fillna(value=2008)\n",
        "  df = df.dropna(subset=['Sport', 'Discipline', 'Athlete Name', 'NOC', 'Gender',\n",
        "       'Event', 'Event Gender', 'Medal'], how=\"all\")\n",
        "  df = df.drop_duplicates()\n",
        "  df.Sport = df.Sport.str.lower()\n",
        "  df.Discipline = df.Discipline.str.lower()\n",
        "  df.Event = df.Event.str.lower()\n",
        "  df.NOC = df.NOC.str.upper()\n",
        "  df.Medal = df.Medal.str.capitalize()\n",
        "  df.City = df.City.astype(\"string\")\n",
        "  df.Year = df.Year.astype(int)\n",
        "  df.Sport = df.Sport.astype(\"string\")\n",
        "  df.Discipline = df.Discipline.astype(\"string\")\n",
        "  df[\"Athlete Name\"] = df[\"Athlete Name\"].astype(\"string\")\n",
        "  df.NOC = df.NOC.astype(\"string\")\n",
        "  df.Gender = df.Gender.astype(\"category\")\n",
        "  df.Event = df.Event.astype(\"string\")\n",
        "  df['Event Gender'] = df['Event Gender'].astype(\"category\")\n",
        "  medal_order = [\"Bronze\", \"Silver\", \"Gold\"]\n",
        "  df.Medal = pd.Categorical(df.Medal, categories=medal_order, ordered=True)\n",
        "\n",
        "  return df\n",
        "\n",
        "oo = preprocess()\n",
        "nw = preprocess_2008()\n",
        "up = pd.concat([oo, nw])\n",
        "up.sample(3)"
      ],
      "metadata": {
        "id": "pDC_nItNexfs"
      },
      "execution_count": null,
      "outputs": []
    },
    {
      "cell_type": "markdown",
      "source": [
        "**Using a line graph, plot the number of gold medals won by the USA male and female Olympians throughout the history of the Olympics?\n",
        "Distinguish between the male and female Olympians in the line graph using blue and pink**"
      ],
      "metadata": {
        "id": "r5o55t_3uuwb"
      }
    },
    {
      "cell_type": "code",
      "source": [],
      "metadata": {
        "id": "C_RNt_Ef639H"
      },
      "execution_count": null,
      "outputs": []
    },
    {
      "cell_type": "markdown",
      "source": [
        "**Using a bar chart, plot the 5 Olympians who have won the most gold medals from the dataset (1896 to 2008). When there is a tie, consider the number of silver medals, then bronze medals.**"
      ],
      "metadata": {
        "id": "Tb5t8FCK3hwH"
      }
    },
    {
      "cell_type": "markdown",
      "source": [
        "##Solution"
      ],
      "metadata": {
        "id": "UeJT-eycu6o9"
      }
    },
    {
      "cell_type": "markdown",
      "source": [
        "**Using a line graph, plot the number of gold medals won by the USA male and female Olympians throughout the history of the Olympics?\n",
        "Distinguish between the male and female Olympians in the line graph using blue (male) and pink (female)**"
      ],
      "metadata": {
        "id": "Q9Qf05NHu6o9"
      }
    },
    {
      "cell_type": "code",
      "source": [
        "!pip install --quiet pandas==2.0.2\n",
        "\n",
        "import pandas as pd\n",
        "from pathlib import Path\n",
        "import matplotlib.pyplot as plt\n",
        "\n",
        "if not Path(\"olympics_1896_2004.csv\").exists():\n",
        "  !wget https://github.com/jonfernandes/pandas_essential/raw/main/olympics_1896_2004.csv\n",
        "if not Path(\"olympics_2008.csv\").exists():\n",
        "  !wget https://github.com/jonfernandes/pandas_essential/raw/main/olympics_2008.csv\n",
        "\n",
        "filename = \"olympics_1896_2004.csv\"\n",
        "print(\"Installed all of the necessary files for this section ...\")"
      ],
      "metadata": {
        "id": "dYNEO227vQiv"
      },
      "execution_count": null,
      "outputs": []
    },
    {
      "cell_type": "code",
      "source": [
        "def preprocess(filename = \"olympics_1896_2004.csv\"):\n",
        "  \"\"\"Preparing and transforming dataframe\"\"\"\n",
        "  print(f\"Preprocessing {filename} ...\\n\")\n",
        "  ordered_medals = pd.api.types.CategoricalDtype(categories=[\"Bronze\", \"Silver\", \"Gold\"], ordered=True)\n",
        "  dtype_mapper = {\"Year\": \"int64\",\n",
        "                \"City\": \"string\",\n",
        "                \"Sport\": \"string\",\n",
        "                \"Discipline\": \"string\",\n",
        "                \"Athlete Name\": \"string\",\n",
        "                \"NOC\": \"string\",\n",
        "                \"Gender\": \"category\",\n",
        "                \"Event\": \"string\",\n",
        "                \"Event_gender\": \"category\",\n",
        "                \"Medal\": ordered_medals}\n",
        "  df = pd.read_csv(filename, skiprows=5, dtype=dtype_mapper)\n",
        "  df = df.drop('Position', axis=1)\n",
        "  df[\"Event Gender\"] = df[\"Event Gender\"].astype(\"category\")\n",
        "  df.loc[24676, \"Gender\"] = \"Women\"\n",
        "  df.Sport = df.Sport.str.lower()\n",
        "  df.Discipline = df.Discipline.str.lower()\n",
        "  df.Event = df.Event.str.lower()\n",
        "  df.NOC = df.NOC.str.upper()\n",
        "  return df\n",
        "\n",
        "def preprocess_2008(filename=\"olympics_2008.csv\"):\n",
        "  print(f\"Preprocessing {filename} ...\\n\")\n",
        "  df = pd.read_csv(filename)\n",
        "  df.columns = ['City', 'Year', 'Sport', 'Discipline', 'Athlete Name', 'NOC',\n",
        "       'Gender', 'Event', 'Event Gender', 'Medal', 'Result']\n",
        "  df = df.drop(\"Result\", axis=1)\n",
        "  df.City = df.City.fillna(value=\"Beijing\")\n",
        "  df.Year = df.Year.fillna(value=2008)\n",
        "  df = df.dropna(subset=['Sport', 'Discipline', 'Athlete Name', 'NOC', 'Gender',\n",
        "       'Event', 'Event Gender', 'Medal'], how=\"all\")\n",
        "  df = df.drop_duplicates()\n",
        "  df.Sport = df.Sport.str.lower()\n",
        "  df.Discipline = df.Discipline.str.lower()\n",
        "  df.Event = df.Event.str.lower()\n",
        "  df.NOC = df.NOC.str.upper()\n",
        "  df.Medal = df.Medal.str.capitalize()\n",
        "  df.City = df.City.astype(\"string\")\n",
        "  df.Year = df.Year.astype(int)\n",
        "  df.Sport = df.Sport.astype(\"string\")\n",
        "  df.Discipline = df.Discipline.astype(\"string\")\n",
        "  df[\"Athlete Name\"] = df[\"Athlete Name\"].astype(\"string\")\n",
        "  df.NOC = df.NOC.astype(\"string\")\n",
        "  df.Gender = df.Gender.astype(\"category\")\n",
        "  df.Event = df.Event.astype(\"string\")\n",
        "  df['Event Gender'] = df['Event Gender'].astype(\"category\")\n",
        "  medal_order = [\"Bronze\", \"Silver\", \"Gold\"]\n",
        "  df.Medal = pd.Categorical(df.Medal, categories=medal_order, ordered=True)\n",
        "\n",
        "  return df\n",
        "\n",
        "oo = preprocess()\n",
        "nw = preprocess_2008()\n",
        "up = pd.concat([oo, nw])\n",
        "up.sample(3)"
      ],
      "metadata": {
        "id": "QEVPTHlIvQiw"
      },
      "execution_count": null,
      "outputs": []
    },
    {
      "cell_type": "code",
      "source": [
        "usa_gold = up[(up.NOC == 'USA') & (up.Medal == 'Gold')]\n",
        "usa_gold"
      ],
      "metadata": {
        "id": "MphlXj4BvXNa"
      },
      "execution_count": null,
      "outputs": []
    },
    {
      "cell_type": "code",
      "source": [
        "usa_gold.groupby(['Year', 'Gender']).size()"
      ],
      "metadata": {
        "id": "cC_5dpdrvXKK"
      },
      "execution_count": null,
      "outputs": []
    },
    {
      "cell_type": "code",
      "source": [
        "usa_gold.groupby(['Year', 'Gender']).size().index"
      ],
      "metadata": {
        "id": "O5dFukxku6o-"
      },
      "execution_count": null,
      "outputs": []
    },
    {
      "cell_type": "code",
      "source": [
        "usa_gold.groupby(['Year', 'Gender']).size().plot(kind='line')"
      ],
      "metadata": {
        "id": "0Wz1wAS4z-xZ"
      },
      "execution_count": null,
      "outputs": []
    },
    {
      "cell_type": "code",
      "source": [
        "usa_gold.groupby(['Year', 'Gender']).size()"
      ],
      "metadata": {
        "id": "R_XDcQRT1A07"
      },
      "execution_count": null,
      "outputs": []
    },
    {
      "cell_type": "code",
      "source": [
        "usa_gold.groupby(['Year', 'Gender']).size().unstack('Gender')"
      ],
      "metadata": {
        "id": "v13F5zuIwuFm"
      },
      "execution_count": null,
      "outputs": []
    },
    {
      "cell_type": "code",
      "source": [
        "usa_gold.groupby(['Year', 'Gender']).size().unstack('Gender').plot(kind='line')"
      ],
      "metadata": {
        "id": "Ss-ROTMkwuCk"
      },
      "execution_count": null,
      "outputs": []
    },
    {
      "cell_type": "code",
      "source": [
        "usa_gold.groupby(['Year', 'Gender']).size().unstack('Gender').plot?"
      ],
      "metadata": {
        "id": "epfAeOuIZZhJ"
      },
      "execution_count": null,
      "outputs": []
    },
    {
      "cell_type": "code",
      "source": [
        "pd.Series.plot?"
      ],
      "metadata": {
        "id": "oRbk59AZZr_7"
      },
      "execution_count": null,
      "outputs": []
    },
    {
      "cell_type": "code",
      "source": [
        "usa_gold.groupby(['Year', 'Gender']).size().unstack('Gender').plot(kind='line', color=['blue', 'pink'])"
      ],
      "metadata": {
        "id": "LW0X9ze0wt8Z"
      },
      "execution_count": null,
      "outputs": []
    },
    {
      "cell_type": "code",
      "source": [
        "usa_gold.groupby(['Year', 'Gender']).size().unstack('Gender').plot(kind='line', color=['pink', 'blue'])"
      ],
      "metadata": {
        "id": "rFbw6oa2wt5d"
      },
      "execution_count": null,
      "outputs": []
    },
    {
      "cell_type": "markdown",
      "source": [
        "**Using a bar chart, plot the 5 Olympians who have won the most gold medals from the dataset (1896 to 2008). When there is a tie, consider the number of silver medals, then bronze medals.**"
      ],
      "metadata": {
        "id": "foilIThA354A"
      }
    },
    {
      "cell_type": "code",
      "source": [
        "up.groupby(['Athlete Name','Medal']).size()"
      ],
      "metadata": {
        "id": "NZOK4FC7wt2Y"
      },
      "execution_count": null,
      "outputs": []
    },
    {
      "cell_type": "code",
      "source": [
        "(up.groupby(['Athlete Name','Medal'])\n",
        ".size()\n",
        ".unstack('Medal', fill_value=0)\n",
        ")"
      ],
      "metadata": {
        "id": "WwmJr_heaCJI"
      },
      "execution_count": null,
      "outputs": []
    },
    {
      "cell_type": "code",
      "source": [
        "(up.groupby(['Athlete Name','Medal'])\n",
        ".size()\n",
        ".unstack('Medal', fill_value=0)\n",
        ".sort_values(['Gold', 'Silver', 'Bronze'], ascending=False)\n",
        ")"
      ],
      "metadata": {
        "id": "IwdoRPZtwtzO"
      },
      "execution_count": null,
      "outputs": []
    },
    {
      "cell_type": "code",
      "source": [
        "(up.groupby(['Athlete Name','Medal'])\n",
        ".size()\n",
        ".unstack('Medal', fill_value=0)\n",
        ".sort_values(['Gold', 'Silver', 'Bronze'], ascending=False)[['Gold', 'Silver', 'Bronze']]\n",
        ")"
      ],
      "metadata": {
        "id": "ULPVMVbBwtvx"
      },
      "execution_count": null,
      "outputs": []
    },
    {
      "cell_type": "code",
      "source": [
        "(up.groupby(['Athlete Name','Medal'])\n",
        ".size()\n",
        ".unstack('Medal', fill_value=0)\n",
        ".sort_values(['Gold', 'Silver', 'Bronze'], ascending=False)[['Gold', 'Silver', 'Bronze']]\n",
        ".head(5)\n",
        ")"
      ],
      "metadata": {
        "id": "uDO5cqLa5BOq"
      },
      "execution_count": null,
      "outputs": []
    },
    {
      "cell_type": "code",
      "source": [
        "(up.groupby(['Athlete Name','Medal'])\n",
        ".size()\n",
        ".unstack('Medal', fill_value=0)\n",
        ".sort_values(['Gold', 'Silver', 'Bronze'], ascending=False)[['Gold', 'Silver', 'Bronze']]\n",
        ".head(5)\n",
        ".plot(kind='bar')\n",
        ")"
      ],
      "metadata": {
        "id": "udOauxgS5pl8"
      },
      "execution_count": null,
      "outputs": []
    },
    {
      "cell_type": "markdown",
      "source": [
        "##Creating your own colormaps"
      ],
      "metadata": {
        "id": "w-w5R_xF7431"
      }
    },
    {
      "cell_type": "code",
      "source": [
        "!pip install --quiet pandas==2.0.2\n",
        "\n",
        "import pandas as pd\n",
        "from pathlib import Path\n",
        "import matplotlib.pyplot as plt\n",
        "\n",
        "if not Path(\"olympics_1896_2004.csv\").exists():\n",
        "  !wget https://github.com/jonfernandes/pandas_essential/raw/main/olympics_1896_2004.csv\n",
        "if not Path(\"olympics_2008.csv\").exists():\n",
        "  !wget https://github.com/jonfernandes/pandas_essential/raw/main/olympics_2008.csv\n",
        "\n",
        "filename = \"olympics_1896_2004.csv\"\n",
        "print(\"Installed all of the necessary files for this section ...\")"
      ],
      "metadata": {
        "id": "cHYafmKciN48"
      },
      "execution_count": null,
      "outputs": []
    },
    {
      "cell_type": "code",
      "source": [
        "def preprocess(filename = \"olympics_1896_2004.csv\"):\n",
        "  \"\"\"Preparing and transforming dataframe\"\"\"\n",
        "  print(f\"Preprocessing {filename} ...\\n\")\n",
        "  ordered_medals = pd.api.types.CategoricalDtype(categories=[\"Bronze\", \"Silver\", \"Gold\"], ordered=True)\n",
        "  dtype_mapper = {\"Year\": \"int64\",\n",
        "                \"City\": \"string\",\n",
        "                \"Sport\": \"string\",\n",
        "                \"Discipline\": \"string\",\n",
        "                \"Athlete Name\": \"string\",\n",
        "                \"NOC\": \"string\",\n",
        "                \"Gender\": \"category\",\n",
        "                \"Event\": \"string\",\n",
        "                \"Event_gender\": \"category\",\n",
        "                \"Medal\": ordered_medals}\n",
        "  df = pd.read_csv(filename, skiprows=5, dtype=dtype_mapper)\n",
        "  df = df.drop('Position', axis=1)\n",
        "  df[\"Event Gender\"] = df[\"Event Gender\"].astype(\"category\")\n",
        "  df.loc[24676, \"Gender\"] = \"Women\"\n",
        "  df.Sport = df.Sport.str.lower()\n",
        "  df.Discipline = df.Discipline.str.lower()\n",
        "  df.Event = df.Event.str.lower()\n",
        "  df.NOC = df.NOC.str.upper()\n",
        "  return df\n",
        "\n",
        "def preprocess_2008(filename=\"olympics_2008.csv\"):\n",
        "  print(f\"Preprocessing {filename} ...\\n\")\n",
        "  df = pd.read_csv(filename)\n",
        "  df.columns = ['City', 'Year', 'Sport', 'Discipline', 'Athlete Name', 'NOC',\n",
        "       'Gender', 'Event', 'Event Gender', 'Medal', 'Result']\n",
        "  df = df.drop(\"Result\", axis=1)\n",
        "  df.City = df.City.fillna(value=\"Beijing\")\n",
        "  df.Year = df.Year.fillna(value=2008)\n",
        "  df = df.dropna(subset=['Sport', 'Discipline', 'Athlete Name', 'NOC', 'Gender',\n",
        "       'Event', 'Event Gender', 'Medal'], how=\"all\")\n",
        "  df = df.drop_duplicates()\n",
        "  df.Sport = df.Sport.str.lower()\n",
        "  df.Discipline = df.Discipline.str.lower()\n",
        "  df.Event = df.Event.str.lower()\n",
        "  df.NOC = df.NOC.str.upper()\n",
        "  df.Medal = df.Medal.str.capitalize()\n",
        "  df.City = df.City.astype(\"string\")\n",
        "  df.Year = df.Year.astype(int)\n",
        "  df.Sport = df.Sport.astype(\"string\")\n",
        "  df.Discipline = df.Discipline.astype(\"string\")\n",
        "  df[\"Athlete Name\"] = df[\"Athlete Name\"].astype(\"string\")\n",
        "  df.NOC = df.NOC.astype(\"string\")\n",
        "  df.Gender = df.Gender.astype(\"category\")\n",
        "  df.Event = df.Event.astype(\"string\")\n",
        "  df['Event Gender'] = df['Event Gender'].astype(\"category\")\n",
        "  medal_order = [\"Bronze\", \"Silver\", \"Gold\"]\n",
        "  df.Medal = pd.Categorical(df.Medal, categories=medal_order, ordered=True)\n",
        "\n",
        "  return df\n",
        "\n",
        "oo = preprocess()\n",
        "nw = preprocess_2008()\n",
        "up = pd.concat([oo, nw])\n",
        "up.sample(3)"
      ],
      "metadata": {
        "id": "RdlXjxjGiN49"
      },
      "execution_count": null,
      "outputs": []
    },
    {
      "cell_type": "code",
      "source": [
        "(up.groupby(['Athlete Name','Medal'])\n",
        ".size()\n",
        ".unstack('Medal', fill_value=0)\n",
        ".sort_values(['Gold', 'Silver', 'Bronze'], ascending=False)[['Gold', 'Silver', 'Bronze']]\n",
        ".head(5)\n",
        ".plot(kind='bar')\n",
        ")"
      ],
      "metadata": {
        "id": "mHLjmflh7-nT"
      },
      "execution_count": null,
      "outputs": []
    },
    {
      "cell_type": "code",
      "source": [
        "from matplotlib.colors import ListedColormap"
      ],
      "metadata": {
        "id": "iYeTaMM87-kF"
      },
      "execution_count": null,
      "outputs": []
    },
    {
      "cell_type": "code",
      "source": [
        "ListedColormap?"
      ],
      "metadata": {
        "id": "qFIqIhPH7-gj"
      },
      "execution_count": null,
      "outputs": []
    },
    {
      "cell_type": "code",
      "source": [
        "gold_silver_bronze = ['#dbb40c','#c5c9c7','#a87900']"
      ],
      "metadata": {
        "id": "p0l6tR4z7-dP"
      },
      "execution_count": null,
      "outputs": []
    },
    {
      "cell_type": "code",
      "source": [
        "colormap = ListedColormap(gold_silver_bronze)\n",
        "colormap"
      ],
      "metadata": {
        "id": "AoZBeImP9yWf"
      },
      "execution_count": null,
      "outputs": []
    },
    {
      "cell_type": "code",
      "source": [
        "(up.groupby(['Athlete Name','Medal'])\n",
        ".size()\n",
        ".unstack('Medal', fill_value=0)\n",
        ".sort_values(['Gold', 'Silver', 'Bronze'], ascending=False)[['Gold', 'Silver', 'Bronze']]\n",
        ".head(5)\n",
        ".plot(kind='bar', colormap=colormap)\n",
        ")"
      ],
      "metadata": {
        "id": "D2yNdU-R9ySu"
      },
      "execution_count": null,
      "outputs": []
    },
    {
      "cell_type": "markdown",
      "source": [
        "##Final Challenge"
      ],
      "metadata": {
        "id": "Ffq41qyWCfrk"
      }
    },
    {
      "cell_type": "markdown",
      "source": [
        "For each Olympic year present in the dataset, show the US Olympian (and their sport) who has won the highest number of medals in that particular year.\n",
        "\n",
        "- In the case of a tie, Gold > Silver > Bronze\n",
        "- Include only one Olympian for each Olympic year i.e. If there are 2 Olympians in one year who have won exactly the same number and type of medals, then show only the first one based on sorting the names alphabetically by surname.\n",
        "\n",
        "- You should show the the following columns for each Olympic year:\n",
        "  - Athlete Name\n",
        "  - Sport\n",
        "  - Total\n"
      ],
      "metadata": {
        "id": "zMMgGjqYCsDE"
      }
    },
    {
      "cell_type": "code",
      "source": [
        "!pip install --quiet pandas==2.0.2\n",
        "\n",
        "import pandas as pd\n",
        "from pathlib import Path\n",
        "import matplotlib.pyplot as plt\n",
        "pd.set_option(\"display.width\", 100)\n",
        "\n",
        "if not Path(\"olympics_1896_2004.csv\").exists():\n",
        "  !wget https://github.com/jonfernandes/pandas_essential/raw/main/olympics_1896_2004.csv\n",
        "if not Path(\"olympics_2008.csv\").exists():\n",
        "  !wget https://github.com/jonfernandes/pandas_essential/raw/main/olympics_2008.csv\n",
        "\n",
        "filename = \"olympics_1896_2004.csv\"\n",
        "print(\"Installed all of the necessary files for this section ...\")"
      ],
      "metadata": {
        "id": "oqXcdInNjsca"
      },
      "execution_count": null,
      "outputs": []
    },
    {
      "cell_type": "code",
      "source": [
        "def preprocess(filename = \"olympics_1896_2004.csv\"):\n",
        "  \"\"\"Preparing and transforming dataframe\"\"\"\n",
        "  print(f\"Preprocessing {filename} ...\\n\")\n",
        "  ordered_medals = pd.api.types.CategoricalDtype(categories=[\"Bronze\", \"Silver\", \"Gold\"], ordered=True)\n",
        "  dtype_mapper = {\"Year\": \"int64\",\n",
        "                \"City\": \"string\",\n",
        "                \"Sport\": \"string\",\n",
        "                \"Discipline\": \"string\",\n",
        "                \"Athlete Name\": \"string\",\n",
        "                \"NOC\": \"string\",\n",
        "                \"Gender\": \"category\",\n",
        "                \"Event\": \"string\",\n",
        "                \"Event_gender\": \"category\",\n",
        "                \"Medal\": ordered_medals}\n",
        "  df = pd.read_csv(filename, skiprows=5, dtype=dtype_mapper)\n",
        "  df = df.drop('Position', axis=1)\n",
        "  df[\"Event Gender\"] = df[\"Event Gender\"].astype(\"category\")\n",
        "  df.loc[24676, \"Gender\"] = \"Women\"\n",
        "  df.Sport = df.Sport.str.lower()\n",
        "  df.Discipline = df.Discipline.str.lower()\n",
        "  df.Event = df.Event.str.lower()\n",
        "  df.NOC = df.NOC.str.upper()\n",
        "  return df\n",
        "\n",
        "def preprocess_2008(filename=\"olympics_2008.csv\"):\n",
        "  print(f\"Preprocessing {filename} ...\\n\")\n",
        "  df = pd.read_csv(filename)\n",
        "  df.columns = ['City', 'Year', 'Sport', 'Discipline', 'Athlete Name', 'NOC',\n",
        "       'Gender', 'Event', 'Event Gender', 'Medal', 'Result']\n",
        "  df = df.drop(\"Result\", axis=1)\n",
        "  df.City = df.City.fillna(value=\"Beijing\")\n",
        "  df.Year = df.Year.fillna(value=2008)\n",
        "  df = df.dropna(subset=['Sport', 'Discipline', 'Athlete Name', 'NOC', 'Gender',\n",
        "       'Event', 'Event Gender', 'Medal'], how=\"all\")\n",
        "  df = df.drop_duplicates()\n",
        "  df.Sport = df.Sport.str.lower()\n",
        "  df.Discipline = df.Discipline.str.lower()\n",
        "  df.Event = df.Event.str.lower()\n",
        "  df.NOC = df.NOC.str.upper()\n",
        "  df.Medal = df.Medal.str.capitalize()\n",
        "  df.City = df.City.astype(\"string\")\n",
        "  df.Year = df.Year.astype(int)\n",
        "  df.Sport = df.Sport.astype(\"string\")\n",
        "  df.Discipline = df.Discipline.astype(\"string\")\n",
        "  df[\"Athlete Name\"] = df[\"Athlete Name\"].astype(\"string\")\n",
        "  df.NOC = df.NOC.astype(\"string\")\n",
        "  df.Gender = df.Gender.astype(\"category\")\n",
        "  df.Event = df.Event.astype(\"string\")\n",
        "  df['Event Gender'] = df['Event Gender'].astype(\"category\")\n",
        "  medal_order = [\"Bronze\", \"Silver\", \"Gold\"]\n",
        "  df.Medal = pd.Categorical(df.Medal, categories=medal_order, ordered=True)\n",
        "\n",
        "  return df\n",
        "\n",
        "oo = preprocess()\n",
        "nw = preprocess_2008()\n",
        "up = pd.concat([oo, nw])\n",
        "up.sample(3)"
      ],
      "metadata": {
        "id": "i951MK2ojscb"
      },
      "execution_count": null,
      "outputs": []
    },
    {
      "cell_type": "code",
      "source": [],
      "metadata": {
        "id": "NGHBR0r1eqig"
      },
      "execution_count": null,
      "outputs": []
    },
    {
      "cell_type": "markdown",
      "source": [
        "##Solution"
      ],
      "metadata": {
        "id": "y4e4PWcferLR"
      }
    },
    {
      "cell_type": "markdown",
      "source": [
        "For each Olympic year present in the dataset, show the US Olympian (and their sport) who has won the highest number of medals in that particular year.\n",
        "\n",
        "- In the case of a tie, Gold > Silver > Bronze\n",
        "- Include only one Olympian for each Olympic year i.e. If there are 2 Olympians in one year who have won exactly the same number and type of medals, then show only the first one based on sorting the names alphabetically by surname.\n",
        "\n",
        "- You should show the the following columns for each Olympic year:\n",
        "  - Athlete Name\n",
        "  - Sport\n",
        "  - Total\n"
      ],
      "metadata": {
        "id": "yZMmxFA3ezMd"
      }
    },
    {
      "cell_type": "code",
      "source": [
        "!pip install --quiet pandas==2.0.2\n",
        "\n",
        "import pandas as pd\n",
        "from pathlib import Path\n",
        "import matplotlib.pyplot as plt\n",
        "pd.set_option(\"display.width\", 100)\n",
        "\n",
        "if not Path(\"olympics_1896_2004.csv\").exists():\n",
        "  !wget https://github.com/jonfernandes/pandas_essential/raw/main/olympics_1896_2004.csv\n",
        "if not Path(\"olympics_2008.csv\").exists():\n",
        "  !wget https://github.com/jonfernandes/pandas_essential/raw/main/olympics_2008.csv\n",
        "\n",
        "filename = \"olympics_1896_2004.csv\"\n",
        "print(\"Installed all of the necessary files for this section ...\")"
      ],
      "metadata": {
        "id": "MbU6X-CxeojY",
        "colab": {
          "base_uri": "https://localhost:8080/"
        },
        "outputId": "fcbc60ec-3c6a-456e-f88e-5497b344f5a0"
      },
      "execution_count": 1,
      "outputs": [
        {
          "output_type": "stream",
          "name": "stdout",
          "text": [
            "Installed all of the necessary files for this section ...\n"
          ]
        }
      ]
    },
    {
      "cell_type": "code",
      "source": [
        "def preprocess(filename = \"olympics_1896_2004.csv\"):\n",
        "  \"\"\"Preparing and transforming dataframe\"\"\"\n",
        "  print(f\"Preprocessing {filename} ...\\n\")\n",
        "  ordered_medals = pd.api.types.CategoricalDtype(categories=[\"Bronze\", \"Silver\", \"Gold\"], ordered=True)\n",
        "  dtype_mapper = {\"Year\": \"int64\",\n",
        "                \"City\": \"string\",\n",
        "                \"Sport\": \"string\",\n",
        "                \"Discipline\": \"string\",\n",
        "                \"Athlete Name\": \"string\",\n",
        "                \"NOC\": \"string\",\n",
        "                \"Gender\": \"category\",\n",
        "                \"Event\": \"string\",\n",
        "                \"Event_gender\": \"category\",\n",
        "                \"Medal\": ordered_medals}\n",
        "  df = pd.read_csv(filename, skiprows=5, dtype=dtype_mapper)\n",
        "  df = df.drop('Position', axis=1)\n",
        "  df[\"Event Gender\"] = df[\"Event Gender\"].astype(\"category\")\n",
        "  df.loc[24676, \"Gender\"] = \"Women\"\n",
        "  df.Sport = df.Sport.str.lower()\n",
        "  df.Discipline = df.Discipline.str.lower()\n",
        "  df.Event = df.Event.str.lower()\n",
        "  df.NOC = df.NOC.str.upper()\n",
        "  return df\n",
        "\n",
        "def preprocess_2008(filename=\"olympics_2008.csv\"):\n",
        "  print(f\"Preprocessing {filename} ...\\n\")\n",
        "  df = pd.read_csv(filename)\n",
        "  df.columns = ['City', 'Year', 'Sport', 'Discipline', 'Athlete Name', 'NOC',\n",
        "       'Gender', 'Event', 'Event Gender', 'Medal', 'Result']\n",
        "  df = df.drop(\"Result\", axis=1)\n",
        "  df.City = df.City.fillna(value=\"Beijing\")\n",
        "  df.Year = df.Year.fillna(value=2008)\n",
        "  df = df.dropna(subset=['Sport', 'Discipline', 'Athlete Name', 'NOC', 'Gender',\n",
        "       'Event', 'Event Gender', 'Medal'], how=\"all\")\n",
        "  df = df.drop_duplicates()\n",
        "  df.Sport = df.Sport.str.lower()\n",
        "  df.Discipline = df.Discipline.str.lower()\n",
        "  df.Event = df.Event.str.lower()\n",
        "  df.NOC = df.NOC.str.upper()\n",
        "  df.Medal = df.Medal.str.capitalize()\n",
        "  df.City = df.City.astype(\"string\")\n",
        "  df.Year = df.Year.astype(int)\n",
        "  df.Sport = df.Sport.astype(\"string\")\n",
        "  df.Discipline = df.Discipline.astype(\"string\")\n",
        "  df[\"Athlete Name\"] = df[\"Athlete Name\"].astype(\"string\")\n",
        "  df.NOC = df.NOC.astype(\"string\")\n",
        "  df.Gender = df.Gender.astype(\"category\")\n",
        "  df.Event = df.Event.astype(\"string\")\n",
        "  df['Event Gender'] = df['Event Gender'].astype(\"category\")\n",
        "  medal_order = [\"Bronze\", \"Silver\", \"Gold\"]\n",
        "  df.Medal = pd.Categorical(df.Medal, categories=medal_order, ordered=True)\n",
        "\n",
        "  return df\n",
        "\n",
        "oo = preprocess()\n",
        "nw = preprocess_2008()\n",
        "up = pd.concat([oo, nw])\n",
        "up.sample(3)"
      ],
      "metadata": {
        "id": "By6xUA93eojY",
        "colab": {
          "base_uri": "https://localhost:8080/",
          "height": 212
        },
        "outputId": "ba2bb0c9-b772-4805-9ac8-933cd51199e9"
      },
      "execution_count": 2,
      "outputs": [
        {
          "output_type": "stream",
          "name": "stdout",
          "text": [
            "Preprocessing olympics_1896_2004.csv ...\n",
            "\n",
            "Preprocessing olympics_2008.csv ...\n",
            "\n"
          ]
        },
        {
          "output_type": "execute_result",
          "data": {
            "text/plain": [
              "       Year       City     Sport Discipline              Athlete Name  NOC Gender     Event  \\\n",
              "26795  2004     Athens  softball   softball            TAKAYAMA, Juri  JPN  Women  softball   \n",
              "20781  1992  Barcelona    hockey     hockey  KHAWAJA, Muhammad Junaid  PAK    Men    hockey   \n",
              "1436   1908     London   rackets    rackets         ASTOR, John Jacob  GBR    Men    double   \n",
              "\n",
              "      Event Gender   Medal  \n",
              "26795            W  Bronze  \n",
              "20781            M  Bronze  \n",
              "1436             M    Gold  "
            ],
            "text/html": [
              "\n",
              "  <div id=\"df-47d06c67-032c-40de-8e5a-b39b54f854bd\" class=\"colab-df-container\">\n",
              "    <div>\n",
              "<style scoped>\n",
              "    .dataframe tbody tr th:only-of-type {\n",
              "        vertical-align: middle;\n",
              "    }\n",
              "\n",
              "    .dataframe tbody tr th {\n",
              "        vertical-align: top;\n",
              "    }\n",
              "\n",
              "    .dataframe thead th {\n",
              "        text-align: right;\n",
              "    }\n",
              "</style>\n",
              "<table border=\"1\" class=\"dataframe\">\n",
              "  <thead>\n",
              "    <tr style=\"text-align: right;\">\n",
              "      <th></th>\n",
              "      <th>Year</th>\n",
              "      <th>City</th>\n",
              "      <th>Sport</th>\n",
              "      <th>Discipline</th>\n",
              "      <th>Athlete Name</th>\n",
              "      <th>NOC</th>\n",
              "      <th>Gender</th>\n",
              "      <th>Event</th>\n",
              "      <th>Event Gender</th>\n",
              "      <th>Medal</th>\n",
              "    </tr>\n",
              "  </thead>\n",
              "  <tbody>\n",
              "    <tr>\n",
              "      <th>26795</th>\n",
              "      <td>2004</td>\n",
              "      <td>Athens</td>\n",
              "      <td>softball</td>\n",
              "      <td>softball</td>\n",
              "      <td>TAKAYAMA, Juri</td>\n",
              "      <td>JPN</td>\n",
              "      <td>Women</td>\n",
              "      <td>softball</td>\n",
              "      <td>W</td>\n",
              "      <td>Bronze</td>\n",
              "    </tr>\n",
              "    <tr>\n",
              "      <th>20781</th>\n",
              "      <td>1992</td>\n",
              "      <td>Barcelona</td>\n",
              "      <td>hockey</td>\n",
              "      <td>hockey</td>\n",
              "      <td>KHAWAJA, Muhammad Junaid</td>\n",
              "      <td>PAK</td>\n",
              "      <td>Men</td>\n",
              "      <td>hockey</td>\n",
              "      <td>M</td>\n",
              "      <td>Bronze</td>\n",
              "    </tr>\n",
              "    <tr>\n",
              "      <th>1436</th>\n",
              "      <td>1908</td>\n",
              "      <td>London</td>\n",
              "      <td>rackets</td>\n",
              "      <td>rackets</td>\n",
              "      <td>ASTOR, John Jacob</td>\n",
              "      <td>GBR</td>\n",
              "      <td>Men</td>\n",
              "      <td>double</td>\n",
              "      <td>M</td>\n",
              "      <td>Gold</td>\n",
              "    </tr>\n",
              "  </tbody>\n",
              "</table>\n",
              "</div>\n",
              "    <div class=\"colab-df-buttons\">\n",
              "\n",
              "  <div class=\"colab-df-container\">\n",
              "    <button class=\"colab-df-convert\" onclick=\"convertToInteractive('df-47d06c67-032c-40de-8e5a-b39b54f854bd')\"\n",
              "            title=\"Convert this dataframe to an interactive table.\"\n",
              "            style=\"display:none;\">\n",
              "\n",
              "  <svg xmlns=\"http://www.w3.org/2000/svg\" height=\"24px\" viewBox=\"0 -960 960 960\">\n",
              "    <path d=\"M120-120v-720h720v720H120Zm60-500h600v-160H180v160Zm220 220h160v-160H400v160Zm0 220h160v-160H400v160ZM180-400h160v-160H180v160Zm440 0h160v-160H620v160ZM180-180h160v-160H180v160Zm440 0h160v-160H620v160Z\"/>\n",
              "  </svg>\n",
              "    </button>\n",
              "\n",
              "  <style>\n",
              "    .colab-df-container {\n",
              "      display:flex;\n",
              "      gap: 12px;\n",
              "    }\n",
              "\n",
              "    .colab-df-convert {\n",
              "      background-color: #E8F0FE;\n",
              "      border: none;\n",
              "      border-radius: 50%;\n",
              "      cursor: pointer;\n",
              "      display: none;\n",
              "      fill: #1967D2;\n",
              "      height: 32px;\n",
              "      padding: 0 0 0 0;\n",
              "      width: 32px;\n",
              "    }\n",
              "\n",
              "    .colab-df-convert:hover {\n",
              "      background-color: #E2EBFA;\n",
              "      box-shadow: 0px 1px 2px rgba(60, 64, 67, 0.3), 0px 1px 3px 1px rgba(60, 64, 67, 0.15);\n",
              "      fill: #174EA6;\n",
              "    }\n",
              "\n",
              "    .colab-df-buttons div {\n",
              "      margin-bottom: 4px;\n",
              "    }\n",
              "\n",
              "    [theme=dark] .colab-df-convert {\n",
              "      background-color: #3B4455;\n",
              "      fill: #D2E3FC;\n",
              "    }\n",
              "\n",
              "    [theme=dark] .colab-df-convert:hover {\n",
              "      background-color: #434B5C;\n",
              "      box-shadow: 0px 1px 3px 1px rgba(0, 0, 0, 0.15);\n",
              "      filter: drop-shadow(0px 1px 2px rgba(0, 0, 0, 0.3));\n",
              "      fill: #FFFFFF;\n",
              "    }\n",
              "  </style>\n",
              "\n",
              "    <script>\n",
              "      const buttonEl =\n",
              "        document.querySelector('#df-47d06c67-032c-40de-8e5a-b39b54f854bd button.colab-df-convert');\n",
              "      buttonEl.style.display =\n",
              "        google.colab.kernel.accessAllowed ? 'block' : 'none';\n",
              "\n",
              "      async function convertToInteractive(key) {\n",
              "        const element = document.querySelector('#df-47d06c67-032c-40de-8e5a-b39b54f854bd');\n",
              "        const dataTable =\n",
              "          await google.colab.kernel.invokeFunction('convertToInteractive',\n",
              "                                                    [key], {});\n",
              "        if (!dataTable) return;\n",
              "\n",
              "        const docLinkHtml = 'Like what you see? Visit the ' +\n",
              "          '<a target=\"_blank\" href=https://colab.research.google.com/notebooks/data_table.ipynb>data table notebook</a>'\n",
              "          + ' to learn more about interactive tables.';\n",
              "        element.innerHTML = '';\n",
              "        dataTable['output_type'] = 'display_data';\n",
              "        await google.colab.output.renderOutput(dataTable, element);\n",
              "        const docLink = document.createElement('div');\n",
              "        docLink.innerHTML = docLinkHtml;\n",
              "        element.appendChild(docLink);\n",
              "      }\n",
              "    </script>\n",
              "  </div>\n",
              "\n",
              "\n",
              "<div id=\"df-c9474eac-463b-45ce-adf1-c43dd91eac9a\">\n",
              "  <button class=\"colab-df-quickchart\" onclick=\"quickchart('df-c9474eac-463b-45ce-adf1-c43dd91eac9a')\"\n",
              "            title=\"Suggest charts\"\n",
              "            style=\"display:none;\">\n",
              "\n",
              "<svg xmlns=\"http://www.w3.org/2000/svg\" height=\"24px\"viewBox=\"0 0 24 24\"\n",
              "     width=\"24px\">\n",
              "    <g>\n",
              "        <path d=\"M19 3H5c-1.1 0-2 .9-2 2v14c0 1.1.9 2 2 2h14c1.1 0 2-.9 2-2V5c0-1.1-.9-2-2-2zM9 17H7v-7h2v7zm4 0h-2V7h2v10zm4 0h-2v-4h2v4z\"/>\n",
              "    </g>\n",
              "</svg>\n",
              "  </button>\n",
              "\n",
              "<style>\n",
              "  .colab-df-quickchart {\n",
              "      --bg-color: #E8F0FE;\n",
              "      --fill-color: #1967D2;\n",
              "      --hover-bg-color: #E2EBFA;\n",
              "      --hover-fill-color: #174EA6;\n",
              "      --disabled-fill-color: #AAA;\n",
              "      --disabled-bg-color: #DDD;\n",
              "  }\n",
              "\n",
              "  [theme=dark] .colab-df-quickchart {\n",
              "      --bg-color: #3B4455;\n",
              "      --fill-color: #D2E3FC;\n",
              "      --hover-bg-color: #434B5C;\n",
              "      --hover-fill-color: #FFFFFF;\n",
              "      --disabled-bg-color: #3B4455;\n",
              "      --disabled-fill-color: #666;\n",
              "  }\n",
              "\n",
              "  .colab-df-quickchart {\n",
              "    background-color: var(--bg-color);\n",
              "    border: none;\n",
              "    border-radius: 50%;\n",
              "    cursor: pointer;\n",
              "    display: none;\n",
              "    fill: var(--fill-color);\n",
              "    height: 32px;\n",
              "    padding: 0;\n",
              "    width: 32px;\n",
              "  }\n",
              "\n",
              "  .colab-df-quickchart:hover {\n",
              "    background-color: var(--hover-bg-color);\n",
              "    box-shadow: 0 1px 2px rgba(60, 64, 67, 0.3), 0 1px 3px 1px rgba(60, 64, 67, 0.15);\n",
              "    fill: var(--button-hover-fill-color);\n",
              "  }\n",
              "\n",
              "  .colab-df-quickchart-complete:disabled,\n",
              "  .colab-df-quickchart-complete:disabled:hover {\n",
              "    background-color: var(--disabled-bg-color);\n",
              "    fill: var(--disabled-fill-color);\n",
              "    box-shadow: none;\n",
              "  }\n",
              "\n",
              "  .colab-df-spinner {\n",
              "    border: 2px solid var(--fill-color);\n",
              "    border-color: transparent;\n",
              "    border-bottom-color: var(--fill-color);\n",
              "    animation:\n",
              "      spin 1s steps(1) infinite;\n",
              "  }\n",
              "\n",
              "  @keyframes spin {\n",
              "    0% {\n",
              "      border-color: transparent;\n",
              "      border-bottom-color: var(--fill-color);\n",
              "      border-left-color: var(--fill-color);\n",
              "    }\n",
              "    20% {\n",
              "      border-color: transparent;\n",
              "      border-left-color: var(--fill-color);\n",
              "      border-top-color: var(--fill-color);\n",
              "    }\n",
              "    30% {\n",
              "      border-color: transparent;\n",
              "      border-left-color: var(--fill-color);\n",
              "      border-top-color: var(--fill-color);\n",
              "      border-right-color: var(--fill-color);\n",
              "    }\n",
              "    40% {\n",
              "      border-color: transparent;\n",
              "      border-right-color: var(--fill-color);\n",
              "      border-top-color: var(--fill-color);\n",
              "    }\n",
              "    60% {\n",
              "      border-color: transparent;\n",
              "      border-right-color: var(--fill-color);\n",
              "    }\n",
              "    80% {\n",
              "      border-color: transparent;\n",
              "      border-right-color: var(--fill-color);\n",
              "      border-bottom-color: var(--fill-color);\n",
              "    }\n",
              "    90% {\n",
              "      border-color: transparent;\n",
              "      border-bottom-color: var(--fill-color);\n",
              "    }\n",
              "  }\n",
              "</style>\n",
              "\n",
              "  <script>\n",
              "    async function quickchart(key) {\n",
              "      const quickchartButtonEl =\n",
              "        document.querySelector('#' + key + ' button');\n",
              "      quickchartButtonEl.disabled = true;  // To prevent multiple clicks.\n",
              "      quickchartButtonEl.classList.add('colab-df-spinner');\n",
              "      try {\n",
              "        const charts = await google.colab.kernel.invokeFunction(\n",
              "            'suggestCharts', [key], {});\n",
              "      } catch (error) {\n",
              "        console.error('Error during call to suggestCharts:', error);\n",
              "      }\n",
              "      quickchartButtonEl.classList.remove('colab-df-spinner');\n",
              "      quickchartButtonEl.classList.add('colab-df-quickchart-complete');\n",
              "    }\n",
              "    (() => {\n",
              "      let quickchartButtonEl =\n",
              "        document.querySelector('#df-c9474eac-463b-45ce-adf1-c43dd91eac9a button');\n",
              "      quickchartButtonEl.style.display =\n",
              "        google.colab.kernel.accessAllowed ? 'block' : 'none';\n",
              "    })();\n",
              "  </script>\n",
              "</div>\n",
              "\n",
              "    </div>\n",
              "  </div>\n"
            ],
            "application/vnd.google.colaboratory.intrinsic+json": {
              "type": "dataframe",
              "summary": "{\n  \"name\": \"up\",\n  \"rows\": 3,\n  \"fields\": [\n    {\n      \"column\": \"Year\",\n      \"properties\": {\n        \"dtype\": \"number\",\n        \"std\": 52,\n        \"min\": 1908,\n        \"max\": 2004,\n        \"num_unique_values\": 3,\n        \"samples\": [\n          2004,\n          1992,\n          1908\n        ],\n        \"semantic_type\": \"\",\n        \"description\": \"\"\n      }\n    },\n    {\n      \"column\": \"City\",\n      \"properties\": {\n        \"dtype\": \"string\",\n        \"num_unique_values\": 3,\n        \"samples\": [\n          \"Athens\",\n          \"Barcelona\",\n          \"London\"\n        ],\n        \"semantic_type\": \"\",\n        \"description\": \"\"\n      }\n    },\n    {\n      \"column\": \"Sport\",\n      \"properties\": {\n        \"dtype\": \"string\",\n        \"num_unique_values\": 3,\n        \"samples\": [\n          \"softball\",\n          \"hockey\",\n          \"rackets\"\n        ],\n        \"semantic_type\": \"\",\n        \"description\": \"\"\n      }\n    },\n    {\n      \"column\": \"Discipline\",\n      \"properties\": {\n        \"dtype\": \"string\",\n        \"num_unique_values\": 3,\n        \"samples\": [\n          \"softball\",\n          \"hockey\",\n          \"rackets\"\n        ],\n        \"semantic_type\": \"\",\n        \"description\": \"\"\n      }\n    },\n    {\n      \"column\": \"Athlete Name\",\n      \"properties\": {\n        \"dtype\": \"string\",\n        \"num_unique_values\": 3,\n        \"samples\": [\n          \"TAKAYAMA, Juri\",\n          \"KHAWAJA, Muhammad Junaid\",\n          \"ASTOR, John Jacob\"\n        ],\n        \"semantic_type\": \"\",\n        \"description\": \"\"\n      }\n    },\n    {\n      \"column\": \"NOC\",\n      \"properties\": {\n        \"dtype\": \"string\",\n        \"num_unique_values\": 3,\n        \"samples\": [\n          \"JPN\",\n          \"PAK\",\n          \"GBR\"\n        ],\n        \"semantic_type\": \"\",\n        \"description\": \"\"\n      }\n    },\n    {\n      \"column\": \"Gender\",\n      \"properties\": {\n        \"dtype\": \"category\",\n        \"num_unique_values\": 2,\n        \"samples\": [\n          \"Men\",\n          \"Women\"\n        ],\n        \"semantic_type\": \"\",\n        \"description\": \"\"\n      }\n    },\n    {\n      \"column\": \"Event\",\n      \"properties\": {\n        \"dtype\": \"string\",\n        \"num_unique_values\": 3,\n        \"samples\": [\n          \"softball\",\n          \"hockey\"\n        ],\n        \"semantic_type\": \"\",\n        \"description\": \"\"\n      }\n    },\n    {\n      \"column\": \"Event Gender\",\n      \"properties\": {\n        \"dtype\": \"category\",\n        \"num_unique_values\": 2,\n        \"samples\": [\n          \"M\",\n          \"W\"\n        ],\n        \"semantic_type\": \"\",\n        \"description\": \"\"\n      }\n    },\n    {\n      \"column\": \"Medal\",\n      \"properties\": {\n        \"dtype\": \"category\",\n        \"num_unique_values\": 2,\n        \"samples\": [\n          \"Gold\",\n          \"Bronze\"\n        ],\n        \"semantic_type\": \"\",\n        \"description\": \"\"\n      }\n    }\n  ]\n}"
            }
          },
          "metadata": {},
          "execution_count": 2
        }
      ]
    },
    {
      "cell_type": "code",
      "source": [
        "usa_olympian = up[up.NOC == 'USA']\n",
        "usa_olympian"
      ],
      "metadata": {
        "id": "OLZlVtDn9yO8",
        "colab": {
          "base_uri": "https://localhost:8080/",
          "height": 423
        },
        "outputId": "9853dd5a-bd08-4765-816a-19b65cf94649"
      },
      "execution_count": 3,
      "outputs": [
        {
          "output_type": "execute_result",
          "data": {
            "text/plain": [
              "      Year     City       Sport       Discipline     Athlete Name  NOC Gender            Event  \\\n",
              "2     1896   Athens   athletics        athletics    LANE, Francis  USA    Men             100m   \n",
              "4     1896   Athens   athletics        athletics    BURKE, Thomas  USA    Men             100m   \n",
              "14    1896   Athens   athletics        athletics   CURTIS, Thomas  USA    Men     110m hurdles   \n",
              "23    1896   Athens   athletics        athletics    BLAKE, Arthur  USA    Men            1500m   \n",
              "28    1896   Athens    shooting         shooting      PAINE, John  USA    Men  25m army pistol   \n",
              "...    ...      ...         ...              ...              ...  ...    ...              ...   \n",
              "1935  2008  Beijing  volleyball       volleyball       TOM, Logan  USA  Women       volleyball   \n",
              "1936  2008  Beijing  volleyball       volleyball  WILLOUGHBY, Kim  USA  Women       volleyball   \n",
              "1988  2008  Beijing   wrestling  wrestling free.    CEJUDO, Henry  USA    Men           - 55kg   \n",
              "1998  2008  Beijing   wrestling  wrestling free.    MILLER, Randi  USA  Women        55 - 63kg   \n",
              "2046  2008  Beijing   wrestling  wrestling gre-r    WHEELER, Adam  USA    Men        84 - 96kg   \n",
              "\n",
              "     Event Gender   Medal  \n",
              "2               M  Bronze  \n",
              "4               M    Gold  \n",
              "14              M    Gold  \n",
              "23              M  Silver  \n",
              "28              M    Gold  \n",
              "...           ...     ...  \n",
              "1935            W  Silver  \n",
              "1936            W  Silver  \n",
              "1988            M    Gold  \n",
              "1998            W  Bronze  \n",
              "2046            M  Bronze  \n",
              "\n",
              "[4335 rows x 10 columns]"
            ],
            "text/html": [
              "\n",
              "  <div id=\"df-96fd7967-496b-45c9-adfd-b6ed517b5b12\" class=\"colab-df-container\">\n",
              "    <div>\n",
              "<style scoped>\n",
              "    .dataframe tbody tr th:only-of-type {\n",
              "        vertical-align: middle;\n",
              "    }\n",
              "\n",
              "    .dataframe tbody tr th {\n",
              "        vertical-align: top;\n",
              "    }\n",
              "\n",
              "    .dataframe thead th {\n",
              "        text-align: right;\n",
              "    }\n",
              "</style>\n",
              "<table border=\"1\" class=\"dataframe\">\n",
              "  <thead>\n",
              "    <tr style=\"text-align: right;\">\n",
              "      <th></th>\n",
              "      <th>Year</th>\n",
              "      <th>City</th>\n",
              "      <th>Sport</th>\n",
              "      <th>Discipline</th>\n",
              "      <th>Athlete Name</th>\n",
              "      <th>NOC</th>\n",
              "      <th>Gender</th>\n",
              "      <th>Event</th>\n",
              "      <th>Event Gender</th>\n",
              "      <th>Medal</th>\n",
              "    </tr>\n",
              "  </thead>\n",
              "  <tbody>\n",
              "    <tr>\n",
              "      <th>2</th>\n",
              "      <td>1896</td>\n",
              "      <td>Athens</td>\n",
              "      <td>athletics</td>\n",
              "      <td>athletics</td>\n",
              "      <td>LANE, Francis</td>\n",
              "      <td>USA</td>\n",
              "      <td>Men</td>\n",
              "      <td>100m</td>\n",
              "      <td>M</td>\n",
              "      <td>Bronze</td>\n",
              "    </tr>\n",
              "    <tr>\n",
              "      <th>4</th>\n",
              "      <td>1896</td>\n",
              "      <td>Athens</td>\n",
              "      <td>athletics</td>\n",
              "      <td>athletics</td>\n",
              "      <td>BURKE, Thomas</td>\n",
              "      <td>USA</td>\n",
              "      <td>Men</td>\n",
              "      <td>100m</td>\n",
              "      <td>M</td>\n",
              "      <td>Gold</td>\n",
              "    </tr>\n",
              "    <tr>\n",
              "      <th>14</th>\n",
              "      <td>1896</td>\n",
              "      <td>Athens</td>\n",
              "      <td>athletics</td>\n",
              "      <td>athletics</td>\n",
              "      <td>CURTIS, Thomas</td>\n",
              "      <td>USA</td>\n",
              "      <td>Men</td>\n",
              "      <td>110m hurdles</td>\n",
              "      <td>M</td>\n",
              "      <td>Gold</td>\n",
              "    </tr>\n",
              "    <tr>\n",
              "      <th>23</th>\n",
              "      <td>1896</td>\n",
              "      <td>Athens</td>\n",
              "      <td>athletics</td>\n",
              "      <td>athletics</td>\n",
              "      <td>BLAKE, Arthur</td>\n",
              "      <td>USA</td>\n",
              "      <td>Men</td>\n",
              "      <td>1500m</td>\n",
              "      <td>M</td>\n",
              "      <td>Silver</td>\n",
              "    </tr>\n",
              "    <tr>\n",
              "      <th>28</th>\n",
              "      <td>1896</td>\n",
              "      <td>Athens</td>\n",
              "      <td>shooting</td>\n",
              "      <td>shooting</td>\n",
              "      <td>PAINE, John</td>\n",
              "      <td>USA</td>\n",
              "      <td>Men</td>\n",
              "      <td>25m army pistol</td>\n",
              "      <td>M</td>\n",
              "      <td>Gold</td>\n",
              "    </tr>\n",
              "    <tr>\n",
              "      <th>...</th>\n",
              "      <td>...</td>\n",
              "      <td>...</td>\n",
              "      <td>...</td>\n",
              "      <td>...</td>\n",
              "      <td>...</td>\n",
              "      <td>...</td>\n",
              "      <td>...</td>\n",
              "      <td>...</td>\n",
              "      <td>...</td>\n",
              "      <td>...</td>\n",
              "    </tr>\n",
              "    <tr>\n",
              "      <th>1935</th>\n",
              "      <td>2008</td>\n",
              "      <td>Beijing</td>\n",
              "      <td>volleyball</td>\n",
              "      <td>volleyball</td>\n",
              "      <td>TOM, Logan</td>\n",
              "      <td>USA</td>\n",
              "      <td>Women</td>\n",
              "      <td>volleyball</td>\n",
              "      <td>W</td>\n",
              "      <td>Silver</td>\n",
              "    </tr>\n",
              "    <tr>\n",
              "      <th>1936</th>\n",
              "      <td>2008</td>\n",
              "      <td>Beijing</td>\n",
              "      <td>volleyball</td>\n",
              "      <td>volleyball</td>\n",
              "      <td>WILLOUGHBY, Kim</td>\n",
              "      <td>USA</td>\n",
              "      <td>Women</td>\n",
              "      <td>volleyball</td>\n",
              "      <td>W</td>\n",
              "      <td>Silver</td>\n",
              "    </tr>\n",
              "    <tr>\n",
              "      <th>1988</th>\n",
              "      <td>2008</td>\n",
              "      <td>Beijing</td>\n",
              "      <td>wrestling</td>\n",
              "      <td>wrestling free.</td>\n",
              "      <td>CEJUDO, Henry</td>\n",
              "      <td>USA</td>\n",
              "      <td>Men</td>\n",
              "      <td>- 55kg</td>\n",
              "      <td>M</td>\n",
              "      <td>Gold</td>\n",
              "    </tr>\n",
              "    <tr>\n",
              "      <th>1998</th>\n",
              "      <td>2008</td>\n",
              "      <td>Beijing</td>\n",
              "      <td>wrestling</td>\n",
              "      <td>wrestling free.</td>\n",
              "      <td>MILLER, Randi</td>\n",
              "      <td>USA</td>\n",
              "      <td>Women</td>\n",
              "      <td>55 - 63kg</td>\n",
              "      <td>W</td>\n",
              "      <td>Bronze</td>\n",
              "    </tr>\n",
              "    <tr>\n",
              "      <th>2046</th>\n",
              "      <td>2008</td>\n",
              "      <td>Beijing</td>\n",
              "      <td>wrestling</td>\n",
              "      <td>wrestling gre-r</td>\n",
              "      <td>WHEELER, Adam</td>\n",
              "      <td>USA</td>\n",
              "      <td>Men</td>\n",
              "      <td>84 - 96kg</td>\n",
              "      <td>M</td>\n",
              "      <td>Bronze</td>\n",
              "    </tr>\n",
              "  </tbody>\n",
              "</table>\n",
              "<p>4335 rows × 10 columns</p>\n",
              "</div>\n",
              "    <div class=\"colab-df-buttons\">\n",
              "\n",
              "  <div class=\"colab-df-container\">\n",
              "    <button class=\"colab-df-convert\" onclick=\"convertToInteractive('df-96fd7967-496b-45c9-adfd-b6ed517b5b12')\"\n",
              "            title=\"Convert this dataframe to an interactive table.\"\n",
              "            style=\"display:none;\">\n",
              "\n",
              "  <svg xmlns=\"http://www.w3.org/2000/svg\" height=\"24px\" viewBox=\"0 -960 960 960\">\n",
              "    <path d=\"M120-120v-720h720v720H120Zm60-500h600v-160H180v160Zm220 220h160v-160H400v160Zm0 220h160v-160H400v160ZM180-400h160v-160H180v160Zm440 0h160v-160H620v160ZM180-180h160v-160H180v160Zm440 0h160v-160H620v160Z\"/>\n",
              "  </svg>\n",
              "    </button>\n",
              "\n",
              "  <style>\n",
              "    .colab-df-container {\n",
              "      display:flex;\n",
              "      gap: 12px;\n",
              "    }\n",
              "\n",
              "    .colab-df-convert {\n",
              "      background-color: #E8F0FE;\n",
              "      border: none;\n",
              "      border-radius: 50%;\n",
              "      cursor: pointer;\n",
              "      display: none;\n",
              "      fill: #1967D2;\n",
              "      height: 32px;\n",
              "      padding: 0 0 0 0;\n",
              "      width: 32px;\n",
              "    }\n",
              "\n",
              "    .colab-df-convert:hover {\n",
              "      background-color: #E2EBFA;\n",
              "      box-shadow: 0px 1px 2px rgba(60, 64, 67, 0.3), 0px 1px 3px 1px rgba(60, 64, 67, 0.15);\n",
              "      fill: #174EA6;\n",
              "    }\n",
              "\n",
              "    .colab-df-buttons div {\n",
              "      margin-bottom: 4px;\n",
              "    }\n",
              "\n",
              "    [theme=dark] .colab-df-convert {\n",
              "      background-color: #3B4455;\n",
              "      fill: #D2E3FC;\n",
              "    }\n",
              "\n",
              "    [theme=dark] .colab-df-convert:hover {\n",
              "      background-color: #434B5C;\n",
              "      box-shadow: 0px 1px 3px 1px rgba(0, 0, 0, 0.15);\n",
              "      filter: drop-shadow(0px 1px 2px rgba(0, 0, 0, 0.3));\n",
              "      fill: #FFFFFF;\n",
              "    }\n",
              "  </style>\n",
              "\n",
              "    <script>\n",
              "      const buttonEl =\n",
              "        document.querySelector('#df-96fd7967-496b-45c9-adfd-b6ed517b5b12 button.colab-df-convert');\n",
              "      buttonEl.style.display =\n",
              "        google.colab.kernel.accessAllowed ? 'block' : 'none';\n",
              "\n",
              "      async function convertToInteractive(key) {\n",
              "        const element = document.querySelector('#df-96fd7967-496b-45c9-adfd-b6ed517b5b12');\n",
              "        const dataTable =\n",
              "          await google.colab.kernel.invokeFunction('convertToInteractive',\n",
              "                                                    [key], {});\n",
              "        if (!dataTable) return;\n",
              "\n",
              "        const docLinkHtml = 'Like what you see? Visit the ' +\n",
              "          '<a target=\"_blank\" href=https://colab.research.google.com/notebooks/data_table.ipynb>data table notebook</a>'\n",
              "          + ' to learn more about interactive tables.';\n",
              "        element.innerHTML = '';\n",
              "        dataTable['output_type'] = 'display_data';\n",
              "        await google.colab.output.renderOutput(dataTable, element);\n",
              "        const docLink = document.createElement('div');\n",
              "        docLink.innerHTML = docLinkHtml;\n",
              "        element.appendChild(docLink);\n",
              "      }\n",
              "    </script>\n",
              "  </div>\n",
              "\n",
              "\n",
              "<div id=\"df-9cd0edce-686f-4f67-8620-019f97232518\">\n",
              "  <button class=\"colab-df-quickchart\" onclick=\"quickchart('df-9cd0edce-686f-4f67-8620-019f97232518')\"\n",
              "            title=\"Suggest charts\"\n",
              "            style=\"display:none;\">\n",
              "\n",
              "<svg xmlns=\"http://www.w3.org/2000/svg\" height=\"24px\"viewBox=\"0 0 24 24\"\n",
              "     width=\"24px\">\n",
              "    <g>\n",
              "        <path d=\"M19 3H5c-1.1 0-2 .9-2 2v14c0 1.1.9 2 2 2h14c1.1 0 2-.9 2-2V5c0-1.1-.9-2-2-2zM9 17H7v-7h2v7zm4 0h-2V7h2v10zm4 0h-2v-4h2v4z\"/>\n",
              "    </g>\n",
              "</svg>\n",
              "  </button>\n",
              "\n",
              "<style>\n",
              "  .colab-df-quickchart {\n",
              "      --bg-color: #E8F0FE;\n",
              "      --fill-color: #1967D2;\n",
              "      --hover-bg-color: #E2EBFA;\n",
              "      --hover-fill-color: #174EA6;\n",
              "      --disabled-fill-color: #AAA;\n",
              "      --disabled-bg-color: #DDD;\n",
              "  }\n",
              "\n",
              "  [theme=dark] .colab-df-quickchart {\n",
              "      --bg-color: #3B4455;\n",
              "      --fill-color: #D2E3FC;\n",
              "      --hover-bg-color: #434B5C;\n",
              "      --hover-fill-color: #FFFFFF;\n",
              "      --disabled-bg-color: #3B4455;\n",
              "      --disabled-fill-color: #666;\n",
              "  }\n",
              "\n",
              "  .colab-df-quickchart {\n",
              "    background-color: var(--bg-color);\n",
              "    border: none;\n",
              "    border-radius: 50%;\n",
              "    cursor: pointer;\n",
              "    display: none;\n",
              "    fill: var(--fill-color);\n",
              "    height: 32px;\n",
              "    padding: 0;\n",
              "    width: 32px;\n",
              "  }\n",
              "\n",
              "  .colab-df-quickchart:hover {\n",
              "    background-color: var(--hover-bg-color);\n",
              "    box-shadow: 0 1px 2px rgba(60, 64, 67, 0.3), 0 1px 3px 1px rgba(60, 64, 67, 0.15);\n",
              "    fill: var(--button-hover-fill-color);\n",
              "  }\n",
              "\n",
              "  .colab-df-quickchart-complete:disabled,\n",
              "  .colab-df-quickchart-complete:disabled:hover {\n",
              "    background-color: var(--disabled-bg-color);\n",
              "    fill: var(--disabled-fill-color);\n",
              "    box-shadow: none;\n",
              "  }\n",
              "\n",
              "  .colab-df-spinner {\n",
              "    border: 2px solid var(--fill-color);\n",
              "    border-color: transparent;\n",
              "    border-bottom-color: var(--fill-color);\n",
              "    animation:\n",
              "      spin 1s steps(1) infinite;\n",
              "  }\n",
              "\n",
              "  @keyframes spin {\n",
              "    0% {\n",
              "      border-color: transparent;\n",
              "      border-bottom-color: var(--fill-color);\n",
              "      border-left-color: var(--fill-color);\n",
              "    }\n",
              "    20% {\n",
              "      border-color: transparent;\n",
              "      border-left-color: var(--fill-color);\n",
              "      border-top-color: var(--fill-color);\n",
              "    }\n",
              "    30% {\n",
              "      border-color: transparent;\n",
              "      border-left-color: var(--fill-color);\n",
              "      border-top-color: var(--fill-color);\n",
              "      border-right-color: var(--fill-color);\n",
              "    }\n",
              "    40% {\n",
              "      border-color: transparent;\n",
              "      border-right-color: var(--fill-color);\n",
              "      border-top-color: var(--fill-color);\n",
              "    }\n",
              "    60% {\n",
              "      border-color: transparent;\n",
              "      border-right-color: var(--fill-color);\n",
              "    }\n",
              "    80% {\n",
              "      border-color: transparent;\n",
              "      border-right-color: var(--fill-color);\n",
              "      border-bottom-color: var(--fill-color);\n",
              "    }\n",
              "    90% {\n",
              "      border-color: transparent;\n",
              "      border-bottom-color: var(--fill-color);\n",
              "    }\n",
              "  }\n",
              "</style>\n",
              "\n",
              "  <script>\n",
              "    async function quickchart(key) {\n",
              "      const quickchartButtonEl =\n",
              "        document.querySelector('#' + key + ' button');\n",
              "      quickchartButtonEl.disabled = true;  // To prevent multiple clicks.\n",
              "      quickchartButtonEl.classList.add('colab-df-spinner');\n",
              "      try {\n",
              "        const charts = await google.colab.kernel.invokeFunction(\n",
              "            'suggestCharts', [key], {});\n",
              "      } catch (error) {\n",
              "        console.error('Error during call to suggestCharts:', error);\n",
              "      }\n",
              "      quickchartButtonEl.classList.remove('colab-df-spinner');\n",
              "      quickchartButtonEl.classList.add('colab-df-quickchart-complete');\n",
              "    }\n",
              "    (() => {\n",
              "      let quickchartButtonEl =\n",
              "        document.querySelector('#df-9cd0edce-686f-4f67-8620-019f97232518 button');\n",
              "      quickchartButtonEl.style.display =\n",
              "        google.colab.kernel.accessAllowed ? 'block' : 'none';\n",
              "    })();\n",
              "  </script>\n",
              "</div>\n",
              "\n",
              "  <div id=\"id_5e2f0a16-5a5d-48d3-8cd8-3eb2a9aac843\">\n",
              "    <style>\n",
              "      .colab-df-generate {\n",
              "        background-color: #E8F0FE;\n",
              "        border: none;\n",
              "        border-radius: 50%;\n",
              "        cursor: pointer;\n",
              "        display: none;\n",
              "        fill: #1967D2;\n",
              "        height: 32px;\n",
              "        padding: 0 0 0 0;\n",
              "        width: 32px;\n",
              "      }\n",
              "\n",
              "      .colab-df-generate:hover {\n",
              "        background-color: #E2EBFA;\n",
              "        box-shadow: 0px 1px 2px rgba(60, 64, 67, 0.3), 0px 1px 3px 1px rgba(60, 64, 67, 0.15);\n",
              "        fill: #174EA6;\n",
              "      }\n",
              "\n",
              "      [theme=dark] .colab-df-generate {\n",
              "        background-color: #3B4455;\n",
              "        fill: #D2E3FC;\n",
              "      }\n",
              "\n",
              "      [theme=dark] .colab-df-generate:hover {\n",
              "        background-color: #434B5C;\n",
              "        box-shadow: 0px 1px 3px 1px rgba(0, 0, 0, 0.15);\n",
              "        filter: drop-shadow(0px 1px 2px rgba(0, 0, 0, 0.3));\n",
              "        fill: #FFFFFF;\n",
              "      }\n",
              "    </style>\n",
              "    <button class=\"colab-df-generate\" onclick=\"generateWithVariable('usa_olympian')\"\n",
              "            title=\"Generate code using this dataframe.\"\n",
              "            style=\"display:none;\">\n",
              "\n",
              "  <svg xmlns=\"http://www.w3.org/2000/svg\" height=\"24px\"viewBox=\"0 0 24 24\"\n",
              "       width=\"24px\">\n",
              "    <path d=\"M7,19H8.4L18.45,9,17,7.55,7,17.6ZM5,21V16.75L18.45,3.32a2,2,0,0,1,2.83,0l1.4,1.43a1.91,1.91,0,0,1,.58,1.4,1.91,1.91,0,0,1-.58,1.4L9.25,21ZM18.45,9,17,7.55Zm-12,3A5.31,5.31,0,0,0,4.9,8.1,5.31,5.31,0,0,0,1,6.5,5.31,5.31,0,0,0,4.9,4.9,5.31,5.31,0,0,0,6.5,1,5.31,5.31,0,0,0,8.1,4.9,5.31,5.31,0,0,0,12,6.5,5.46,5.46,0,0,0,6.5,12Z\"/>\n",
              "  </svg>\n",
              "    </button>\n",
              "    <script>\n",
              "      (() => {\n",
              "      const buttonEl =\n",
              "        document.querySelector('#id_5e2f0a16-5a5d-48d3-8cd8-3eb2a9aac843 button.colab-df-generate');\n",
              "      buttonEl.style.display =\n",
              "        google.colab.kernel.accessAllowed ? 'block' : 'none';\n",
              "\n",
              "      buttonEl.onclick = () => {\n",
              "        google.colab.notebook.generateWithVariable('usa_olympian');\n",
              "      }\n",
              "      })();\n",
              "    </script>\n",
              "  </div>\n",
              "\n",
              "    </div>\n",
              "  </div>\n"
            ],
            "application/vnd.google.colaboratory.intrinsic+json": {
              "type": "dataframe",
              "variable_name": "usa_olympian",
              "summary": "{\n  \"name\": \"usa_olympian\",\n  \"rows\": 4335,\n  \"fields\": [\n    {\n      \"column\": \"Year\",\n      \"properties\": {\n        \"dtype\": \"number\",\n        \"std\": 35,\n        \"min\": 1896,\n        \"max\": 2008,\n        \"num_unique_values\": 25,\n        \"samples\": [\n          1932,\n          1972,\n          1896\n        ],\n        \"semantic_type\": \"\",\n        \"description\": \"\"\n      }\n    },\n    {\n      \"column\": \"City\",\n      \"properties\": {\n        \"dtype\": \"string\",\n        \"num_unique_values\": 21,\n        \"samples\": [\n          \"Athens\",\n          \"Barcelona\",\n          \"Montreal\"\n        ],\n        \"semantic_type\": \"\",\n        \"description\": \"\"\n      }\n    },\n    {\n      \"column\": \"Sport\",\n      \"properties\": {\n        \"dtype\": \"string\",\n        \"num_unique_values\": 34,\n        \"samples\": [\n          \"roque\",\n          \"equestrian\",\n          \"basketball\"\n        ],\n        \"semantic_type\": \"\",\n        \"description\": \"\"\n      }\n    },\n    {\n      \"column\": \"Discipline\",\n      \"properties\": {\n        \"dtype\": \"string\",\n        \"num_unique_values\": 45,\n        \"samples\": [\n          \"beach volley.\",\n          \"rugby\",\n          \"water polo\"\n        ],\n        \"semantic_type\": \"\",\n        \"description\": \"\"\n      }\n    },\n    {\n      \"column\": \"Athlete Name\",\n      \"properties\": {\n        \"dtype\": \"string\",\n        \"num_unique_values\": 3012,\n        \"samples\": [\n          \"MEYER, Frederick Julius\",\n          \"RICHMOND, Mitchell J.\",\n          \"KRUSHEL, Albert\"\n        ],\n        \"semantic_type\": \"\",\n        \"description\": \"\"\n      }\n    },\n    {\n      \"column\": \"NOC\",\n      \"properties\": {\n        \"dtype\": \"string\",\n        \"num_unique_values\": 1,\n        \"samples\": [\n          \"USA\"\n        ],\n        \"semantic_type\": \"\",\n        \"description\": \"\"\n      }\n    },\n    {\n      \"column\": \"Gender\",\n      \"properties\": {\n        \"dtype\": \"category\",\n        \"num_unique_values\": 2,\n        \"samples\": [\n          \"Women\"\n        ],\n        \"semantic_type\": \"\",\n        \"description\": \"\"\n      }\n    },\n    {\n      \"column\": \"Event\",\n      \"properties\": {\n        \"dtype\": \"string\",\n        \"num_unique_values\": 328,\n        \"samples\": [\n          \"200m individual medley\"\n        ],\n        \"semantic_type\": \"\",\n        \"description\": \"\"\n      }\n    },\n    {\n      \"column\": \"Event Gender\",\n      \"properties\": {\n        \"dtype\": \"category\",\n        \"num_unique_values\": 3,\n        \"samples\": [\n          \"M\"\n        ],\n        \"semantic_type\": \"\",\n        \"description\": \"\"\n      }\n    },\n    {\n      \"column\": \"Medal\",\n      \"properties\": {\n        \"dtype\": \"category\",\n        \"num_unique_values\": 3,\n        \"samples\": [\n          \"Bronze\"\n        ],\n        \"semantic_type\": \"\",\n        \"description\": \"\"\n      }\n    }\n  ]\n}"
            }
          },
          "metadata": {},
          "execution_count": 3
        }
      ]
    },
    {
      "cell_type": "code",
      "source": [
        "usa_olympian.groupby(['Year', 'Athlete Name', 'Medal', 'Sport']).size()"
      ],
      "metadata": {
        "id": "hEh9oP6mDGWG",
        "colab": {
          "base_uri": "https://localhost:8080/"
        },
        "outputId": "7de3a4d2-1d47-4c97-cda5-e6c1fc2b8177"
      },
      "execution_count": 4,
      "outputs": [
        {
          "output_type": "execute_result",
          "data": {
            "text/plain": [
              "Year  Athlete Name   Medal   Sport        \n",
              "1896  ABAS, Stephen  Bronze  aquatics         0\n",
              "                             archery          0\n",
              "                             athletics        0\n",
              "                             baseball         0\n",
              "                             basketball       0\n",
              "                                             ..\n",
              "2008  ZORN, Zachary  Gold    triathlon        0\n",
              "                             tug of war       0\n",
              "                             volleyball       0\n",
              "                             weightlifting    0\n",
              "                             wrestling        0\n",
              "Length: 7680600, dtype: int64"
            ]
          },
          "metadata": {},
          "execution_count": 4
        }
      ]
    },
    {
      "cell_type": "code",
      "source": [
        "(usa_olympian.groupby(['Year', 'Athlete Name', 'Medal', 'Sport'])\n",
        ".size()\n",
        ".unstack('Medal', fill_value=0)\n",
        ")"
      ],
      "metadata": {
        "id": "xUZBqPx6DGSj",
        "colab": {
          "base_uri": "https://localhost:8080/",
          "height": 455
        },
        "outputId": "47b61953-ba63-46f8-cfca-0248e3a5f35a"
      },
      "execution_count": 5,
      "outputs": [
        {
          "output_type": "execute_result",
          "data": {
            "text/plain": [
              "Medal                             Bronze  Silver  Gold\n",
              "Year Athlete Name  Sport                              \n",
              "1896 ABAS, Stephen aquatics            0       0     0\n",
              "                   archery             0       0     0\n",
              "                   athletics           0       0     0\n",
              "                   baseball            0       0     0\n",
              "                   basketball          0       0     0\n",
              "...                                  ...     ...   ...\n",
              "2008 ZORN, Zachary triathlon           0       0     0\n",
              "                   tug of war          0       0     0\n",
              "                   volleyball          0       0     0\n",
              "                   weightlifting       0       0     0\n",
              "                   wrestling           0       0     0\n",
              "\n",
              "[2560200 rows x 3 columns]"
            ],
            "text/html": [
              "\n",
              "  <div id=\"df-c9619f25-3b65-4ad9-8a73-cd714ed191c6\" class=\"colab-df-container\">\n",
              "    <div>\n",
              "<style scoped>\n",
              "    .dataframe tbody tr th:only-of-type {\n",
              "        vertical-align: middle;\n",
              "    }\n",
              "\n",
              "    .dataframe tbody tr th {\n",
              "        vertical-align: top;\n",
              "    }\n",
              "\n",
              "    .dataframe thead th {\n",
              "        text-align: right;\n",
              "    }\n",
              "</style>\n",
              "<table border=\"1\" class=\"dataframe\">\n",
              "  <thead>\n",
              "    <tr style=\"text-align: right;\">\n",
              "      <th></th>\n",
              "      <th></th>\n",
              "      <th>Medal</th>\n",
              "      <th>Bronze</th>\n",
              "      <th>Silver</th>\n",
              "      <th>Gold</th>\n",
              "    </tr>\n",
              "    <tr>\n",
              "      <th>Year</th>\n",
              "      <th>Athlete Name</th>\n",
              "      <th>Sport</th>\n",
              "      <th></th>\n",
              "      <th></th>\n",
              "      <th></th>\n",
              "    </tr>\n",
              "  </thead>\n",
              "  <tbody>\n",
              "    <tr>\n",
              "      <th rowspan=\"5\" valign=\"top\">1896</th>\n",
              "      <th rowspan=\"5\" valign=\"top\">ABAS, Stephen</th>\n",
              "      <th>aquatics</th>\n",
              "      <td>0</td>\n",
              "      <td>0</td>\n",
              "      <td>0</td>\n",
              "    </tr>\n",
              "    <tr>\n",
              "      <th>archery</th>\n",
              "      <td>0</td>\n",
              "      <td>0</td>\n",
              "      <td>0</td>\n",
              "    </tr>\n",
              "    <tr>\n",
              "      <th>athletics</th>\n",
              "      <td>0</td>\n",
              "      <td>0</td>\n",
              "      <td>0</td>\n",
              "    </tr>\n",
              "    <tr>\n",
              "      <th>baseball</th>\n",
              "      <td>0</td>\n",
              "      <td>0</td>\n",
              "      <td>0</td>\n",
              "    </tr>\n",
              "    <tr>\n",
              "      <th>basketball</th>\n",
              "      <td>0</td>\n",
              "      <td>0</td>\n",
              "      <td>0</td>\n",
              "    </tr>\n",
              "    <tr>\n",
              "      <th>...</th>\n",
              "      <th>...</th>\n",
              "      <th>...</th>\n",
              "      <td>...</td>\n",
              "      <td>...</td>\n",
              "      <td>...</td>\n",
              "    </tr>\n",
              "    <tr>\n",
              "      <th rowspan=\"5\" valign=\"top\">2008</th>\n",
              "      <th rowspan=\"5\" valign=\"top\">ZORN, Zachary</th>\n",
              "      <th>triathlon</th>\n",
              "      <td>0</td>\n",
              "      <td>0</td>\n",
              "      <td>0</td>\n",
              "    </tr>\n",
              "    <tr>\n",
              "      <th>tug of war</th>\n",
              "      <td>0</td>\n",
              "      <td>0</td>\n",
              "      <td>0</td>\n",
              "    </tr>\n",
              "    <tr>\n",
              "      <th>volleyball</th>\n",
              "      <td>0</td>\n",
              "      <td>0</td>\n",
              "      <td>0</td>\n",
              "    </tr>\n",
              "    <tr>\n",
              "      <th>weightlifting</th>\n",
              "      <td>0</td>\n",
              "      <td>0</td>\n",
              "      <td>0</td>\n",
              "    </tr>\n",
              "    <tr>\n",
              "      <th>wrestling</th>\n",
              "      <td>0</td>\n",
              "      <td>0</td>\n",
              "      <td>0</td>\n",
              "    </tr>\n",
              "  </tbody>\n",
              "</table>\n",
              "<p>2560200 rows × 3 columns</p>\n",
              "</div>\n",
              "    <div class=\"colab-df-buttons\">\n",
              "\n",
              "  <div class=\"colab-df-container\">\n",
              "    <button class=\"colab-df-convert\" onclick=\"convertToInteractive('df-c9619f25-3b65-4ad9-8a73-cd714ed191c6')\"\n",
              "            title=\"Convert this dataframe to an interactive table.\"\n",
              "            style=\"display:none;\">\n",
              "\n",
              "  <svg xmlns=\"http://www.w3.org/2000/svg\" height=\"24px\" viewBox=\"0 -960 960 960\">\n",
              "    <path d=\"M120-120v-720h720v720H120Zm60-500h600v-160H180v160Zm220 220h160v-160H400v160Zm0 220h160v-160H400v160ZM180-400h160v-160H180v160Zm440 0h160v-160H620v160ZM180-180h160v-160H180v160Zm440 0h160v-160H620v160Z\"/>\n",
              "  </svg>\n",
              "    </button>\n",
              "\n",
              "  <style>\n",
              "    .colab-df-container {\n",
              "      display:flex;\n",
              "      gap: 12px;\n",
              "    }\n",
              "\n",
              "    .colab-df-convert {\n",
              "      background-color: #E8F0FE;\n",
              "      border: none;\n",
              "      border-radius: 50%;\n",
              "      cursor: pointer;\n",
              "      display: none;\n",
              "      fill: #1967D2;\n",
              "      height: 32px;\n",
              "      padding: 0 0 0 0;\n",
              "      width: 32px;\n",
              "    }\n",
              "\n",
              "    .colab-df-convert:hover {\n",
              "      background-color: #E2EBFA;\n",
              "      box-shadow: 0px 1px 2px rgba(60, 64, 67, 0.3), 0px 1px 3px 1px rgba(60, 64, 67, 0.15);\n",
              "      fill: #174EA6;\n",
              "    }\n",
              "\n",
              "    .colab-df-buttons div {\n",
              "      margin-bottom: 4px;\n",
              "    }\n",
              "\n",
              "    [theme=dark] .colab-df-convert {\n",
              "      background-color: #3B4455;\n",
              "      fill: #D2E3FC;\n",
              "    }\n",
              "\n",
              "    [theme=dark] .colab-df-convert:hover {\n",
              "      background-color: #434B5C;\n",
              "      box-shadow: 0px 1px 3px 1px rgba(0, 0, 0, 0.15);\n",
              "      filter: drop-shadow(0px 1px 2px rgba(0, 0, 0, 0.3));\n",
              "      fill: #FFFFFF;\n",
              "    }\n",
              "  </style>\n",
              "\n",
              "    <script>\n",
              "      const buttonEl =\n",
              "        document.querySelector('#df-c9619f25-3b65-4ad9-8a73-cd714ed191c6 button.colab-df-convert');\n",
              "      buttonEl.style.display =\n",
              "        google.colab.kernel.accessAllowed ? 'block' : 'none';\n",
              "\n",
              "      async function convertToInteractive(key) {\n",
              "        const element = document.querySelector('#df-c9619f25-3b65-4ad9-8a73-cd714ed191c6');\n",
              "        const dataTable =\n",
              "          await google.colab.kernel.invokeFunction('convertToInteractive',\n",
              "                                                    [key], {});\n",
              "        if (!dataTable) return;\n",
              "\n",
              "        const docLinkHtml = 'Like what you see? Visit the ' +\n",
              "          '<a target=\"_blank\" href=https://colab.research.google.com/notebooks/data_table.ipynb>data table notebook</a>'\n",
              "          + ' to learn more about interactive tables.';\n",
              "        element.innerHTML = '';\n",
              "        dataTable['output_type'] = 'display_data';\n",
              "        await google.colab.output.renderOutput(dataTable, element);\n",
              "        const docLink = document.createElement('div');\n",
              "        docLink.innerHTML = docLinkHtml;\n",
              "        element.appendChild(docLink);\n",
              "      }\n",
              "    </script>\n",
              "  </div>\n",
              "\n",
              "\n",
              "<div id=\"df-f6d50abd-6b9f-4067-baa3-d0b409a64f05\">\n",
              "  <button class=\"colab-df-quickchart\" onclick=\"quickchart('df-f6d50abd-6b9f-4067-baa3-d0b409a64f05')\"\n",
              "            title=\"Suggest charts\"\n",
              "            style=\"display:none;\">\n",
              "\n",
              "<svg xmlns=\"http://www.w3.org/2000/svg\" height=\"24px\"viewBox=\"0 0 24 24\"\n",
              "     width=\"24px\">\n",
              "    <g>\n",
              "        <path d=\"M19 3H5c-1.1 0-2 .9-2 2v14c0 1.1.9 2 2 2h14c1.1 0 2-.9 2-2V5c0-1.1-.9-2-2-2zM9 17H7v-7h2v7zm4 0h-2V7h2v10zm4 0h-2v-4h2v4z\"/>\n",
              "    </g>\n",
              "</svg>\n",
              "  </button>\n",
              "\n",
              "<style>\n",
              "  .colab-df-quickchart {\n",
              "      --bg-color: #E8F0FE;\n",
              "      --fill-color: #1967D2;\n",
              "      --hover-bg-color: #E2EBFA;\n",
              "      --hover-fill-color: #174EA6;\n",
              "      --disabled-fill-color: #AAA;\n",
              "      --disabled-bg-color: #DDD;\n",
              "  }\n",
              "\n",
              "  [theme=dark] .colab-df-quickchart {\n",
              "      --bg-color: #3B4455;\n",
              "      --fill-color: #D2E3FC;\n",
              "      --hover-bg-color: #434B5C;\n",
              "      --hover-fill-color: #FFFFFF;\n",
              "      --disabled-bg-color: #3B4455;\n",
              "      --disabled-fill-color: #666;\n",
              "  }\n",
              "\n",
              "  .colab-df-quickchart {\n",
              "    background-color: var(--bg-color);\n",
              "    border: none;\n",
              "    border-radius: 50%;\n",
              "    cursor: pointer;\n",
              "    display: none;\n",
              "    fill: var(--fill-color);\n",
              "    height: 32px;\n",
              "    padding: 0;\n",
              "    width: 32px;\n",
              "  }\n",
              "\n",
              "  .colab-df-quickchart:hover {\n",
              "    background-color: var(--hover-bg-color);\n",
              "    box-shadow: 0 1px 2px rgba(60, 64, 67, 0.3), 0 1px 3px 1px rgba(60, 64, 67, 0.15);\n",
              "    fill: var(--button-hover-fill-color);\n",
              "  }\n",
              "\n",
              "  .colab-df-quickchart-complete:disabled,\n",
              "  .colab-df-quickchart-complete:disabled:hover {\n",
              "    background-color: var(--disabled-bg-color);\n",
              "    fill: var(--disabled-fill-color);\n",
              "    box-shadow: none;\n",
              "  }\n",
              "\n",
              "  .colab-df-spinner {\n",
              "    border: 2px solid var(--fill-color);\n",
              "    border-color: transparent;\n",
              "    border-bottom-color: var(--fill-color);\n",
              "    animation:\n",
              "      spin 1s steps(1) infinite;\n",
              "  }\n",
              "\n",
              "  @keyframes spin {\n",
              "    0% {\n",
              "      border-color: transparent;\n",
              "      border-bottom-color: var(--fill-color);\n",
              "      border-left-color: var(--fill-color);\n",
              "    }\n",
              "    20% {\n",
              "      border-color: transparent;\n",
              "      border-left-color: var(--fill-color);\n",
              "      border-top-color: var(--fill-color);\n",
              "    }\n",
              "    30% {\n",
              "      border-color: transparent;\n",
              "      border-left-color: var(--fill-color);\n",
              "      border-top-color: var(--fill-color);\n",
              "      border-right-color: var(--fill-color);\n",
              "    }\n",
              "    40% {\n",
              "      border-color: transparent;\n",
              "      border-right-color: var(--fill-color);\n",
              "      border-top-color: var(--fill-color);\n",
              "    }\n",
              "    60% {\n",
              "      border-color: transparent;\n",
              "      border-right-color: var(--fill-color);\n",
              "    }\n",
              "    80% {\n",
              "      border-color: transparent;\n",
              "      border-right-color: var(--fill-color);\n",
              "      border-bottom-color: var(--fill-color);\n",
              "    }\n",
              "    90% {\n",
              "      border-color: transparent;\n",
              "      border-bottom-color: var(--fill-color);\n",
              "    }\n",
              "  }\n",
              "</style>\n",
              "\n",
              "  <script>\n",
              "    async function quickchart(key) {\n",
              "      const quickchartButtonEl =\n",
              "        document.querySelector('#' + key + ' button');\n",
              "      quickchartButtonEl.disabled = true;  // To prevent multiple clicks.\n",
              "      quickchartButtonEl.classList.add('colab-df-spinner');\n",
              "      try {\n",
              "        const charts = await google.colab.kernel.invokeFunction(\n",
              "            'suggestCharts', [key], {});\n",
              "      } catch (error) {\n",
              "        console.error('Error during call to suggestCharts:', error);\n",
              "      }\n",
              "      quickchartButtonEl.classList.remove('colab-df-spinner');\n",
              "      quickchartButtonEl.classList.add('colab-df-quickchart-complete');\n",
              "    }\n",
              "    (() => {\n",
              "      let quickchartButtonEl =\n",
              "        document.querySelector('#df-f6d50abd-6b9f-4067-baa3-d0b409a64f05 button');\n",
              "      quickchartButtonEl.style.display =\n",
              "        google.colab.kernel.accessAllowed ? 'block' : 'none';\n",
              "    })();\n",
              "  </script>\n",
              "</div>\n",
              "\n",
              "    </div>\n",
              "  </div>\n"
            ],
            "application/vnd.google.colaboratory.intrinsic+json": {
              "type": "dataframe"
            }
          },
          "metadata": {},
          "execution_count": 5
        }
      ]
    },
    {
      "cell_type": "code",
      "source": [
        "table = (usa_olympian.groupby(['Year', 'Athlete Name', 'Sport', 'Medal'])\n",
        ".size()\n",
        ".unstack('Medal', fill_value=0)\n",
        ")\n",
        "table"
      ],
      "metadata": {
        "id": "GxD7zqJ0DGO-",
        "colab": {
          "base_uri": "https://localhost:8080/",
          "height": 455
        },
        "outputId": "6eb3d1b0-2e58-4db3-b63b-62542aeebd32"
      },
      "execution_count": 6,
      "outputs": [
        {
          "output_type": "execute_result",
          "data": {
            "text/plain": [
              "Medal                             Bronze  Silver  Gold\n",
              "Year Athlete Name  Sport                              \n",
              "1896 ABAS, Stephen aquatics            0       0     0\n",
              "                   archery             0       0     0\n",
              "                   athletics           0       0     0\n",
              "                   baseball            0       0     0\n",
              "                   basketball          0       0     0\n",
              "...                                  ...     ...   ...\n",
              "2008 ZORN, Zachary triathlon           0       0     0\n",
              "                   tug of war          0       0     0\n",
              "                   volleyball          0       0     0\n",
              "                   weightlifting       0       0     0\n",
              "                   wrestling           0       0     0\n",
              "\n",
              "[2560200 rows x 3 columns]"
            ],
            "text/html": [
              "\n",
              "  <div id=\"df-b1f9ba71-d3e0-48de-bcdc-5161f45887d7\" class=\"colab-df-container\">\n",
              "    <div>\n",
              "<style scoped>\n",
              "    .dataframe tbody tr th:only-of-type {\n",
              "        vertical-align: middle;\n",
              "    }\n",
              "\n",
              "    .dataframe tbody tr th {\n",
              "        vertical-align: top;\n",
              "    }\n",
              "\n",
              "    .dataframe thead th {\n",
              "        text-align: right;\n",
              "    }\n",
              "</style>\n",
              "<table border=\"1\" class=\"dataframe\">\n",
              "  <thead>\n",
              "    <tr style=\"text-align: right;\">\n",
              "      <th></th>\n",
              "      <th></th>\n",
              "      <th>Medal</th>\n",
              "      <th>Bronze</th>\n",
              "      <th>Silver</th>\n",
              "      <th>Gold</th>\n",
              "    </tr>\n",
              "    <tr>\n",
              "      <th>Year</th>\n",
              "      <th>Athlete Name</th>\n",
              "      <th>Sport</th>\n",
              "      <th></th>\n",
              "      <th></th>\n",
              "      <th></th>\n",
              "    </tr>\n",
              "  </thead>\n",
              "  <tbody>\n",
              "    <tr>\n",
              "      <th rowspan=\"5\" valign=\"top\">1896</th>\n",
              "      <th rowspan=\"5\" valign=\"top\">ABAS, Stephen</th>\n",
              "      <th>aquatics</th>\n",
              "      <td>0</td>\n",
              "      <td>0</td>\n",
              "      <td>0</td>\n",
              "    </tr>\n",
              "    <tr>\n",
              "      <th>archery</th>\n",
              "      <td>0</td>\n",
              "      <td>0</td>\n",
              "      <td>0</td>\n",
              "    </tr>\n",
              "    <tr>\n",
              "      <th>athletics</th>\n",
              "      <td>0</td>\n",
              "      <td>0</td>\n",
              "      <td>0</td>\n",
              "    </tr>\n",
              "    <tr>\n",
              "      <th>baseball</th>\n",
              "      <td>0</td>\n",
              "      <td>0</td>\n",
              "      <td>0</td>\n",
              "    </tr>\n",
              "    <tr>\n",
              "      <th>basketball</th>\n",
              "      <td>0</td>\n",
              "      <td>0</td>\n",
              "      <td>0</td>\n",
              "    </tr>\n",
              "    <tr>\n",
              "      <th>...</th>\n",
              "      <th>...</th>\n",
              "      <th>...</th>\n",
              "      <td>...</td>\n",
              "      <td>...</td>\n",
              "      <td>...</td>\n",
              "    </tr>\n",
              "    <tr>\n",
              "      <th rowspan=\"5\" valign=\"top\">2008</th>\n",
              "      <th rowspan=\"5\" valign=\"top\">ZORN, Zachary</th>\n",
              "      <th>triathlon</th>\n",
              "      <td>0</td>\n",
              "      <td>0</td>\n",
              "      <td>0</td>\n",
              "    </tr>\n",
              "    <tr>\n",
              "      <th>tug of war</th>\n",
              "      <td>0</td>\n",
              "      <td>0</td>\n",
              "      <td>0</td>\n",
              "    </tr>\n",
              "    <tr>\n",
              "      <th>volleyball</th>\n",
              "      <td>0</td>\n",
              "      <td>0</td>\n",
              "      <td>0</td>\n",
              "    </tr>\n",
              "    <tr>\n",
              "      <th>weightlifting</th>\n",
              "      <td>0</td>\n",
              "      <td>0</td>\n",
              "      <td>0</td>\n",
              "    </tr>\n",
              "    <tr>\n",
              "      <th>wrestling</th>\n",
              "      <td>0</td>\n",
              "      <td>0</td>\n",
              "      <td>0</td>\n",
              "    </tr>\n",
              "  </tbody>\n",
              "</table>\n",
              "<p>2560200 rows × 3 columns</p>\n",
              "</div>\n",
              "    <div class=\"colab-df-buttons\">\n",
              "\n",
              "  <div class=\"colab-df-container\">\n",
              "    <button class=\"colab-df-convert\" onclick=\"convertToInteractive('df-b1f9ba71-d3e0-48de-bcdc-5161f45887d7')\"\n",
              "            title=\"Convert this dataframe to an interactive table.\"\n",
              "            style=\"display:none;\">\n",
              "\n",
              "  <svg xmlns=\"http://www.w3.org/2000/svg\" height=\"24px\" viewBox=\"0 -960 960 960\">\n",
              "    <path d=\"M120-120v-720h720v720H120Zm60-500h600v-160H180v160Zm220 220h160v-160H400v160Zm0 220h160v-160H400v160ZM180-400h160v-160H180v160Zm440 0h160v-160H620v160ZM180-180h160v-160H180v160Zm440 0h160v-160H620v160Z\"/>\n",
              "  </svg>\n",
              "    </button>\n",
              "\n",
              "  <style>\n",
              "    .colab-df-container {\n",
              "      display:flex;\n",
              "      gap: 12px;\n",
              "    }\n",
              "\n",
              "    .colab-df-convert {\n",
              "      background-color: #E8F0FE;\n",
              "      border: none;\n",
              "      border-radius: 50%;\n",
              "      cursor: pointer;\n",
              "      display: none;\n",
              "      fill: #1967D2;\n",
              "      height: 32px;\n",
              "      padding: 0 0 0 0;\n",
              "      width: 32px;\n",
              "    }\n",
              "\n",
              "    .colab-df-convert:hover {\n",
              "      background-color: #E2EBFA;\n",
              "      box-shadow: 0px 1px 2px rgba(60, 64, 67, 0.3), 0px 1px 3px 1px rgba(60, 64, 67, 0.15);\n",
              "      fill: #174EA6;\n",
              "    }\n",
              "\n",
              "    .colab-df-buttons div {\n",
              "      margin-bottom: 4px;\n",
              "    }\n",
              "\n",
              "    [theme=dark] .colab-df-convert {\n",
              "      background-color: #3B4455;\n",
              "      fill: #D2E3FC;\n",
              "    }\n",
              "\n",
              "    [theme=dark] .colab-df-convert:hover {\n",
              "      background-color: #434B5C;\n",
              "      box-shadow: 0px 1px 3px 1px rgba(0, 0, 0, 0.15);\n",
              "      filter: drop-shadow(0px 1px 2px rgba(0, 0, 0, 0.3));\n",
              "      fill: #FFFFFF;\n",
              "    }\n",
              "  </style>\n",
              "\n",
              "    <script>\n",
              "      const buttonEl =\n",
              "        document.querySelector('#df-b1f9ba71-d3e0-48de-bcdc-5161f45887d7 button.colab-df-convert');\n",
              "      buttonEl.style.display =\n",
              "        google.colab.kernel.accessAllowed ? 'block' : 'none';\n",
              "\n",
              "      async function convertToInteractive(key) {\n",
              "        const element = document.querySelector('#df-b1f9ba71-d3e0-48de-bcdc-5161f45887d7');\n",
              "        const dataTable =\n",
              "          await google.colab.kernel.invokeFunction('convertToInteractive',\n",
              "                                                    [key], {});\n",
              "        if (!dataTable) return;\n",
              "\n",
              "        const docLinkHtml = 'Like what you see? Visit the ' +\n",
              "          '<a target=\"_blank\" href=https://colab.research.google.com/notebooks/data_table.ipynb>data table notebook</a>'\n",
              "          + ' to learn more about interactive tables.';\n",
              "        element.innerHTML = '';\n",
              "        dataTable['output_type'] = 'display_data';\n",
              "        await google.colab.output.renderOutput(dataTable, element);\n",
              "        const docLink = document.createElement('div');\n",
              "        docLink.innerHTML = docLinkHtml;\n",
              "        element.appendChild(docLink);\n",
              "      }\n",
              "    </script>\n",
              "  </div>\n",
              "\n",
              "\n",
              "<div id=\"df-2e90a927-fc8f-41d1-a201-10105929bea3\">\n",
              "  <button class=\"colab-df-quickchart\" onclick=\"quickchart('df-2e90a927-fc8f-41d1-a201-10105929bea3')\"\n",
              "            title=\"Suggest charts\"\n",
              "            style=\"display:none;\">\n",
              "\n",
              "<svg xmlns=\"http://www.w3.org/2000/svg\" height=\"24px\"viewBox=\"0 0 24 24\"\n",
              "     width=\"24px\">\n",
              "    <g>\n",
              "        <path d=\"M19 3H5c-1.1 0-2 .9-2 2v14c0 1.1.9 2 2 2h14c1.1 0 2-.9 2-2V5c0-1.1-.9-2-2-2zM9 17H7v-7h2v7zm4 0h-2V7h2v10zm4 0h-2v-4h2v4z\"/>\n",
              "    </g>\n",
              "</svg>\n",
              "  </button>\n",
              "\n",
              "<style>\n",
              "  .colab-df-quickchart {\n",
              "      --bg-color: #E8F0FE;\n",
              "      --fill-color: #1967D2;\n",
              "      --hover-bg-color: #E2EBFA;\n",
              "      --hover-fill-color: #174EA6;\n",
              "      --disabled-fill-color: #AAA;\n",
              "      --disabled-bg-color: #DDD;\n",
              "  }\n",
              "\n",
              "  [theme=dark] .colab-df-quickchart {\n",
              "      --bg-color: #3B4455;\n",
              "      --fill-color: #D2E3FC;\n",
              "      --hover-bg-color: #434B5C;\n",
              "      --hover-fill-color: #FFFFFF;\n",
              "      --disabled-bg-color: #3B4455;\n",
              "      --disabled-fill-color: #666;\n",
              "  }\n",
              "\n",
              "  .colab-df-quickchart {\n",
              "    background-color: var(--bg-color);\n",
              "    border: none;\n",
              "    border-radius: 50%;\n",
              "    cursor: pointer;\n",
              "    display: none;\n",
              "    fill: var(--fill-color);\n",
              "    height: 32px;\n",
              "    padding: 0;\n",
              "    width: 32px;\n",
              "  }\n",
              "\n",
              "  .colab-df-quickchart:hover {\n",
              "    background-color: var(--hover-bg-color);\n",
              "    box-shadow: 0 1px 2px rgba(60, 64, 67, 0.3), 0 1px 3px 1px rgba(60, 64, 67, 0.15);\n",
              "    fill: var(--button-hover-fill-color);\n",
              "  }\n",
              "\n",
              "  .colab-df-quickchart-complete:disabled,\n",
              "  .colab-df-quickchart-complete:disabled:hover {\n",
              "    background-color: var(--disabled-bg-color);\n",
              "    fill: var(--disabled-fill-color);\n",
              "    box-shadow: none;\n",
              "  }\n",
              "\n",
              "  .colab-df-spinner {\n",
              "    border: 2px solid var(--fill-color);\n",
              "    border-color: transparent;\n",
              "    border-bottom-color: var(--fill-color);\n",
              "    animation:\n",
              "      spin 1s steps(1) infinite;\n",
              "  }\n",
              "\n",
              "  @keyframes spin {\n",
              "    0% {\n",
              "      border-color: transparent;\n",
              "      border-bottom-color: var(--fill-color);\n",
              "      border-left-color: var(--fill-color);\n",
              "    }\n",
              "    20% {\n",
              "      border-color: transparent;\n",
              "      border-left-color: var(--fill-color);\n",
              "      border-top-color: var(--fill-color);\n",
              "    }\n",
              "    30% {\n",
              "      border-color: transparent;\n",
              "      border-left-color: var(--fill-color);\n",
              "      border-top-color: var(--fill-color);\n",
              "      border-right-color: var(--fill-color);\n",
              "    }\n",
              "    40% {\n",
              "      border-color: transparent;\n",
              "      border-right-color: var(--fill-color);\n",
              "      border-top-color: var(--fill-color);\n",
              "    }\n",
              "    60% {\n",
              "      border-color: transparent;\n",
              "      border-right-color: var(--fill-color);\n",
              "    }\n",
              "    80% {\n",
              "      border-color: transparent;\n",
              "      border-right-color: var(--fill-color);\n",
              "      border-bottom-color: var(--fill-color);\n",
              "    }\n",
              "    90% {\n",
              "      border-color: transparent;\n",
              "      border-bottom-color: var(--fill-color);\n",
              "    }\n",
              "  }\n",
              "</style>\n",
              "\n",
              "  <script>\n",
              "    async function quickchart(key) {\n",
              "      const quickchartButtonEl =\n",
              "        document.querySelector('#' + key + ' button');\n",
              "      quickchartButtonEl.disabled = true;  // To prevent multiple clicks.\n",
              "      quickchartButtonEl.classList.add('colab-df-spinner');\n",
              "      try {\n",
              "        const charts = await google.colab.kernel.invokeFunction(\n",
              "            'suggestCharts', [key], {});\n",
              "      } catch (error) {\n",
              "        console.error('Error during call to suggestCharts:', error);\n",
              "      }\n",
              "      quickchartButtonEl.classList.remove('colab-df-spinner');\n",
              "      quickchartButtonEl.classList.add('colab-df-quickchart-complete');\n",
              "    }\n",
              "    (() => {\n",
              "      let quickchartButtonEl =\n",
              "        document.querySelector('#df-2e90a927-fc8f-41d1-a201-10105929bea3 button');\n",
              "      quickchartButtonEl.style.display =\n",
              "        google.colab.kernel.accessAllowed ? 'block' : 'none';\n",
              "    })();\n",
              "  </script>\n",
              "</div>\n",
              "\n",
              "  <div id=\"id_67ea1167-fa23-4db0-b35e-d113d4ba941a\">\n",
              "    <style>\n",
              "      .colab-df-generate {\n",
              "        background-color: #E8F0FE;\n",
              "        border: none;\n",
              "        border-radius: 50%;\n",
              "        cursor: pointer;\n",
              "        display: none;\n",
              "        fill: #1967D2;\n",
              "        height: 32px;\n",
              "        padding: 0 0 0 0;\n",
              "        width: 32px;\n",
              "      }\n",
              "\n",
              "      .colab-df-generate:hover {\n",
              "        background-color: #E2EBFA;\n",
              "        box-shadow: 0px 1px 2px rgba(60, 64, 67, 0.3), 0px 1px 3px 1px rgba(60, 64, 67, 0.15);\n",
              "        fill: #174EA6;\n",
              "      }\n",
              "\n",
              "      [theme=dark] .colab-df-generate {\n",
              "        background-color: #3B4455;\n",
              "        fill: #D2E3FC;\n",
              "      }\n",
              "\n",
              "      [theme=dark] .colab-df-generate:hover {\n",
              "        background-color: #434B5C;\n",
              "        box-shadow: 0px 1px 3px 1px rgba(0, 0, 0, 0.15);\n",
              "        filter: drop-shadow(0px 1px 2px rgba(0, 0, 0, 0.3));\n",
              "        fill: #FFFFFF;\n",
              "      }\n",
              "    </style>\n",
              "    <button class=\"colab-df-generate\" onclick=\"generateWithVariable('table')\"\n",
              "            title=\"Generate code using this dataframe.\"\n",
              "            style=\"display:none;\">\n",
              "\n",
              "  <svg xmlns=\"http://www.w3.org/2000/svg\" height=\"24px\"viewBox=\"0 0 24 24\"\n",
              "       width=\"24px\">\n",
              "    <path d=\"M7,19H8.4L18.45,9,17,7.55,7,17.6ZM5,21V16.75L18.45,3.32a2,2,0,0,1,2.83,0l1.4,1.43a1.91,1.91,0,0,1,.58,1.4,1.91,1.91,0,0,1-.58,1.4L9.25,21ZM18.45,9,17,7.55Zm-12,3A5.31,5.31,0,0,0,4.9,8.1,5.31,5.31,0,0,0,1,6.5,5.31,5.31,0,0,0,4.9,4.9,5.31,5.31,0,0,0,6.5,1,5.31,5.31,0,0,0,8.1,4.9,5.31,5.31,0,0,0,12,6.5,5.46,5.46,0,0,0,6.5,12Z\"/>\n",
              "  </svg>\n",
              "    </button>\n",
              "    <script>\n",
              "      (() => {\n",
              "      const buttonEl =\n",
              "        document.querySelector('#id_67ea1167-fa23-4db0-b35e-d113d4ba941a button.colab-df-generate');\n",
              "      buttonEl.style.display =\n",
              "        google.colab.kernel.accessAllowed ? 'block' : 'none';\n",
              "\n",
              "      buttonEl.onclick = () => {\n",
              "        google.colab.notebook.generateWithVariable('table');\n",
              "      }\n",
              "      })();\n",
              "    </script>\n",
              "  </div>\n",
              "\n",
              "    </div>\n",
              "  </div>\n"
            ],
            "application/vnd.google.colaboratory.intrinsic+json": {
              "type": "dataframe",
              "variable_name": "table"
            }
          },
          "metadata": {},
          "execution_count": 6
        }
      ]
    },
    {
      "cell_type": "code",
      "source": [
        "table = (usa_olympian.groupby(['Year', 'Athlete Name', 'Sport', 'Medal'])\n",
        ".size()\n",
        ".unstack('Medal', fill_value=0)\n",
        ".assign(Total=table['Gold']+table['Silver']+table['Bronze'])\n",
        ")\n",
        "table"
      ],
      "metadata": {
        "id": "QvazfNN4fYC4",
        "colab": {
          "base_uri": "https://localhost:8080/",
          "height": 455
        },
        "outputId": "a67937cd-117f-4c19-848f-0e19630b392b"
      },
      "execution_count": 7,
      "outputs": [
        {
          "output_type": "execute_result",
          "data": {
            "text/plain": [
              "Medal                             Bronze  Silver  Gold  Total\n",
              "Year Athlete Name  Sport                                     \n",
              "1896 ABAS, Stephen aquatics            0       0     0      0\n",
              "                   archery             0       0     0      0\n",
              "                   athletics           0       0     0      0\n",
              "                   baseball            0       0     0      0\n",
              "                   basketball          0       0     0      0\n",
              "...                                  ...     ...   ...    ...\n",
              "2008 ZORN, Zachary triathlon           0       0     0      0\n",
              "                   tug of war          0       0     0      0\n",
              "                   volleyball          0       0     0      0\n",
              "                   weightlifting       0       0     0      0\n",
              "                   wrestling           0       0     0      0\n",
              "\n",
              "[2560200 rows x 4 columns]"
            ],
            "text/html": [
              "\n",
              "  <div id=\"df-fdf35502-8886-49b9-988e-37458b1ee394\" class=\"colab-df-container\">\n",
              "    <div>\n",
              "<style scoped>\n",
              "    .dataframe tbody tr th:only-of-type {\n",
              "        vertical-align: middle;\n",
              "    }\n",
              "\n",
              "    .dataframe tbody tr th {\n",
              "        vertical-align: top;\n",
              "    }\n",
              "\n",
              "    .dataframe thead th {\n",
              "        text-align: right;\n",
              "    }\n",
              "</style>\n",
              "<table border=\"1\" class=\"dataframe\">\n",
              "  <thead>\n",
              "    <tr style=\"text-align: right;\">\n",
              "      <th></th>\n",
              "      <th></th>\n",
              "      <th>Medal</th>\n",
              "      <th>Bronze</th>\n",
              "      <th>Silver</th>\n",
              "      <th>Gold</th>\n",
              "      <th>Total</th>\n",
              "    </tr>\n",
              "    <tr>\n",
              "      <th>Year</th>\n",
              "      <th>Athlete Name</th>\n",
              "      <th>Sport</th>\n",
              "      <th></th>\n",
              "      <th></th>\n",
              "      <th></th>\n",
              "      <th></th>\n",
              "    </tr>\n",
              "  </thead>\n",
              "  <tbody>\n",
              "    <tr>\n",
              "      <th rowspan=\"5\" valign=\"top\">1896</th>\n",
              "      <th rowspan=\"5\" valign=\"top\">ABAS, Stephen</th>\n",
              "      <th>aquatics</th>\n",
              "      <td>0</td>\n",
              "      <td>0</td>\n",
              "      <td>0</td>\n",
              "      <td>0</td>\n",
              "    </tr>\n",
              "    <tr>\n",
              "      <th>archery</th>\n",
              "      <td>0</td>\n",
              "      <td>0</td>\n",
              "      <td>0</td>\n",
              "      <td>0</td>\n",
              "    </tr>\n",
              "    <tr>\n",
              "      <th>athletics</th>\n",
              "      <td>0</td>\n",
              "      <td>0</td>\n",
              "      <td>0</td>\n",
              "      <td>0</td>\n",
              "    </tr>\n",
              "    <tr>\n",
              "      <th>baseball</th>\n",
              "      <td>0</td>\n",
              "      <td>0</td>\n",
              "      <td>0</td>\n",
              "      <td>0</td>\n",
              "    </tr>\n",
              "    <tr>\n",
              "      <th>basketball</th>\n",
              "      <td>0</td>\n",
              "      <td>0</td>\n",
              "      <td>0</td>\n",
              "      <td>0</td>\n",
              "    </tr>\n",
              "    <tr>\n",
              "      <th>...</th>\n",
              "      <th>...</th>\n",
              "      <th>...</th>\n",
              "      <td>...</td>\n",
              "      <td>...</td>\n",
              "      <td>...</td>\n",
              "      <td>...</td>\n",
              "    </tr>\n",
              "    <tr>\n",
              "      <th rowspan=\"5\" valign=\"top\">2008</th>\n",
              "      <th rowspan=\"5\" valign=\"top\">ZORN, Zachary</th>\n",
              "      <th>triathlon</th>\n",
              "      <td>0</td>\n",
              "      <td>0</td>\n",
              "      <td>0</td>\n",
              "      <td>0</td>\n",
              "    </tr>\n",
              "    <tr>\n",
              "      <th>tug of war</th>\n",
              "      <td>0</td>\n",
              "      <td>0</td>\n",
              "      <td>0</td>\n",
              "      <td>0</td>\n",
              "    </tr>\n",
              "    <tr>\n",
              "      <th>volleyball</th>\n",
              "      <td>0</td>\n",
              "      <td>0</td>\n",
              "      <td>0</td>\n",
              "      <td>0</td>\n",
              "    </tr>\n",
              "    <tr>\n",
              "      <th>weightlifting</th>\n",
              "      <td>0</td>\n",
              "      <td>0</td>\n",
              "      <td>0</td>\n",
              "      <td>0</td>\n",
              "    </tr>\n",
              "    <tr>\n",
              "      <th>wrestling</th>\n",
              "      <td>0</td>\n",
              "      <td>0</td>\n",
              "      <td>0</td>\n",
              "      <td>0</td>\n",
              "    </tr>\n",
              "  </tbody>\n",
              "</table>\n",
              "<p>2560200 rows × 4 columns</p>\n",
              "</div>\n",
              "    <div class=\"colab-df-buttons\">\n",
              "\n",
              "  <div class=\"colab-df-container\">\n",
              "    <button class=\"colab-df-convert\" onclick=\"convertToInteractive('df-fdf35502-8886-49b9-988e-37458b1ee394')\"\n",
              "            title=\"Convert this dataframe to an interactive table.\"\n",
              "            style=\"display:none;\">\n",
              "\n",
              "  <svg xmlns=\"http://www.w3.org/2000/svg\" height=\"24px\" viewBox=\"0 -960 960 960\">\n",
              "    <path d=\"M120-120v-720h720v720H120Zm60-500h600v-160H180v160Zm220 220h160v-160H400v160Zm0 220h160v-160H400v160ZM180-400h160v-160H180v160Zm440 0h160v-160H620v160ZM180-180h160v-160H180v160Zm440 0h160v-160H620v160Z\"/>\n",
              "  </svg>\n",
              "    </button>\n",
              "\n",
              "  <style>\n",
              "    .colab-df-container {\n",
              "      display:flex;\n",
              "      gap: 12px;\n",
              "    }\n",
              "\n",
              "    .colab-df-convert {\n",
              "      background-color: #E8F0FE;\n",
              "      border: none;\n",
              "      border-radius: 50%;\n",
              "      cursor: pointer;\n",
              "      display: none;\n",
              "      fill: #1967D2;\n",
              "      height: 32px;\n",
              "      padding: 0 0 0 0;\n",
              "      width: 32px;\n",
              "    }\n",
              "\n",
              "    .colab-df-convert:hover {\n",
              "      background-color: #E2EBFA;\n",
              "      box-shadow: 0px 1px 2px rgba(60, 64, 67, 0.3), 0px 1px 3px 1px rgba(60, 64, 67, 0.15);\n",
              "      fill: #174EA6;\n",
              "    }\n",
              "\n",
              "    .colab-df-buttons div {\n",
              "      margin-bottom: 4px;\n",
              "    }\n",
              "\n",
              "    [theme=dark] .colab-df-convert {\n",
              "      background-color: #3B4455;\n",
              "      fill: #D2E3FC;\n",
              "    }\n",
              "\n",
              "    [theme=dark] .colab-df-convert:hover {\n",
              "      background-color: #434B5C;\n",
              "      box-shadow: 0px 1px 3px 1px rgba(0, 0, 0, 0.15);\n",
              "      filter: drop-shadow(0px 1px 2px rgba(0, 0, 0, 0.3));\n",
              "      fill: #FFFFFF;\n",
              "    }\n",
              "  </style>\n",
              "\n",
              "    <script>\n",
              "      const buttonEl =\n",
              "        document.querySelector('#df-fdf35502-8886-49b9-988e-37458b1ee394 button.colab-df-convert');\n",
              "      buttonEl.style.display =\n",
              "        google.colab.kernel.accessAllowed ? 'block' : 'none';\n",
              "\n",
              "      async function convertToInteractive(key) {\n",
              "        const element = document.querySelector('#df-fdf35502-8886-49b9-988e-37458b1ee394');\n",
              "        const dataTable =\n",
              "          await google.colab.kernel.invokeFunction('convertToInteractive',\n",
              "                                                    [key], {});\n",
              "        if (!dataTable) return;\n",
              "\n",
              "        const docLinkHtml = 'Like what you see? Visit the ' +\n",
              "          '<a target=\"_blank\" href=https://colab.research.google.com/notebooks/data_table.ipynb>data table notebook</a>'\n",
              "          + ' to learn more about interactive tables.';\n",
              "        element.innerHTML = '';\n",
              "        dataTable['output_type'] = 'display_data';\n",
              "        await google.colab.output.renderOutput(dataTable, element);\n",
              "        const docLink = document.createElement('div');\n",
              "        docLink.innerHTML = docLinkHtml;\n",
              "        element.appendChild(docLink);\n",
              "      }\n",
              "    </script>\n",
              "  </div>\n",
              "\n",
              "\n",
              "<div id=\"df-0b74e34d-d5d8-4571-827a-1be0926bab5a\">\n",
              "  <button class=\"colab-df-quickchart\" onclick=\"quickchart('df-0b74e34d-d5d8-4571-827a-1be0926bab5a')\"\n",
              "            title=\"Suggest charts\"\n",
              "            style=\"display:none;\">\n",
              "\n",
              "<svg xmlns=\"http://www.w3.org/2000/svg\" height=\"24px\"viewBox=\"0 0 24 24\"\n",
              "     width=\"24px\">\n",
              "    <g>\n",
              "        <path d=\"M19 3H5c-1.1 0-2 .9-2 2v14c0 1.1.9 2 2 2h14c1.1 0 2-.9 2-2V5c0-1.1-.9-2-2-2zM9 17H7v-7h2v7zm4 0h-2V7h2v10zm4 0h-2v-4h2v4z\"/>\n",
              "    </g>\n",
              "</svg>\n",
              "  </button>\n",
              "\n",
              "<style>\n",
              "  .colab-df-quickchart {\n",
              "      --bg-color: #E8F0FE;\n",
              "      --fill-color: #1967D2;\n",
              "      --hover-bg-color: #E2EBFA;\n",
              "      --hover-fill-color: #174EA6;\n",
              "      --disabled-fill-color: #AAA;\n",
              "      --disabled-bg-color: #DDD;\n",
              "  }\n",
              "\n",
              "  [theme=dark] .colab-df-quickchart {\n",
              "      --bg-color: #3B4455;\n",
              "      --fill-color: #D2E3FC;\n",
              "      --hover-bg-color: #434B5C;\n",
              "      --hover-fill-color: #FFFFFF;\n",
              "      --disabled-bg-color: #3B4455;\n",
              "      --disabled-fill-color: #666;\n",
              "  }\n",
              "\n",
              "  .colab-df-quickchart {\n",
              "    background-color: var(--bg-color);\n",
              "    border: none;\n",
              "    border-radius: 50%;\n",
              "    cursor: pointer;\n",
              "    display: none;\n",
              "    fill: var(--fill-color);\n",
              "    height: 32px;\n",
              "    padding: 0;\n",
              "    width: 32px;\n",
              "  }\n",
              "\n",
              "  .colab-df-quickchart:hover {\n",
              "    background-color: var(--hover-bg-color);\n",
              "    box-shadow: 0 1px 2px rgba(60, 64, 67, 0.3), 0 1px 3px 1px rgba(60, 64, 67, 0.15);\n",
              "    fill: var(--button-hover-fill-color);\n",
              "  }\n",
              "\n",
              "  .colab-df-quickchart-complete:disabled,\n",
              "  .colab-df-quickchart-complete:disabled:hover {\n",
              "    background-color: var(--disabled-bg-color);\n",
              "    fill: var(--disabled-fill-color);\n",
              "    box-shadow: none;\n",
              "  }\n",
              "\n",
              "  .colab-df-spinner {\n",
              "    border: 2px solid var(--fill-color);\n",
              "    border-color: transparent;\n",
              "    border-bottom-color: var(--fill-color);\n",
              "    animation:\n",
              "      spin 1s steps(1) infinite;\n",
              "  }\n",
              "\n",
              "  @keyframes spin {\n",
              "    0% {\n",
              "      border-color: transparent;\n",
              "      border-bottom-color: var(--fill-color);\n",
              "      border-left-color: var(--fill-color);\n",
              "    }\n",
              "    20% {\n",
              "      border-color: transparent;\n",
              "      border-left-color: var(--fill-color);\n",
              "      border-top-color: var(--fill-color);\n",
              "    }\n",
              "    30% {\n",
              "      border-color: transparent;\n",
              "      border-left-color: var(--fill-color);\n",
              "      border-top-color: var(--fill-color);\n",
              "      border-right-color: var(--fill-color);\n",
              "    }\n",
              "    40% {\n",
              "      border-color: transparent;\n",
              "      border-right-color: var(--fill-color);\n",
              "      border-top-color: var(--fill-color);\n",
              "    }\n",
              "    60% {\n",
              "      border-color: transparent;\n",
              "      border-right-color: var(--fill-color);\n",
              "    }\n",
              "    80% {\n",
              "      border-color: transparent;\n",
              "      border-right-color: var(--fill-color);\n",
              "      border-bottom-color: var(--fill-color);\n",
              "    }\n",
              "    90% {\n",
              "      border-color: transparent;\n",
              "      border-bottom-color: var(--fill-color);\n",
              "    }\n",
              "  }\n",
              "</style>\n",
              "\n",
              "  <script>\n",
              "    async function quickchart(key) {\n",
              "      const quickchartButtonEl =\n",
              "        document.querySelector('#' + key + ' button');\n",
              "      quickchartButtonEl.disabled = true;  // To prevent multiple clicks.\n",
              "      quickchartButtonEl.classList.add('colab-df-spinner');\n",
              "      try {\n",
              "        const charts = await google.colab.kernel.invokeFunction(\n",
              "            'suggestCharts', [key], {});\n",
              "      } catch (error) {\n",
              "        console.error('Error during call to suggestCharts:', error);\n",
              "      }\n",
              "      quickchartButtonEl.classList.remove('colab-df-spinner');\n",
              "      quickchartButtonEl.classList.add('colab-df-quickchart-complete');\n",
              "    }\n",
              "    (() => {\n",
              "      let quickchartButtonEl =\n",
              "        document.querySelector('#df-0b74e34d-d5d8-4571-827a-1be0926bab5a button');\n",
              "      quickchartButtonEl.style.display =\n",
              "        google.colab.kernel.accessAllowed ? 'block' : 'none';\n",
              "    })();\n",
              "  </script>\n",
              "</div>\n",
              "\n",
              "  <div id=\"id_6bd6ba5b-09b8-40c8-b64b-0ac74c8d25cc\">\n",
              "    <style>\n",
              "      .colab-df-generate {\n",
              "        background-color: #E8F0FE;\n",
              "        border: none;\n",
              "        border-radius: 50%;\n",
              "        cursor: pointer;\n",
              "        display: none;\n",
              "        fill: #1967D2;\n",
              "        height: 32px;\n",
              "        padding: 0 0 0 0;\n",
              "        width: 32px;\n",
              "      }\n",
              "\n",
              "      .colab-df-generate:hover {\n",
              "        background-color: #E2EBFA;\n",
              "        box-shadow: 0px 1px 2px rgba(60, 64, 67, 0.3), 0px 1px 3px 1px rgba(60, 64, 67, 0.15);\n",
              "        fill: #174EA6;\n",
              "      }\n",
              "\n",
              "      [theme=dark] .colab-df-generate {\n",
              "        background-color: #3B4455;\n",
              "        fill: #D2E3FC;\n",
              "      }\n",
              "\n",
              "      [theme=dark] .colab-df-generate:hover {\n",
              "        background-color: #434B5C;\n",
              "        box-shadow: 0px 1px 3px 1px rgba(0, 0, 0, 0.15);\n",
              "        filter: drop-shadow(0px 1px 2px rgba(0, 0, 0, 0.3));\n",
              "        fill: #FFFFFF;\n",
              "      }\n",
              "    </style>\n",
              "    <button class=\"colab-df-generate\" onclick=\"generateWithVariable('table')\"\n",
              "            title=\"Generate code using this dataframe.\"\n",
              "            style=\"display:none;\">\n",
              "\n",
              "  <svg xmlns=\"http://www.w3.org/2000/svg\" height=\"24px\"viewBox=\"0 0 24 24\"\n",
              "       width=\"24px\">\n",
              "    <path d=\"M7,19H8.4L18.45,9,17,7.55,7,17.6ZM5,21V16.75L18.45,3.32a2,2,0,0,1,2.83,0l1.4,1.43a1.91,1.91,0,0,1,.58,1.4,1.91,1.91,0,0,1-.58,1.4L9.25,21ZM18.45,9,17,7.55Zm-12,3A5.31,5.31,0,0,0,4.9,8.1,5.31,5.31,0,0,0,1,6.5,5.31,5.31,0,0,0,4.9,4.9,5.31,5.31,0,0,0,6.5,1,5.31,5.31,0,0,0,8.1,4.9,5.31,5.31,0,0,0,12,6.5,5.46,5.46,0,0,0,6.5,12Z\"/>\n",
              "  </svg>\n",
              "    </button>\n",
              "    <script>\n",
              "      (() => {\n",
              "      const buttonEl =\n",
              "        document.querySelector('#id_6bd6ba5b-09b8-40c8-b64b-0ac74c8d25cc button.colab-df-generate');\n",
              "      buttonEl.style.display =\n",
              "        google.colab.kernel.accessAllowed ? 'block' : 'none';\n",
              "\n",
              "      buttonEl.onclick = () => {\n",
              "        google.colab.notebook.generateWithVariable('table');\n",
              "      }\n",
              "      })();\n",
              "    </script>\n",
              "  </div>\n",
              "\n",
              "    </div>\n",
              "  </div>\n"
            ],
            "application/vnd.google.colaboratory.intrinsic+json": {
              "type": "dataframe",
              "variable_name": "table"
            }
          },
          "metadata": {},
          "execution_count": 7
        }
      ]
    },
    {
      "cell_type": "code",
      "source": [
        "table = (usa_olympian.groupby(['Year', 'Athlete Name', 'Sport', 'Medal'])\n",
        ".size()\n",
        ".unstack('Medal', fill_value=0)\n",
        ".assign(Total=table['Gold']+table['Silver']+table['Bronze'])\n",
        ".reset_index()\n",
        ")\n",
        "table"
      ],
      "metadata": {
        "id": "0NDJfhOEDGE_",
        "colab": {
          "base_uri": "https://localhost:8080/",
          "height": 423
        },
        "outputId": "e09f1de7-5204-4538-f259-92f5dd7f4bbb"
      },
      "execution_count": 8,
      "outputs": [
        {
          "output_type": "execute_result",
          "data": {
            "text/plain": [
              "Medal    Year   Athlete Name          Sport  Bronze  Silver  Gold  Total\n",
              "0        1896  ABAS, Stephen       aquatics       0       0     0      0\n",
              "1        1896  ABAS, Stephen        archery       0       0     0      0\n",
              "2        1896  ABAS, Stephen      athletics       0       0     0      0\n",
              "3        1896  ABAS, Stephen       baseball       0       0     0      0\n",
              "4        1896  ABAS, Stephen     basketball       0       0     0      0\n",
              "...       ...            ...            ...     ...     ...   ...    ...\n",
              "2560195  2008  ZORN, Zachary      triathlon       0       0     0      0\n",
              "2560196  2008  ZORN, Zachary     tug of war       0       0     0      0\n",
              "2560197  2008  ZORN, Zachary     volleyball       0       0     0      0\n",
              "2560198  2008  ZORN, Zachary  weightlifting       0       0     0      0\n",
              "2560199  2008  ZORN, Zachary      wrestling       0       0     0      0\n",
              "\n",
              "[2560200 rows x 7 columns]"
            ],
            "text/html": [
              "\n",
              "  <div id=\"df-e8273c89-0920-48b7-a2cb-0b01cef06f1f\" class=\"colab-df-container\">\n",
              "    <div>\n",
              "<style scoped>\n",
              "    .dataframe tbody tr th:only-of-type {\n",
              "        vertical-align: middle;\n",
              "    }\n",
              "\n",
              "    .dataframe tbody tr th {\n",
              "        vertical-align: top;\n",
              "    }\n",
              "\n",
              "    .dataframe thead th {\n",
              "        text-align: right;\n",
              "    }\n",
              "</style>\n",
              "<table border=\"1\" class=\"dataframe\">\n",
              "  <thead>\n",
              "    <tr style=\"text-align: right;\">\n",
              "      <th>Medal</th>\n",
              "      <th>Year</th>\n",
              "      <th>Athlete Name</th>\n",
              "      <th>Sport</th>\n",
              "      <th>Bronze</th>\n",
              "      <th>Silver</th>\n",
              "      <th>Gold</th>\n",
              "      <th>Total</th>\n",
              "    </tr>\n",
              "  </thead>\n",
              "  <tbody>\n",
              "    <tr>\n",
              "      <th>0</th>\n",
              "      <td>1896</td>\n",
              "      <td>ABAS, Stephen</td>\n",
              "      <td>aquatics</td>\n",
              "      <td>0</td>\n",
              "      <td>0</td>\n",
              "      <td>0</td>\n",
              "      <td>0</td>\n",
              "    </tr>\n",
              "    <tr>\n",
              "      <th>1</th>\n",
              "      <td>1896</td>\n",
              "      <td>ABAS, Stephen</td>\n",
              "      <td>archery</td>\n",
              "      <td>0</td>\n",
              "      <td>0</td>\n",
              "      <td>0</td>\n",
              "      <td>0</td>\n",
              "    </tr>\n",
              "    <tr>\n",
              "      <th>2</th>\n",
              "      <td>1896</td>\n",
              "      <td>ABAS, Stephen</td>\n",
              "      <td>athletics</td>\n",
              "      <td>0</td>\n",
              "      <td>0</td>\n",
              "      <td>0</td>\n",
              "      <td>0</td>\n",
              "    </tr>\n",
              "    <tr>\n",
              "      <th>3</th>\n",
              "      <td>1896</td>\n",
              "      <td>ABAS, Stephen</td>\n",
              "      <td>baseball</td>\n",
              "      <td>0</td>\n",
              "      <td>0</td>\n",
              "      <td>0</td>\n",
              "      <td>0</td>\n",
              "    </tr>\n",
              "    <tr>\n",
              "      <th>4</th>\n",
              "      <td>1896</td>\n",
              "      <td>ABAS, Stephen</td>\n",
              "      <td>basketball</td>\n",
              "      <td>0</td>\n",
              "      <td>0</td>\n",
              "      <td>0</td>\n",
              "      <td>0</td>\n",
              "    </tr>\n",
              "    <tr>\n",
              "      <th>...</th>\n",
              "      <td>...</td>\n",
              "      <td>...</td>\n",
              "      <td>...</td>\n",
              "      <td>...</td>\n",
              "      <td>...</td>\n",
              "      <td>...</td>\n",
              "      <td>...</td>\n",
              "    </tr>\n",
              "    <tr>\n",
              "      <th>2560195</th>\n",
              "      <td>2008</td>\n",
              "      <td>ZORN, Zachary</td>\n",
              "      <td>triathlon</td>\n",
              "      <td>0</td>\n",
              "      <td>0</td>\n",
              "      <td>0</td>\n",
              "      <td>0</td>\n",
              "    </tr>\n",
              "    <tr>\n",
              "      <th>2560196</th>\n",
              "      <td>2008</td>\n",
              "      <td>ZORN, Zachary</td>\n",
              "      <td>tug of war</td>\n",
              "      <td>0</td>\n",
              "      <td>0</td>\n",
              "      <td>0</td>\n",
              "      <td>0</td>\n",
              "    </tr>\n",
              "    <tr>\n",
              "      <th>2560197</th>\n",
              "      <td>2008</td>\n",
              "      <td>ZORN, Zachary</td>\n",
              "      <td>volleyball</td>\n",
              "      <td>0</td>\n",
              "      <td>0</td>\n",
              "      <td>0</td>\n",
              "      <td>0</td>\n",
              "    </tr>\n",
              "    <tr>\n",
              "      <th>2560198</th>\n",
              "      <td>2008</td>\n",
              "      <td>ZORN, Zachary</td>\n",
              "      <td>weightlifting</td>\n",
              "      <td>0</td>\n",
              "      <td>0</td>\n",
              "      <td>0</td>\n",
              "      <td>0</td>\n",
              "    </tr>\n",
              "    <tr>\n",
              "      <th>2560199</th>\n",
              "      <td>2008</td>\n",
              "      <td>ZORN, Zachary</td>\n",
              "      <td>wrestling</td>\n",
              "      <td>0</td>\n",
              "      <td>0</td>\n",
              "      <td>0</td>\n",
              "      <td>0</td>\n",
              "    </tr>\n",
              "  </tbody>\n",
              "</table>\n",
              "<p>2560200 rows × 7 columns</p>\n",
              "</div>\n",
              "    <div class=\"colab-df-buttons\">\n",
              "\n",
              "  <div class=\"colab-df-container\">\n",
              "    <button class=\"colab-df-convert\" onclick=\"convertToInteractive('df-e8273c89-0920-48b7-a2cb-0b01cef06f1f')\"\n",
              "            title=\"Convert this dataframe to an interactive table.\"\n",
              "            style=\"display:none;\">\n",
              "\n",
              "  <svg xmlns=\"http://www.w3.org/2000/svg\" height=\"24px\" viewBox=\"0 -960 960 960\">\n",
              "    <path d=\"M120-120v-720h720v720H120Zm60-500h600v-160H180v160Zm220 220h160v-160H400v160Zm0 220h160v-160H400v160ZM180-400h160v-160H180v160Zm440 0h160v-160H620v160ZM180-180h160v-160H180v160Zm440 0h160v-160H620v160Z\"/>\n",
              "  </svg>\n",
              "    </button>\n",
              "\n",
              "  <style>\n",
              "    .colab-df-container {\n",
              "      display:flex;\n",
              "      gap: 12px;\n",
              "    }\n",
              "\n",
              "    .colab-df-convert {\n",
              "      background-color: #E8F0FE;\n",
              "      border: none;\n",
              "      border-radius: 50%;\n",
              "      cursor: pointer;\n",
              "      display: none;\n",
              "      fill: #1967D2;\n",
              "      height: 32px;\n",
              "      padding: 0 0 0 0;\n",
              "      width: 32px;\n",
              "    }\n",
              "\n",
              "    .colab-df-convert:hover {\n",
              "      background-color: #E2EBFA;\n",
              "      box-shadow: 0px 1px 2px rgba(60, 64, 67, 0.3), 0px 1px 3px 1px rgba(60, 64, 67, 0.15);\n",
              "      fill: #174EA6;\n",
              "    }\n",
              "\n",
              "    .colab-df-buttons div {\n",
              "      margin-bottom: 4px;\n",
              "    }\n",
              "\n",
              "    [theme=dark] .colab-df-convert {\n",
              "      background-color: #3B4455;\n",
              "      fill: #D2E3FC;\n",
              "    }\n",
              "\n",
              "    [theme=dark] .colab-df-convert:hover {\n",
              "      background-color: #434B5C;\n",
              "      box-shadow: 0px 1px 3px 1px rgba(0, 0, 0, 0.15);\n",
              "      filter: drop-shadow(0px 1px 2px rgba(0, 0, 0, 0.3));\n",
              "      fill: #FFFFFF;\n",
              "    }\n",
              "  </style>\n",
              "\n",
              "    <script>\n",
              "      const buttonEl =\n",
              "        document.querySelector('#df-e8273c89-0920-48b7-a2cb-0b01cef06f1f button.colab-df-convert');\n",
              "      buttonEl.style.display =\n",
              "        google.colab.kernel.accessAllowed ? 'block' : 'none';\n",
              "\n",
              "      async function convertToInteractive(key) {\n",
              "        const element = document.querySelector('#df-e8273c89-0920-48b7-a2cb-0b01cef06f1f');\n",
              "        const dataTable =\n",
              "          await google.colab.kernel.invokeFunction('convertToInteractive',\n",
              "                                                    [key], {});\n",
              "        if (!dataTable) return;\n",
              "\n",
              "        const docLinkHtml = 'Like what you see? Visit the ' +\n",
              "          '<a target=\"_blank\" href=https://colab.research.google.com/notebooks/data_table.ipynb>data table notebook</a>'\n",
              "          + ' to learn more about interactive tables.';\n",
              "        element.innerHTML = '';\n",
              "        dataTable['output_type'] = 'display_data';\n",
              "        await google.colab.output.renderOutput(dataTable, element);\n",
              "        const docLink = document.createElement('div');\n",
              "        docLink.innerHTML = docLinkHtml;\n",
              "        element.appendChild(docLink);\n",
              "      }\n",
              "    </script>\n",
              "  </div>\n",
              "\n",
              "\n",
              "<div id=\"df-5a09c5e5-98f3-4650-b804-dd6eae7b259a\">\n",
              "  <button class=\"colab-df-quickchart\" onclick=\"quickchart('df-5a09c5e5-98f3-4650-b804-dd6eae7b259a')\"\n",
              "            title=\"Suggest charts\"\n",
              "            style=\"display:none;\">\n",
              "\n",
              "<svg xmlns=\"http://www.w3.org/2000/svg\" height=\"24px\"viewBox=\"0 0 24 24\"\n",
              "     width=\"24px\">\n",
              "    <g>\n",
              "        <path d=\"M19 3H5c-1.1 0-2 .9-2 2v14c0 1.1.9 2 2 2h14c1.1 0 2-.9 2-2V5c0-1.1-.9-2-2-2zM9 17H7v-7h2v7zm4 0h-2V7h2v10zm4 0h-2v-4h2v4z\"/>\n",
              "    </g>\n",
              "</svg>\n",
              "  </button>\n",
              "\n",
              "<style>\n",
              "  .colab-df-quickchart {\n",
              "      --bg-color: #E8F0FE;\n",
              "      --fill-color: #1967D2;\n",
              "      --hover-bg-color: #E2EBFA;\n",
              "      --hover-fill-color: #174EA6;\n",
              "      --disabled-fill-color: #AAA;\n",
              "      --disabled-bg-color: #DDD;\n",
              "  }\n",
              "\n",
              "  [theme=dark] .colab-df-quickchart {\n",
              "      --bg-color: #3B4455;\n",
              "      --fill-color: #D2E3FC;\n",
              "      --hover-bg-color: #434B5C;\n",
              "      --hover-fill-color: #FFFFFF;\n",
              "      --disabled-bg-color: #3B4455;\n",
              "      --disabled-fill-color: #666;\n",
              "  }\n",
              "\n",
              "  .colab-df-quickchart {\n",
              "    background-color: var(--bg-color);\n",
              "    border: none;\n",
              "    border-radius: 50%;\n",
              "    cursor: pointer;\n",
              "    display: none;\n",
              "    fill: var(--fill-color);\n",
              "    height: 32px;\n",
              "    padding: 0;\n",
              "    width: 32px;\n",
              "  }\n",
              "\n",
              "  .colab-df-quickchart:hover {\n",
              "    background-color: var(--hover-bg-color);\n",
              "    box-shadow: 0 1px 2px rgba(60, 64, 67, 0.3), 0 1px 3px 1px rgba(60, 64, 67, 0.15);\n",
              "    fill: var(--button-hover-fill-color);\n",
              "  }\n",
              "\n",
              "  .colab-df-quickchart-complete:disabled,\n",
              "  .colab-df-quickchart-complete:disabled:hover {\n",
              "    background-color: var(--disabled-bg-color);\n",
              "    fill: var(--disabled-fill-color);\n",
              "    box-shadow: none;\n",
              "  }\n",
              "\n",
              "  .colab-df-spinner {\n",
              "    border: 2px solid var(--fill-color);\n",
              "    border-color: transparent;\n",
              "    border-bottom-color: var(--fill-color);\n",
              "    animation:\n",
              "      spin 1s steps(1) infinite;\n",
              "  }\n",
              "\n",
              "  @keyframes spin {\n",
              "    0% {\n",
              "      border-color: transparent;\n",
              "      border-bottom-color: var(--fill-color);\n",
              "      border-left-color: var(--fill-color);\n",
              "    }\n",
              "    20% {\n",
              "      border-color: transparent;\n",
              "      border-left-color: var(--fill-color);\n",
              "      border-top-color: var(--fill-color);\n",
              "    }\n",
              "    30% {\n",
              "      border-color: transparent;\n",
              "      border-left-color: var(--fill-color);\n",
              "      border-top-color: var(--fill-color);\n",
              "      border-right-color: var(--fill-color);\n",
              "    }\n",
              "    40% {\n",
              "      border-color: transparent;\n",
              "      border-right-color: var(--fill-color);\n",
              "      border-top-color: var(--fill-color);\n",
              "    }\n",
              "    60% {\n",
              "      border-color: transparent;\n",
              "      border-right-color: var(--fill-color);\n",
              "    }\n",
              "    80% {\n",
              "      border-color: transparent;\n",
              "      border-right-color: var(--fill-color);\n",
              "      border-bottom-color: var(--fill-color);\n",
              "    }\n",
              "    90% {\n",
              "      border-color: transparent;\n",
              "      border-bottom-color: var(--fill-color);\n",
              "    }\n",
              "  }\n",
              "</style>\n",
              "\n",
              "  <script>\n",
              "    async function quickchart(key) {\n",
              "      const quickchartButtonEl =\n",
              "        document.querySelector('#' + key + ' button');\n",
              "      quickchartButtonEl.disabled = true;  // To prevent multiple clicks.\n",
              "      quickchartButtonEl.classList.add('colab-df-spinner');\n",
              "      try {\n",
              "        const charts = await google.colab.kernel.invokeFunction(\n",
              "            'suggestCharts', [key], {});\n",
              "      } catch (error) {\n",
              "        console.error('Error during call to suggestCharts:', error);\n",
              "      }\n",
              "      quickchartButtonEl.classList.remove('colab-df-spinner');\n",
              "      quickchartButtonEl.classList.add('colab-df-quickchart-complete');\n",
              "    }\n",
              "    (() => {\n",
              "      let quickchartButtonEl =\n",
              "        document.querySelector('#df-5a09c5e5-98f3-4650-b804-dd6eae7b259a button');\n",
              "      quickchartButtonEl.style.display =\n",
              "        google.colab.kernel.accessAllowed ? 'block' : 'none';\n",
              "    })();\n",
              "  </script>\n",
              "</div>\n",
              "\n",
              "  <div id=\"id_65ed5958-cb2d-462d-9aa2-22e5d4977501\">\n",
              "    <style>\n",
              "      .colab-df-generate {\n",
              "        background-color: #E8F0FE;\n",
              "        border: none;\n",
              "        border-radius: 50%;\n",
              "        cursor: pointer;\n",
              "        display: none;\n",
              "        fill: #1967D2;\n",
              "        height: 32px;\n",
              "        padding: 0 0 0 0;\n",
              "        width: 32px;\n",
              "      }\n",
              "\n",
              "      .colab-df-generate:hover {\n",
              "        background-color: #E2EBFA;\n",
              "        box-shadow: 0px 1px 2px rgba(60, 64, 67, 0.3), 0px 1px 3px 1px rgba(60, 64, 67, 0.15);\n",
              "        fill: #174EA6;\n",
              "      }\n",
              "\n",
              "      [theme=dark] .colab-df-generate {\n",
              "        background-color: #3B4455;\n",
              "        fill: #D2E3FC;\n",
              "      }\n",
              "\n",
              "      [theme=dark] .colab-df-generate:hover {\n",
              "        background-color: #434B5C;\n",
              "        box-shadow: 0px 1px 3px 1px rgba(0, 0, 0, 0.15);\n",
              "        filter: drop-shadow(0px 1px 2px rgba(0, 0, 0, 0.3));\n",
              "        fill: #FFFFFF;\n",
              "      }\n",
              "    </style>\n",
              "    <button class=\"colab-df-generate\" onclick=\"generateWithVariable('table')\"\n",
              "            title=\"Generate code using this dataframe.\"\n",
              "            style=\"display:none;\">\n",
              "\n",
              "  <svg xmlns=\"http://www.w3.org/2000/svg\" height=\"24px\"viewBox=\"0 0 24 24\"\n",
              "       width=\"24px\">\n",
              "    <path d=\"M7,19H8.4L18.45,9,17,7.55,7,17.6ZM5,21V16.75L18.45,3.32a2,2,0,0,1,2.83,0l1.4,1.43a1.91,1.91,0,0,1,.58,1.4,1.91,1.91,0,0,1-.58,1.4L9.25,21ZM18.45,9,17,7.55Zm-12,3A5.31,5.31,0,0,0,4.9,8.1,5.31,5.31,0,0,0,1,6.5,5.31,5.31,0,0,0,4.9,4.9,5.31,5.31,0,0,0,6.5,1,5.31,5.31,0,0,0,8.1,4.9,5.31,5.31,0,0,0,12,6.5,5.46,5.46,0,0,0,6.5,12Z\"/>\n",
              "  </svg>\n",
              "    </button>\n",
              "    <script>\n",
              "      (() => {\n",
              "      const buttonEl =\n",
              "        document.querySelector('#id_65ed5958-cb2d-462d-9aa2-22e5d4977501 button.colab-df-generate');\n",
              "      buttonEl.style.display =\n",
              "        google.colab.kernel.accessAllowed ? 'block' : 'none';\n",
              "\n",
              "      buttonEl.onclick = () => {\n",
              "        google.colab.notebook.generateWithVariable('table');\n",
              "      }\n",
              "      })();\n",
              "    </script>\n",
              "  </div>\n",
              "\n",
              "    </div>\n",
              "  </div>\n"
            ],
            "application/vnd.google.colaboratory.intrinsic+json": {
              "type": "dataframe",
              "variable_name": "table"
            }
          },
          "metadata": {},
          "execution_count": 8
        }
      ]
    },
    {
      "cell_type": "code",
      "source": [
        "for year, group in table.groupby('Year'):\n",
        "  print(group)"
      ],
      "metadata": {
        "id": "ngE9HmQGDGBc",
        "colab": {
          "base_uri": "https://localhost:8080/"
        },
        "outputId": "ebaef8a5-6611-49dd-b363-e25805ffacb9"
      },
      "execution_count": 9,
      "outputs": [
        {
          "output_type": "stream",
          "name": "stdout",
          "text": [
            "Medal   Year   Athlete Name          Sport  Bronze  Silver  Gold  Total\n",
            "0       1896  ABAS, Stephen       aquatics       0       0     0      0\n",
            "1       1896  ABAS, Stephen        archery       0       0     0      0\n",
            "2       1896  ABAS, Stephen      athletics       0       0     0      0\n",
            "3       1896  ABAS, Stephen       baseball       0       0     0      0\n",
            "4       1896  ABAS, Stephen     basketball       0       0     0      0\n",
            "...      ...            ...            ...     ...     ...   ...    ...\n",
            "102403  1896  ZORN, Zachary      triathlon       0       0     0      0\n",
            "102404  1896  ZORN, Zachary     tug of war       0       0     0      0\n",
            "102405  1896  ZORN, Zachary     volleyball       0       0     0      0\n",
            "102406  1896  ZORN, Zachary  weightlifting       0       0     0      0\n",
            "102407  1896  ZORN, Zachary      wrestling       0       0     0      0\n",
            "\n",
            "[102408 rows x 7 columns]\n",
            "Medal   Year   Athlete Name          Sport  Bronze  Silver  Gold  Total\n",
            "102408  1900  ABAS, Stephen       aquatics       0       0     0      0\n",
            "102409  1900  ABAS, Stephen        archery       0       0     0      0\n",
            "102410  1900  ABAS, Stephen      athletics       0       0     0      0\n",
            "102411  1900  ABAS, Stephen       baseball       0       0     0      0\n",
            "102412  1900  ABAS, Stephen     basketball       0       0     0      0\n",
            "...      ...            ...            ...     ...     ...   ...    ...\n",
            "204811  1900  ZORN, Zachary      triathlon       0       0     0      0\n",
            "204812  1900  ZORN, Zachary     tug of war       0       0     0      0\n",
            "204813  1900  ZORN, Zachary     volleyball       0       0     0      0\n",
            "204814  1900  ZORN, Zachary  weightlifting       0       0     0      0\n",
            "204815  1900  ZORN, Zachary      wrestling       0       0     0      0\n",
            "\n",
            "[102408 rows x 7 columns]\n",
            "Medal   Year   Athlete Name          Sport  Bronze  Silver  Gold  Total\n",
            "204816  1904  ABAS, Stephen       aquatics       0       0     0      0\n",
            "204817  1904  ABAS, Stephen        archery       0       0     0      0\n",
            "204818  1904  ABAS, Stephen      athletics       0       0     0      0\n",
            "204819  1904  ABAS, Stephen       baseball       0       0     0      0\n",
            "204820  1904  ABAS, Stephen     basketball       0       0     0      0\n",
            "...      ...            ...            ...     ...     ...   ...    ...\n",
            "307219  1904  ZORN, Zachary      triathlon       0       0     0      0\n",
            "307220  1904  ZORN, Zachary     tug of war       0       0     0      0\n",
            "307221  1904  ZORN, Zachary     volleyball       0       0     0      0\n",
            "307222  1904  ZORN, Zachary  weightlifting       0       0     0      0\n",
            "307223  1904  ZORN, Zachary      wrestling       0       0     0      0\n",
            "\n",
            "[102408 rows x 7 columns]\n",
            "Medal   Year   Athlete Name          Sport  Bronze  Silver  Gold  Total\n",
            "307224  1908  ABAS, Stephen       aquatics       0       0     0      0\n",
            "307225  1908  ABAS, Stephen        archery       0       0     0      0\n",
            "307226  1908  ABAS, Stephen      athletics       0       0     0      0\n",
            "307227  1908  ABAS, Stephen       baseball       0       0     0      0\n",
            "307228  1908  ABAS, Stephen     basketball       0       0     0      0\n",
            "...      ...            ...            ...     ...     ...   ...    ...\n",
            "409627  1908  ZORN, Zachary      triathlon       0       0     0      0\n",
            "409628  1908  ZORN, Zachary     tug of war       0       0     0      0\n",
            "409629  1908  ZORN, Zachary     volleyball       0       0     0      0\n",
            "409630  1908  ZORN, Zachary  weightlifting       0       0     0      0\n",
            "409631  1908  ZORN, Zachary      wrestling       0       0     0      0\n",
            "\n",
            "[102408 rows x 7 columns]\n",
            "Medal   Year   Athlete Name          Sport  Bronze  Silver  Gold  Total\n",
            "409632  1912  ABAS, Stephen       aquatics       0       0     0      0\n",
            "409633  1912  ABAS, Stephen        archery       0       0     0      0\n",
            "409634  1912  ABAS, Stephen      athletics       0       0     0      0\n",
            "409635  1912  ABAS, Stephen       baseball       0       0     0      0\n",
            "409636  1912  ABAS, Stephen     basketball       0       0     0      0\n",
            "...      ...            ...            ...     ...     ...   ...    ...\n",
            "512035  1912  ZORN, Zachary      triathlon       0       0     0      0\n",
            "512036  1912  ZORN, Zachary     tug of war       0       0     0      0\n",
            "512037  1912  ZORN, Zachary     volleyball       0       0     0      0\n",
            "512038  1912  ZORN, Zachary  weightlifting       0       0     0      0\n",
            "512039  1912  ZORN, Zachary      wrestling       0       0     0      0\n",
            "\n",
            "[102408 rows x 7 columns]\n",
            "Medal   Year   Athlete Name          Sport  Bronze  Silver  Gold  Total\n",
            "512040  1920  ABAS, Stephen       aquatics       0       0     0      0\n",
            "512041  1920  ABAS, Stephen        archery       0       0     0      0\n",
            "512042  1920  ABAS, Stephen      athletics       0       0     0      0\n",
            "512043  1920  ABAS, Stephen       baseball       0       0     0      0\n",
            "512044  1920  ABAS, Stephen     basketball       0       0     0      0\n",
            "...      ...            ...            ...     ...     ...   ...    ...\n",
            "614443  1920  ZORN, Zachary      triathlon       0       0     0      0\n",
            "614444  1920  ZORN, Zachary     tug of war       0       0     0      0\n",
            "614445  1920  ZORN, Zachary     volleyball       0       0     0      0\n",
            "614446  1920  ZORN, Zachary  weightlifting       0       0     0      0\n",
            "614447  1920  ZORN, Zachary      wrestling       0       0     0      0\n",
            "\n",
            "[102408 rows x 7 columns]\n",
            "Medal   Year   Athlete Name          Sport  Bronze  Silver  Gold  Total\n",
            "614448  1924  ABAS, Stephen       aquatics       0       0     0      0\n",
            "614449  1924  ABAS, Stephen        archery       0       0     0      0\n",
            "614450  1924  ABAS, Stephen      athletics       0       0     0      0\n",
            "614451  1924  ABAS, Stephen       baseball       0       0     0      0\n",
            "614452  1924  ABAS, Stephen     basketball       0       0     0      0\n",
            "...      ...            ...            ...     ...     ...   ...    ...\n",
            "716851  1924  ZORN, Zachary      triathlon       0       0     0      0\n",
            "716852  1924  ZORN, Zachary     tug of war       0       0     0      0\n",
            "716853  1924  ZORN, Zachary     volleyball       0       0     0      0\n",
            "716854  1924  ZORN, Zachary  weightlifting       0       0     0      0\n",
            "716855  1924  ZORN, Zachary      wrestling       0       0     0      0\n",
            "\n",
            "[102408 rows x 7 columns]\n",
            "Medal   Year   Athlete Name          Sport  Bronze  Silver  Gold  Total\n",
            "716856  1928  ABAS, Stephen       aquatics       0       0     0      0\n",
            "716857  1928  ABAS, Stephen        archery       0       0     0      0\n",
            "716858  1928  ABAS, Stephen      athletics       0       0     0      0\n",
            "716859  1928  ABAS, Stephen       baseball       0       0     0      0\n",
            "716860  1928  ABAS, Stephen     basketball       0       0     0      0\n",
            "...      ...            ...            ...     ...     ...   ...    ...\n",
            "819259  1928  ZORN, Zachary      triathlon       0       0     0      0\n",
            "819260  1928  ZORN, Zachary     tug of war       0       0     0      0\n",
            "819261  1928  ZORN, Zachary     volleyball       0       0     0      0\n",
            "819262  1928  ZORN, Zachary  weightlifting       0       0     0      0\n",
            "819263  1928  ZORN, Zachary      wrestling       0       0     0      0\n",
            "\n",
            "[102408 rows x 7 columns]\n",
            "Medal   Year   Athlete Name          Sport  Bronze  Silver  Gold  Total\n",
            "819264  1932  ABAS, Stephen       aquatics       0       0     0      0\n",
            "819265  1932  ABAS, Stephen        archery       0       0     0      0\n",
            "819266  1932  ABAS, Stephen      athletics       0       0     0      0\n",
            "819267  1932  ABAS, Stephen       baseball       0       0     0      0\n",
            "819268  1932  ABAS, Stephen     basketball       0       0     0      0\n",
            "...      ...            ...            ...     ...     ...   ...    ...\n",
            "921667  1932  ZORN, Zachary      triathlon       0       0     0      0\n",
            "921668  1932  ZORN, Zachary     tug of war       0       0     0      0\n",
            "921669  1932  ZORN, Zachary     volleyball       0       0     0      0\n",
            "921670  1932  ZORN, Zachary  weightlifting       0       0     0      0\n",
            "921671  1932  ZORN, Zachary      wrestling       0       0     0      0\n",
            "\n",
            "[102408 rows x 7 columns]\n",
            "Medal    Year   Athlete Name          Sport  Bronze  Silver  Gold  Total\n",
            "921672   1936  ABAS, Stephen       aquatics       0       0     0      0\n",
            "921673   1936  ABAS, Stephen        archery       0       0     0      0\n",
            "921674   1936  ABAS, Stephen      athletics       0       0     0      0\n",
            "921675   1936  ABAS, Stephen       baseball       0       0     0      0\n",
            "921676   1936  ABAS, Stephen     basketball       0       0     0      0\n",
            "...       ...            ...            ...     ...     ...   ...    ...\n",
            "1024075  1936  ZORN, Zachary      triathlon       0       0     0      0\n",
            "1024076  1936  ZORN, Zachary     tug of war       0       0     0      0\n",
            "1024077  1936  ZORN, Zachary     volleyball       0       0     0      0\n",
            "1024078  1936  ZORN, Zachary  weightlifting       0       0     0      0\n",
            "1024079  1936  ZORN, Zachary      wrestling       0       0     0      0\n",
            "\n",
            "[102408 rows x 7 columns]\n",
            "Medal    Year   Athlete Name          Sport  Bronze  Silver  Gold  Total\n",
            "1024080  1948  ABAS, Stephen       aquatics       0       0     0      0\n",
            "1024081  1948  ABAS, Stephen        archery       0       0     0      0\n",
            "1024082  1948  ABAS, Stephen      athletics       0       0     0      0\n",
            "1024083  1948  ABAS, Stephen       baseball       0       0     0      0\n",
            "1024084  1948  ABAS, Stephen     basketball       0       0     0      0\n",
            "...       ...            ...            ...     ...     ...   ...    ...\n",
            "1126483  1948  ZORN, Zachary      triathlon       0       0     0      0\n",
            "1126484  1948  ZORN, Zachary     tug of war       0       0     0      0\n",
            "1126485  1948  ZORN, Zachary     volleyball       0       0     0      0\n",
            "1126486  1948  ZORN, Zachary  weightlifting       0       0     0      0\n",
            "1126487  1948  ZORN, Zachary      wrestling       0       0     0      0\n",
            "\n",
            "[102408 rows x 7 columns]\n",
            "Medal    Year   Athlete Name          Sport  Bronze  Silver  Gold  Total\n",
            "1126488  1952  ABAS, Stephen       aquatics       0       0     0      0\n",
            "1126489  1952  ABAS, Stephen        archery       0       0     0      0\n",
            "1126490  1952  ABAS, Stephen      athletics       0       0     0      0\n",
            "1126491  1952  ABAS, Stephen       baseball       0       0     0      0\n",
            "1126492  1952  ABAS, Stephen     basketball       0       0     0      0\n",
            "...       ...            ...            ...     ...     ...   ...    ...\n",
            "1228891  1952  ZORN, Zachary      triathlon       0       0     0      0\n",
            "1228892  1952  ZORN, Zachary     tug of war       0       0     0      0\n",
            "1228893  1952  ZORN, Zachary     volleyball       0       0     0      0\n",
            "1228894  1952  ZORN, Zachary  weightlifting       0       0     0      0\n",
            "1228895  1952  ZORN, Zachary      wrestling       0       0     0      0\n",
            "\n",
            "[102408 rows x 7 columns]\n",
            "Medal    Year   Athlete Name          Sport  Bronze  Silver  Gold  Total\n",
            "1228896  1956  ABAS, Stephen       aquatics       0       0     0      0\n",
            "1228897  1956  ABAS, Stephen        archery       0       0     0      0\n",
            "1228898  1956  ABAS, Stephen      athletics       0       0     0      0\n",
            "1228899  1956  ABAS, Stephen       baseball       0       0     0      0\n",
            "1228900  1956  ABAS, Stephen     basketball       0       0     0      0\n",
            "...       ...            ...            ...     ...     ...   ...    ...\n",
            "1331299  1956  ZORN, Zachary      triathlon       0       0     0      0\n",
            "1331300  1956  ZORN, Zachary     tug of war       0       0     0      0\n",
            "1331301  1956  ZORN, Zachary     volleyball       0       0     0      0\n",
            "1331302  1956  ZORN, Zachary  weightlifting       0       0     0      0\n",
            "1331303  1956  ZORN, Zachary      wrestling       0       0     0      0\n",
            "\n",
            "[102408 rows x 7 columns]\n",
            "Medal    Year   Athlete Name          Sport  Bronze  Silver  Gold  Total\n",
            "1331304  1960  ABAS, Stephen       aquatics       0       0     0      0\n",
            "1331305  1960  ABAS, Stephen        archery       0       0     0      0\n",
            "1331306  1960  ABAS, Stephen      athletics       0       0     0      0\n",
            "1331307  1960  ABAS, Stephen       baseball       0       0     0      0\n",
            "1331308  1960  ABAS, Stephen     basketball       0       0     0      0\n",
            "...       ...            ...            ...     ...     ...   ...    ...\n",
            "1433707  1960  ZORN, Zachary      triathlon       0       0     0      0\n",
            "1433708  1960  ZORN, Zachary     tug of war       0       0     0      0\n",
            "1433709  1960  ZORN, Zachary     volleyball       0       0     0      0\n",
            "1433710  1960  ZORN, Zachary  weightlifting       0       0     0      0\n",
            "1433711  1960  ZORN, Zachary      wrestling       0       0     0      0\n",
            "\n",
            "[102408 rows x 7 columns]\n",
            "Medal    Year   Athlete Name          Sport  Bronze  Silver  Gold  Total\n",
            "1433712  1964  ABAS, Stephen       aquatics       0       0     0      0\n",
            "1433713  1964  ABAS, Stephen        archery       0       0     0      0\n",
            "1433714  1964  ABAS, Stephen      athletics       0       0     0      0\n",
            "1433715  1964  ABAS, Stephen       baseball       0       0     0      0\n",
            "1433716  1964  ABAS, Stephen     basketball       0       0     0      0\n",
            "...       ...            ...            ...     ...     ...   ...    ...\n",
            "1536115  1964  ZORN, Zachary      triathlon       0       0     0      0\n",
            "1536116  1964  ZORN, Zachary     tug of war       0       0     0      0\n",
            "1536117  1964  ZORN, Zachary     volleyball       0       0     0      0\n",
            "1536118  1964  ZORN, Zachary  weightlifting       0       0     0      0\n",
            "1536119  1964  ZORN, Zachary      wrestling       0       0     0      0\n",
            "\n",
            "[102408 rows x 7 columns]\n",
            "Medal    Year   Athlete Name          Sport  Bronze  Silver  Gold  Total\n",
            "1536120  1968  ABAS, Stephen       aquatics       0       0     0      0\n",
            "1536121  1968  ABAS, Stephen        archery       0       0     0      0\n",
            "1536122  1968  ABAS, Stephen      athletics       0       0     0      0\n",
            "1536123  1968  ABAS, Stephen       baseball       0       0     0      0\n",
            "1536124  1968  ABAS, Stephen     basketball       0       0     0      0\n",
            "...       ...            ...            ...     ...     ...   ...    ...\n",
            "1638523  1968  ZORN, Zachary      triathlon       0       0     0      0\n",
            "1638524  1968  ZORN, Zachary     tug of war       0       0     0      0\n",
            "1638525  1968  ZORN, Zachary     volleyball       0       0     0      0\n",
            "1638526  1968  ZORN, Zachary  weightlifting       0       0     0      0\n",
            "1638527  1968  ZORN, Zachary      wrestling       0       0     0      0\n",
            "\n",
            "[102408 rows x 7 columns]\n",
            "Medal    Year   Athlete Name          Sport  Bronze  Silver  Gold  Total\n",
            "1638528  1972  ABAS, Stephen       aquatics       0       0     0      0\n",
            "1638529  1972  ABAS, Stephen        archery       0       0     0      0\n",
            "1638530  1972  ABAS, Stephen      athletics       0       0     0      0\n",
            "1638531  1972  ABAS, Stephen       baseball       0       0     0      0\n",
            "1638532  1972  ABAS, Stephen     basketball       0       0     0      0\n",
            "...       ...            ...            ...     ...     ...   ...    ...\n",
            "1740931  1972  ZORN, Zachary      triathlon       0       0     0      0\n",
            "1740932  1972  ZORN, Zachary     tug of war       0       0     0      0\n",
            "1740933  1972  ZORN, Zachary     volleyball       0       0     0      0\n",
            "1740934  1972  ZORN, Zachary  weightlifting       0       0     0      0\n",
            "1740935  1972  ZORN, Zachary      wrestling       0       0     0      0\n",
            "\n",
            "[102408 rows x 7 columns]\n",
            "Medal    Year   Athlete Name          Sport  Bronze  Silver  Gold  Total\n",
            "1740936  1976  ABAS, Stephen       aquatics       0       0     0      0\n",
            "1740937  1976  ABAS, Stephen        archery       0       0     0      0\n",
            "1740938  1976  ABAS, Stephen      athletics       0       0     0      0\n",
            "1740939  1976  ABAS, Stephen       baseball       0       0     0      0\n",
            "1740940  1976  ABAS, Stephen     basketball       0       0     0      0\n",
            "...       ...            ...            ...     ...     ...   ...    ...\n",
            "1843339  1976  ZORN, Zachary      triathlon       0       0     0      0\n",
            "1843340  1976  ZORN, Zachary     tug of war       0       0     0      0\n",
            "1843341  1976  ZORN, Zachary     volleyball       0       0     0      0\n",
            "1843342  1976  ZORN, Zachary  weightlifting       0       0     0      0\n",
            "1843343  1976  ZORN, Zachary      wrestling       0       0     0      0\n",
            "\n",
            "[102408 rows x 7 columns]\n",
            "Medal    Year   Athlete Name          Sport  Bronze  Silver  Gold  Total\n",
            "1843344  1984  ABAS, Stephen       aquatics       0       0     0      0\n",
            "1843345  1984  ABAS, Stephen        archery       0       0     0      0\n",
            "1843346  1984  ABAS, Stephen      athletics       0       0     0      0\n",
            "1843347  1984  ABAS, Stephen       baseball       0       0     0      0\n",
            "1843348  1984  ABAS, Stephen     basketball       0       0     0      0\n",
            "...       ...            ...            ...     ...     ...   ...    ...\n",
            "1945747  1984  ZORN, Zachary      triathlon       0       0     0      0\n",
            "1945748  1984  ZORN, Zachary     tug of war       0       0     0      0\n",
            "1945749  1984  ZORN, Zachary     volleyball       0       0     0      0\n",
            "1945750  1984  ZORN, Zachary  weightlifting       0       0     0      0\n",
            "1945751  1984  ZORN, Zachary      wrestling       0       0     0      0\n",
            "\n",
            "[102408 rows x 7 columns]\n",
            "Medal    Year   Athlete Name          Sport  Bronze  Silver  Gold  Total\n",
            "1945752  1988  ABAS, Stephen       aquatics       0       0     0      0\n",
            "1945753  1988  ABAS, Stephen        archery       0       0     0      0\n",
            "1945754  1988  ABAS, Stephen      athletics       0       0     0      0\n",
            "1945755  1988  ABAS, Stephen       baseball       0       0     0      0\n",
            "1945756  1988  ABAS, Stephen     basketball       0       0     0      0\n",
            "...       ...            ...            ...     ...     ...   ...    ...\n",
            "2048155  1988  ZORN, Zachary      triathlon       0       0     0      0\n",
            "2048156  1988  ZORN, Zachary     tug of war       0       0     0      0\n",
            "2048157  1988  ZORN, Zachary     volleyball       0       0     0      0\n",
            "2048158  1988  ZORN, Zachary  weightlifting       0       0     0      0\n",
            "2048159  1988  ZORN, Zachary      wrestling       0       0     0      0\n",
            "\n",
            "[102408 rows x 7 columns]\n",
            "Medal    Year   Athlete Name          Sport  Bronze  Silver  Gold  Total\n",
            "2048160  1992  ABAS, Stephen       aquatics       0       0     0      0\n",
            "2048161  1992  ABAS, Stephen        archery       0       0     0      0\n",
            "2048162  1992  ABAS, Stephen      athletics       0       0     0      0\n",
            "2048163  1992  ABAS, Stephen       baseball       0       0     0      0\n",
            "2048164  1992  ABAS, Stephen     basketball       0       0     0      0\n",
            "...       ...            ...            ...     ...     ...   ...    ...\n",
            "2150563  1992  ZORN, Zachary      triathlon       0       0     0      0\n",
            "2150564  1992  ZORN, Zachary     tug of war       0       0     0      0\n",
            "2150565  1992  ZORN, Zachary     volleyball       0       0     0      0\n",
            "2150566  1992  ZORN, Zachary  weightlifting       0       0     0      0\n",
            "2150567  1992  ZORN, Zachary      wrestling       0       0     0      0\n",
            "\n",
            "[102408 rows x 7 columns]\n",
            "Medal    Year   Athlete Name          Sport  Bronze  Silver  Gold  Total\n",
            "2150568  1996  ABAS, Stephen       aquatics       0       0     0      0\n",
            "2150569  1996  ABAS, Stephen        archery       0       0     0      0\n",
            "2150570  1996  ABAS, Stephen      athletics       0       0     0      0\n",
            "2150571  1996  ABAS, Stephen       baseball       0       0     0      0\n",
            "2150572  1996  ABAS, Stephen     basketball       0       0     0      0\n",
            "...       ...            ...            ...     ...     ...   ...    ...\n",
            "2252971  1996  ZORN, Zachary      triathlon       0       0     0      0\n",
            "2252972  1996  ZORN, Zachary     tug of war       0       0     0      0\n",
            "2252973  1996  ZORN, Zachary     volleyball       0       0     0      0\n",
            "2252974  1996  ZORN, Zachary  weightlifting       0       0     0      0\n",
            "2252975  1996  ZORN, Zachary      wrestling       0       0     0      0\n",
            "\n",
            "[102408 rows x 7 columns]\n",
            "Medal    Year   Athlete Name          Sport  Bronze  Silver  Gold  Total\n",
            "2252976  2000  ABAS, Stephen       aquatics       0       0     0      0\n",
            "2252977  2000  ABAS, Stephen        archery       0       0     0      0\n",
            "2252978  2000  ABAS, Stephen      athletics       0       0     0      0\n",
            "2252979  2000  ABAS, Stephen       baseball       0       0     0      0\n",
            "2252980  2000  ABAS, Stephen     basketball       0       0     0      0\n",
            "...       ...            ...            ...     ...     ...   ...    ...\n",
            "2355379  2000  ZORN, Zachary      triathlon       0       0     0      0\n",
            "2355380  2000  ZORN, Zachary     tug of war       0       0     0      0\n",
            "2355381  2000  ZORN, Zachary     volleyball       0       0     0      0\n",
            "2355382  2000  ZORN, Zachary  weightlifting       0       0     0      0\n",
            "2355383  2000  ZORN, Zachary      wrestling       0       0     0      0\n",
            "\n",
            "[102408 rows x 7 columns]\n",
            "Medal    Year   Athlete Name          Sport  Bronze  Silver  Gold  Total\n",
            "2355384  2004  ABAS, Stephen       aquatics       0       0     0      0\n",
            "2355385  2004  ABAS, Stephen        archery       0       0     0      0\n",
            "2355386  2004  ABAS, Stephen      athletics       0       0     0      0\n",
            "2355387  2004  ABAS, Stephen       baseball       0       0     0      0\n",
            "2355388  2004  ABAS, Stephen     basketball       0       0     0      0\n",
            "...       ...            ...            ...     ...     ...   ...    ...\n",
            "2457787  2004  ZORN, Zachary      triathlon       0       0     0      0\n",
            "2457788  2004  ZORN, Zachary     tug of war       0       0     0      0\n",
            "2457789  2004  ZORN, Zachary     volleyball       0       0     0      0\n",
            "2457790  2004  ZORN, Zachary  weightlifting       0       0     0      0\n",
            "2457791  2004  ZORN, Zachary      wrestling       0       0     0      0\n",
            "\n",
            "[102408 rows x 7 columns]\n",
            "Medal    Year   Athlete Name          Sport  Bronze  Silver  Gold  Total\n",
            "2457792  2008  ABAS, Stephen       aquatics       0       0     0      0\n",
            "2457793  2008  ABAS, Stephen        archery       0       0     0      0\n",
            "2457794  2008  ABAS, Stephen      athletics       0       0     0      0\n",
            "2457795  2008  ABAS, Stephen       baseball       0       0     0      0\n",
            "2457796  2008  ABAS, Stephen     basketball       0       0     0      0\n",
            "...       ...            ...            ...     ...     ...   ...    ...\n",
            "2560195  2008  ZORN, Zachary      triathlon       0       0     0      0\n",
            "2560196  2008  ZORN, Zachary     tug of war       0       0     0      0\n",
            "2560197  2008  ZORN, Zachary     volleyball       0       0     0      0\n",
            "2560198  2008  ZORN, Zachary  weightlifting       0       0     0      0\n",
            "2560199  2008  ZORN, Zachary      wrestling       0       0     0      0\n",
            "\n",
            "[102408 rows x 7 columns]\n"
          ]
        }
      ]
    },
    {
      "cell_type": "code",
      "source": [
        "for year, group in table.groupby('Year'):\n",
        "  print(group.sort_values('Total', ascending=False))"
      ],
      "metadata": {
        "id": "mlgTuzU3DF9-",
        "colab": {
          "base_uri": "https://localhost:8080/"
        },
        "outputId": "6f73c71c-7be3-43d2-b130-bb3c5bb6ebd7"
      },
      "execution_count": 10,
      "outputs": [
        {
          "output_type": "stream",
          "name": "stdout",
          "text": [
            "Medal   Year                  Athlete Name          Sport  Bronze  Silver  Gold  Total\n",
            "32642   1896               GARRETT, Robert      athletics       0       2     2      4\n",
            "17988   1896               CONNOLLY, James      athletics       1       1     1      3\n",
            "12616   1896                 BURKE, Thomas      athletics       0       0     2      2\n",
            "16186   1896                 CLARK, Ellery      athletics       0       0     2      2\n",
            "71118   1896                 PAINE, Sumner       shooting       0       1     1      2\n",
            "...      ...                           ...            ...     ...     ...   ...    ...\n",
            "34136   1896                GLASS, Hermann       aquatics       0       0     0      0\n",
            "34135   1896  GLASGOW, Walter Merrill, Jr.      wrestling       0       0     0      0\n",
            "34134   1896  GLASGOW, Walter Merrill, Jr.  weightlifting       0       0     0      0\n",
            "34133   1896  GLASGOW, Walter Merrill, Jr.     volleyball       0       0     0      0\n",
            "102407  1896                 ZORN, Zachary      wrestling       0       0     0      0\n",
            "\n",
            "[102408 rows x 7 columns]\n",
            "Medal   Year               Athlete Name       Sport  Bronze  Silver  Gold  Total\n",
            "193156  1900  TEWKSBURY, Walter B. John   athletics       1       2     2      5\n",
            "107612  1900             BAXTER, Irving   athletics       0       3     2      5\n",
            "154838  1900          KRAENZLEIN, Alvin   athletics       0       0     4      4\n",
            "130154  1900                  EWRY, Ray   athletics       0       0     3      3\n",
            "135050  1900            GARRETT, Robert   athletics       2       0     0      2\n",
            "...      ...                        ...         ...     ...     ...   ...    ...\n",
            "136548  1900             GLASS, Hermann  basketball       0       0     0      0\n",
            "136547  1900             GLASS, Hermann    baseball       0       0     0      0\n",
            "136546  1900             GLASS, Hermann   athletics       0       0     0      0\n",
            "136545  1900             GLASS, Hermann     archery       0       0     0      0\n",
            "204815  1900              ZORN, Zachary   wrestling       0       0     0      0\n",
            "\n",
            "[102408 rows x 7 columns]\n",
            "Medal   Year      Athlete Name       Sport  Bronze  Silver  Gold  Total\n",
            "245424  1904      HEIDA, Anton  gymnastics       0       1     5      6\n",
            "232640  1904     EYSER, George  gymnastics       1       2     3      6\n",
            "229541  1904   DOWNING, Burton     cycling       1       3     2      6\n",
            "249159  1904    HURLEY, Marcus     cycling       1       0     4      5\n",
            "225454  1904  DANIELS, Charles    aquatics       1       1     3      5\n",
            "...      ...               ...         ...     ...     ...   ...    ...\n",
            "238991  1904   GLASS, Kimberly      boxing       0       0     0      0\n",
            "238990  1904   GLASS, Kimberly  basketball       0       0     0      0\n",
            "238989  1904   GLASS, Kimberly    baseball       0       0     0      0\n",
            "238988  1904   GLASS, Kimberly   athletics       0       0     0      0\n",
            "307223  1904     ZORN, Zachary   wrestling       0       0     0      0\n",
            "\n",
            "[102408 rows x 7 columns]\n",
            "Medal   Year           Athlete Name          Sport  Bronze  Silver  Gold  Total\n",
            "390390  1908       SHEPPARD, Melvin      athletics       0       0     3      3\n",
            "390458  1908       SHERIDAN, Martin      athletics       1       0     2      3\n",
            "342098  1908   GORMAN, James Edward       shooting       1       0     1      2\n",
            "327862  1908       DANIELS, Charles       aquatics       1       0     1      2\n",
            "339832  1908  GARRELS, John Carlyle      athletics       1       1     0      2\n",
            "...      ...                    ...            ...     ...     ...   ...    ...\n",
            "341369  1908         GLASS, Hermann        fencing       0       0     0      0\n",
            "341368  1908         GLASS, Hermann     equestrian       0       0     0      0\n",
            "341367  1908         GLASS, Hermann        cycling       0       0     0      0\n",
            "341366  1908         GLASS, Hermann  canoe / kayak       0       0     0      0\n",
            "409631  1908          ZORN, Zachary      wrestling       0       0     0      0\n",
            "\n",
            "[102408 rows x 7 columns]\n",
            "Medal   Year           Athlete Name       Sport  Bronze  Silver  Gold  Total\n",
            "480240  1912  OSBURN, Carl Townsend    shooting       1       2     1      4\n",
            "496186  1912      SPROUT, Warren A.    shooting       2       0     1      3\n",
            "463342  1912        LANE, Alfred P.    shooting       0       0     3      3\n",
            "464974  1912   LEUSHNER, William F.    shooting       2       1     0      3\n",
            "451884  1912     HIRD, Frederick S.    shooting       2       0     1      3\n",
            "...      ...                    ...         ...     ...     ...   ...    ...\n",
            "443772  1912         GLASS, Hermann  basketball       0       0     0      0\n",
            "443771  1912         GLASS, Hermann    baseball       0       0     0      0\n",
            "443770  1912         GLASS, Hermann   athletics       0       0     0      0\n",
            "443769  1912         GLASS, Hermann     archery       0       0     0      0\n",
            "512039  1912          ZORN, Zachary   wrestling       0       0     0      0\n",
            "\n",
            "[102408 rows x 7 columns]\n",
            "Medal   Year              Athlete Name         Sport  Bronze  Silver  Gold  Total\n",
            "598424  1920    SPOONER, Lloyd Spencer      shooting       2       1     4      7\n",
            "566940  1920               LEE, Willis      shooting       1       1     5      7\n",
            "582648  1920     OSBURN, Carl Townsend      shooting       1       1     4      6\n",
            "581186  1920  NUESSLEIN, Lawrence Adam      shooting       2       1     2      5\n",
            "540522  1920            FENTON, Dennis      shooting       1       0     3      4\n",
            "...      ...                       ...           ...     ...     ...   ...    ...\n",
            "546192  1920            GLASS, Hermann          judo       0       0     0      0\n",
            "546191  1920            GLASS, Hermann  jeu de paume       0       0     0      0\n",
            "546190  1920            GLASS, Hermann    ice hockey       0       0     0      0\n",
            "546189  1920            GLASS, Hermann        hockey       0       0     0      0\n",
            "614447  1920             ZORN, Zachary     wrestling       0       0     0      0\n",
            "\n",
            "[102408 rows x 7 columns]\n",
            "Medal   Year              Athlete Name      Sport  Bronze  Silver  Gold  Total\n",
            "710940  1924       WEISSMULLER, Johnny   aquatics       1       0     3      4\n",
            "640662  1924          EDERLE, Gertrude   aquatics       2       0     1      3\n",
            "690602  1924         RICHARDS, Vincent     tennis       0       1     2      3\n",
            "633342  1924  COULTER, Raymond Orville   shooting       1       0     1      2\n",
            "695336  1924           SCHOLZ, Jackson  athletics       0       1     1      2\n",
            "...      ...                       ...        ...     ...     ...   ...    ...\n",
            "648606  1924            GLASS, Hermann      rugby       0       0     0      0\n",
            "648605  1924            GLASS, Hermann     rowing       0       0     0      0\n",
            "648604  1924            GLASS, Hermann      roque       0       0     0      0\n",
            "648603  1924            GLASS, Hermann       polo       0       0     0      0\n",
            "716855  1924             ZORN, Zachary  wrestling       0       0     0      0\n",
            "\n",
            "[102408 rows x 7 columns]\n",
            "Medal   Year                      Athlete Name              Sport  Bronze  Silver  Gold  Total\n",
            "787508  1928            OSIPOWICH, Albina Lucy           aquatics       0       0     2      2\n",
            "739704  1928  DESJARDINS, Ulise Joseph \"Peter\"           aquatics       0       0     2      2\n",
            "734230  1928               COLEMAN, Georgia V.           aquatics       1       1     0      2\n",
            "749088  1928           GALITZEN, Michael Riley           aquatics       1       1     0      2\n",
            "794072  1928               ROBINSON, Elizabeth          athletics       0       1     1      2\n",
            "...      ...                               ...                ...     ...     ...   ...    ...\n",
            "751010  1928                    GLASS, Hermann  modern pentathlon       0       0     0      0\n",
            "751009  1928                    GLASS, Hermann           lacrosse       0       0     0      0\n",
            "751008  1928                    GLASS, Hermann               judo       0       0     0      0\n",
            "751007  1928                    GLASS, Hermann       jeu de paume       0       0     0      0\n",
            "819263  1928                     ZORN, Zachary          wrestling       0       0     0      0\n",
            "\n",
            "[102408 rows x 7 columns]\n",
            "Medal   Year            Athlete Name          Sport  Bronze  Silver  Gold  Total\n",
            "877370  1932         MADISON, Helene       aquatics       0       0     3      3\n",
            "842454  1932      DIDRIKSON, Mildred      athletics       0       1     2      3\n",
            "836638  1932     COLEMAN, Georgia V.       aquatics       0       1     1      2\n",
            "913922  1932  VON BREMEN, Wilhelmina      athletics       1       0     1      2\n",
            "833818  1932    CARR, William Arthur      athletics       0       0     2      2\n",
            "...      ...                     ...            ...     ...     ...   ...    ...\n",
            "853432  1932          GLASS, Hermann  weightlifting       0       0     0      0\n",
            "853431  1932          GLASS, Hermann     volleyball       0       0     0      0\n",
            "853430  1932          GLASS, Hermann     tug of war       0       0     0      0\n",
            "853429  1932          GLASS, Hermann      triathlon       0       0     0      0\n",
            "921671  1932           ZORN, Zachary      wrestling       0       0     0      0\n",
            "\n",
            "[102408 rows x 7 columns]\n",
            "Medal    Year             Athlete Name       Sport  Bronze  Silver  Gold  Total\n",
            "992530   1936             OWENS, Jesse   athletics       0       0     4      4\n",
            "984674   1936          MEDICA, Jack C.    aquatics       0       2     1      3\n",
            "985322   1936          METCALFE, Ralph   athletics       0       1     1      2\n",
            "996710   1936  RAWLS, Katherine Louise    aquatics       1       1     0      2\n",
            "995724   1936    POYNTON-HILL, Dorothy    aquatics       1       0     1      2\n",
            "...       ...                      ...         ...     ...     ...   ...    ...\n",
            "955819   1936           GLASS, Hermann        golf       0       0     0      0\n",
            "955818   1936           GLASS, Hermann    football       0       0     0      0\n",
            "955817   1936           GLASS, Hermann     fencing       0       0     0      0\n",
            "955816   1936           GLASS, Hermann  equestrian       0       0     0      0\n",
            "1024079  1936            ZORN, Zachary   wrestling       0       0     0      0\n",
            "\n",
            "[102408 rows x 7 columns]\n",
            "Medal    Year               Athlete Name       Sport  Bronze  Silver  Gold  Total\n",
            "1065364  1948       HENRY, Frank Sherman  equestrian       0       2     1      3\n",
            "1121560  1948  WHITFIELD, Malvin Groston   athletics       1       0     2      3\n",
            "1086402  1948    MCLANE, James Price Jr.    aquatics       0       1     2      3\n",
            "1051724  1948      EWELL, Harold Norwood   athletics       0       2     1      3\n",
            "1044310  1948      CURTIS, Ann Elisabeth    aquatics       0       1     2      3\n",
            "...       ...                        ...         ...     ...     ...   ...    ...\n",
            "1058240  1948             GLASS, Hermann    shooting       0       0     0      0\n",
            "1058239  1948             GLASS, Hermann     sailing       0       0     0      0\n",
            "1058238  1948             GLASS, Hermann       rugby       0       0     0      0\n",
            "1058237  1948             GLASS, Hermann      rowing       0       0     0      0\n",
            "1126487  1948              ZORN, Zachary   wrestling       0       0     0      0\n",
            "\n",
            "[102408 rows x 7 columns]\n",
            "Medal    Year               Athlete Name       Sport  Bronze  Silver  Gold  Total\n",
            "1178576  1952        KONNO, Ford Hiroshi    aquatics       0       1     2      3\n",
            "1213428  1952  STANFIELD, Andrew William   athletics       0       0     2      2\n",
            "1192212  1952   MOORE, Charles Hewes Jr.   athletics       0       1     1      2\n",
            "1186228  1952      MATSON, Oliver Adrian   athletics       1       1     0      2\n",
            "1176094  1952     KAWAMOTO, Evelyn Tokue    aquatics       2       0     0      2\n",
            "...       ...                        ...         ...     ...     ...   ...    ...\n",
            "1160638  1952             GLASS, Hermann  ice hockey       0       0     0      0\n",
            "1160637  1952             GLASS, Hermann      hockey       0       0     0      0\n",
            "1160636  1952             GLASS, Hermann  gymnastics       0       0     0      0\n",
            "1160635  1952             GLASS, Hermann        golf       0       0     0      0\n",
            "1228895  1952              ZORN, Zachary   wrestling       0       0     0      0\n",
            "\n",
            "[102408 rows x 7 columns]\n",
            "Medal    Year           Athlete Name              Sport  Bronze  Silver  Gold  Total\n",
            "1295504  1956  MORROW, Robert Joseph          athletics       0       0     3      3\n",
            "1239198  1956   BREEN, George Thomas           aquatics       2       1     0      3\n",
            "1232536  1956    BAKER, Walter Thane          athletics       1       1     1      3\n",
            "1289858  1956    MCCORMICK, Patricia           aquatics       0       0     2      2\n",
            "1287580  1956   MANN, Shelley Isabel           aquatics       0       1     1      2\n",
            "...       ...                    ...                ...     ...     ...   ...    ...\n",
            "1263051  1956         GLASS, Hermann               polo       0       0     0      0\n",
            "1263050  1956         GLASS, Hermann  modern pentathlon       0       0     0      0\n",
            "1263049  1956         GLASS, Hermann           lacrosse       0       0     0      0\n",
            "1263048  1956         GLASS, Hermann               judo       0       0     0      0\n",
            "1331303  1956          ZORN, Zachary          wrestling       0       0     0      0\n",
            "\n",
            "[102408 rows x 7 columns]\n",
            "Medal    Year                 Athlete Name         Sport  Bronze  Silver  Gold  Total\n",
            "1425994  1960  VON SALTZA, Susan Christina      aquatics       0       1     3      4\n",
            "1409914  1960               RUDOLPH, Wilma     athletics       0       0     3      3\n",
            "1359388  1960      FARRELL, Felix Geoffrey      aquatics       0       0     2      2\n",
            "1385364  1960         LARSON, Lance Melvin      aquatics       0       1     1      2\n",
            "1423886  1960        TROY, Michael Francis      aquatics       0       0     2      2\n",
            "...       ...                          ...           ...     ...     ...   ...    ...\n",
            "1365455  1960               GLASS, Hermann  jeu de paume       0       0     0      0\n",
            "1365454  1960               GLASS, Hermann    ice hockey       0       0     0      0\n",
            "1365453  1960               GLASS, Hermann        hockey       0       0     0      0\n",
            "1365452  1960               GLASS, Hermann    gymnastics       0       0     0      0\n",
            "1433711  1960                ZORN, Zachary     wrestling       0       0     0      0\n",
            "\n",
            "[102408 rows x 7 columns]\n",
            "Medal    Year                Athlete Name      Sport  Bronze  Silver  Gold  Total\n",
            "1514564  1964  SCHOLLANDER, Donald Arthur   aquatics       0       0     4      4\n",
            "1460232  1964             ELLIS, Kathleen   aquatics       2       0     2      4\n",
            "1522282  1964       STOUDER, Sharon Marie   aquatics       0       1     3      4\n",
            "1495424  1964        MCGUIRE, Edith Marie  athletics       0       2     1      3\n",
            "1450100  1964       CLARK, Stephen Edward   aquatics       0       0     3      3\n",
            "...       ...                         ...        ...     ...     ...   ...    ...\n",
            "1467873  1964              GLASS, Hermann    skating       0       0     0      0\n",
            "1467872  1964              GLASS, Hermann   shooting       0       0     0      0\n",
            "1467871  1964              GLASS, Hermann    sailing       0       0     0      0\n",
            "1467870  1964              GLASS, Hermann      rugby       0       0     0      0\n",
            "1536119  1964               ZORN, Zachary  wrestling       0       0     0      0\n",
            "\n",
            "[102408 rows x 7 columns]\n",
            "Medal    Year               Athlete Name          Sport  Bronze  Silver  Gold  Total\n",
            "1622412  1968                SPITZ, Mark       aquatics       1       1     2      4\n",
            "1577294  1968          HENNE, Jane Margo       aquatics       1       1     2      4\n",
            "1608234  1968       PEDERSEN, Susan Jane       aquatics       0       2     2      4\n",
            "1577804  1968  HICKCOX, Charles Buchanan       aquatics       0       1     3      4\n",
            "1556724  1968    DANIEL, Eleanor Suzanne       aquatics       1       1     1      3\n",
            "...       ...                        ...            ...     ...     ...   ...    ...\n",
            "1570264  1968             GLASS, Hermann     equestrian       0       0     0      0\n",
            "1570263  1968             GLASS, Hermann        cycling       0       0     0      0\n",
            "1570262  1968             GLASS, Hermann  canoe / kayak       0       0     0      0\n",
            "1570261  1968             GLASS, Hermann         boxing       0       0     0      0\n",
            "1638527  1968              ZORN, Zachary      wrestling       0       0     0      0\n",
            "\n",
            "[102408 rows x 7 columns]\n",
            "Medal    Year               Athlete Name              Sport  Bronze  Silver  Gold  Total\n",
            "1724820  1972                SPITZ, Mark           aquatics       0       0     7      7\n",
            "1679158  1972    HEIDENREICH, Jerry Alan           aquatics       1       1     2      4\n",
            "1641656  1972  BABASHOFF, Shirley Farber           aquatics       0       2     1      3\n",
            "1725398  1972      STAMM, Michael Eugene           aquatics       0       2     1      3\n",
            "1644818  1972     BELOTE, Melissa Louise           aquatics       0       0     3      3\n",
            "...       ...                        ...                ...     ...     ...   ...    ...\n",
            "1672682  1972             GLASS, Hermann  modern pentathlon       0       0     0      0\n",
            "1672681  1972             GLASS, Hermann           lacrosse       0       0     0      0\n",
            "1672680  1972             GLASS, Hermann               judo       0       0     0      0\n",
            "1672679  1972             GLASS, Hermann       jeu de paume       0       0     0      0\n",
            "1740935  1972              ZORN, Zachary          wrestling       0       0     0      0\n",
            "\n",
            "[102408 rows x 7 columns]\n",
            "Medal    Year               Athlete Name         Sport  Bronze  Silver  Gold  Total\n",
            "1744064  1976  BABASHOFF, Shirley Farber      aquatics       0       4     1      5\n",
            "1808732  1976       NABER, John Phillips      aquatics       0       1     4      5\n",
            "1806420  1976     MONTGOMERY, James Paul      aquatics       1       0     3      4\n",
            "1781838  1976    HENCKEN, John Frederick      aquatics       0       1     2      3\n",
            "1772760  1976  FURNISS, Bruce Macfarlane      aquatics       0       0     2      2\n",
            "...       ...                        ...           ...     ...     ...   ...    ...\n",
            "1775087  1976             GLASS, Hermann  jeu de paume       0       0     0      0\n",
            "1775086  1976             GLASS, Hermann    ice hockey       0       0     0      0\n",
            "1775085  1976             GLASS, Hermann        hockey       0       0     0      0\n",
            "1775084  1976             GLASS, Hermann    gymnastics       0       0     0      0\n",
            "1843343  1976              ZORN, Zachary     wrestling       0       0     0      0\n",
            "\n",
            "[102408 rows x 7 columns]\n",
            "Medal    Year            Athlete Name         Sport  Bronze  Silver  Gold  Total\n",
            "1919142  1984        RETTON, Mary-Lou    gymnastics       2       2     1      5\n",
            "1898800  1984             LEWIS, Carl     athletics       0       0     4      4\n",
            "1886014  1984    HOGSHEAD, Nancy Lynn      aquatics       0       1     3      4\n",
            "1876234  1984   GAYLORD, Mitchell Jay    gymnastics       2       1     1      4\n",
            "1906120  1984  MCNAMARA, Julianne Lyn    gymnastics       0       2     1      3\n",
            "...       ...                     ...           ...     ...     ...   ...    ...\n",
            "1877530  1984         GLASS, Kimberly          judo       0       0     0      0\n",
            "1877529  1984         GLASS, Kimberly  jeu de paume       0       0     0      0\n",
            "1877528  1984         GLASS, Kimberly    ice hockey       0       0     0      0\n",
            "1877527  1984         GLASS, Kimberly        hockey       0       0     0      0\n",
            "1945751  1984           ZORN, Zachary     wrestling       0       0     0      0\n",
            "\n",
            "[102408 rows x 7 columns]\n",
            "Medal    Year                 Athlete Name       Sport  Bronze  Silver  Gold  Total\n",
            "1953334  1988              BIONDI, Matthew    aquatics       1       1     5      7\n",
            "1982168  1988    GRIFFITH-JOYNER, Florence   athletics       0       1     3      4\n",
            "1991142  1988  JACOBS, Christopher Charles    aquatics       0       1     2      3\n",
            "1973088  1988                 EVANS, Janet    aquatics       0       0     3      3\n",
            "2001208  1988                  LEWIS, Carl   athletics       0       1     2      3\n",
            "...       ...                          ...         ...     ...     ...   ...    ...\n",
            "1979919  1988               GLASS, Hermann  volleyball       0       0     0      0\n",
            "1979918  1988               GLASS, Hermann  tug of war       0       0     0      0\n",
            "1979917  1988               GLASS, Hermann   triathlon       0       0     0      0\n",
            "1979916  1988               GLASS, Hermann      tennis       0       0     0      0\n",
            "2048159  1988                ZORN, Zachary   wrestling       0       0     0      0\n",
            "\n",
            "[102408 rows x 7 columns]\n",
            "Medal    Year     Athlete Name       Sport  Bronze  Silver  Gold  Total\n",
            "2112636  1992  MILLER, Shannon  gymnastics       3       2     0      5\n",
            "2127856  1992  SANDERS, Summer    aquatics       1       1     2      4\n",
            "2118506  1992       OLSEN, Jon    aquatics       1       0     2      3\n",
            "2115990  1992      NALL, Anita    aquatics       1       1     1      3\n",
            "2140166  1992   TORRENCE, Gwen   athletics       0       1     2      3\n",
            "...       ...              ...         ...     ...     ...   ...    ...\n",
            "2082326  1992   GLASS, Hermann  tug of war       0       0     0      0\n",
            "2082325  1992   GLASS, Hermann   triathlon       0       0     0      0\n",
            "2082324  1992   GLASS, Hermann      tennis       0       0     0      0\n",
            "2082323  1992   GLASS, Hermann   taekwondo       0       0     0      0\n",
            "2150567  1992    ZORN, Zachary   wrestling       0       0     0      0\n",
            "\n",
            "[102408 rows x 7 columns]\n",
            "Medal    Year    Athlete Name       Sport  Bronze  Silver  Gold  Total\n",
            "2188206  1996  HALL, Gary Jr.    aquatics       0       2     2      4\n",
            "2210068  1996  MARTINO, Angel    aquatics       2       0     2      4\n",
            "2244204  1996  VAN DYKEN, Amy    aquatics       0       0     4      4\n",
            "2155940  1996   BEARD, Amanda    aquatics       0       2     1      3\n",
            "2172022  1996     DAVIS, Josh    aquatics       0       0     3      3\n",
            "...       ...             ...         ...     ...     ...   ...    ...\n",
            "2184734  1996  GLASS, Hermann  tug of war       0       0     0      0\n",
            "2184733  1996  GLASS, Hermann   triathlon       0       0     0      0\n",
            "2184732  1996  GLASS, Hermann      tennis       0       0     0      0\n",
            "2184731  1996  GLASS, Hermann   taekwondo       0       0     0      0\n",
            "2252975  1996   ZORN, Zachary   wrestling       0       0     0      0\n",
            "\n",
            "[102408 rows x 7 columns]\n",
            "Medal    Year        Athlete Name       Sport  Bronze  Silver  Gold  Total\n",
            "2345014  2000        TORRES, Dara    aquatics       3       0     2      5\n",
            "2290614  2000      HALL, Gary Jr.    aquatics       1       1     2      4\n",
            "2343994  2000     THOMPSON, Jenny    aquatics       1       0     3      4\n",
            "2305540  2000  KRAYZELBURG, Lenny    aquatics       0       0     3      3\n",
            "2320296  2000         MUNZ, Diana    aquatics       0       1     1      2\n",
            "...       ...                 ...         ...     ...     ...   ...    ...\n",
            "2287143  2000      GLASS, Hermann  volleyball       0       0     0      0\n",
            "2287142  2000      GLASS, Hermann  tug of war       0       0     0      0\n",
            "2287141  2000      GLASS, Hermann   triathlon       0       0     0      0\n",
            "2287140  2000      GLASS, Hermann      tennis       0       0     0      0\n",
            "2355383  2000       ZORN, Zachary   wrestling       0       0     0      0\n",
            "\n",
            "[102408 rows x 7 columns]\n",
            "Medal    Year       Athlete Name       Sport  Bronze  Silver  Gold  Total\n",
            "2428246  2004    PHELPS, Michael    aquatics       2       0     6      8\n",
            "2374220  2004  COUGHLIN, Natalie    aquatics       1       2     2      5\n",
            "2427000  2004   PATTERSON, Carly  gymnastics       0       2     1      3\n",
            "2360756  2004      BEARD, Amanda    aquatics       0       2     1      3\n",
            "2393872  2004    HANSEN, Brendan    aquatics       1       1     1      3\n",
            "...       ...                ...         ...     ...     ...   ...    ...\n",
            "2389545  2004     GLASS, Hermann     skating       0       0     0      0\n",
            "2389544  2004     GLASS, Hermann    shooting       0       0     0      0\n",
            "2389543  2004     GLASS, Hermann     sailing       0       0     0      0\n",
            "2389542  2004     GLASS, Hermann       rugby       0       0     0      0\n",
            "2457791  2004      ZORN, Zachary   wrestling       0       0     0      0\n",
            "\n",
            "[102408 rows x 7 columns]\n",
            "Medal    Year       Athlete Name       Sport  Bronze  Silver  Gold  Total\n",
            "2530654  2008    PHELPS, Michael    aquatics       0       0     8      8\n",
            "2476628  2008  COUGHLIN, Natalie    aquatics       3       2     1      6\n",
            "2514142  2008     LIUKIN, Nastia  gymnastics       1       3     1      5\n",
            "2514368  2008       LOCHTE, Ryan    aquatics       2       0     2      4\n",
            "2505642  2008     JOHNSON, Shawn  gymnastics       0       3     1      4\n",
            "...       ...                ...         ...     ...     ...   ...    ...\n",
            "2491964  2008    GLASS, Kimberly   athletics       0       0     0      0\n",
            "2491963  2008    GLASS, Kimberly     archery       0       0     0      0\n",
            "2491962  2008    GLASS, Kimberly    aquatics       0       0     0      0\n",
            "2491961  2008     GLASS, Hermann   wrestling       0       0     0      0\n",
            "2560199  2008      ZORN, Zachary   wrestling       0       0     0      0\n",
            "\n",
            "[102408 rows x 7 columns]\n"
          ]
        }
      ]
    },
    {
      "cell_type": "code",
      "source": [
        "for year, group in table.groupby('Year'):\n",
        "  print(group.sort_values(['Total', 'Gold', 'Silver', 'Bronze', 'Athlete Name'], ascending=False))"
      ],
      "metadata": {
        "id": "EhbtvlD7DF6d",
        "colab": {
          "base_uri": "https://localhost:8080/"
        },
        "outputId": "ab6d77eb-8ab9-4e75-8474-9a578c943301"
      },
      "execution_count": 11,
      "outputs": [
        {
          "output_type": "stream",
          "name": "stdout",
          "text": [
            "Medal  Year     Athlete Name          Sport  Bronze  Silver  Gold  Total\n",
            "32642  1896  GARRETT, Robert      athletics       0       2     2      4\n",
            "17988  1896  CONNOLLY, James      athletics       1       1     1      3\n",
            "16186  1896    CLARK, Ellery      athletics       0       0     2      2\n",
            "12616  1896    BURKE, Thomas      athletics       0       0     2      2\n",
            "71118  1896    PAINE, Sumner       shooting       0       1     1      2\n",
            "...     ...              ...            ...     ...     ...   ...    ...\n",
            "29     1896    ABAS, Stephen      triathlon       0       0     0      0\n",
            "30     1896    ABAS, Stephen     tug of war       0       0     0      0\n",
            "31     1896    ABAS, Stephen     volleyball       0       0     0      0\n",
            "32     1896    ABAS, Stephen  weightlifting       0       0     0      0\n",
            "33     1896    ABAS, Stephen      wrestling       0       0     0      0\n",
            "\n",
            "[102408 rows x 7 columns]\n",
            "Medal   Year               Athlete Name          Sport  Bronze  Silver  Gold  Total\n",
            "107612  1900             BAXTER, Irving      athletics       0       3     2      5\n",
            "193156  1900  TEWKSBURY, Walter B. John      athletics       1       2     2      5\n",
            "154838  1900          KRAENZLEIN, Alvin      athletics       0       0     4      4\n",
            "130154  1900                  EWRY, Ray      athletics       0       0     3      3\n",
            "176700  1900           PRINSTEIN, Meyer      athletics       0       1     1      2\n",
            "...      ...                        ...            ...     ...     ...   ...    ...\n",
            "102437  1900              ABAS, Stephen      triathlon       0       0     0      0\n",
            "102438  1900              ABAS, Stephen     tug of war       0       0     0      0\n",
            "102439  1900              ABAS, Stephen     volleyball       0       0     0      0\n",
            "102440  1900              ABAS, Stephen  weightlifting       0       0     0      0\n",
            "102441  1900              ABAS, Stephen      wrestling       0       0     0      0\n",
            "\n",
            "[102408 rows x 7 columns]\n",
            "Medal   Year      Athlete Name          Sport  Bronze  Silver  Gold  Total\n",
            "245424  1904      HEIDA, Anton     gymnastics       0       1     5      6\n",
            "232640  1904     EYSER, George     gymnastics       1       2     3      6\n",
            "229541  1904   DOWNING, Burton        cycling       1       3     2      6\n",
            "249159  1904    HURLEY, Marcus        cycling       1       0     4      5\n",
            "225454  1904  DANIELS, Charles       aquatics       1       1     3      5\n",
            "...      ...               ...            ...     ...     ...   ...    ...\n",
            "204845  1904     ABAS, Stephen      triathlon       0       0     0      0\n",
            "204846  1904     ABAS, Stephen     tug of war       0       0     0      0\n",
            "204847  1904     ABAS, Stephen     volleyball       0       0     0      0\n",
            "204848  1904     ABAS, Stephen  weightlifting       0       0     0      0\n",
            "204849  1904     ABAS, Stephen      wrestling       0       0     0      0\n",
            "\n",
            "[102408 rows x 7 columns]\n",
            "Medal   Year                  Athlete Name          Sport  Bronze  Silver  Gold  Total\n",
            "390390  1908              SHEPPARD, Melvin      athletics       0       0     3      3\n",
            "390458  1908              SHERIDAN, Martin      athletics       1       0     2      3\n",
            "334970  1908                     EWRY, Ray      athletics       0       0     2      2\n",
            "322140  1908  CASEY, Kellog Kennon Venable       shooting       0       1     1      2\n",
            "342098  1908          GORMAN, James Edward       shooting       1       0     1      2\n",
            "...      ...                           ...            ...     ...     ...   ...    ...\n",
            "307253  1908                 ABAS, Stephen      triathlon       0       0     0      0\n",
            "307254  1908                 ABAS, Stephen     tug of war       0       0     0      0\n",
            "307255  1908                 ABAS, Stephen     volleyball       0       0     0      0\n",
            "307256  1908                 ABAS, Stephen  weightlifting       0       0     0      0\n",
            "307257  1908                 ABAS, Stephen      wrestling       0       0     0      0\n",
            "\n",
            "[102408 rows x 7 columns]\n",
            "Medal   Year           Athlete Name          Sport  Bronze  Silver  Gold  Total\n",
            "480240  1912  OSBURN, Carl Townsend       shooting       1       2     1      4\n",
            "463342  1912        LANE, Alfred P.       shooting       0       0     3      3\n",
            "496186  1912      SPROUT, Warren A.       shooting       2       0     1      3\n",
            "451884  1912     HIRD, Frederick S.       shooting       2       0     1      3\n",
            "464974  1912   LEUSHNER, William F.       shooting       2       1     0      3\n",
            "...      ...                    ...            ...     ...     ...   ...    ...\n",
            "409661  1912          ABAS, Stephen      triathlon       0       0     0      0\n",
            "409662  1912          ABAS, Stephen     tug of war       0       0     0      0\n",
            "409663  1912          ABAS, Stephen     volleyball       0       0     0      0\n",
            "409664  1912          ABAS, Stephen  weightlifting       0       0     0      0\n",
            "409665  1912          ABAS, Stephen      wrestling       0       0     0      0\n",
            "\n",
            "[102408 rows x 7 columns]\n",
            "Medal   Year              Athlete Name          Sport  Bronze  Silver  Gold  Total\n",
            "566940  1920               LEE, Willis       shooting       1       1     5      7\n",
            "598424  1920    SPOONER, Lloyd Spencer       shooting       2       1     4      7\n",
            "582648  1920     OSBURN, Carl Townsend       shooting       1       1     4      6\n",
            "581186  1920  NUESSLEIN, Lawrence Adam       shooting       2       1     2      5\n",
            "540522  1920            FENTON, Dennis       shooting       1       0     3      4\n",
            "...      ...                       ...            ...     ...     ...   ...    ...\n",
            "512069  1920             ABAS, Stephen      triathlon       0       0     0      0\n",
            "512070  1920             ABAS, Stephen     tug of war       0       0     0      0\n",
            "512071  1920             ABAS, Stephen     volleyball       0       0     0      0\n",
            "512072  1920             ABAS, Stephen  weightlifting       0       0     0      0\n",
            "512073  1920             ABAS, Stephen      wrestling       0       0     0      0\n",
            "\n",
            "[102408 rows x 7 columns]\n",
            "Medal   Year              Athlete Name          Sport  Bronze  Silver  Gold  Total\n",
            "710940  1924       WEISSMULLER, Johnny       aquatics       1       0     3      4\n",
            "690602  1924         RICHARDS, Vincent         tennis       0       1     2      3\n",
            "640662  1924          EDERLE, Gertrude       aquatics       2       0     1      3\n",
            "713858  1924        WILLS-MOODY, Helen         tennis       0       0     2      2\n",
            "712362  1924  WIGHTMAN, Hazel Virginia         tennis       0       0     2      2\n",
            "...      ...                       ...            ...     ...     ...   ...    ...\n",
            "614477  1924             ABAS, Stephen      triathlon       0       0     0      0\n",
            "614478  1924             ABAS, Stephen     tug of war       0       0     0      0\n",
            "614479  1924             ABAS, Stephen     volleyball       0       0     0      0\n",
            "614480  1924             ABAS, Stephen  weightlifting       0       0     0      0\n",
            "614481  1924             ABAS, Stephen      wrestling       0       0     0      0\n",
            "\n",
            "[102408 rows x 7 columns]\n",
            "Medal   Year                      Athlete Name          Sport  Bronze  Silver  Gold  Total\n",
            "813348  1928               WEISSMULLER, Johnny       aquatics       0       0     2      2\n",
            "787508  1928            OSIPOWICH, Albina Lucy       aquatics       0       0     2      2\n",
            "785672  1928                  NORELIUS, Martha       aquatics       0       0     2      2\n",
            "768774  1928              KOJAC, George Harold       aquatics       0       0     2      2\n",
            "739704  1928  DESJARDINS, Ulise Joseph \"Peter\"       aquatics       0       0     2      2\n",
            "...      ...                               ...            ...     ...     ...   ...    ...\n",
            "716885  1928                     ABAS, Stephen      triathlon       0       0     0      0\n",
            "716886  1928                     ABAS, Stephen     tug of war       0       0     0      0\n",
            "716887  1928                     ABAS, Stephen     volleyball       0       0     0      0\n",
            "716888  1928                     ABAS, Stephen  weightlifting       0       0     0      0\n",
            "716889  1928                     ABAS, Stephen      wrestling       0       0     0      0\n",
            "\n",
            "[102408 rows x 7 columns]\n",
            "Medal   Year          Athlete Name          Sport  Bronze  Silver  Gold  Total\n",
            "877370  1932       MADISON, Helene       aquatics       0       0     3      3\n",
            "842454  1932    DIDRIKSON, Mildred      athletics       0       1     2      3\n",
            "910964  1932          TOLAN, Eddie      athletics       0       0     2      2\n",
            "833818  1932  CARR, William Arthur      athletics       0       0     2      2\n",
            "910494  1932  THOMSON, Earl Foster     equestrian       0       1     1      2\n",
            "...      ...                   ...            ...     ...     ...   ...    ...\n",
            "819293  1932         ABAS, Stephen      triathlon       0       0     0      0\n",
            "819294  1932         ABAS, Stephen     tug of war       0       0     0      0\n",
            "819295  1932         ABAS, Stephen     volleyball       0       0     0      0\n",
            "819296  1932         ABAS, Stephen  weightlifting       0       0     0      0\n",
            "819297  1932         ABAS, Stephen      wrestling       0       0     0      0\n",
            "\n",
            "[102408 rows x 7 columns]\n",
            "Medal    Year             Athlete Name          Sport  Bronze  Silver  Gold  Total\n",
            "992530   1936             OWENS, Jesse      athletics       0       0     4      4\n",
            "984674   1936          MEDICA, Jack C.       aquatics       0       2     1      3\n",
            "1009360  1936  STEPHENS, Helen Herring      athletics       0       0     2      2\n",
            "1017484  1936          WAYNE, Marshall       aquatics       0       1     1      2\n",
            "985322   1936          METCALFE, Ralph      athletics       0       1     1      2\n",
            "...       ...                      ...            ...     ...     ...   ...    ...\n",
            "921701   1936            ABAS, Stephen      triathlon       0       0     0      0\n",
            "921702   1936            ABAS, Stephen     tug of war       0       0     0      0\n",
            "921703   1936            ABAS, Stephen     volleyball       0       0     0      0\n",
            "921704   1936            ABAS, Stephen  weightlifting       0       0     0      0\n",
            "921705   1936            ABAS, Stephen      wrestling       0       0     0      0\n",
            "\n",
            "[102408 rows x 7 columns]\n",
            "Medal    Year               Athlete Name          Sport  Bronze  Silver  Gold  Total\n",
            "1086402  1948    MCLANE, James Price Jr.       aquatics       0       1     2      3\n",
            "1044310  1948      CURTIS, Ann Elisabeth       aquatics       0       1     2      3\n",
            "1121560  1948  WHITFIELD, Malvin Groston      athletics       1       0     2      3\n",
            "1065364  1948       HENRY, Frank Sherman     equestrian       0       2     1      3\n",
            "1051724  1948      EWELL, Harold Norwood      athletics       0       2     1      3\n",
            "...       ...                        ...            ...     ...     ...   ...    ...\n",
            "1024109  1948              ABAS, Stephen      triathlon       0       0     0      0\n",
            "1024110  1948              ABAS, Stephen     tug of war       0       0     0      0\n",
            "1024111  1948              ABAS, Stephen     volleyball       0       0     0      0\n",
            "1024112  1948              ABAS, Stephen  weightlifting       0       0     0      0\n",
            "1024113  1948              ABAS, Stephen      wrestling       0       0     0      0\n",
            "\n",
            "[102408 rows x 7 columns]\n",
            "Medal    Year               Athlete Name          Sport  Bronze  Silver  Gold  Total\n",
            "1178576  1952        KONNO, Ford Hiroshi       aquatics       0       1     2      3\n",
            "1213428  1952  STANFIELD, Andrew William      athletics       0       0     2      2\n",
            "1202174  1952            REMIGINO, Lindy      athletics       0       0     2      2\n",
            "1187450  1952        MCCORMICK, Patricia       aquatics       0       0     2      2\n",
            "1149882  1952          DILLARD, Harrison      athletics       0       0     2      2\n",
            "...       ...                        ...            ...     ...     ...   ...    ...\n",
            "1126517  1952              ABAS, Stephen      triathlon       0       0     0      0\n",
            "1126518  1952              ABAS, Stephen     tug of war       0       0     0      0\n",
            "1126519  1952              ABAS, Stephen     volleyball       0       0     0      0\n",
            "1126520  1952              ABAS, Stephen  weightlifting       0       0     0      0\n",
            "1126521  1952              ABAS, Stephen      wrestling       0       0     0      0\n",
            "\n",
            "[102408 rows x 7 columns]\n",
            "Medal    Year             Athlete Name          Sport  Bronze  Silver  Gold  Total\n",
            "1295504  1956    MORROW, Robert Joseph      athletics       0       0     3      3\n",
            "1232536  1956      BAKER, Walter Thane      athletics       1       1     1      3\n",
            "1239198  1956     BREEN, George Thomas       aquatics       2       1     0      3\n",
            "1289858  1956      MCCORMICK, Patricia       aquatics       0       0     2      2\n",
            "1275410  1956  JENKINS, Charles Lamont      athletics       0       0     2      2\n",
            "...       ...                      ...            ...     ...     ...   ...    ...\n",
            "1228925  1956            ABAS, Stephen      triathlon       0       0     0      0\n",
            "1228926  1956            ABAS, Stephen     tug of war       0       0     0      0\n",
            "1228927  1956            ABAS, Stephen     volleyball       0       0     0      0\n",
            "1228928  1956            ABAS, Stephen  weightlifting       0       0     0      0\n",
            "1228929  1956            ABAS, Stephen      wrestling       0       0     0      0\n",
            "\n",
            "[102408 rows x 7 columns]\n",
            "Medal    Year                 Athlete Name          Sport  Bronze  Silver  Gold  Total\n",
            "1425994  1960  VON SALTZA, Susan Christina       aquatics       0       1     3      4\n",
            "1409914  1960               RUDOLPH, Wilma      athletics       0       0     3      3\n",
            "1423886  1960        TROY, Michael Francis       aquatics       0       0     2      2\n",
            "1412564  1960        SCHULER, Carolyn Jane       aquatics       0       0     2      2\n",
            "1359388  1960      FARRELL, Felix Geoffrey       aquatics       0       0     2      2\n",
            "...       ...                          ...            ...     ...     ...   ...    ...\n",
            "1331333  1960                ABAS, Stephen      triathlon       0       0     0      0\n",
            "1331334  1960                ABAS, Stephen     tug of war       0       0     0      0\n",
            "1331335  1960                ABAS, Stephen     volleyball       0       0     0      0\n",
            "1331336  1960                ABAS, Stephen  weightlifting       0       0     0      0\n",
            "1331337  1960                ABAS, Stephen      wrestling       0       0     0      0\n",
            "\n",
            "[102408 rows x 7 columns]\n",
            "Medal    Year                Athlete Name          Sport  Bronze  Silver  Gold  Total\n",
            "1514564  1964  SCHOLLANDER, Donald Arthur       aquatics       0       0     4      4\n",
            "1522282  1964       STOUDER, Sharon Marie       aquatics       0       1     3      4\n",
            "1460232  1964             ELLIS, Kathleen       aquatics       2       0     2      4\n",
            "1450100  1964       CLARK, Stephen Edward       aquatics       0       0     3      3\n",
            "1495424  1964        MCGUIRE, Edith Marie      athletics       0       2     1      3\n",
            "...       ...                         ...            ...     ...     ...   ...    ...\n",
            "1433741  1964               ABAS, Stephen      triathlon       0       0     0      0\n",
            "1433742  1964               ABAS, Stephen     tug of war       0       0     0      0\n",
            "1433743  1964               ABAS, Stephen     volleyball       0       0     0      0\n",
            "1433744  1964               ABAS, Stephen  weightlifting       0       0     0      0\n",
            "1433745  1964               ABAS, Stephen      wrestling       0       0     0      0\n",
            "\n",
            "[102408 rows x 7 columns]\n",
            "Medal    Year               Athlete Name          Sport  Bronze  Silver  Gold  Total\n",
            "1577804  1968  HICKCOX, Charles Buchanan       aquatics       0       1     3      4\n",
            "1608234  1968       PEDERSEN, Susan Jane       aquatics       0       2     2      4\n",
            "1622412  1968                SPITZ, Mark       aquatics       1       1     2      4\n",
            "1577294  1968          HENNE, Jane Margo       aquatics       1       1     2      4\n",
            "1599802  1968             MEYER, Deborah       aquatics       0       0     3      3\n",
            "...       ...                        ...            ...     ...     ...   ...    ...\n",
            "1536149  1968              ABAS, Stephen      triathlon       0       0     0      0\n",
            "1536150  1968              ABAS, Stephen     tug of war       0       0     0      0\n",
            "1536151  1968              ABAS, Stephen     volleyball       0       0     0      0\n",
            "1536152  1968              ABAS, Stephen  weightlifting       0       0     0      0\n",
            "1536153  1968              ABAS, Stephen      wrestling       0       0     0      0\n",
            "\n",
            "[102408 rows x 7 columns]\n",
            "Medal    Year             Athlete Name          Sport  Bronze  Silver  Gold  Total\n",
            "1724820  1972              SPITZ, Mark       aquatics       0       0     7      7\n",
            "1679158  1972  HEIDENREICH, Jerry Alan       aquatics       1       1     2      4\n",
            "1706562  1972  NEILSON, Alexandra Lynn       aquatics       0       0     3      3\n",
            "1644818  1972   BELOTE, Melissa Louise       aquatics       0       0     3      3\n",
            "1725398  1972    STAMM, Michael Eugene       aquatics       0       2     1      3\n",
            "...       ...                      ...            ...     ...     ...   ...    ...\n",
            "1638557  1972            ABAS, Stephen      triathlon       0       0     0      0\n",
            "1638558  1972            ABAS, Stephen     tug of war       0       0     0      0\n",
            "1638559  1972            ABAS, Stephen     volleyball       0       0     0      0\n",
            "1638560  1972            ABAS, Stephen  weightlifting       0       0     0      0\n",
            "1638561  1972            ABAS, Stephen      wrestling       0       0     0      0\n",
            "\n",
            "[102408 rows x 7 columns]\n",
            "Medal    Year               Athlete Name          Sport  Bronze  Silver  Gold  Total\n",
            "1808732  1976       NABER, John Phillips       aquatics       0       1     4      5\n",
            "1744064  1976  BABASHOFF, Shirley Farber       aquatics       0       4     1      5\n",
            "1806420  1976     MONTGOMERY, James Paul       aquatics       1       0     3      4\n",
            "1781838  1976    HENCKEN, John Frederick       aquatics       0       1     2      3\n",
            "1835354  1976      VOGEL, Matthew Haynes       aquatics       0       0     2      2\n",
            "...       ...                        ...            ...     ...     ...   ...    ...\n",
            "1740965  1976              ABAS, Stephen      triathlon       0       0     0      0\n",
            "1740966  1976              ABAS, Stephen     tug of war       0       0     0      0\n",
            "1740967  1976              ABAS, Stephen     volleyball       0       0     0      0\n",
            "1740968  1976              ABAS, Stephen  weightlifting       0       0     0      0\n",
            "1740969  1976              ABAS, Stephen      wrestling       0       0     0      0\n",
            "\n",
            "[102408 rows x 7 columns]\n",
            "Medal    Year           Athlete Name          Sport  Bronze  Silver  Gold  Total\n",
            "1919142  1984       RETTON, Mary-Lou     gymnastics       2       2     1      5\n",
            "1898800  1984            LEWIS, Carl      athletics       0       0     4      4\n",
            "1886014  1984   HOGSHEAD, Nancy Lynn       aquatics       0       1     3      4\n",
            "1876234  1984  GAYLORD, Mitchell Jay     gymnastics       2       1     1      4\n",
            "1906278  1984       MEAGHER, Mary T.       aquatics       0       0     3      3\n",
            "...       ...                    ...            ...     ...     ...   ...    ...\n",
            "1843373  1984          ABAS, Stephen      triathlon       0       0     0      0\n",
            "1843374  1984          ABAS, Stephen     tug of war       0       0     0      0\n",
            "1843375  1984          ABAS, Stephen     volleyball       0       0     0      0\n",
            "1843376  1984          ABAS, Stephen  weightlifting       0       0     0      0\n",
            "1843377  1984          ABAS, Stephen      wrestling       0       0     0      0\n",
            "\n",
            "[102408 rows x 7 columns]\n",
            "Medal    Year                 Athlete Name          Sport  Bronze  Silver  Gold  Total\n",
            "1953334  1988              BIONDI, Matthew       aquatics       1       1     5      7\n",
            "1982168  1988    GRIFFITH-JOYNER, Florence      athletics       0       1     3      4\n",
            "1973088  1988                 EVANS, Janet       aquatics       0       0     3      3\n",
            "2001208  1988                  LEWIS, Carl      athletics       0       1     2      3\n",
            "1991142  1988  JACOBS, Christopher Charles       aquatics       0       1     2      3\n",
            "...       ...                          ...            ...     ...     ...   ...    ...\n",
            "1945781  1988                ABAS, Stephen      triathlon       0       0     0      0\n",
            "1945782  1988                ABAS, Stephen     tug of war       0       0     0      0\n",
            "1945783  1988                ABAS, Stephen     volleyball       0       0     0      0\n",
            "1945784  1988                ABAS, Stephen  weightlifting       0       0     0      0\n",
            "1945785  1988                ABAS, Stephen      wrestling       0       0     0      0\n",
            "\n",
            "[102408 rows x 7 columns]\n",
            "Medal    Year          Athlete Name          Sport  Bronze  Silver  Gold  Total\n",
            "2112636  1992       MILLER, Shannon     gymnastics       3       2     0      5\n",
            "2127856  1992       SANDERS, Summer       aquatics       1       1     2      4\n",
            "2085424  1992  HAISLETT, Nicole Lee       aquatics       0       0     3      3\n",
            "2140166  1992        TORRENCE, Gwen      athletics       0       1     2      3\n",
            "2139178  1992       THOMPSON, Jenny       aquatics       0       1     2      3\n",
            "...       ...                   ...            ...     ...     ...   ...    ...\n",
            "2048189  1992         ABAS, Stephen      triathlon       0       0     0      0\n",
            "2048190  1992         ABAS, Stephen     tug of war       0       0     0      0\n",
            "2048191  1992         ABAS, Stephen     volleyball       0       0     0      0\n",
            "2048192  1992         ABAS, Stephen  weightlifting       0       0     0      0\n",
            "2048193  1992         ABAS, Stephen      wrestling       0       0     0      0\n",
            "\n",
            "[102408 rows x 7 columns]\n",
            "Medal    Year     Athlete Name          Sport  Bronze  Silver  Gold  Total\n",
            "2244204  1996   VAN DYKEN, Amy       aquatics       0       0     4      4\n",
            "2188206  1996   HALL, Gary Jr.       aquatics       0       2     2      4\n",
            "2210068  1996   MARTINO, Angel       aquatics       2       0     2      4\n",
            "2241586  1996  THOMPSON, Jenny       aquatics       0       0     3      3\n",
            "2172022  1996      DAVIS, Josh       aquatics       0       0     3      3\n",
            "...       ...              ...            ...     ...     ...   ...    ...\n",
            "2150597  1996    ABAS, Stephen      triathlon       0       0     0      0\n",
            "2150598  1996    ABAS, Stephen     tug of war       0       0     0      0\n",
            "2150599  1996    ABAS, Stephen     volleyball       0       0     0      0\n",
            "2150600  1996    ABAS, Stephen  weightlifting       0       0     0      0\n",
            "2150601  1996    ABAS, Stephen      wrestling       0       0     0      0\n",
            "\n",
            "[102408 rows x 7 columns]\n",
            "Medal    Year        Athlete Name          Sport  Bronze  Silver  Gold  Total\n",
            "2345014  2000        TORRES, Dara       aquatics       3       0     2      5\n",
            "2343994  2000     THOMPSON, Jenny       aquatics       1       0     3      4\n",
            "2290614  2000      HALL, Gary Jr.       aquatics       1       1     2      4\n",
            "2305540  2000  KRAYZELBURG, Lenny       aquatics       0       0     3      3\n",
            "2352250  2000     WILLIAMS, Venus         tennis       0       0     2      2\n",
            "...       ...                 ...            ...     ...     ...   ...    ...\n",
            "2253005  2000       ABAS, Stephen      triathlon       0       0     0      0\n",
            "2253006  2000       ABAS, Stephen     tug of war       0       0     0      0\n",
            "2253007  2000       ABAS, Stephen     volleyball       0       0     0      0\n",
            "2253008  2000       ABAS, Stephen  weightlifting       0       0     0      0\n",
            "2253009  2000       ABAS, Stephen      wrestling       0       0     0      0\n",
            "\n",
            "[102408 rows x 7 columns]\n",
            "Medal    Year       Athlete Name          Sport  Bronze  Silver  Gold  Total\n",
            "2428246  2004    PHELPS, Michael       aquatics       2       0     6      8\n",
            "2374220  2004  COUGHLIN, Natalie       aquatics       1       2     2      5\n",
            "2427566  2004     PEIRSOL, Aaron       aquatics       0       0     3      3\n",
            "2427000  2004   PATTERSON, Carly     gymnastics       0       2     1      3\n",
            "2393476  2004         HAMM, Paul     gymnastics       0       2     1      3\n",
            "...       ...                ...            ...     ...     ...   ...    ...\n",
            "2355412  2004      ABAS, Stephen         tennis       0       0     0      0\n",
            "2355413  2004      ABAS, Stephen      triathlon       0       0     0      0\n",
            "2355414  2004      ABAS, Stephen     tug of war       0       0     0      0\n",
            "2355415  2004      ABAS, Stephen     volleyball       0       0     0      0\n",
            "2355416  2004      ABAS, Stephen  weightlifting       0       0     0      0\n",
            "\n",
            "[102408 rows x 7 columns]\n",
            "Medal    Year       Athlete Name          Sport  Bronze  Silver  Gold  Total\n",
            "2530654  2008    PHELPS, Michael       aquatics       0       0     8      8\n",
            "2476628  2008  COUGHLIN, Natalie       aquatics       3       2     1      6\n",
            "2514142  2008     LIUKIN, Nastia     gymnastics       1       3     1      5\n",
            "2514368  2008       LOCHTE, Ryan       aquatics       2       0     2      4\n",
            "2505642  2008     JOHNSON, Shawn     gymnastics       0       3     1      4\n",
            "...       ...                ...            ...     ...     ...   ...    ...\n",
            "2457821  2008      ABAS, Stephen      triathlon       0       0     0      0\n",
            "2457822  2008      ABAS, Stephen     tug of war       0       0     0      0\n",
            "2457823  2008      ABAS, Stephen     volleyball       0       0     0      0\n",
            "2457824  2008      ABAS, Stephen  weightlifting       0       0     0      0\n",
            "2457825  2008      ABAS, Stephen      wrestling       0       0     0      0\n",
            "\n",
            "[102408 rows x 7 columns]\n"
          ]
        }
      ]
    },
    {
      "cell_type": "code",
      "source": [
        "for year, group in table.groupby('Year'):\n",
        "  print(group.sort_values(['Total', 'Gold', 'Silver', 'Bronze', 'Athlete Name'], ascending=False).head(1))"
      ],
      "metadata": {
        "colab": {
          "base_uri": "https://localhost:8080/"
        },
        "id": "XYplgW07Al82",
        "outputId": "b09c0628-2c46-4310-ce56-d2aa70f38a19"
      },
      "execution_count": 12,
      "outputs": [
        {
          "output_type": "stream",
          "name": "stdout",
          "text": [
            "Medal  Year     Athlete Name      Sport  Bronze  Silver  Gold  Total\n",
            "32642  1896  GARRETT, Robert  athletics       0       2     2      4\n",
            "Medal   Year    Athlete Name      Sport  Bronze  Silver  Gold  Total\n",
            "107612  1900  BAXTER, Irving  athletics       0       3     2      5\n",
            "Medal   Year  Athlete Name       Sport  Bronze  Silver  Gold  Total\n",
            "245424  1904  HEIDA, Anton  gymnastics       0       1     5      6\n",
            "Medal   Year      Athlete Name      Sport  Bronze  Silver  Gold  Total\n",
            "390390  1908  SHEPPARD, Melvin  athletics       0       0     3      3\n",
            "Medal   Year           Athlete Name     Sport  Bronze  Silver  Gold  Total\n",
            "480240  1912  OSBURN, Carl Townsend  shooting       1       2     1      4\n",
            "Medal   Year Athlete Name     Sport  Bronze  Silver  Gold  Total\n",
            "566940  1920  LEE, Willis  shooting       1       1     5      7\n",
            "Medal   Year         Athlete Name     Sport  Bronze  Silver  Gold  Total\n",
            "710940  1924  WEISSMULLER, Johnny  aquatics       1       0     3      4\n",
            "Medal   Year         Athlete Name     Sport  Bronze  Silver  Gold  Total\n",
            "813348  1928  WEISSMULLER, Johnny  aquatics       0       0     2      2\n",
            "Medal   Year     Athlete Name     Sport  Bronze  Silver  Gold  Total\n",
            "877370  1932  MADISON, Helene  aquatics       0       0     3      3\n",
            "Medal   Year  Athlete Name      Sport  Bronze  Silver  Gold  Total\n",
            "992530  1936  OWENS, Jesse  athletics       0       0     4      4\n",
            "Medal    Year             Athlete Name     Sport  Bronze  Silver  Gold  Total\n",
            "1086402  1948  MCLANE, James Price Jr.  aquatics       0       1     2      3\n",
            "Medal    Year         Athlete Name     Sport  Bronze  Silver  Gold  Total\n",
            "1178576  1952  KONNO, Ford Hiroshi  aquatics       0       1     2      3\n",
            "Medal    Year           Athlete Name      Sport  Bronze  Silver  Gold  Total\n",
            "1295504  1956  MORROW, Robert Joseph  athletics       0       0     3      3\n",
            "Medal    Year                 Athlete Name     Sport  Bronze  Silver  Gold  Total\n",
            "1425994  1960  VON SALTZA, Susan Christina  aquatics       0       1     3      4\n",
            "Medal    Year                Athlete Name     Sport  Bronze  Silver  Gold  Total\n",
            "1514564  1964  SCHOLLANDER, Donald Arthur  aquatics       0       0     4      4\n",
            "Medal    Year               Athlete Name     Sport  Bronze  Silver  Gold  Total\n",
            "1577804  1968  HICKCOX, Charles Buchanan  aquatics       0       1     3      4\n",
            "Medal    Year Athlete Name     Sport  Bronze  Silver  Gold  Total\n",
            "1724820  1972  SPITZ, Mark  aquatics       0       0     7      7\n",
            "Medal    Year          Athlete Name     Sport  Bronze  Silver  Gold  Total\n",
            "1808732  1976  NABER, John Phillips  aquatics       0       1     4      5\n",
            "Medal    Year      Athlete Name       Sport  Bronze  Silver  Gold  Total\n",
            "1919142  1984  RETTON, Mary-Lou  gymnastics       2       2     1      5\n",
            "Medal    Year     Athlete Name     Sport  Bronze  Silver  Gold  Total\n",
            "1953334  1988  BIONDI, Matthew  aquatics       1       1     5      7\n",
            "Medal    Year     Athlete Name       Sport  Bronze  Silver  Gold  Total\n",
            "2112636  1992  MILLER, Shannon  gymnastics       3       2     0      5\n",
            "Medal    Year    Athlete Name     Sport  Bronze  Silver  Gold  Total\n",
            "2244204  1996  VAN DYKEN, Amy  aquatics       0       0     4      4\n",
            "Medal    Year  Athlete Name     Sport  Bronze  Silver  Gold  Total\n",
            "2345014  2000  TORRES, Dara  aquatics       3       0     2      5\n",
            "Medal    Year     Athlete Name     Sport  Bronze  Silver  Gold  Total\n",
            "2428246  2004  PHELPS, Michael  aquatics       2       0     6      8\n",
            "Medal    Year     Athlete Name     Sport  Bronze  Silver  Gold  Total\n",
            "2530654  2008  PHELPS, Michael  aquatics       0       0     8      8\n"
          ]
        }
      ]
    },
    {
      "cell_type": "code",
      "source": [
        "winners = [\n",
        "    group.sort_values(['Total', 'Gold', 'Silver', 'Bronze', 'Athlete Name'], ascending=False).head(1)\n",
        "    for year, group in table.groupby('Year')\n",
        "]\n",
        "winners"
      ],
      "metadata": {
        "id": "NXtd9GEJDFx4",
        "colab": {
          "base_uri": "https://localhost:8080/"
        },
        "outputId": "7896c557-a106-4e1b-c6e0-438962db5cd5"
      },
      "execution_count": 13,
      "outputs": [
        {
          "output_type": "execute_result",
          "data": {
            "text/plain": [
              "[Medal  Year     Athlete Name      Sport  Bronze  Silver  Gold  Total\n",
              " 32642  1896  GARRETT, Robert  athletics       0       2     2      4,\n",
              " Medal   Year    Athlete Name      Sport  Bronze  Silver  Gold  Total\n",
              " 107612  1900  BAXTER, Irving  athletics       0       3     2      5,\n",
              " Medal   Year  Athlete Name       Sport  Bronze  Silver  Gold  Total\n",
              " 245424  1904  HEIDA, Anton  gymnastics       0       1     5      6,\n",
              " Medal   Year      Athlete Name      Sport  Bronze  Silver  Gold  Total\n",
              " 390390  1908  SHEPPARD, Melvin  athletics       0       0     3      3,\n",
              " Medal   Year           Athlete Name     Sport  Bronze  Silver  Gold  Total\n",
              " 480240  1912  OSBURN, Carl Townsend  shooting       1       2     1      4,\n",
              " Medal   Year Athlete Name     Sport  Bronze  Silver  Gold  Total\n",
              " 566940  1920  LEE, Willis  shooting       1       1     5      7,\n",
              " Medal   Year         Athlete Name     Sport  Bronze  Silver  Gold  Total\n",
              " 710940  1924  WEISSMULLER, Johnny  aquatics       1       0     3      4,\n",
              " Medal   Year         Athlete Name     Sport  Bronze  Silver  Gold  Total\n",
              " 813348  1928  WEISSMULLER, Johnny  aquatics       0       0     2      2,\n",
              " Medal   Year     Athlete Name     Sport  Bronze  Silver  Gold  Total\n",
              " 877370  1932  MADISON, Helene  aquatics       0       0     3      3,\n",
              " Medal   Year  Athlete Name      Sport  Bronze  Silver  Gold  Total\n",
              " 992530  1936  OWENS, Jesse  athletics       0       0     4      4,\n",
              " Medal    Year             Athlete Name     Sport  Bronze  Silver  Gold  Total\n",
              " 1086402  1948  MCLANE, James Price Jr.  aquatics       0       1     2      3,\n",
              " Medal    Year         Athlete Name     Sport  Bronze  Silver  Gold  Total\n",
              " 1178576  1952  KONNO, Ford Hiroshi  aquatics       0       1     2      3,\n",
              " Medal    Year           Athlete Name      Sport  Bronze  Silver  Gold  Total\n",
              " 1295504  1956  MORROW, Robert Joseph  athletics       0       0     3      3,\n",
              " Medal    Year                 Athlete Name     Sport  Bronze  Silver  Gold  Total\n",
              " 1425994  1960  VON SALTZA, Susan Christina  aquatics       0       1     3      4,\n",
              " Medal    Year                Athlete Name     Sport  Bronze  Silver  Gold  Total\n",
              " 1514564  1964  SCHOLLANDER, Donald Arthur  aquatics       0       0     4      4,\n",
              " Medal    Year               Athlete Name     Sport  Bronze  Silver  Gold  Total\n",
              " 1577804  1968  HICKCOX, Charles Buchanan  aquatics       0       1     3      4,\n",
              " Medal    Year Athlete Name     Sport  Bronze  Silver  Gold  Total\n",
              " 1724820  1972  SPITZ, Mark  aquatics       0       0     7      7,\n",
              " Medal    Year          Athlete Name     Sport  Bronze  Silver  Gold  Total\n",
              " 1808732  1976  NABER, John Phillips  aquatics       0       1     4      5,\n",
              " Medal    Year      Athlete Name       Sport  Bronze  Silver  Gold  Total\n",
              " 1919142  1984  RETTON, Mary-Lou  gymnastics       2       2     1      5,\n",
              " Medal    Year     Athlete Name     Sport  Bronze  Silver  Gold  Total\n",
              " 1953334  1988  BIONDI, Matthew  aquatics       1       1     5      7,\n",
              " Medal    Year     Athlete Name       Sport  Bronze  Silver  Gold  Total\n",
              " 2112636  1992  MILLER, Shannon  gymnastics       3       2     0      5,\n",
              " Medal    Year    Athlete Name     Sport  Bronze  Silver  Gold  Total\n",
              " 2244204  1996  VAN DYKEN, Amy  aquatics       0       0     4      4,\n",
              " Medal    Year  Athlete Name     Sport  Bronze  Silver  Gold  Total\n",
              " 2345014  2000  TORRES, Dara  aquatics       3       0     2      5,\n",
              " Medal    Year     Athlete Name     Sport  Bronze  Silver  Gold  Total\n",
              " 2428246  2004  PHELPS, Michael  aquatics       2       0     6      8,\n",
              " Medal    Year     Athlete Name     Sport  Bronze  Silver  Gold  Total\n",
              " 2530654  2008  PHELPS, Michael  aquatics       0       0     8      8]"
            ]
          },
          "metadata": {},
          "execution_count": 13
        }
      ]
    },
    {
      "cell_type": "code",
      "source": [
        "winners[0]"
      ],
      "metadata": {
        "colab": {
          "base_uri": "https://localhost:8080/",
          "height": 80
        },
        "id": "07PdUFZew7Ex",
        "outputId": "7320349f-b13b-4790-a836-9a5e130358f4"
      },
      "execution_count": 14,
      "outputs": [
        {
          "output_type": "execute_result",
          "data": {
            "text/plain": [
              "Medal  Year     Athlete Name      Sport  Bronze  Silver  Gold  Total\n",
              "32642  1896  GARRETT, Robert  athletics       0       2     2      4"
            ],
            "text/html": [
              "\n",
              "  <div id=\"df-e34ded5b-8d66-44aa-9032-d1837b91ee21\" class=\"colab-df-container\">\n",
              "    <div>\n",
              "<style scoped>\n",
              "    .dataframe tbody tr th:only-of-type {\n",
              "        vertical-align: middle;\n",
              "    }\n",
              "\n",
              "    .dataframe tbody tr th {\n",
              "        vertical-align: top;\n",
              "    }\n",
              "\n",
              "    .dataframe thead th {\n",
              "        text-align: right;\n",
              "    }\n",
              "</style>\n",
              "<table border=\"1\" class=\"dataframe\">\n",
              "  <thead>\n",
              "    <tr style=\"text-align: right;\">\n",
              "      <th>Medal</th>\n",
              "      <th>Year</th>\n",
              "      <th>Athlete Name</th>\n",
              "      <th>Sport</th>\n",
              "      <th>Bronze</th>\n",
              "      <th>Silver</th>\n",
              "      <th>Gold</th>\n",
              "      <th>Total</th>\n",
              "    </tr>\n",
              "  </thead>\n",
              "  <tbody>\n",
              "    <tr>\n",
              "      <th>32642</th>\n",
              "      <td>1896</td>\n",
              "      <td>GARRETT, Robert</td>\n",
              "      <td>athletics</td>\n",
              "      <td>0</td>\n",
              "      <td>2</td>\n",
              "      <td>2</td>\n",
              "      <td>4</td>\n",
              "    </tr>\n",
              "  </tbody>\n",
              "</table>\n",
              "</div>\n",
              "    <div class=\"colab-df-buttons\">\n",
              "\n",
              "  <div class=\"colab-df-container\">\n",
              "    <button class=\"colab-df-convert\" onclick=\"convertToInteractive('df-e34ded5b-8d66-44aa-9032-d1837b91ee21')\"\n",
              "            title=\"Convert this dataframe to an interactive table.\"\n",
              "            style=\"display:none;\">\n",
              "\n",
              "  <svg xmlns=\"http://www.w3.org/2000/svg\" height=\"24px\" viewBox=\"0 -960 960 960\">\n",
              "    <path d=\"M120-120v-720h720v720H120Zm60-500h600v-160H180v160Zm220 220h160v-160H400v160Zm0 220h160v-160H400v160ZM180-400h160v-160H180v160Zm440 0h160v-160H620v160ZM180-180h160v-160H180v160Zm440 0h160v-160H620v160Z\"/>\n",
              "  </svg>\n",
              "    </button>\n",
              "\n",
              "  <style>\n",
              "    .colab-df-container {\n",
              "      display:flex;\n",
              "      gap: 12px;\n",
              "    }\n",
              "\n",
              "    .colab-df-convert {\n",
              "      background-color: #E8F0FE;\n",
              "      border: none;\n",
              "      border-radius: 50%;\n",
              "      cursor: pointer;\n",
              "      display: none;\n",
              "      fill: #1967D2;\n",
              "      height: 32px;\n",
              "      padding: 0 0 0 0;\n",
              "      width: 32px;\n",
              "    }\n",
              "\n",
              "    .colab-df-convert:hover {\n",
              "      background-color: #E2EBFA;\n",
              "      box-shadow: 0px 1px 2px rgba(60, 64, 67, 0.3), 0px 1px 3px 1px rgba(60, 64, 67, 0.15);\n",
              "      fill: #174EA6;\n",
              "    }\n",
              "\n",
              "    .colab-df-buttons div {\n",
              "      margin-bottom: 4px;\n",
              "    }\n",
              "\n",
              "    [theme=dark] .colab-df-convert {\n",
              "      background-color: #3B4455;\n",
              "      fill: #D2E3FC;\n",
              "    }\n",
              "\n",
              "    [theme=dark] .colab-df-convert:hover {\n",
              "      background-color: #434B5C;\n",
              "      box-shadow: 0px 1px 3px 1px rgba(0, 0, 0, 0.15);\n",
              "      filter: drop-shadow(0px 1px 2px rgba(0, 0, 0, 0.3));\n",
              "      fill: #FFFFFF;\n",
              "    }\n",
              "  </style>\n",
              "\n",
              "    <script>\n",
              "      const buttonEl =\n",
              "        document.querySelector('#df-e34ded5b-8d66-44aa-9032-d1837b91ee21 button.colab-df-convert');\n",
              "      buttonEl.style.display =\n",
              "        google.colab.kernel.accessAllowed ? 'block' : 'none';\n",
              "\n",
              "      async function convertToInteractive(key) {\n",
              "        const element = document.querySelector('#df-e34ded5b-8d66-44aa-9032-d1837b91ee21');\n",
              "        const dataTable =\n",
              "          await google.colab.kernel.invokeFunction('convertToInteractive',\n",
              "                                                    [key], {});\n",
              "        if (!dataTable) return;\n",
              "\n",
              "        const docLinkHtml = 'Like what you see? Visit the ' +\n",
              "          '<a target=\"_blank\" href=https://colab.research.google.com/notebooks/data_table.ipynb>data table notebook</a>'\n",
              "          + ' to learn more about interactive tables.';\n",
              "        element.innerHTML = '';\n",
              "        dataTable['output_type'] = 'display_data';\n",
              "        await google.colab.output.renderOutput(dataTable, element);\n",
              "        const docLink = document.createElement('div');\n",
              "        docLink.innerHTML = docLinkHtml;\n",
              "        element.appendChild(docLink);\n",
              "      }\n",
              "    </script>\n",
              "  </div>\n",
              "\n",
              "\n",
              "    </div>\n",
              "  </div>\n"
            ],
            "application/vnd.google.colaboratory.intrinsic+json": {
              "type": "dataframe",
              "summary": "{\n  \"name\": \"winners[0]\",\n  \"rows\": 1,\n  \"fields\": [\n    {\n      \"column\": \"Year\",\n      \"properties\": {\n        \"dtype\": \"number\",\n        \"std\": null,\n        \"min\": 1896,\n        \"max\": 1896,\n        \"num_unique_values\": 1,\n        \"samples\": [\n          1896\n        ],\n        \"semantic_type\": \"\",\n        \"description\": \"\"\n      }\n    },\n    {\n      \"column\": \"Athlete Name\",\n      \"properties\": {\n        \"dtype\": \"string\",\n        \"num_unique_values\": 1,\n        \"samples\": [\n          \"GARRETT, Robert\"\n        ],\n        \"semantic_type\": \"\",\n        \"description\": \"\"\n      }\n    },\n    {\n      \"column\": \"Sport\",\n      \"properties\": {\n        \"dtype\": \"string\",\n        \"num_unique_values\": 1,\n        \"samples\": [\n          \"athletics\"\n        ],\n        \"semantic_type\": \"\",\n        \"description\": \"\"\n      }\n    },\n    {\n      \"column\": \"Bronze\",\n      \"properties\": {\n        \"dtype\": \"number\",\n        \"std\": null,\n        \"min\": 0,\n        \"max\": 0,\n        \"num_unique_values\": 1,\n        \"samples\": [\n          0\n        ],\n        \"semantic_type\": \"\",\n        \"description\": \"\"\n      }\n    },\n    {\n      \"column\": \"Silver\",\n      \"properties\": {\n        \"dtype\": \"number\",\n        \"std\": null,\n        \"min\": 2,\n        \"max\": 2,\n        \"num_unique_values\": 1,\n        \"samples\": [\n          2\n        ],\n        \"semantic_type\": \"\",\n        \"description\": \"\"\n      }\n    },\n    {\n      \"column\": \"Gold\",\n      \"properties\": {\n        \"dtype\": \"number\",\n        \"std\": null,\n        \"min\": 2,\n        \"max\": 2,\n        \"num_unique_values\": 1,\n        \"samples\": [\n          2\n        ],\n        \"semantic_type\": \"\",\n        \"description\": \"\"\n      }\n    },\n    {\n      \"column\": \"Total\",\n      \"properties\": {\n        \"dtype\": \"number\",\n        \"std\": null,\n        \"min\": 4,\n        \"max\": 4,\n        \"num_unique_values\": 1,\n        \"samples\": [\n          4\n        ],\n        \"semantic_type\": \"\",\n        \"description\": \"\"\n      }\n    }\n  ]\n}"
            }
          },
          "metadata": {},
          "execution_count": 14
        }
      ]
    },
    {
      "cell_type": "code",
      "source": [
        "type(winners[0])"
      ],
      "metadata": {
        "colab": {
          "base_uri": "https://localhost:8080/",
          "height": 203
        },
        "id": "Jps9YCyhw9JR",
        "outputId": "227346ad-6dde-43ec-e987-f0f7f8183a76"
      },
      "execution_count": 15,
      "outputs": [
        {
          "output_type": "execute_result",
          "data": {
            "text/plain": [
              "pandas.core.frame.DataFrame"
            ],
            "text/html": [
              "<div style=\"max-width:800px; border: 1px solid var(--colab-border-color);\"><style>\n",
              "      pre.function-repr-contents {\n",
              "        overflow-x: auto;\n",
              "        padding: 8px 12px;\n",
              "        max-height: 500px;\n",
              "      }\n",
              "\n",
              "      pre.function-repr-contents.function-repr-contents-collapsed {\n",
              "        cursor: pointer;\n",
              "        max-height: 100px;\n",
              "      }\n",
              "    </style>\n",
              "    <pre style=\"white-space: initial; background:\n",
              "         var(--colab-secondary-surface-color); padding: 8px 12px;\n",
              "         border-bottom: 1px solid var(--colab-border-color);\"><b>pandas.core.frame.DataFrame</b><br/>def __init__(data=None, index: Axes | None=None, columns: Axes | None=None, dtype: Dtype | None=None, copy: bool | None=None) -&gt; None</pre><pre class=\"function-repr-contents function-repr-contents-collapsed\" style=\"\"><a class=\"filepath\" style=\"display:none\" href=\"#\">/usr/local/lib/python3.10/dist-packages/pandas/core/frame.py</a>Two-dimensional, size-mutable, potentially heterogeneous tabular data.\n",
              "\n",
              "Data structure also contains labeled axes (rows and columns).\n",
              "Arithmetic operations align on both row and column labels. Can be\n",
              "thought of as a dict-like container for Series objects. The primary\n",
              "pandas data structure.\n",
              "\n",
              "Parameters\n",
              "----------\n",
              "data : ndarray (structured or homogeneous), Iterable, dict, or DataFrame\n",
              "    Dict can contain Series, arrays, constants, dataclass or list-like objects. If\n",
              "    data is a dict, column order follows insertion-order. If a dict contains Series\n",
              "    which have an index defined, it is aligned by its index. This alignment also\n",
              "    occurs if data is a Series or a DataFrame itself. Alignment is done on\n",
              "    Series/DataFrame inputs.\n",
              "\n",
              "    If data is a list of dicts, column order follows insertion-order.\n",
              "\n",
              "index : Index or array-like\n",
              "    Index to use for resulting frame. Will default to RangeIndex if\n",
              "    no indexing information part of input data and no index provided.\n",
              "columns : Index or array-like\n",
              "    Column labels to use for resulting frame when data does not have them,\n",
              "    defaulting to RangeIndex(0, 1, 2, ..., n). If data contains column labels,\n",
              "    will perform column selection instead.\n",
              "dtype : dtype, default None\n",
              "    Data type to force. Only a single dtype is allowed. If None, infer.\n",
              "copy : bool or None, default None\n",
              "    Copy data from inputs.\n",
              "    For dict data, the default of None behaves like ``copy=True``.  For DataFrame\n",
              "    or 2d ndarray input, the default of None behaves like ``copy=False``.\n",
              "    If data is a dict containing one or more Series (possibly of different dtypes),\n",
              "    ``copy=False`` will ensure that these inputs are not copied.\n",
              "\n",
              "    .. versionchanged:: 1.3.0\n",
              "\n",
              "See Also\n",
              "--------\n",
              "DataFrame.from_records : Constructor from tuples, also record arrays.\n",
              "DataFrame.from_dict : From dicts of Series, arrays, or dicts.\n",
              "read_csv : Read a comma-separated values (csv) file into DataFrame.\n",
              "read_table : Read general delimited file into DataFrame.\n",
              "read_clipboard : Read text from clipboard into DataFrame.\n",
              "\n",
              "Notes\n",
              "-----\n",
              "Please reference the :ref:`User Guide &lt;basics.dataframe&gt;` for more information.\n",
              "\n",
              "Examples\n",
              "--------\n",
              "Constructing DataFrame from a dictionary.\n",
              "\n",
              "&gt;&gt;&gt; d = {&#x27;col1&#x27;: [1, 2], &#x27;col2&#x27;: [3, 4]}\n",
              "&gt;&gt;&gt; df = pd.DataFrame(data=d)\n",
              "&gt;&gt;&gt; df\n",
              "   col1  col2\n",
              "0     1     3\n",
              "1     2     4\n",
              "\n",
              "Notice that the inferred dtype is int64.\n",
              "\n",
              "&gt;&gt;&gt; df.dtypes\n",
              "col1    int64\n",
              "col2    int64\n",
              "dtype: object\n",
              "\n",
              "To enforce a single dtype:\n",
              "\n",
              "&gt;&gt;&gt; df = pd.DataFrame(data=d, dtype=np.int8)\n",
              "&gt;&gt;&gt; df.dtypes\n",
              "col1    int8\n",
              "col2    int8\n",
              "dtype: object\n",
              "\n",
              "Constructing DataFrame from a dictionary including Series:\n",
              "\n",
              "&gt;&gt;&gt; d = {&#x27;col1&#x27;: [0, 1, 2, 3], &#x27;col2&#x27;: pd.Series([2, 3], index=[2, 3])}\n",
              "&gt;&gt;&gt; pd.DataFrame(data=d, index=[0, 1, 2, 3])\n",
              "   col1  col2\n",
              "0     0   NaN\n",
              "1     1   NaN\n",
              "2     2   2.0\n",
              "3     3   3.0\n",
              "\n",
              "Constructing DataFrame from numpy ndarray:\n",
              "\n",
              "&gt;&gt;&gt; df2 = pd.DataFrame(np.array([[1, 2, 3], [4, 5, 6], [7, 8, 9]]),\n",
              "...                    columns=[&#x27;a&#x27;, &#x27;b&#x27;, &#x27;c&#x27;])\n",
              "&gt;&gt;&gt; df2\n",
              "   a  b  c\n",
              "0  1  2  3\n",
              "1  4  5  6\n",
              "2  7  8  9\n",
              "\n",
              "Constructing DataFrame from a numpy ndarray that has labeled columns:\n",
              "\n",
              "&gt;&gt;&gt; data = np.array([(1, 2, 3), (4, 5, 6), (7, 8, 9)],\n",
              "...                 dtype=[(&quot;a&quot;, &quot;i4&quot;), (&quot;b&quot;, &quot;i4&quot;), (&quot;c&quot;, &quot;i4&quot;)])\n",
              "&gt;&gt;&gt; df3 = pd.DataFrame(data, columns=[&#x27;c&#x27;, &#x27;a&#x27;])\n",
              "...\n",
              "&gt;&gt;&gt; df3\n",
              "   c  a\n",
              "0  3  1\n",
              "1  6  4\n",
              "2  9  7\n",
              "\n",
              "Constructing DataFrame from dataclass:\n",
              "\n",
              "&gt;&gt;&gt; from dataclasses import make_dataclass\n",
              "&gt;&gt;&gt; Point = make_dataclass(&quot;Point&quot;, [(&quot;x&quot;, int), (&quot;y&quot;, int)])\n",
              "&gt;&gt;&gt; pd.DataFrame([Point(0, 0), Point(0, 3), Point(2, 3)])\n",
              "   x  y\n",
              "0  0  0\n",
              "1  0  3\n",
              "2  2  3\n",
              "\n",
              "Constructing DataFrame from Series/DataFrame:\n",
              "\n",
              "&gt;&gt;&gt; ser = pd.Series([1, 2, 3], index=[&quot;a&quot;, &quot;b&quot;, &quot;c&quot;])\n",
              "&gt;&gt;&gt; df = pd.DataFrame(data=ser, index=[&quot;a&quot;, &quot;c&quot;])\n",
              "&gt;&gt;&gt; df\n",
              "   0\n",
              "a  1\n",
              "c  3\n",
              "\n",
              "&gt;&gt;&gt; df1 = pd.DataFrame([1, 2, 3], index=[&quot;a&quot;, &quot;b&quot;, &quot;c&quot;], columns=[&quot;x&quot;])\n",
              "&gt;&gt;&gt; df2 = pd.DataFrame(data=df1, index=[&quot;a&quot;, &quot;c&quot;])\n",
              "&gt;&gt;&gt; df2\n",
              "   x\n",
              "a  1\n",
              "c  3</pre>\n",
              "      <script>\n",
              "      if (google.colab.kernel.accessAllowed && google.colab.files && google.colab.files.view) {\n",
              "        for (const element of document.querySelectorAll('.filepath')) {\n",
              "          element.style.display = 'block'\n",
              "          element.onclick = (event) => {\n",
              "            event.preventDefault();\n",
              "            event.stopPropagation();\n",
              "            google.colab.files.view(element.textContent, 490);\n",
              "          };\n",
              "        }\n",
              "      }\n",
              "      for (const element of document.querySelectorAll('.function-repr-contents')) {\n",
              "        element.onclick = (event) => {\n",
              "          event.preventDefault();\n",
              "          event.stopPropagation();\n",
              "          element.classList.toggle('function-repr-contents-collapsed');\n",
              "        };\n",
              "      }\n",
              "      </script>\n",
              "      </div>"
            ]
          },
          "metadata": {},
          "execution_count": 15
        }
      ]
    },
    {
      "cell_type": "code",
      "source": [
        "pd.concat(winners)"
      ],
      "metadata": {
        "id": "bHoG_62bDFud",
        "colab": {
          "base_uri": "https://localhost:8080/",
          "height": 833
        },
        "outputId": "1744047b-5aad-4e1e-a5c2-671146c7d875"
      },
      "execution_count": 16,
      "outputs": [
        {
          "output_type": "execute_result",
          "data": {
            "text/plain": [
              "Medal    Year                 Athlete Name       Sport  Bronze  Silver  Gold  Total\n",
              "32642    1896              GARRETT, Robert   athletics       0       2     2      4\n",
              "107612   1900               BAXTER, Irving   athletics       0       3     2      5\n",
              "245424   1904                 HEIDA, Anton  gymnastics       0       1     5      6\n",
              "390390   1908             SHEPPARD, Melvin   athletics       0       0     3      3\n",
              "480240   1912        OSBURN, Carl Townsend    shooting       1       2     1      4\n",
              "566940   1920                  LEE, Willis    shooting       1       1     5      7\n",
              "710940   1924          WEISSMULLER, Johnny    aquatics       1       0     3      4\n",
              "813348   1928          WEISSMULLER, Johnny    aquatics       0       0     2      2\n",
              "877370   1932              MADISON, Helene    aquatics       0       0     3      3\n",
              "992530   1936                 OWENS, Jesse   athletics       0       0     4      4\n",
              "1086402  1948      MCLANE, James Price Jr.    aquatics       0       1     2      3\n",
              "1178576  1952          KONNO, Ford Hiroshi    aquatics       0       1     2      3\n",
              "1295504  1956        MORROW, Robert Joseph   athletics       0       0     3      3\n",
              "1425994  1960  VON SALTZA, Susan Christina    aquatics       0       1     3      4\n",
              "1514564  1964   SCHOLLANDER, Donald Arthur    aquatics       0       0     4      4\n",
              "1577804  1968    HICKCOX, Charles Buchanan    aquatics       0       1     3      4\n",
              "1724820  1972                  SPITZ, Mark    aquatics       0       0     7      7\n",
              "1808732  1976         NABER, John Phillips    aquatics       0       1     4      5\n",
              "1919142  1984             RETTON, Mary-Lou  gymnastics       2       2     1      5\n",
              "1953334  1988              BIONDI, Matthew    aquatics       1       1     5      7\n",
              "2112636  1992              MILLER, Shannon  gymnastics       3       2     0      5\n",
              "2244204  1996               VAN DYKEN, Amy    aquatics       0       0     4      4\n",
              "2345014  2000                 TORRES, Dara    aquatics       3       0     2      5\n",
              "2428246  2004              PHELPS, Michael    aquatics       2       0     6      8\n",
              "2530654  2008              PHELPS, Michael    aquatics       0       0     8      8"
            ],
            "text/html": [
              "\n",
              "  <div id=\"df-49d1bdf9-b02a-42f2-8cea-4461eef39682\" class=\"colab-df-container\">\n",
              "    <div>\n",
              "<style scoped>\n",
              "    .dataframe tbody tr th:only-of-type {\n",
              "        vertical-align: middle;\n",
              "    }\n",
              "\n",
              "    .dataframe tbody tr th {\n",
              "        vertical-align: top;\n",
              "    }\n",
              "\n",
              "    .dataframe thead th {\n",
              "        text-align: right;\n",
              "    }\n",
              "</style>\n",
              "<table border=\"1\" class=\"dataframe\">\n",
              "  <thead>\n",
              "    <tr style=\"text-align: right;\">\n",
              "      <th>Medal</th>\n",
              "      <th>Year</th>\n",
              "      <th>Athlete Name</th>\n",
              "      <th>Sport</th>\n",
              "      <th>Bronze</th>\n",
              "      <th>Silver</th>\n",
              "      <th>Gold</th>\n",
              "      <th>Total</th>\n",
              "    </tr>\n",
              "  </thead>\n",
              "  <tbody>\n",
              "    <tr>\n",
              "      <th>32642</th>\n",
              "      <td>1896</td>\n",
              "      <td>GARRETT, Robert</td>\n",
              "      <td>athletics</td>\n",
              "      <td>0</td>\n",
              "      <td>2</td>\n",
              "      <td>2</td>\n",
              "      <td>4</td>\n",
              "    </tr>\n",
              "    <tr>\n",
              "      <th>107612</th>\n",
              "      <td>1900</td>\n",
              "      <td>BAXTER, Irving</td>\n",
              "      <td>athletics</td>\n",
              "      <td>0</td>\n",
              "      <td>3</td>\n",
              "      <td>2</td>\n",
              "      <td>5</td>\n",
              "    </tr>\n",
              "    <tr>\n",
              "      <th>245424</th>\n",
              "      <td>1904</td>\n",
              "      <td>HEIDA, Anton</td>\n",
              "      <td>gymnastics</td>\n",
              "      <td>0</td>\n",
              "      <td>1</td>\n",
              "      <td>5</td>\n",
              "      <td>6</td>\n",
              "    </tr>\n",
              "    <tr>\n",
              "      <th>390390</th>\n",
              "      <td>1908</td>\n",
              "      <td>SHEPPARD, Melvin</td>\n",
              "      <td>athletics</td>\n",
              "      <td>0</td>\n",
              "      <td>0</td>\n",
              "      <td>3</td>\n",
              "      <td>3</td>\n",
              "    </tr>\n",
              "    <tr>\n",
              "      <th>480240</th>\n",
              "      <td>1912</td>\n",
              "      <td>OSBURN, Carl Townsend</td>\n",
              "      <td>shooting</td>\n",
              "      <td>1</td>\n",
              "      <td>2</td>\n",
              "      <td>1</td>\n",
              "      <td>4</td>\n",
              "    </tr>\n",
              "    <tr>\n",
              "      <th>566940</th>\n",
              "      <td>1920</td>\n",
              "      <td>LEE, Willis</td>\n",
              "      <td>shooting</td>\n",
              "      <td>1</td>\n",
              "      <td>1</td>\n",
              "      <td>5</td>\n",
              "      <td>7</td>\n",
              "    </tr>\n",
              "    <tr>\n",
              "      <th>710940</th>\n",
              "      <td>1924</td>\n",
              "      <td>WEISSMULLER, Johnny</td>\n",
              "      <td>aquatics</td>\n",
              "      <td>1</td>\n",
              "      <td>0</td>\n",
              "      <td>3</td>\n",
              "      <td>4</td>\n",
              "    </tr>\n",
              "    <tr>\n",
              "      <th>813348</th>\n",
              "      <td>1928</td>\n",
              "      <td>WEISSMULLER, Johnny</td>\n",
              "      <td>aquatics</td>\n",
              "      <td>0</td>\n",
              "      <td>0</td>\n",
              "      <td>2</td>\n",
              "      <td>2</td>\n",
              "    </tr>\n",
              "    <tr>\n",
              "      <th>877370</th>\n",
              "      <td>1932</td>\n",
              "      <td>MADISON, Helene</td>\n",
              "      <td>aquatics</td>\n",
              "      <td>0</td>\n",
              "      <td>0</td>\n",
              "      <td>3</td>\n",
              "      <td>3</td>\n",
              "    </tr>\n",
              "    <tr>\n",
              "      <th>992530</th>\n",
              "      <td>1936</td>\n",
              "      <td>OWENS, Jesse</td>\n",
              "      <td>athletics</td>\n",
              "      <td>0</td>\n",
              "      <td>0</td>\n",
              "      <td>4</td>\n",
              "      <td>4</td>\n",
              "    </tr>\n",
              "    <tr>\n",
              "      <th>1086402</th>\n",
              "      <td>1948</td>\n",
              "      <td>MCLANE, James Price Jr.</td>\n",
              "      <td>aquatics</td>\n",
              "      <td>0</td>\n",
              "      <td>1</td>\n",
              "      <td>2</td>\n",
              "      <td>3</td>\n",
              "    </tr>\n",
              "    <tr>\n",
              "      <th>1178576</th>\n",
              "      <td>1952</td>\n",
              "      <td>KONNO, Ford Hiroshi</td>\n",
              "      <td>aquatics</td>\n",
              "      <td>0</td>\n",
              "      <td>1</td>\n",
              "      <td>2</td>\n",
              "      <td>3</td>\n",
              "    </tr>\n",
              "    <tr>\n",
              "      <th>1295504</th>\n",
              "      <td>1956</td>\n",
              "      <td>MORROW, Robert Joseph</td>\n",
              "      <td>athletics</td>\n",
              "      <td>0</td>\n",
              "      <td>0</td>\n",
              "      <td>3</td>\n",
              "      <td>3</td>\n",
              "    </tr>\n",
              "    <tr>\n",
              "      <th>1425994</th>\n",
              "      <td>1960</td>\n",
              "      <td>VON SALTZA, Susan Christina</td>\n",
              "      <td>aquatics</td>\n",
              "      <td>0</td>\n",
              "      <td>1</td>\n",
              "      <td>3</td>\n",
              "      <td>4</td>\n",
              "    </tr>\n",
              "    <tr>\n",
              "      <th>1514564</th>\n",
              "      <td>1964</td>\n",
              "      <td>SCHOLLANDER, Donald Arthur</td>\n",
              "      <td>aquatics</td>\n",
              "      <td>0</td>\n",
              "      <td>0</td>\n",
              "      <td>4</td>\n",
              "      <td>4</td>\n",
              "    </tr>\n",
              "    <tr>\n",
              "      <th>1577804</th>\n",
              "      <td>1968</td>\n",
              "      <td>HICKCOX, Charles Buchanan</td>\n",
              "      <td>aquatics</td>\n",
              "      <td>0</td>\n",
              "      <td>1</td>\n",
              "      <td>3</td>\n",
              "      <td>4</td>\n",
              "    </tr>\n",
              "    <tr>\n",
              "      <th>1724820</th>\n",
              "      <td>1972</td>\n",
              "      <td>SPITZ, Mark</td>\n",
              "      <td>aquatics</td>\n",
              "      <td>0</td>\n",
              "      <td>0</td>\n",
              "      <td>7</td>\n",
              "      <td>7</td>\n",
              "    </tr>\n",
              "    <tr>\n",
              "      <th>1808732</th>\n",
              "      <td>1976</td>\n",
              "      <td>NABER, John Phillips</td>\n",
              "      <td>aquatics</td>\n",
              "      <td>0</td>\n",
              "      <td>1</td>\n",
              "      <td>4</td>\n",
              "      <td>5</td>\n",
              "    </tr>\n",
              "    <tr>\n",
              "      <th>1919142</th>\n",
              "      <td>1984</td>\n",
              "      <td>RETTON, Mary-Lou</td>\n",
              "      <td>gymnastics</td>\n",
              "      <td>2</td>\n",
              "      <td>2</td>\n",
              "      <td>1</td>\n",
              "      <td>5</td>\n",
              "    </tr>\n",
              "    <tr>\n",
              "      <th>1953334</th>\n",
              "      <td>1988</td>\n",
              "      <td>BIONDI, Matthew</td>\n",
              "      <td>aquatics</td>\n",
              "      <td>1</td>\n",
              "      <td>1</td>\n",
              "      <td>5</td>\n",
              "      <td>7</td>\n",
              "    </tr>\n",
              "    <tr>\n",
              "      <th>2112636</th>\n",
              "      <td>1992</td>\n",
              "      <td>MILLER, Shannon</td>\n",
              "      <td>gymnastics</td>\n",
              "      <td>3</td>\n",
              "      <td>2</td>\n",
              "      <td>0</td>\n",
              "      <td>5</td>\n",
              "    </tr>\n",
              "    <tr>\n",
              "      <th>2244204</th>\n",
              "      <td>1996</td>\n",
              "      <td>VAN DYKEN, Amy</td>\n",
              "      <td>aquatics</td>\n",
              "      <td>0</td>\n",
              "      <td>0</td>\n",
              "      <td>4</td>\n",
              "      <td>4</td>\n",
              "    </tr>\n",
              "    <tr>\n",
              "      <th>2345014</th>\n",
              "      <td>2000</td>\n",
              "      <td>TORRES, Dara</td>\n",
              "      <td>aquatics</td>\n",
              "      <td>3</td>\n",
              "      <td>0</td>\n",
              "      <td>2</td>\n",
              "      <td>5</td>\n",
              "    </tr>\n",
              "    <tr>\n",
              "      <th>2428246</th>\n",
              "      <td>2004</td>\n",
              "      <td>PHELPS, Michael</td>\n",
              "      <td>aquatics</td>\n",
              "      <td>2</td>\n",
              "      <td>0</td>\n",
              "      <td>6</td>\n",
              "      <td>8</td>\n",
              "    </tr>\n",
              "    <tr>\n",
              "      <th>2530654</th>\n",
              "      <td>2008</td>\n",
              "      <td>PHELPS, Michael</td>\n",
              "      <td>aquatics</td>\n",
              "      <td>0</td>\n",
              "      <td>0</td>\n",
              "      <td>8</td>\n",
              "      <td>8</td>\n",
              "    </tr>\n",
              "  </tbody>\n",
              "</table>\n",
              "</div>\n",
              "    <div class=\"colab-df-buttons\">\n",
              "\n",
              "  <div class=\"colab-df-container\">\n",
              "    <button class=\"colab-df-convert\" onclick=\"convertToInteractive('df-49d1bdf9-b02a-42f2-8cea-4461eef39682')\"\n",
              "            title=\"Convert this dataframe to an interactive table.\"\n",
              "            style=\"display:none;\">\n",
              "\n",
              "  <svg xmlns=\"http://www.w3.org/2000/svg\" height=\"24px\" viewBox=\"0 -960 960 960\">\n",
              "    <path d=\"M120-120v-720h720v720H120Zm60-500h600v-160H180v160Zm220 220h160v-160H400v160Zm0 220h160v-160H400v160ZM180-400h160v-160H180v160Zm440 0h160v-160H620v160ZM180-180h160v-160H180v160Zm440 0h160v-160H620v160Z\"/>\n",
              "  </svg>\n",
              "    </button>\n",
              "\n",
              "  <style>\n",
              "    .colab-df-container {\n",
              "      display:flex;\n",
              "      gap: 12px;\n",
              "    }\n",
              "\n",
              "    .colab-df-convert {\n",
              "      background-color: #E8F0FE;\n",
              "      border: none;\n",
              "      border-radius: 50%;\n",
              "      cursor: pointer;\n",
              "      display: none;\n",
              "      fill: #1967D2;\n",
              "      height: 32px;\n",
              "      padding: 0 0 0 0;\n",
              "      width: 32px;\n",
              "    }\n",
              "\n",
              "    .colab-df-convert:hover {\n",
              "      background-color: #E2EBFA;\n",
              "      box-shadow: 0px 1px 2px rgba(60, 64, 67, 0.3), 0px 1px 3px 1px rgba(60, 64, 67, 0.15);\n",
              "      fill: #174EA6;\n",
              "    }\n",
              "\n",
              "    .colab-df-buttons div {\n",
              "      margin-bottom: 4px;\n",
              "    }\n",
              "\n",
              "    [theme=dark] .colab-df-convert {\n",
              "      background-color: #3B4455;\n",
              "      fill: #D2E3FC;\n",
              "    }\n",
              "\n",
              "    [theme=dark] .colab-df-convert:hover {\n",
              "      background-color: #434B5C;\n",
              "      box-shadow: 0px 1px 3px 1px rgba(0, 0, 0, 0.15);\n",
              "      filter: drop-shadow(0px 1px 2px rgba(0, 0, 0, 0.3));\n",
              "      fill: #FFFFFF;\n",
              "    }\n",
              "  </style>\n",
              "\n",
              "    <script>\n",
              "      const buttonEl =\n",
              "        document.querySelector('#df-49d1bdf9-b02a-42f2-8cea-4461eef39682 button.colab-df-convert');\n",
              "      buttonEl.style.display =\n",
              "        google.colab.kernel.accessAllowed ? 'block' : 'none';\n",
              "\n",
              "      async function convertToInteractive(key) {\n",
              "        const element = document.querySelector('#df-49d1bdf9-b02a-42f2-8cea-4461eef39682');\n",
              "        const dataTable =\n",
              "          await google.colab.kernel.invokeFunction('convertToInteractive',\n",
              "                                                    [key], {});\n",
              "        if (!dataTable) return;\n",
              "\n",
              "        const docLinkHtml = 'Like what you see? Visit the ' +\n",
              "          '<a target=\"_blank\" href=https://colab.research.google.com/notebooks/data_table.ipynb>data table notebook</a>'\n",
              "          + ' to learn more about interactive tables.';\n",
              "        element.innerHTML = '';\n",
              "        dataTable['output_type'] = 'display_data';\n",
              "        await google.colab.output.renderOutput(dataTable, element);\n",
              "        const docLink = document.createElement('div');\n",
              "        docLink.innerHTML = docLinkHtml;\n",
              "        element.appendChild(docLink);\n",
              "      }\n",
              "    </script>\n",
              "  </div>\n",
              "\n",
              "\n",
              "<div id=\"df-6b0ea0de-0efe-405e-9daa-06592350c344\">\n",
              "  <button class=\"colab-df-quickchart\" onclick=\"quickchart('df-6b0ea0de-0efe-405e-9daa-06592350c344')\"\n",
              "            title=\"Suggest charts\"\n",
              "            style=\"display:none;\">\n",
              "\n",
              "<svg xmlns=\"http://www.w3.org/2000/svg\" height=\"24px\"viewBox=\"0 0 24 24\"\n",
              "     width=\"24px\">\n",
              "    <g>\n",
              "        <path d=\"M19 3H5c-1.1 0-2 .9-2 2v14c0 1.1.9 2 2 2h14c1.1 0 2-.9 2-2V5c0-1.1-.9-2-2-2zM9 17H7v-7h2v7zm4 0h-2V7h2v10zm4 0h-2v-4h2v4z\"/>\n",
              "    </g>\n",
              "</svg>\n",
              "  </button>\n",
              "\n",
              "<style>\n",
              "  .colab-df-quickchart {\n",
              "      --bg-color: #E8F0FE;\n",
              "      --fill-color: #1967D2;\n",
              "      --hover-bg-color: #E2EBFA;\n",
              "      --hover-fill-color: #174EA6;\n",
              "      --disabled-fill-color: #AAA;\n",
              "      --disabled-bg-color: #DDD;\n",
              "  }\n",
              "\n",
              "  [theme=dark] .colab-df-quickchart {\n",
              "      --bg-color: #3B4455;\n",
              "      --fill-color: #D2E3FC;\n",
              "      --hover-bg-color: #434B5C;\n",
              "      --hover-fill-color: #FFFFFF;\n",
              "      --disabled-bg-color: #3B4455;\n",
              "      --disabled-fill-color: #666;\n",
              "  }\n",
              "\n",
              "  .colab-df-quickchart {\n",
              "    background-color: var(--bg-color);\n",
              "    border: none;\n",
              "    border-radius: 50%;\n",
              "    cursor: pointer;\n",
              "    display: none;\n",
              "    fill: var(--fill-color);\n",
              "    height: 32px;\n",
              "    padding: 0;\n",
              "    width: 32px;\n",
              "  }\n",
              "\n",
              "  .colab-df-quickchart:hover {\n",
              "    background-color: var(--hover-bg-color);\n",
              "    box-shadow: 0 1px 2px rgba(60, 64, 67, 0.3), 0 1px 3px 1px rgba(60, 64, 67, 0.15);\n",
              "    fill: var(--button-hover-fill-color);\n",
              "  }\n",
              "\n",
              "  .colab-df-quickchart-complete:disabled,\n",
              "  .colab-df-quickchart-complete:disabled:hover {\n",
              "    background-color: var(--disabled-bg-color);\n",
              "    fill: var(--disabled-fill-color);\n",
              "    box-shadow: none;\n",
              "  }\n",
              "\n",
              "  .colab-df-spinner {\n",
              "    border: 2px solid var(--fill-color);\n",
              "    border-color: transparent;\n",
              "    border-bottom-color: var(--fill-color);\n",
              "    animation:\n",
              "      spin 1s steps(1) infinite;\n",
              "  }\n",
              "\n",
              "  @keyframes spin {\n",
              "    0% {\n",
              "      border-color: transparent;\n",
              "      border-bottom-color: var(--fill-color);\n",
              "      border-left-color: var(--fill-color);\n",
              "    }\n",
              "    20% {\n",
              "      border-color: transparent;\n",
              "      border-left-color: var(--fill-color);\n",
              "      border-top-color: var(--fill-color);\n",
              "    }\n",
              "    30% {\n",
              "      border-color: transparent;\n",
              "      border-left-color: var(--fill-color);\n",
              "      border-top-color: var(--fill-color);\n",
              "      border-right-color: var(--fill-color);\n",
              "    }\n",
              "    40% {\n",
              "      border-color: transparent;\n",
              "      border-right-color: var(--fill-color);\n",
              "      border-top-color: var(--fill-color);\n",
              "    }\n",
              "    60% {\n",
              "      border-color: transparent;\n",
              "      border-right-color: var(--fill-color);\n",
              "    }\n",
              "    80% {\n",
              "      border-color: transparent;\n",
              "      border-right-color: var(--fill-color);\n",
              "      border-bottom-color: var(--fill-color);\n",
              "    }\n",
              "    90% {\n",
              "      border-color: transparent;\n",
              "      border-bottom-color: var(--fill-color);\n",
              "    }\n",
              "  }\n",
              "</style>\n",
              "\n",
              "  <script>\n",
              "    async function quickchart(key) {\n",
              "      const quickchartButtonEl =\n",
              "        document.querySelector('#' + key + ' button');\n",
              "      quickchartButtonEl.disabled = true;  // To prevent multiple clicks.\n",
              "      quickchartButtonEl.classList.add('colab-df-spinner');\n",
              "      try {\n",
              "        const charts = await google.colab.kernel.invokeFunction(\n",
              "            'suggestCharts', [key], {});\n",
              "      } catch (error) {\n",
              "        console.error('Error during call to suggestCharts:', error);\n",
              "      }\n",
              "      quickchartButtonEl.classList.remove('colab-df-spinner');\n",
              "      quickchartButtonEl.classList.add('colab-df-quickchart-complete');\n",
              "    }\n",
              "    (() => {\n",
              "      let quickchartButtonEl =\n",
              "        document.querySelector('#df-6b0ea0de-0efe-405e-9daa-06592350c344 button');\n",
              "      quickchartButtonEl.style.display =\n",
              "        google.colab.kernel.accessAllowed ? 'block' : 'none';\n",
              "    })();\n",
              "  </script>\n",
              "</div>\n",
              "\n",
              "    </div>\n",
              "  </div>\n"
            ],
            "application/vnd.google.colaboratory.intrinsic+json": {
              "type": "dataframe",
              "summary": "{\n  \"name\": \"pd\",\n  \"rows\": 25,\n  \"fields\": [\n    {\n      \"column\": \"Year\",\n      \"properties\": {\n        \"dtype\": \"number\",\n        \"std\": 35,\n        \"min\": 1896,\n        \"max\": 2008,\n        \"num_unique_values\": 25,\n        \"samples\": [\n          1932,\n          1972,\n          1896\n        ],\n        \"semantic_type\": \"\",\n        \"description\": \"\"\n      }\n    },\n    {\n      \"column\": \"Athlete Name\",\n      \"properties\": {\n        \"dtype\": \"string\",\n        \"num_unique_values\": 23,\n        \"samples\": [\n          \"SPITZ, Mark\",\n          \"MCLANE, James Price Jr.\",\n          \"GARRETT, Robert\"\n        ],\n        \"semantic_type\": \"\",\n        \"description\": \"\"\n      }\n    },\n    {\n      \"column\": \"Sport\",\n      \"properties\": {\n        \"dtype\": \"string\",\n        \"num_unique_values\": 4,\n        \"samples\": [\n          \"gymnastics\",\n          \"aquatics\",\n          \"athletics\"\n        ],\n        \"semantic_type\": \"\",\n        \"description\": \"\"\n      }\n    },\n    {\n      \"column\": \"Bronze\",\n      \"properties\": {\n        \"dtype\": \"number\",\n        \"std\": 0,\n        \"min\": 0,\n        \"max\": 3,\n        \"num_unique_values\": 4,\n        \"samples\": [\n          1,\n          3,\n          0\n        ],\n        \"semantic_type\": \"\",\n        \"description\": \"\"\n      }\n    },\n    {\n      \"column\": \"Silver\",\n      \"properties\": {\n        \"dtype\": \"number\",\n        \"std\": 0,\n        \"min\": 0,\n        \"max\": 3,\n        \"num_unique_values\": 4,\n        \"samples\": [\n          3,\n          0,\n          2\n        ],\n        \"semantic_type\": \"\",\n        \"description\": \"\"\n      }\n    },\n    {\n      \"column\": \"Gold\",\n      \"properties\": {\n        \"dtype\": \"number\",\n        \"std\": 1,\n        \"min\": 0,\n        \"max\": 8,\n        \"num_unique_values\": 9,\n        \"samples\": [\n          6,\n          5,\n          7\n        ],\n        \"semantic_type\": \"\",\n        \"description\": \"\"\n      }\n    },\n    {\n      \"column\": \"Total\",\n      \"properties\": {\n        \"dtype\": \"number\",\n        \"std\": 1,\n        \"min\": 2,\n        \"max\": 8,\n        \"num_unique_values\": 7,\n        \"samples\": [\n          4,\n          5,\n          2\n        ],\n        \"semantic_type\": \"\",\n        \"description\": \"\"\n      }\n    }\n  ]\n}"
            }
          },
          "metadata": {},
          "execution_count": 16
        }
      ]
    },
    {
      "cell_type": "code",
      "source": [
        "pd.concat(winners)[[\"Year\",\t\"Athlete Name\",\t\"Sport\", \"Total\"]]"
      ],
      "metadata": {
        "id": "Qkd4c8LKcOGt",
        "colab": {
          "base_uri": "https://localhost:8080/",
          "height": 833
        },
        "outputId": "3824cdfd-ff33-4149-8e03-550f47bc169c"
      },
      "execution_count": 17,
      "outputs": [
        {
          "output_type": "execute_result",
          "data": {
            "text/plain": [
              "Medal    Year                 Athlete Name       Sport  Total\n",
              "32642    1896              GARRETT, Robert   athletics      4\n",
              "107612   1900               BAXTER, Irving   athletics      5\n",
              "245424   1904                 HEIDA, Anton  gymnastics      6\n",
              "390390   1908             SHEPPARD, Melvin   athletics      3\n",
              "480240   1912        OSBURN, Carl Townsend    shooting      4\n",
              "566940   1920                  LEE, Willis    shooting      7\n",
              "710940   1924          WEISSMULLER, Johnny    aquatics      4\n",
              "813348   1928          WEISSMULLER, Johnny    aquatics      2\n",
              "877370   1932              MADISON, Helene    aquatics      3\n",
              "992530   1936                 OWENS, Jesse   athletics      4\n",
              "1086402  1948      MCLANE, James Price Jr.    aquatics      3\n",
              "1178576  1952          KONNO, Ford Hiroshi    aquatics      3\n",
              "1295504  1956        MORROW, Robert Joseph   athletics      3\n",
              "1425994  1960  VON SALTZA, Susan Christina    aquatics      4\n",
              "1514564  1964   SCHOLLANDER, Donald Arthur    aquatics      4\n",
              "1577804  1968    HICKCOX, Charles Buchanan    aquatics      4\n",
              "1724820  1972                  SPITZ, Mark    aquatics      7\n",
              "1808732  1976         NABER, John Phillips    aquatics      5\n",
              "1919142  1984             RETTON, Mary-Lou  gymnastics      5\n",
              "1953334  1988              BIONDI, Matthew    aquatics      7\n",
              "2112636  1992              MILLER, Shannon  gymnastics      5\n",
              "2244204  1996               VAN DYKEN, Amy    aquatics      4\n",
              "2345014  2000                 TORRES, Dara    aquatics      5\n",
              "2428246  2004              PHELPS, Michael    aquatics      8\n",
              "2530654  2008              PHELPS, Michael    aquatics      8"
            ],
            "text/html": [
              "\n",
              "  <div id=\"df-d60ecce7-dd6b-4057-b678-6b3a9480831a\" class=\"colab-df-container\">\n",
              "    <div>\n",
              "<style scoped>\n",
              "    .dataframe tbody tr th:only-of-type {\n",
              "        vertical-align: middle;\n",
              "    }\n",
              "\n",
              "    .dataframe tbody tr th {\n",
              "        vertical-align: top;\n",
              "    }\n",
              "\n",
              "    .dataframe thead th {\n",
              "        text-align: right;\n",
              "    }\n",
              "</style>\n",
              "<table border=\"1\" class=\"dataframe\">\n",
              "  <thead>\n",
              "    <tr style=\"text-align: right;\">\n",
              "      <th>Medal</th>\n",
              "      <th>Year</th>\n",
              "      <th>Athlete Name</th>\n",
              "      <th>Sport</th>\n",
              "      <th>Total</th>\n",
              "    </tr>\n",
              "  </thead>\n",
              "  <tbody>\n",
              "    <tr>\n",
              "      <th>32642</th>\n",
              "      <td>1896</td>\n",
              "      <td>GARRETT, Robert</td>\n",
              "      <td>athletics</td>\n",
              "      <td>4</td>\n",
              "    </tr>\n",
              "    <tr>\n",
              "      <th>107612</th>\n",
              "      <td>1900</td>\n",
              "      <td>BAXTER, Irving</td>\n",
              "      <td>athletics</td>\n",
              "      <td>5</td>\n",
              "    </tr>\n",
              "    <tr>\n",
              "      <th>245424</th>\n",
              "      <td>1904</td>\n",
              "      <td>HEIDA, Anton</td>\n",
              "      <td>gymnastics</td>\n",
              "      <td>6</td>\n",
              "    </tr>\n",
              "    <tr>\n",
              "      <th>390390</th>\n",
              "      <td>1908</td>\n",
              "      <td>SHEPPARD, Melvin</td>\n",
              "      <td>athletics</td>\n",
              "      <td>3</td>\n",
              "    </tr>\n",
              "    <tr>\n",
              "      <th>480240</th>\n",
              "      <td>1912</td>\n",
              "      <td>OSBURN, Carl Townsend</td>\n",
              "      <td>shooting</td>\n",
              "      <td>4</td>\n",
              "    </tr>\n",
              "    <tr>\n",
              "      <th>566940</th>\n",
              "      <td>1920</td>\n",
              "      <td>LEE, Willis</td>\n",
              "      <td>shooting</td>\n",
              "      <td>7</td>\n",
              "    </tr>\n",
              "    <tr>\n",
              "      <th>710940</th>\n",
              "      <td>1924</td>\n",
              "      <td>WEISSMULLER, Johnny</td>\n",
              "      <td>aquatics</td>\n",
              "      <td>4</td>\n",
              "    </tr>\n",
              "    <tr>\n",
              "      <th>813348</th>\n",
              "      <td>1928</td>\n",
              "      <td>WEISSMULLER, Johnny</td>\n",
              "      <td>aquatics</td>\n",
              "      <td>2</td>\n",
              "    </tr>\n",
              "    <tr>\n",
              "      <th>877370</th>\n",
              "      <td>1932</td>\n",
              "      <td>MADISON, Helene</td>\n",
              "      <td>aquatics</td>\n",
              "      <td>3</td>\n",
              "    </tr>\n",
              "    <tr>\n",
              "      <th>992530</th>\n",
              "      <td>1936</td>\n",
              "      <td>OWENS, Jesse</td>\n",
              "      <td>athletics</td>\n",
              "      <td>4</td>\n",
              "    </tr>\n",
              "    <tr>\n",
              "      <th>1086402</th>\n",
              "      <td>1948</td>\n",
              "      <td>MCLANE, James Price Jr.</td>\n",
              "      <td>aquatics</td>\n",
              "      <td>3</td>\n",
              "    </tr>\n",
              "    <tr>\n",
              "      <th>1178576</th>\n",
              "      <td>1952</td>\n",
              "      <td>KONNO, Ford Hiroshi</td>\n",
              "      <td>aquatics</td>\n",
              "      <td>3</td>\n",
              "    </tr>\n",
              "    <tr>\n",
              "      <th>1295504</th>\n",
              "      <td>1956</td>\n",
              "      <td>MORROW, Robert Joseph</td>\n",
              "      <td>athletics</td>\n",
              "      <td>3</td>\n",
              "    </tr>\n",
              "    <tr>\n",
              "      <th>1425994</th>\n",
              "      <td>1960</td>\n",
              "      <td>VON SALTZA, Susan Christina</td>\n",
              "      <td>aquatics</td>\n",
              "      <td>4</td>\n",
              "    </tr>\n",
              "    <tr>\n",
              "      <th>1514564</th>\n",
              "      <td>1964</td>\n",
              "      <td>SCHOLLANDER, Donald Arthur</td>\n",
              "      <td>aquatics</td>\n",
              "      <td>4</td>\n",
              "    </tr>\n",
              "    <tr>\n",
              "      <th>1577804</th>\n",
              "      <td>1968</td>\n",
              "      <td>HICKCOX, Charles Buchanan</td>\n",
              "      <td>aquatics</td>\n",
              "      <td>4</td>\n",
              "    </tr>\n",
              "    <tr>\n",
              "      <th>1724820</th>\n",
              "      <td>1972</td>\n",
              "      <td>SPITZ, Mark</td>\n",
              "      <td>aquatics</td>\n",
              "      <td>7</td>\n",
              "    </tr>\n",
              "    <tr>\n",
              "      <th>1808732</th>\n",
              "      <td>1976</td>\n",
              "      <td>NABER, John Phillips</td>\n",
              "      <td>aquatics</td>\n",
              "      <td>5</td>\n",
              "    </tr>\n",
              "    <tr>\n",
              "      <th>1919142</th>\n",
              "      <td>1984</td>\n",
              "      <td>RETTON, Mary-Lou</td>\n",
              "      <td>gymnastics</td>\n",
              "      <td>5</td>\n",
              "    </tr>\n",
              "    <tr>\n",
              "      <th>1953334</th>\n",
              "      <td>1988</td>\n",
              "      <td>BIONDI, Matthew</td>\n",
              "      <td>aquatics</td>\n",
              "      <td>7</td>\n",
              "    </tr>\n",
              "    <tr>\n",
              "      <th>2112636</th>\n",
              "      <td>1992</td>\n",
              "      <td>MILLER, Shannon</td>\n",
              "      <td>gymnastics</td>\n",
              "      <td>5</td>\n",
              "    </tr>\n",
              "    <tr>\n",
              "      <th>2244204</th>\n",
              "      <td>1996</td>\n",
              "      <td>VAN DYKEN, Amy</td>\n",
              "      <td>aquatics</td>\n",
              "      <td>4</td>\n",
              "    </tr>\n",
              "    <tr>\n",
              "      <th>2345014</th>\n",
              "      <td>2000</td>\n",
              "      <td>TORRES, Dara</td>\n",
              "      <td>aquatics</td>\n",
              "      <td>5</td>\n",
              "    </tr>\n",
              "    <tr>\n",
              "      <th>2428246</th>\n",
              "      <td>2004</td>\n",
              "      <td>PHELPS, Michael</td>\n",
              "      <td>aquatics</td>\n",
              "      <td>8</td>\n",
              "    </tr>\n",
              "    <tr>\n",
              "      <th>2530654</th>\n",
              "      <td>2008</td>\n",
              "      <td>PHELPS, Michael</td>\n",
              "      <td>aquatics</td>\n",
              "      <td>8</td>\n",
              "    </tr>\n",
              "  </tbody>\n",
              "</table>\n",
              "</div>\n",
              "    <div class=\"colab-df-buttons\">\n",
              "\n",
              "  <div class=\"colab-df-container\">\n",
              "    <button class=\"colab-df-convert\" onclick=\"convertToInteractive('df-d60ecce7-dd6b-4057-b678-6b3a9480831a')\"\n",
              "            title=\"Convert this dataframe to an interactive table.\"\n",
              "            style=\"display:none;\">\n",
              "\n",
              "  <svg xmlns=\"http://www.w3.org/2000/svg\" height=\"24px\" viewBox=\"0 -960 960 960\">\n",
              "    <path d=\"M120-120v-720h720v720H120Zm60-500h600v-160H180v160Zm220 220h160v-160H400v160Zm0 220h160v-160H400v160ZM180-400h160v-160H180v160Zm440 0h160v-160H620v160ZM180-180h160v-160H180v160Zm440 0h160v-160H620v160Z\"/>\n",
              "  </svg>\n",
              "    </button>\n",
              "\n",
              "  <style>\n",
              "    .colab-df-container {\n",
              "      display:flex;\n",
              "      gap: 12px;\n",
              "    }\n",
              "\n",
              "    .colab-df-convert {\n",
              "      background-color: #E8F0FE;\n",
              "      border: none;\n",
              "      border-radius: 50%;\n",
              "      cursor: pointer;\n",
              "      display: none;\n",
              "      fill: #1967D2;\n",
              "      height: 32px;\n",
              "      padding: 0 0 0 0;\n",
              "      width: 32px;\n",
              "    }\n",
              "\n",
              "    .colab-df-convert:hover {\n",
              "      background-color: #E2EBFA;\n",
              "      box-shadow: 0px 1px 2px rgba(60, 64, 67, 0.3), 0px 1px 3px 1px rgba(60, 64, 67, 0.15);\n",
              "      fill: #174EA6;\n",
              "    }\n",
              "\n",
              "    .colab-df-buttons div {\n",
              "      margin-bottom: 4px;\n",
              "    }\n",
              "\n",
              "    [theme=dark] .colab-df-convert {\n",
              "      background-color: #3B4455;\n",
              "      fill: #D2E3FC;\n",
              "    }\n",
              "\n",
              "    [theme=dark] .colab-df-convert:hover {\n",
              "      background-color: #434B5C;\n",
              "      box-shadow: 0px 1px 3px 1px rgba(0, 0, 0, 0.15);\n",
              "      filter: drop-shadow(0px 1px 2px rgba(0, 0, 0, 0.3));\n",
              "      fill: #FFFFFF;\n",
              "    }\n",
              "  </style>\n",
              "\n",
              "    <script>\n",
              "      const buttonEl =\n",
              "        document.querySelector('#df-d60ecce7-dd6b-4057-b678-6b3a9480831a button.colab-df-convert');\n",
              "      buttonEl.style.display =\n",
              "        google.colab.kernel.accessAllowed ? 'block' : 'none';\n",
              "\n",
              "      async function convertToInteractive(key) {\n",
              "        const element = document.querySelector('#df-d60ecce7-dd6b-4057-b678-6b3a9480831a');\n",
              "        const dataTable =\n",
              "          await google.colab.kernel.invokeFunction('convertToInteractive',\n",
              "                                                    [key], {});\n",
              "        if (!dataTable) return;\n",
              "\n",
              "        const docLinkHtml = 'Like what you see? Visit the ' +\n",
              "          '<a target=\"_blank\" href=https://colab.research.google.com/notebooks/data_table.ipynb>data table notebook</a>'\n",
              "          + ' to learn more about interactive tables.';\n",
              "        element.innerHTML = '';\n",
              "        dataTable['output_type'] = 'display_data';\n",
              "        await google.colab.output.renderOutput(dataTable, element);\n",
              "        const docLink = document.createElement('div');\n",
              "        docLink.innerHTML = docLinkHtml;\n",
              "        element.appendChild(docLink);\n",
              "      }\n",
              "    </script>\n",
              "  </div>\n",
              "\n",
              "\n",
              "<div id=\"df-7f9cec11-b3b6-42be-83dd-73c58ff5c4d5\">\n",
              "  <button class=\"colab-df-quickchart\" onclick=\"quickchart('df-7f9cec11-b3b6-42be-83dd-73c58ff5c4d5')\"\n",
              "            title=\"Suggest charts\"\n",
              "            style=\"display:none;\">\n",
              "\n",
              "<svg xmlns=\"http://www.w3.org/2000/svg\" height=\"24px\"viewBox=\"0 0 24 24\"\n",
              "     width=\"24px\">\n",
              "    <g>\n",
              "        <path d=\"M19 3H5c-1.1 0-2 .9-2 2v14c0 1.1.9 2 2 2h14c1.1 0 2-.9 2-2V5c0-1.1-.9-2-2-2zM9 17H7v-7h2v7zm4 0h-2V7h2v10zm4 0h-2v-4h2v4z\"/>\n",
              "    </g>\n",
              "</svg>\n",
              "  </button>\n",
              "\n",
              "<style>\n",
              "  .colab-df-quickchart {\n",
              "      --bg-color: #E8F0FE;\n",
              "      --fill-color: #1967D2;\n",
              "      --hover-bg-color: #E2EBFA;\n",
              "      --hover-fill-color: #174EA6;\n",
              "      --disabled-fill-color: #AAA;\n",
              "      --disabled-bg-color: #DDD;\n",
              "  }\n",
              "\n",
              "  [theme=dark] .colab-df-quickchart {\n",
              "      --bg-color: #3B4455;\n",
              "      --fill-color: #D2E3FC;\n",
              "      --hover-bg-color: #434B5C;\n",
              "      --hover-fill-color: #FFFFFF;\n",
              "      --disabled-bg-color: #3B4455;\n",
              "      --disabled-fill-color: #666;\n",
              "  }\n",
              "\n",
              "  .colab-df-quickchart {\n",
              "    background-color: var(--bg-color);\n",
              "    border: none;\n",
              "    border-radius: 50%;\n",
              "    cursor: pointer;\n",
              "    display: none;\n",
              "    fill: var(--fill-color);\n",
              "    height: 32px;\n",
              "    padding: 0;\n",
              "    width: 32px;\n",
              "  }\n",
              "\n",
              "  .colab-df-quickchart:hover {\n",
              "    background-color: var(--hover-bg-color);\n",
              "    box-shadow: 0 1px 2px rgba(60, 64, 67, 0.3), 0 1px 3px 1px rgba(60, 64, 67, 0.15);\n",
              "    fill: var(--button-hover-fill-color);\n",
              "  }\n",
              "\n",
              "  .colab-df-quickchart-complete:disabled,\n",
              "  .colab-df-quickchart-complete:disabled:hover {\n",
              "    background-color: var(--disabled-bg-color);\n",
              "    fill: var(--disabled-fill-color);\n",
              "    box-shadow: none;\n",
              "  }\n",
              "\n",
              "  .colab-df-spinner {\n",
              "    border: 2px solid var(--fill-color);\n",
              "    border-color: transparent;\n",
              "    border-bottom-color: var(--fill-color);\n",
              "    animation:\n",
              "      spin 1s steps(1) infinite;\n",
              "  }\n",
              "\n",
              "  @keyframes spin {\n",
              "    0% {\n",
              "      border-color: transparent;\n",
              "      border-bottom-color: var(--fill-color);\n",
              "      border-left-color: var(--fill-color);\n",
              "    }\n",
              "    20% {\n",
              "      border-color: transparent;\n",
              "      border-left-color: var(--fill-color);\n",
              "      border-top-color: var(--fill-color);\n",
              "    }\n",
              "    30% {\n",
              "      border-color: transparent;\n",
              "      border-left-color: var(--fill-color);\n",
              "      border-top-color: var(--fill-color);\n",
              "      border-right-color: var(--fill-color);\n",
              "    }\n",
              "    40% {\n",
              "      border-color: transparent;\n",
              "      border-right-color: var(--fill-color);\n",
              "      border-top-color: var(--fill-color);\n",
              "    }\n",
              "    60% {\n",
              "      border-color: transparent;\n",
              "      border-right-color: var(--fill-color);\n",
              "    }\n",
              "    80% {\n",
              "      border-color: transparent;\n",
              "      border-right-color: var(--fill-color);\n",
              "      border-bottom-color: var(--fill-color);\n",
              "    }\n",
              "    90% {\n",
              "      border-color: transparent;\n",
              "      border-bottom-color: var(--fill-color);\n",
              "    }\n",
              "  }\n",
              "</style>\n",
              "\n",
              "  <script>\n",
              "    async function quickchart(key) {\n",
              "      const quickchartButtonEl =\n",
              "        document.querySelector('#' + key + ' button');\n",
              "      quickchartButtonEl.disabled = true;  // To prevent multiple clicks.\n",
              "      quickchartButtonEl.classList.add('colab-df-spinner');\n",
              "      try {\n",
              "        const charts = await google.colab.kernel.invokeFunction(\n",
              "            'suggestCharts', [key], {});\n",
              "      } catch (error) {\n",
              "        console.error('Error during call to suggestCharts:', error);\n",
              "      }\n",
              "      quickchartButtonEl.classList.remove('colab-df-spinner');\n",
              "      quickchartButtonEl.classList.add('colab-df-quickchart-complete');\n",
              "    }\n",
              "    (() => {\n",
              "      let quickchartButtonEl =\n",
              "        document.querySelector('#df-7f9cec11-b3b6-42be-83dd-73c58ff5c4d5 button');\n",
              "      quickchartButtonEl.style.display =\n",
              "        google.colab.kernel.accessAllowed ? 'block' : 'none';\n",
              "    })();\n",
              "  </script>\n",
              "</div>\n",
              "\n",
              "    </div>\n",
              "  </div>\n"
            ],
            "application/vnd.google.colaboratory.intrinsic+json": {
              "type": "dataframe",
              "summary": "{\n  \"name\": \"pd\",\n  \"rows\": 25,\n  \"fields\": [\n    {\n      \"column\": \"Year\",\n      \"properties\": {\n        \"dtype\": \"number\",\n        \"std\": 35,\n        \"min\": 1896,\n        \"max\": 2008,\n        \"num_unique_values\": 25,\n        \"samples\": [\n          1932,\n          1972,\n          1896\n        ],\n        \"semantic_type\": \"\",\n        \"description\": \"\"\n      }\n    },\n    {\n      \"column\": \"Athlete Name\",\n      \"properties\": {\n        \"dtype\": \"string\",\n        \"num_unique_values\": 23,\n        \"samples\": [\n          \"SPITZ, Mark\",\n          \"MCLANE, James Price Jr.\",\n          \"GARRETT, Robert\"\n        ],\n        \"semantic_type\": \"\",\n        \"description\": \"\"\n      }\n    },\n    {\n      \"column\": \"Sport\",\n      \"properties\": {\n        \"dtype\": \"string\",\n        \"num_unique_values\": 4,\n        \"samples\": [\n          \"gymnastics\",\n          \"aquatics\",\n          \"athletics\"\n        ],\n        \"semantic_type\": \"\",\n        \"description\": \"\"\n      }\n    },\n    {\n      \"column\": \"Total\",\n      \"properties\": {\n        \"dtype\": \"number\",\n        \"std\": 1,\n        \"min\": 2,\n        \"max\": 8,\n        \"num_unique_values\": 7,\n        \"samples\": [\n          4,\n          5,\n          2\n        ],\n        \"semantic_type\": \"\",\n        \"description\": \"\"\n      }\n    }\n  ]\n}"
            }
          },
          "metadata": {},
          "execution_count": 17
        }
      ]
    },
    {
      "cell_type": "code",
      "source": [
        "pd.concat(winners)[[\"Year\",\t\"Athlete Name\",\t\"Sport\", \"Total\"]].reset_index()"
      ],
      "metadata": {
        "id": "4azCAhsZcOCr",
        "colab": {
          "base_uri": "https://localhost:8080/",
          "height": 833
        },
        "outputId": "ab22025c-69e5-4c46-8ca1-2eb0a4536f37"
      },
      "execution_count": 18,
      "outputs": [
        {
          "output_type": "execute_result",
          "data": {
            "text/plain": [
              "Medal    index  Year                 Athlete Name       Sport  Total\n",
              "0        32642  1896              GARRETT, Robert   athletics      4\n",
              "1       107612  1900               BAXTER, Irving   athletics      5\n",
              "2       245424  1904                 HEIDA, Anton  gymnastics      6\n",
              "3       390390  1908             SHEPPARD, Melvin   athletics      3\n",
              "4       480240  1912        OSBURN, Carl Townsend    shooting      4\n",
              "5       566940  1920                  LEE, Willis    shooting      7\n",
              "6       710940  1924          WEISSMULLER, Johnny    aquatics      4\n",
              "7       813348  1928          WEISSMULLER, Johnny    aquatics      2\n",
              "8       877370  1932              MADISON, Helene    aquatics      3\n",
              "9       992530  1936                 OWENS, Jesse   athletics      4\n",
              "10     1086402  1948      MCLANE, James Price Jr.    aquatics      3\n",
              "11     1178576  1952          KONNO, Ford Hiroshi    aquatics      3\n",
              "12     1295504  1956        MORROW, Robert Joseph   athletics      3\n",
              "13     1425994  1960  VON SALTZA, Susan Christina    aquatics      4\n",
              "14     1514564  1964   SCHOLLANDER, Donald Arthur    aquatics      4\n",
              "15     1577804  1968    HICKCOX, Charles Buchanan    aquatics      4\n",
              "16     1724820  1972                  SPITZ, Mark    aquatics      7\n",
              "17     1808732  1976         NABER, John Phillips    aquatics      5\n",
              "18     1919142  1984             RETTON, Mary-Lou  gymnastics      5\n",
              "19     1953334  1988              BIONDI, Matthew    aquatics      7\n",
              "20     2112636  1992              MILLER, Shannon  gymnastics      5\n",
              "21     2244204  1996               VAN DYKEN, Amy    aquatics      4\n",
              "22     2345014  2000                 TORRES, Dara    aquatics      5\n",
              "23     2428246  2004              PHELPS, Michael    aquatics      8\n",
              "24     2530654  2008              PHELPS, Michael    aquatics      8"
            ],
            "text/html": [
              "\n",
              "  <div id=\"df-68eb1757-8ae0-4c97-8f28-f7e9f9e09b3d\" class=\"colab-df-container\">\n",
              "    <div>\n",
              "<style scoped>\n",
              "    .dataframe tbody tr th:only-of-type {\n",
              "        vertical-align: middle;\n",
              "    }\n",
              "\n",
              "    .dataframe tbody tr th {\n",
              "        vertical-align: top;\n",
              "    }\n",
              "\n",
              "    .dataframe thead th {\n",
              "        text-align: right;\n",
              "    }\n",
              "</style>\n",
              "<table border=\"1\" class=\"dataframe\">\n",
              "  <thead>\n",
              "    <tr style=\"text-align: right;\">\n",
              "      <th>Medal</th>\n",
              "      <th>index</th>\n",
              "      <th>Year</th>\n",
              "      <th>Athlete Name</th>\n",
              "      <th>Sport</th>\n",
              "      <th>Total</th>\n",
              "    </tr>\n",
              "  </thead>\n",
              "  <tbody>\n",
              "    <tr>\n",
              "      <th>0</th>\n",
              "      <td>32642</td>\n",
              "      <td>1896</td>\n",
              "      <td>GARRETT, Robert</td>\n",
              "      <td>athletics</td>\n",
              "      <td>4</td>\n",
              "    </tr>\n",
              "    <tr>\n",
              "      <th>1</th>\n",
              "      <td>107612</td>\n",
              "      <td>1900</td>\n",
              "      <td>BAXTER, Irving</td>\n",
              "      <td>athletics</td>\n",
              "      <td>5</td>\n",
              "    </tr>\n",
              "    <tr>\n",
              "      <th>2</th>\n",
              "      <td>245424</td>\n",
              "      <td>1904</td>\n",
              "      <td>HEIDA, Anton</td>\n",
              "      <td>gymnastics</td>\n",
              "      <td>6</td>\n",
              "    </tr>\n",
              "    <tr>\n",
              "      <th>3</th>\n",
              "      <td>390390</td>\n",
              "      <td>1908</td>\n",
              "      <td>SHEPPARD, Melvin</td>\n",
              "      <td>athletics</td>\n",
              "      <td>3</td>\n",
              "    </tr>\n",
              "    <tr>\n",
              "      <th>4</th>\n",
              "      <td>480240</td>\n",
              "      <td>1912</td>\n",
              "      <td>OSBURN, Carl Townsend</td>\n",
              "      <td>shooting</td>\n",
              "      <td>4</td>\n",
              "    </tr>\n",
              "    <tr>\n",
              "      <th>5</th>\n",
              "      <td>566940</td>\n",
              "      <td>1920</td>\n",
              "      <td>LEE, Willis</td>\n",
              "      <td>shooting</td>\n",
              "      <td>7</td>\n",
              "    </tr>\n",
              "    <tr>\n",
              "      <th>6</th>\n",
              "      <td>710940</td>\n",
              "      <td>1924</td>\n",
              "      <td>WEISSMULLER, Johnny</td>\n",
              "      <td>aquatics</td>\n",
              "      <td>4</td>\n",
              "    </tr>\n",
              "    <tr>\n",
              "      <th>7</th>\n",
              "      <td>813348</td>\n",
              "      <td>1928</td>\n",
              "      <td>WEISSMULLER, Johnny</td>\n",
              "      <td>aquatics</td>\n",
              "      <td>2</td>\n",
              "    </tr>\n",
              "    <tr>\n",
              "      <th>8</th>\n",
              "      <td>877370</td>\n",
              "      <td>1932</td>\n",
              "      <td>MADISON, Helene</td>\n",
              "      <td>aquatics</td>\n",
              "      <td>3</td>\n",
              "    </tr>\n",
              "    <tr>\n",
              "      <th>9</th>\n",
              "      <td>992530</td>\n",
              "      <td>1936</td>\n",
              "      <td>OWENS, Jesse</td>\n",
              "      <td>athletics</td>\n",
              "      <td>4</td>\n",
              "    </tr>\n",
              "    <tr>\n",
              "      <th>10</th>\n",
              "      <td>1086402</td>\n",
              "      <td>1948</td>\n",
              "      <td>MCLANE, James Price Jr.</td>\n",
              "      <td>aquatics</td>\n",
              "      <td>3</td>\n",
              "    </tr>\n",
              "    <tr>\n",
              "      <th>11</th>\n",
              "      <td>1178576</td>\n",
              "      <td>1952</td>\n",
              "      <td>KONNO, Ford Hiroshi</td>\n",
              "      <td>aquatics</td>\n",
              "      <td>3</td>\n",
              "    </tr>\n",
              "    <tr>\n",
              "      <th>12</th>\n",
              "      <td>1295504</td>\n",
              "      <td>1956</td>\n",
              "      <td>MORROW, Robert Joseph</td>\n",
              "      <td>athletics</td>\n",
              "      <td>3</td>\n",
              "    </tr>\n",
              "    <tr>\n",
              "      <th>13</th>\n",
              "      <td>1425994</td>\n",
              "      <td>1960</td>\n",
              "      <td>VON SALTZA, Susan Christina</td>\n",
              "      <td>aquatics</td>\n",
              "      <td>4</td>\n",
              "    </tr>\n",
              "    <tr>\n",
              "      <th>14</th>\n",
              "      <td>1514564</td>\n",
              "      <td>1964</td>\n",
              "      <td>SCHOLLANDER, Donald Arthur</td>\n",
              "      <td>aquatics</td>\n",
              "      <td>4</td>\n",
              "    </tr>\n",
              "    <tr>\n",
              "      <th>15</th>\n",
              "      <td>1577804</td>\n",
              "      <td>1968</td>\n",
              "      <td>HICKCOX, Charles Buchanan</td>\n",
              "      <td>aquatics</td>\n",
              "      <td>4</td>\n",
              "    </tr>\n",
              "    <tr>\n",
              "      <th>16</th>\n",
              "      <td>1724820</td>\n",
              "      <td>1972</td>\n",
              "      <td>SPITZ, Mark</td>\n",
              "      <td>aquatics</td>\n",
              "      <td>7</td>\n",
              "    </tr>\n",
              "    <tr>\n",
              "      <th>17</th>\n",
              "      <td>1808732</td>\n",
              "      <td>1976</td>\n",
              "      <td>NABER, John Phillips</td>\n",
              "      <td>aquatics</td>\n",
              "      <td>5</td>\n",
              "    </tr>\n",
              "    <tr>\n",
              "      <th>18</th>\n",
              "      <td>1919142</td>\n",
              "      <td>1984</td>\n",
              "      <td>RETTON, Mary-Lou</td>\n",
              "      <td>gymnastics</td>\n",
              "      <td>5</td>\n",
              "    </tr>\n",
              "    <tr>\n",
              "      <th>19</th>\n",
              "      <td>1953334</td>\n",
              "      <td>1988</td>\n",
              "      <td>BIONDI, Matthew</td>\n",
              "      <td>aquatics</td>\n",
              "      <td>7</td>\n",
              "    </tr>\n",
              "    <tr>\n",
              "      <th>20</th>\n",
              "      <td>2112636</td>\n",
              "      <td>1992</td>\n",
              "      <td>MILLER, Shannon</td>\n",
              "      <td>gymnastics</td>\n",
              "      <td>5</td>\n",
              "    </tr>\n",
              "    <tr>\n",
              "      <th>21</th>\n",
              "      <td>2244204</td>\n",
              "      <td>1996</td>\n",
              "      <td>VAN DYKEN, Amy</td>\n",
              "      <td>aquatics</td>\n",
              "      <td>4</td>\n",
              "    </tr>\n",
              "    <tr>\n",
              "      <th>22</th>\n",
              "      <td>2345014</td>\n",
              "      <td>2000</td>\n",
              "      <td>TORRES, Dara</td>\n",
              "      <td>aquatics</td>\n",
              "      <td>5</td>\n",
              "    </tr>\n",
              "    <tr>\n",
              "      <th>23</th>\n",
              "      <td>2428246</td>\n",
              "      <td>2004</td>\n",
              "      <td>PHELPS, Michael</td>\n",
              "      <td>aquatics</td>\n",
              "      <td>8</td>\n",
              "    </tr>\n",
              "    <tr>\n",
              "      <th>24</th>\n",
              "      <td>2530654</td>\n",
              "      <td>2008</td>\n",
              "      <td>PHELPS, Michael</td>\n",
              "      <td>aquatics</td>\n",
              "      <td>8</td>\n",
              "    </tr>\n",
              "  </tbody>\n",
              "</table>\n",
              "</div>\n",
              "    <div class=\"colab-df-buttons\">\n",
              "\n",
              "  <div class=\"colab-df-container\">\n",
              "    <button class=\"colab-df-convert\" onclick=\"convertToInteractive('df-68eb1757-8ae0-4c97-8f28-f7e9f9e09b3d')\"\n",
              "            title=\"Convert this dataframe to an interactive table.\"\n",
              "            style=\"display:none;\">\n",
              "\n",
              "  <svg xmlns=\"http://www.w3.org/2000/svg\" height=\"24px\" viewBox=\"0 -960 960 960\">\n",
              "    <path d=\"M120-120v-720h720v720H120Zm60-500h600v-160H180v160Zm220 220h160v-160H400v160Zm0 220h160v-160H400v160ZM180-400h160v-160H180v160Zm440 0h160v-160H620v160ZM180-180h160v-160H180v160Zm440 0h160v-160H620v160Z\"/>\n",
              "  </svg>\n",
              "    </button>\n",
              "\n",
              "  <style>\n",
              "    .colab-df-container {\n",
              "      display:flex;\n",
              "      gap: 12px;\n",
              "    }\n",
              "\n",
              "    .colab-df-convert {\n",
              "      background-color: #E8F0FE;\n",
              "      border: none;\n",
              "      border-radius: 50%;\n",
              "      cursor: pointer;\n",
              "      display: none;\n",
              "      fill: #1967D2;\n",
              "      height: 32px;\n",
              "      padding: 0 0 0 0;\n",
              "      width: 32px;\n",
              "    }\n",
              "\n",
              "    .colab-df-convert:hover {\n",
              "      background-color: #E2EBFA;\n",
              "      box-shadow: 0px 1px 2px rgba(60, 64, 67, 0.3), 0px 1px 3px 1px rgba(60, 64, 67, 0.15);\n",
              "      fill: #174EA6;\n",
              "    }\n",
              "\n",
              "    .colab-df-buttons div {\n",
              "      margin-bottom: 4px;\n",
              "    }\n",
              "\n",
              "    [theme=dark] .colab-df-convert {\n",
              "      background-color: #3B4455;\n",
              "      fill: #D2E3FC;\n",
              "    }\n",
              "\n",
              "    [theme=dark] .colab-df-convert:hover {\n",
              "      background-color: #434B5C;\n",
              "      box-shadow: 0px 1px 3px 1px rgba(0, 0, 0, 0.15);\n",
              "      filter: drop-shadow(0px 1px 2px rgba(0, 0, 0, 0.3));\n",
              "      fill: #FFFFFF;\n",
              "    }\n",
              "  </style>\n",
              "\n",
              "    <script>\n",
              "      const buttonEl =\n",
              "        document.querySelector('#df-68eb1757-8ae0-4c97-8f28-f7e9f9e09b3d button.colab-df-convert');\n",
              "      buttonEl.style.display =\n",
              "        google.colab.kernel.accessAllowed ? 'block' : 'none';\n",
              "\n",
              "      async function convertToInteractive(key) {\n",
              "        const element = document.querySelector('#df-68eb1757-8ae0-4c97-8f28-f7e9f9e09b3d');\n",
              "        const dataTable =\n",
              "          await google.colab.kernel.invokeFunction('convertToInteractive',\n",
              "                                                    [key], {});\n",
              "        if (!dataTable) return;\n",
              "\n",
              "        const docLinkHtml = 'Like what you see? Visit the ' +\n",
              "          '<a target=\"_blank\" href=https://colab.research.google.com/notebooks/data_table.ipynb>data table notebook</a>'\n",
              "          + ' to learn more about interactive tables.';\n",
              "        element.innerHTML = '';\n",
              "        dataTable['output_type'] = 'display_data';\n",
              "        await google.colab.output.renderOutput(dataTable, element);\n",
              "        const docLink = document.createElement('div');\n",
              "        docLink.innerHTML = docLinkHtml;\n",
              "        element.appendChild(docLink);\n",
              "      }\n",
              "    </script>\n",
              "  </div>\n",
              "\n",
              "\n",
              "<div id=\"df-aef07c8e-3606-4af7-a4e1-535d3e2e555a\">\n",
              "  <button class=\"colab-df-quickchart\" onclick=\"quickchart('df-aef07c8e-3606-4af7-a4e1-535d3e2e555a')\"\n",
              "            title=\"Suggest charts\"\n",
              "            style=\"display:none;\">\n",
              "\n",
              "<svg xmlns=\"http://www.w3.org/2000/svg\" height=\"24px\"viewBox=\"0 0 24 24\"\n",
              "     width=\"24px\">\n",
              "    <g>\n",
              "        <path d=\"M19 3H5c-1.1 0-2 .9-2 2v14c0 1.1.9 2 2 2h14c1.1 0 2-.9 2-2V5c0-1.1-.9-2-2-2zM9 17H7v-7h2v7zm4 0h-2V7h2v10zm4 0h-2v-4h2v4z\"/>\n",
              "    </g>\n",
              "</svg>\n",
              "  </button>\n",
              "\n",
              "<style>\n",
              "  .colab-df-quickchart {\n",
              "      --bg-color: #E8F0FE;\n",
              "      --fill-color: #1967D2;\n",
              "      --hover-bg-color: #E2EBFA;\n",
              "      --hover-fill-color: #174EA6;\n",
              "      --disabled-fill-color: #AAA;\n",
              "      --disabled-bg-color: #DDD;\n",
              "  }\n",
              "\n",
              "  [theme=dark] .colab-df-quickchart {\n",
              "      --bg-color: #3B4455;\n",
              "      --fill-color: #D2E3FC;\n",
              "      --hover-bg-color: #434B5C;\n",
              "      --hover-fill-color: #FFFFFF;\n",
              "      --disabled-bg-color: #3B4455;\n",
              "      --disabled-fill-color: #666;\n",
              "  }\n",
              "\n",
              "  .colab-df-quickchart {\n",
              "    background-color: var(--bg-color);\n",
              "    border: none;\n",
              "    border-radius: 50%;\n",
              "    cursor: pointer;\n",
              "    display: none;\n",
              "    fill: var(--fill-color);\n",
              "    height: 32px;\n",
              "    padding: 0;\n",
              "    width: 32px;\n",
              "  }\n",
              "\n",
              "  .colab-df-quickchart:hover {\n",
              "    background-color: var(--hover-bg-color);\n",
              "    box-shadow: 0 1px 2px rgba(60, 64, 67, 0.3), 0 1px 3px 1px rgba(60, 64, 67, 0.15);\n",
              "    fill: var(--button-hover-fill-color);\n",
              "  }\n",
              "\n",
              "  .colab-df-quickchart-complete:disabled,\n",
              "  .colab-df-quickchart-complete:disabled:hover {\n",
              "    background-color: var(--disabled-bg-color);\n",
              "    fill: var(--disabled-fill-color);\n",
              "    box-shadow: none;\n",
              "  }\n",
              "\n",
              "  .colab-df-spinner {\n",
              "    border: 2px solid var(--fill-color);\n",
              "    border-color: transparent;\n",
              "    border-bottom-color: var(--fill-color);\n",
              "    animation:\n",
              "      spin 1s steps(1) infinite;\n",
              "  }\n",
              "\n",
              "  @keyframes spin {\n",
              "    0% {\n",
              "      border-color: transparent;\n",
              "      border-bottom-color: var(--fill-color);\n",
              "      border-left-color: var(--fill-color);\n",
              "    }\n",
              "    20% {\n",
              "      border-color: transparent;\n",
              "      border-left-color: var(--fill-color);\n",
              "      border-top-color: var(--fill-color);\n",
              "    }\n",
              "    30% {\n",
              "      border-color: transparent;\n",
              "      border-left-color: var(--fill-color);\n",
              "      border-top-color: var(--fill-color);\n",
              "      border-right-color: var(--fill-color);\n",
              "    }\n",
              "    40% {\n",
              "      border-color: transparent;\n",
              "      border-right-color: var(--fill-color);\n",
              "      border-top-color: var(--fill-color);\n",
              "    }\n",
              "    60% {\n",
              "      border-color: transparent;\n",
              "      border-right-color: var(--fill-color);\n",
              "    }\n",
              "    80% {\n",
              "      border-color: transparent;\n",
              "      border-right-color: var(--fill-color);\n",
              "      border-bottom-color: var(--fill-color);\n",
              "    }\n",
              "    90% {\n",
              "      border-color: transparent;\n",
              "      border-bottom-color: var(--fill-color);\n",
              "    }\n",
              "  }\n",
              "</style>\n",
              "\n",
              "  <script>\n",
              "    async function quickchart(key) {\n",
              "      const quickchartButtonEl =\n",
              "        document.querySelector('#' + key + ' button');\n",
              "      quickchartButtonEl.disabled = true;  // To prevent multiple clicks.\n",
              "      quickchartButtonEl.classList.add('colab-df-spinner');\n",
              "      try {\n",
              "        const charts = await google.colab.kernel.invokeFunction(\n",
              "            'suggestCharts', [key], {});\n",
              "      } catch (error) {\n",
              "        console.error('Error during call to suggestCharts:', error);\n",
              "      }\n",
              "      quickchartButtonEl.classList.remove('colab-df-spinner');\n",
              "      quickchartButtonEl.classList.add('colab-df-quickchart-complete');\n",
              "    }\n",
              "    (() => {\n",
              "      let quickchartButtonEl =\n",
              "        document.querySelector('#df-aef07c8e-3606-4af7-a4e1-535d3e2e555a button');\n",
              "      quickchartButtonEl.style.display =\n",
              "        google.colab.kernel.accessAllowed ? 'block' : 'none';\n",
              "    })();\n",
              "  </script>\n",
              "</div>\n",
              "\n",
              "    </div>\n",
              "  </div>\n"
            ],
            "application/vnd.google.colaboratory.intrinsic+json": {
              "type": "dataframe",
              "summary": "{\n  \"name\": \"pd\",\n  \"rows\": 25,\n  \"fields\": [\n    {\n      \"column\": \"index\",\n      \"properties\": {\n        \"dtype\": \"number\",\n        \"std\": 761398,\n        \"min\": 32642,\n        \"max\": 2530654,\n        \"num_unique_values\": 25,\n        \"samples\": [\n          877370,\n          1724820,\n          32642\n        ],\n        \"semantic_type\": \"\",\n        \"description\": \"\"\n      }\n    },\n    {\n      \"column\": \"Year\",\n      \"properties\": {\n        \"dtype\": \"number\",\n        \"std\": 35,\n        \"min\": 1896,\n        \"max\": 2008,\n        \"num_unique_values\": 25,\n        \"samples\": [\n          1932,\n          1972,\n          1896\n        ],\n        \"semantic_type\": \"\",\n        \"description\": \"\"\n      }\n    },\n    {\n      \"column\": \"Athlete Name\",\n      \"properties\": {\n        \"dtype\": \"string\",\n        \"num_unique_values\": 23,\n        \"samples\": [\n          \"SPITZ, Mark\",\n          \"MCLANE, James Price Jr.\",\n          \"GARRETT, Robert\"\n        ],\n        \"semantic_type\": \"\",\n        \"description\": \"\"\n      }\n    },\n    {\n      \"column\": \"Sport\",\n      \"properties\": {\n        \"dtype\": \"string\",\n        \"num_unique_values\": 4,\n        \"samples\": [\n          \"gymnastics\",\n          \"aquatics\",\n          \"athletics\"\n        ],\n        \"semantic_type\": \"\",\n        \"description\": \"\"\n      }\n    },\n    {\n      \"column\": \"Total\",\n      \"properties\": {\n        \"dtype\": \"number\",\n        \"std\": 1,\n        \"min\": 2,\n        \"max\": 8,\n        \"num_unique_values\": 7,\n        \"samples\": [\n          4,\n          5,\n          2\n        ],\n        \"semantic_type\": \"\",\n        \"description\": \"\"\n      }\n    }\n  ]\n}"
            }
          },
          "metadata": {},
          "execution_count": 18
        }
      ]
    },
    {
      "cell_type": "code",
      "source": [
        "pd.concat(winners)[[\"Year\",\t\"Athlete Name\",\t\"Sport\", \"Total\"]].reset_index?"
      ],
      "metadata": {
        "id": "oLalobULcN-l",
        "colab": {
          "base_uri": "https://localhost:8080/"
        },
        "outputId": "945a908d-5ade-4613-a812-c86ce787ab6e"
      },
      "execution_count": 19,
      "outputs": [
        {
          "output_type": "stream",
          "name": "stdout",
          "text": [
            "Object `reset_index` not found.\n"
          ]
        }
      ]
    },
    {
      "cell_type": "code",
      "source": [
        "pd.DataFrame.reset_index?"
      ],
      "metadata": {
        "id": "XvlJx_mkcN6b"
      },
      "execution_count": 20,
      "outputs": []
    },
    {
      "cell_type": "code",
      "source": [
        "pd.concat(winners)[[\"Year\",\t\"Athlete Name\",\t\"Sport\", \"Total\"]].reset_index(drop=True)"
      ],
      "metadata": {
        "id": "pu1EH5vZcN2i",
        "colab": {
          "base_uri": "https://localhost:8080/",
          "height": 833
        },
        "outputId": "aba50171-d4b1-4a93-f621-0c561a0ec355"
      },
      "execution_count": 21,
      "outputs": [
        {
          "output_type": "execute_result",
          "data": {
            "text/plain": [
              "Medal  Year                 Athlete Name       Sport  Total\n",
              "0      1896              GARRETT, Robert   athletics      4\n",
              "1      1900               BAXTER, Irving   athletics      5\n",
              "2      1904                 HEIDA, Anton  gymnastics      6\n",
              "3      1908             SHEPPARD, Melvin   athletics      3\n",
              "4      1912        OSBURN, Carl Townsend    shooting      4\n",
              "5      1920                  LEE, Willis    shooting      7\n",
              "6      1924          WEISSMULLER, Johnny    aquatics      4\n",
              "7      1928          WEISSMULLER, Johnny    aquatics      2\n",
              "8      1932              MADISON, Helene    aquatics      3\n",
              "9      1936                 OWENS, Jesse   athletics      4\n",
              "10     1948      MCLANE, James Price Jr.    aquatics      3\n",
              "11     1952          KONNO, Ford Hiroshi    aquatics      3\n",
              "12     1956        MORROW, Robert Joseph   athletics      3\n",
              "13     1960  VON SALTZA, Susan Christina    aquatics      4\n",
              "14     1964   SCHOLLANDER, Donald Arthur    aquatics      4\n",
              "15     1968    HICKCOX, Charles Buchanan    aquatics      4\n",
              "16     1972                  SPITZ, Mark    aquatics      7\n",
              "17     1976         NABER, John Phillips    aquatics      5\n",
              "18     1984             RETTON, Mary-Lou  gymnastics      5\n",
              "19     1988              BIONDI, Matthew    aquatics      7\n",
              "20     1992              MILLER, Shannon  gymnastics      5\n",
              "21     1996               VAN DYKEN, Amy    aquatics      4\n",
              "22     2000                 TORRES, Dara    aquatics      5\n",
              "23     2004              PHELPS, Michael    aquatics      8\n",
              "24     2008              PHELPS, Michael    aquatics      8"
            ],
            "text/html": [
              "\n",
              "  <div id=\"df-926f1f70-8d5a-42e9-82b1-f338de8de037\" class=\"colab-df-container\">\n",
              "    <div>\n",
              "<style scoped>\n",
              "    .dataframe tbody tr th:only-of-type {\n",
              "        vertical-align: middle;\n",
              "    }\n",
              "\n",
              "    .dataframe tbody tr th {\n",
              "        vertical-align: top;\n",
              "    }\n",
              "\n",
              "    .dataframe thead th {\n",
              "        text-align: right;\n",
              "    }\n",
              "</style>\n",
              "<table border=\"1\" class=\"dataframe\">\n",
              "  <thead>\n",
              "    <tr style=\"text-align: right;\">\n",
              "      <th>Medal</th>\n",
              "      <th>Year</th>\n",
              "      <th>Athlete Name</th>\n",
              "      <th>Sport</th>\n",
              "      <th>Total</th>\n",
              "    </tr>\n",
              "  </thead>\n",
              "  <tbody>\n",
              "    <tr>\n",
              "      <th>0</th>\n",
              "      <td>1896</td>\n",
              "      <td>GARRETT, Robert</td>\n",
              "      <td>athletics</td>\n",
              "      <td>4</td>\n",
              "    </tr>\n",
              "    <tr>\n",
              "      <th>1</th>\n",
              "      <td>1900</td>\n",
              "      <td>BAXTER, Irving</td>\n",
              "      <td>athletics</td>\n",
              "      <td>5</td>\n",
              "    </tr>\n",
              "    <tr>\n",
              "      <th>2</th>\n",
              "      <td>1904</td>\n",
              "      <td>HEIDA, Anton</td>\n",
              "      <td>gymnastics</td>\n",
              "      <td>6</td>\n",
              "    </tr>\n",
              "    <tr>\n",
              "      <th>3</th>\n",
              "      <td>1908</td>\n",
              "      <td>SHEPPARD, Melvin</td>\n",
              "      <td>athletics</td>\n",
              "      <td>3</td>\n",
              "    </tr>\n",
              "    <tr>\n",
              "      <th>4</th>\n",
              "      <td>1912</td>\n",
              "      <td>OSBURN, Carl Townsend</td>\n",
              "      <td>shooting</td>\n",
              "      <td>4</td>\n",
              "    </tr>\n",
              "    <tr>\n",
              "      <th>5</th>\n",
              "      <td>1920</td>\n",
              "      <td>LEE, Willis</td>\n",
              "      <td>shooting</td>\n",
              "      <td>7</td>\n",
              "    </tr>\n",
              "    <tr>\n",
              "      <th>6</th>\n",
              "      <td>1924</td>\n",
              "      <td>WEISSMULLER, Johnny</td>\n",
              "      <td>aquatics</td>\n",
              "      <td>4</td>\n",
              "    </tr>\n",
              "    <tr>\n",
              "      <th>7</th>\n",
              "      <td>1928</td>\n",
              "      <td>WEISSMULLER, Johnny</td>\n",
              "      <td>aquatics</td>\n",
              "      <td>2</td>\n",
              "    </tr>\n",
              "    <tr>\n",
              "      <th>8</th>\n",
              "      <td>1932</td>\n",
              "      <td>MADISON, Helene</td>\n",
              "      <td>aquatics</td>\n",
              "      <td>3</td>\n",
              "    </tr>\n",
              "    <tr>\n",
              "      <th>9</th>\n",
              "      <td>1936</td>\n",
              "      <td>OWENS, Jesse</td>\n",
              "      <td>athletics</td>\n",
              "      <td>4</td>\n",
              "    </tr>\n",
              "    <tr>\n",
              "      <th>10</th>\n",
              "      <td>1948</td>\n",
              "      <td>MCLANE, James Price Jr.</td>\n",
              "      <td>aquatics</td>\n",
              "      <td>3</td>\n",
              "    </tr>\n",
              "    <tr>\n",
              "      <th>11</th>\n",
              "      <td>1952</td>\n",
              "      <td>KONNO, Ford Hiroshi</td>\n",
              "      <td>aquatics</td>\n",
              "      <td>3</td>\n",
              "    </tr>\n",
              "    <tr>\n",
              "      <th>12</th>\n",
              "      <td>1956</td>\n",
              "      <td>MORROW, Robert Joseph</td>\n",
              "      <td>athletics</td>\n",
              "      <td>3</td>\n",
              "    </tr>\n",
              "    <tr>\n",
              "      <th>13</th>\n",
              "      <td>1960</td>\n",
              "      <td>VON SALTZA, Susan Christina</td>\n",
              "      <td>aquatics</td>\n",
              "      <td>4</td>\n",
              "    </tr>\n",
              "    <tr>\n",
              "      <th>14</th>\n",
              "      <td>1964</td>\n",
              "      <td>SCHOLLANDER, Donald Arthur</td>\n",
              "      <td>aquatics</td>\n",
              "      <td>4</td>\n",
              "    </tr>\n",
              "    <tr>\n",
              "      <th>15</th>\n",
              "      <td>1968</td>\n",
              "      <td>HICKCOX, Charles Buchanan</td>\n",
              "      <td>aquatics</td>\n",
              "      <td>4</td>\n",
              "    </tr>\n",
              "    <tr>\n",
              "      <th>16</th>\n",
              "      <td>1972</td>\n",
              "      <td>SPITZ, Mark</td>\n",
              "      <td>aquatics</td>\n",
              "      <td>7</td>\n",
              "    </tr>\n",
              "    <tr>\n",
              "      <th>17</th>\n",
              "      <td>1976</td>\n",
              "      <td>NABER, John Phillips</td>\n",
              "      <td>aquatics</td>\n",
              "      <td>5</td>\n",
              "    </tr>\n",
              "    <tr>\n",
              "      <th>18</th>\n",
              "      <td>1984</td>\n",
              "      <td>RETTON, Mary-Lou</td>\n",
              "      <td>gymnastics</td>\n",
              "      <td>5</td>\n",
              "    </tr>\n",
              "    <tr>\n",
              "      <th>19</th>\n",
              "      <td>1988</td>\n",
              "      <td>BIONDI, Matthew</td>\n",
              "      <td>aquatics</td>\n",
              "      <td>7</td>\n",
              "    </tr>\n",
              "    <tr>\n",
              "      <th>20</th>\n",
              "      <td>1992</td>\n",
              "      <td>MILLER, Shannon</td>\n",
              "      <td>gymnastics</td>\n",
              "      <td>5</td>\n",
              "    </tr>\n",
              "    <tr>\n",
              "      <th>21</th>\n",
              "      <td>1996</td>\n",
              "      <td>VAN DYKEN, Amy</td>\n",
              "      <td>aquatics</td>\n",
              "      <td>4</td>\n",
              "    </tr>\n",
              "    <tr>\n",
              "      <th>22</th>\n",
              "      <td>2000</td>\n",
              "      <td>TORRES, Dara</td>\n",
              "      <td>aquatics</td>\n",
              "      <td>5</td>\n",
              "    </tr>\n",
              "    <tr>\n",
              "      <th>23</th>\n",
              "      <td>2004</td>\n",
              "      <td>PHELPS, Michael</td>\n",
              "      <td>aquatics</td>\n",
              "      <td>8</td>\n",
              "    </tr>\n",
              "    <tr>\n",
              "      <th>24</th>\n",
              "      <td>2008</td>\n",
              "      <td>PHELPS, Michael</td>\n",
              "      <td>aquatics</td>\n",
              "      <td>8</td>\n",
              "    </tr>\n",
              "  </tbody>\n",
              "</table>\n",
              "</div>\n",
              "    <div class=\"colab-df-buttons\">\n",
              "\n",
              "  <div class=\"colab-df-container\">\n",
              "    <button class=\"colab-df-convert\" onclick=\"convertToInteractive('df-926f1f70-8d5a-42e9-82b1-f338de8de037')\"\n",
              "            title=\"Convert this dataframe to an interactive table.\"\n",
              "            style=\"display:none;\">\n",
              "\n",
              "  <svg xmlns=\"http://www.w3.org/2000/svg\" height=\"24px\" viewBox=\"0 -960 960 960\">\n",
              "    <path d=\"M120-120v-720h720v720H120Zm60-500h600v-160H180v160Zm220 220h160v-160H400v160Zm0 220h160v-160H400v160ZM180-400h160v-160H180v160Zm440 0h160v-160H620v160ZM180-180h160v-160H180v160Zm440 0h160v-160H620v160Z\"/>\n",
              "  </svg>\n",
              "    </button>\n",
              "\n",
              "  <style>\n",
              "    .colab-df-container {\n",
              "      display:flex;\n",
              "      gap: 12px;\n",
              "    }\n",
              "\n",
              "    .colab-df-convert {\n",
              "      background-color: #E8F0FE;\n",
              "      border: none;\n",
              "      border-radius: 50%;\n",
              "      cursor: pointer;\n",
              "      display: none;\n",
              "      fill: #1967D2;\n",
              "      height: 32px;\n",
              "      padding: 0 0 0 0;\n",
              "      width: 32px;\n",
              "    }\n",
              "\n",
              "    .colab-df-convert:hover {\n",
              "      background-color: #E2EBFA;\n",
              "      box-shadow: 0px 1px 2px rgba(60, 64, 67, 0.3), 0px 1px 3px 1px rgba(60, 64, 67, 0.15);\n",
              "      fill: #174EA6;\n",
              "    }\n",
              "\n",
              "    .colab-df-buttons div {\n",
              "      margin-bottom: 4px;\n",
              "    }\n",
              "\n",
              "    [theme=dark] .colab-df-convert {\n",
              "      background-color: #3B4455;\n",
              "      fill: #D2E3FC;\n",
              "    }\n",
              "\n",
              "    [theme=dark] .colab-df-convert:hover {\n",
              "      background-color: #434B5C;\n",
              "      box-shadow: 0px 1px 3px 1px rgba(0, 0, 0, 0.15);\n",
              "      filter: drop-shadow(0px 1px 2px rgba(0, 0, 0, 0.3));\n",
              "      fill: #FFFFFF;\n",
              "    }\n",
              "  </style>\n",
              "\n",
              "    <script>\n",
              "      const buttonEl =\n",
              "        document.querySelector('#df-926f1f70-8d5a-42e9-82b1-f338de8de037 button.colab-df-convert');\n",
              "      buttonEl.style.display =\n",
              "        google.colab.kernel.accessAllowed ? 'block' : 'none';\n",
              "\n",
              "      async function convertToInteractive(key) {\n",
              "        const element = document.querySelector('#df-926f1f70-8d5a-42e9-82b1-f338de8de037');\n",
              "        const dataTable =\n",
              "          await google.colab.kernel.invokeFunction('convertToInteractive',\n",
              "                                                    [key], {});\n",
              "        if (!dataTable) return;\n",
              "\n",
              "        const docLinkHtml = 'Like what you see? Visit the ' +\n",
              "          '<a target=\"_blank\" href=https://colab.research.google.com/notebooks/data_table.ipynb>data table notebook</a>'\n",
              "          + ' to learn more about interactive tables.';\n",
              "        element.innerHTML = '';\n",
              "        dataTable['output_type'] = 'display_data';\n",
              "        await google.colab.output.renderOutput(dataTable, element);\n",
              "        const docLink = document.createElement('div');\n",
              "        docLink.innerHTML = docLinkHtml;\n",
              "        element.appendChild(docLink);\n",
              "      }\n",
              "    </script>\n",
              "  </div>\n",
              "\n",
              "\n",
              "<div id=\"df-8df440c4-82e6-4ee3-a3e9-ff0f75523a70\">\n",
              "  <button class=\"colab-df-quickchart\" onclick=\"quickchart('df-8df440c4-82e6-4ee3-a3e9-ff0f75523a70')\"\n",
              "            title=\"Suggest charts\"\n",
              "            style=\"display:none;\">\n",
              "\n",
              "<svg xmlns=\"http://www.w3.org/2000/svg\" height=\"24px\"viewBox=\"0 0 24 24\"\n",
              "     width=\"24px\">\n",
              "    <g>\n",
              "        <path d=\"M19 3H5c-1.1 0-2 .9-2 2v14c0 1.1.9 2 2 2h14c1.1 0 2-.9 2-2V5c0-1.1-.9-2-2-2zM9 17H7v-7h2v7zm4 0h-2V7h2v10zm4 0h-2v-4h2v4z\"/>\n",
              "    </g>\n",
              "</svg>\n",
              "  </button>\n",
              "\n",
              "<style>\n",
              "  .colab-df-quickchart {\n",
              "      --bg-color: #E8F0FE;\n",
              "      --fill-color: #1967D2;\n",
              "      --hover-bg-color: #E2EBFA;\n",
              "      --hover-fill-color: #174EA6;\n",
              "      --disabled-fill-color: #AAA;\n",
              "      --disabled-bg-color: #DDD;\n",
              "  }\n",
              "\n",
              "  [theme=dark] .colab-df-quickchart {\n",
              "      --bg-color: #3B4455;\n",
              "      --fill-color: #D2E3FC;\n",
              "      --hover-bg-color: #434B5C;\n",
              "      --hover-fill-color: #FFFFFF;\n",
              "      --disabled-bg-color: #3B4455;\n",
              "      --disabled-fill-color: #666;\n",
              "  }\n",
              "\n",
              "  .colab-df-quickchart {\n",
              "    background-color: var(--bg-color);\n",
              "    border: none;\n",
              "    border-radius: 50%;\n",
              "    cursor: pointer;\n",
              "    display: none;\n",
              "    fill: var(--fill-color);\n",
              "    height: 32px;\n",
              "    padding: 0;\n",
              "    width: 32px;\n",
              "  }\n",
              "\n",
              "  .colab-df-quickchart:hover {\n",
              "    background-color: var(--hover-bg-color);\n",
              "    box-shadow: 0 1px 2px rgba(60, 64, 67, 0.3), 0 1px 3px 1px rgba(60, 64, 67, 0.15);\n",
              "    fill: var(--button-hover-fill-color);\n",
              "  }\n",
              "\n",
              "  .colab-df-quickchart-complete:disabled,\n",
              "  .colab-df-quickchart-complete:disabled:hover {\n",
              "    background-color: var(--disabled-bg-color);\n",
              "    fill: var(--disabled-fill-color);\n",
              "    box-shadow: none;\n",
              "  }\n",
              "\n",
              "  .colab-df-spinner {\n",
              "    border: 2px solid var(--fill-color);\n",
              "    border-color: transparent;\n",
              "    border-bottom-color: var(--fill-color);\n",
              "    animation:\n",
              "      spin 1s steps(1) infinite;\n",
              "  }\n",
              "\n",
              "  @keyframes spin {\n",
              "    0% {\n",
              "      border-color: transparent;\n",
              "      border-bottom-color: var(--fill-color);\n",
              "      border-left-color: var(--fill-color);\n",
              "    }\n",
              "    20% {\n",
              "      border-color: transparent;\n",
              "      border-left-color: var(--fill-color);\n",
              "      border-top-color: var(--fill-color);\n",
              "    }\n",
              "    30% {\n",
              "      border-color: transparent;\n",
              "      border-left-color: var(--fill-color);\n",
              "      border-top-color: var(--fill-color);\n",
              "      border-right-color: var(--fill-color);\n",
              "    }\n",
              "    40% {\n",
              "      border-color: transparent;\n",
              "      border-right-color: var(--fill-color);\n",
              "      border-top-color: var(--fill-color);\n",
              "    }\n",
              "    60% {\n",
              "      border-color: transparent;\n",
              "      border-right-color: var(--fill-color);\n",
              "    }\n",
              "    80% {\n",
              "      border-color: transparent;\n",
              "      border-right-color: var(--fill-color);\n",
              "      border-bottom-color: var(--fill-color);\n",
              "    }\n",
              "    90% {\n",
              "      border-color: transparent;\n",
              "      border-bottom-color: var(--fill-color);\n",
              "    }\n",
              "  }\n",
              "</style>\n",
              "\n",
              "  <script>\n",
              "    async function quickchart(key) {\n",
              "      const quickchartButtonEl =\n",
              "        document.querySelector('#' + key + ' button');\n",
              "      quickchartButtonEl.disabled = true;  // To prevent multiple clicks.\n",
              "      quickchartButtonEl.classList.add('colab-df-spinner');\n",
              "      try {\n",
              "        const charts = await google.colab.kernel.invokeFunction(\n",
              "            'suggestCharts', [key], {});\n",
              "      } catch (error) {\n",
              "        console.error('Error during call to suggestCharts:', error);\n",
              "      }\n",
              "      quickchartButtonEl.classList.remove('colab-df-spinner');\n",
              "      quickchartButtonEl.classList.add('colab-df-quickchart-complete');\n",
              "    }\n",
              "    (() => {\n",
              "      let quickchartButtonEl =\n",
              "        document.querySelector('#df-8df440c4-82e6-4ee3-a3e9-ff0f75523a70 button');\n",
              "      quickchartButtonEl.style.display =\n",
              "        google.colab.kernel.accessAllowed ? 'block' : 'none';\n",
              "    })();\n",
              "  </script>\n",
              "</div>\n",
              "\n",
              "    </div>\n",
              "  </div>\n"
            ],
            "application/vnd.google.colaboratory.intrinsic+json": {
              "type": "dataframe",
              "summary": "{\n  \"name\": \"pd\",\n  \"rows\": 25,\n  \"fields\": [\n    {\n      \"column\": \"Year\",\n      \"properties\": {\n        \"dtype\": \"number\",\n        \"std\": 35,\n        \"min\": 1896,\n        \"max\": 2008,\n        \"num_unique_values\": 25,\n        \"samples\": [\n          1932,\n          1972,\n          1896\n        ],\n        \"semantic_type\": \"\",\n        \"description\": \"\"\n      }\n    },\n    {\n      \"column\": \"Athlete Name\",\n      \"properties\": {\n        \"dtype\": \"string\",\n        \"num_unique_values\": 23,\n        \"samples\": [\n          \"SPITZ, Mark\",\n          \"MCLANE, James Price Jr.\",\n          \"GARRETT, Robert\"\n        ],\n        \"semantic_type\": \"\",\n        \"description\": \"\"\n      }\n    },\n    {\n      \"column\": \"Sport\",\n      \"properties\": {\n        \"dtype\": \"string\",\n        \"num_unique_values\": 4,\n        \"samples\": [\n          \"gymnastics\",\n          \"aquatics\",\n          \"athletics\"\n        ],\n        \"semantic_type\": \"\",\n        \"description\": \"\"\n      }\n    },\n    {\n      \"column\": \"Total\",\n      \"properties\": {\n        \"dtype\": \"number\",\n        \"std\": 1,\n        \"min\": 2,\n        \"max\": 8,\n        \"num_unique_values\": 7,\n        \"samples\": [\n          4,\n          5,\n          2\n        ],\n        \"semantic_type\": \"\",\n        \"description\": \"\"\n      }\n    }\n  ]\n}"
            }
          },
          "metadata": {},
          "execution_count": 21
        }
      ]
    },
    {
      "cell_type": "code",
      "source": [],
      "metadata": {
        "id": "mkGHzL79b0v2"
      },
      "execution_count": null,
      "outputs": []
    },
    {
      "cell_type": "code",
      "source": [],
      "metadata": {
        "id": "ysqHxer4b0m2"
      },
      "execution_count": null,
      "outputs": []
    },
    {
      "cell_type": "code",
      "source": [],
      "metadata": {
        "id": "VntgwLJzb0i_"
      },
      "execution_count": null,
      "outputs": []
    },
    {
      "cell_type": "code",
      "source": [],
      "metadata": {
        "id": "O01B55rUb0ec"
      },
      "execution_count": null,
      "outputs": []
    }
  ],
  "metadata": {
    "colab": {
      "collapsed_sections": [
        "nIp_KPjfO4J9",
        "1QP__-BYFIFN",
        "LRcakh4dQzWs",
        "vto6K36OcbBY",
        "Y7NNcfO4xlea",
        "cXD8zRjrB0vc",
        "dVneSuG42rEV",
        "Ckw-4M9hpoa3",
        "W9Nhfv3LkjL0",
        "KoS5odaaWiBi",
        "IEMaZhWNgH8S",
        "PLavnC_tldUv",
        "f6JGaT7avvyR",
        "B66y0jue2DMa",
        "gIiaB-pcEKdf",
        "tW9suZ3CGCpG",
        "fBBqvMS_uhNk",
        "RM1S3nJ0vcXs",
        "Z0rYN2NIPxNZ",
        "mFDo3MYfd60y",
        "bU802QvxZOh_",
        "DEyNm2RLoeGd",
        "FematpDlyP3J",
        "emB7XuGpBOPu",
        "Utjd5YTX5ruR",
        "UbtEix9Y-6Uc",
        "L1yiHNB0Ohfm",
        "nC0B3PtWD0H1",
        "BdOwoiXDISBA",
        "kH9DmNEweaVZ",
        "486bDzcSDjs9",
        "Qr68snfKFo33",
        "G4oDXcOu6cNf"
      ],
      "provenance": []
    },
    "gpuClass": "standard",
    "kernelspec": {
      "display_name": "Python 3",
      "name": "python3"
    },
    "language_info": {
      "name": "python"
    }
  },
  "nbformat": 4,
  "nbformat_minor": 0
}